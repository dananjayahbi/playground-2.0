{
 "cells": [
  {
   "cell_type": "code",
   "execution_count": 14,
   "metadata": {},
   "outputs": [],
   "source": [
    "import torch\n",
    "import os\n",
    "import torch.nn as nn\n",
    "import torch.nn.functional as F\n",
    "import torchvision\n",
    "from torchvision import datasets, transforms\n",
    "from PIL import Image\n",
    "import faiss\n",
    "import numpy as np\n",
    "from tqdm import tqdm  # Import tqdm for progress bar\n",
    "import random"
   ]
  },
  {
   "cell_type": "code",
   "execution_count": 15,
   "metadata": {},
   "outputs": [],
   "source": [
    "# --- Dynamic Sparse Activation (DSA) Gate ---\n",
    "class DSAGate(nn.Module):\n",
    "    def __init__(self, in_channels, sparsity=0.1):\n",
    "        super().__init__()\n",
    "        self.sparsity = sparsity\n",
    "        self.gate = nn.Sequential(\n",
    "            nn.Conv2d(in_channels, 16, 3, padding=1),\n",
    "            nn.AdaptiveAvgPool2d(1),  # Reduce spatial dimensions to (B, C, 1, 1)\n",
    "            nn.Flatten(),  # Flatten to shape (B, C)\n",
    "            nn.Linear(16, in_channels)  # Transform to (B, in_channels)\n",
    "        )\n",
    "\n",
    "    def forward(self, x):\n",
    "        scores = self.gate(x).squeeze()  # (B, C) during training, but may be (C,) during inference\n",
    "\n",
    "        print(f\"DEBUG: scores.shape = {scores.shape}\")  # 🔍 Debugging line\n",
    "\n",
    "        # Ensure `scores` has a batch dimension\n",
    "        if scores.dim() == 1:  # If shape is (C,) instead of (B, C), add batch dimension\n",
    "            scores = scores.unsqueeze(0)  # Make shape (1, C)\n",
    "\n",
    "        # Compute per-batch threshold, instead of a single global one\n",
    "        thresholds = torch.quantile(scores, 1 - self.sparsity, dim=1, keepdim=True)  # (B, 1)\n",
    "\n",
    "        mask = (scores > thresholds).float()  # (B, C)\n",
    "\n",
    "        # Ensure the mask is reshaped properly to match (B, C, H, W)\n",
    "        return x * mask.view(x.shape[0], x.shape[1], 1, 1)  # Correct broadcasting\n"
   ]
  },
  {
   "cell_type": "code",
   "execution_count": 16,
   "metadata": {},
   "outputs": [],
   "source": [
    "# --- Associative Memory Module (AMM) ---\n",
    "class AMM(nn.Module):\n",
    "    def __init__(self, prototype_dim):\n",
    "        super().__init__()\n",
    "        self.prototype_dim = prototype_dim\n",
    "        self.prototypes = faiss.IndexFlatL2(prototype_dim)\n",
    "        self.prototype_data = []\n",
    "\n",
    "    def add_prototypes(self, embeddings):\n",
    "        embeddings_np = embeddings.detach().cpu().numpy().astype('float32')\n",
    "\n",
    "        # Reset FAISS index to avoid duplicate entries\n",
    "        self.prototypes.reset()\n",
    "\n",
    "        if len(self.prototype_data) == 0:\n",
    "            self.prototypes.add(embeddings_np)\n",
    "        else:\n",
    "            self.prototypes.add(np.concatenate([self.prototype_data[-1], embeddings_np]))\n",
    "\n",
    "        self.prototype_data.append(embeddings_np)\n",
    "\n",
    "    def forward(self, x):\n",
    "        if len(self.prototype_data) == 0:\n",
    "            raise RuntimeError(\"No prototypes available in FAISS. Ensure prototypes are added before training.\")\n",
    "\n",
    "        x_np = x.detach().cpu().numpy().astype('float32')\n",
    "\n",
    "        # Ensure FAISS index has prototypes\n",
    "        if self.prototypes.ntotal == 0:\n",
    "            raise RuntimeError(\"FAISS index is empty! No prototypes were added.\")\n",
    "        \n",
    "        MIN_PROTOTYPES = 10  # Adjust this value if needed\n",
    "\n",
    "        if self.prototypes.ntotal < MIN_PROTOTYPES:\n",
    "            raise RuntimeError(f\"Not enough prototypes for FAISS search. Found {self.prototypes.ntotal}, but need at least {MIN_PROTOTYPES}.\")\n",
    "\n",
    "        # Perform FAISS search\n",
    "        _, indices = self.prototypes.search(x_np, 1)\n",
    "\n",
    "        # Ensure indices are within bounds\n",
    "        valid_indices = [idx[0] for idx in indices if 0 <= idx[0] < len(self.prototype_data[0])]\n",
    "\n",
    "        if len(valid_indices) == 0:\n",
    "            raise RuntimeError(f\"FAISS returned invalid indices. Expected range: 0-{len(self.prototype_data[0])-1}, Got: {indices}\")\n",
    "\n",
    "        return torch.stack([torch.from_numpy(self.prototype_data[0][idx]) for idx in valid_indices]).to(x.device)\n"
   ]
  },
  {
   "cell_type": "code",
   "execution_count": 17,
   "metadata": {},
   "outputs": [],
   "source": [
    "# --- Main Network ---\n",
    "class NDSPC_CatDetector(nn.Module):\n",
    "    def __init__(self, img_size=64):\n",
    "        super().__init__()\n",
    "        self.conv1 = nn.Conv2d(3, 16, 3, padding=1)\n",
    "        self.dsa_gate = DSAGate(16, sparsity=0.2)\n",
    "        \n",
    "        # Calculate prototype dimension based on conv1 output\n",
    "        with torch.no_grad():\n",
    "            dummy_input = torch.zeros(1, 3, img_size, img_size)\n",
    "            features = self.conv1(dummy_input)\n",
    "            self.prototype_dim = features.numel() // features.shape[0]\n",
    "        \n",
    "        self.amm = AMM(self.prototype_dim)\n",
    "        self.predictor = nn.Linear(self.prototype_dim, 1)\n",
    "\n",
    "    def forward(self, x):\n",
    "        x = F.relu(self.conv1(x))\n",
    "        x = self.dsa_gate(x)\n",
    "        x_flat = x.view(x.size(0), -1)\n",
    "        prototype = self.amm(x_flat)\n",
    "        return torch.sigmoid(self.predictor(prototype)).squeeze()"
   ]
  },
  {
   "cell_type": "code",
   "execution_count": 18,
   "metadata": {},
   "outputs": [
    {
     "name": "stdout",
     "output_type": "stream",
     "text": [
      "Using device: cuda:0\n"
     ]
    }
   ],
   "source": [
    "# Hyperparameters\n",
    "SPARSITY = 0.2\n",
    "LR = 0.001\n",
    "BATCH_SIZE = 8\n",
    "IMG_SIZE = 64\n",
    "torch.backends.cudnn.benchmark = True  # Optimize performance\n",
    "\n",
    "if torch.cuda.is_available():\n",
    "    DEVICE = \"cuda:0\"\n",
    "    torch.cuda.empty_cache()  # Clears any cached memory\n",
    "else:\n",
    "    DEVICE = \"cpu\"\n",
    "\n",
    "print(f\"Using device: {DEVICE}\")"
   ]
  },
  {
   "cell_type": "code",
   "execution_count": 19,
   "metadata": {},
   "outputs": [],
   "source": [
    "# Data Loading\n",
    "transform = transforms.Compose([\n",
    "    transforms.Resize((IMG_SIZE, IMG_SIZE)),\n",
    "    transforms.ToTensor(),\n",
    "])\n",
    "\n",
    "train_dataset = datasets.ImageFolder(\"data/train\", transform=transform)\n",
    "train_loader = torch.utils.data.DataLoader(train_dataset, batch_size=BATCH_SIZE, shuffle=True)\n",
    "\n",
    "# Initialize Model\n",
    "model = NDSPC_CatDetector(img_size=IMG_SIZE).to(DEVICE)\n",
    "optimizer = torch.optim.Adam(model.parameters(), lr=LR)\n",
    "\n",
    "# 🔹 Fix OpenMP conflict\n",
    "os.environ[\"KMP_DUPLICATE_LIB_OK\"] = \"TRUE\"\n",
    "\n",
    "# 🔹 Limit FAISS OpenMP threads to avoid conflicts\n",
    "faiss.omp_set_num_threads(4)\n",
    "\n",
    "# 🔹 Reduce PyTorch thread usage (Intel CPUs)\n",
    "torch.set_num_threads(4)"
   ]
  },
  {
   "cell_type": "code",
   "execution_count": 22,
   "metadata": {},
   "outputs": [
    {
     "name": "stdout",
     "output_type": "stream",
     "text": [
      "Pretraining prototypes...\n"
     ]
    },
    {
     "name": "stderr",
     "output_type": "stream",
     "text": [
      "Building Prototypes: 100%|██████████| 38/38 [00:00<00:00, 47.05batch/s]"
     ]
    },
    {
     "name": "stdout",
     "output_type": "stream",
     "text": [
      "Total prototypes added: 76\n",
      "FAISS index size: 12\n"
     ]
    },
    {
     "name": "stderr",
     "output_type": "stream",
     "text": [
      "\n"
     ]
    }
   ],
   "source": [
    "# Phase 1: Prototype Learning with Progress Bar\n",
    "print(\"Pretraining prototypes...\")\n",
    "model.eval()\n",
    "with torch.no_grad():\n",
    "    for images, _ in tqdm(train_loader, desc=\"Building Prototypes\", unit=\"batch\"):\n",
    "        images = images.to(DEVICE)\n",
    "        features = model.conv1(images)\n",
    "        features_flat = features.view(features.size(0), -1)\n",
    "        model.amm.add_prototypes(features_flat)\n",
    "\n",
    "# Print FAISS Index Size\n",
    "print(f\"Total prototypes added: {len(model.amm.prototype_data)}\")\n",
    "print(f\"FAISS index size: {model.amm.prototypes.ntotal}\")  # Check FAISS index"
   ]
  },
  {
   "cell_type": "code",
   "execution_count": 28,
   "metadata": {},
   "outputs": [
    {
     "name": "stdout",
     "output_type": "stream",
     "text": [
      "Fine-tuning...\n"
     ]
    },
    {
     "name": "stderr",
     "output_type": "stream",
     "text": [
      "Epoch 1:   8%|▊         | 3/38 [00:00<00:01, 26.15batch/s, loss=37.5000]"
     ]
    },
    {
     "name": "stdout",
     "output_type": "stream",
     "text": [
      "DEBUG: scores.shape = torch.Size([8, 16])\n",
      "DEBUG: scores.shape = torch.Size([8, 16])\n",
      "DEBUG: scores.shape = torch.Size([8, 16])\n",
      "DEBUG: scores.shape = torch.Size([8, 16])\n",
      "DEBUG: scores.shape = torch.Size([8, 16])\n",
      "DEBUG: scores.shape = torch.Size([8, 16])\n",
      "DEBUG: scores.shape = torch.Size([8, 16])\n"
     ]
    },
    {
     "name": "stderr",
     "output_type": "stream",
     "text": [
      "Epoch 1:  29%|██▉       | 11/38 [00:00<00:00, 33.05batch/s, loss=37.5000]"
     ]
    },
    {
     "name": "stdout",
     "output_type": "stream",
     "text": [
      "DEBUG: scores.shape = torch.Size([8, 16])\n",
      "DEBUG: scores.shape = torch.Size([8, 16])\n",
      "DEBUG: scores.shape = torch.Size([8, 16])\n",
      "DEBUG: scores.shape = torch.Size([8, 16])\n",
      "DEBUG: scores.shape = torch.Size([8, 16])\n",
      "DEBUG: scores.shape = torch.Size([8, 16])\n"
     ]
    },
    {
     "name": "stderr",
     "output_type": "stream",
     "text": [
      "Epoch 1:  29%|██▉       | 11/38 [00:00<00:00, 33.05batch/s, loss=37.5000]"
     ]
    },
    {
     "name": "stdout",
     "output_type": "stream",
     "text": [
      "DEBUG: scores.shape = torch.Size([8, 16])\n"
     ]
    },
    {
     "name": "stderr",
     "output_type": "stream",
     "text": [
      "Epoch 1:  50%|█████     | 19/38 [00:00<00:00, 33.09batch/s, loss=75.0000]"
     ]
    },
    {
     "name": "stdout",
     "output_type": "stream",
     "text": [
      "DEBUG: scores.shape = torch.Size([8, 16])\n",
      "DEBUG: scores.shape = torch.Size([8, 16])\n",
      "DEBUG: scores.shape = torch.Size([8, 16])\n",
      "DEBUG: scores.shape = torch.Size([8, 16])\n",
      "DEBUG: scores.shape = torch.Size([8, 16])\n",
      "DEBUG: scores.shape = torch.Size([8, 16])\n"
     ]
    },
    {
     "name": "stderr",
     "output_type": "stream",
     "text": [
      "Epoch 1:  50%|█████     | 19/38 [00:00<00:00, 33.09batch/s, loss=37.5000]"
     ]
    },
    {
     "name": "stdout",
     "output_type": "stream",
     "text": [
      "DEBUG: scores.shape = torch.Size([8, 16])\n"
     ]
    },
    {
     "name": "stderr",
     "output_type": "stream",
     "text": [
      "Epoch 1:  61%|██████    | 23/38 [00:00<00:00, 33.39batch/s, loss=62.5000]"
     ]
    },
    {
     "name": "stdout",
     "output_type": "stream",
     "text": [
      "DEBUG: scores.shape = torch.Size([8, 16])\n",
      "DEBUG: scores.shape = torch.Size([8, 16])\n",
      "DEBUG: scores.shape = torch.Size([8, 16])\n",
      "DEBUG: scores.shape = torch.Size([8, 16])\n",
      "DEBUG: scores.shape = torch.Size([8, 16])\n",
      "DEBUG: scores.shape = torch.Size([8, 16])\n"
     ]
    },
    {
     "name": "stderr",
     "output_type": "stream",
     "text": [
      "Epoch 1:  71%|███████   | 27/38 [00:00<00:00, 34.59batch/s, loss=25.0000]"
     ]
    },
    {
     "name": "stdout",
     "output_type": "stream",
     "text": [
      "DEBUG: scores.shape = torch.Size([8, 16])\n"
     ]
    },
    {
     "name": "stderr",
     "output_type": "stream",
     "text": [
      "Epoch 1:  82%|████████▏ | 31/38 [00:01<00:00, 34.00batch/s, loss=50.0000]"
     ]
    },
    {
     "name": "stdout",
     "output_type": "stream",
     "text": [
      "DEBUG: scores.shape = torch.Size([8, 16])\n",
      "DEBUG: scores.shape = torch.Size([8, 16])\n",
      "DEBUG: scores.shape = torch.Size([8, 16])\n",
      "DEBUG: scores.shape = torch.Size([8, 16])\n",
      "DEBUG: scores.shape = torch.Size([8, 16])\n",
      "DEBUG: scores.shape = torch.Size([8, 16])\n",
      "DEBUG: scores.shape = torch.Size([8, 16])\n"
     ]
    },
    {
     "name": "stderr",
     "output_type": "stream",
     "text": [
      "Epoch 1:  92%|█████████▏| 35/38 [00:01<00:00, 34.97batch/s, loss=50.0000]"
     ]
    },
    {
     "name": "stdout",
     "output_type": "stream",
     "text": [
      "DEBUG: scores.shape = torch.Size([8, 16])\n"
     ]
    },
    {
     "name": "stderr",
     "output_type": "stream",
     "text": [
      "Epoch 1: 100%|██████████| 38/38 [00:01<00:00, 34.23batch/s, loss=25.0000]\n"
     ]
    },
    {
     "name": "stdout",
     "output_type": "stream",
     "text": [
      "DEBUG: scores.shape = torch.Size([8, 16])\n",
      "DEBUG: scores.shape = torch.Size([4, 16])\n",
      "Epoch 1, Loss: 49.6711\n"
     ]
    },
    {
     "name": "stderr",
     "output_type": "stream",
     "text": [
      "Epoch 2:   0%|          | 0/38 [00:00<?, ?batch/s, loss=37.5000]"
     ]
    },
    {
     "name": "stdout",
     "output_type": "stream",
     "text": [
      "DEBUG: scores.shape = torch.Size([8, 16])\n",
      "DEBUG: scores.shape = torch.Size([8, 16])\n",
      "DEBUG: scores.shape = torch.Size([8, 16])\n",
      "DEBUG: scores.shape = torch.Size([8, 16])\n"
     ]
    },
    {
     "name": "stderr",
     "output_type": "stream",
     "text": [
      "Epoch 2:  11%|█         | 4/38 [00:00<00:00, 34.48batch/s, loss=50.0000]"
     ]
    },
    {
     "name": "stdout",
     "output_type": "stream",
     "text": [
      "DEBUG: scores.shape = torch.Size([8, 16])\n",
      "DEBUG: scores.shape = torch.Size([8, 16])\n"
     ]
    },
    {
     "name": "stderr",
     "output_type": "stream",
     "text": [
      "Epoch 2:  11%|█         | 4/38 [00:00<00:00, 34.48batch/s, loss=62.5000]"
     ]
    },
    {
     "name": "stdout",
     "output_type": "stream",
     "text": [
      "DEBUG: scores.shape = torch.Size([8, 16])\n"
     ]
    },
    {
     "name": "stderr",
     "output_type": "stream",
     "text": [
      "Epoch 2:  21%|██        | 8/38 [00:00<00:00, 36.98batch/s, loss=50.0000]"
     ]
    },
    {
     "name": "stdout",
     "output_type": "stream",
     "text": [
      "DEBUG: scores.shape = torch.Size([8, 16])\n",
      "DEBUG: scores.shape = torch.Size([8, 16])\n",
      "DEBUG: scores.shape = torch.Size([8, 16])\n",
      "DEBUG: scores.shape = torch.Size([8, 16])\n",
      "DEBUG: scores.shape = torch.Size([8, 16])\n"
     ]
    },
    {
     "name": "stderr",
     "output_type": "stream",
     "text": [
      "Epoch 2:  32%|███▏      | 12/38 [00:00<00:00, 35.77batch/s, loss=87.5000]"
     ]
    },
    {
     "name": "stdout",
     "output_type": "stream",
     "text": [
      "DEBUG: scores.shape = torch.Size([8, 16])\n",
      "DEBUG: scores.shape = torch.Size([8, 16])\n"
     ]
    },
    {
     "name": "stderr",
     "output_type": "stream",
     "text": [
      "Epoch 2:  32%|███▏      | 12/38 [00:00<00:00, 35.77batch/s, loss=50.0000]"
     ]
    },
    {
     "name": "stdout",
     "output_type": "stream",
     "text": [
      "DEBUG: scores.shape = torch.Size([8, 16])\n",
      "DEBUG: scores.shape = torch.Size([8, 16])\n"
     ]
    },
    {
     "name": "stderr",
     "output_type": "stream",
     "text": [
      "Epoch 2:  42%|████▏     | 16/38 [00:00<00:00, 37.26batch/s, loss=50.0000]"
     ]
    },
    {
     "name": "stdout",
     "output_type": "stream",
     "text": [
      "DEBUG: scores.shape = torch.Size([8, 16])\n",
      "DEBUG: scores.shape = torch.Size([8, 16])\n",
      "DEBUG: scores.shape = torch.Size([8, 16])\n",
      "DEBUG: scores.shape = torch.Size([8, 16])\n"
     ]
    },
    {
     "name": "stderr",
     "output_type": "stream",
     "text": [
      "Epoch 2:  53%|█████▎    | 20/38 [00:00<00:00, 37.95batch/s, loss=37.5000]"
     ]
    },
    {
     "name": "stdout",
     "output_type": "stream",
     "text": [
      "DEBUG: scores.shape = torch.Size([8, 16])\n"
     ]
    },
    {
     "name": "stderr",
     "output_type": "stream",
     "text": [
      "Epoch 2:  53%|█████▎    | 20/38 [00:00<00:00, 37.95batch/s, loss=37.5000]"
     ]
    },
    {
     "name": "stdout",
     "output_type": "stream",
     "text": [
      "DEBUG: scores.shape = torch.Size([8, 16])\n",
      "DEBUG: scores.shape = torch.Size([8, 16])\n",
      "DEBUG: scores.shape = torch.Size([8, 16])\n"
     ]
    },
    {
     "name": "stderr",
     "output_type": "stream",
     "text": [
      "Epoch 2:  63%|██████▎   | 24/38 [00:00<00:00, 35.41batch/s, loss=62.5000]"
     ]
    },
    {
     "name": "stdout",
     "output_type": "stream",
     "text": [
      "DEBUG: scores.shape = torch.Size([8, 16])\n",
      "DEBUG: scores.shape = torch.Size([8, 16])\n",
      "DEBUG: scores.shape = torch.Size([8, 16])\n"
     ]
    },
    {
     "name": "stderr",
     "output_type": "stream",
     "text": [
      "Epoch 2:  74%|███████▎  | 28/38 [00:00<00:00, 33.29batch/s, loss=50.0000]"
     ]
    },
    {
     "name": "stdout",
     "output_type": "stream",
     "text": [
      "DEBUG: scores.shape = torch.Size([8, 16])\n",
      "DEBUG: scores.shape = torch.Size([8, 16])\n",
      "DEBUG: scores.shape = torch.Size([8, 16])\n"
     ]
    },
    {
     "name": "stderr",
     "output_type": "stream",
     "text": [
      "Epoch 2:  84%|████████▍ | 32/38 [00:00<00:00, 34.78batch/s, loss=25.0000]"
     ]
    },
    {
     "name": "stdout",
     "output_type": "stream",
     "text": [
      "DEBUG: scores.shape = torch.Size([8, 16])\n",
      "DEBUG: scores.shape = torch.Size([8, 16])\n",
      "DEBUG: scores.shape = torch.Size([8, 16])\n",
      "DEBUG: scores.shape = torch.Size([8, 16])\n",
      "DEBUG: scores.shape = torch.Size([8, 16])\n"
     ]
    },
    {
     "name": "stderr",
     "output_type": "stream",
     "text": [
      "Epoch 2:  97%|█████████▋| 37/38 [00:01<00:00, 35.93batch/s, loss=75.0000]"
     ]
    },
    {
     "name": "stdout",
     "output_type": "stream",
     "text": [
      "DEBUG: scores.shape = torch.Size([8, 16])\n",
      "DEBUG: scores.shape = torch.Size([8, 16])\n",
      "DEBUG: scores.shape = torch.Size([4, 16])\n"
     ]
    },
    {
     "name": "stderr",
     "output_type": "stream",
     "text": [
      "Epoch 2: 100%|██████████| 38/38 [00:01<00:00, 36.08batch/s, loss=75.0000]\n"
     ]
    },
    {
     "name": "stdout",
     "output_type": "stream",
     "text": [
      "Epoch 2, Loss: 50.3289\n"
     ]
    },
    {
     "name": "stderr",
     "output_type": "stream",
     "text": [
      "Epoch 3:  11%|█         | 4/38 [00:00<00:00, 34.38batch/s, loss=50.0000]"
     ]
    },
    {
     "name": "stdout",
     "output_type": "stream",
     "text": [
      "DEBUG: scores.shape = torch.Size([8, 16])\n",
      "DEBUG: scores.shape = torch.Size([8, 16])\n",
      "DEBUG: scores.shape = torch.Size([8, 16])\n",
      "DEBUG: scores.shape = torch.Size([8, 16])\n",
      "DEBUG: scores.shape = torch.Size([8, 16])\n",
      "DEBUG: scores.shape = torch.Size([8, 16])\n"
     ]
    },
    {
     "name": "stderr",
     "output_type": "stream",
     "text": [
      "Epoch 3:  11%|█         | 4/38 [00:00<00:00, 34.38batch/s, loss=62.5000]"
     ]
    },
    {
     "name": "stdout",
     "output_type": "stream",
     "text": [
      "DEBUG: scores.shape = torch.Size([8, 16])\n",
      "DEBUG: scores.shape = torch.Size([8, 16])\n"
     ]
    },
    {
     "name": "stderr",
     "output_type": "stream",
     "text": [
      "Epoch 3:  34%|███▍      | 13/38 [00:00<00:00, 39.29batch/s, loss=50.0000]"
     ]
    },
    {
     "name": "stdout",
     "output_type": "stream",
     "text": [
      "DEBUG: scores.shape = torch.Size([8, 16])\n",
      "DEBUG: scores.shape = torch.Size([8, 16])\n",
      "DEBUG: scores.shape = torch.Size([8, 16])\n",
      "DEBUG: scores.shape = torch.Size([8, 16])\n",
      "DEBUG: scores.shape = torch.Size([8, 16])\n",
      "DEBUG: scores.shape = torch.Size([8, 16])\n"
     ]
    },
    {
     "name": "stderr",
     "output_type": "stream",
     "text": [
      "Epoch 3:  34%|███▍      | 13/38 [00:00<00:00, 39.29batch/s, loss=50.0000]"
     ]
    },
    {
     "name": "stdout",
     "output_type": "stream",
     "text": [
      "DEBUG: scores.shape = torch.Size([8, 16])\n",
      "DEBUG: scores.shape = torch.Size([8, 16])\n"
     ]
    },
    {
     "name": "stderr",
     "output_type": "stream",
     "text": [
      "Epoch 3:  47%|████▋     | 18/38 [00:00<00:00, 37.47batch/s, loss=50.0000]"
     ]
    },
    {
     "name": "stdout",
     "output_type": "stream",
     "text": [
      "DEBUG: scores.shape = torch.Size([8, 16])\n",
      "DEBUG: scores.shape = torch.Size([8, 16])\n",
      "DEBUG: scores.shape = torch.Size([8, 16])\n",
      "DEBUG: scores.shape = torch.Size([8, 16])\n",
      "DEBUG: scores.shape = torch.Size([8, 16])\n",
      "DEBUG: scores.shape = torch.Size([8, 16])\n"
     ]
    },
    {
     "name": "stderr",
     "output_type": "stream",
     "text": [
      "Epoch 3:  58%|█████▊    | 22/38 [00:00<00:00, 37.75batch/s, loss=62.5000]"
     ]
    },
    {
     "name": "stdout",
     "output_type": "stream",
     "text": [
      "DEBUG: scores.shape = torch.Size([8, 16])\n",
      "DEBUG: scores.shape = torch.Size([8, 16])\n"
     ]
    },
    {
     "name": "stderr",
     "output_type": "stream",
     "text": [
      "Epoch 3:  68%|██████▊   | 26/38 [00:00<00:00, 37.16batch/s, loss=62.5000]"
     ]
    },
    {
     "name": "stdout",
     "output_type": "stream",
     "text": [
      "DEBUG: scores.shape = torch.Size([8, 16])\n",
      "DEBUG: scores.shape = torch.Size([8, 16])\n",
      "DEBUG: scores.shape = torch.Size([8, 16])\n",
      "DEBUG: scores.shape = torch.Size([8, 16])\n",
      "DEBUG: scores.shape = torch.Size([8, 16])\n",
      "DEBUG: scores.shape = torch.Size([8, 16])\n"
     ]
    },
    {
     "name": "stderr",
     "output_type": "stream",
     "text": [
      "Epoch 3:  68%|██████▊   | 26/38 [00:00<00:00, 37.16batch/s, loss=25.0000]"
     ]
    },
    {
     "name": "stdout",
     "output_type": "stream",
     "text": [
      "DEBUG: scores.shape = torch.Size([8, 16])\n"
     ]
    },
    {
     "name": "stderr",
     "output_type": "stream",
     "text": [
      "Epoch 3:  92%|█████████▏| 35/38 [00:01<00:00, 37.26batch/s, loss=25.0000]"
     ]
    },
    {
     "name": "stdout",
     "output_type": "stream",
     "text": [
      "DEBUG: scores.shape = torch.Size([8, 16])\n",
      "DEBUG: scores.shape = torch.Size([8, 16])\n",
      "DEBUG: scores.shape = torch.Size([8, 16])\n",
      "DEBUG: scores.shape = torch.Size([8, 16])\n",
      "DEBUG: scores.shape = torch.Size([8, 16])\n",
      "DEBUG: scores.shape = torch.Size([8, 16])\n",
      "DEBUG: scores.shape = torch.Size([4, 16])\n"
     ]
    },
    {
     "name": "stderr",
     "output_type": "stream",
     "text": [
      "Epoch 3: 100%|██████████| 38/38 [00:01<00:00, 37.73batch/s, loss=25.0000]\n"
     ]
    },
    {
     "name": "stdout",
     "output_type": "stream",
     "text": [
      "Epoch 3, Loss: 49.6711\n"
     ]
    },
    {
     "name": "stderr",
     "output_type": "stream",
     "text": [
      "Epoch 4:   0%|          | 0/38 [00:00<?, ?batch/s, loss=12.5000]"
     ]
    },
    {
     "name": "stdout",
     "output_type": "stream",
     "text": [
      "DEBUG: scores.shape = torch.Size([8, 16])\n"
     ]
    },
    {
     "name": "stderr",
     "output_type": "stream",
     "text": [
      "Epoch 4:  13%|█▎        | 5/38 [00:00<00:00, 40.53batch/s, loss=62.5000]"
     ]
    },
    {
     "name": "stdout",
     "output_type": "stream",
     "text": [
      "DEBUG: scores.shape = torch.Size([8, 16])\n",
      "DEBUG: scores.shape = torch.Size([8, 16])\n",
      "DEBUG: scores.shape = torch.Size([8, 16])\n",
      "DEBUG: scores.shape = torch.Size([8, 16])\n",
      "DEBUG: scores.shape = torch.Size([8, 16])\n",
      "DEBUG: scores.shape = torch.Size([8, 16])\n",
      "DEBUG: scores.shape = torch.Size([8, 16])\n"
     ]
    },
    {
     "name": "stderr",
     "output_type": "stream",
     "text": [
      "Epoch 4:  13%|█▎        | 5/38 [00:00<00:00, 40.53batch/s, loss=37.5000]"
     ]
    },
    {
     "name": "stdout",
     "output_type": "stream",
     "text": [
      "DEBUG: scores.shape = torch.Size([8, 16])\n"
     ]
    },
    {
     "name": "stderr",
     "output_type": "stream",
     "text": [
      "Epoch 4:  37%|███▋      | 14/38 [00:00<00:00, 36.81batch/s, loss=37.5000]"
     ]
    },
    {
     "name": "stdout",
     "output_type": "stream",
     "text": [
      "DEBUG: scores.shape = torch.Size([8, 16])\n",
      "DEBUG: scores.shape = torch.Size([8, 16])\n",
      "DEBUG: scores.shape = torch.Size([8, 16])\n",
      "DEBUG: scores.shape = torch.Size([8, 16])\n",
      "DEBUG: scores.shape = torch.Size([8, 16])\n",
      "DEBUG: scores.shape = torch.Size([8, 16])\n",
      "DEBUG: scores.shape = torch.Size([8, 16])\n"
     ]
    },
    {
     "name": "stderr",
     "output_type": "stream",
     "text": [
      "Epoch 4:  47%|████▋     | 18/38 [00:00<00:00, 36.12batch/s, loss=25.0000]"
     ]
    },
    {
     "name": "stdout",
     "output_type": "stream",
     "text": [
      "DEBUG: scores.shape = torch.Size([8, 16])\n",
      "DEBUG: scores.shape = torch.Size([8, 16])\n",
      "DEBUG: scores.shape = torch.Size([8, 16])\n",
      "DEBUG: scores.shape = torch.Size([8, 16])\n",
      "DEBUG: scores.shape = torch.Size([8, 16])\n",
      "DEBUG: scores.shape = torch.Size([8, 16])\n",
      "DEBUG: scores.shape = torch.Size([8, 16])\n"
     ]
    },
    {
     "name": "stderr",
     "output_type": "stream",
     "text": [
      "Epoch 4:  61%|██████    | 23/38 [00:00<00:00, 38.10batch/s, loss=62.5000]"
     ]
    },
    {
     "name": "stdout",
     "output_type": "stream",
     "text": [
      "DEBUG: scores.shape = torch.Size([8, 16])\n"
     ]
    },
    {
     "name": "stderr",
     "output_type": "stream",
     "text": [
      "Epoch 4:  71%|███████   | 27/38 [00:00<00:00, 36.81batch/s, loss=50.0000]"
     ]
    },
    {
     "name": "stdout",
     "output_type": "stream",
     "text": [
      "DEBUG: scores.shape = torch.Size([8, 16])\n",
      "DEBUG: scores.shape = torch.Size([8, 16])\n",
      "DEBUG: scores.shape = torch.Size([8, 16])\n",
      "DEBUG: scores.shape = torch.Size([8, 16])\n",
      "DEBUG: scores.shape = torch.Size([8, 16])\n",
      "DEBUG: scores.shape = torch.Size([8, 16])\n",
      "DEBUG: scores.shape = torch.Size([8, 16])\n"
     ]
    },
    {
     "name": "stderr",
     "output_type": "stream",
     "text": [
      "Epoch 4:  71%|███████   | 27/38 [00:00<00:00, 36.81batch/s, loss=62.5000]"
     ]
    },
    {
     "name": "stdout",
     "output_type": "stream",
     "text": [
      "DEBUG: scores.shape = torch.Size([8, 16])\n"
     ]
    },
    {
     "name": "stderr",
     "output_type": "stream",
     "text": [
      "Epoch 4: 100%|██████████| 38/38 [00:01<00:00, 37.86batch/s, loss=75.0000]\n"
     ]
    },
    {
     "name": "stdout",
     "output_type": "stream",
     "text": [
      "DEBUG: scores.shape = torch.Size([8, 16])\n",
      "DEBUG: scores.shape = torch.Size([8, 16])\n",
      "DEBUG: scores.shape = torch.Size([8, 16])\n",
      "DEBUG: scores.shape = torch.Size([8, 16])\n",
      "DEBUG: scores.shape = torch.Size([8, 16])\n",
      "DEBUG: scores.shape = torch.Size([4, 16])\n",
      "Epoch 4, Loss: 50.3289\n"
     ]
    },
    {
     "name": "stderr",
     "output_type": "stream",
     "text": [
      "Epoch 5:   0%|          | 0/38 [00:00<?, ?batch/s]"
     ]
    },
    {
     "name": "stdout",
     "output_type": "stream",
     "text": [
      "DEBUG: scores.shape = torch.Size([8, 16])\n"
     ]
    },
    {
     "name": "stderr",
     "output_type": "stream",
     "text": [
      "Epoch 5:   0%|          | 0/38 [00:00<?, ?batch/s, loss=37.5000]"
     ]
    },
    {
     "name": "stdout",
     "output_type": "stream",
     "text": [
      "DEBUG: scores.shape = torch.Size([8, 16])\n"
     ]
    },
    {
     "name": "stderr",
     "output_type": "stream",
     "text": [
      "Epoch 5:  11%|█         | 4/38 [00:00<00:00, 38.00batch/s, loss=37.5000]"
     ]
    },
    {
     "name": "stdout",
     "output_type": "stream",
     "text": [
      "DEBUG: scores.shape = torch.Size([8, 16])\n",
      "DEBUG: scores.shape = torch.Size([8, 16])\n",
      "DEBUG: scores.shape = torch.Size([8, 16])\n",
      "DEBUG: scores.shape = torch.Size([8, 16])\n",
      "DEBUG: scores.shape = torch.Size([8, 16])\n",
      "DEBUG: scores.shape = torch.Size([8, 16])\n"
     ]
    },
    {
     "name": "stderr",
     "output_type": "stream",
     "text": [
      "Epoch 5:  21%|██        | 8/38 [00:00<00:00, 34.55batch/s, loss=62.5000]"
     ]
    },
    {
     "name": "stdout",
     "output_type": "stream",
     "text": [
      "DEBUG: scores.shape = torch.Size([8, 16])\n",
      "DEBUG: scores.shape = torch.Size([8, 16])\n"
     ]
    },
    {
     "name": "stderr",
     "output_type": "stream",
     "text": [
      "Epoch 5:  32%|███▏      | 12/38 [00:00<00:00, 35.34batch/s, loss=75.0000]"
     ]
    },
    {
     "name": "stdout",
     "output_type": "stream",
     "text": [
      "DEBUG: scores.shape = torch.Size([8, 16])\n",
      "DEBUG: scores.shape = torch.Size([8, 16])\n",
      "DEBUG: scores.shape = torch.Size([8, 16])\n",
      "DEBUG: scores.shape = torch.Size([8, 16])\n",
      "DEBUG: scores.shape = torch.Size([8, 16])\n",
      "DEBUG: scores.shape = torch.Size([8, 16])\n"
     ]
    },
    {
     "name": "stderr",
     "output_type": "stream",
     "text": [
      "Epoch 5:  42%|████▏     | 16/38 [00:00<00:00, 36.45batch/s, loss=50.0000]"
     ]
    },
    {
     "name": "stdout",
     "output_type": "stream",
     "text": [
      "DEBUG: scores.shape = torch.Size([8, 16])\n",
      "DEBUG: scores.shape = torch.Size([8, 16])\n"
     ]
    },
    {
     "name": "stderr",
     "output_type": "stream",
     "text": [
      "Epoch 5:  55%|█████▌    | 21/38 [00:00<00:00, 37.69batch/s, loss=37.5000]"
     ]
    },
    {
     "name": "stdout",
     "output_type": "stream",
     "text": [
      "DEBUG: scores.shape = torch.Size([8, 16])\n",
      "DEBUG: scores.shape = torch.Size([8, 16])\n",
      "DEBUG: scores.shape = torch.Size([8, 16])\n",
      "DEBUG: scores.shape = torch.Size([8, 16])\n",
      "DEBUG: scores.shape = torch.Size([8, 16])\n",
      "DEBUG: scores.shape = torch.Size([8, 16])\n"
     ]
    },
    {
     "name": "stderr",
     "output_type": "stream",
     "text": [
      "Epoch 5:  66%|██████▌   | 25/38 [00:00<00:00, 38.08batch/s, loss=25.0000]"
     ]
    },
    {
     "name": "stdout",
     "output_type": "stream",
     "text": [
      "DEBUG: scores.shape = torch.Size([8, 16])\n",
      "DEBUG: scores.shape = torch.Size([8, 16])\n"
     ]
    },
    {
     "name": "stderr",
     "output_type": "stream",
     "text": [
      "Epoch 5:  76%|███████▋  | 29/38 [00:00<00:00, 36.72batch/s, loss=37.5000]"
     ]
    },
    {
     "name": "stdout",
     "output_type": "stream",
     "text": [
      "DEBUG: scores.shape = torch.Size([8, 16])\n",
      "DEBUG: scores.shape = torch.Size([8, 16])\n",
      "DEBUG: scores.shape = torch.Size([8, 16])\n",
      "DEBUG: scores.shape = torch.Size([8, 16])\n",
      "DEBUG: scores.shape = torch.Size([8, 16])\n",
      "DEBUG: scores.shape = torch.Size([8, 16])\n"
     ]
    },
    {
     "name": "stderr",
     "output_type": "stream",
     "text": [
      "Epoch 5:  76%|███████▋  | 29/38 [00:00<00:00, 36.72batch/s, loss=75.0000]"
     ]
    },
    {
     "name": "stdout",
     "output_type": "stream",
     "text": [
      "DEBUG: scores.shape = torch.Size([8, 16])\n",
      "DEBUG: scores.shape = torch.Size([8, 16])\n"
     ]
    },
    {
     "name": "stderr",
     "output_type": "stream",
     "text": [
      "Epoch 5: 100%|██████████| 38/38 [00:01<00:00, 37.31batch/s, loss=50.0000]\n"
     ]
    },
    {
     "name": "stdout",
     "output_type": "stream",
     "text": [
      "DEBUG: scores.shape = torch.Size([8, 16])\n",
      "DEBUG: scores.shape = torch.Size([8, 16])\n",
      "DEBUG: scores.shape = torch.Size([8, 16])\n",
      "DEBUG: scores.shape = torch.Size([4, 16])\n",
      "Epoch 5, Loss: 50.0000\n"
     ]
    },
    {
     "name": "stderr",
     "output_type": "stream",
     "text": [
      "Epoch 6:   0%|          | 0/38 [00:00<?, ?batch/s, loss=50.0000]"
     ]
    },
    {
     "name": "stdout",
     "output_type": "stream",
     "text": [
      "DEBUG: scores.shape = torch.Size([8, 16])\n",
      "DEBUG: scores.shape = torch.Size([8, 16])\n"
     ]
    },
    {
     "name": "stderr",
     "output_type": "stream",
     "text": [
      "Epoch 6:   0%|          | 0/38 [00:00<?, ?batch/s, loss=62.5000]"
     ]
    },
    {
     "name": "stdout",
     "output_type": "stream",
     "text": [
      "DEBUG: scores.shape = torch.Size([8, 16])\n",
      "DEBUG: scores.shape = torch.Size([8, 16])\n"
     ]
    },
    {
     "name": "stderr",
     "output_type": "stream",
     "text": [
      "Epoch 6:  11%|█         | 4/38 [00:00<00:00, 37.29batch/s, loss=50.0000]"
     ]
    },
    {
     "name": "stdout",
     "output_type": "stream",
     "text": [
      "DEBUG: scores.shape = torch.Size([8, 16])\n",
      "DEBUG: scores.shape = torch.Size([8, 16])\n",
      "DEBUG: scores.shape = torch.Size([8, 16])\n",
      "DEBUG: scores.shape = torch.Size([8, 16])\n"
     ]
    },
    {
     "name": "stderr",
     "output_type": "stream",
     "text": [
      "Epoch 6:  21%|██        | 8/38 [00:00<00:00, 36.70batch/s, loss=62.5000]"
     ]
    },
    {
     "name": "stdout",
     "output_type": "stream",
     "text": [
      "DEBUG: scores.shape = torch.Size([8, 16])\n",
      "DEBUG: scores.shape = torch.Size([8, 16])\n"
     ]
    },
    {
     "name": "stderr",
     "output_type": "stream",
     "text": [
      "Epoch 6:  21%|██        | 8/38 [00:00<00:00, 36.70batch/s, loss=25.0000]"
     ]
    },
    {
     "name": "stdout",
     "output_type": "stream",
     "text": [
      "DEBUG: scores.shape = torch.Size([8, 16])\n",
      "DEBUG: scores.shape = torch.Size([8, 16])\n"
     ]
    },
    {
     "name": "stderr",
     "output_type": "stream",
     "text": [
      "Epoch 6:  34%|███▍      | 13/38 [00:00<00:00, 38.69batch/s, loss=37.5000]"
     ]
    },
    {
     "name": "stdout",
     "output_type": "stream",
     "text": [
      "DEBUG: scores.shape = torch.Size([8, 16])\n",
      "DEBUG: scores.shape = torch.Size([8, 16])\n",
      "DEBUG: scores.shape = torch.Size([8, 16])\n",
      "DEBUG: scores.shape = torch.Size([8, 16])\n"
     ]
    },
    {
     "name": "stderr",
     "output_type": "stream",
     "text": [
      "Epoch 6:  34%|███▍      | 13/38 [00:00<00:00, 38.69batch/s, loss=50.0000]"
     ]
    },
    {
     "name": "stdout",
     "output_type": "stream",
     "text": [
      "DEBUG: scores.shape = torch.Size([8, 16])\n"
     ]
    },
    {
     "name": "stderr",
     "output_type": "stream",
     "text": [
      "Epoch 6:  45%|████▍     | 17/38 [00:00<00:00, 36.34batch/s, loss=37.5000]"
     ]
    },
    {
     "name": "stdout",
     "output_type": "stream",
     "text": [
      "DEBUG: scores.shape = torch.Size([8, 16])\n",
      "DEBUG: scores.shape = torch.Size([8, 16])\n"
     ]
    },
    {
     "name": "stderr",
     "output_type": "stream",
     "text": [
      "Epoch 6:  55%|█████▌    | 21/38 [00:00<00:00, 35.55batch/s, loss=50.0000]"
     ]
    },
    {
     "name": "stdout",
     "output_type": "stream",
     "text": [
      "DEBUG: scores.shape = torch.Size([8, 16])\n",
      "DEBUG: scores.shape = torch.Size([8, 16])\n",
      "DEBUG: scores.shape = torch.Size([8, 16])\n",
      "DEBUG: scores.shape = torch.Size([8, 16])\n",
      "DEBUG: scores.shape = torch.Size([8, 16])\n"
     ]
    },
    {
     "name": "stderr",
     "output_type": "stream",
     "text": [
      "Epoch 6:  66%|██████▌   | 25/38 [00:00<00:00, 35.74batch/s, loss=25.0000]"
     ]
    },
    {
     "name": "stdout",
     "output_type": "stream",
     "text": [
      "DEBUG: scores.shape = torch.Size([8, 16])\n",
      "DEBUG: scores.shape = torch.Size([8, 16])\n"
     ]
    },
    {
     "name": "stderr",
     "output_type": "stream",
     "text": [
      "Epoch 6:  79%|███████▉  | 30/38 [00:00<00:00, 37.00batch/s, loss=75.0000]"
     ]
    },
    {
     "name": "stdout",
     "output_type": "stream",
     "text": [
      "DEBUG: scores.shape = torch.Size([8, 16])\n",
      "DEBUG: scores.shape = torch.Size([8, 16])\n",
      "DEBUG: scores.shape = torch.Size([8, 16])\n",
      "DEBUG: scores.shape = torch.Size([8, 16])\n",
      "DEBUG: scores.shape = torch.Size([8, 16])\n"
     ]
    },
    {
     "name": "stderr",
     "output_type": "stream",
     "text": [
      "Epoch 6:  79%|███████▉  | 30/38 [00:00<00:00, 37.00batch/s, loss=25.0000]"
     ]
    },
    {
     "name": "stdout",
     "output_type": "stream",
     "text": [
      "DEBUG: scores.shape = torch.Size([8, 16])\n",
      "DEBUG: scores.shape = torch.Size([8, 16])\n",
      "DEBUG: scores.shape = torch.Size([8, 16])\n"
     ]
    },
    {
     "name": "stderr",
     "output_type": "stream",
     "text": [
      "Epoch 6: 100%|██████████| 38/38 [00:01<00:00, 36.33batch/s, loss=0.0000] \n"
     ]
    },
    {
     "name": "stdout",
     "output_type": "stream",
     "text": [
      "DEBUG: scores.shape = torch.Size([8, 16])\n",
      "DEBUG: scores.shape = torch.Size([8, 16])\n",
      "DEBUG: scores.shape = torch.Size([8, 16])\n",
      "DEBUG: scores.shape = torch.Size([4, 16])\n",
      "Epoch 6, Loss: 49.3421\n"
     ]
    },
    {
     "name": "stderr",
     "output_type": "stream",
     "text": [
      "Epoch 7:   0%|          | 0/38 [00:00<?, ?batch/s]"
     ]
    },
    {
     "name": "stdout",
     "output_type": "stream",
     "text": [
      "DEBUG: scores.shape = torch.Size([8, 16])\n"
     ]
    },
    {
     "name": "stderr",
     "output_type": "stream",
     "text": [
      "Epoch 7:   0%|          | 0/38 [00:00<?, ?batch/s, loss=62.5000]"
     ]
    },
    {
     "name": "stdout",
     "output_type": "stream",
     "text": [
      "DEBUG: scores.shape = torch.Size([8, 16])\n",
      "DEBUG: scores.shape = torch.Size([8, 16])\n",
      "DEBUG: scores.shape = torch.Size([8, 16])\n"
     ]
    },
    {
     "name": "stderr",
     "output_type": "stream",
     "text": [
      "Epoch 7:  11%|█         | 4/38 [00:00<00:01, 33.92batch/s, loss=50.0000]"
     ]
    },
    {
     "name": "stdout",
     "output_type": "stream",
     "text": [
      "DEBUG: scores.shape = torch.Size([8, 16])\n",
      "DEBUG: scores.shape = torch.Size([8, 16])\n",
      "DEBUG: scores.shape = torch.Size([8, 16])\n"
     ]
    },
    {
     "name": "stderr",
     "output_type": "stream",
     "text": [
      "Epoch 7:  11%|█         | 4/38 [00:00<00:01, 33.92batch/s, loss=37.5000]"
     ]
    },
    {
     "name": "stdout",
     "output_type": "stream",
     "text": [
      "DEBUG: scores.shape = torch.Size([8, 16])\n"
     ]
    },
    {
     "name": "stderr",
     "output_type": "stream",
     "text": [
      "Epoch 7:  21%|██        | 8/38 [00:00<00:00, 35.27batch/s, loss=62.5000]"
     ]
    },
    {
     "name": "stdout",
     "output_type": "stream",
     "text": [
      "DEBUG: scores.shape = torch.Size([8, 16])\n",
      "DEBUG: scores.shape = torch.Size([8, 16])\n",
      "DEBUG: scores.shape = torch.Size([8, 16])\n"
     ]
    },
    {
     "name": "stderr",
     "output_type": "stream",
     "text": [
      "Epoch 7:  32%|███▏      | 12/38 [00:00<00:00, 36.52batch/s, loss=25.0000]"
     ]
    },
    {
     "name": "stdout",
     "output_type": "stream",
     "text": [
      "DEBUG: scores.shape = torch.Size([8, 16])\n",
      "DEBUG: scores.shape = torch.Size([8, 16])\n",
      "DEBUG: scores.shape = torch.Size([8, 16])\n"
     ]
    },
    {
     "name": "stderr",
     "output_type": "stream",
     "text": [
      "Epoch 7:  32%|███▏      | 12/38 [00:00<00:00, 36.52batch/s, loss=62.5000]"
     ]
    },
    {
     "name": "stdout",
     "output_type": "stream",
     "text": [
      "DEBUG: scores.shape = torch.Size([8, 16])\n"
     ]
    },
    {
     "name": "stderr",
     "output_type": "stream",
     "text": [
      "Epoch 7:  42%|████▏     | 16/38 [00:00<00:00, 34.14batch/s, loss=25.0000]"
     ]
    },
    {
     "name": "stdout",
     "output_type": "stream",
     "text": [
      "DEBUG: scores.shape = torch.Size([8, 16])\n",
      "DEBUG: scores.shape = torch.Size([8, 16])\n",
      "DEBUG: scores.shape = torch.Size([8, 16])\n",
      "DEBUG: scores.shape = torch.Size([8, 16])\n"
     ]
    },
    {
     "name": "stderr",
     "output_type": "stream",
     "text": [
      "Epoch 7:  55%|█████▌    | 21/38 [00:00<00:00, 36.68batch/s, loss=37.5000]"
     ]
    },
    {
     "name": "stdout",
     "output_type": "stream",
     "text": [
      "DEBUG: scores.shape = torch.Size([8, 16])\n",
      "DEBUG: scores.shape = torch.Size([8, 16])\n",
      "DEBUG: scores.shape = torch.Size([8, 16])\n"
     ]
    },
    {
     "name": "stderr",
     "output_type": "stream",
     "text": [
      "Epoch 7:  55%|█████▌    | 21/38 [00:00<00:00, 36.68batch/s, loss=87.5000]"
     ]
    },
    {
     "name": "stdout",
     "output_type": "stream",
     "text": [
      "DEBUG: scores.shape = torch.Size([8, 16])\n"
     ]
    },
    {
     "name": "stderr",
     "output_type": "stream",
     "text": [
      "Epoch 7:  66%|██████▌   | 25/38 [00:00<00:00, 37.30batch/s, loss=12.5000]"
     ]
    },
    {
     "name": "stdout",
     "output_type": "stream",
     "text": [
      "DEBUG: scores.shape = torch.Size([8, 16])\n",
      "DEBUG: scores.shape = torch.Size([8, 16])\n",
      "DEBUG: scores.shape = torch.Size([8, 16])\n",
      "DEBUG: scores.shape = torch.Size([8, 16])\n"
     ]
    },
    {
     "name": "stderr",
     "output_type": "stream",
     "text": [
      "Epoch 7:  76%|███████▋  | 29/38 [00:00<00:00, 36.51batch/s, loss=62.5000]"
     ]
    },
    {
     "name": "stdout",
     "output_type": "stream",
     "text": [
      "DEBUG: scores.shape = torch.Size([8, 16])\n",
      "DEBUG: scores.shape = torch.Size([8, 16])\n",
      "DEBUG: scores.shape = torch.Size([8, 16])\n"
     ]
    },
    {
     "name": "stderr",
     "output_type": "stream",
     "text": [
      "Epoch 7:  76%|███████▋  | 29/38 [00:00<00:00, 36.51batch/s, loss=37.5000]"
     ]
    },
    {
     "name": "stdout",
     "output_type": "stream",
     "text": [
      "DEBUG: scores.shape = torch.Size([8, 16])\n"
     ]
    },
    {
     "name": "stderr",
     "output_type": "stream",
     "text": [
      "Epoch 7:  87%|████████▋ | 33/38 [00:00<00:00, 36.73batch/s, loss=62.5000]"
     ]
    },
    {
     "name": "stdout",
     "output_type": "stream",
     "text": [
      "DEBUG: scores.shape = torch.Size([8, 16])\n",
      "DEBUG: scores.shape = torch.Size([8, 16])\n",
      "DEBUG: scores.shape = torch.Size([8, 16])\n"
     ]
    },
    {
     "name": "stderr",
     "output_type": "stream",
     "text": [
      "Epoch 7:  87%|████████▋ | 33/38 [00:01<00:00, 36.73batch/s, loss=62.5000]"
     ]
    },
    {
     "name": "stdout",
     "output_type": "stream",
     "text": [
      "DEBUG: scores.shape = torch.Size([8, 16])\n",
      "DEBUG: scores.shape = torch.Size([8, 16])\n",
      "DEBUG: scores.shape = torch.Size([8, 16])\n"
     ]
    },
    {
     "name": "stderr",
     "output_type": "stream",
     "text": [
      "Epoch 7: 100%|██████████| 38/38 [00:01<00:00, 36.71batch/s, loss=50.0000]\n"
     ]
    },
    {
     "name": "stdout",
     "output_type": "stream",
     "text": [
      "DEBUG: scores.shape = torch.Size([4, 16])\n",
      "Epoch 7, Loss: 50.0000\n"
     ]
    },
    {
     "name": "stderr",
     "output_type": "stream",
     "text": [
      "Epoch 8:   0%|          | 0/38 [00:00<?, ?batch/s]"
     ]
    },
    {
     "name": "stdout",
     "output_type": "stream",
     "text": [
      "DEBUG: scores.shape = torch.Size([8, 16])\n"
     ]
    },
    {
     "name": "stderr",
     "output_type": "stream",
     "text": [
      "Epoch 8:   0%|          | 0/38 [00:00<?, ?batch/s, loss=75.0000]"
     ]
    },
    {
     "name": "stdout",
     "output_type": "stream",
     "text": [
      "DEBUG: scores.shape = torch.Size([8, 16])\n",
      "DEBUG: scores.shape = torch.Size([8, 16])\n",
      "DEBUG: scores.shape = torch.Size([8, 16])\n"
     ]
    },
    {
     "name": "stderr",
     "output_type": "stream",
     "text": [
      "Epoch 8:  11%|█         | 4/38 [00:00<00:00, 35.74batch/s, loss=37.5000]"
     ]
    },
    {
     "name": "stdout",
     "output_type": "stream",
     "text": [
      "DEBUG: scores.shape = torch.Size([8, 16])\n",
      "DEBUG: scores.shape = torch.Size([8, 16])\n",
      "DEBUG: scores.shape = torch.Size([8, 16])\n",
      "DEBUG: scores.shape = torch.Size([8, 16])\n"
     ]
    },
    {
     "name": "stderr",
     "output_type": "stream",
     "text": [
      "Epoch 8:  21%|██        | 8/38 [00:00<00:00, 37.01batch/s, loss=50.0000]"
     ]
    },
    {
     "name": "stdout",
     "output_type": "stream",
     "text": [
      "DEBUG: scores.shape = torch.Size([8, 16])\n"
     ]
    },
    {
     "name": "stderr",
     "output_type": "stream",
     "text": [
      "Epoch 8:  21%|██        | 8/38 [00:00<00:00, 37.01batch/s, loss=25.0000]"
     ]
    },
    {
     "name": "stdout",
     "output_type": "stream",
     "text": [
      "DEBUG: scores.shape = torch.Size([8, 16])\n",
      "DEBUG: scores.shape = torch.Size([8, 16])\n",
      "DEBUG: scores.shape = torch.Size([8, 16])\n"
     ]
    },
    {
     "name": "stderr",
     "output_type": "stream",
     "text": [
      "Epoch 8:  32%|███▏      | 12/38 [00:00<00:00, 37.49batch/s, loss=37.5000]"
     ]
    },
    {
     "name": "stdout",
     "output_type": "stream",
     "text": [
      "DEBUG: scores.shape = torch.Size([8, 16])\n",
      "DEBUG: scores.shape = torch.Size([8, 16])\n",
      "DEBUG: scores.shape = torch.Size([8, 16])\n"
     ]
    },
    {
     "name": "stderr",
     "output_type": "stream",
     "text": [
      "Epoch 8:  32%|███▏      | 12/38 [00:00<00:00, 37.49batch/s, loss=75.0000]"
     ]
    },
    {
     "name": "stdout",
     "output_type": "stream",
     "text": [
      "DEBUG: scores.shape = torch.Size([8, 16])\n"
     ]
    },
    {
     "name": "stderr",
     "output_type": "stream",
     "text": [
      "Epoch 8:  42%|████▏     | 16/38 [00:00<00:00, 35.37batch/s, loss=37.5000]"
     ]
    },
    {
     "name": "stdout",
     "output_type": "stream",
     "text": [
      "DEBUG: scores.shape = torch.Size([8, 16])\n",
      "DEBUG: scores.shape = torch.Size([8, 16])\n"
     ]
    },
    {
     "name": "stderr",
     "output_type": "stream",
     "text": [
      "Epoch 8:  53%|█████▎    | 20/38 [00:00<00:00, 34.21batch/s, loss=50.0000]"
     ]
    },
    {
     "name": "stdout",
     "output_type": "stream",
     "text": [
      "DEBUG: scores.shape = torch.Size([8, 16])\n",
      "DEBUG: scores.shape = torch.Size([8, 16])\n",
      "DEBUG: scores.shape = torch.Size([8, 16])\n",
      "DEBUG: scores.shape = torch.Size([8, 16])\n",
      "DEBUG: scores.shape = torch.Size([8, 16])\n"
     ]
    },
    {
     "name": "stderr",
     "output_type": "stream",
     "text": [
      "Epoch 8:  63%|██████▎   | 24/38 [00:00<00:00, 34.49batch/s, loss=75.0000]"
     ]
    },
    {
     "name": "stdout",
     "output_type": "stream",
     "text": [
      "DEBUG: scores.shape = torch.Size([8, 16])\n",
      "DEBUG: scores.shape = torch.Size([8, 16])\n",
      "DEBUG: scores.shape = torch.Size([8, 16])\n"
     ]
    },
    {
     "name": "stderr",
     "output_type": "stream",
     "text": [
      "Epoch 8:  74%|███████▎  | 28/38 [00:00<00:00, 35.34batch/s, loss=37.5000]"
     ]
    },
    {
     "name": "stdout",
     "output_type": "stream",
     "text": [
      "DEBUG: scores.shape = torch.Size([8, 16])\n",
      "DEBUG: scores.shape = torch.Size([8, 16])\n",
      "DEBUG: scores.shape = torch.Size([8, 16])\n",
      "DEBUG: scores.shape = torch.Size([8, 16])\n",
      "DEBUG: scores.shape = torch.Size([8, 16])\n"
     ]
    },
    {
     "name": "stderr",
     "output_type": "stream",
     "text": [
      "Epoch 8:  84%|████████▍ | 32/38 [00:00<00:00, 36.55batch/s, loss=50.0000]"
     ]
    },
    {
     "name": "stdout",
     "output_type": "stream",
     "text": [
      "DEBUG: scores.shape = torch.Size([8, 16])\n",
      "DEBUG: scores.shape = torch.Size([8, 16])\n"
     ]
    },
    {
     "name": "stderr",
     "output_type": "stream",
     "text": [
      "Epoch 8:  95%|█████████▍| 36/38 [00:01<00:00, 33.87batch/s, loss=75.0000]"
     ]
    },
    {
     "name": "stdout",
     "output_type": "stream",
     "text": [
      "DEBUG: scores.shape = torch.Size([8, 16])\n",
      "DEBUG: scores.shape = torch.Size([8, 16])\n",
      "DEBUG: scores.shape = torch.Size([8, 16])\n",
      "DEBUG: scores.shape = torch.Size([8, 16])\n",
      "DEBUG: scores.shape = torch.Size([4, 16])\n"
     ]
    },
    {
     "name": "stderr",
     "output_type": "stream",
     "text": [
      "Epoch 8: 100%|██████████| 38/38 [00:01<00:00, 35.47batch/s, loss=50.0000]\n"
     ]
    },
    {
     "name": "stdout",
     "output_type": "stream",
     "text": [
      "Epoch 8, Loss: 50.0000\n"
     ]
    },
    {
     "name": "stderr",
     "output_type": "stream",
     "text": [
      "Epoch 9:   0%|          | 0/38 [00:00<?, ?batch/s, loss=12.5000]"
     ]
    },
    {
     "name": "stdout",
     "output_type": "stream",
     "text": [
      "DEBUG: scores.shape = torch.Size([8, 16])\n",
      "DEBUG: scores.shape = torch.Size([8, 16])\n"
     ]
    },
    {
     "name": "stderr",
     "output_type": "stream",
     "text": [
      "Epoch 9:  13%|█▎        | 5/38 [00:00<00:00, 39.85batch/s, loss=25.0000]"
     ]
    },
    {
     "name": "stdout",
     "output_type": "stream",
     "text": [
      "DEBUG: scores.shape = torch.Size([8, 16])\n",
      "DEBUG: scores.shape = torch.Size([8, 16])\n",
      "DEBUG: scores.shape = torch.Size([8, 16])\n",
      "DEBUG: scores.shape = torch.Size([8, 16])\n",
      "DEBUG: scores.shape = torch.Size([8, 16])\n",
      "DEBUG: scores.shape = torch.Size([8, 16])\n"
     ]
    },
    {
     "name": "stderr",
     "output_type": "stream",
     "text": [
      "Epoch 9:  24%|██▎       | 9/38 [00:00<00:00, 39.72batch/s, loss=25.0000]"
     ]
    },
    {
     "name": "stdout",
     "output_type": "stream",
     "text": [
      "DEBUG: scores.shape = torch.Size([8, 16])\n",
      "DEBUG: scores.shape = torch.Size([8, 16])\n"
     ]
    },
    {
     "name": "stderr",
     "output_type": "stream",
     "text": [
      "Epoch 9:  34%|███▍      | 13/38 [00:00<00:00, 37.64batch/s, loss=37.5000]"
     ]
    },
    {
     "name": "stdout",
     "output_type": "stream",
     "text": [
      "DEBUG: scores.shape = torch.Size([8, 16])\n",
      "DEBUG: scores.shape = torch.Size([8, 16])\n",
      "DEBUG: scores.shape = torch.Size([8, 16])\n",
      "DEBUG: scores.shape = torch.Size([8, 16])\n",
      "DEBUG: scores.shape = torch.Size([8, 16])\n"
     ]
    },
    {
     "name": "stderr",
     "output_type": "stream",
     "text": [
      "Epoch 9:  34%|███▍      | 13/38 [00:00<00:00, 37.64batch/s, loss=100.0000]"
     ]
    },
    {
     "name": "stdout",
     "output_type": "stream",
     "text": [
      "DEBUG: scores.shape = torch.Size([8, 16])\n",
      "DEBUG: scores.shape = torch.Size([8, 16])\n"
     ]
    },
    {
     "name": "stderr",
     "output_type": "stream",
     "text": [
      "Epoch 9:  58%|█████▊    | 22/38 [00:00<00:00, 36.58batch/s, loss=75.0000] "
     ]
    },
    {
     "name": "stdout",
     "output_type": "stream",
     "text": [
      "DEBUG: scores.shape = torch.Size([8, 16])\n",
      "DEBUG: scores.shape = torch.Size([8, 16])\n",
      "DEBUG: scores.shape = torch.Size([8, 16])\n",
      "DEBUG: scores.shape = torch.Size([8, 16])\n",
      "DEBUG: scores.shape = torch.Size([8, 16])\n",
      "DEBUG: scores.shape = torch.Size([8, 16])\n"
     ]
    },
    {
     "name": "stderr",
     "output_type": "stream",
     "text": [
      "Epoch 9:  58%|█████▊    | 22/38 [00:00<00:00, 36.58batch/s, loss=50.0000]"
     ]
    },
    {
     "name": "stdout",
     "output_type": "stream",
     "text": [
      "DEBUG: scores.shape = torch.Size([8, 16])\n",
      "DEBUG: scores.shape = torch.Size([8, 16])\n"
     ]
    },
    {
     "name": "stderr",
     "output_type": "stream",
     "text": [
      "Epoch 9:  79%|███████▉  | 30/38 [00:00<00:00, 36.38batch/s, loss=75.0000]"
     ]
    },
    {
     "name": "stdout",
     "output_type": "stream",
     "text": [
      "DEBUG: scores.shape = torch.Size([8, 16])\n",
      "DEBUG: scores.shape = torch.Size([8, 16])\n",
      "DEBUG: scores.shape = torch.Size([8, 16])\n",
      "DEBUG: scores.shape = torch.Size([8, 16])\n",
      "DEBUG: scores.shape = torch.Size([8, 16])\n",
      "DEBUG: scores.shape = torch.Size([8, 16])\n"
     ]
    },
    {
     "name": "stderr",
     "output_type": "stream",
     "text": [
      "Epoch 9:  79%|███████▉  | 30/38 [00:00<00:00, 36.38batch/s, loss=75.0000]"
     ]
    },
    {
     "name": "stdout",
     "output_type": "stream",
     "text": [
      "DEBUG: scores.shape = torch.Size([8, 16])\n",
      "DEBUG: scores.shape = torch.Size([8, 16])\n"
     ]
    },
    {
     "name": "stderr",
     "output_type": "stream",
     "text": [
      "Epoch 9: 100%|██████████| 38/38 [00:01<00:00, 36.94batch/s, loss=50.0000]\n"
     ]
    },
    {
     "name": "stdout",
     "output_type": "stream",
     "text": [
      "DEBUG: scores.shape = torch.Size([8, 16])\n",
      "DEBUG: scores.shape = torch.Size([8, 16])\n",
      "DEBUG: scores.shape = torch.Size([8, 16])\n",
      "DEBUG: scores.shape = torch.Size([8, 16])\n",
      "DEBUG: scores.shape = torch.Size([4, 16])\n",
      "Epoch 9, Loss: 50.0000\n"
     ]
    },
    {
     "name": "stderr",
     "output_type": "stream",
     "text": [
      "Epoch 10:   0%|          | 0/38 [00:00<?, ?batch/s, loss=37.5000]"
     ]
    },
    {
     "name": "stdout",
     "output_type": "stream",
     "text": [
      "DEBUG: scores.shape = torch.Size([8, 16])\n",
      "DEBUG: scores.shape = torch.Size([8, 16])\n"
     ]
    },
    {
     "name": "stderr",
     "output_type": "stream",
     "text": [
      "Epoch 10:  11%|█         | 4/38 [00:00<00:00, 35.09batch/s, loss=37.5000]"
     ]
    },
    {
     "name": "stdout",
     "output_type": "stream",
     "text": [
      "DEBUG: scores.shape = torch.Size([8, 16])\n",
      "DEBUG: scores.shape = torch.Size([8, 16])\n",
      "DEBUG: scores.shape = torch.Size([8, 16])\n",
      "DEBUG: scores.shape = torch.Size([8, 16])\n",
      "DEBUG: scores.shape = torch.Size([8, 16])\n",
      "DEBUG: scores.shape = torch.Size([8, 16])\n"
     ]
    },
    {
     "name": "stderr",
     "output_type": "stream",
     "text": [
      "Epoch 10:  21%|██        | 8/38 [00:00<00:00, 37.09batch/s, loss=50.0000]"
     ]
    },
    {
     "name": "stdout",
     "output_type": "stream",
     "text": [
      "DEBUG: scores.shape = torch.Size([8, 16])\n",
      "DEBUG: scores.shape = torch.Size([8, 16])\n"
     ]
    },
    {
     "name": "stderr",
     "output_type": "stream",
     "text": [
      "Epoch 10:  32%|███▏      | 12/38 [00:00<00:00, 36.13batch/s, loss=62.5000]"
     ]
    },
    {
     "name": "stdout",
     "output_type": "stream",
     "text": [
      "DEBUG: scores.shape = torch.Size([8, 16])\n",
      "DEBUG: scores.shape = torch.Size([8, 16])\n",
      "DEBUG: scores.shape = torch.Size([8, 16])\n",
      "DEBUG: scores.shape = torch.Size([8, 16])\n",
      "DEBUG: scores.shape = torch.Size([8, 16])\n"
     ]
    },
    {
     "name": "stderr",
     "output_type": "stream",
     "text": [
      "Epoch 10:  42%|████▏     | 16/38 [00:00<00:00, 33.76batch/s, loss=50.0000]"
     ]
    },
    {
     "name": "stdout",
     "output_type": "stream",
     "text": [
      "DEBUG: scores.shape = torch.Size([8, 16])\n"
     ]
    },
    {
     "name": "stderr",
     "output_type": "stream",
     "text": [
      "Epoch 10:  53%|█████▎    | 20/38 [00:00<00:00, 31.78batch/s, loss=37.5000]"
     ]
    },
    {
     "name": "stdout",
     "output_type": "stream",
     "text": [
      "DEBUG: scores.shape = torch.Size([8, 16])\n",
      "DEBUG: scores.shape = torch.Size([8, 16])\n",
      "DEBUG: scores.shape = torch.Size([8, 16])\n",
      "DEBUG: scores.shape = torch.Size([8, 16])\n",
      "DEBUG: scores.shape = torch.Size([8, 16])\n",
      "DEBUG: scores.shape = torch.Size([8, 16])\n"
     ]
    },
    {
     "name": "stderr",
     "output_type": "stream",
     "text": [
      "Epoch 10:  53%|█████▎    | 20/38 [00:00<00:00, 31.78batch/s, loss=25.0000]"
     ]
    },
    {
     "name": "stdout",
     "output_type": "stream",
     "text": [
      "DEBUG: scores.shape = torch.Size([8, 16])\n",
      "DEBUG: scores.shape = torch.Size([8, 16])\n"
     ]
    },
    {
     "name": "stderr",
     "output_type": "stream",
     "text": [
      "Epoch 10:  74%|███████▎  | 28/38 [00:00<00:00, 35.15batch/s, loss=37.5000]"
     ]
    },
    {
     "name": "stdout",
     "output_type": "stream",
     "text": [
      "DEBUG: scores.shape = torch.Size([8, 16])\n",
      "DEBUG: scores.shape = torch.Size([8, 16])\n",
      "DEBUG: scores.shape = torch.Size([8, 16])\n",
      "DEBUG: scores.shape = torch.Size([8, 16])\n",
      "DEBUG: scores.shape = torch.Size([8, 16])\n",
      "DEBUG: scores.shape = torch.Size([8, 16])\n"
     ]
    },
    {
     "name": "stderr",
     "output_type": "stream",
     "text": [
      "Epoch 10:  74%|███████▎  | 28/38 [00:00<00:00, 35.15batch/s, loss=75.0000]"
     ]
    },
    {
     "name": "stdout",
     "output_type": "stream",
     "text": [
      "DEBUG: scores.shape = torch.Size([8, 16])\n",
      "DEBUG: scores.shape = torch.Size([8, 16])\n"
     ]
    },
    {
     "name": "stderr",
     "output_type": "stream",
     "text": [
      "Epoch 10:  95%|█████████▍| 36/38 [00:01<00:00, 35.33batch/s, loss=37.5000]"
     ]
    },
    {
     "name": "stdout",
     "output_type": "stream",
     "text": [
      "DEBUG: scores.shape = torch.Size([8, 16])\n",
      "DEBUG: scores.shape = torch.Size([8, 16])\n",
      "DEBUG: scores.shape = torch.Size([8, 16])\n",
      "DEBUG: scores.shape = torch.Size([8, 16])\n",
      "DEBUG: scores.shape = torch.Size([8, 16])\n"
     ]
    },
    {
     "name": "stderr",
     "output_type": "stream",
     "text": [
      "Epoch 10: 100%|██████████| 38/38 [00:01<00:00, 35.38batch/s, loss=50.0000]\n"
     ]
    },
    {
     "name": "stdout",
     "output_type": "stream",
     "text": [
      "DEBUG: scores.shape = torch.Size([4, 16])\n",
      "Epoch 10, Loss: 50.0000\n"
     ]
    },
    {
     "name": "stderr",
     "output_type": "stream",
     "text": [
      "Epoch 11:   0%|          | 0/38 [00:00<?, ?batch/s, loss=75.0000]"
     ]
    },
    {
     "name": "stdout",
     "output_type": "stream",
     "text": [
      "DEBUG: scores.shape = torch.Size([8, 16])\n",
      "DEBUG: scores.shape = torch.Size([8, 16])\n"
     ]
    },
    {
     "name": "stderr",
     "output_type": "stream",
     "text": [
      "Epoch 11:  11%|█         | 4/38 [00:00<00:01, 31.71batch/s, loss=75.0000]"
     ]
    },
    {
     "name": "stdout",
     "output_type": "stream",
     "text": [
      "DEBUG: scores.shape = torch.Size([8, 16])\n",
      "DEBUG: scores.shape = torch.Size([8, 16])\n",
      "DEBUG: scores.shape = torch.Size([8, 16])\n",
      "DEBUG: scores.shape = torch.Size([8, 16])\n",
      "DEBUG: scores.shape = torch.Size([8, 16])\n"
     ]
    },
    {
     "name": "stderr",
     "output_type": "stream",
     "text": [
      "Epoch 11:  21%|██        | 8/38 [00:00<00:00, 32.03batch/s, loss=62.5000]"
     ]
    },
    {
     "name": "stdout",
     "output_type": "stream",
     "text": [
      "DEBUG: scores.shape = torch.Size([8, 16])\n",
      "DEBUG: scores.shape = torch.Size([8, 16])\n"
     ]
    },
    {
     "name": "stderr",
     "output_type": "stream",
     "text": [
      "Epoch 11:  32%|███▏      | 12/38 [00:00<00:00, 33.65batch/s, loss=75.0000]"
     ]
    },
    {
     "name": "stdout",
     "output_type": "stream",
     "text": [
      "DEBUG: scores.shape = torch.Size([8, 16])\n",
      "DEBUG: scores.shape = torch.Size([8, 16])\n",
      "DEBUG: scores.shape = torch.Size([8, 16])\n",
      "DEBUG: scores.shape = torch.Size([8, 16])\n"
     ]
    },
    {
     "name": "stderr",
     "output_type": "stream",
     "text": [
      "Epoch 11:  32%|███▏      | 12/38 [00:00<00:00, 33.65batch/s, loss=50.0000]"
     ]
    },
    {
     "name": "stdout",
     "output_type": "stream",
     "text": [
      "DEBUG: scores.shape = torch.Size([8, 16])\n"
     ]
    },
    {
     "name": "stderr",
     "output_type": "stream",
     "text": [
      "Epoch 11:  32%|███▏      | 12/38 [00:00<00:00, 33.65batch/s, loss=12.5000]"
     ]
    },
    {
     "name": "stdout",
     "output_type": "stream",
     "text": [
      "DEBUG: scores.shape = torch.Size([8, 16])\n",
      "DEBUG: scores.shape = torch.Size([8, 16])\n"
     ]
    },
    {
     "name": "stderr",
     "output_type": "stream",
     "text": [
      "Epoch 11:  42%|████▏     | 16/38 [00:00<00:00, 33.36batch/s, loss=75.0000]"
     ]
    },
    {
     "name": "stdout",
     "output_type": "stream",
     "text": [
      "DEBUG: scores.shape = torch.Size([8, 16])\n",
      "DEBUG: scores.shape = torch.Size([8, 16])\n",
      "DEBUG: scores.shape = torch.Size([8, 16])\n",
      "DEBUG: scores.shape = torch.Size([8, 16])\n"
     ]
    },
    {
     "name": "stderr",
     "output_type": "stream",
     "text": [
      "Epoch 11:  53%|█████▎    | 20/38 [00:00<00:00, 32.90batch/s, loss=75.0000]"
     ]
    },
    {
     "name": "stdout",
     "output_type": "stream",
     "text": [
      "DEBUG: scores.shape = torch.Size([8, 16])\n"
     ]
    },
    {
     "name": "stderr",
     "output_type": "stream",
     "text": [
      "Epoch 11:  53%|█████▎    | 20/38 [00:00<00:00, 32.90batch/s, loss=62.5000]"
     ]
    },
    {
     "name": "stdout",
     "output_type": "stream",
     "text": [
      "DEBUG: scores.shape = torch.Size([8, 16])\n"
     ]
    },
    {
     "name": "stderr",
     "output_type": "stream",
     "text": [
      "Epoch 11:  63%|██████▎   | 24/38 [00:00<00:00, 30.73batch/s, loss=25.0000]"
     ]
    },
    {
     "name": "stdout",
     "output_type": "stream",
     "text": [
      "DEBUG: scores.shape = torch.Size([8, 16])\n",
      "DEBUG: scores.shape = torch.Size([8, 16])\n",
      "DEBUG: scores.shape = torch.Size([8, 16])\n",
      "DEBUG: scores.shape = torch.Size([8, 16])\n"
     ]
    },
    {
     "name": "stderr",
     "output_type": "stream",
     "text": [
      "Epoch 11:  63%|██████▎   | 24/38 [00:00<00:00, 30.73batch/s, loss=50.0000]"
     ]
    },
    {
     "name": "stdout",
     "output_type": "stream",
     "text": [
      "DEBUG: scores.shape = torch.Size([8, 16])\n"
     ]
    },
    {
     "name": "stderr",
     "output_type": "stream",
     "text": [
      "Epoch 11:  74%|███████▎  | 28/38 [00:00<00:00, 30.96batch/s, loss=37.5000]"
     ]
    },
    {
     "name": "stdout",
     "output_type": "stream",
     "text": [
      "DEBUG: scores.shape = torch.Size([8, 16])\n",
      "DEBUG: scores.shape = torch.Size([8, 16])\n"
     ]
    },
    {
     "name": "stderr",
     "output_type": "stream",
     "text": [
      "Epoch 11:  84%|████████▍ | 32/38 [00:00<00:00, 32.69batch/s, loss=50.0000]"
     ]
    },
    {
     "name": "stdout",
     "output_type": "stream",
     "text": [
      "DEBUG: scores.shape = torch.Size([8, 16])\n",
      "DEBUG: scores.shape = torch.Size([8, 16])\n",
      "DEBUG: scores.shape = torch.Size([8, 16])\n",
      "DEBUG: scores.shape = torch.Size([8, 16])\n"
     ]
    },
    {
     "name": "stderr",
     "output_type": "stream",
     "text": [
      "Epoch 11:  84%|████████▍ | 32/38 [00:01<00:00, 32.69batch/s, loss=25.0000]"
     ]
    },
    {
     "name": "stdout",
     "output_type": "stream",
     "text": [
      "DEBUG: scores.shape = torch.Size([8, 16])\n",
      "DEBUG: scores.shape = torch.Size([8, 16])\n"
     ]
    },
    {
     "name": "stderr",
     "output_type": "stream",
     "text": [
      "Epoch 11:  95%|█████████▍| 36/38 [00:01<00:00, 33.64batch/s, loss=87.5000]"
     ]
    },
    {
     "name": "stdout",
     "output_type": "stream",
     "text": [
      "DEBUG: scores.shape = torch.Size([8, 16])\n",
      "DEBUG: scores.shape = torch.Size([8, 16])\n"
     ]
    },
    {
     "name": "stderr",
     "output_type": "stream",
     "text": [
      "Epoch 11: 100%|██████████| 38/38 [00:01<00:00, 33.05batch/s, loss=75.0000]\n"
     ]
    },
    {
     "name": "stdout",
     "output_type": "stream",
     "text": [
      "DEBUG: scores.shape = torch.Size([4, 16])\n",
      "Epoch 11, Loss: 50.3289\n"
     ]
    },
    {
     "name": "stderr",
     "output_type": "stream",
     "text": [
      "Epoch 12:   0%|          | 0/38 [00:00<?, ?batch/s, loss=62.5000]"
     ]
    },
    {
     "name": "stdout",
     "output_type": "stream",
     "text": [
      "DEBUG: scores.shape = torch.Size([8, 16])\n",
      "DEBUG: scores.shape = torch.Size([8, 16])\n"
     ]
    },
    {
     "name": "stderr",
     "output_type": "stream",
     "text": [
      "Epoch 12:   0%|          | 0/38 [00:00<?, ?batch/s, loss=62.5000]"
     ]
    },
    {
     "name": "stdout",
     "output_type": "stream",
     "text": [
      "DEBUG: scores.shape = torch.Size([8, 16])\n",
      "DEBUG: scores.shape = torch.Size([8, 16])\n"
     ]
    },
    {
     "name": "stderr",
     "output_type": "stream",
     "text": [
      "Epoch 12:  11%|█         | 4/38 [00:00<00:01, 29.37batch/s, loss=37.5000]"
     ]
    },
    {
     "name": "stdout",
     "output_type": "stream",
     "text": [
      "DEBUG: scores.shape = torch.Size([8, 16])\n",
      "DEBUG: scores.shape = torch.Size([8, 16])\n",
      "DEBUG: scores.shape = torch.Size([8, 16])\n"
     ]
    },
    {
     "name": "stderr",
     "output_type": "stream",
     "text": [
      "Epoch 12:  18%|█▊        | 7/38 [00:00<00:01, 29.24batch/s, loss=50.0000]"
     ]
    },
    {
     "name": "stdout",
     "output_type": "stream",
     "text": [
      "DEBUG: scores.shape = torch.Size([8, 16])\n"
     ]
    },
    {
     "name": "stderr",
     "output_type": "stream",
     "text": [
      "Epoch 12:  18%|█▊        | 7/38 [00:00<00:01, 29.24batch/s, loss=37.5000]"
     ]
    },
    {
     "name": "stdout",
     "output_type": "stream",
     "text": [
      "DEBUG: scores.shape = torch.Size([8, 16])\n",
      "DEBUG: scores.shape = torch.Size([8, 16])\n",
      "DEBUG: scores.shape = torch.Size([8, 16])\n"
     ]
    },
    {
     "name": "stderr",
     "output_type": "stream",
     "text": [
      "Epoch 12:  29%|██▉       | 11/38 [00:00<00:00, 32.24batch/s, loss=50.0000]"
     ]
    },
    {
     "name": "stdout",
     "output_type": "stream",
     "text": [
      "DEBUG: scores.shape = torch.Size([8, 16])\n",
      "DEBUG: scores.shape = torch.Size([8, 16])\n"
     ]
    },
    {
     "name": "stderr",
     "output_type": "stream",
     "text": [
      "Epoch 12:  29%|██▉       | 11/38 [00:00<00:00, 32.24batch/s, loss=37.5000]"
     ]
    },
    {
     "name": "stdout",
     "output_type": "stream",
     "text": [
      "DEBUG: scores.shape = torch.Size([8, 16])\n"
     ]
    },
    {
     "name": "stderr",
     "output_type": "stream",
     "text": [
      "Epoch 12:  29%|██▉       | 11/38 [00:00<00:00, 32.24batch/s, loss=62.5000]"
     ]
    },
    {
     "name": "stdout",
     "output_type": "stream",
     "text": [
      "DEBUG: scores.shape = torch.Size([8, 16])\n"
     ]
    },
    {
     "name": "stderr",
     "output_type": "stream",
     "text": [
      "Epoch 12:  39%|███▉      | 15/38 [00:00<00:00, 31.71batch/s, loss=25.0000]"
     ]
    },
    {
     "name": "stdout",
     "output_type": "stream",
     "text": [
      "DEBUG: scores.shape = torch.Size([8, 16])\n",
      "DEBUG: scores.shape = torch.Size([8, 16])\n"
     ]
    },
    {
     "name": "stderr",
     "output_type": "stream",
     "text": [
      "Epoch 12:  50%|█████     | 19/38 [00:00<00:00, 31.41batch/s, loss=62.5000]"
     ]
    },
    {
     "name": "stdout",
     "output_type": "stream",
     "text": [
      "DEBUG: scores.shape = torch.Size([8, 16])\n",
      "DEBUG: scores.shape = torch.Size([8, 16])\n",
      "DEBUG: scores.shape = torch.Size([8, 16])\n"
     ]
    },
    {
     "name": "stderr",
     "output_type": "stream",
     "text": [
      "Epoch 12:  50%|█████     | 19/38 [00:00<00:00, 31.41batch/s, loss=75.0000]"
     ]
    },
    {
     "name": "stdout",
     "output_type": "stream",
     "text": [
      "DEBUG: scores.shape = torch.Size([8, 16])\n"
     ]
    },
    {
     "name": "stderr",
     "output_type": "stream",
     "text": [
      "Epoch 12:  61%|██████    | 23/38 [00:00<00:00, 30.69batch/s, loss=37.5000]"
     ]
    },
    {
     "name": "stdout",
     "output_type": "stream",
     "text": [
      "DEBUG: scores.shape = torch.Size([8, 16])\n",
      "DEBUG: scores.shape = torch.Size([8, 16])\n",
      "DEBUG: scores.shape = torch.Size([8, 16])\n"
     ]
    },
    {
     "name": "stderr",
     "output_type": "stream",
     "text": [
      "Epoch 12:  61%|██████    | 23/38 [00:00<00:00, 30.69batch/s, loss=12.5000]"
     ]
    },
    {
     "name": "stdout",
     "output_type": "stream",
     "text": [
      "DEBUG: scores.shape = torch.Size([8, 16])\n",
      "DEBUG: scores.shape = torch.Size([8, 16])\n",
      "DEBUG: scores.shape = torch.Size([8, 16])\n"
     ]
    },
    {
     "name": "stderr",
     "output_type": "stream",
     "text": [
      "Epoch 12:  71%|███████   | 27/38 [00:00<00:00, 32.63batch/s, loss=50.0000]"
     ]
    },
    {
     "name": "stdout",
     "output_type": "stream",
     "text": [
      "DEBUG: scores.shape = torch.Size([8, 16])\n"
     ]
    },
    {
     "name": "stderr",
     "output_type": "stream",
     "text": [
      "Epoch 12:  82%|████████▏ | 31/38 [00:00<00:00, 33.37batch/s, loss=62.5000]"
     ]
    },
    {
     "name": "stdout",
     "output_type": "stream",
     "text": [
      "DEBUG: scores.shape = torch.Size([8, 16])\n",
      "DEBUG: scores.shape = torch.Size([8, 16])\n",
      "DEBUG: scores.shape = torch.Size([8, 16])\n",
      "DEBUG: scores.shape = torch.Size([8, 16])\n"
     ]
    },
    {
     "name": "stderr",
     "output_type": "stream",
     "text": [
      "Epoch 12:  82%|████████▏ | 31/38 [00:01<00:00, 33.37batch/s, loss=62.5000]"
     ]
    },
    {
     "name": "stdout",
     "output_type": "stream",
     "text": [
      "DEBUG: scores.shape = torch.Size([8, 16])\n",
      "DEBUG: scores.shape = torch.Size([8, 16])\n"
     ]
    },
    {
     "name": "stderr",
     "output_type": "stream",
     "text": [
      "Epoch 12:  82%|████████▏ | 31/38 [00:01<00:00, 33.37batch/s, loss=25.0000]"
     ]
    },
    {
     "name": "stdout",
     "output_type": "stream",
     "text": [
      "DEBUG: scores.shape = torch.Size([8, 16])\n"
     ]
    },
    {
     "name": "stderr",
     "output_type": "stream",
     "text": [
      "Epoch 12: 100%|██████████| 38/38 [00:01<00:00, 32.08batch/s, loss=75.0000]\n"
     ]
    },
    {
     "name": "stdout",
     "output_type": "stream",
     "text": [
      "DEBUG: scores.shape = torch.Size([8, 16])\n",
      "DEBUG: scores.shape = torch.Size([8, 16])\n",
      "DEBUG: scores.shape = torch.Size([4, 16])\n",
      "Epoch 12, Loss: 50.3289\n"
     ]
    },
    {
     "name": "stderr",
     "output_type": "stream",
     "text": [
      "Epoch 13:   0%|          | 0/38 [00:00<?, ?batch/s]"
     ]
    },
    {
     "name": "stdout",
     "output_type": "stream",
     "text": [
      "DEBUG: scores.shape = torch.Size([8, 16])\n"
     ]
    },
    {
     "name": "stderr",
     "output_type": "stream",
     "text": [
      "Epoch 13:   0%|          | 0/38 [00:00<?, ?batch/s, loss=62.5000]"
     ]
    },
    {
     "name": "stdout",
     "output_type": "stream",
     "text": [
      "DEBUG: scores.shape = torch.Size([8, 16])\n",
      "DEBUG: scores.shape = torch.Size([8, 16])\n",
      "DEBUG: scores.shape = torch.Size([8, 16])\n"
     ]
    },
    {
     "name": "stderr",
     "output_type": "stream",
     "text": [
      "Epoch 13:  11%|█         | 4/38 [00:00<00:00, 34.44batch/s, loss=37.5000]"
     ]
    },
    {
     "name": "stdout",
     "output_type": "stream",
     "text": [
      "DEBUG: scores.shape = torch.Size([8, 16])\n",
      "DEBUG: scores.shape = torch.Size([8, 16])\n",
      "DEBUG: scores.shape = torch.Size([8, 16])\n"
     ]
    },
    {
     "name": "stderr",
     "output_type": "stream",
     "text": [
      "Epoch 13:  11%|█         | 4/38 [00:00<00:00, 34.44batch/s, loss=75.0000]"
     ]
    },
    {
     "name": "stdout",
     "output_type": "stream",
     "text": [
      "DEBUG: scores.shape = torch.Size([8, 16])\n"
     ]
    },
    {
     "name": "stderr",
     "output_type": "stream",
     "text": [
      "Epoch 13:  21%|██        | 8/38 [00:00<00:00, 32.07batch/s, loss=75.0000]"
     ]
    },
    {
     "name": "stdout",
     "output_type": "stream",
     "text": [
      "DEBUG: scores.shape = torch.Size([8, 16])\n",
      "DEBUG: scores.shape = torch.Size([8, 16])\n",
      "DEBUG: scores.shape = torch.Size([8, 16])\n"
     ]
    },
    {
     "name": "stderr",
     "output_type": "stream",
     "text": [
      "Epoch 13:  32%|███▏      | 12/38 [00:00<00:00, 34.54batch/s, loss=37.5000]"
     ]
    },
    {
     "name": "stdout",
     "output_type": "stream",
     "text": [
      "DEBUG: scores.shape = torch.Size([8, 16])\n",
      "DEBUG: scores.shape = torch.Size([8, 16])\n",
      "DEBUG: scores.shape = torch.Size([8, 16])\n"
     ]
    },
    {
     "name": "stderr",
     "output_type": "stream",
     "text": [
      "Epoch 13:  32%|███▏      | 12/38 [00:00<00:00, 34.54batch/s, loss=25.0000]"
     ]
    },
    {
     "name": "stdout",
     "output_type": "stream",
     "text": [
      "DEBUG: scores.shape = torch.Size([8, 16])\n",
      "DEBUG: scores.shape = torch.Size([8, 16])\n"
     ]
    },
    {
     "name": "stderr",
     "output_type": "stream",
     "text": [
      "Epoch 13:  42%|████▏     | 16/38 [00:00<00:00, 33.93batch/s, loss=50.0000]"
     ]
    },
    {
     "name": "stdout",
     "output_type": "stream",
     "text": [
      "DEBUG: scores.shape = torch.Size([8, 16])\n"
     ]
    },
    {
     "name": "stderr",
     "output_type": "stream",
     "text": [
      "Epoch 13:  42%|████▏     | 16/38 [00:00<00:00, 33.93batch/s, loss=25.0000]"
     ]
    },
    {
     "name": "stdout",
     "output_type": "stream",
     "text": [
      "DEBUG: scores.shape = torch.Size([8, 16])\n"
     ]
    },
    {
     "name": "stderr",
     "output_type": "stream",
     "text": [
      "Epoch 13:  42%|████▏     | 16/38 [00:00<00:00, 33.93batch/s, loss=50.0000]"
     ]
    },
    {
     "name": "stdout",
     "output_type": "stream",
     "text": [
      "DEBUG: scores.shape = torch.Size([8, 16])\n",
      "DEBUG: scores.shape = torch.Size([8, 16])\n"
     ]
    },
    {
     "name": "stderr",
     "output_type": "stream",
     "text": [
      "Epoch 13:  53%|█████▎    | 20/38 [00:00<00:00, 31.42batch/s, loss=37.5000]"
     ]
    },
    {
     "name": "stdout",
     "output_type": "stream",
     "text": [
      "DEBUG: scores.shape = torch.Size([8, 16])\n",
      "DEBUG: scores.shape = torch.Size([8, 16])\n"
     ]
    },
    {
     "name": "stderr",
     "output_type": "stream",
     "text": [
      "Epoch 13:  53%|█████▎    | 20/38 [00:00<00:00, 31.42batch/s, loss=62.5000]"
     ]
    },
    {
     "name": "stdout",
     "output_type": "stream",
     "text": [
      "DEBUG: scores.shape = torch.Size([8, 16])\n"
     ]
    },
    {
     "name": "stderr",
     "output_type": "stream",
     "text": [
      "Epoch 13:  63%|██████▎   | 24/38 [00:00<00:00, 32.15batch/s, loss=37.5000]"
     ]
    },
    {
     "name": "stdout",
     "output_type": "stream",
     "text": [
      "DEBUG: scores.shape = torch.Size([8, 16])\n",
      "DEBUG: scores.shape = torch.Size([8, 16])\n"
     ]
    },
    {
     "name": "stderr",
     "output_type": "stream",
     "text": [
      "Epoch 13:  63%|██████▎   | 24/38 [00:00<00:00, 32.15batch/s, loss=62.5000]"
     ]
    },
    {
     "name": "stdout",
     "output_type": "stream",
     "text": [
      "DEBUG: scores.shape = torch.Size([8, 16])\n",
      "DEBUG: scores.shape = torch.Size([8, 16])\n"
     ]
    },
    {
     "name": "stderr",
     "output_type": "stream",
     "text": [
      "Epoch 13:  74%|███████▎  | 28/38 [00:00<00:00, 31.50batch/s, loss=50.0000]"
     ]
    },
    {
     "name": "stdout",
     "output_type": "stream",
     "text": [
      "DEBUG: scores.shape = torch.Size([8, 16])\n",
      "DEBUG: scores.shape = torch.Size([8, 16])\n",
      "DEBUG: scores.shape = torch.Size([8, 16])\n"
     ]
    },
    {
     "name": "stderr",
     "output_type": "stream",
     "text": [
      "Epoch 13:  74%|███████▎  | 28/38 [00:00<00:00, 31.50batch/s, loss=25.0000]"
     ]
    },
    {
     "name": "stdout",
     "output_type": "stream",
     "text": [
      "DEBUG: scores.shape = torch.Size([8, 16])\n",
      "DEBUG: scores.shape = torch.Size([8, 16])\n"
     ]
    },
    {
     "name": "stderr",
     "output_type": "stream",
     "text": [
      "Epoch 13:  84%|████████▍ | 32/38 [00:01<00:00, 30.93batch/s, loss=50.0000]"
     ]
    },
    {
     "name": "stdout",
     "output_type": "stream",
     "text": [
      "DEBUG: scores.shape = torch.Size([8, 16])\n"
     ]
    },
    {
     "name": "stderr",
     "output_type": "stream",
     "text": [
      "Epoch 13:  84%|████████▍ | 32/38 [00:01<00:00, 30.93batch/s, loss=50.0000]"
     ]
    },
    {
     "name": "stdout",
     "output_type": "stream",
     "text": [
      "DEBUG: scores.shape = torch.Size([8, 16])\n",
      "DEBUG: scores.shape = torch.Size([8, 16])\n"
     ]
    },
    {
     "name": "stderr",
     "output_type": "stream",
     "text": [
      "Epoch 13:  95%|█████████▍| 36/38 [00:01<00:00, 31.46batch/s, loss=62.5000]"
     ]
    },
    {
     "name": "stdout",
     "output_type": "stream",
     "text": [
      "DEBUG: scores.shape = torch.Size([8, 16])\n",
      "DEBUG: scores.shape = torch.Size([8, 16])\n"
     ]
    },
    {
     "name": "stderr",
     "output_type": "stream",
     "text": [
      "Epoch 13: 100%|██████████| 38/38 [00:01<00:00, 32.37batch/s, loss=75.0000]\n"
     ]
    },
    {
     "name": "stdout",
     "output_type": "stream",
     "text": [
      "DEBUG: scores.shape = torch.Size([4, 16])\n",
      "Epoch 13, Loss: 50.3289\n"
     ]
    },
    {
     "name": "stderr",
     "output_type": "stream",
     "text": [
      "Epoch 14:   0%|          | 0/38 [00:00<?, ?batch/s, loss=37.5000]"
     ]
    },
    {
     "name": "stdout",
     "output_type": "stream",
     "text": [
      "DEBUG: scores.shape = torch.Size([8, 16])\n"
     ]
    },
    {
     "name": "stderr",
     "output_type": "stream",
     "text": [
      "Epoch 14:   0%|          | 0/38 [00:00<?, ?batch/s, loss=62.5000]"
     ]
    },
    {
     "name": "stdout",
     "output_type": "stream",
     "text": [
      "DEBUG: scores.shape = torch.Size([8, 16])\n"
     ]
    },
    {
     "name": "stderr",
     "output_type": "stream",
     "text": [
      "Epoch 14:  11%|█         | 4/38 [00:00<00:01, 33.62batch/s, loss=50.0000]"
     ]
    },
    {
     "name": "stdout",
     "output_type": "stream",
     "text": [
      "DEBUG: scores.shape = torch.Size([8, 16])\n",
      "DEBUG: scores.shape = torch.Size([8, 16])\n",
      "DEBUG: scores.shape = torch.Size([8, 16])\n"
     ]
    },
    {
     "name": "stderr",
     "output_type": "stream",
     "text": [
      "Epoch 14:  11%|█         | 4/38 [00:00<00:01, 33.62batch/s, loss=50.0000]"
     ]
    },
    {
     "name": "stdout",
     "output_type": "stream",
     "text": [
      "DEBUG: scores.shape = torch.Size([8, 16])\n",
      "DEBUG: scores.shape = torch.Size([8, 16])\n"
     ]
    },
    {
     "name": "stderr",
     "output_type": "stream",
     "text": [
      "Epoch 14:  11%|█         | 4/38 [00:00<00:01, 33.62batch/s, loss=50.0000]"
     ]
    },
    {
     "name": "stdout",
     "output_type": "stream",
     "text": [
      "DEBUG: scores.shape = torch.Size([8, 16])\n"
     ]
    },
    {
     "name": "stderr",
     "output_type": "stream",
     "text": [
      "Epoch 14:  21%|██        | 8/38 [00:00<00:00, 32.04batch/s, loss=25.0000]"
     ]
    },
    {
     "name": "stdout",
     "output_type": "stream",
     "text": [
      "DEBUG: scores.shape = torch.Size([8, 16])\n",
      "DEBUG: scores.shape = torch.Size([8, 16])\n",
      "DEBUG: scores.shape = torch.Size([8, 16])\n"
     ]
    },
    {
     "name": "stderr",
     "output_type": "stream",
     "text": [
      "Epoch 14:  21%|██        | 8/38 [00:00<00:00, 32.04batch/s, loss=50.0000]"
     ]
    },
    {
     "name": "stdout",
     "output_type": "stream",
     "text": [
      "DEBUG: scores.shape = torch.Size([8, 16])\n"
     ]
    },
    {
     "name": "stderr",
     "output_type": "stream",
     "text": [
      "Epoch 14:  32%|███▏      | 12/38 [00:00<00:00, 30.76batch/s, loss=75.0000]"
     ]
    },
    {
     "name": "stdout",
     "output_type": "stream",
     "text": [
      "DEBUG: scores.shape = torch.Size([8, 16])\n"
     ]
    },
    {
     "name": "stderr",
     "output_type": "stream",
     "text": [
      "Epoch 14:  32%|███▏      | 12/38 [00:00<00:00, 30.76batch/s, loss=50.0000]"
     ]
    },
    {
     "name": "stdout",
     "output_type": "stream",
     "text": [
      "DEBUG: scores.shape = torch.Size([8, 16])\n"
     ]
    },
    {
     "name": "stderr",
     "output_type": "stream",
     "text": [
      "Epoch 14:  42%|████▏     | 16/38 [00:00<00:00, 30.31batch/s, loss=37.5000]"
     ]
    },
    {
     "name": "stdout",
     "output_type": "stream",
     "text": [
      "DEBUG: scores.shape = torch.Size([8, 16])\n",
      "DEBUG: scores.shape = torch.Size([8, 16])\n",
      "DEBUG: scores.shape = torch.Size([8, 16])\n"
     ]
    },
    {
     "name": "stderr",
     "output_type": "stream",
     "text": [
      "Epoch 14:  42%|████▏     | 16/38 [00:00<00:00, 30.31batch/s, loss=37.5000]"
     ]
    },
    {
     "name": "stdout",
     "output_type": "stream",
     "text": [
      "DEBUG: scores.shape = torch.Size([8, 16])\n"
     ]
    },
    {
     "name": "stderr",
     "output_type": "stream",
     "text": [
      "Epoch 14:  42%|████▏     | 16/38 [00:00<00:00, 30.31batch/s, loss=75.0000]"
     ]
    },
    {
     "name": "stdout",
     "output_type": "stream",
     "text": [
      "DEBUG: scores.shape = torch.Size([8, 16])\n",
      "DEBUG: scores.shape = torch.Size([8, 16])\n"
     ]
    },
    {
     "name": "stderr",
     "output_type": "stream",
     "text": [
      "Epoch 14:  53%|█████▎    | 20/38 [00:00<00:00, 31.50batch/s, loss=62.5000]"
     ]
    },
    {
     "name": "stdout",
     "output_type": "stream",
     "text": [
      "DEBUG: scores.shape = torch.Size([8, 16])\n"
     ]
    },
    {
     "name": "stderr",
     "output_type": "stream",
     "text": [
      "Epoch 14:  53%|█████▎    | 20/38 [00:00<00:00, 31.50batch/s, loss=37.5000]"
     ]
    },
    {
     "name": "stdout",
     "output_type": "stream",
     "text": [
      "DEBUG: scores.shape = torch.Size([8, 16])\n",
      "DEBUG: scores.shape = torch.Size([8, 16])\n"
     ]
    },
    {
     "name": "stderr",
     "output_type": "stream",
     "text": [
      "Epoch 14:  63%|██████▎   | 24/38 [00:00<00:00, 31.00batch/s, loss=62.5000]"
     ]
    },
    {
     "name": "stdout",
     "output_type": "stream",
     "text": [
      "DEBUG: scores.shape = torch.Size([8, 16])\n",
      "DEBUG: scores.shape = torch.Size([8, 16])\n"
     ]
    },
    {
     "name": "stderr",
     "output_type": "stream",
     "text": [
      "Epoch 14:  63%|██████▎   | 24/38 [00:00<00:00, 31.00batch/s, loss=50.0000]"
     ]
    },
    {
     "name": "stdout",
     "output_type": "stream",
     "text": [
      "DEBUG: scores.shape = torch.Size([8, 16])\n"
     ]
    },
    {
     "name": "stderr",
     "output_type": "stream",
     "text": [
      "Epoch 14:  63%|██████▎   | 24/38 [00:00<00:00, 31.00batch/s, loss=37.5000]"
     ]
    },
    {
     "name": "stdout",
     "output_type": "stream",
     "text": [
      "DEBUG: scores.shape = torch.Size([8, 16])\n"
     ]
    },
    {
     "name": "stderr",
     "output_type": "stream",
     "text": [
      "Epoch 14:  74%|███████▎  | 28/38 [00:00<00:00, 32.03batch/s, loss=75.0000]"
     ]
    },
    {
     "name": "stdout",
     "output_type": "stream",
     "text": [
      "DEBUG: scores.shape = torch.Size([8, 16])\n",
      "DEBUG: scores.shape = torch.Size([8, 16])\n",
      "DEBUG: scores.shape = torch.Size([8, 16])\n"
     ]
    },
    {
     "name": "stderr",
     "output_type": "stream",
     "text": [
      "Epoch 14:  74%|███████▎  | 28/38 [00:01<00:00, 32.03batch/s, loss=62.5000]"
     ]
    },
    {
     "name": "stdout",
     "output_type": "stream",
     "text": [
      "DEBUG: scores.shape = torch.Size([8, 16])\n",
      "DEBUG: scores.shape = torch.Size([8, 16])\n"
     ]
    },
    {
     "name": "stderr",
     "output_type": "stream",
     "text": [
      "Epoch 14:  84%|████████▍ | 32/38 [00:01<00:00, 32.53batch/s, loss=37.5000]"
     ]
    },
    {
     "name": "stdout",
     "output_type": "stream",
     "text": [
      "DEBUG: scores.shape = torch.Size([8, 16])\n"
     ]
    },
    {
     "name": "stderr",
     "output_type": "stream",
     "text": [
      "Epoch 14:  84%|████████▍ | 32/38 [00:01<00:00, 32.53batch/s, loss=62.5000]"
     ]
    },
    {
     "name": "stdout",
     "output_type": "stream",
     "text": [
      "DEBUG: scores.shape = torch.Size([8, 16])\n"
     ]
    },
    {
     "name": "stderr",
     "output_type": "stream",
     "text": [
      "Epoch 14:  95%|█████████▍| 36/38 [00:01<00:00, 32.37batch/s, loss=25.0000]"
     ]
    },
    {
     "name": "stdout",
     "output_type": "stream",
     "text": [
      "DEBUG: scores.shape = torch.Size([8, 16])\n",
      "DEBUG: scores.shape = torch.Size([8, 16])\n",
      "DEBUG: scores.shape = torch.Size([8, 16])\n"
     ]
    },
    {
     "name": "stderr",
     "output_type": "stream",
     "text": [
      "Epoch 14: 100%|██████████| 38/38 [00:01<00:00, 32.05batch/s, loss=75.0000]\n"
     ]
    },
    {
     "name": "stdout",
     "output_type": "stream",
     "text": [
      "DEBUG: scores.shape = torch.Size([4, 16])\n",
      "Epoch 14, Loss: 50.3289\n"
     ]
    },
    {
     "name": "stderr",
     "output_type": "stream",
     "text": [
      "Epoch 15:   0%|          | 0/38 [00:00<?, ?batch/s]"
     ]
    },
    {
     "name": "stdout",
     "output_type": "stream",
     "text": [
      "DEBUG: scores.shape = torch.Size([8, 16])\n"
     ]
    },
    {
     "name": "stderr",
     "output_type": "stream",
     "text": [
      "Epoch 15:   0%|          | 0/38 [00:00<?, ?batch/s, loss=75.0000]"
     ]
    },
    {
     "name": "stdout",
     "output_type": "stream",
     "text": [
      "DEBUG: scores.shape = torch.Size([8, 16])\n"
     ]
    },
    {
     "name": "stderr",
     "output_type": "stream",
     "text": [
      "Epoch 15:   0%|          | 0/38 [00:00<?, ?batch/s, loss=37.5000]"
     ]
    },
    {
     "name": "stdout",
     "output_type": "stream",
     "text": [
      "DEBUG: scores.shape = torch.Size([8, 16])\n"
     ]
    },
    {
     "name": "stderr",
     "output_type": "stream",
     "text": [
      "Epoch 15:  11%|█         | 4/38 [00:00<00:01, 33.40batch/s, loss=37.5000]"
     ]
    },
    {
     "name": "stdout",
     "output_type": "stream",
     "text": [
      "DEBUG: scores.shape = torch.Size([8, 16])\n",
      "DEBUG: scores.shape = torch.Size([8, 16])\n",
      "DEBUG: scores.shape = torch.Size([8, 16])\n"
     ]
    },
    {
     "name": "stderr",
     "output_type": "stream",
     "text": [
      "Epoch 15:  11%|█         | 4/38 [00:00<00:01, 33.40batch/s, loss=50.0000]"
     ]
    },
    {
     "name": "stdout",
     "output_type": "stream",
     "text": [
      "DEBUG: scores.shape = torch.Size([8, 16])\n"
     ]
    },
    {
     "name": "stderr",
     "output_type": "stream",
     "text": [
      "Epoch 15:  11%|█         | 4/38 [00:00<00:01, 33.40batch/s, loss=50.0000]"
     ]
    },
    {
     "name": "stdout",
     "output_type": "stream",
     "text": [
      "DEBUG: scores.shape = torch.Size([8, 16])\n"
     ]
    },
    {
     "name": "stderr",
     "output_type": "stream",
     "text": [
      "Epoch 15:  21%|██        | 8/38 [00:00<00:00, 33.65batch/s, loss=50.0000]"
     ]
    },
    {
     "name": "stdout",
     "output_type": "stream",
     "text": [
      "DEBUG: scores.shape = torch.Size([8, 16])\n"
     ]
    },
    {
     "name": "stderr",
     "output_type": "stream",
     "text": [
      "Epoch 15:  21%|██        | 8/38 [00:00<00:00, 33.65batch/s, loss=62.5000]"
     ]
    },
    {
     "name": "stdout",
     "output_type": "stream",
     "text": [
      "DEBUG: scores.shape = torch.Size([8, 16])\n"
     ]
    },
    {
     "name": "stderr",
     "output_type": "stream",
     "text": [
      "Epoch 15:  21%|██        | 8/38 [00:00<00:00, 33.65batch/s, loss=75.0000]"
     ]
    },
    {
     "name": "stdout",
     "output_type": "stream",
     "text": [
      "DEBUG: scores.shape = torch.Size([8, 16])\n",
      "DEBUG: scores.shape = torch.Size([8, 16])\n"
     ]
    },
    {
     "name": "stderr",
     "output_type": "stream",
     "text": [
      "Epoch 15:  32%|███▏      | 12/38 [00:00<00:00, 30.65batch/s, loss=37.5000]"
     ]
    },
    {
     "name": "stdout",
     "output_type": "stream",
     "text": [
      "DEBUG: scores.shape = torch.Size([8, 16])\n"
     ]
    },
    {
     "name": "stderr",
     "output_type": "stream",
     "text": [
      "Epoch 15:  32%|███▏      | 12/38 [00:00<00:00, 30.65batch/s, loss=50.0000]"
     ]
    },
    {
     "name": "stdout",
     "output_type": "stream",
     "text": [
      "DEBUG: scores.shape = torch.Size([8, 16])\n",
      "DEBUG: scores.shape = torch.Size([8, 16])\n"
     ]
    },
    {
     "name": "stderr",
     "output_type": "stream",
     "text": [
      "Epoch 15:  32%|███▏      | 12/38 [00:00<00:00, 30.65batch/s, loss=62.5000]"
     ]
    },
    {
     "name": "stdout",
     "output_type": "stream",
     "text": [
      "DEBUG: scores.shape = torch.Size([8, 16])\n"
     ]
    },
    {
     "name": "stderr",
     "output_type": "stream",
     "text": [
      "Epoch 15:  42%|████▏     | 16/38 [00:00<00:00, 29.84batch/s, loss=25.0000]"
     ]
    },
    {
     "name": "stdout",
     "output_type": "stream",
     "text": [
      "DEBUG: scores.shape = torch.Size([8, 16])\n",
      "DEBUG: scores.shape = torch.Size([8, 16])\n"
     ]
    },
    {
     "name": "stderr",
     "output_type": "stream",
     "text": [
      "Epoch 15:  42%|████▏     | 16/38 [00:00<00:00, 29.84batch/s, loss=62.5000]"
     ]
    },
    {
     "name": "stdout",
     "output_type": "stream",
     "text": [
      "DEBUG: scores.shape = torch.Size([8, 16])\n"
     ]
    },
    {
     "name": "stderr",
     "output_type": "stream",
     "text": [
      "Epoch 15:  53%|█████▎    | 20/38 [00:00<00:00, 30.92batch/s, loss=37.5000]"
     ]
    },
    {
     "name": "stdout",
     "output_type": "stream",
     "text": [
      "DEBUG: scores.shape = torch.Size([8, 16])\n",
      "DEBUG: scores.shape = torch.Size([8, 16])\n"
     ]
    },
    {
     "name": "stderr",
     "output_type": "stream",
     "text": [
      "Epoch 15:  53%|█████▎    | 20/38 [00:00<00:00, 30.92batch/s, loss=37.5000]"
     ]
    },
    {
     "name": "stdout",
     "output_type": "stream",
     "text": [
      "DEBUG: scores.shape = torch.Size([8, 16])\n"
     ]
    },
    {
     "name": "stderr",
     "output_type": "stream",
     "text": [
      "Epoch 15:  53%|█████▎    | 20/38 [00:00<00:00, 30.92batch/s, loss=87.5000]"
     ]
    },
    {
     "name": "stdout",
     "output_type": "stream",
     "text": [
      "DEBUG: scores.shape = torch.Size([8, 16])\n",
      "DEBUG: scores.shape = torch.Size([8, 16])\n"
     ]
    },
    {
     "name": "stderr",
     "output_type": "stream",
     "text": [
      "Epoch 15:  63%|██████▎   | 24/38 [00:00<00:00, 29.47batch/s, loss=62.5000]"
     ]
    },
    {
     "name": "stdout",
     "output_type": "stream",
     "text": [
      "DEBUG: scores.shape = torch.Size([8, 16])\n"
     ]
    },
    {
     "name": "stderr",
     "output_type": "stream",
     "text": [
      "Epoch 15:  63%|██████▎   | 24/38 [00:00<00:00, 29.47batch/s, loss=37.5000]"
     ]
    },
    {
     "name": "stdout",
     "output_type": "stream",
     "text": [
      "DEBUG: scores.shape = torch.Size([8, 16])\n",
      "DEBUG: scores.shape = torch.Size([8, 16])\n"
     ]
    },
    {
     "name": "stderr",
     "output_type": "stream",
     "text": [
      "Epoch 15:  63%|██████▎   | 24/38 [00:00<00:00, 29.47batch/s, loss=25.0000]"
     ]
    },
    {
     "name": "stdout",
     "output_type": "stream",
     "text": [
      "DEBUG: scores.shape = torch.Size([8, 16])\n"
     ]
    },
    {
     "name": "stderr",
     "output_type": "stream",
     "text": [
      "Epoch 15:  74%|███████▎  | 28/38 [00:00<00:00, 29.71batch/s, loss=37.5000]"
     ]
    },
    {
     "name": "stdout",
     "output_type": "stream",
     "text": [
      "DEBUG: scores.shape = torch.Size([8, 16])\n",
      "DEBUG: scores.shape = torch.Size([8, 16])\n"
     ]
    },
    {
     "name": "stderr",
     "output_type": "stream",
     "text": [
      "Epoch 15:  74%|███████▎  | 28/38 [00:01<00:00, 29.71batch/s, loss=62.5000]"
     ]
    },
    {
     "name": "stdout",
     "output_type": "stream",
     "text": [
      "DEBUG: scores.shape = torch.Size([8, 16])\n"
     ]
    },
    {
     "name": "stderr",
     "output_type": "stream",
     "text": [
      "Epoch 15:  84%|████████▍ | 32/38 [00:01<00:00, 30.61batch/s, loss=50.0000]"
     ]
    },
    {
     "name": "stdout",
     "output_type": "stream",
     "text": [
      "DEBUG: scores.shape = torch.Size([8, 16])\n",
      "DEBUG: scores.shape = torch.Size([8, 16])\n",
      "DEBUG: scores.shape = torch.Size([8, 16])\n"
     ]
    },
    {
     "name": "stderr",
     "output_type": "stream",
     "text": [
      "Epoch 15:  84%|████████▍ | 32/38 [00:01<00:00, 30.61batch/s, loss=25.0000]"
     ]
    },
    {
     "name": "stdout",
     "output_type": "stream",
     "text": [
      "DEBUG: scores.shape = torch.Size([8, 16])\n"
     ]
    },
    {
     "name": "stderr",
     "output_type": "stream",
     "text": [
      "Epoch 15:  95%|█████████▍| 36/38 [00:01<00:00, 30.79batch/s, loss=75.0000]"
     ]
    },
    {
     "name": "stdout",
     "output_type": "stream",
     "text": [
      "DEBUG: scores.shape = torch.Size([8, 16])\n",
      "DEBUG: scores.shape = torch.Size([8, 16])\n"
     ]
    },
    {
     "name": "stderr",
     "output_type": "stream",
     "text": [
      "Epoch 15: 100%|██████████| 38/38 [00:01<00:00, 30.94batch/s, loss=75.0000]\n"
     ]
    },
    {
     "name": "stdout",
     "output_type": "stream",
     "text": [
      "DEBUG: scores.shape = torch.Size([4, 16])\n",
      "Epoch 15, Loss: 50.3289\n"
     ]
    },
    {
     "name": "stderr",
     "output_type": "stream",
     "text": [
      "Epoch 16:   0%|          | 0/38 [00:00<?, ?batch/s, loss=37.5000]"
     ]
    },
    {
     "name": "stdout",
     "output_type": "stream",
     "text": [
      "DEBUG: scores.shape = torch.Size([8, 16])\n",
      "DEBUG: scores.shape = torch.Size([8, 16])\n"
     ]
    },
    {
     "name": "stderr",
     "output_type": "stream",
     "text": [
      "Epoch 16:   0%|          | 0/38 [00:00<?, ?batch/s, loss=50.0000]"
     ]
    },
    {
     "name": "stdout",
     "output_type": "stream",
     "text": [
      "DEBUG: scores.shape = torch.Size([8, 16])\n"
     ]
    },
    {
     "name": "stderr",
     "output_type": "stream",
     "text": [
      "Epoch 16:   8%|▊         | 3/38 [00:00<00:01, 24.23batch/s, loss=50.0000]"
     ]
    },
    {
     "name": "stdout",
     "output_type": "stream",
     "text": [
      "DEBUG: scores.shape = torch.Size([8, 16])\n",
      "DEBUG: scores.shape = torch.Size([8, 16])\n"
     ]
    },
    {
     "name": "stderr",
     "output_type": "stream",
     "text": [
      "Epoch 16:   8%|▊         | 3/38 [00:00<00:01, 24.23batch/s, loss=50.0000]"
     ]
    },
    {
     "name": "stdout",
     "output_type": "stream",
     "text": [
      "DEBUG: scores.shape = torch.Size([8, 16])\n"
     ]
    },
    {
     "name": "stderr",
     "output_type": "stream",
     "text": [
      "Epoch 16:  18%|█▊        | 7/38 [00:00<00:01, 28.71batch/s, loss=75.0000]"
     ]
    },
    {
     "name": "stdout",
     "output_type": "stream",
     "text": [
      "DEBUG: scores.shape = torch.Size([8, 16])\n",
      "DEBUG: scores.shape = torch.Size([8, 16])\n"
     ]
    },
    {
     "name": "stderr",
     "output_type": "stream",
     "text": [
      "Epoch 16:  18%|█▊        | 7/38 [00:00<00:01, 28.71batch/s, loss=62.5000]"
     ]
    },
    {
     "name": "stdout",
     "output_type": "stream",
     "text": [
      "DEBUG: scores.shape = torch.Size([8, 16])\n",
      "DEBUG: scores.shape = torch.Size([8, 16])\n"
     ]
    },
    {
     "name": "stderr",
     "output_type": "stream",
     "text": [
      "Epoch 16:  26%|██▋       | 10/38 [00:00<00:01, 27.95batch/s, loss=62.5000]"
     ]
    },
    {
     "name": "stdout",
     "output_type": "stream",
     "text": [
      "DEBUG: scores.shape = torch.Size([8, 16])\n"
     ]
    },
    {
     "name": "stderr",
     "output_type": "stream",
     "text": [
      "Epoch 16:  26%|██▋       | 10/38 [00:00<00:01, 27.95batch/s, loss=87.5000]"
     ]
    },
    {
     "name": "stdout",
     "output_type": "stream",
     "text": [
      "DEBUG: scores.shape = torch.Size([8, 16])\n"
     ]
    },
    {
     "name": "stderr",
     "output_type": "stream",
     "text": [
      "Epoch 16:  37%|███▋      | 14/38 [00:00<00:00, 29.70batch/s, loss=37.5000]"
     ]
    },
    {
     "name": "stdout",
     "output_type": "stream",
     "text": [
      "DEBUG: scores.shape = torch.Size([8, 16])\n",
      "DEBUG: scores.shape = torch.Size([8, 16])\n",
      "DEBUG: scores.shape = torch.Size([8, 16])\n"
     ]
    },
    {
     "name": "stderr",
     "output_type": "stream",
     "text": [
      "Epoch 16:  37%|███▋      | 14/38 [00:00<00:00, 29.70batch/s, loss=37.5000]"
     ]
    },
    {
     "name": "stdout",
     "output_type": "stream",
     "text": [
      "DEBUG: scores.shape = torch.Size([8, 16])\n",
      "DEBUG: scores.shape = torch.Size([8, 16])\n"
     ]
    },
    {
     "name": "stderr",
     "output_type": "stream",
     "text": [
      "Epoch 16:  37%|███▋      | 14/38 [00:00<00:00, 29.70batch/s, loss=50.0000]"
     ]
    },
    {
     "name": "stdout",
     "output_type": "stream",
     "text": [
      "DEBUG: scores.shape = torch.Size([8, 16])\n"
     ]
    },
    {
     "name": "stderr",
     "output_type": "stream",
     "text": [
      "Epoch 16:  47%|████▋     | 18/38 [00:00<00:00, 31.26batch/s, loss=50.0000]"
     ]
    },
    {
     "name": "stdout",
     "output_type": "stream",
     "text": [
      "DEBUG: scores.shape = torch.Size([8, 16])\n"
     ]
    },
    {
     "name": "stderr",
     "output_type": "stream",
     "text": [
      "Epoch 16:  47%|████▋     | 18/38 [00:00<00:00, 31.26batch/s, loss=87.5000]"
     ]
    },
    {
     "name": "stdout",
     "output_type": "stream",
     "text": [
      "DEBUG: scores.shape = torch.Size([8, 16])\n",
      "DEBUG: scores.shape = torch.Size([8, 16])\n"
     ]
    },
    {
     "name": "stderr",
     "output_type": "stream",
     "text": [
      "Epoch 16:  58%|█████▊    | 22/38 [00:00<00:00, 28.64batch/s, loss=62.5000]"
     ]
    },
    {
     "name": "stdout",
     "output_type": "stream",
     "text": [
      "DEBUG: scores.shape = torch.Size([8, 16])\n",
      "DEBUG: scores.shape = torch.Size([8, 16])\n"
     ]
    },
    {
     "name": "stderr",
     "output_type": "stream",
     "text": [
      "Epoch 16:  58%|█████▊    | 22/38 [00:00<00:00, 28.64batch/s, loss=37.5000]"
     ]
    },
    {
     "name": "stdout",
     "output_type": "stream",
     "text": [
      "DEBUG: scores.shape = torch.Size([8, 16])\n",
      "DEBUG: scores.shape = torch.Size([8, 16])\n"
     ]
    },
    {
     "name": "stderr",
     "output_type": "stream",
     "text": [
      "Epoch 16:  66%|██████▌   | 25/38 [00:00<00:00, 28.50batch/s, loss=50.0000]"
     ]
    },
    {
     "name": "stdout",
     "output_type": "stream",
     "text": [
      "DEBUG: scores.shape = torch.Size([8, 16])\n",
      "DEBUG: scores.shape = torch.Size([8, 16])\n"
     ]
    },
    {
     "name": "stderr",
     "output_type": "stream",
     "text": [
      "Epoch 16:  76%|███████▋  | 29/38 [00:00<00:00, 30.37batch/s, loss=37.5000]"
     ]
    },
    {
     "name": "stdout",
     "output_type": "stream",
     "text": [
      "DEBUG: scores.shape = torch.Size([8, 16])\n",
      "DEBUG: scores.shape = torch.Size([8, 16])\n"
     ]
    },
    {
     "name": "stderr",
     "output_type": "stream",
     "text": [
      "Epoch 16:  76%|███████▋  | 29/38 [00:01<00:00, 30.37batch/s, loss=25.0000]"
     ]
    },
    {
     "name": "stdout",
     "output_type": "stream",
     "text": [
      "DEBUG: scores.shape = torch.Size([8, 16])\n",
      "DEBUG: scores.shape = torch.Size([8, 16])\n"
     ]
    },
    {
     "name": "stderr",
     "output_type": "stream",
     "text": [
      "Epoch 16:  76%|███████▋  | 29/38 [00:01<00:00, 30.37batch/s, loss=87.5000]"
     ]
    },
    {
     "name": "stdout",
     "output_type": "stream",
     "text": [
      "DEBUG: scores.shape = torch.Size([8, 16])\n",
      "DEBUG: scores.shape = torch.Size([8, 16])\n"
     ]
    },
    {
     "name": "stderr",
     "output_type": "stream",
     "text": [
      "Epoch 16:  87%|████████▋ | 33/38 [00:01<00:00, 31.45batch/s, loss=50.0000]"
     ]
    },
    {
     "name": "stdout",
     "output_type": "stream",
     "text": [
      "DEBUG: scores.shape = torch.Size([8, 16])\n"
     ]
    },
    {
     "name": "stderr",
     "output_type": "stream",
     "text": [
      "Epoch 16:  87%|████████▋ | 33/38 [00:01<00:00, 31.45batch/s, loss=37.5000]"
     ]
    },
    {
     "name": "stdout",
     "output_type": "stream",
     "text": [
      "DEBUG: scores.shape = torch.Size([8, 16])\n",
      "DEBUG: scores.shape = torch.Size([8, 16])\n"
     ]
    },
    {
     "name": "stderr",
     "output_type": "stream",
     "text": [
      "Epoch 16: 100%|██████████| 38/38 [00:01<00:00, 30.80batch/s, loss=0.0000] \n"
     ]
    },
    {
     "name": "stdout",
     "output_type": "stream",
     "text": [
      "DEBUG: scores.shape = torch.Size([8, 16])\n",
      "DEBUG: scores.shape = torch.Size([4, 16])\n",
      "Epoch 16, Loss: 49.3421\n"
     ]
    },
    {
     "name": "stderr",
     "output_type": "stream",
     "text": [
      "Epoch 17:   0%|          | 0/38 [00:00<?, ?batch/s]"
     ]
    },
    {
     "name": "stdout",
     "output_type": "stream",
     "text": [
      "DEBUG: scores.shape = torch.Size([8, 16])\n"
     ]
    },
    {
     "name": "stderr",
     "output_type": "stream",
     "text": [
      "Epoch 17:   0%|          | 0/38 [00:00<?, ?batch/s, loss=50.0000]"
     ]
    },
    {
     "name": "stdout",
     "output_type": "stream",
     "text": [
      "DEBUG: scores.shape = torch.Size([8, 16])"
     ]
    },
    {
     "name": "stderr",
     "output_type": "stream",
     "text": [
      "Epoch 17:   0%|          | 0/38 [00:00<?, ?batch/s, loss=75.0000]"
     ]
    },
    {
     "name": "stdout",
     "output_type": "stream",
     "text": [
      "\n",
      "DEBUG: scores.shape = torch.Size([8, 16])\n"
     ]
    },
    {
     "name": "stderr",
     "output_type": "stream",
     "text": [
      "Epoch 17:   8%|▊         | 3/38 [00:00<00:01, 28.58batch/s, loss=62.5000]"
     ]
    },
    {
     "name": "stdout",
     "output_type": "stream",
     "text": [
      "DEBUG: scores.shape = torch.Size([8, 16])\n",
      "DEBUG: scores.shape = torch.Size([8, 16])\n"
     ]
    },
    {
     "name": "stderr",
     "output_type": "stream",
     "text": [
      "Epoch 17:   8%|▊         | 3/38 [00:00<00:01, 28.58batch/s, loss=50.0000]"
     ]
    },
    {
     "name": "stdout",
     "output_type": "stream",
     "text": [
      "DEBUG: scores.shape = torch.Size([8, 16])\n"
     ]
    },
    {
     "name": "stderr",
     "output_type": "stream",
     "text": [
      "Epoch 17:  18%|█▊        | 7/38 [00:00<00:01, 29.76batch/s, loss=50.0000]"
     ]
    },
    {
     "name": "stdout",
     "output_type": "stream",
     "text": [
      "DEBUG: scores.shape = torch.Size([8, 16])\n"
     ]
    },
    {
     "name": "stderr",
     "output_type": "stream",
     "text": [
      "Epoch 17:  18%|█▊        | 7/38 [00:00<00:01, 29.76batch/s, loss=25.0000]"
     ]
    },
    {
     "name": "stdout",
     "output_type": "stream",
     "text": [
      "DEBUG: scores.shape = torch.Size([8, 16])\n",
      "DEBUG: scores.shape = torch.Size([8, 16])\n"
     ]
    },
    {
     "name": "stderr",
     "output_type": "stream",
     "text": [
      "Epoch 17:  26%|██▋       | 10/38 [00:00<00:01, 27.43batch/s, loss=50.0000]"
     ]
    },
    {
     "name": "stdout",
     "output_type": "stream",
     "text": [
      "DEBUG: scores.shape = torch.Size([8, 16])\n",
      "DEBUG: scores.shape = torch.Size([8, 16])\n",
      "DEBUG: scores.shape = torch.Size([8, 16])\n"
     ]
    },
    {
     "name": "stderr",
     "output_type": "stream",
     "text": [
      "Epoch 17:  26%|██▋       | 10/38 [00:00<00:01, 27.43batch/s, loss=25.0000]"
     ]
    },
    {
     "name": "stdout",
     "output_type": "stream",
     "text": [
      "DEBUG: scores.shape = torch.Size([8, 16])\n"
     ]
    },
    {
     "name": "stderr",
     "output_type": "stream",
     "text": [
      "Epoch 17:  37%|███▋      | 14/38 [00:00<00:00, 29.05batch/s, loss=75.0000]"
     ]
    },
    {
     "name": "stdout",
     "output_type": "stream",
     "text": [
      "DEBUG: scores.shape = torch.Size([8, 16])\n",
      "DEBUG: scores.shape = torch.Size([8, 16])\n",
      "DEBUG: scores.shape = torch.Size([8, 16])\n"
     ]
    },
    {
     "name": "stderr",
     "output_type": "stream",
     "text": [
      "Epoch 17:  37%|███▋      | 14/38 [00:00<00:00, 29.05batch/s, loss=25.0000]"
     ]
    },
    {
     "name": "stdout",
     "output_type": "stream",
     "text": [
      "DEBUG: scores.shape = torch.Size([8, 16])\n",
      "DEBUG: scores.shape = torch.Size([8, 16])\n"
     ]
    },
    {
     "name": "stderr",
     "output_type": "stream",
     "text": [
      "Epoch 17:  47%|████▋     | 18/38 [00:00<00:00, 31.05batch/s, loss=50.0000]"
     ]
    },
    {
     "name": "stdout",
     "output_type": "stream",
     "text": [
      "DEBUG: scores.shape = torch.Size([8, 16])\n"
     ]
    },
    {
     "name": "stderr",
     "output_type": "stream",
     "text": [
      "Epoch 17:  47%|████▋     | 18/38 [00:00<00:00, 31.05batch/s, loss=62.5000]"
     ]
    },
    {
     "name": "stdout",
     "output_type": "stream",
     "text": [
      "DEBUG: scores.shape = torch.Size([8, 16])\n",
      "DEBUG: scores.shape = torch.Size([8, 16])\n"
     ]
    },
    {
     "name": "stderr",
     "output_type": "stream",
     "text": [
      "Epoch 17:  58%|█████▊    | 22/38 [00:00<00:00, 32.37batch/s, loss=62.5000]"
     ]
    },
    {
     "name": "stdout",
     "output_type": "stream",
     "text": [
      "DEBUG: scores.shape = torch.Size([8, 16])\n",
      "DEBUG: scores.shape = torch.Size([8, 16])\n"
     ]
    },
    {
     "name": "stderr",
     "output_type": "stream",
     "text": [
      "Epoch 17:  58%|█████▊    | 22/38 [00:00<00:00, 32.37batch/s, loss=37.5000]"
     ]
    },
    {
     "name": "stdout",
     "output_type": "stream",
     "text": [
      "DEBUG: scores.shape = torch.Size([8, 16])\n",
      "DEBUG: scores.shape = torch.Size([8, 16])\n"
     ]
    },
    {
     "name": "stderr",
     "output_type": "stream",
     "text": [
      "Epoch 17:  58%|█████▊    | 22/38 [00:00<00:00, 32.37batch/s, loss=75.0000]"
     ]
    },
    {
     "name": "stdout",
     "output_type": "stream",
     "text": [
      "DEBUG: scores.shape = torch.Size([8, 16])\n"
     ]
    },
    {
     "name": "stderr",
     "output_type": "stream",
     "text": [
      "Epoch 17:  68%|██████▊   | 26/38 [00:00<00:00, 31.85batch/s, loss=75.0000]"
     ]
    },
    {
     "name": "stdout",
     "output_type": "stream",
     "text": [
      "DEBUG: scores.shape = torch.Size([8, 16])\n",
      "DEBUG: scores.shape = torch.Size([8, 16])\n"
     ]
    },
    {
     "name": "stderr",
     "output_type": "stream",
     "text": [
      "Epoch 17:  68%|██████▊   | 26/38 [00:00<00:00, 31.85batch/s, loss=75.0000]"
     ]
    },
    {
     "name": "stdout",
     "output_type": "stream",
     "text": [
      "DEBUG: scores.shape = torch.Size([8, 16])\n",
      "DEBUG: scores.shape = torch.Size([8, 16])\n"
     ]
    },
    {
     "name": "stderr",
     "output_type": "stream",
     "text": [
      "Epoch 17:  79%|███████▉  | 30/38 [00:01<00:00, 32.25batch/s, loss=37.5000]"
     ]
    },
    {
     "name": "stdout",
     "output_type": "stream",
     "text": [
      "DEBUG: scores.shape = torch.Size([8, 16])\n",
      "DEBUG: scores.shape = torch.Size([8, 16])\n",
      "DEBUG: scores.shape = torch.Size([8, 16])\n"
     ]
    },
    {
     "name": "stderr",
     "output_type": "stream",
     "text": [
      "Epoch 17:  89%|████████▉ | 34/38 [00:01<00:00, 32.68batch/s, loss=37.5000]"
     ]
    },
    {
     "name": "stdout",
     "output_type": "stream",
     "text": [
      "DEBUG: scores.shape = torch.Size([8, 16])\n",
      "DEBUG: scores.shape = torch.Size([8, 16])\n"
     ]
    },
    {
     "name": "stderr",
     "output_type": "stream",
     "text": [
      "Epoch 17:  89%|████████▉ | 34/38 [00:01<00:00, 32.68batch/s, loss=12.5000]"
     ]
    },
    {
     "name": "stdout",
     "output_type": "stream",
     "text": [
      "DEBUG: scores.shape = torch.Size([8, 16])\n",
      "DEBUG: scores.shape = torch.Size([8, 16])\n"
     ]
    },
    {
     "name": "stderr",
     "output_type": "stream",
     "text": [
      "Epoch 17: 100%|██████████| 38/38 [00:01<00:00, 31.77batch/s, loss=25.0000]\n"
     ]
    },
    {
     "name": "stdout",
     "output_type": "stream",
     "text": [
      "DEBUG: scores.shape = torch.Size([4, 16])\n",
      "Epoch 17, Loss: 49.6711\n"
     ]
    },
    {
     "name": "stderr",
     "output_type": "stream",
     "text": [
      "Epoch 18:   0%|          | 0/38 [00:00<?, ?batch/s]"
     ]
    },
    {
     "name": "stdout",
     "output_type": "stream",
     "text": [
      "DEBUG: scores.shape = torch.Size([8, 16])\n"
     ]
    },
    {
     "name": "stderr",
     "output_type": "stream",
     "text": [
      "Epoch 18:   0%|          | 0/38 [00:00<?, ?batch/s, loss=62.5000]"
     ]
    },
    {
     "name": "stdout",
     "output_type": "stream",
     "text": [
      "DEBUG: scores.shape = torch.Size([8, 16])\n"
     ]
    },
    {
     "name": "stderr",
     "output_type": "stream",
     "text": [
      "Epoch 18:   0%|          | 0/38 [00:00<?, ?batch/s, loss=50.0000]"
     ]
    },
    {
     "name": "stdout",
     "output_type": "stream",
     "text": [
      "DEBUG: scores.shape = torch.Size([8, 16])\n"
     ]
    },
    {
     "name": "stderr",
     "output_type": "stream",
     "text": [
      "Epoch 18:   8%|▊         | 3/38 [00:00<00:01, 26.08batch/s, loss=62.5000]"
     ]
    },
    {
     "name": "stdout",
     "output_type": "stream",
     "text": [
      "DEBUG: scores.shape = torch.Size([8, 16])\n",
      "DEBUG: scores.shape = torch.Size([8, 16])\n"
     ]
    },
    {
     "name": "stderr",
     "output_type": "stream",
     "text": [
      "Epoch 18:   8%|▊         | 3/38 [00:00<00:01, 26.08batch/s, loss=37.5000]"
     ]
    },
    {
     "name": "stdout",
     "output_type": "stream",
     "text": [
      "DEBUG: scores.shape = torch.Size([8, 16])\n"
     ]
    },
    {
     "name": "stderr",
     "output_type": "stream",
     "text": [
      "Epoch 18:   8%|▊         | 3/38 [00:00<00:01, 26.08batch/s, loss=37.5000]"
     ]
    },
    {
     "name": "stdout",
     "output_type": "stream",
     "text": [
      "DEBUG: scores.shape = torch.Size([8, 16])\n"
     ]
    },
    {
     "name": "stderr",
     "output_type": "stream",
     "text": [
      "Epoch 18:  18%|█▊        | 7/38 [00:00<00:01, 28.69batch/s, loss=62.5000]"
     ]
    },
    {
     "name": "stdout",
     "output_type": "stream",
     "text": [
      "DEBUG: scores.shape = torch.Size([8, 16])\n",
      "DEBUG: scores.shape = torch.Size([8, 16])\n",
      "DEBUG: scores.shape = torch.Size([8, 16])\n"
     ]
    },
    {
     "name": "stderr",
     "output_type": "stream",
     "text": [
      "Epoch 18:  29%|██▉       | 11/38 [00:00<00:00, 31.46batch/s, loss=75.0000]"
     ]
    },
    {
     "name": "stdout",
     "output_type": "stream",
     "text": [
      "DEBUG: scores.shape = torch.Size([8, 16])\n",
      "DEBUG: scores.shape = torch.Size([8, 16])\n"
     ]
    },
    {
     "name": "stderr",
     "output_type": "stream",
     "text": [
      "Epoch 18:  29%|██▉       | 11/38 [00:00<00:00, 31.46batch/s, loss=37.5000]"
     ]
    },
    {
     "name": "stdout",
     "output_type": "stream",
     "text": [
      "DEBUG: scores.shape = torch.Size([8, 16])\n"
     ]
    },
    {
     "name": "stderr",
     "output_type": "stream",
     "text": [
      "Epoch 18:  29%|██▉       | 11/38 [00:00<00:00, 31.46batch/s, loss=50.0000]"
     ]
    },
    {
     "name": "stdout",
     "output_type": "stream",
     "text": [
      "DEBUG: scores.shape = torch.Size([8, 16])\n"
     ]
    },
    {
     "name": "stderr",
     "output_type": "stream",
     "text": [
      "Epoch 18:  39%|███▉      | 15/38 [00:00<00:00, 32.55batch/s, loss=50.0000]"
     ]
    },
    {
     "name": "stdout",
     "output_type": "stream",
     "text": [
      "DEBUG: scores.shape = torch.Size([8, 16])\n",
      "DEBUG: scores.shape = torch.Size([8, 16])\n"
     ]
    },
    {
     "name": "stderr",
     "output_type": "stream",
     "text": [
      "Epoch 18:  39%|███▉      | 15/38 [00:00<00:00, 32.55batch/s, loss=62.5000]"
     ]
    },
    {
     "name": "stdout",
     "output_type": "stream",
     "text": [
      "DEBUG: scores.shape = torch.Size([8, 16])\n"
     ]
    },
    {
     "name": "stderr",
     "output_type": "stream",
     "text": [
      "Epoch 18:  39%|███▉      | 15/38 [00:00<00:00, 32.55batch/s, loss=37.5000]"
     ]
    },
    {
     "name": "stdout",
     "output_type": "stream",
     "text": [
      "DEBUG: scores.shape = torch.Size([8, 16])\n",
      "DEBUG: scores.shape = torch.Size([8, 16])\n"
     ]
    },
    {
     "name": "stderr",
     "output_type": "stream",
     "text": [
      "Epoch 18:  50%|█████     | 19/38 [00:00<00:00, 32.71batch/s, loss=37.5000]"
     ]
    },
    {
     "name": "stdout",
     "output_type": "stream",
     "text": [
      "DEBUG: scores.shape = torch.Size([8, 16])\n",
      "DEBUG: scores.shape = torch.Size([8, 16])\n"
     ]
    },
    {
     "name": "stderr",
     "output_type": "stream",
     "text": [
      "Epoch 18:  50%|█████     | 19/38 [00:00<00:00, 32.71batch/s, loss=37.5000]"
     ]
    },
    {
     "name": "stdout",
     "output_type": "stream",
     "text": [
      "DEBUG: scores.shape = torch.Size([8, 16])\n",
      "DEBUG: scores.shape = torch.Size([8, 16])\n"
     ]
    },
    {
     "name": "stderr",
     "output_type": "stream",
     "text": [
      "Epoch 18:  61%|██████    | 23/38 [00:00<00:00, 32.88batch/s, loss=62.5000]"
     ]
    },
    {
     "name": "stdout",
     "output_type": "stream",
     "text": [
      "DEBUG: scores.shape = torch.Size([8, 16])\n"
     ]
    },
    {
     "name": "stderr",
     "output_type": "stream",
     "text": [
      "Epoch 18:  61%|██████    | 23/38 [00:00<00:00, 32.88batch/s, loss=37.5000]"
     ]
    },
    {
     "name": "stdout",
     "output_type": "stream",
     "text": [
      "DEBUG: scores.shape = torch.Size([8, 16])\n",
      "DEBUG: scores.shape = torch.Size([8, 16])\n"
     ]
    },
    {
     "name": "stderr",
     "output_type": "stream",
     "text": [
      "Epoch 18:  71%|███████   | 27/38 [00:00<00:00, 32.39batch/s, loss=25.0000]"
     ]
    },
    {
     "name": "stdout",
     "output_type": "stream",
     "text": [
      "DEBUG: scores.shape = torch.Size([8, 16])\n"
     ]
    },
    {
     "name": "stderr",
     "output_type": "stream",
     "text": [
      "Epoch 18:  71%|███████   | 27/38 [00:00<00:00, 32.39batch/s, loss=62.5000]"
     ]
    },
    {
     "name": "stdout",
     "output_type": "stream",
     "text": [
      "DEBUG: scores.shape = torch.Size([8, 16])\n",
      "DEBUG: scores.shape = torch.Size([8, 16])\n",
      "DEBUG: scores.shape = torch.Size([8, 16])\n"
     ]
    },
    {
     "name": "stderr",
     "output_type": "stream",
     "text": [
      "Epoch 18:  82%|████████▏ | 31/38 [00:00<00:00, 33.61batch/s, loss=50.0000]"
     ]
    },
    {
     "name": "stdout",
     "output_type": "stream",
     "text": [
      "DEBUG: scores.shape = torch.Size([8, 16])\n",
      "DEBUG: scores.shape = torch.Size([8, 16])\n"
     ]
    },
    {
     "name": "stderr",
     "output_type": "stream",
     "text": [
      "Epoch 18:  82%|████████▏ | 31/38 [00:01<00:00, 33.61batch/s, loss=50.0000]"
     ]
    },
    {
     "name": "stdout",
     "output_type": "stream",
     "text": [
      "DEBUG: scores.shape = torch.Size([8, 16])\n",
      "DEBUG: scores.shape = torch.Size([8, 16])\n",
      "DEBUG: scores.shape = torch.Size([8, 16])\n"
     ]
    },
    {
     "name": "stderr",
     "output_type": "stream",
     "text": [
      "Epoch 18: 100%|██████████| 38/38 [00:01<00:00, 33.92batch/s, loss=25.0000]\n"
     ]
    },
    {
     "name": "stdout",
     "output_type": "stream",
     "text": [
      "DEBUG: scores.shape = torch.Size([8, 16])\n",
      "DEBUG: scores.shape = torch.Size([8, 16])\n",
      "DEBUG: scores.shape = torch.Size([4, 16])\n",
      "Epoch 18, Loss: 49.6711\n"
     ]
    },
    {
     "name": "stderr",
     "output_type": "stream",
     "text": [
      "Epoch 19:   0%|          | 0/38 [00:00<?, ?batch/s]"
     ]
    },
    {
     "name": "stdout",
     "output_type": "stream",
     "text": [
      "DEBUG: scores.shape = torch.Size([8, 16])\n"
     ]
    },
    {
     "name": "stderr",
     "output_type": "stream",
     "text": [
      "Epoch 19:   0%|          | 0/38 [00:00<?, ?batch/s, loss=50.0000]"
     ]
    },
    {
     "name": "stdout",
     "output_type": "stream",
     "text": [
      "DEBUG: scores.shape = torch.Size([8, 16])\n"
     ]
    },
    {
     "name": "stderr",
     "output_type": "stream",
     "text": [
      "Epoch 19:   0%|          | 0/38 [00:00<?, ?batch/s, loss=37.5000]"
     ]
    },
    {
     "name": "stdout",
     "output_type": "stream",
     "text": [
      "DEBUG: scores.shape = torch.Size([8, 16])\n"
     ]
    },
    {
     "name": "stderr",
     "output_type": "stream",
     "text": [
      "Epoch 19:   8%|▊         | 3/38 [00:00<00:01, 28.17batch/s, loss=50.0000]"
     ]
    },
    {
     "name": "stdout",
     "output_type": "stream",
     "text": [
      "DEBUG: scores.shape = torch.Size([8, 16])\n",
      "DEBUG: scores.shape = torch.Size([8, 16])\n"
     ]
    },
    {
     "name": "stderr",
     "output_type": "stream",
     "text": [
      "Epoch 19:   8%|▊         | 3/38 [00:00<00:01, 28.17batch/s, loss=75.0000]"
     ]
    },
    {
     "name": "stdout",
     "output_type": "stream",
     "text": [
      "DEBUG: scores.shape = torch.Size([8, 16])\n",
      "DEBUG: scores.shape = torch.Size([8, 16])\n"
     ]
    },
    {
     "name": "stderr",
     "output_type": "stream",
     "text": [
      "Epoch 19:  18%|█▊        | 7/38 [00:00<00:00, 33.28batch/s, loss=50.0000]"
     ]
    },
    {
     "name": "stdout",
     "output_type": "stream",
     "text": [
      "DEBUG: scores.shape = torch.Size([8, 16])\n"
     ]
    },
    {
     "name": "stderr",
     "output_type": "stream",
     "text": [
      "Epoch 19:  18%|█▊        | 7/38 [00:00<00:00, 33.28batch/s, loss=37.5000]"
     ]
    },
    {
     "name": "stdout",
     "output_type": "stream",
     "text": [
      "DEBUG: scores.shape = torch.Size([8, 16])\n"
     ]
    },
    {
     "name": "stderr",
     "output_type": "stream",
     "text": [
      "Epoch 19:  18%|█▊        | 7/38 [00:00<00:00, 33.28batch/s, loss=37.5000]"
     ]
    },
    {
     "name": "stdout",
     "output_type": "stream",
     "text": [
      "DEBUG: scores.shape = torch.Size([8, 16])\n"
     ]
    },
    {
     "name": "stderr",
     "output_type": "stream",
     "text": [
      "Epoch 19:  29%|██▉       | 11/38 [00:00<00:00, 31.76batch/s, loss=50.0000]"
     ]
    },
    {
     "name": "stdout",
     "output_type": "stream",
     "text": [
      "DEBUG: scores.shape = torch.Size([8, 16])\n",
      "DEBUG: scores.shape = torch.Size([8, 16])\n"
     ]
    },
    {
     "name": "stderr",
     "output_type": "stream",
     "text": [
      "Epoch 19:  29%|██▉       | 11/38 [00:00<00:00, 31.76batch/s, loss=37.5000]"
     ]
    },
    {
     "name": "stdout",
     "output_type": "stream",
     "text": [
      "DEBUG: scores.shape = torch.Size([8, 16])\n",
      "DEBUG: scores.shape = torch.Size([8, 16])\n"
     ]
    },
    {
     "name": "stderr",
     "output_type": "stream",
     "text": [
      "Epoch 19:  29%|██▉       | 11/38 [00:00<00:00, 31.76batch/s, loss=50.0000]"
     ]
    },
    {
     "name": "stdout",
     "output_type": "stream",
     "text": [
      "DEBUG: scores.shape = torch.Size([8, 16])\n"
     ]
    },
    {
     "name": "stderr",
     "output_type": "stream",
     "text": [
      "Epoch 19:  39%|███▉      | 15/38 [00:00<00:00, 34.09batch/s, loss=50.0000]"
     ]
    },
    {
     "name": "stdout",
     "output_type": "stream",
     "text": [
      "DEBUG: scores.shape = torch.Size([8, 16])\n"
     ]
    },
    {
     "name": "stderr",
     "output_type": "stream",
     "text": [
      "Epoch 19:  39%|███▉      | 15/38 [00:00<00:00, 34.09batch/s, loss=62.5000]"
     ]
    },
    {
     "name": "stdout",
     "output_type": "stream",
     "text": [
      "DEBUG: scores.shape = torch.Size([8, 16])\n"
     ]
    },
    {
     "name": "stderr",
     "output_type": "stream",
     "text": [
      "Epoch 19:  50%|█████     | 19/38 [00:00<00:00, 35.39batch/s, loss=62.5000]"
     ]
    },
    {
     "name": "stdout",
     "output_type": "stream",
     "text": [
      "DEBUG: scores.shape = torch.Size([8, 16])\n",
      "DEBUG: scores.shape = torch.Size([8, 16])\n",
      "DEBUG: scores.shape = torch.Size([8, 16])\n"
     ]
    },
    {
     "name": "stderr",
     "output_type": "stream",
     "text": [
      "Epoch 19:  50%|█████     | 19/38 [00:00<00:00, 35.39batch/s, loss=50.0000]"
     ]
    },
    {
     "name": "stdout",
     "output_type": "stream",
     "text": [
      "DEBUG: scores.shape = torch.Size([8, 16])\n",
      "DEBUG: scores.shape = torch.Size([8, 16])\n"
     ]
    },
    {
     "name": "stderr",
     "output_type": "stream",
     "text": [
      "Epoch 19:  50%|█████     | 19/38 [00:00<00:00, 35.39batch/s, loss=62.5000]"
     ]
    },
    {
     "name": "stdout",
     "output_type": "stream",
     "text": [
      "DEBUG: scores.shape = torch.Size([8, 16])\n"
     ]
    },
    {
     "name": "stderr",
     "output_type": "stream",
     "text": [
      "Epoch 19:  61%|██████    | 23/38 [00:00<00:00, 35.33batch/s, loss=12.5000]"
     ]
    },
    {
     "name": "stdout",
     "output_type": "stream",
     "text": [
      "DEBUG: scores.shape = torch.Size([8, 16])\n"
     ]
    },
    {
     "name": "stderr",
     "output_type": "stream",
     "text": [
      "Epoch 19:  61%|██████    | 23/38 [00:00<00:00, 35.33batch/s, loss=50.0000]"
     ]
    },
    {
     "name": "stdout",
     "output_type": "stream",
     "text": [
      "DEBUG: scores.shape = torch.Size([8, 16])\n",
      "DEBUG: scores.shape = torch.Size([8, 16])\n"
     ]
    },
    {
     "name": "stderr",
     "output_type": "stream",
     "text": [
      "Epoch 19:  71%|███████   | 27/38 [00:00<00:00, 33.68batch/s, loss=62.5000]"
     ]
    },
    {
     "name": "stdout",
     "output_type": "stream",
     "text": [
      "DEBUG: scores.shape = torch.Size([8, 16])\n",
      "DEBUG: scores.shape = torch.Size([8, 16])\n",
      "DEBUG: scores.shape = torch.Size([8, 16])\n"
     ]
    },
    {
     "name": "stderr",
     "output_type": "stream",
     "text": [
      "Epoch 19:  71%|███████   | 27/38 [00:00<00:00, 33.68batch/s, loss=62.5000]"
     ]
    },
    {
     "name": "stdout",
     "output_type": "stream",
     "text": [
      "DEBUG: scores.shape = torch.Size([8, 16])\n",
      "DEBUG: scores.shape = torch.Size([8, 16])\n"
     ]
    },
    {
     "name": "stderr",
     "output_type": "stream",
     "text": [
      "Epoch 19:  82%|████████▏ | 31/38 [00:00<00:00, 34.49batch/s, loss=62.5000]"
     ]
    },
    {
     "name": "stdout",
     "output_type": "stream",
     "text": [
      "DEBUG: scores.shape = torch.Size([8, 16])\n"
     ]
    },
    {
     "name": "stderr",
     "output_type": "stream",
     "text": [
      "Epoch 19:  82%|████████▏ | 31/38 [00:00<00:00, 34.49batch/s, loss=62.5000]"
     ]
    },
    {
     "name": "stdout",
     "output_type": "stream",
     "text": [
      "DEBUG: scores.shape = torch.Size([8, 16])\n",
      "DEBUG: scores.shape = torch.Size([8, 16])\n"
     ]
    },
    {
     "name": "stderr",
     "output_type": "stream",
     "text": [
      "Epoch 19:  92%|█████████▏| 35/38 [00:01<00:00, 34.64batch/s, loss=37.5000]"
     ]
    },
    {
     "name": "stdout",
     "output_type": "stream",
     "text": [
      "DEBUG: scores.shape = torch.Size([8, 16])\n",
      "DEBUG: scores.shape = torch.Size([8, 16])\n"
     ]
    },
    {
     "name": "stderr",
     "output_type": "stream",
     "text": [
      "Epoch 19: 100%|██████████| 38/38 [00:01<00:00, 34.50batch/s, loss=75.0000]\n"
     ]
    },
    {
     "name": "stdout",
     "output_type": "stream",
     "text": [
      "DEBUG: scores.shape = torch.Size([8, 16])\n",
      "DEBUG: scores.shape = torch.Size([4, 16])\n",
      "Epoch 19, Loss: 50.3289\n"
     ]
    },
    {
     "name": "stderr",
     "output_type": "stream",
     "text": [
      "Epoch 20:   0%|          | 0/38 [00:00<?, ?batch/s]"
     ]
    },
    {
     "name": "stdout",
     "output_type": "stream",
     "text": [
      "DEBUG: scores.shape = torch.Size([8, 16])\n"
     ]
    },
    {
     "name": "stderr",
     "output_type": "stream",
     "text": [
      "Epoch 20:   0%|          | 0/38 [00:00<?, ?batch/s, loss=25.0000]"
     ]
    },
    {
     "name": "stdout",
     "output_type": "stream",
     "text": [
      "DEBUG: scores.shape = torch.Size([8, 16])\n",
      "DEBUG: scores.shape = torch.Size([8, 16])\n",
      "DEBUG: scores.shape = torch.Size([8, 16])\n"
     ]
    },
    {
     "name": "stderr",
     "output_type": "stream",
     "text": [
      "Epoch 20:  11%|█         | 4/38 [00:00<00:00, 39.40batch/s, loss=37.5000]"
     ]
    },
    {
     "name": "stdout",
     "output_type": "stream",
     "text": [
      "DEBUG: scores.shape = torch.Size([8, 16])\n",
      "DEBUG: scores.shape = torch.Size([8, 16])\n"
     ]
    },
    {
     "name": "stderr",
     "output_type": "stream",
     "text": [
      "Epoch 20:  11%|█         | 4/38 [00:00<00:00, 39.40batch/s, loss=50.0000]"
     ]
    },
    {
     "name": "stdout",
     "output_type": "stream",
     "text": [
      "DEBUG: scores.shape = torch.Size([8, 16])\n",
      "DEBUG: scores.shape = torch.Size([8, 16])\n"
     ]
    },
    {
     "name": "stderr",
     "output_type": "stream",
     "text": [
      "Epoch 20:  21%|██        | 8/38 [00:00<00:00, 35.58batch/s, loss=50.0000]"
     ]
    },
    {
     "name": "stdout",
     "output_type": "stream",
     "text": [
      "DEBUG: scores.shape = torch.Size([8, 16])"
     ]
    },
    {
     "name": "stderr",
     "output_type": "stream",
     "text": [
      "Epoch 20:  21%|██        | 8/38 [00:00<00:00, 35.58batch/s, loss=62.5000]"
     ]
    },
    {
     "name": "stdout",
     "output_type": "stream",
     "text": [
      "\n",
      "DEBUG: scores.shape = torch.Size([8, 16])\n"
     ]
    },
    {
     "name": "stderr",
     "output_type": "stream",
     "text": [
      "Epoch 20:  32%|███▏      | 12/38 [00:00<00:00, 32.54batch/s, loss=62.5000]"
     ]
    },
    {
     "name": "stdout",
     "output_type": "stream",
     "text": [
      "DEBUG: scores.shape = torch.Size([8, 16])\n",
      "DEBUG: scores.shape = torch.Size([8, 16])\n",
      "DEBUG: scores.shape = torch.Size([8, 16])\n"
     ]
    },
    {
     "name": "stderr",
     "output_type": "stream",
     "text": [
      "Epoch 20:  32%|███▏      | 12/38 [00:00<00:00, 32.54batch/s, loss=50.0000]"
     ]
    },
    {
     "name": "stdout",
     "output_type": "stream",
     "text": [
      "DEBUG: scores.shape = torch.Size([8, 16])\n",
      "DEBUG: scores.shape = torch.Size([8, 16])\n"
     ]
    },
    {
     "name": "stderr",
     "output_type": "stream",
     "text": [
      "Epoch 20:  42%|████▏     | 16/38 [00:00<00:00, 33.01batch/s, loss=12.5000]"
     ]
    },
    {
     "name": "stdout",
     "output_type": "stream",
     "text": [
      "DEBUG: scores.shape = torch.Size([8, 16])\n",
      "DEBUG: scores.shape = torch.Size([8, 16])\n",
      "DEBUG: scores.shape = torch.Size([8, 16])\n"
     ]
    },
    {
     "name": "stderr",
     "output_type": "stream",
     "text": [
      "Epoch 20:  42%|████▏     | 16/38 [00:00<00:00, 33.01batch/s, loss=62.5000]"
     ]
    },
    {
     "name": "stdout",
     "output_type": "stream",
     "text": [
      "DEBUG: scores.shape = torch.Size([8, 16])\n",
      "DEBUG: scores.shape = torch.Size([8, 16])\n",
      "DEBUG: scores.shape = torch.Size([8, 16])\n"
     ]
    },
    {
     "name": "stderr",
     "output_type": "stream",
     "text": [
      "Epoch 20:  55%|█████▌    | 21/38 [00:00<00:00, 36.06batch/s, loss=37.5000]"
     ]
    },
    {
     "name": "stdout",
     "output_type": "stream",
     "text": [
      "DEBUG: scores.shape = torch.Size([8, 16])\n",
      "DEBUG: scores.shape = torch.Size([8, 16])\n"
     ]
    },
    {
     "name": "stderr",
     "output_type": "stream",
     "text": [
      "Epoch 20:  66%|██████▌   | 25/38 [00:00<00:00, 36.79batch/s, loss=37.5000]"
     ]
    },
    {
     "name": "stdout",
     "output_type": "stream",
     "text": [
      "DEBUG: scores.shape = torch.Size([8, 16])\n",
      "DEBUG: scores.shape = torch.Size([8, 16])\n",
      "DEBUG: scores.shape = torch.Size([8, 16])\n",
      "DEBUG: scores.shape = torch.Size([8, 16])\n"
     ]
    },
    {
     "name": "stderr",
     "output_type": "stream",
     "text": [
      "Epoch 20:  66%|██████▌   | 25/38 [00:00<00:00, 36.79batch/s, loss=75.0000]"
     ]
    },
    {
     "name": "stdout",
     "output_type": "stream",
     "text": [
      "DEBUG: scores.shape = torch.Size([8, 16])\n",
      "DEBUG: scores.shape = torch.Size([8, 16])\n"
     ]
    },
    {
     "name": "stderr",
     "output_type": "stream",
     "text": [
      "Epoch 20:  79%|███████▉  | 30/38 [00:00<00:00, 37.50batch/s, loss=62.5000]"
     ]
    },
    {
     "name": "stdout",
     "output_type": "stream",
     "text": [
      "DEBUG: scores.shape = torch.Size([8, 16])\n",
      "DEBUG: scores.shape = torch.Size([8, 16])\n"
     ]
    },
    {
     "name": "stderr",
     "output_type": "stream",
     "text": [
      "Epoch 20:  89%|████████▉ | 34/38 [00:00<00:00, 37.96batch/s, loss=87.5000]"
     ]
    },
    {
     "name": "stdout",
     "output_type": "stream",
     "text": [
      "DEBUG: scores.shape = torch.Size([8, 16])\n",
      "DEBUG: scores.shape = torch.Size([8, 16])\n",
      "DEBUG: scores.shape = torch.Size([8, 16])\n",
      "DEBUG: scores.shape = torch.Size([8, 16])\n"
     ]
    },
    {
     "name": "stderr",
     "output_type": "stream",
     "text": [
      "Epoch 20:  89%|████████▉ | 34/38 [00:01<00:00, 37.96batch/s, loss=62.5000]"
     ]
    },
    {
     "name": "stdout",
     "output_type": "stream",
     "text": [
      "DEBUG: scores.shape = torch.Size([8, 16])\n"
     ]
    },
    {
     "name": "stderr",
     "output_type": "stream",
     "text": [
      "Epoch 20: 100%|██████████| 38/38 [00:01<00:00, 36.74batch/s, loss=75.0000]\n"
     ]
    },
    {
     "name": "stdout",
     "output_type": "stream",
     "text": [
      "DEBUG: scores.shape = torch.Size([8, 16])\n",
      "DEBUG: scores.shape = torch.Size([4, 16])\n",
      "Epoch 20, Loss: 50.3289\n"
     ]
    },
    {
     "name": "stderr",
     "output_type": "stream",
     "text": [
      "Epoch 21:   0%|          | 0/38 [00:00<?, ?batch/s]"
     ]
    },
    {
     "name": "stdout",
     "output_type": "stream",
     "text": [
      "DEBUG: scores.shape = torch.Size([8, 16])\n"
     ]
    },
    {
     "name": "stderr",
     "output_type": "stream",
     "text": [
      "Epoch 21:  11%|█         | 4/38 [00:00<00:00, 36.95batch/s, loss=50.0000]"
     ]
    },
    {
     "name": "stdout",
     "output_type": "stream",
     "text": [
      "DEBUG: scores.shape = torch.Size([8, 16])\n",
      "DEBUG: scores.shape = torch.Size([8, 16])\n",
      "DEBUG: scores.shape = torch.Size([8, 16])\n",
      "DEBUG: scores.shape = torch.Size([8, 16])\n"
     ]
    },
    {
     "name": "stderr",
     "output_type": "stream",
     "text": [
      "Epoch 21:  11%|█         | 4/38 [00:00<00:00, 36.95batch/s, loss=62.5000]"
     ]
    },
    {
     "name": "stdout",
     "output_type": "stream",
     "text": [
      "DEBUG: scores.shape = torch.Size([8, 16])\n",
      "DEBUG: scores.shape = torch.Size([8, 16])\n"
     ]
    },
    {
     "name": "stderr",
     "output_type": "stream",
     "text": [
      "Epoch 21:  11%|█         | 4/38 [00:00<00:00, 36.95batch/s, loss=50.0000]"
     ]
    },
    {
     "name": "stdout",
     "output_type": "stream",
     "text": [
      "DEBUG: scores.shape = torch.Size([8, 16])\n",
      "DEBUG: scores.shape = torch.Size([8, 16])\n"
     ]
    },
    {
     "name": "stderr",
     "output_type": "stream",
     "text": [
      "Epoch 21:  24%|██▎       | 9/38 [00:00<00:00, 36.51batch/s, loss=75.0000]"
     ]
    },
    {
     "name": "stdout",
     "output_type": "stream",
     "text": [
      "DEBUG: scores.shape = torch.Size([8, 16])\n",
      "DEBUG: scores.shape = torch.Size([8, 16])\n",
      "DEBUG: scores.shape = torch.Size([8, 16])\n"
     ]
    },
    {
     "name": "stderr",
     "output_type": "stream",
     "text": [
      "Epoch 21:  34%|███▍      | 13/38 [00:00<00:00, 35.54batch/s, loss=62.5000]"
     ]
    },
    {
     "name": "stdout",
     "output_type": "stream",
     "text": [
      "DEBUG: scores.shape = torch.Size([8, 16])\n",
      "DEBUG: scores.shape = torch.Size([8, 16])\n"
     ]
    },
    {
     "name": "stderr",
     "output_type": "stream",
     "text": [
      "Epoch 21:  34%|███▍      | 13/38 [00:00<00:00, 35.54batch/s, loss=37.5000]"
     ]
    },
    {
     "name": "stdout",
     "output_type": "stream",
     "text": [
      "DEBUG: scores.shape = torch.Size([8, 16])\n"
     ]
    },
    {
     "name": "stderr",
     "output_type": "stream",
     "text": [
      "Epoch 21:  34%|███▍      | 13/38 [00:00<00:00, 35.54batch/s, loss=12.5000]"
     ]
    },
    {
     "name": "stdout",
     "output_type": "stream",
     "text": [
      "DEBUG: scores.shape = torch.Size([8, 16])\n",
      "DEBUG: scores.shape = torch.Size([8, 16])\n"
     ]
    },
    {
     "name": "stderr",
     "output_type": "stream",
     "text": [
      "Epoch 21:  45%|████▍     | 17/38 [00:00<00:00, 34.86batch/s, loss=25.0000]"
     ]
    },
    {
     "name": "stdout",
     "output_type": "stream",
     "text": [
      "DEBUG: scores.shape = torch.Size([8, 16])\n",
      "DEBUG: scores.shape = torch.Size([8, 16])\n"
     ]
    },
    {
     "name": "stderr",
     "output_type": "stream",
     "text": [
      "Epoch 21:  45%|████▍     | 17/38 [00:00<00:00, 34.86batch/s, loss=37.5000]"
     ]
    },
    {
     "name": "stdout",
     "output_type": "stream",
     "text": [
      "DEBUG: scores.shape = torch.Size([8, 16])\n",
      "DEBUG: scores.shape = torch.Size([8, 16])\n"
     ]
    },
    {
     "name": "stderr",
     "output_type": "stream",
     "text": [
      "Epoch 21:  55%|█████▌    | 21/38 [00:00<00:00, 35.63batch/s, loss=12.5000]"
     ]
    },
    {
     "name": "stdout",
     "output_type": "stream",
     "text": [
      "DEBUG: scores.shape = torch.Size([8, 16])\n",
      "DEBUG: scores.shape = torch.Size([8, 16])\n"
     ]
    },
    {
     "name": "stderr",
     "output_type": "stream",
     "text": [
      "Epoch 21:  55%|█████▌    | 21/38 [00:00<00:00, 35.63batch/s, loss=50.0000]"
     ]
    },
    {
     "name": "stdout",
     "output_type": "stream",
     "text": [
      "DEBUG: scores.shape = torch.Size([8, 16])\n",
      "DEBUG: scores.shape = torch.Size([8, 16])\n"
     ]
    },
    {
     "name": "stderr",
     "output_type": "stream",
     "text": [
      "Epoch 21:  68%|██████▊   | 26/38 [00:00<00:00, 37.25batch/s, loss=50.0000]"
     ]
    },
    {
     "name": "stdout",
     "output_type": "stream",
     "text": [
      "DEBUG: scores.shape = torch.Size([8, 16])\n",
      "DEBUG: scores.shape = torch.Size([8, 16])\n"
     ]
    },
    {
     "name": "stderr",
     "output_type": "stream",
     "text": [
      "Epoch 21:  68%|██████▊   | 26/38 [00:00<00:00, 37.25batch/s, loss=75.0000]"
     ]
    },
    {
     "name": "stdout",
     "output_type": "stream",
     "text": [
      "DEBUG: scores.shape = torch.Size([8, 16])\n",
      "DEBUG: scores.shape = torch.Size([8, 16])\n"
     ]
    },
    {
     "name": "stderr",
     "output_type": "stream",
     "text": [
      "Epoch 21:  79%|███████▉  | 30/38 [00:00<00:00, 37.95batch/s, loss=62.5000]"
     ]
    },
    {
     "name": "stdout",
     "output_type": "stream",
     "text": [
      "DEBUG: scores.shape = torch.Size([8, 16])\n",
      "DEBUG: scores.shape = torch.Size([8, 16])\n"
     ]
    },
    {
     "name": "stderr",
     "output_type": "stream",
     "text": [
      "Epoch 21:  79%|███████▉  | 30/38 [00:00<00:00, 37.95batch/s, loss=37.5000]"
     ]
    },
    {
     "name": "stdout",
     "output_type": "stream",
     "text": [
      "DEBUG: scores.shape = torch.Size([8, 16])\n"
     ]
    },
    {
     "name": "stderr",
     "output_type": "stream",
     "text": [
      "Epoch 21:  79%|███████▉  | 30/38 [00:00<00:00, 37.95batch/s, loss=50.0000]"
     ]
    },
    {
     "name": "stdout",
     "output_type": "stream",
     "text": [
      "DEBUG: scores.shape = torch.Size([8, 16])\n",
      "DEBUG: scores.shape = torch.Size([8, 16])\n"
     ]
    },
    {
     "name": "stderr",
     "output_type": "stream",
     "text": [
      "Epoch 21:  89%|████████▉ | 34/38 [00:00<00:00, 36.02batch/s, loss=62.5000]"
     ]
    },
    {
     "name": "stdout",
     "output_type": "stream",
     "text": [
      "DEBUG: scores.shape = torch.Size([8, 16])\n",
      "DEBUG: scores.shape = torch.Size([8, 16])\n"
     ]
    },
    {
     "name": "stderr",
     "output_type": "stream",
     "text": [
      "Epoch 21: 100%|██████████| 38/38 [00:01<00:00, 36.81batch/s, loss=75.0000]\n"
     ]
    },
    {
     "name": "stdout",
     "output_type": "stream",
     "text": [
      "DEBUG: scores.shape = torch.Size([8, 16])\n",
      "DEBUG: scores.shape = torch.Size([4, 16])\n",
      "Epoch 21, Loss: 50.3289\n"
     ]
    },
    {
     "name": "stderr",
     "output_type": "stream",
     "text": [
      "Epoch 22:   0%|          | 0/38 [00:00<?, ?batch/s]"
     ]
    },
    {
     "name": "stdout",
     "output_type": "stream",
     "text": [
      "DEBUG: scores.shape = torch.Size([8, 16])\n"
     ]
    },
    {
     "name": "stderr",
     "output_type": "stream",
     "text": [
      "Epoch 22:   0%|          | 0/38 [00:00<?, ?batch/s, loss=62.5000]"
     ]
    },
    {
     "name": "stdout",
     "output_type": "stream",
     "text": [
      "DEBUG: scores.shape = torch.Size([8, 16])\n"
     ]
    },
    {
     "name": "stderr",
     "output_type": "stream",
     "text": [
      "Epoch 22:  11%|█         | 4/38 [00:00<00:00, 34.62batch/s, loss=50.0000]"
     ]
    },
    {
     "name": "stdout",
     "output_type": "stream",
     "text": [
      "DEBUG: scores.shape = torch.Size([8, 16])\n",
      "DEBUG: scores.shape = torch.Size([8, 16])\n",
      "DEBUG: scores.shape = torch.Size([8, 16])\n"
     ]
    },
    {
     "name": "stderr",
     "output_type": "stream",
     "text": [
      "Epoch 22:  11%|█         | 4/38 [00:00<00:00, 34.62batch/s, loss=25.0000]"
     ]
    },
    {
     "name": "stdout",
     "output_type": "stream",
     "text": [
      "DEBUG: scores.shape = torch.Size([8, 16])\n",
      "DEBUG: scores.shape = torch.Size([8, 16])\n"
     ]
    },
    {
     "name": "stderr",
     "output_type": "stream",
     "text": [
      "Epoch 22:  11%|█         | 4/38 [00:00<00:00, 34.62batch/s, loss=50.0000]"
     ]
    },
    {
     "name": "stdout",
     "output_type": "stream",
     "text": [
      "DEBUG: scores.shape = torch.Size([8, 16])\n"
     ]
    },
    {
     "name": "stderr",
     "output_type": "stream",
     "text": [
      "Epoch 22:  21%|██        | 8/38 [00:00<00:00, 36.61batch/s, loss=50.0000]"
     ]
    },
    {
     "name": "stdout",
     "output_type": "stream",
     "text": [
      "DEBUG: scores.shape = torch.Size([8, 16])\n"
     ]
    },
    {
     "name": "stderr",
     "output_type": "stream",
     "text": [
      "Epoch 22:  21%|██        | 8/38 [00:00<00:00, 36.61batch/s, loss=75.0000]"
     ]
    },
    {
     "name": "stdout",
     "output_type": "stream",
     "text": [
      "DEBUG: scores.shape = torch.Size([8, 16])\n"
     ]
    },
    {
     "name": "stderr",
     "output_type": "stream",
     "text": [
      "Epoch 22:  21%|██        | 8/38 [00:00<00:00, 36.61batch/s, loss=25.0000]"
     ]
    },
    {
     "name": "stdout",
     "output_type": "stream",
     "text": [
      "DEBUG: scores.shape = torch.Size([8, 16])\n",
      "DEBUG: scores.shape = torch.Size([8, 16])\n"
     ]
    },
    {
     "name": "stderr",
     "output_type": "stream",
     "text": [
      "Epoch 22:  32%|███▏      | 12/38 [00:00<00:00, 36.62batch/s, loss=50.0000]"
     ]
    },
    {
     "name": "stdout",
     "output_type": "stream",
     "text": [
      "DEBUG: scores.shape = torch.Size([8, 16])\n",
      "DEBUG: scores.shape = torch.Size([8, 16])\n",
      "DEBUG: scores.shape = torch.Size([8, 16])\n"
     ]
    },
    {
     "name": "stderr",
     "output_type": "stream",
     "text": [
      "Epoch 22:  32%|███▏      | 12/38 [00:00<00:00, 36.62batch/s, loss=50.0000]"
     ]
    },
    {
     "name": "stdout",
     "output_type": "stream",
     "text": [
      "DEBUG: scores.shape = torch.Size([8, 16])\n"
     ]
    },
    {
     "name": "stderr",
     "output_type": "stream",
     "text": [
      "Epoch 22:  42%|████▏     | 16/38 [00:00<00:00, 36.47batch/s, loss=25.0000]"
     ]
    },
    {
     "name": "stdout",
     "output_type": "stream",
     "text": [
      "DEBUG: scores.shape = torch.Size([8, 16])\n"
     ]
    },
    {
     "name": "stderr",
     "output_type": "stream",
     "text": [
      "Epoch 22:  42%|████▏     | 16/38 [00:00<00:00, 36.47batch/s, loss=87.5000]"
     ]
    },
    {
     "name": "stdout",
     "output_type": "stream",
     "text": [
      "DEBUG: scores.shape = torch.Size([8, 16])\n",
      "DEBUG: scores.shape = torch.Size([8, 16])\n"
     ]
    },
    {
     "name": "stderr",
     "output_type": "stream",
     "text": [
      "Epoch 22:  53%|█████▎    | 20/38 [00:00<00:00, 32.73batch/s, loss=50.0000]"
     ]
    },
    {
     "name": "stdout",
     "output_type": "stream",
     "text": [
      "DEBUG: scores.shape = torch.Size([8, 16])\n",
      "DEBUG: scores.shape = torch.Size([8, 16])\n"
     ]
    },
    {
     "name": "stderr",
     "output_type": "stream",
     "text": [
      "Epoch 22:  53%|█████▎    | 20/38 [00:00<00:00, 32.73batch/s, loss=87.5000]"
     ]
    },
    {
     "name": "stdout",
     "output_type": "stream",
     "text": [
      "DEBUG: scores.shape = torch.Size([8, 16])\n"
     ]
    },
    {
     "name": "stderr",
     "output_type": "stream",
     "text": [
      "Epoch 22:  53%|█████▎    | 20/38 [00:00<00:00, 32.73batch/s, loss=50.0000]"
     ]
    },
    {
     "name": "stdout",
     "output_type": "stream",
     "text": [
      "DEBUG: scores.shape = torch.Size([8, 16])\n",
      "DEBUG: scores.shape = torch.Size([8, 16])\n"
     ]
    },
    {
     "name": "stderr",
     "output_type": "stream",
     "text": [
      "Epoch 22:  63%|██████▎   | 24/38 [00:00<00:00, 33.21batch/s, loss=37.5000]"
     ]
    },
    {
     "name": "stdout",
     "output_type": "stream",
     "text": [
      "DEBUG: scores.shape = torch.Size([8, 16])\n",
      "DEBUG: scores.shape = torch.Size([8, 16])\n"
     ]
    },
    {
     "name": "stderr",
     "output_type": "stream",
     "text": [
      "Epoch 22:  74%|███████▎  | 28/38 [00:00<00:00, 33.67batch/s, loss=62.5000]"
     ]
    },
    {
     "name": "stdout",
     "output_type": "stream",
     "text": [
      "DEBUG: scores.shape = torch.Size([8, 16])\n",
      "DEBUG: scores.shape = torch.Size([8, 16])\n",
      "DEBUG: scores.shape = torch.Size([8, 16])\n",
      "DEBUG: scores.shape = torch.Size([8, 16])\n"
     ]
    },
    {
     "name": "stderr",
     "output_type": "stream",
     "text": [
      "Epoch 22:  74%|███████▎  | 28/38 [00:00<00:00, 33.67batch/s, loss=12.5000]"
     ]
    },
    {
     "name": "stdout",
     "output_type": "stream",
     "text": [
      "DEBUG: scores.shape = torch.Size([8, 16])\n",
      "DEBUG: scores.shape = torch.Size([8, 16])\n"
     ]
    },
    {
     "name": "stderr",
     "output_type": "stream",
     "text": [
      "Epoch 22:  84%|████████▍ | 32/38 [00:00<00:00, 35.13batch/s, loss=50.0000]"
     ]
    },
    {
     "name": "stdout",
     "output_type": "stream",
     "text": [
      "DEBUG: scores.shape = torch.Size([8, 16])\n"
     ]
    },
    {
     "name": "stderr",
     "output_type": "stream",
     "text": [
      "Epoch 22:  84%|████████▍ | 32/38 [00:01<00:00, 35.13batch/s, loss=50.0000]"
     ]
    },
    {
     "name": "stdout",
     "output_type": "stream",
     "text": [
      "DEBUG: scores.shape = torch.Size([8, 16])\n",
      "DEBUG: scores.shape = torch.Size([8, 16])\n",
      "DEBUG: scores.shape = torch.Size([8, 16])\n"
     ]
    },
    {
     "name": "stderr",
     "output_type": "stream",
     "text": [
      "Epoch 22:  95%|█████████▍| 36/38 [00:01<00:00, 33.66batch/s, loss=50.0000]"
     ]
    },
    {
     "name": "stdout",
     "output_type": "stream",
     "text": [
      "DEBUG: scores.shape = torch.Size([8, 16])\n"
     ]
    },
    {
     "name": "stderr",
     "output_type": "stream",
     "text": [
      "Epoch 22: 100%|██████████| 38/38 [00:01<00:00, 34.52batch/s, loss=75.0000]\n"
     ]
    },
    {
     "name": "stdout",
     "output_type": "stream",
     "text": [
      "DEBUG: scores.shape = torch.Size([4, 16])\n",
      "Epoch 22, Loss: 50.3289\n"
     ]
    },
    {
     "name": "stderr",
     "output_type": "stream",
     "text": [
      "Epoch 23:   0%|          | 0/38 [00:00<?, ?batch/s, loss=75.0000]"
     ]
    },
    {
     "name": "stdout",
     "output_type": "stream",
     "text": [
      "DEBUG: scores.shape = torch.Size([8, 16])\n"
     ]
    },
    {
     "name": "stderr",
     "output_type": "stream",
     "text": [
      "Epoch 23:   0%|          | 0/38 [00:00<?, ?batch/s, loss=62.5000]"
     ]
    },
    {
     "name": "stdout",
     "output_type": "stream",
     "text": [
      "DEBUG: scores.shape = torch.Size([8, 16])\n"
     ]
    },
    {
     "name": "stderr",
     "output_type": "stream",
     "text": [
      "Epoch 23:  11%|█         | 4/38 [00:00<00:00, 34.37batch/s, loss=25.0000]"
     ]
    },
    {
     "name": "stdout",
     "output_type": "stream",
     "text": [
      "DEBUG: scores.shape = torch.Size([8, 16])\n",
      "DEBUG: scores.shape = torch.Size([8, 16])\n",
      "DEBUG: scores.shape = torch.Size([8, 16])\n",
      "DEBUG: scores.shape = torch.Size([8, 16])\n"
     ]
    },
    {
     "name": "stderr",
     "output_type": "stream",
     "text": [
      "Epoch 23:  11%|█         | 4/38 [00:00<00:00, 34.37batch/s, loss=50.0000]"
     ]
    },
    {
     "name": "stdout",
     "output_type": "stream",
     "text": [
      "DEBUG: scores.shape = torch.Size([8, 16])\n"
     ]
    },
    {
     "name": "stderr",
     "output_type": "stream",
     "text": [
      "Epoch 23:  11%|█         | 4/38 [00:00<00:00, 34.37batch/s, loss=87.5000]"
     ]
    },
    {
     "name": "stdout",
     "output_type": "stream",
     "text": [
      "DEBUG: scores.shape = torch.Size([8, 16])\n"
     ]
    },
    {
     "name": "stderr",
     "output_type": "stream",
     "text": [
      "Epoch 23:  21%|██        | 8/38 [00:00<00:00, 34.45batch/s, loss=37.5000]"
     ]
    },
    {
     "name": "stdout",
     "output_type": "stream",
     "text": [
      "DEBUG: scores.shape = torch.Size([8, 16])\n",
      "DEBUG: scores.shape = torch.Size([8, 16])\n"
     ]
    },
    {
     "name": "stderr",
     "output_type": "stream",
     "text": [
      "Epoch 23:  21%|██        | 8/38 [00:00<00:00, 34.45batch/s, loss=50.0000]"
     ]
    },
    {
     "name": "stdout",
     "output_type": "stream",
     "text": [
      "DEBUG: scores.shape = torch.Size([8, 16])\n",
      "DEBUG: scores.shape = torch.Size([8, 16])\n"
     ]
    },
    {
     "name": "stderr",
     "output_type": "stream",
     "text": [
      "Epoch 23:  32%|███▏      | 12/38 [00:00<00:00, 33.74batch/s, loss=50.0000]"
     ]
    },
    {
     "name": "stdout",
     "output_type": "stream",
     "text": [
      "DEBUG: scores.shape = torch.Size([8, 16])\n"
     ]
    },
    {
     "name": "stderr",
     "output_type": "stream",
     "text": [
      "Epoch 23:  32%|███▏      | 12/38 [00:00<00:00, 33.74batch/s, loss=87.5000]"
     ]
    },
    {
     "name": "stdout",
     "output_type": "stream",
     "text": [
      "DEBUG: scores.shape = torch.Size([8, 16])\n",
      "DEBUG: scores.shape = torch.Size([8, 16])\n"
     ]
    },
    {
     "name": "stderr",
     "output_type": "stream",
     "text": [
      "Epoch 23:  42%|████▏     | 16/38 [00:00<00:00, 34.39batch/s, loss=37.5000]"
     ]
    },
    {
     "name": "stdout",
     "output_type": "stream",
     "text": [
      "DEBUG: scores.shape = torch.Size([8, 16])\n",
      "DEBUG: scores.shape = torch.Size([8, 16])\n"
     ]
    },
    {
     "name": "stderr",
     "output_type": "stream",
     "text": [
      "Epoch 23:  42%|████▏     | 16/38 [00:00<00:00, 34.39batch/s, loss=50.0000]"
     ]
    },
    {
     "name": "stdout",
     "output_type": "stream",
     "text": [
      "DEBUG: scores.shape = torch.Size([8, 16])\n",
      "DEBUG: scores.shape = torch.Size([8, 16])\n",
      "DEBUG: scores.shape = torch.Size([8, 16])\n",
      "DEBUG: scores.shape = torch.Size([8, 16])\n"
     ]
    },
    {
     "name": "stderr",
     "output_type": "stream",
     "text": [
      "Epoch 23:  55%|█████▌    | 21/38 [00:00<00:00, 35.39batch/s, loss=37.5000]"
     ]
    },
    {
     "name": "stdout",
     "output_type": "stream",
     "text": [
      "DEBUG: scores.shape = torch.Size([8, 16])\n",
      "DEBUG: scores.shape = torch.Size([8, 16])\n"
     ]
    },
    {
     "name": "stderr",
     "output_type": "stream",
     "text": [
      "Epoch 23:  55%|█████▌    | 21/38 [00:00<00:00, 35.39batch/s, loss=62.5000]"
     ]
    },
    {
     "name": "stdout",
     "output_type": "stream",
     "text": [
      "DEBUG: scores.shape = torch.Size([8, 16])\n",
      "DEBUG: scores.shape = torch.Size([8, 16])\n"
     ]
    },
    {
     "name": "stderr",
     "output_type": "stream",
     "text": [
      "Epoch 23:  66%|██████▌   | 25/38 [00:00<00:00, 34.92batch/s, loss=37.5000]"
     ]
    },
    {
     "name": "stdout",
     "output_type": "stream",
     "text": [
      "DEBUG: scores.shape = torch.Size([8, 16])\n",
      "DEBUG: scores.shape = torch.Size([8, 16])\n"
     ]
    },
    {
     "name": "stderr",
     "output_type": "stream",
     "text": [
      "Epoch 23:  66%|██████▌   | 25/38 [00:00<00:00, 34.92batch/s, loss=62.5000]"
     ]
    },
    {
     "name": "stdout",
     "output_type": "stream",
     "text": [
      "DEBUG: scores.shape = torch.Size([8, 16])\n",
      "DEBUG: scores.shape = torch.Size([8, 16])\n"
     ]
    },
    {
     "name": "stderr",
     "output_type": "stream",
     "text": [
      "Epoch 23:  76%|███████▋  | 29/38 [00:00<00:00, 34.31batch/s, loss=12.5000]"
     ]
    },
    {
     "name": "stdout",
     "output_type": "stream",
     "text": [
      "DEBUG: scores.shape = torch.Size([8, 16])\n"
     ]
    },
    {
     "name": "stderr",
     "output_type": "stream",
     "text": [
      "Epoch 23:  76%|███████▋  | 29/38 [00:00<00:00, 34.31batch/s, loss=50.0000]"
     ]
    },
    {
     "name": "stdout",
     "output_type": "stream",
     "text": [
      "DEBUG: scores.shape = torch.Size([8, 16])\n",
      "DEBUG: scores.shape = torch.Size([8, 16])\n",
      "DEBUG: scores.shape = torch.Size([8, 16])\n"
     ]
    },
    {
     "name": "stderr",
     "output_type": "stream",
     "text": [
      "Epoch 23:  87%|████████▋ | 33/38 [00:00<00:00, 34.48batch/s, loss=50.0000]"
     ]
    },
    {
     "name": "stdout",
     "output_type": "stream",
     "text": [
      "DEBUG: scores.shape = torch.Size([8, 16])\n"
     ]
    },
    {
     "name": "stderr",
     "output_type": "stream",
     "text": [
      "Epoch 23:  87%|████████▋ | 33/38 [00:01<00:00, 34.48batch/s, loss=62.5000]"
     ]
    },
    {
     "name": "stdout",
     "output_type": "stream",
     "text": [
      "DEBUG: scores.shape = torch.Size([8, 16])\n",
      "DEBUG: scores.shape = torch.Size([8, 16])\n",
      "DEBUG: scores.shape = torch.Size([8, 16])\n"
     ]
    },
    {
     "name": "stderr",
     "output_type": "stream",
     "text": [
      "Epoch 23: 100%|██████████| 38/38 [00:01<00:00, 34.90batch/s, loss=50.0000]\n"
     ]
    },
    {
     "name": "stdout",
     "output_type": "stream",
     "text": [
      "DEBUG: scores.shape = torch.Size([4, 16])\n",
      "Epoch 23, Loss: 50.0000\n"
     ]
    },
    {
     "name": "stderr",
     "output_type": "stream",
     "text": [
      "Epoch 24:   0%|          | 0/38 [00:00<?, ?batch/s, loss=37.5000]"
     ]
    },
    {
     "name": "stdout",
     "output_type": "stream",
     "text": [
      "DEBUG: scores.shape = torch.Size([8, 16])\n",
      "DEBUG: scores.shape = torch.Size([8, 16])\n"
     ]
    },
    {
     "name": "stderr",
     "output_type": "stream",
     "text": [
      "Epoch 24:   0%|          | 0/38 [00:00<?, ?batch/s, loss=37.5000]"
     ]
    },
    {
     "name": "stdout",
     "output_type": "stream",
     "text": [
      "DEBUG: scores.shape = torch.Size([8, 16])\n"
     ]
    },
    {
     "name": "stderr",
     "output_type": "stream",
     "text": [
      "Epoch 24:  11%|█         | 4/38 [00:00<00:01, 33.99batch/s, loss=50.0000]"
     ]
    },
    {
     "name": "stdout",
     "output_type": "stream",
     "text": [
      "DEBUG: scores.shape = torch.Size([8, 16])\n",
      "DEBUG: scores.shape = torch.Size([8, 16])\n",
      "DEBUG: scores.shape = torch.Size([8, 16])\n"
     ]
    },
    {
     "name": "stderr",
     "output_type": "stream",
     "text": [
      "Epoch 24:  11%|█         | 4/38 [00:00<00:01, 33.99batch/s, loss=50.0000]"
     ]
    },
    {
     "name": "stdout",
     "output_type": "stream",
     "text": [
      "DEBUG: scores.shape = torch.Size([8, 16])\n"
     ]
    },
    {
     "name": "stderr",
     "output_type": "stream",
     "text": [
      "Epoch 24:  21%|██        | 8/38 [00:00<00:00, 34.18batch/s, loss=50.0000]"
     ]
    },
    {
     "name": "stdout",
     "output_type": "stream",
     "text": [
      "DEBUG: scores.shape = torch.Size([8, 16])\n",
      "DEBUG: scores.shape = torch.Size([8, 16])\n"
     ]
    },
    {
     "name": "stderr",
     "output_type": "stream",
     "text": [
      "Epoch 24:  21%|██        | 8/38 [00:00<00:00, 34.18batch/s, loss=37.5000]"
     ]
    },
    {
     "name": "stdout",
     "output_type": "stream",
     "text": [
      "DEBUG: scores.shape = torch.Size([8, 16])\n"
     ]
    },
    {
     "name": "stderr",
     "output_type": "stream",
     "text": [
      "Epoch 24:  32%|███▏      | 12/38 [00:00<00:00, 34.28batch/s, loss=50.0000]"
     ]
    },
    {
     "name": "stdout",
     "output_type": "stream",
     "text": [
      "DEBUG: scores.shape = torch.Size([8, 16])\n",
      "DEBUG: scores.shape = torch.Size([8, 16])\n",
      "DEBUG: scores.shape = torch.Size([8, 16])\n"
     ]
    },
    {
     "name": "stderr",
     "output_type": "stream",
     "text": [
      "Epoch 24:  32%|███▏      | 12/38 [00:00<00:00, 34.28batch/s, loss=50.0000]"
     ]
    },
    {
     "name": "stdout",
     "output_type": "stream",
     "text": [
      "DEBUG: scores.shape = torch.Size([8, 16])\n"
     ]
    },
    {
     "name": "stderr",
     "output_type": "stream",
     "text": [
      "Epoch 24:  42%|████▏     | 16/38 [00:00<00:00, 34.18batch/s, loss=37.5000]"
     ]
    },
    {
     "name": "stdout",
     "output_type": "stream",
     "text": [
      "DEBUG: scores.shape = torch.Size([8, 16])\n",
      "DEBUG: scores.shape = torch.Size([8, 16])\n",
      "DEBUG: scores.shape = torch.Size([8, 16])\n"
     ]
    },
    {
     "name": "stderr",
     "output_type": "stream",
     "text": [
      "Epoch 24:  42%|████▏     | 16/38 [00:00<00:00, 34.18batch/s, loss=37.5000]"
     ]
    },
    {
     "name": "stdout",
     "output_type": "stream",
     "text": [
      "DEBUG: scores.shape = torch.Size([8, 16])\n",
      "DEBUG: scores.shape = torch.Size([8, 16])\n",
      "DEBUG: scores.shape = torch.Size([8, 16])\n"
     ]
    },
    {
     "name": "stderr",
     "output_type": "stream",
     "text": [
      "Epoch 24:  53%|█████▎    | 20/38 [00:00<00:00, 33.91batch/s, loss=37.5000]"
     ]
    },
    {
     "name": "stdout",
     "output_type": "stream",
     "text": [
      "DEBUG: scores.shape = torch.Size([8, 16])\n"
     ]
    },
    {
     "name": "stderr",
     "output_type": "stream",
     "text": [
      "Epoch 24:  63%|██████▎   | 24/38 [00:00<00:00, 34.26batch/s, loss=25.0000]"
     ]
    },
    {
     "name": "stdout",
     "output_type": "stream",
     "text": [
      "DEBUG: scores.shape = torch.Size([8, 16])\n",
      "DEBUG: scores.shape = torch.Size([8, 16])\n",
      "DEBUG: scores.shape = torch.Size([8, 16])\n",
      "DEBUG: scores.shape = torch.Size([8, 16])\n"
     ]
    },
    {
     "name": "stderr",
     "output_type": "stream",
     "text": [
      "Epoch 24:  63%|██████▎   | 24/38 [00:00<00:00, 34.26batch/s, loss=37.5000]"
     ]
    },
    {
     "name": "stdout",
     "output_type": "stream",
     "text": [
      "DEBUG: scores.shape = torch.Size([8, 16])\n",
      "DEBUG: scores.shape = torch.Size([8, 16])\n"
     ]
    },
    {
     "name": "stderr",
     "output_type": "stream",
     "text": [
      "Epoch 24:  74%|███████▎  | 28/38 [00:00<00:00, 34.67batch/s, loss=50.0000]"
     ]
    },
    {
     "name": "stdout",
     "output_type": "stream",
     "text": [
      "DEBUG: scores.shape = torch.Size([8, 16])\n"
     ]
    },
    {
     "name": "stderr",
     "output_type": "stream",
     "text": [
      "Epoch 24:  74%|███████▎  | 28/38 [00:00<00:00, 34.67batch/s, loss=37.5000]"
     ]
    },
    {
     "name": "stdout",
     "output_type": "stream",
     "text": [
      "DEBUG: scores.shape = torch.Size([8, 16])\n",
      "DEBUG: scores.shape = torch.Size([8, 16])\n",
      "DEBUG: scores.shape = torch.Size([8, 16])\n",
      "DEBUG: scores.shape = torch.Size([8, 16])\n"
     ]
    },
    {
     "name": "stderr",
     "output_type": "stream",
     "text": [
      "Epoch 24:  84%|████████▍ | 32/38 [00:01<00:00, 33.02batch/s, loss=62.5000]"
     ]
    },
    {
     "name": "stdout",
     "output_type": "stream",
     "text": [
      "DEBUG: scores.shape = torch.Size([8, 16])\n",
      "DEBUG: scores.shape = torch.Size([8, 16])\n",
      "DEBUG: scores.shape = torch.Size([8, 16])\n"
     ]
    },
    {
     "name": "stderr",
     "output_type": "stream",
     "text": [
      "Epoch 24: 100%|██████████| 38/38 [00:01<00:00, 34.51batch/s, loss=75.0000]\n"
     ]
    },
    {
     "name": "stdout",
     "output_type": "stream",
     "text": [
      "DEBUG: scores.shape = torch.Size([8, 16])\n",
      "DEBUG: scores.shape = torch.Size([8, 16])\n",
      "DEBUG: scores.shape = torch.Size([4, 16])\n",
      "Epoch 24, Loss: 50.3289\n"
     ]
    },
    {
     "name": "stderr",
     "output_type": "stream",
     "text": [
      "Epoch 25:   0%|          | 0/38 [00:00<?, ?batch/s, loss=75.0000]"
     ]
    },
    {
     "name": "stdout",
     "output_type": "stream",
     "text": [
      "DEBUG: scores.shape = torch.Size([8, 16])\n",
      "DEBUG: scores.shape = torch.Size([8, 16])\n"
     ]
    },
    {
     "name": "stderr",
     "output_type": "stream",
     "text": [
      "Epoch 25:   0%|          | 0/38 [00:00<?, ?batch/s, loss=75.0000]"
     ]
    },
    {
     "name": "stdout",
     "output_type": "stream",
     "text": [
      "DEBUG: scores.shape = torch.Size([8, 16])\n"
     ]
    },
    {
     "name": "stderr",
     "output_type": "stream",
     "text": [
      "Epoch 25:   0%|          | 0/38 [00:00<?, ?batch/s, loss=37.5000]"
     ]
    },
    {
     "name": "stdout",
     "output_type": "stream",
     "text": [
      "DEBUG: scores.shape = torch.Size([8, 16])\n"
     ]
    },
    {
     "name": "stderr",
     "output_type": "stream",
     "text": [
      "Epoch 25:  11%|█         | 4/38 [00:00<00:01, 32.07batch/s, loss=50.0000]"
     ]
    },
    {
     "name": "stdout",
     "output_type": "stream",
     "text": [
      "DEBUG: scores.shape = torch.Size([8, 16])\n",
      "DEBUG: scores.shape = torch.Size([8, 16])\n",
      "DEBUG: scores.shape = torch.Size([8, 16])\n"
     ]
    },
    {
     "name": "stderr",
     "output_type": "stream",
     "text": [
      "Epoch 25:  11%|█         | 4/38 [00:00<00:01, 32.07batch/s, loss=75.0000]"
     ]
    },
    {
     "name": "stdout",
     "output_type": "stream",
     "text": [
      "DEBUG: scores.shape = torch.Size([8, 16])\n"
     ]
    },
    {
     "name": "stderr",
     "output_type": "stream",
     "text": [
      "Epoch 25:  21%|██        | 8/38 [00:00<00:01, 29.46batch/s, loss=75.0000]"
     ]
    },
    {
     "name": "stdout",
     "output_type": "stream",
     "text": [
      "DEBUG: scores.shape = torch.Size([8, 16])\n"
     ]
    },
    {
     "name": "stderr",
     "output_type": "stream",
     "text": [
      "Epoch 25:  21%|██        | 8/38 [00:00<00:01, 29.46batch/s, loss=37.5000]"
     ]
    },
    {
     "name": "stdout",
     "output_type": "stream",
     "text": [
      "DEBUG: scores.shape = torch.Size([8, 16])\n"
     ]
    },
    {
     "name": "stderr",
     "output_type": "stream",
     "text": [
      "Epoch 25:  32%|███▏      | 12/38 [00:00<00:00, 31.45batch/s, loss=37.5000]"
     ]
    },
    {
     "name": "stdout",
     "output_type": "stream",
     "text": [
      "DEBUG: scores.shape = torch.Size([8, 16])\n",
      "DEBUG: scores.shape = torch.Size([8, 16])\n",
      "DEBUG: scores.shape = torch.Size([8, 16])\n",
      "DEBUG: scores.shape = torch.Size([8, 16])\n"
     ]
    },
    {
     "name": "stderr",
     "output_type": "stream",
     "text": [
      "Epoch 25:  32%|███▏      | 12/38 [00:00<00:00, 31.45batch/s, loss=50.0000]"
     ]
    },
    {
     "name": "stdout",
     "output_type": "stream",
     "text": [
      "DEBUG: scores.shape = torch.Size([8, 16])\n",
      "DEBUG: scores.shape = torch.Size([8, 16])\n"
     ]
    },
    {
     "name": "stderr",
     "output_type": "stream",
     "text": [
      "Epoch 25:  42%|████▏     | 16/38 [00:00<00:00, 30.72batch/s, loss=50.0000]"
     ]
    },
    {
     "name": "stdout",
     "output_type": "stream",
     "text": [
      "DEBUG: scores.shape = torch.Size([8, 16])\n"
     ]
    },
    {
     "name": "stderr",
     "output_type": "stream",
     "text": [
      "Epoch 25:  42%|████▏     | 16/38 [00:00<00:00, 30.72batch/s, loss=50.0000]"
     ]
    },
    {
     "name": "stdout",
     "output_type": "stream",
     "text": [
      "DEBUG: scores.shape = torch.Size([8, 16])\n",
      "DEBUG: scores.shape = torch.Size([8, 16])\n",
      "DEBUG: scores.shape = torch.Size([8, 16])\n"
     ]
    },
    {
     "name": "stderr",
     "output_type": "stream",
     "text": [
      "Epoch 25:  53%|█████▎    | 20/38 [00:00<00:00, 29.56batch/s, loss=50.0000]"
     ]
    },
    {
     "name": "stdout",
     "output_type": "stream",
     "text": [
      "DEBUG: scores.shape = torch.Size([8, 16])\n"
     ]
    },
    {
     "name": "stderr",
     "output_type": "stream",
     "text": [
      "Epoch 25:  53%|█████▎    | 20/38 [00:00<00:00, 29.56batch/s, loss=50.0000]"
     ]
    },
    {
     "name": "stdout",
     "output_type": "stream",
     "text": [
      "DEBUG: scores.shape = torch.Size([8, 16])\n",
      "DEBUG: scores.shape = torch.Size([8, 16])\n"
     ]
    },
    {
     "name": "stderr",
     "output_type": "stream",
     "text": [
      "Epoch 25:  53%|█████▎    | 20/38 [00:00<00:00, 29.56batch/s, loss=62.5000]"
     ]
    },
    {
     "name": "stdout",
     "output_type": "stream",
     "text": [
      "DEBUG: scores.shape = torch.Size([8, 16])\n"
     ]
    },
    {
     "name": "stderr",
     "output_type": "stream",
     "text": [
      "Epoch 25:  63%|██████▎   | 24/38 [00:00<00:00, 30.53batch/s, loss=50.0000]"
     ]
    },
    {
     "name": "stdout",
     "output_type": "stream",
     "text": [
      "DEBUG: scores.shape = torch.Size([8, 16])\n",
      "DEBUG: scores.shape = torch.Size([8, 16])\n",
      "DEBUG: scores.shape = torch.Size([8, 16])\n"
     ]
    },
    {
     "name": "stderr",
     "output_type": "stream",
     "text": [
      "Epoch 25:  74%|███████▎  | 28/38 [00:00<00:00, 32.16batch/s, loss=50.0000]"
     ]
    },
    {
     "name": "stdout",
     "output_type": "stream",
     "text": [
      "DEBUG: scores.shape = torch.Size([8, 16])\n",
      "DEBUG: scores.shape = torch.Size([8, 16])\n"
     ]
    },
    {
     "name": "stderr",
     "output_type": "stream",
     "text": [
      "Epoch 25:  74%|███████▎  | 28/38 [00:00<00:00, 32.16batch/s, loss=50.0000]"
     ]
    },
    {
     "name": "stdout",
     "output_type": "stream",
     "text": [
      "DEBUG: scores.shape = torch.Size([8, 16])\n",
      "DEBUG: scores.shape = torch.Size([8, 16])\n"
     ]
    },
    {
     "name": "stderr",
     "output_type": "stream",
     "text": [
      "Epoch 25:  84%|████████▍ | 32/38 [00:01<00:00, 32.51batch/s, loss=50.0000]"
     ]
    },
    {
     "name": "stdout",
     "output_type": "stream",
     "text": [
      "DEBUG: scores.shape = torch.Size([8, 16])\n",
      "DEBUG: scores.shape = torch.Size([8, 16])\n",
      "DEBUG: scores.shape = torch.Size([8, 16])\n"
     ]
    },
    {
     "name": "stderr",
     "output_type": "stream",
     "text": [
      "Epoch 25:  84%|████████▍ | 32/38 [00:01<00:00, 32.51batch/s, loss=25.0000]"
     ]
    },
    {
     "name": "stdout",
     "output_type": "stream",
     "text": [
      "DEBUG: scores.shape = torch.Size([8, 16])\n",
      "DEBUG: scores.shape = torch.Size([8, 16])\n"
     ]
    },
    {
     "name": "stderr",
     "output_type": "stream",
     "text": [
      "Epoch 25:  95%|█████████▍| 36/38 [00:01<00:00, 33.04batch/s, loss=50.0000]"
     ]
    },
    {
     "name": "stdout",
     "output_type": "stream",
     "text": [
      "DEBUG: scores.shape = torch.Size([8, 16])\n",
      "DEBUG: scores.shape = torch.Size([4, 16])\n"
     ]
    },
    {
     "name": "stderr",
     "output_type": "stream",
     "text": [
      "Epoch 25: 100%|██████████| 38/38 [00:01<00:00, 32.02batch/s, loss=50.0000]\n"
     ]
    },
    {
     "name": "stdout",
     "output_type": "stream",
     "text": [
      "Epoch 25, Loss: 50.0000\n"
     ]
    },
    {
     "name": "stderr",
     "output_type": "stream",
     "text": [
      "Epoch 26:   0%|          | 0/38 [00:00<?, ?batch/s, loss=62.5000]"
     ]
    },
    {
     "name": "stdout",
     "output_type": "stream",
     "text": [
      "DEBUG: scores.shape = torch.Size([8, 16])\n",
      "DEBUG: scores.shape = torch.Size([8, 16])\n",
      "DEBUG: scores.shape = torch.Size([8, 16])\n"
     ]
    },
    {
     "name": "stderr",
     "output_type": "stream",
     "text": [
      "Epoch 26:   8%|▊         | 3/38 [00:00<00:01, 29.22batch/s, loss=37.5000]"
     ]
    },
    {
     "name": "stdout",
     "output_type": "stream",
     "text": [
      "DEBUG: scores.shape = torch.Size([8, 16])\n",
      "DEBUG: scores.shape = torch.Size([8, 16])\n"
     ]
    },
    {
     "name": "stderr",
     "output_type": "stream",
     "text": [
      "Epoch 26:   8%|▊         | 3/38 [00:00<00:01, 29.22batch/s, loss=62.5000]"
     ]
    },
    {
     "name": "stdout",
     "output_type": "stream",
     "text": [
      "DEBUG: scores.shape = torch.Size([8, 16])\n",
      "DEBUG: scores.shape = torch.Size([8, 16])\n"
     ]
    },
    {
     "name": "stderr",
     "output_type": "stream",
     "text": [
      "Epoch 26:  18%|█▊        | 7/38 [00:00<00:00, 31.21batch/s, loss=50.0000]"
     ]
    },
    {
     "name": "stdout",
     "output_type": "stream",
     "text": [
      "DEBUG: scores.shape = torch.Size([8, 16])\n",
      "DEBUG: scores.shape = torch.Size([8, 16])\n"
     ]
    },
    {
     "name": "stderr",
     "output_type": "stream",
     "text": [
      "Epoch 26:  18%|█▊        | 7/38 [00:00<00:00, 31.21batch/s, loss=62.5000]"
     ]
    },
    {
     "name": "stdout",
     "output_type": "stream",
     "text": [
      "DEBUG: scores.shape = torch.Size([8, 16])\n",
      "DEBUG: scores.shape = torch.Size([8, 16])\n"
     ]
    },
    {
     "name": "stderr",
     "output_type": "stream",
     "text": [
      "Epoch 26:  29%|██▉       | 11/38 [00:00<00:00, 31.05batch/s, loss=62.5000]"
     ]
    },
    {
     "name": "stdout",
     "output_type": "stream",
     "text": [
      "DEBUG: scores.shape = torch.Size([8, 16])\n",
      "DEBUG: scores.shape = torch.Size([8, 16])\n",
      "DEBUG: scores.shape = torch.Size([8, 16])\n"
     ]
    },
    {
     "name": "stderr",
     "output_type": "stream",
     "text": [
      "Epoch 26:  39%|███▉      | 15/38 [00:00<00:00, 30.37batch/s, loss=50.0000]"
     ]
    },
    {
     "name": "stdout",
     "output_type": "stream",
     "text": [
      "DEBUG: scores.shape = torch.Size([8, 16])\n"
     ]
    },
    {
     "name": "stderr",
     "output_type": "stream",
     "text": [
      "Epoch 26:  39%|███▉      | 15/38 [00:00<00:00, 30.37batch/s, loss=62.5000]"
     ]
    },
    {
     "name": "stdout",
     "output_type": "stream",
     "text": [
      "DEBUG: scores.shape = torch.Size([8, 16])\n",
      "DEBUG: scores.shape = torch.Size([8, 16])\n",
      "DEBUG: scores.shape = torch.Size([8, 16])\n"
     ]
    },
    {
     "name": "stderr",
     "output_type": "stream",
     "text": [
      "Epoch 26:  39%|███▉      | 15/38 [00:00<00:00, 30.37batch/s, loss=37.5000]"
     ]
    },
    {
     "name": "stdout",
     "output_type": "stream",
     "text": [
      "DEBUG: scores.shape = torch.Size([8, 16])\n"
     ]
    },
    {
     "name": "stderr",
     "output_type": "stream",
     "text": [
      "Epoch 26:  50%|█████     | 19/38 [00:00<00:00, 29.84batch/s, loss=37.5000]"
     ]
    },
    {
     "name": "stdout",
     "output_type": "stream",
     "text": [
      "DEBUG: scores.shape = torch.Size([8, 16])\n",
      "DEBUG: scores.shape = torch.Size([8, 16])\n"
     ]
    },
    {
     "name": "stderr",
     "output_type": "stream",
     "text": [
      "Epoch 26:  50%|█████     | 19/38 [00:00<00:00, 29.84batch/s, loss=50.0000]"
     ]
    },
    {
     "name": "stdout",
     "output_type": "stream",
     "text": [
      "DEBUG: scores.shape = torch.Size([8, 16])\n"
     ]
    },
    {
     "name": "stderr",
     "output_type": "stream",
     "text": [
      "Epoch 26:  58%|█████▊    | 22/38 [00:00<00:00, 29.84batch/s, loss=62.5000]"
     ]
    },
    {
     "name": "stdout",
     "output_type": "stream",
     "text": [
      "DEBUG: scores.shape = torch.Size([8, 16])\n",
      "DEBUG: scores.shape = torch.Size([8, 16])\n"
     ]
    },
    {
     "name": "stderr",
     "output_type": "stream",
     "text": [
      "Epoch 26:  58%|█████▊    | 22/38 [00:00<00:00, 29.84batch/s, loss=37.5000]"
     ]
    },
    {
     "name": "stdout",
     "output_type": "stream",
     "text": [
      "DEBUG: scores.shape = torch.Size([8, 16])\n",
      "DEBUG: scores.shape = torch.Size([8, 16])\n"
     ]
    },
    {
     "name": "stderr",
     "output_type": "stream",
     "text": [
      "Epoch 26:  68%|██████▊   | 26/38 [00:00<00:00, 30.41batch/s, loss=37.5000]"
     ]
    },
    {
     "name": "stdout",
     "output_type": "stream",
     "text": [
      "DEBUG: scores.shape = torch.Size([8, 16])\n",
      "DEBUG: scores.shape = torch.Size([8, 16])\n"
     ]
    },
    {
     "name": "stderr",
     "output_type": "stream",
     "text": [
      "Epoch 26:  68%|██████▊   | 26/38 [00:00<00:00, 30.41batch/s, loss=50.0000]"
     ]
    },
    {
     "name": "stdout",
     "output_type": "stream",
     "text": [
      "DEBUG: scores.shape = torch.Size([8, 16])\n"
     ]
    },
    {
     "name": "stderr",
     "output_type": "stream",
     "text": [
      "Epoch 26:  79%|███████▉  | 30/38 [00:01<00:00, 30.21batch/s, loss=37.5000]"
     ]
    },
    {
     "name": "stdout",
     "output_type": "stream",
     "text": [
      "DEBUG: scores.shape = torch.Size([8, 16])\n",
      "DEBUG: scores.shape = torch.Size([8, 16])\n"
     ]
    },
    {
     "name": "stderr",
     "output_type": "stream",
     "text": [
      "Epoch 26:  79%|███████▉  | 30/38 [00:01<00:00, 30.21batch/s, loss=50.0000]"
     ]
    },
    {
     "name": "stdout",
     "output_type": "stream",
     "text": [
      "DEBUG: scores.shape = torch.Size([8, 16])\n"
     ]
    },
    {
     "name": "stderr",
     "output_type": "stream",
     "text": [
      "Epoch 26:  89%|████████▉ | 34/38 [00:01<00:00, 30.97batch/s, loss=75.0000]"
     ]
    },
    {
     "name": "stdout",
     "output_type": "stream",
     "text": [
      "DEBUG: scores.shape = torch.Size([8, 16])\n",
      "DEBUG: scores.shape = torch.Size([8, 16])\n",
      "DEBUG: scores.shape = torch.Size([8, 16])\n"
     ]
    },
    {
     "name": "stderr",
     "output_type": "stream",
     "text": [
      "Epoch 26:  89%|████████▉ | 34/38 [00:01<00:00, 30.97batch/s, loss=62.5000]"
     ]
    },
    {
     "name": "stdout",
     "output_type": "stream",
     "text": [
      "DEBUG: scores.shape = torch.Size([8, 16])\n"
     ]
    },
    {
     "name": "stderr",
     "output_type": "stream",
     "text": [
      "Epoch 26: 100%|██████████| 38/38 [00:01<00:00, 31.31batch/s, loss=25.0000]\n"
     ]
    },
    {
     "name": "stdout",
     "output_type": "stream",
     "text": [
      "DEBUG: scores.shape = torch.Size([8, 16])\n",
      "DEBUG: scores.shape = torch.Size([4, 16])\n",
      "Epoch 26, Loss: 49.6711\n"
     ]
    },
    {
     "name": "stderr",
     "output_type": "stream",
     "text": [
      "Epoch 27:   0%|          | 0/38 [00:00<?, ?batch/s]"
     ]
    },
    {
     "name": "stdout",
     "output_type": "stream",
     "text": [
      "DEBUG: scores.shape = torch.Size([8, 16])\n"
     ]
    },
    {
     "name": "stderr",
     "output_type": "stream",
     "text": [
      "Epoch 27:   0%|          | 0/38 [00:00<?, ?batch/s, loss=37.5000]"
     ]
    },
    {
     "name": "stdout",
     "output_type": "stream",
     "text": [
      "DEBUG: scores.shape = torch.Size([8, 16])\n",
      "DEBUG: scores.shape = torch.Size([8, 16])\n",
      "DEBUG: scores.shape = torch.Size([8, 16])\n"
     ]
    },
    {
     "name": "stderr",
     "output_type": "stream",
     "text": [
      "Epoch 27:  11%|█         | 4/38 [00:00<00:01, 33.51batch/s, loss=50.0000]"
     ]
    },
    {
     "name": "stdout",
     "output_type": "stream",
     "text": [
      "DEBUG: scores.shape = torch.Size([8, 16])\n"
     ]
    },
    {
     "name": "stderr",
     "output_type": "stream",
     "text": [
      "Epoch 27:  11%|█         | 4/38 [00:00<00:01, 33.51batch/s, loss=62.5000]"
     ]
    },
    {
     "name": "stdout",
     "output_type": "stream",
     "text": [
      "DEBUG: scores.shape = torch.Size([8, 16])\n",
      "DEBUG: scores.shape = torch.Size([8, 16])\n",
      "DEBUG: scores.shape = torch.Size([8, 16])\n"
     ]
    },
    {
     "name": "stderr",
     "output_type": "stream",
     "text": [
      "Epoch 27:  21%|██        | 8/38 [00:00<00:00, 32.37batch/s, loss=12.5000]"
     ]
    },
    {
     "name": "stdout",
     "output_type": "stream",
     "text": [
      "DEBUG: scores.shape = torch.Size([8, 16])\n",
      "DEBUG: scores.shape = torch.Size([8, 16])\n",
      "DEBUG: scores.shape = torch.Size([8, 16])\n"
     ]
    },
    {
     "name": "stderr",
     "output_type": "stream",
     "text": [
      "Epoch 27:  21%|██        | 8/38 [00:00<00:00, 32.37batch/s, loss=50.0000]"
     ]
    },
    {
     "name": "stdout",
     "output_type": "stream",
     "text": [
      "DEBUG: scores.shape = torch.Size([8, 16])\n"
     ]
    },
    {
     "name": "stderr",
     "output_type": "stream",
     "text": [
      "Epoch 27:  32%|███▏      | 12/38 [00:00<00:00, 34.09batch/s, loss=37.5000]"
     ]
    },
    {
     "name": "stdout",
     "output_type": "stream",
     "text": [
      "DEBUG: scores.shape = torch.Size([8, 16])\n",
      "DEBUG: scores.shape = torch.Size([8, 16])\n",
      "DEBUG: scores.shape = torch.Size([8, 16])\n"
     ]
    },
    {
     "name": "stderr",
     "output_type": "stream",
     "text": [
      "Epoch 27:  42%|████▏     | 16/38 [00:00<00:00, 32.44batch/s, loss=50.0000]"
     ]
    },
    {
     "name": "stdout",
     "output_type": "stream",
     "text": [
      "DEBUG: scores.shape = torch.Size([8, 16])\n",
      "DEBUG: scores.shape = torch.Size([8, 16])\n"
     ]
    },
    {
     "name": "stderr",
     "output_type": "stream",
     "text": [
      "Epoch 27:  42%|████▏     | 16/38 [00:00<00:00, 32.44batch/s, loss=50.0000]"
     ]
    },
    {
     "name": "stdout",
     "output_type": "stream",
     "text": [
      "DEBUG: scores.shape = torch.Size([8, 16])\n",
      "DEBUG: scores.shape = torch.Size([8, 16])\n"
     ]
    },
    {
     "name": "stderr",
     "output_type": "stream",
     "text": [
      "Epoch 27:  53%|█████▎    | 20/38 [00:00<00:00, 33.30batch/s, loss=87.5000]"
     ]
    },
    {
     "name": "stdout",
     "output_type": "stream",
     "text": [
      "DEBUG: scores.shape = torch.Size([8, 16])\n",
      "DEBUG: scores.shape = torch.Size([8, 16])\n",
      "DEBUG: scores.shape = torch.Size([8, 16])\n",
      "DEBUG: scores.shape = torch.Size([8, 16])\n",
      "DEBUG: scores.shape = torch.Size([8, 16])\n"
     ]
    },
    {
     "name": "stderr",
     "output_type": "stream",
     "text": [
      "Epoch 27:  63%|██████▎   | 24/38 [00:00<00:00, 35.06batch/s, loss=37.5000]"
     ]
    },
    {
     "name": "stdout",
     "output_type": "stream",
     "text": [
      "DEBUG: scores.shape = torch.Size([8, 16])\n",
      "DEBUG: scores.shape = torch.Size([8, 16])\n"
     ]
    },
    {
     "name": "stderr",
     "output_type": "stream",
     "text": [
      "Epoch 27:  63%|██████▎   | 24/38 [00:00<00:00, 35.06batch/s, loss=37.5000]"
     ]
    },
    {
     "name": "stdout",
     "output_type": "stream",
     "text": [
      "DEBUG: scores.shape = torch.Size([8, 16])\n"
     ]
    },
    {
     "name": "stderr",
     "output_type": "stream",
     "text": [
      "Epoch 27:  74%|███████▎  | 28/38 [00:00<00:00, 35.68batch/s, loss=87.5000]"
     ]
    },
    {
     "name": "stdout",
     "output_type": "stream",
     "text": [
      "DEBUG: scores.shape = torch.Size([8, 16])\n",
      "DEBUG: scores.shape = torch.Size([8, 16])\n",
      "DEBUG: scores.shape = torch.Size([8, 16])\n",
      "DEBUG: scores.shape = torch.Size([8, 16])\n"
     ]
    },
    {
     "name": "stderr",
     "output_type": "stream",
     "text": [
      "Epoch 27:  84%|████████▍ | 32/38 [00:00<00:00, 35.27batch/s, loss=50.0000]"
     ]
    },
    {
     "name": "stdout",
     "output_type": "stream",
     "text": [
      "DEBUG: scores.shape = torch.Size([8, 16])\n",
      "DEBUG: scores.shape = torch.Size([8, 16])\n"
     ]
    },
    {
     "name": "stderr",
     "output_type": "stream",
     "text": [
      "Epoch 27:  84%|████████▍ | 32/38 [00:00<00:00, 35.27batch/s, loss=75.0000]"
     ]
    },
    {
     "name": "stdout",
     "output_type": "stream",
     "text": [
      "DEBUG: scores.shape = torch.Size([8, 16])\n"
     ]
    },
    {
     "name": "stderr",
     "output_type": "stream",
     "text": [
      "Epoch 27:  95%|█████████▍| 36/38 [00:01<00:00, 35.69batch/s, loss=0.0000] "
     ]
    },
    {
     "name": "stdout",
     "output_type": "stream",
     "text": [
      "DEBUG: scores.shape = torch.Size([8, 16])\n",
      "DEBUG: scores.shape = torch.Size([8, 16])\n",
      "DEBUG: scores.shape = torch.Size([8, 16])\n",
      "DEBUG: scores.shape = torch.Size([4, 16])\n"
     ]
    },
    {
     "name": "stderr",
     "output_type": "stream",
     "text": [
      "Epoch 27: 100%|██████████| 38/38 [00:01<00:00, 34.98batch/s, loss=0.0000]\n"
     ]
    },
    {
     "name": "stdout",
     "output_type": "stream",
     "text": [
      "Epoch 27, Loss: 49.3421\n"
     ]
    },
    {
     "name": "stderr",
     "output_type": "stream",
     "text": [
      "Epoch 28:   0%|          | 0/38 [00:00<?, ?batch/s, loss=62.5000]"
     ]
    },
    {
     "name": "stdout",
     "output_type": "stream",
     "text": [
      "DEBUG: scores.shape = torch.Size([8, 16])\n",
      "DEBUG: scores.shape = torch.Size([8, 16])\n",
      "DEBUG: scores.shape = torch.Size([8, 16])\n"
     ]
    },
    {
     "name": "stderr",
     "output_type": "stream",
     "text": [
      "Epoch 28:   8%|▊         | 3/38 [00:00<00:01, 29.98batch/s, loss=62.5000]"
     ]
    },
    {
     "name": "stdout",
     "output_type": "stream",
     "text": [
      "DEBUG: scores.shape = torch.Size([8, 16])\n"
     ]
    },
    {
     "name": "stderr",
     "output_type": "stream",
     "text": [
      "Epoch 28:   8%|▊         | 3/38 [00:00<00:01, 29.98batch/s, loss=62.5000]"
     ]
    },
    {
     "name": "stdout",
     "output_type": "stream",
     "text": [
      "DEBUG: scores.shape = torch.Size([8, 16])\n",
      "DEBUG: scores.shape = torch.Size([8, 16])\n",
      "DEBUG: scores.shape = torch.Size([8, 16])\n"
     ]
    },
    {
     "name": "stderr",
     "output_type": "stream",
     "text": [
      "Epoch 28:  18%|█▊        | 7/38 [00:00<00:00, 34.56batch/s, loss=25.0000]"
     ]
    },
    {
     "name": "stdout",
     "output_type": "stream",
     "text": [
      "DEBUG: scores.shape = torch.Size([8, 16])\n",
      "DEBUG: scores.shape = torch.Size([8, 16])\n",
      "DEBUG: scores.shape = torch.Size([8, 16])\n",
      "DEBUG: scores.shape = torch.Size([8, 16])\n"
     ]
    },
    {
     "name": "stderr",
     "output_type": "stream",
     "text": [
      "Epoch 28:  29%|██▉       | 11/38 [00:00<00:00, 35.93batch/s, loss=75.0000]"
     ]
    },
    {
     "name": "stdout",
     "output_type": "stream",
     "text": [
      "DEBUG: scores.shape = torch.Size([8, 16])\n"
     ]
    },
    {
     "name": "stderr",
     "output_type": "stream",
     "text": [
      "Epoch 28:  29%|██▉       | 11/38 [00:00<00:00, 35.93batch/s, loss=75.0000]"
     ]
    },
    {
     "name": "stdout",
     "output_type": "stream",
     "text": [
      "DEBUG: scores.shape = torch.Size([8, 16])\n",
      "DEBUG: scores.shape = torch.Size([8, 16])\n"
     ]
    },
    {
     "name": "stderr",
     "output_type": "stream",
     "text": [
      "Epoch 28:  39%|███▉      | 15/38 [00:00<00:00, 34.33batch/s, loss=50.0000]"
     ]
    },
    {
     "name": "stdout",
     "output_type": "stream",
     "text": [
      "DEBUG: scores.shape = torch.Size([8, 16])\n",
      "DEBUG: scores.shape = torch.Size([8, 16])\n",
      "DEBUG: scores.shape = torch.Size([8, 16])\n",
      "DEBUG: scores.shape = torch.Size([8, 16])\n"
     ]
    },
    {
     "name": "stderr",
     "output_type": "stream",
     "text": [
      "Epoch 28:  39%|███▉      | 15/38 [00:00<00:00, 34.33batch/s, loss=75.0000]"
     ]
    },
    {
     "name": "stdout",
     "output_type": "stream",
     "text": [
      "DEBUG: scores.shape = torch.Size([8, 16])\n"
     ]
    },
    {
     "name": "stderr",
     "output_type": "stream",
     "text": [
      "Epoch 28:  50%|█████     | 19/38 [00:00<00:00, 34.19batch/s, loss=100.0000]"
     ]
    },
    {
     "name": "stdout",
     "output_type": "stream",
     "text": [
      "DEBUG: scores.shape = torch.Size([8, 16])\n",
      "DEBUG: scores.shape = torch.Size([8, 16])\n"
     ]
    },
    {
     "name": "stderr",
     "output_type": "stream",
     "text": [
      "Epoch 28:  61%|██████    | 23/38 [00:00<00:00, 32.96batch/s, loss=25.0000] "
     ]
    },
    {
     "name": "stdout",
     "output_type": "stream",
     "text": [
      "DEBUG: scores.shape = torch.Size([8, 16])\n",
      "DEBUG: scores.shape = torch.Size([8, 16])\n",
      "DEBUG: scores.shape = torch.Size([8, 16])\n",
      "DEBUG: scores.shape = torch.Size([8, 16])\n",
      "DEBUG: scores.shape = torch.Size([8, 16])\n"
     ]
    },
    {
     "name": "stderr",
     "output_type": "stream",
     "text": [
      "Epoch 28:  71%|███████   | 27/38 [00:00<00:00, 33.18batch/s, loss=37.5000]"
     ]
    },
    {
     "name": "stdout",
     "output_type": "stream",
     "text": [
      "DEBUG: scores.shape = torch.Size([8, 16])\n",
      "DEBUG: scores.shape = torch.Size([8, 16])\n"
     ]
    },
    {
     "name": "stderr",
     "output_type": "stream",
     "text": [
      "Epoch 28:  82%|████████▏ | 31/38 [00:00<00:00, 32.05batch/s, loss=37.5000]"
     ]
    },
    {
     "name": "stdout",
     "output_type": "stream",
     "text": [
      "DEBUG: scores.shape = torch.Size([8, 16])\n",
      "DEBUG: scores.shape = torch.Size([8, 16])\n",
      "DEBUG: scores.shape = torch.Size([8, 16])\n",
      "DEBUG: scores.shape = torch.Size([8, 16])\n"
     ]
    },
    {
     "name": "stderr",
     "output_type": "stream",
     "text": [
      "Epoch 28:  82%|████████▏ | 31/38 [00:00<00:00, 32.05batch/s, loss=62.5000]"
     ]
    },
    {
     "name": "stdout",
     "output_type": "stream",
     "text": [
      "DEBUG: scores.shape = torch.Size([8, 16])\n"
     ]
    },
    {
     "name": "stderr",
     "output_type": "stream",
     "text": [
      "Epoch 28:  92%|█████████▏| 35/38 [00:01<00:00, 33.27batch/s, loss=37.5000]"
     ]
    },
    {
     "name": "stdout",
     "output_type": "stream",
     "text": [
      "DEBUG: scores.shape = torch.Size([8, 16])\n",
      "DEBUG: scores.shape = torch.Size([8, 16])\n",
      "DEBUG: scores.shape = torch.Size([8, 16])\n"
     ]
    },
    {
     "name": "stderr",
     "output_type": "stream",
     "text": [
      "Epoch 28: 100%|██████████| 38/38 [00:01<00:00, 33.93batch/s, loss=75.0000]\n"
     ]
    },
    {
     "name": "stdout",
     "output_type": "stream",
     "text": [
      "DEBUG: scores.shape = torch.Size([8, 16])\n",
      "DEBUG: scores.shape = torch.Size([4, 16])\n",
      "Epoch 28, Loss: 50.3289\n"
     ]
    },
    {
     "name": "stderr",
     "output_type": "stream",
     "text": [
      "Epoch 29:   0%|          | 0/38 [00:00<?, ?batch/s, loss=62.5000]"
     ]
    },
    {
     "name": "stdout",
     "output_type": "stream",
     "text": [
      "DEBUG: scores.shape = torch.Size([8, 16])\n",
      "DEBUG: scores.shape = torch.Size([8, 16])\n",
      "DEBUG: scores.shape = torch.Size([8, 16])\n"
     ]
    },
    {
     "name": "stderr",
     "output_type": "stream",
     "text": [
      "Epoch 29:  11%|█         | 4/38 [00:00<00:00, 36.72batch/s, loss=50.0000]"
     ]
    },
    {
     "name": "stdout",
     "output_type": "stream",
     "text": [
      "DEBUG: scores.shape = torch.Size([8, 16])\n",
      "DEBUG: scores.shape = torch.Size([8, 16])\n",
      "DEBUG: scores.shape = torch.Size([8, 16])\n"
     ]
    },
    {
     "name": "stderr",
     "output_type": "stream",
     "text": [
      "Epoch 29:  11%|█         | 4/38 [00:00<00:00, 36.72batch/s, loss=50.0000]"
     ]
    },
    {
     "name": "stdout",
     "output_type": "stream",
     "text": [
      "DEBUG: scores.shape = torch.Size([8, 16])\n",
      "DEBUG: scores.shape = torch.Size([8, 16])\n"
     ]
    },
    {
     "name": "stderr",
     "output_type": "stream",
     "text": [
      "Epoch 29:  21%|██        | 8/38 [00:00<00:00, 37.25batch/s, loss=62.5000]"
     ]
    },
    {
     "name": "stdout",
     "output_type": "stream",
     "text": [
      "DEBUG: scores.shape = torch.Size([8, 16])\n",
      "DEBUG: scores.shape = torch.Size([8, 16])\n",
      "DEBUG: scores.shape = torch.Size([8, 16])\n"
     ]
    },
    {
     "name": "stderr",
     "output_type": "stream",
     "text": [
      "Epoch 29:  34%|███▍      | 13/38 [00:00<00:00, 37.56batch/s, loss=50.0000]"
     ]
    },
    {
     "name": "stdout",
     "output_type": "stream",
     "text": [
      "DEBUG: scores.shape = torch.Size([8, 16])\n",
      "DEBUG: scores.shape = torch.Size([8, 16])\n",
      "DEBUG: scores.shape = torch.Size([8, 16])\n"
     ]
    },
    {
     "name": "stderr",
     "output_type": "stream",
     "text": [
      "Epoch 29:  34%|███▍      | 13/38 [00:00<00:00, 37.56batch/s, loss=50.0000]"
     ]
    },
    {
     "name": "stdout",
     "output_type": "stream",
     "text": [
      "DEBUG: scores.shape = torch.Size([8, 16])\n"
     ]
    },
    {
     "name": "stderr",
     "output_type": "stream",
     "text": [
      "Epoch 29:  34%|███▍      | 13/38 [00:00<00:00, 37.56batch/s, loss=37.5000]"
     ]
    },
    {
     "name": "stdout",
     "output_type": "stream",
     "text": [
      "DEBUG: scores.shape = torch.Size([8, 16])\n",
      "DEBUG: scores.shape = torch.Size([8, 16])\n"
     ]
    },
    {
     "name": "stderr",
     "output_type": "stream",
     "text": [
      "Epoch 29:  45%|████▍     | 17/38 [00:00<00:00, 35.89batch/s, loss=37.5000]"
     ]
    },
    {
     "name": "stdout",
     "output_type": "stream",
     "text": [
      "DEBUG: scores.shape = torch.Size([8, 16])\n"
     ]
    },
    {
     "name": "stderr",
     "output_type": "stream",
     "text": [
      "Epoch 29:  55%|█████▌    | 21/38 [00:00<00:00, 35.99batch/s, loss=37.5000]"
     ]
    },
    {
     "name": "stdout",
     "output_type": "stream",
     "text": [
      "DEBUG: scores.shape = torch.Size([8, 16])\n",
      "DEBUG: scores.shape = torch.Size([8, 16])\n",
      "DEBUG: scores.shape = torch.Size([8, 16])\n"
     ]
    },
    {
     "name": "stderr",
     "output_type": "stream",
     "text": [
      "Epoch 29:  55%|█████▌    | 21/38 [00:00<00:00, 35.99batch/s, loss=62.5000]"
     ]
    },
    {
     "name": "stdout",
     "output_type": "stream",
     "text": [
      "DEBUG: scores.shape = torch.Size([8, 16])\n",
      "DEBUG: scores.shape = torch.Size([8, 16])\n"
     ]
    },
    {
     "name": "stderr",
     "output_type": "stream",
     "text": [
      "Epoch 29:  55%|█████▌    | 21/38 [00:00<00:00, 35.99batch/s, loss=62.5000]"
     ]
    },
    {
     "name": "stdout",
     "output_type": "stream",
     "text": [
      "DEBUG: scores.shape = torch.Size([8, 16])\n",
      "DEBUG: scores.shape = torch.Size([8, 16])\n"
     ]
    },
    {
     "name": "stderr",
     "output_type": "stream",
     "text": [
      "Epoch 29:  66%|██████▌   | 25/38 [00:00<00:00, 36.60batch/s, loss=62.5000]"
     ]
    },
    {
     "name": "stdout",
     "output_type": "stream",
     "text": [
      "DEBUG: scores.shape = torch.Size([8, 16])\n"
     ]
    },
    {
     "name": "stderr",
     "output_type": "stream",
     "text": [
      "Epoch 29:  66%|██████▌   | 25/38 [00:00<00:00, 36.60batch/s, loss=62.5000]"
     ]
    },
    {
     "name": "stdout",
     "output_type": "stream",
     "text": [
      "DEBUG: scores.shape = torch.Size([8, 16])\n",
      "DEBUG: scores.shape = torch.Size([8, 16])\n",
      "DEBUG: scores.shape = torch.Size([8, 16])\n"
     ]
    },
    {
     "name": "stderr",
     "output_type": "stream",
     "text": [
      "Epoch 29:  76%|███████▋  | 29/38 [00:00<00:00, 35.99batch/s, loss=25.0000]"
     ]
    },
    {
     "name": "stdout",
     "output_type": "stream",
     "text": [
      "DEBUG: scores.shape = torch.Size([8, 16])\n"
     ]
    },
    {
     "name": "stderr",
     "output_type": "stream",
     "text": [
      "Epoch 29:  76%|███████▋  | 29/38 [00:00<00:00, 35.99batch/s, loss=37.5000]"
     ]
    },
    {
     "name": "stdout",
     "output_type": "stream",
     "text": [
      "DEBUG: scores.shape = torch.Size([8, 16])\n",
      "DEBUG: scores.shape = torch.Size([8, 16])\n",
      "DEBUG: scores.shape = torch.Size([8, 16])\n"
     ]
    },
    {
     "name": "stderr",
     "output_type": "stream",
     "text": [
      "Epoch 29:  87%|████████▋ | 33/38 [00:01<00:00, 33.91batch/s, loss=50.0000]"
     ]
    },
    {
     "name": "stdout",
     "output_type": "stream",
     "text": [
      "DEBUG: scores.shape = torch.Size([8, 16])\n",
      "DEBUG: scores.shape = torch.Size([8, 16])\n",
      "DEBUG: scores.shape = torch.Size([8, 16])\n",
      "DEBUG: scores.shape = torch.Size([8, 16])\n"
     ]
    },
    {
     "name": "stderr",
     "output_type": "stream",
     "text": [
      "Epoch 29: 100%|██████████| 38/38 [00:01<00:00, 36.20batch/s, loss=25.0000]\n"
     ]
    },
    {
     "name": "stdout",
     "output_type": "stream",
     "text": [
      "DEBUG: scores.shape = torch.Size([4, 16])\n",
      "Epoch 29, Loss: 49.6711\n"
     ]
    },
    {
     "name": "stderr",
     "output_type": "stream",
     "text": [
      "Epoch 30:   0%|          | 0/38 [00:00<?, ?batch/s, loss=37.5000]"
     ]
    },
    {
     "name": "stdout",
     "output_type": "stream",
     "text": [
      "DEBUG: scores.shape = torch.Size([8, 16])\n",
      "DEBUG: scores.shape = torch.Size([8, 16])\n"
     ]
    },
    {
     "name": "stderr",
     "output_type": "stream",
     "text": [
      "Epoch 30:   0%|          | 0/38 [00:00<?, ?batch/s, loss=37.5000]"
     ]
    },
    {
     "name": "stdout",
     "output_type": "stream",
     "text": [
      "DEBUG: scores.shape = torch.Size([8, 16])\n",
      "DEBUG: scores.shape = torch.Size([8, 16])\n"
     ]
    },
    {
     "name": "stderr",
     "output_type": "stream",
     "text": [
      "Epoch 30:  11%|█         | 4/38 [00:00<00:00, 36.16batch/s, loss=62.5000]"
     ]
    },
    {
     "name": "stdout",
     "output_type": "stream",
     "text": [
      "DEBUG: scores.shape = torch.Size([8, 16])\n",
      "DEBUG: scores.shape = torch.Size([8, 16])\n",
      "DEBUG: scores.shape = torch.Size([8, 16])\n"
     ]
    },
    {
     "name": "stderr",
     "output_type": "stream",
     "text": [
      "Epoch 30:  11%|█         | 4/38 [00:00<00:00, 36.16batch/s, loss=50.0000]"
     ]
    },
    {
     "name": "stdout",
     "output_type": "stream",
     "text": [
      "DEBUG: scores.shape = torch.Size([8, 16])\n"
     ]
    },
    {
     "name": "stderr",
     "output_type": "stream",
     "text": [
      "Epoch 30:  21%|██        | 8/38 [00:00<00:00, 37.53batch/s, loss=37.5000]"
     ]
    },
    {
     "name": "stdout",
     "output_type": "stream",
     "text": [
      "DEBUG: scores.shape = torch.Size([8, 16])\n",
      "DEBUG: scores.shape = torch.Size([8, 16])\n"
     ]
    },
    {
     "name": "stderr",
     "output_type": "stream",
     "text": [
      "Epoch 30:  21%|██        | 8/38 [00:00<00:00, 37.53batch/s, loss=75.0000]"
     ]
    },
    {
     "name": "stdout",
     "output_type": "stream",
     "text": [
      "DEBUG: scores.shape = torch.Size([8, 16])\n",
      "DEBUG: scores.shape = torch.Size([8, 16])\n"
     ]
    },
    {
     "name": "stderr",
     "output_type": "stream",
     "text": [
      "Epoch 30:  32%|███▏      | 12/38 [00:00<00:00, 37.49batch/s, loss=75.0000]"
     ]
    },
    {
     "name": "stdout",
     "output_type": "stream",
     "text": [
      "DEBUG: scores.shape = torch.Size([8, 16])\n",
      "DEBUG: scores.shape = torch.Size([8, 16])\n"
     ]
    },
    {
     "name": "stderr",
     "output_type": "stream",
     "text": [
      "Epoch 30:  32%|███▏      | 12/38 [00:00<00:00, 37.49batch/s, loss=37.5000]"
     ]
    },
    {
     "name": "stdout",
     "output_type": "stream",
     "text": [
      "DEBUG: scores.shape = torch.Size([8, 16])\n"
     ]
    },
    {
     "name": "stderr",
     "output_type": "stream",
     "text": [
      "Epoch 30:  32%|███▏      | 12/38 [00:00<00:00, 37.49batch/s, loss=62.5000]"
     ]
    },
    {
     "name": "stdout",
     "output_type": "stream",
     "text": [
      "DEBUG: scores.shape = torch.Size([8, 16])\n"
     ]
    },
    {
     "name": "stderr",
     "output_type": "stream",
     "text": [
      "Epoch 30:  42%|████▏     | 16/38 [00:00<00:00, 36.29batch/s, loss=62.5000]"
     ]
    },
    {
     "name": "stdout",
     "output_type": "stream",
     "text": [
      "DEBUG: scores.shape = torch.Size([8, 16])\n",
      "DEBUG: scores.shape = torch.Size([8, 16])\n",
      "DEBUG: scores.shape = torch.Size([8, 16])\n"
     ]
    },
    {
     "name": "stderr",
     "output_type": "stream",
     "text": [
      "Epoch 30:  53%|█████▎    | 20/38 [00:00<00:00, 33.63batch/s, loss=50.0000]"
     ]
    },
    {
     "name": "stdout",
     "output_type": "stream",
     "text": [
      "DEBUG: scores.shape = torch.Size([8, 16])\n",
      "DEBUG: scores.shape = torch.Size([8, 16])\n"
     ]
    },
    {
     "name": "stderr",
     "output_type": "stream",
     "text": [
      "Epoch 30:  53%|█████▎    | 20/38 [00:00<00:00, 33.63batch/s, loss=37.5000]"
     ]
    },
    {
     "name": "stdout",
     "output_type": "stream",
     "text": [
      "DEBUG: scores.shape = torch.Size([8, 16])\n"
     ]
    },
    {
     "name": "stderr",
     "output_type": "stream",
     "text": [
      "Epoch 30:  53%|█████▎    | 20/38 [00:00<00:00, 33.63batch/s, loss=37.5000]"
     ]
    },
    {
     "name": "stdout",
     "output_type": "stream",
     "text": [
      "DEBUG: scores.shape = torch.Size([8, 16])\n"
     ]
    },
    {
     "name": "stderr",
     "output_type": "stream",
     "text": [
      "Epoch 30:  63%|██████▎   | 24/38 [00:00<00:00, 33.54batch/s, loss=25.0000]"
     ]
    },
    {
     "name": "stdout",
     "output_type": "stream",
     "text": [
      "DEBUG: scores.shape = torch.Size([8, 16])\n",
      "DEBUG: scores.shape = torch.Size([8, 16])\n",
      "DEBUG: scores.shape = torch.Size([8, 16])\n"
     ]
    },
    {
     "name": "stderr",
     "output_type": "stream",
     "text": [
      "Epoch 30:  63%|██████▎   | 24/38 [00:00<00:00, 33.54batch/s, loss=62.5000]"
     ]
    },
    {
     "name": "stdout",
     "output_type": "stream",
     "text": [
      "DEBUG: scores.shape = torch.Size([8, 16])\n",
      "DEBUG: scores.shape = torch.Size([8, 16])\n"
     ]
    },
    {
     "name": "stderr",
     "output_type": "stream",
     "text": [
      "Epoch 30:  74%|███████▎  | 28/38 [00:00<00:00, 34.02batch/s, loss=37.5000]"
     ]
    },
    {
     "name": "stdout",
     "output_type": "stream",
     "text": [
      "DEBUG: scores.shape = torch.Size([8, 16])\n"
     ]
    },
    {
     "name": "stderr",
     "output_type": "stream",
     "text": [
      "Epoch 30:  74%|███████▎  | 28/38 [00:00<00:00, 34.02batch/s, loss=75.0000]"
     ]
    },
    {
     "name": "stdout",
     "output_type": "stream",
     "text": [
      "DEBUG: scores.shape = torch.Size([8, 16])\n"
     ]
    },
    {
     "name": "stderr",
     "output_type": "stream",
     "text": [
      "Epoch 30:  84%|████████▍ | 32/38 [00:00<00:00, 33.78batch/s, loss=37.5000]"
     ]
    },
    {
     "name": "stdout",
     "output_type": "stream",
     "text": [
      "DEBUG: scores.shape = torch.Size([8, 16])\n",
      "DEBUG: scores.shape = torch.Size([8, 16])\n",
      "DEBUG: scores.shape = torch.Size([8, 16])\n"
     ]
    },
    {
     "name": "stderr",
     "output_type": "stream",
     "text": [
      "Epoch 30:  84%|████████▍ | 32/38 [00:00<00:00, 33.78batch/s, loss=50.0000]"
     ]
    },
    {
     "name": "stdout",
     "output_type": "stream",
     "text": [
      "DEBUG: scores.shape = torch.Size([8, 16])\n"
     ]
    },
    {
     "name": "stderr",
     "output_type": "stream",
     "text": [
      "Epoch 30:  84%|████████▍ | 32/38 [00:01<00:00, 33.78batch/s, loss=50.0000]"
     ]
    },
    {
     "name": "stdout",
     "output_type": "stream",
     "text": [
      "DEBUG: scores.shape = torch.Size([8, 16])\n",
      "DEBUG: scores.shape = torch.Size([8, 16])\n"
     ]
    },
    {
     "name": "stderr",
     "output_type": "stream",
     "text": [
      "Epoch 30: 100%|██████████| 38/38 [00:01<00:00, 35.34batch/s, loss=50.0000]\n"
     ]
    },
    {
     "name": "stdout",
     "output_type": "stream",
     "text": [
      "DEBUG: scores.shape = torch.Size([8, 16])\n",
      "DEBUG: scores.shape = torch.Size([4, 16])\n",
      "Epoch 30, Loss: 50.0000\n"
     ]
    },
    {
     "name": "stderr",
     "output_type": "stream",
     "text": [
      "Epoch 31:   0%|          | 0/38 [00:00<?, ?batch/s, loss=50.0000]"
     ]
    },
    {
     "name": "stdout",
     "output_type": "stream",
     "text": [
      "DEBUG: scores.shape = torch.Size([8, 16])\n",
      "DEBUG: scores.shape = torch.Size([8, 16])\n",
      "DEBUG: scores.shape = torch.Size([8, 16])\n"
     ]
    },
    {
     "name": "stderr",
     "output_type": "stream",
     "text": [
      "Epoch 31:  11%|█         | 4/38 [00:00<00:00, 39.47batch/s, loss=87.5000]"
     ]
    },
    {
     "name": "stdout",
     "output_type": "stream",
     "text": [
      "DEBUG: scores.shape = torch.Size([8, 16])\n",
      "DEBUG: scores.shape = torch.Size([8, 16])\n"
     ]
    },
    {
     "name": "stderr",
     "output_type": "stream",
     "text": [
      "Epoch 31:  11%|█         | 4/38 [00:00<00:00, 39.47batch/s, loss=62.5000]"
     ]
    },
    {
     "name": "stdout",
     "output_type": "stream",
     "text": [
      "DEBUG: scores.shape = torch.Size([8, 16])\n"
     ]
    },
    {
     "name": "stderr",
     "output_type": "stream",
     "text": [
      "Epoch 31:  11%|█         | 4/38 [00:00<00:00, 39.47batch/s, loss=25.0000]"
     ]
    },
    {
     "name": "stdout",
     "output_type": "stream",
     "text": [
      "DEBUG: scores.shape = torch.Size([8, 16])\n",
      "DEBUG: scores.shape = torch.Size([8, 16])\n"
     ]
    },
    {
     "name": "stderr",
     "output_type": "stream",
     "text": [
      "Epoch 31:  21%|██        | 8/38 [00:00<00:00, 36.20batch/s, loss=50.0000]"
     ]
    },
    {
     "name": "stdout",
     "output_type": "stream",
     "text": [
      "DEBUG: scores.shape = torch.Size([8, 16])\n",
      "DEBUG: scores.shape = torch.Size([8, 16])\n"
     ]
    },
    {
     "name": "stderr",
     "output_type": "stream",
     "text": [
      "Epoch 31:  21%|██        | 8/38 [00:00<00:00, 36.20batch/s, loss=62.5000]"
     ]
    },
    {
     "name": "stdout",
     "output_type": "stream",
     "text": [
      "DEBUG: scores.shape = torch.Size([8, 16])\n",
      "DEBUG: scores.shape = torch.Size([8, 16])\n"
     ]
    },
    {
     "name": "stderr",
     "output_type": "stream",
     "text": [
      "Epoch 31:  32%|███▏      | 12/38 [00:00<00:00, 33.67batch/s, loss=62.5000]"
     ]
    },
    {
     "name": "stdout",
     "output_type": "stream",
     "text": [
      "DEBUG: scores.shape = torch.Size([8, 16])\n"
     ]
    },
    {
     "name": "stderr",
     "output_type": "stream",
     "text": [
      "Epoch 31:  32%|███▏      | 12/38 [00:00<00:00, 33.67batch/s, loss=25.0000]"
     ]
    },
    {
     "name": "stdout",
     "output_type": "stream",
     "text": [
      "DEBUG: scores.shape = torch.Size([8, 16])\n"
     ]
    },
    {
     "name": "stderr",
     "output_type": "stream",
     "text": [
      "Epoch 31:  42%|████▏     | 16/38 [00:00<00:00, 32.32batch/s, loss=62.5000]"
     ]
    },
    {
     "name": "stdout",
     "output_type": "stream",
     "text": [
      "DEBUG: scores.shape = torch.Size([8, 16])\n",
      "DEBUG: scores.shape = torch.Size([8, 16])\n"
     ]
    },
    {
     "name": "stderr",
     "output_type": "stream",
     "text": [
      "Epoch 31:  42%|████▏     | 16/38 [00:00<00:00, 32.32batch/s, loss=62.5000]"
     ]
    },
    {
     "name": "stdout",
     "output_type": "stream",
     "text": [
      "DEBUG: scores.shape = torch.Size([8, 16])\n",
      "DEBUG: scores.shape = torch.Size([8, 16])\n",
      "DEBUG: scores.shape = torch.Size([8, 16])\n"
     ]
    },
    {
     "name": "stderr",
     "output_type": "stream",
     "text": [
      "Epoch 31:  53%|█████▎    | 20/38 [00:00<00:00, 33.97batch/s, loss=37.5000]"
     ]
    },
    {
     "name": "stdout",
     "output_type": "stream",
     "text": [
      "DEBUG: scores.shape = torch.Size([8, 16])\n",
      "DEBUG: scores.shape = torch.Size([8, 16])\n"
     ]
    },
    {
     "name": "stderr",
     "output_type": "stream",
     "text": [
      "Epoch 31:  53%|█████▎    | 20/38 [00:00<00:00, 33.97batch/s, loss=12.5000]"
     ]
    },
    {
     "name": "stdout",
     "output_type": "stream",
     "text": [
      "DEBUG: scores.shape = torch.Size([8, 16])\n"
     ]
    },
    {
     "name": "stderr",
     "output_type": "stream",
     "text": [
      "Epoch 31:  63%|██████▎   | 24/38 [00:00<00:00, 34.07batch/s, loss=62.5000]"
     ]
    },
    {
     "name": "stdout",
     "output_type": "stream",
     "text": [
      "DEBUG: scores.shape = torch.Size([8, 16])\n",
      "DEBUG: scores.shape = torch.Size([8, 16])\n",
      "DEBUG: scores.shape = torch.Size([8, 16])\n",
      "DEBUG: scores.shape = torch.Size([8, 16])\n"
     ]
    },
    {
     "name": "stderr",
     "output_type": "stream",
     "text": [
      "Epoch 31:  74%|███████▎  | 28/38 [00:00<00:00, 34.35batch/s, loss=12.5000]"
     ]
    },
    {
     "name": "stdout",
     "output_type": "stream",
     "text": [
      "DEBUG: scores.shape = torch.Size([8, 16])\n",
      "DEBUG: scores.shape = torch.Size([8, 16])\n",
      "DEBUG: scores.shape = torch.Size([8, 16])\n",
      "DEBUG: scores.shape = torch.Size([8, 16])\n"
     ]
    },
    {
     "name": "stderr",
     "output_type": "stream",
     "text": [
      "Epoch 31:  84%|████████▍ | 32/38 [00:00<00:00, 34.36batch/s, loss=75.0000]"
     ]
    },
    {
     "name": "stdout",
     "output_type": "stream",
     "text": [
      "DEBUG: scores.shape = torch.Size([8, 16])\n",
      "DEBUG: scores.shape = torch.Size([8, 16])\n",
      "DEBUG: scores.shape = torch.Size([8, 16])\n",
      "DEBUG: scores.shape = torch.Size([8, 16])\n"
     ]
    },
    {
     "name": "stderr",
     "output_type": "stream",
     "text": [
      "Epoch 31:  84%|████████▍ | 32/38 [00:01<00:00, 34.36batch/s, loss=50.0000]"
     ]
    },
    {
     "name": "stdout",
     "output_type": "stream",
     "text": [
      "DEBUG: scores.shape = torch.Size([8, 16])\n",
      "DEBUG: scores.shape = torch.Size([8, 16])\n"
     ]
    },
    {
     "name": "stderr",
     "output_type": "stream",
     "text": [
      "Epoch 31:  95%|█████████▍| 36/38 [00:01<00:00, 34.15batch/s, loss=50.0000]"
     ]
    },
    {
     "name": "stdout",
     "output_type": "stream",
     "text": [
      "DEBUG: scores.shape = torch.Size([8, 16])\n"
     ]
    },
    {
     "name": "stderr",
     "output_type": "stream",
     "text": [
      "Epoch 31: 100%|██████████| 38/38 [00:01<00:00, 34.50batch/s, loss=75.0000]\n"
     ]
    },
    {
     "name": "stdout",
     "output_type": "stream",
     "text": [
      "DEBUG: scores.shape = torch.Size([4, 16])\n",
      "Epoch 31, Loss: 50.3289\n"
     ]
    },
    {
     "name": "stderr",
     "output_type": "stream",
     "text": [
      "Epoch 32:   0%|          | 0/38 [00:00<?, ?batch/s, loss=62.5000]"
     ]
    },
    {
     "name": "stdout",
     "output_type": "stream",
     "text": [
      "DEBUG: scores.shape = torch.Size([8, 16])\n",
      "DEBUG: scores.shape = torch.Size([8, 16])\n",
      "DEBUG: scores.shape = torch.Size([8, 16])\n"
     ]
    },
    {
     "name": "stderr",
     "output_type": "stream",
     "text": [
      "Epoch 32:  11%|█         | 4/38 [00:00<00:00, 34.85batch/s, loss=62.5000]"
     ]
    },
    {
     "name": "stdout",
     "output_type": "stream",
     "text": [
      "DEBUG: scores.shape = torch.Size([8, 16])\n",
      "DEBUG: scores.shape = torch.Size([8, 16])\n"
     ]
    },
    {
     "name": "stderr",
     "output_type": "stream",
     "text": [
      "Epoch 32:  11%|█         | 4/38 [00:00<00:00, 34.85batch/s, loss=62.5000]"
     ]
    },
    {
     "name": "stdout",
     "output_type": "stream",
     "text": [
      "DEBUG: scores.shape = torch.Size([8, 16])\n",
      "DEBUG: scores.shape = torch.Size([8, 16])\n"
     ]
    },
    {
     "name": "stderr",
     "output_type": "stream",
     "text": [
      "Epoch 32:  21%|██        | 8/38 [00:00<00:00, 33.50batch/s, loss=75.0000]"
     ]
    },
    {
     "name": "stdout",
     "output_type": "stream",
     "text": [
      "DEBUG: scores.shape = torch.Size([8, 16])\n",
      "DEBUG: scores.shape = torch.Size([8, 16])\n",
      "DEBUG: scores.shape = torch.Size([8, 16])\n"
     ]
    },
    {
     "name": "stderr",
     "output_type": "stream",
     "text": [
      "Epoch 32:  21%|██        | 8/38 [00:00<00:00, 33.50batch/s, loss=50.0000]"
     ]
    },
    {
     "name": "stdout",
     "output_type": "stream",
     "text": [
      "DEBUG: scores.shape = torch.Size([8, 16])\n",
      "DEBUG: scores.shape = torch.Size([8, 16])\n"
     ]
    },
    {
     "name": "stderr",
     "output_type": "stream",
     "text": [
      "Epoch 32:  32%|███▏      | 12/38 [00:00<00:00, 33.71batch/s, loss=37.5000]"
     ]
    },
    {
     "name": "stdout",
     "output_type": "stream",
     "text": [
      "DEBUG: scores.shape = torch.Size([8, 16])\n",
      "DEBUG: scores.shape = torch.Size([8, 16])\n"
     ]
    },
    {
     "name": "stderr",
     "output_type": "stream",
     "text": [
      "Epoch 32:  32%|███▏      | 12/38 [00:00<00:00, 33.71batch/s, loss=50.0000]"
     ]
    },
    {
     "name": "stdout",
     "output_type": "stream",
     "text": [
      "DEBUG: scores.shape = torch.Size([8, 16])\n",
      "DEBUG: scores.shape = torch.Size([8, 16])\n"
     ]
    },
    {
     "name": "stderr",
     "output_type": "stream",
     "text": [
      "Epoch 32:  42%|████▏     | 16/38 [00:00<00:00, 32.33batch/s, loss=37.5000]"
     ]
    },
    {
     "name": "stdout",
     "output_type": "stream",
     "text": [
      "DEBUG: scores.shape = torch.Size([8, 16])\n",
      "DEBUG: scores.shape = torch.Size([8, 16])\n",
      "DEBUG: scores.shape = torch.Size([8, 16])\n"
     ]
    },
    {
     "name": "stderr",
     "output_type": "stream",
     "text": [
      "Epoch 32:  53%|█████▎    | 20/38 [00:00<00:00, 32.10batch/s, loss=50.0000]"
     ]
    },
    {
     "name": "stdout",
     "output_type": "stream",
     "text": [
      "DEBUG: scores.shape = torch.Size([8, 16])\n",
      "DEBUG: scores.shape = torch.Size([8, 16])\n"
     ]
    },
    {
     "name": "stderr",
     "output_type": "stream",
     "text": [
      "Epoch 32:  53%|█████▎    | 20/38 [00:00<00:00, 32.10batch/s, loss=37.5000]"
     ]
    },
    {
     "name": "stdout",
     "output_type": "stream",
     "text": [
      "DEBUG: scores.shape = torch.Size([8, 16])\n",
      "DEBUG: scores.shape = torch.Size([8, 16])\n"
     ]
    },
    {
     "name": "stderr",
     "output_type": "stream",
     "text": [
      "Epoch 32:  63%|██████▎   | 24/38 [00:00<00:00, 32.37batch/s, loss=50.0000]"
     ]
    },
    {
     "name": "stdout",
     "output_type": "stream",
     "text": [
      "DEBUG: scores.shape = torch.Size([8, 16])\n",
      "DEBUG: scores.shape = torch.Size([8, 16])\n",
      "DEBUG: scores.shape = torch.Size([8, 16])\n"
     ]
    },
    {
     "name": "stderr",
     "output_type": "stream",
     "text": [
      "Epoch 32:  63%|██████▎   | 24/38 [00:00<00:00, 32.37batch/s, loss=75.0000]"
     ]
    },
    {
     "name": "stdout",
     "output_type": "stream",
     "text": [
      "DEBUG: scores.shape = torch.Size([8, 16])\n",
      "DEBUG: scores.shape = torch.Size([8, 16])\n"
     ]
    },
    {
     "name": "stderr",
     "output_type": "stream",
     "text": [
      "Epoch 32:  74%|███████▎  | 28/38 [00:00<00:00, 31.61batch/s, loss=62.5000]"
     ]
    },
    {
     "name": "stdout",
     "output_type": "stream",
     "text": [
      "DEBUG: scores.shape = torch.Size([8, 16])\n",
      "DEBUG: scores.shape = torch.Size([8, 16])\n"
     ]
    },
    {
     "name": "stderr",
     "output_type": "stream",
     "text": [
      "Epoch 32:  84%|████████▍ | 32/38 [00:00<00:00, 31.99batch/s, loss=37.5000]"
     ]
    },
    {
     "name": "stdout",
     "output_type": "stream",
     "text": [
      "DEBUG: scores.shape = torch.Size([8, 16])\n",
      "DEBUG: scores.shape = torch.Size([8, 16])\n",
      "DEBUG: scores.shape = torch.Size([8, 16])\n"
     ]
    },
    {
     "name": "stderr",
     "output_type": "stream",
     "text": [
      "Epoch 32:  84%|████████▍ | 32/38 [00:01<00:00, 31.99batch/s, loss=50.0000]"
     ]
    },
    {
     "name": "stdout",
     "output_type": "stream",
     "text": [
      "DEBUG: scores.shape = torch.Size([8, 16])\n",
      "DEBUG: scores.shape = torch.Size([8, 16])\n"
     ]
    },
    {
     "name": "stderr",
     "output_type": "stream",
     "text": [
      "Epoch 32:  84%|████████▍ | 32/38 [00:01<00:00, 31.99batch/s, loss=25.0000]"
     ]
    },
    {
     "name": "stdout",
     "output_type": "stream",
     "text": [
      "DEBUG: scores.shape = torch.Size([8, 16])\n"
     ]
    },
    {
     "name": "stderr",
     "output_type": "stream",
     "text": [
      "Epoch 32: 100%|██████████| 38/38 [00:01<00:00, 33.07batch/s, loss=50.0000]\n"
     ]
    },
    {
     "name": "stdout",
     "output_type": "stream",
     "text": [
      "DEBUG: scores.shape = torch.Size([8, 16])\n",
      "DEBUG: scores.shape = torch.Size([4, 16])\n",
      "Epoch 32, Loss: 50.0000\n"
     ]
    },
    {
     "name": "stderr",
     "output_type": "stream",
     "text": [
      "Epoch 33:   0%|          | 0/38 [00:00<?, ?batch/s, loss=62.5000]"
     ]
    },
    {
     "name": "stdout",
     "output_type": "stream",
     "text": [
      "DEBUG: scores.shape = torch.Size([8, 16])\n",
      "DEBUG: scores.shape = torch.Size([8, 16])\n",
      "DEBUG: scores.shape = torch.Size([8, 16])\n"
     ]
    },
    {
     "name": "stderr",
     "output_type": "stream",
     "text": [
      "Epoch 33:  11%|█         | 4/38 [00:00<00:00, 34.86batch/s, loss=50.0000]"
     ]
    },
    {
     "name": "stdout",
     "output_type": "stream",
     "text": [
      "DEBUG: scores.shape = torch.Size([8, 16])\n",
      "DEBUG: scores.shape = torch.Size([8, 16])\n"
     ]
    },
    {
     "name": "stderr",
     "output_type": "stream",
     "text": [
      "Epoch 33:  11%|█         | 4/38 [00:00<00:00, 34.86batch/s, loss=37.5000]"
     ]
    },
    {
     "name": "stdout",
     "output_type": "stream",
     "text": [
      "DEBUG: scores.shape = torch.Size([8, 16])\n"
     ]
    },
    {
     "name": "stderr",
     "output_type": "stream",
     "text": [
      "Epoch 33:  11%|█         | 4/38 [00:00<00:00, 34.86batch/s, loss=50.0000]"
     ]
    },
    {
     "name": "stdout",
     "output_type": "stream",
     "text": [
      "DEBUG: scores.shape = torch.Size([8, 16])\n"
     ]
    },
    {
     "name": "stderr",
     "output_type": "stream",
     "text": [
      "Epoch 33:  21%|██        | 8/38 [00:00<00:00, 36.25batch/s, loss=75.0000]"
     ]
    },
    {
     "name": "stdout",
     "output_type": "stream",
     "text": [
      "DEBUG: scores.shape = torch.Size([8, 16])\n",
      "DEBUG: scores.shape = torch.Size([8, 16])\n",
      "DEBUG: scores.shape = torch.Size([8, 16])\n",
      "DEBUG: scores.shape = torch.Size([8, 16])\n"
     ]
    },
    {
     "name": "stderr",
     "output_type": "stream",
     "text": [
      "Epoch 33:  21%|██        | 8/38 [00:00<00:00, 36.25batch/s, loss=50.0000]"
     ]
    },
    {
     "name": "stdout",
     "output_type": "stream",
     "text": [
      "DEBUG: scores.shape = torch.Size([8, 16])\n"
     ]
    },
    {
     "name": "stderr",
     "output_type": "stream",
     "text": [
      "Epoch 33:  32%|███▏      | 12/38 [00:00<00:00, 35.10batch/s, loss=75.0000]"
     ]
    },
    {
     "name": "stdout",
     "output_type": "stream",
     "text": [
      "DEBUG: scores.shape = torch.Size([8, 16])\n",
      "DEBUG: scores.shape = torch.Size([8, 16])\n",
      "DEBUG: scores.shape = torch.Size([8, 16])\n"
     ]
    },
    {
     "name": "stderr",
     "output_type": "stream",
     "text": [
      "Epoch 33:  45%|████▍     | 17/38 [00:00<00:00, 36.43batch/s, loss=62.5000]"
     ]
    },
    {
     "name": "stdout",
     "output_type": "stream",
     "text": [
      "DEBUG: scores.shape = torch.Size([8, 16])\n",
      "DEBUG: scores.shape = torch.Size([8, 16])\n",
      "DEBUG: scores.shape = torch.Size([8, 16])\n",
      "DEBUG: scores.shape = torch.Size([8, 16])\n"
     ]
    },
    {
     "name": "stderr",
     "output_type": "stream",
     "text": [
      "Epoch 33:  45%|████▍     | 17/38 [00:00<00:00, 36.43batch/s, loss=50.0000]"
     ]
    },
    {
     "name": "stdout",
     "output_type": "stream",
     "text": [
      "DEBUG: scores.shape = torch.Size([8, 16])\n",
      "DEBUG: scores.shape = torch.Size([8, 16])\n"
     ]
    },
    {
     "name": "stderr",
     "output_type": "stream",
     "text": [
      "Epoch 33:  55%|█████▌    | 21/38 [00:00<00:00, 35.32batch/s, loss=50.0000]"
     ]
    },
    {
     "name": "stdout",
     "output_type": "stream",
     "text": [
      "DEBUG: scores.shape = torch.Size([8, 16])\n"
     ]
    },
    {
     "name": "stderr",
     "output_type": "stream",
     "text": [
      "Epoch 33:  66%|██████▌   | 25/38 [00:00<00:00, 34.86batch/s, loss=37.5000]"
     ]
    },
    {
     "name": "stdout",
     "output_type": "stream",
     "text": [
      "DEBUG: scores.shape = torch.Size([8, 16])\n",
      "DEBUG: scores.shape = torch.Size([8, 16])\n",
      "DEBUG: scores.shape = torch.Size([8, 16])\n",
      "DEBUG: scores.shape = torch.Size([8, 16])\n"
     ]
    },
    {
     "name": "stderr",
     "output_type": "stream",
     "text": [
      "Epoch 33:  66%|██████▌   | 25/38 [00:00<00:00, 34.86batch/s, loss=75.0000]"
     ]
    },
    {
     "name": "stdout",
     "output_type": "stream",
     "text": [
      "DEBUG: scores.shape = torch.Size([8, 16])\n",
      "DEBUG: scores.shape = torch.Size([8, 16])\n"
     ]
    },
    {
     "name": "stderr",
     "output_type": "stream",
     "text": [
      "Epoch 33:  76%|███████▋  | 29/38 [00:00<00:00, 35.38batch/s, loss=37.5000]"
     ]
    },
    {
     "name": "stdout",
     "output_type": "stream",
     "text": [
      "DEBUG: scores.shape = torch.Size([8, 16])\n",
      "DEBUG: scores.shape = torch.Size([8, 16])\n"
     ]
    },
    {
     "name": "stderr",
     "output_type": "stream",
     "text": [
      "Epoch 33:  76%|███████▋  | 29/38 [00:00<00:00, 35.38batch/s, loss=75.0000]"
     ]
    },
    {
     "name": "stdout",
     "output_type": "stream",
     "text": [
      "DEBUG: scores.shape = torch.Size([8, 16])\n",
      "DEBUG: scores.shape = torch.Size([8, 16])\n",
      "DEBUG: scores.shape = torch.Size([8, 16])\n"
     ]
    },
    {
     "name": "stderr",
     "output_type": "stream",
     "text": [
      "Epoch 33:  87%|████████▋ | 33/38 [00:00<00:00, 35.11batch/s, loss=37.5000]"
     ]
    },
    {
     "name": "stdout",
     "output_type": "stream",
     "text": [
      "DEBUG: scores.shape = torch.Size([8, 16])\n",
      "DEBUG: scores.shape = torch.Size([8, 16])\n"
     ]
    },
    {
     "name": "stderr",
     "output_type": "stream",
     "text": [
      "Epoch 33:  87%|████████▋ | 33/38 [00:01<00:00, 35.11batch/s, loss=50.0000]"
     ]
    },
    {
     "name": "stdout",
     "output_type": "stream",
     "text": [
      "DEBUG: scores.shape = torch.Size([8, 16])\n",
      "DEBUG: scores.shape = torch.Size([8, 16])\n"
     ]
    },
    {
     "name": "stderr",
     "output_type": "stream",
     "text": [
      "Epoch 33: 100%|██████████| 38/38 [00:01<00:00, 34.72batch/s, loss=50.0000]\n"
     ]
    },
    {
     "name": "stdout",
     "output_type": "stream",
     "text": [
      "DEBUG: scores.shape = torch.Size([4, 16])\n",
      "Epoch 33, Loss: 50.0000\n"
     ]
    },
    {
     "name": "stderr",
     "output_type": "stream",
     "text": [
      "Epoch 34:   0%|          | 0/38 [00:00<?, ?batch/s, loss=62.5000]"
     ]
    },
    {
     "name": "stdout",
     "output_type": "stream",
     "text": [
      "DEBUG: scores.shape = torch.Size([8, 16])\n",
      "DEBUG: scores.shape = torch.Size([8, 16])\n"
     ]
    },
    {
     "name": "stderr",
     "output_type": "stream",
     "text": [
      "Epoch 34:  11%|█         | 4/38 [00:00<00:00, 34.41batch/s, loss=50.0000]"
     ]
    },
    {
     "name": "stdout",
     "output_type": "stream",
     "text": [
      "DEBUG: scores.shape = torch.Size([8, 16])\n",
      "DEBUG: scores.shape = torch.Size([8, 16])\n"
     ]
    },
    {
     "name": "stderr",
     "output_type": "stream",
     "text": [
      "Epoch 34:  11%|█         | 4/38 [00:00<00:00, 34.41batch/s, loss=62.5000]"
     ]
    },
    {
     "name": "stdout",
     "output_type": "stream",
     "text": [
      "DEBUG: scores.shape = torch.Size([8, 16])\n",
      "DEBUG: scores.shape = torch.Size([8, 16])\n",
      "DEBUG: scores.shape = torch.Size([8, 16])\n"
     ]
    },
    {
     "name": "stderr",
     "output_type": "stream",
     "text": [
      "Epoch 34:  11%|█         | 4/38 [00:00<00:00, 34.41batch/s, loss=87.5000]"
     ]
    },
    {
     "name": "stdout",
     "output_type": "stream",
     "text": [
      "DEBUG: scores.shape = torch.Size([8, 16])\n"
     ]
    },
    {
     "name": "stderr",
     "output_type": "stream",
     "text": [
      "Epoch 34:  21%|██        | 8/38 [00:00<00:00, 34.49batch/s, loss=50.0000]"
     ]
    },
    {
     "name": "stdout",
     "output_type": "stream",
     "text": [
      "DEBUG: scores.shape = torch.Size([8, 16])\n",
      "DEBUG: scores.shape = torch.Size([8, 16])\n"
     ]
    },
    {
     "name": "stderr",
     "output_type": "stream",
     "text": [
      "Epoch 34:  21%|██        | 8/38 [00:00<00:00, 34.49batch/s, loss=50.0000]"
     ]
    },
    {
     "name": "stdout",
     "output_type": "stream",
     "text": [
      "DEBUG: scores.shape = torch.Size([8, 16])\n"
     ]
    },
    {
     "name": "stderr",
     "output_type": "stream",
     "text": [
      "Epoch 34:  32%|███▏      | 12/38 [00:00<00:00, 35.41batch/s, loss=50.0000]"
     ]
    },
    {
     "name": "stdout",
     "output_type": "stream",
     "text": [
      "DEBUG: scores.shape = torch.Size([8, 16])\n",
      "DEBUG: scores.shape = torch.Size([8, 16])\n",
      "DEBUG: scores.shape = torch.Size([8, 16])\n"
     ]
    },
    {
     "name": "stderr",
     "output_type": "stream",
     "text": [
      "Epoch 34:  32%|███▏      | 12/38 [00:00<00:00, 35.41batch/s, loss=62.5000]"
     ]
    },
    {
     "name": "stdout",
     "output_type": "stream",
     "text": [
      "DEBUG: scores.shape = torch.Size([8, 16])\n",
      "DEBUG: scores.shape = torch.Size([8, 16])\n"
     ]
    },
    {
     "name": "stderr",
     "output_type": "stream",
     "text": [
      "Epoch 34:  42%|████▏     | 16/38 [00:00<00:00, 35.26batch/s, loss=50.0000]"
     ]
    },
    {
     "name": "stdout",
     "output_type": "stream",
     "text": [
      "DEBUG: scores.shape = torch.Size([8, 16])\n"
     ]
    },
    {
     "name": "stderr",
     "output_type": "stream",
     "text": [
      "Epoch 34:  42%|████▏     | 16/38 [00:00<00:00, 35.26batch/s, loss=25.0000]"
     ]
    },
    {
     "name": "stdout",
     "output_type": "stream",
     "text": [
      "DEBUG: scores.shape = torch.Size([8, 16])\n"
     ]
    },
    {
     "name": "stderr",
     "output_type": "stream",
     "text": [
      "Epoch 34:  53%|█████▎    | 20/38 [00:00<00:00, 33.05batch/s, loss=12.5000]"
     ]
    },
    {
     "name": "stdout",
     "output_type": "stream",
     "text": [
      "DEBUG: scores.shape = torch.Size([8, 16])\n",
      "DEBUG: scores.shape = torch.Size([8, 16])\n",
      "DEBUG: scores.shape = torch.Size([8, 16])\n"
     ]
    },
    {
     "name": "stderr",
     "output_type": "stream",
     "text": [
      "Epoch 34:  53%|█████▎    | 20/38 [00:00<00:00, 33.05batch/s, loss=37.5000]"
     ]
    },
    {
     "name": "stdout",
     "output_type": "stream",
     "text": [
      "DEBUG: scores.shape = torch.Size([8, 16])\n",
      "DEBUG: scores.shape = torch.Size([8, 16])\n"
     ]
    },
    {
     "name": "stderr",
     "output_type": "stream",
     "text": [
      "Epoch 34:  53%|█████▎    | 20/38 [00:00<00:00, 33.05batch/s, loss=37.5000]"
     ]
    },
    {
     "name": "stdout",
     "output_type": "stream",
     "text": [
      "DEBUG: scores.shape = torch.Size([8, 16])\n"
     ]
    },
    {
     "name": "stderr",
     "output_type": "stream",
     "text": [
      "Epoch 34:  63%|██████▎   | 24/38 [00:00<00:00, 33.85batch/s, loss=37.5000]"
     ]
    },
    {
     "name": "stdout",
     "output_type": "stream",
     "text": [
      "DEBUG: scores.shape = torch.Size([8, 16])\n"
     ]
    },
    {
     "name": "stderr",
     "output_type": "stream",
     "text": [
      "Epoch 34:  63%|██████▎   | 24/38 [00:00<00:00, 33.85batch/s, loss=62.5000]"
     ]
    },
    {
     "name": "stdout",
     "output_type": "stream",
     "text": [
      "DEBUG: scores.shape = torch.Size([8, 16])\n",
      "DEBUG: scores.shape = torch.Size([8, 16])\n",
      "DEBUG: scores.shape = torch.Size([8, 16])\n"
     ]
    },
    {
     "name": "stderr",
     "output_type": "stream",
     "text": [
      "Epoch 34:  74%|███████▎  | 28/38 [00:00<00:00, 33.72batch/s, loss=37.5000]"
     ]
    },
    {
     "name": "stdout",
     "output_type": "stream",
     "text": [
      "DEBUG: scores.shape = torch.Size([8, 16])\n",
      "DEBUG: scores.shape = torch.Size([8, 16])\n",
      "DEBUG: scores.shape = torch.Size([8, 16])\n"
     ]
    },
    {
     "name": "stderr",
     "output_type": "stream",
     "text": [
      "Epoch 34:  84%|████████▍ | 32/38 [00:00<00:00, 34.04batch/s, loss=50.0000]"
     ]
    },
    {
     "name": "stdout",
     "output_type": "stream",
     "text": [
      "DEBUG: scores.shape = torch.Size([8, 16])\n"
     ]
    },
    {
     "name": "stderr",
     "output_type": "stream",
     "text": [
      "Epoch 34:  84%|████████▍ | 32/38 [00:01<00:00, 34.04batch/s, loss=50.0000]"
     ]
    },
    {
     "name": "stdout",
     "output_type": "stream",
     "text": [
      "DEBUG: scores.shape = torch.Size([8, 16])\n",
      "DEBUG: scores.shape = torch.Size([8, 16])\n",
      "DEBUG: scores.shape = torch.Size([8, 16])\n"
     ]
    },
    {
     "name": "stderr",
     "output_type": "stream",
     "text": [
      "Epoch 34:  95%|█████████▍| 36/38 [00:01<00:00, 32.36batch/s, loss=62.5000]"
     ]
    },
    {
     "name": "stdout",
     "output_type": "stream",
     "text": [
      "DEBUG: scores.shape = torch.Size([8, 16])\n",
      "DEBUG: scores.shape = torch.Size([8, 16])\n"
     ]
    },
    {
     "name": "stderr",
     "output_type": "stream",
     "text": [
      "Epoch 34:  95%|█████████▍| 36/38 [00:01<00:00, 32.36batch/s, loss=25.0000]"
     ]
    },
    {
     "name": "stdout",
     "output_type": "stream",
     "text": [
      "DEBUG: scores.shape = torch.Size([4, 16])\n"
     ]
    },
    {
     "name": "stderr",
     "output_type": "stream",
     "text": [
      "Epoch 34: 100%|██████████| 38/38 [00:01<00:00, 33.93batch/s, loss=25.0000]\n"
     ]
    },
    {
     "name": "stdout",
     "output_type": "stream",
     "text": [
      "Epoch 34, Loss: 49.6711\n"
     ]
    },
    {
     "name": "stderr",
     "output_type": "stream",
     "text": [
      "Epoch 35:   0%|          | 0/38 [00:00<?, ?batch/s, loss=37.5000]"
     ]
    },
    {
     "name": "stdout",
     "output_type": "stream",
     "text": [
      "DEBUG: scores.shape = torch.Size([8, 16])\n"
     ]
    },
    {
     "name": "stderr",
     "output_type": "stream",
     "text": [
      "Epoch 35:  11%|█         | 4/38 [00:00<00:00, 34.89batch/s, loss=62.5000]"
     ]
    },
    {
     "name": "stdout",
     "output_type": "stream",
     "text": [
      "DEBUG: scores.shape = torch.Size([8, 16])\n",
      "DEBUG: scores.shape = torch.Size([8, 16])\n",
      "DEBUG: scores.shape = torch.Size([8, 16])\n"
     ]
    },
    {
     "name": "stderr",
     "output_type": "stream",
     "text": [
      "Epoch 35:  11%|█         | 4/38 [00:00<00:00, 34.89batch/s, loss=62.5000]"
     ]
    },
    {
     "name": "stdout",
     "output_type": "stream",
     "text": [
      "DEBUG: scores.shape = torch.Size([8, 16])\n",
      "DEBUG: scores.shape = torch.Size([8, 16])\n",
      "DEBUG: scores.shape = torch.Size([8, 16])\n"
     ]
    },
    {
     "name": "stderr",
     "output_type": "stream",
     "text": [
      "Epoch 35:  21%|██        | 8/38 [00:00<00:00, 35.88batch/s, loss=50.0000]"
     ]
    },
    {
     "name": "stdout",
     "output_type": "stream",
     "text": [
      "DEBUG: scores.shape = torch.Size([8, 16])\n"
     ]
    },
    {
     "name": "stderr",
     "output_type": "stream",
     "text": [
      "Epoch 35:  21%|██        | 8/38 [00:00<00:00, 35.88batch/s, loss=37.5000]"
     ]
    },
    {
     "name": "stdout",
     "output_type": "stream",
     "text": [
      "DEBUG: scores.shape = torch.Size([8, 16])\n",
      "DEBUG: scores.shape = torch.Size([8, 16])\n",
      "DEBUG: scores.shape = torch.Size([8, 16])\n"
     ]
    },
    {
     "name": "stderr",
     "output_type": "stream",
     "text": [
      "Epoch 35:  32%|███▏      | 12/38 [00:00<00:00, 34.17batch/s, loss=37.5000]"
     ]
    },
    {
     "name": "stdout",
     "output_type": "stream",
     "text": [
      "DEBUG: scores.shape = torch.Size([8, 16])\n",
      "DEBUG: scores.shape = torch.Size([8, 16])\n"
     ]
    },
    {
     "name": "stderr",
     "output_type": "stream",
     "text": [
      "Epoch 35:  32%|███▏      | 12/38 [00:00<00:00, 34.17batch/s, loss=37.5000]"
     ]
    },
    {
     "name": "stdout",
     "output_type": "stream",
     "text": [
      "DEBUG: scores.shape = torch.Size([8, 16])\n"
     ]
    },
    {
     "name": "stderr",
     "output_type": "stream",
     "text": [
      "Epoch 35:  32%|███▏      | 12/38 [00:00<00:00, 34.17batch/s, loss=50.0000]"
     ]
    },
    {
     "name": "stdout",
     "output_type": "stream",
     "text": [
      "DEBUG: scores.shape = torch.Size([8, 16])\n"
     ]
    },
    {
     "name": "stderr",
     "output_type": "stream",
     "text": [
      "Epoch 35:  42%|████▏     | 16/38 [00:00<00:00, 33.33batch/s, loss=50.0000]"
     ]
    },
    {
     "name": "stdout",
     "output_type": "stream",
     "text": [
      "DEBUG: scores.shape = torch.Size([8, 16])\n",
      "DEBUG: scores.shape = torch.Size([8, 16])\n",
      "DEBUG: scores.shape = torch.Size([8, 16])\n"
     ]
    },
    {
     "name": "stderr",
     "output_type": "stream",
     "text": [
      "Epoch 35:  53%|█████▎    | 20/38 [00:00<00:00, 34.76batch/s, loss=12.5000]"
     ]
    },
    {
     "name": "stdout",
     "output_type": "stream",
     "text": [
      "DEBUG: scores.shape = torch.Size([8, 16])\n",
      "DEBUG: scores.shape = torch.Size([8, 16])\n"
     ]
    },
    {
     "name": "stderr",
     "output_type": "stream",
     "text": [
      "Epoch 35:  53%|█████▎    | 20/38 [00:00<00:00, 34.76batch/s, loss=25.0000]"
     ]
    },
    {
     "name": "stdout",
     "output_type": "stream",
     "text": [
      "DEBUG: scores.shape = torch.Size([8, 16])\n"
     ]
    },
    {
     "name": "stderr",
     "output_type": "stream",
     "text": [
      "Epoch 35:  53%|█████▎    | 20/38 [00:00<00:00, 34.76batch/s, loss=50.0000]"
     ]
    },
    {
     "name": "stdout",
     "output_type": "stream",
     "text": [
      "DEBUG: scores.shape = torch.Size([8, 16])\n"
     ]
    },
    {
     "name": "stderr",
     "output_type": "stream",
     "text": [
      "Epoch 35:  63%|██████▎   | 24/38 [00:00<00:00, 32.45batch/s, loss=75.0000]"
     ]
    },
    {
     "name": "stdout",
     "output_type": "stream",
     "text": [
      "DEBUG: scores.shape = torch.Size([8, 16])\n",
      "DEBUG: scores.shape = torch.Size([8, 16])\n",
      "DEBUG: scores.shape = torch.Size([8, 16])\n"
     ]
    },
    {
     "name": "stderr",
     "output_type": "stream",
     "text": [
      "Epoch 35:  63%|██████▎   | 24/38 [00:00<00:00, 32.45batch/s, loss=75.0000]"
     ]
    },
    {
     "name": "stdout",
     "output_type": "stream",
     "text": [
      "DEBUG: scores.shape = torch.Size([8, 16])\n",
      "DEBUG: scores.shape = torch.Size([8, 16])\n",
      "DEBUG: scores.shape = torch.Size([8, 16])\n"
     ]
    },
    {
     "name": "stderr",
     "output_type": "stream",
     "text": [
      "Epoch 35:  74%|███████▎  | 28/38 [00:00<00:00, 32.75batch/s, loss=37.5000]"
     ]
    },
    {
     "name": "stdout",
     "output_type": "stream",
     "text": [
      "DEBUG: scores.shape = torch.Size([8, 16])\n"
     ]
    },
    {
     "name": "stderr",
     "output_type": "stream",
     "text": [
      "Epoch 35:  74%|███████▎  | 28/38 [00:00<00:00, 32.75batch/s, loss=0.0000] "
     ]
    },
    {
     "name": "stdout",
     "output_type": "stream",
     "text": [
      "DEBUG: scores.shape = torch.Size([8, 16])\n",
      "DEBUG: scores.shape = torch.Size([8, 16])\n",
      "DEBUG: scores.shape = torch.Size([8, 16])\n"
     ]
    },
    {
     "name": "stderr",
     "output_type": "stream",
     "text": [
      "Epoch 35:  84%|████████▍ | 32/38 [00:01<00:00, 32.12batch/s, loss=25.0000]"
     ]
    },
    {
     "name": "stdout",
     "output_type": "stream",
     "text": [
      "DEBUG: scores.shape = torch.Size([8, 16])\n",
      "DEBUG: scores.shape = torch.Size([8, 16])\n"
     ]
    },
    {
     "name": "stderr",
     "output_type": "stream",
     "text": [
      "Epoch 35:  84%|████████▍ | 32/38 [00:01<00:00, 32.12batch/s, loss=75.0000]"
     ]
    },
    {
     "name": "stdout",
     "output_type": "stream",
     "text": [
      "DEBUG: scores.shape = torch.Size([8, 16])\n",
      "DEBUG: scores.shape = torch.Size([8, 16])\n"
     ]
    },
    {
     "name": "stderr",
     "output_type": "stream",
     "text": [
      "Epoch 35: 100%|██████████| 38/38 [00:01<00:00, 33.52batch/s, loss=75.0000]\n"
     ]
    },
    {
     "name": "stdout",
     "output_type": "stream",
     "text": [
      "DEBUG: scores.shape = torch.Size([8, 16])\n",
      "DEBUG: scores.shape = torch.Size([4, 16])\n",
      "Epoch 35, Loss: 50.3289\n"
     ]
    },
    {
     "name": "stderr",
     "output_type": "stream",
     "text": [
      "Epoch 36:   0%|          | 0/38 [00:00<?, ?batch/s, loss=37.5000]"
     ]
    },
    {
     "name": "stdout",
     "output_type": "stream",
     "text": [
      "DEBUG: scores.shape = torch.Size([8, 16])\n",
      "DEBUG: scores.shape = torch.Size([8, 16])\n"
     ]
    },
    {
     "name": "stderr",
     "output_type": "stream",
     "text": [
      "Epoch 36:   0%|          | 0/38 [00:00<?, ?batch/s, loss=62.5000]"
     ]
    },
    {
     "name": "stdout",
     "output_type": "stream",
     "text": [
      "DEBUG: scores.shape = torch.Size([8, 16])\n",
      "DEBUG: scores.shape = torch.Size([8, 16])\n"
     ]
    },
    {
     "name": "stderr",
     "output_type": "stream",
     "text": [
      "Epoch 36:  11%|█         | 4/38 [00:00<00:00, 35.47batch/s, loss=37.5000]"
     ]
    },
    {
     "name": "stdout",
     "output_type": "stream",
     "text": [
      "DEBUG: scores.shape = torch.Size([8, 16])\n",
      "DEBUG: scores.shape = torch.Size([8, 16])\n"
     ]
    },
    {
     "name": "stderr",
     "output_type": "stream",
     "text": [
      "Epoch 36:  11%|█         | 4/38 [00:00<00:00, 35.47batch/s, loss=37.5000]"
     ]
    },
    {
     "name": "stdout",
     "output_type": "stream",
     "text": [
      "DEBUG: scores.shape = torch.Size([8, 16])\n",
      "DEBUG: scores.shape = torch.Size([8, 16])\n"
     ]
    },
    {
     "name": "stderr",
     "output_type": "stream",
     "text": [
      "Epoch 36:  21%|██        | 8/38 [00:00<00:00, 37.63batch/s, loss=62.5000]"
     ]
    },
    {
     "name": "stdout",
     "output_type": "stream",
     "text": [
      "DEBUG: scores.shape = torch.Size([8, 16])\n",
      "DEBUG: scores.shape = torch.Size([8, 16])\n"
     ]
    },
    {
     "name": "stderr",
     "output_type": "stream",
     "text": [
      "Epoch 36:  21%|██        | 8/38 [00:00<00:00, 37.63batch/s, loss=62.5000]"
     ]
    },
    {
     "name": "stdout",
     "output_type": "stream",
     "text": [
      "DEBUG: scores.shape = torch.Size([8, 16])\n",
      "DEBUG: scores.shape = torch.Size([8, 16])\n"
     ]
    },
    {
     "name": "stderr",
     "output_type": "stream",
     "text": [
      "Epoch 36:  32%|███▏      | 12/38 [00:00<00:00, 33.93batch/s, loss=62.5000]"
     ]
    },
    {
     "name": "stdout",
     "output_type": "stream",
     "text": [
      "DEBUG: scores.shape = torch.Size([8, 16])\n"
     ]
    },
    {
     "name": "stderr",
     "output_type": "stream",
     "text": [
      "Epoch 36:  32%|███▏      | 12/38 [00:00<00:00, 33.93batch/s, loss=75.0000]"
     ]
    },
    {
     "name": "stdout",
     "output_type": "stream",
     "text": [
      "DEBUG: scores.shape = torch.Size([8, 16])\n",
      "DEBUG: scores.shape = torch.Size([8, 16])\n"
     ]
    },
    {
     "name": "stderr",
     "output_type": "stream",
     "text": [
      "Epoch 36:  42%|████▏     | 16/38 [00:00<00:00, 34.85batch/s, loss=50.0000]"
     ]
    },
    {
     "name": "stdout",
     "output_type": "stream",
     "text": [
      "DEBUG: scores.shape = torch.Size([8, 16])\n",
      "DEBUG: scores.shape = torch.Size([8, 16])\n",
      "DEBUG: scores.shape = torch.Size([8, 16])\n"
     ]
    },
    {
     "name": "stderr",
     "output_type": "stream",
     "text": [
      "Epoch 36:  42%|████▏     | 16/38 [00:00<00:00, 34.85batch/s, loss=37.5000]"
     ]
    },
    {
     "name": "stdout",
     "output_type": "stream",
     "text": [
      "DEBUG: scores.shape = torch.Size([8, 16])\n",
      "DEBUG: scores.shape = torch.Size([8, 16])\n"
     ]
    },
    {
     "name": "stderr",
     "output_type": "stream",
     "text": [
      "Epoch 36:  53%|█████▎    | 20/38 [00:00<00:00, 35.60batch/s, loss=37.5000]"
     ]
    },
    {
     "name": "stdout",
     "output_type": "stream",
     "text": [
      "DEBUG: scores.shape = torch.Size([8, 16])\n"
     ]
    },
    {
     "name": "stderr",
     "output_type": "stream",
     "text": [
      "Epoch 36:  53%|█████▎    | 20/38 [00:00<00:00, 35.60batch/s, loss=62.5000]"
     ]
    },
    {
     "name": "stdout",
     "output_type": "stream",
     "text": [
      "DEBUG: scores.shape = torch.Size([8, 16])\n"
     ]
    },
    {
     "name": "stderr",
     "output_type": "stream",
     "text": [
      "Epoch 36:  63%|██████▎   | 24/38 [00:00<00:00, 35.11batch/s, loss=50.0000]"
     ]
    },
    {
     "name": "stdout",
     "output_type": "stream",
     "text": [
      "DEBUG: scores.shape = torch.Size([8, 16])\n",
      "DEBUG: scores.shape = torch.Size([8, 16])\n",
      "DEBUG: scores.shape = torch.Size([8, 16])\n",
      "DEBUG: scores.shape = torch.Size([8, 16])\n"
     ]
    },
    {
     "name": "stderr",
     "output_type": "stream",
     "text": [
      "Epoch 36:  63%|██████▎   | 24/38 [00:00<00:00, 35.11batch/s, loss=50.0000]"
     ]
    },
    {
     "name": "stdout",
     "output_type": "stream",
     "text": [
      "DEBUG: scores.shape = torch.Size([8, 16])\n"
     ]
    },
    {
     "name": "stderr",
     "output_type": "stream",
     "text": [
      "Epoch 36:  63%|██████▎   | 24/38 [00:00<00:00, 35.11batch/s, loss=50.0000]"
     ]
    },
    {
     "name": "stdout",
     "output_type": "stream",
     "text": [
      "DEBUG: scores.shape = torch.Size([8, 16])\n"
     ]
    },
    {
     "name": "stderr",
     "output_type": "stream",
     "text": [
      "Epoch 36:  74%|███████▎  | 28/38 [00:00<00:00, 34.52batch/s, loss=50.0000]"
     ]
    },
    {
     "name": "stdout",
     "output_type": "stream",
     "text": [
      "DEBUG: scores.shape = torch.Size([8, 16])\n"
     ]
    },
    {
     "name": "stderr",
     "output_type": "stream",
     "text": [
      "Epoch 36:  74%|███████▎  | 28/38 [00:00<00:00, 34.52batch/s, loss=50.0000]"
     ]
    },
    {
     "name": "stdout",
     "output_type": "stream",
     "text": [
      "DEBUG: scores.shape = torch.Size([8, 16])\n",
      "DEBUG: scores.shape = torch.Size([8, 16])\n",
      "DEBUG: scores.shape = torch.Size([8, 16])\n"
     ]
    },
    {
     "name": "stderr",
     "output_type": "stream",
     "text": [
      "Epoch 36:  84%|████████▍ | 32/38 [00:00<00:00, 32.64batch/s, loss=50.0000]"
     ]
    },
    {
     "name": "stdout",
     "output_type": "stream",
     "text": [
      "DEBUG: scores.shape = torch.Size([8, 16])\n"
     ]
    },
    {
     "name": "stderr",
     "output_type": "stream",
     "text": [
      "Epoch 36:  84%|████████▍ | 32/38 [00:01<00:00, 32.64batch/s, loss=50.0000]"
     ]
    },
    {
     "name": "stdout",
     "output_type": "stream",
     "text": [
      "DEBUG: scores.shape = torch.Size([8, 16])\n",
      "DEBUG: scores.shape = torch.Size([8, 16])\n"
     ]
    },
    {
     "name": "stderr",
     "output_type": "stream",
     "text": [
      "Epoch 36:  95%|█████████▍| 36/38 [00:01<00:00, 34.28batch/s, loss=75.0000]"
     ]
    },
    {
     "name": "stdout",
     "output_type": "stream",
     "text": [
      "DEBUG: scores.shape = torch.Size([8, 16])\n",
      "DEBUG: scores.shape = torch.Size([8, 16])\n"
     ]
    },
    {
     "name": "stderr",
     "output_type": "stream",
     "text": [
      "Epoch 36: 100%|██████████| 38/38 [00:01<00:00, 34.48batch/s, loss=100.0000]\n"
     ]
    },
    {
     "name": "stdout",
     "output_type": "stream",
     "text": [
      "DEBUG: scores.shape = torch.Size([4, 16])\n",
      "Epoch 36, Loss: 50.6579\n"
     ]
    },
    {
     "name": "stderr",
     "output_type": "stream",
     "text": [
      "Epoch 37:   0%|          | 0/38 [00:00<?, ?batch/s, loss=37.5000]"
     ]
    },
    {
     "name": "stdout",
     "output_type": "stream",
     "text": [
      "DEBUG: scores.shape = torch.Size([8, 16])\n",
      "DEBUG: scores.shape = torch.Size([8, 16])\n"
     ]
    },
    {
     "name": "stderr",
     "output_type": "stream",
     "text": [
      "Epoch 37:  11%|█         | 4/38 [00:00<00:00, 35.96batch/s, loss=25.0000]"
     ]
    },
    {
     "name": "stdout",
     "output_type": "stream",
     "text": [
      "DEBUG: scores.shape = torch.Size([8, 16])\n",
      "DEBUG: scores.shape = torch.Size([8, 16])\n"
     ]
    },
    {
     "name": "stderr",
     "output_type": "stream",
     "text": [
      "Epoch 37:  11%|█         | 4/38 [00:00<00:00, 35.96batch/s, loss=50.0000]"
     ]
    },
    {
     "name": "stdout",
     "output_type": "stream",
     "text": [
      "DEBUG: scores.shape = torch.Size([8, 16])\n",
      "DEBUG: scores.shape = torch.Size([8, 16])\n",
      "DEBUG: scores.shape = torch.Size([8, 16])\n"
     ]
    },
    {
     "name": "stderr",
     "output_type": "stream",
     "text": [
      "Epoch 37:  11%|█         | 4/38 [00:00<00:00, 35.96batch/s, loss=75.0000]"
     ]
    },
    {
     "name": "stdout",
     "output_type": "stream",
     "text": [
      "DEBUG: scores.shape = torch.Size([8, 16])\n"
     ]
    },
    {
     "name": "stderr",
     "output_type": "stream",
     "text": [
      "Epoch 37:  21%|██        | 8/38 [00:00<00:00, 33.89batch/s, loss=75.0000]"
     ]
    },
    {
     "name": "stdout",
     "output_type": "stream",
     "text": [
      "DEBUG: scores.shape = torch.Size([8, 16])\n"
     ]
    },
    {
     "name": "stderr",
     "output_type": "stream",
     "text": [
      "Epoch 37:  21%|██        | 8/38 [00:00<00:00, 33.89batch/s, loss=37.5000]"
     ]
    },
    {
     "name": "stdout",
     "output_type": "stream",
     "text": [
      "DEBUG: scores.shape = torch.Size([8, 16])\n",
      "DEBUG: scores.shape = torch.Size([8, 16])\n"
     ]
    },
    {
     "name": "stderr",
     "output_type": "stream",
     "text": [
      "Epoch 37:  32%|███▏      | 12/38 [00:00<00:00, 33.72batch/s, loss=62.5000]"
     ]
    },
    {
     "name": "stdout",
     "output_type": "stream",
     "text": [
      "DEBUG: scores.shape = torch.Size([8, 16])\n",
      "DEBUG: scores.shape = torch.Size([8, 16])\n",
      "DEBUG: scores.shape = torch.Size([8, 16])\n"
     ]
    },
    {
     "name": "stderr",
     "output_type": "stream",
     "text": [
      "Epoch 37:  32%|███▏      | 12/38 [00:00<00:00, 33.72batch/s, loss=12.5000]"
     ]
    },
    {
     "name": "stdout",
     "output_type": "stream",
     "text": [
      "DEBUG: scores.shape = torch.Size([8, 16])\n"
     ]
    },
    {
     "name": "stderr",
     "output_type": "stream",
     "text": [
      "Epoch 37:  42%|████▏     | 16/38 [00:00<00:00, 33.95batch/s, loss=50.0000]"
     ]
    },
    {
     "name": "stdout",
     "output_type": "stream",
     "text": [
      "DEBUG: scores.shape = torch.Size([8, 16])\n"
     ]
    },
    {
     "name": "stderr",
     "output_type": "stream",
     "text": [
      "Epoch 37:  42%|████▏     | 16/38 [00:00<00:00, 33.95batch/s, loss=62.5000]"
     ]
    },
    {
     "name": "stdout",
     "output_type": "stream",
     "text": [
      "DEBUG: scores.shape = torch.Size([8, 16])\n",
      "DEBUG: scores.shape = torch.Size([8, 16])\n"
     ]
    },
    {
     "name": "stderr",
     "output_type": "stream",
     "text": [
      "Epoch 37:  53%|█████▎    | 20/38 [00:00<00:00, 34.76batch/s, loss=50.0000]"
     ]
    },
    {
     "name": "stdout",
     "output_type": "stream",
     "text": [
      "DEBUG: scores.shape = torch.Size([8, 16])\n",
      "DEBUG: scores.shape = torch.Size([8, 16])\n",
      "DEBUG: scores.shape = torch.Size([8, 16])\n",
      "DEBUG: scores.shape = torch.Size([8, 16])\n",
      "DEBUG: scores.shape = torch.Size([8, 16])\n"
     ]
    },
    {
     "name": "stderr",
     "output_type": "stream",
     "text": [
      "Epoch 37:  53%|█████▎    | 20/38 [00:00<00:00, 34.76batch/s, loss=37.5000]"
     ]
    },
    {
     "name": "stdout",
     "output_type": "stream",
     "text": [
      "DEBUG: scores.shape = torch.Size([8, 16])\n"
     ]
    },
    {
     "name": "stderr",
     "output_type": "stream",
     "text": [
      "Epoch 37:  63%|██████▎   | 24/38 [00:00<00:00, 34.30batch/s, loss=37.5000]"
     ]
    },
    {
     "name": "stdout",
     "output_type": "stream",
     "text": [
      "DEBUG: scores.shape = torch.Size([8, 16])\n"
     ]
    },
    {
     "name": "stderr",
     "output_type": "stream",
     "text": [
      "Epoch 37:  74%|███████▎  | 28/38 [00:00<00:00, 33.42batch/s, loss=25.0000]"
     ]
    },
    {
     "name": "stdout",
     "output_type": "stream",
     "text": [
      "DEBUG: scores.shape = torch.Size([8, 16])\n",
      "DEBUG: scores.shape = torch.Size([8, 16])\n",
      "DEBUG: scores.shape = torch.Size([8, 16])\n",
      "DEBUG: scores.shape = torch.Size([8, 16])\n"
     ]
    },
    {
     "name": "stderr",
     "output_type": "stream",
     "text": [
      "Epoch 37:  74%|███████▎  | 28/38 [00:00<00:00, 33.42batch/s, loss=62.5000]"
     ]
    },
    {
     "name": "stdout",
     "output_type": "stream",
     "text": [
      "DEBUG: scores.shape = torch.Size([8, 16])\n"
     ]
    },
    {
     "name": "stderr",
     "output_type": "stream",
     "text": [
      "Epoch 37:  74%|███████▎  | 28/38 [00:00<00:00, 33.42batch/s, loss=75.0000]"
     ]
    },
    {
     "name": "stdout",
     "output_type": "stream",
     "text": [
      "DEBUG: scores.shape = torch.Size([8, 16])\n"
     ]
    },
    {
     "name": "stderr",
     "output_type": "stream",
     "text": [
      "Epoch 37:  74%|███████▎  | 28/38 [00:00<00:00, 33.42batch/s, loss=37.5000]"
     ]
    },
    {
     "name": "stdout",
     "output_type": "stream",
     "text": [
      "DEBUG: scores.shape = torch.Size([8, 16])\n"
     ]
    },
    {
     "name": "stderr",
     "output_type": "stream",
     "text": [
      "Epoch 37:  84%|████████▍ | 32/38 [00:01<00:00, 33.66batch/s, loss=75.0000]"
     ]
    },
    {
     "name": "stdout",
     "output_type": "stream",
     "text": [
      "DEBUG: scores.shape = torch.Size([8, 16])\n",
      "DEBUG: scores.shape = torch.Size([8, 16])\n",
      "DEBUG: scores.shape = torch.Size([8, 16])\n",
      "DEBUG: scores.shape = torch.Size([8, 16])\n"
     ]
    },
    {
     "name": "stderr",
     "output_type": "stream",
     "text": [
      "Epoch 37:  95%|█████████▍| 36/38 [00:01<00:00, 33.65batch/s, loss=37.5000]"
     ]
    },
    {
     "name": "stdout",
     "output_type": "stream",
     "text": [
      "DEBUG: scores.shape = torch.Size([8, 16])\n"
     ]
    },
    {
     "name": "stderr",
     "output_type": "stream",
     "text": [
      "Epoch 37: 100%|██████████| 38/38 [00:01<00:00, 34.25batch/s, loss=50.0000]\n"
     ]
    },
    {
     "name": "stdout",
     "output_type": "stream",
     "text": [
      "DEBUG: scores.shape = torch.Size([4, 16])\n",
      "Epoch 37, Loss: 50.0000\n"
     ]
    },
    {
     "name": "stderr",
     "output_type": "stream",
     "text": [
      "Epoch 38:   0%|          | 0/38 [00:00<?, ?batch/s, loss=50.0000]"
     ]
    },
    {
     "name": "stdout",
     "output_type": "stream",
     "text": [
      "DEBUG: scores.shape = torch.Size([8, 16])\n"
     ]
    },
    {
     "name": "stderr",
     "output_type": "stream",
     "text": [
      "Epoch 38:   8%|▊         | 3/38 [00:00<00:01, 29.25batch/s, loss=50.0000]"
     ]
    },
    {
     "name": "stdout",
     "output_type": "stream",
     "text": [
      "DEBUG: scores.shape = torch.Size([8, 16])\n",
      "DEBUG: scores.shape = torch.Size([8, 16])\n",
      "DEBUG: scores.shape = torch.Size([8, 16])\n",
      "DEBUG: scores.shape = torch.Size([8, 16])\n"
     ]
    },
    {
     "name": "stderr",
     "output_type": "stream",
     "text": [
      "Epoch 38:   8%|▊         | 3/38 [00:00<00:01, 29.25batch/s, loss=75.0000]"
     ]
    },
    {
     "name": "stdout",
     "output_type": "stream",
     "text": [
      "DEBUG: scores.shape = torch.Size([8, 16])\n"
     ]
    },
    {
     "name": "stderr",
     "output_type": "stream",
     "text": [
      "Epoch 38:  16%|█▌        | 6/38 [00:00<00:01, 28.50batch/s, loss=75.0000]"
     ]
    },
    {
     "name": "stdout",
     "output_type": "stream",
     "text": [
      "DEBUG: scores.shape = torch.Size([8, 16])\n"
     ]
    },
    {
     "name": "stderr",
     "output_type": "stream",
     "text": [
      "Epoch 38:  26%|██▋       | 10/38 [00:00<00:00, 30.66batch/s, loss=25.0000]"
     ]
    },
    {
     "name": "stdout",
     "output_type": "stream",
     "text": [
      "DEBUG: scores.shape = torch.Size([8, 16])\n",
      "DEBUG: scores.shape = torch.Size([8, 16])\n",
      "DEBUG: scores.shape = torch.Size([8, 16])\n",
      "DEBUG: scores.shape = torch.Size([8, 16])\n",
      "DEBUG: scores.shape = torch.Size([8, 16])\n"
     ]
    },
    {
     "name": "stderr",
     "output_type": "stream",
     "text": [
      "Epoch 38:  26%|██▋       | 10/38 [00:00<00:00, 30.66batch/s, loss=62.5000]"
     ]
    },
    {
     "name": "stdout",
     "output_type": "stream",
     "text": [
      "DEBUG: scores.shape = torch.Size([8, 16])\n",
      "DEBUG: scores.shape = torch.Size([8, 16])\n"
     ]
    },
    {
     "name": "stderr",
     "output_type": "stream",
     "text": [
      "Epoch 38:  47%|████▋     | 18/38 [00:00<00:00, 34.70batch/s, loss=25.0000]"
     ]
    },
    {
     "name": "stdout",
     "output_type": "stream",
     "text": [
      "DEBUG: scores.shape = torch.Size([8, 16])\n",
      "DEBUG: scores.shape = torch.Size([8, 16])\n",
      "DEBUG: scores.shape = torch.Size([8, 16])\n",
      "DEBUG: scores.shape = torch.Size([8, 16])\n",
      "DEBUG: scores.shape = torch.Size([8, 16])\n"
     ]
    },
    {
     "name": "stderr",
     "output_type": "stream",
     "text": [
      "Epoch 38:  47%|████▋     | 18/38 [00:00<00:00, 34.70batch/s, loss=87.5000]"
     ]
    },
    {
     "name": "stdout",
     "output_type": "stream",
     "text": [
      "DEBUG: scores.shape = torch.Size([8, 16])\n",
      "DEBUG: scores.shape = torch.Size([8, 16])\n",
      "DEBUG: scores.shape = torch.Size([8, 16])\n"
     ]
    },
    {
     "name": "stderr",
     "output_type": "stream",
     "text": [
      "Epoch 38:  58%|█████▊    | 22/38 [00:00<00:00, 34.20batch/s, loss=25.0000]"
     ]
    },
    {
     "name": "stdout",
     "output_type": "stream",
     "text": [
      "DEBUG: scores.shape = torch.Size([8, 16])\n",
      "DEBUG: scores.shape = torch.Size([8, 16])\n",
      "DEBUG: scores.shape = torch.Size([8, 16])\n",
      "DEBUG: scores.shape = torch.Size([8, 16])\n"
     ]
    },
    {
     "name": "stderr",
     "output_type": "stream",
     "text": [
      "Epoch 38:  71%|███████   | 27/38 [00:00<00:00, 35.27batch/s, loss=50.0000]"
     ]
    },
    {
     "name": "stdout",
     "output_type": "stream",
     "text": [
      "DEBUG: scores.shape = torch.Size([8, 16])\n",
      "DEBUG: scores.shape = torch.Size([8, 16])\n",
      "DEBUG: scores.shape = torch.Size([8, 16])\n"
     ]
    },
    {
     "name": "stderr",
     "output_type": "stream",
     "text": [
      "Epoch 38:  82%|████████▏ | 31/38 [00:00<00:00, 35.78batch/s, loss=50.0000]"
     ]
    },
    {
     "name": "stdout",
     "output_type": "stream",
     "text": [
      "DEBUG: scores.shape = torch.Size([8, 16])\n",
      "DEBUG: scores.shape = torch.Size([8, 16])\n",
      "DEBUG: scores.shape = torch.Size([8, 16])\n",
      "DEBUG: scores.shape = torch.Size([8, 16])\n"
     ]
    },
    {
     "name": "stderr",
     "output_type": "stream",
     "text": [
      "Epoch 38:  92%|█████████▏| 35/38 [00:01<00:00, 35.38batch/s, loss=62.5000]"
     ]
    },
    {
     "name": "stdout",
     "output_type": "stream",
     "text": [
      "DEBUG: scores.shape = torch.Size([8, 16])\n",
      "DEBUG: scores.shape = torch.Size([8, 16])\n",
      "DEBUG: scores.shape = torch.Size([8, 16])\n"
     ]
    },
    {
     "name": "stderr",
     "output_type": "stream",
     "text": [
      "Epoch 38: 100%|██████████| 38/38 [00:01<00:00, 34.15batch/s, loss=0.0000] \n"
     ]
    },
    {
     "name": "stdout",
     "output_type": "stream",
     "text": [
      "DEBUG: scores.shape = torch.Size([8, 16])\n",
      "DEBUG: scores.shape = torch.Size([4, 16])\n",
      "Epoch 38, Loss: 49.3421\n"
     ]
    },
    {
     "name": "stderr",
     "output_type": "stream",
     "text": [
      "Epoch 39:   0%|          | 0/38 [00:00<?, ?batch/s, loss=62.5000]"
     ]
    },
    {
     "name": "stdout",
     "output_type": "stream",
     "text": [
      "DEBUG: scores.shape = torch.Size([8, 16])\n",
      "DEBUG: scores.shape = torch.Size([8, 16])\n"
     ]
    },
    {
     "name": "stderr",
     "output_type": "stream",
     "text": [
      "Epoch 39:  11%|█         | 4/38 [00:00<00:00, 36.02batch/s, loss=50.0000]"
     ]
    },
    {
     "name": "stdout",
     "output_type": "stream",
     "text": [
      "DEBUG: scores.shape = torch.Size([8, 16])\n",
      "DEBUG: scores.shape = torch.Size([8, 16])\n",
      "DEBUG: scores.shape = torch.Size([8, 16])\n",
      "DEBUG: scores.shape = torch.Size([8, 16])\n"
     ]
    },
    {
     "name": "stderr",
     "output_type": "stream",
     "text": [
      "Epoch 39:  11%|█         | 4/38 [00:00<00:00, 36.02batch/s, loss=75.0000]"
     ]
    },
    {
     "name": "stdout",
     "output_type": "stream",
     "text": [
      "DEBUG: scores.shape = torch.Size([8, 16])\n",
      "DEBUG: scores.shape = torch.Size([8, 16])\n"
     ]
    },
    {
     "name": "stderr",
     "output_type": "stream",
     "text": [
      "Epoch 39:  21%|██        | 8/38 [00:00<00:00, 34.51batch/s, loss=75.0000]"
     ]
    },
    {
     "name": "stdout",
     "output_type": "stream",
     "text": [
      "DEBUG: scores.shape = torch.Size([8, 16])\n",
      "DEBUG: scores.shape = torch.Size([8, 16])\n"
     ]
    },
    {
     "name": "stderr",
     "output_type": "stream",
     "text": [
      "Epoch 39:  32%|███▏      | 12/38 [00:00<00:00, 35.27batch/s, loss=62.5000]"
     ]
    },
    {
     "name": "stdout",
     "output_type": "stream",
     "text": [
      "DEBUG: scores.shape = torch.Size([8, 16])\n",
      "DEBUG: scores.shape = torch.Size([8, 16])\n",
      "DEBUG: scores.shape = torch.Size([8, 16])\n",
      "DEBUG: scores.shape = torch.Size([8, 16])\n"
     ]
    },
    {
     "name": "stderr",
     "output_type": "stream",
     "text": [
      "Epoch 39:  32%|███▏      | 12/38 [00:00<00:00, 35.27batch/s, loss=50.0000]"
     ]
    },
    {
     "name": "stdout",
     "output_type": "stream",
     "text": [
      "DEBUG: scores.shape = torch.Size([8, 16])\n",
      "DEBUG: scores.shape = torch.Size([8, 16])\n"
     ]
    },
    {
     "name": "stderr",
     "output_type": "stream",
     "text": [
      "Epoch 39:  42%|████▏     | 16/38 [00:00<00:00, 36.26batch/s, loss=75.0000]"
     ]
    },
    {
     "name": "stdout",
     "output_type": "stream",
     "text": [
      "DEBUG: scores.shape = torch.Size([8, 16])\n",
      "DEBUG: scores.shape = torch.Size([8, 16])\n"
     ]
    },
    {
     "name": "stderr",
     "output_type": "stream",
     "text": [
      "Epoch 39:  53%|█████▎    | 20/38 [00:00<00:00, 35.87batch/s, loss=75.0000]"
     ]
    },
    {
     "name": "stdout",
     "output_type": "stream",
     "text": [
      "DEBUG: scores.shape = torch.Size([8, 16])\n",
      "DEBUG: scores.shape = torch.Size([8, 16])\n",
      "DEBUG: scores.shape = torch.Size([8, 16])\n",
      "DEBUG: scores.shape = torch.Size([8, 16])\n"
     ]
    },
    {
     "name": "stderr",
     "output_type": "stream",
     "text": [
      "Epoch 39:  53%|█████▎    | 20/38 [00:00<00:00, 35.87batch/s, loss=50.0000]"
     ]
    },
    {
     "name": "stdout",
     "output_type": "stream",
     "text": [
      "DEBUG: scores.shape = torch.Size([8, 16])\n",
      "DEBUG: scores.shape = torch.Size([8, 16])\n"
     ]
    },
    {
     "name": "stderr",
     "output_type": "stream",
     "text": [
      "Epoch 39:  63%|██████▎   | 24/38 [00:00<00:00, 36.71batch/s, loss=62.5000]"
     ]
    },
    {
     "name": "stdout",
     "output_type": "stream",
     "text": [
      "DEBUG: scores.shape = torch.Size([8, 16])\n"
     ]
    },
    {
     "name": "stderr",
     "output_type": "stream",
     "text": [
      "Epoch 39:  74%|███████▎  | 28/38 [00:00<00:00, 35.77batch/s, loss=12.5000]"
     ]
    },
    {
     "name": "stdout",
     "output_type": "stream",
     "text": [
      "DEBUG: scores.shape = torch.Size([8, 16])\n",
      "DEBUG: scores.shape = torch.Size([8, 16])\n",
      "DEBUG: scores.shape = torch.Size([8, 16])\n",
      "DEBUG: scores.shape = torch.Size([8, 16])\n"
     ]
    },
    {
     "name": "stderr",
     "output_type": "stream",
     "text": [
      "Epoch 39:  74%|███████▎  | 28/38 [00:00<00:00, 35.77batch/s, loss=25.0000]"
     ]
    },
    {
     "name": "stdout",
     "output_type": "stream",
     "text": [
      "DEBUG: scores.shape = torch.Size([8, 16])\n",
      "DEBUG: scores.shape = torch.Size([8, 16])\n"
     ]
    },
    {
     "name": "stderr",
     "output_type": "stream",
     "text": [
      "Epoch 39:  74%|███████▎  | 28/38 [00:00<00:00, 35.77batch/s, loss=37.5000]"
     ]
    },
    {
     "name": "stdout",
     "output_type": "stream",
     "text": [
      "DEBUG: scores.shape = torch.Size([8, 16])\n"
     ]
    },
    {
     "name": "stderr",
     "output_type": "stream",
     "text": [
      "Epoch 39:  95%|█████████▍| 36/38 [00:01<00:00, 36.47batch/s, loss=50.0000]"
     ]
    },
    {
     "name": "stdout",
     "output_type": "stream",
     "text": [
      "DEBUG: scores.shape = torch.Size([8, 16])\n",
      "DEBUG: scores.shape = torch.Size([8, 16])\n",
      "DEBUG: scores.shape = torch.Size([8, 16])\n",
      "DEBUG: scores.shape = torch.Size([8, 16])\n",
      "DEBUG: scores.shape = torch.Size([8, 16])\n"
     ]
    },
    {
     "name": "stderr",
     "output_type": "stream",
     "text": [
      "Epoch 39: 100%|██████████| 38/38 [00:01<00:00, 36.34batch/s, loss=75.0000]\n"
     ]
    },
    {
     "name": "stdout",
     "output_type": "stream",
     "text": [
      "DEBUG: scores.shape = torch.Size([4, 16])\n",
      "Epoch 39, Loss: 50.3289\n"
     ]
    },
    {
     "name": "stderr",
     "output_type": "stream",
     "text": [
      "Epoch 40:   0%|          | 0/38 [00:00<?, ?batch/s]"
     ]
    },
    {
     "name": "stdout",
     "output_type": "stream",
     "text": [
      "DEBUG: scores.shape = torch.Size([8, 16])\n"
     ]
    },
    {
     "name": "stderr",
     "output_type": "stream",
     "text": [
      "Epoch 40:   0%|          | 0/38 [00:00<?, ?batch/s, loss=75.0000]"
     ]
    },
    {
     "name": "stdout",
     "output_type": "stream",
     "text": [
      "DEBUG: scores.shape = torch.Size([8, 16])\n"
     ]
    },
    {
     "name": "stderr",
     "output_type": "stream",
     "text": [
      "Epoch 40:  11%|█         | 4/38 [00:00<00:01, 33.50batch/s, loss=50.0000]"
     ]
    },
    {
     "name": "stdout",
     "output_type": "stream",
     "text": [
      "DEBUG: scores.shape = torch.Size([8, 16])\n",
      "DEBUG: scores.shape = torch.Size([8, 16])\n",
      "DEBUG: scores.shape = torch.Size([8, 16])\n",
      "DEBUG: scores.shape = torch.Size([8, 16])\n",
      "DEBUG: scores.shape = torch.Size([8, 16])\n"
     ]
    },
    {
     "name": "stderr",
     "output_type": "stream",
     "text": [
      "Epoch 40:  11%|█         | 4/38 [00:00<00:01, 33.50batch/s, loss=62.5000]"
     ]
    },
    {
     "name": "stdout",
     "output_type": "stream",
     "text": [
      "DEBUG: scores.shape = torch.Size([8, 16])\n"
     ]
    },
    {
     "name": "stderr",
     "output_type": "stream",
     "text": [
      "Epoch 40:  21%|██        | 8/38 [00:00<00:00, 34.14batch/s, loss=37.5000]"
     ]
    },
    {
     "name": "stdout",
     "output_type": "stream",
     "text": [
      "DEBUG: scores.shape = torch.Size([8, 16])\n",
      "DEBUG: scores.shape = torch.Size([8, 16])\n"
     ]
    },
    {
     "name": "stderr",
     "output_type": "stream",
     "text": [
      "Epoch 40:  32%|███▏      | 12/38 [00:00<00:00, 35.05batch/s, loss=62.5000]"
     ]
    },
    {
     "name": "stdout",
     "output_type": "stream",
     "text": [
      "DEBUG: scores.shape = torch.Size([8, 16])\n",
      "DEBUG: scores.shape = torch.Size([8, 16])\n",
      "DEBUG: scores.shape = torch.Size([8, 16])\n",
      "DEBUG: scores.shape = torch.Size([8, 16])\n",
      "DEBUG: scores.shape = torch.Size([8, 16])\n"
     ]
    },
    {
     "name": "stderr",
     "output_type": "stream",
     "text": [
      "Epoch 40:  42%|████▏     | 16/38 [00:00<00:00, 32.01batch/s, loss=62.5000]"
     ]
    },
    {
     "name": "stdout",
     "output_type": "stream",
     "text": [
      "DEBUG: scores.shape = torch.Size([8, 16])\n",
      "DEBUG: scores.shape = torch.Size([8, 16])\n"
     ]
    },
    {
     "name": "stderr",
     "output_type": "stream",
     "text": [
      "Epoch 40:  53%|█████▎    | 20/38 [00:00<00:00, 32.89batch/s, loss=50.0000]"
     ]
    },
    {
     "name": "stdout",
     "output_type": "stream",
     "text": [
      "DEBUG: scores.shape = torch.Size([8, 16])\n",
      "DEBUG: scores.shape = torch.Size([8, 16])\n",
      "DEBUG: scores.shape = torch.Size([8, 16])\n",
      "DEBUG: scores.shape = torch.Size([8, 16])\n",
      "DEBUG: scores.shape = torch.Size([8, 16])\n"
     ]
    },
    {
     "name": "stderr",
     "output_type": "stream",
     "text": [
      "Epoch 40:  63%|██████▎   | 24/38 [00:00<00:00, 34.22batch/s, loss=87.5000]"
     ]
    },
    {
     "name": "stdout",
     "output_type": "stream",
     "text": [
      "DEBUG: scores.shape = torch.Size([8, 16])\n",
      "DEBUG: scores.shape = torch.Size([8, 16])\n",
      "DEBUG: scores.shape = torch.Size([8, 16])\n"
     ]
    },
    {
     "name": "stderr",
     "output_type": "stream",
     "text": [
      "Epoch 40:  74%|███████▎  | 28/38 [00:00<00:00, 33.55batch/s, loss=25.0000]"
     ]
    },
    {
     "name": "stdout",
     "output_type": "stream",
     "text": [
      "DEBUG: scores.shape = torch.Size([8, 16])\n",
      "DEBUG: scores.shape = torch.Size([8, 16])\n",
      "DEBUG: scores.shape = torch.Size([8, 16])\n",
      "DEBUG: scores.shape = torch.Size([8, 16])\n"
     ]
    },
    {
     "name": "stderr",
     "output_type": "stream",
     "text": [
      "Epoch 40:  74%|███████▎  | 28/38 [00:00<00:00, 33.55batch/s, loss=37.5000]"
     ]
    },
    {
     "name": "stdout",
     "output_type": "stream",
     "text": [
      "DEBUG: scores.shape = torch.Size([8, 16])\n",
      "DEBUG: scores.shape = torch.Size([8, 16])\n",
      "DEBUG: scores.shape = torch.Size([8, 16])\n"
     ]
    },
    {
     "name": "stderr",
     "output_type": "stream",
     "text": [
      "Epoch 40:  84%|████████▍ | 32/38 [00:01<00:00, 33.77batch/s, loss=62.5000]"
     ]
    },
    {
     "name": "stdout",
     "output_type": "stream",
     "text": [
      "DEBUG: scores.shape = torch.Size([8, 16])\n",
      "DEBUG: scores.shape = torch.Size([8, 16])\n",
      "DEBUG: scores.shape = torch.Size([8, 16])\n"
     ]
    },
    {
     "name": "stderr",
     "output_type": "stream",
     "text": [
      "Epoch 40: 100%|██████████| 38/38 [00:01<00:00, 32.83batch/s, loss=25.0000]\n"
     ]
    },
    {
     "name": "stdout",
     "output_type": "stream",
     "text": [
      "DEBUG: scores.shape = torch.Size([8, 16])\n",
      "DEBUG: scores.shape = torch.Size([8, 16])\n",
      "DEBUG: scores.shape = torch.Size([4, 16])\n",
      "Epoch 40, Loss: 49.6711\n"
     ]
    },
    {
     "name": "stderr",
     "output_type": "stream",
     "text": [
      "Epoch 41:   0%|          | 0/38 [00:00<?, ?batch/s]"
     ]
    },
    {
     "name": "stdout",
     "output_type": "stream",
     "text": [
      "DEBUG: scores.shape = torch.Size([8, 16])\n"
     ]
    },
    {
     "name": "stderr",
     "output_type": "stream",
     "text": [
      "Epoch 41:   0%|          | 0/38 [00:00<?, ?batch/s, loss=25.0000]"
     ]
    },
    {
     "name": "stdout",
     "output_type": "stream",
     "text": [
      "DEBUG: scores.shape = torch.Size([8, 16])\n",
      "DEBUG: scores.shape = torch.Size([8, 16])\n"
     ]
    },
    {
     "name": "stderr",
     "output_type": "stream",
     "text": [
      "Epoch 41:   8%|▊         | 3/38 [00:00<00:01, 26.56batch/s, loss=87.5000]"
     ]
    },
    {
     "name": "stdout",
     "output_type": "stream",
     "text": [
      "DEBUG: scores.shape = torch.Size([8, 16])\n",
      "DEBUG: scores.shape = torch.Size([8, 16])\n",
      "DEBUG: scores.shape = torch.Size([8, 16])\n",
      "DEBUG: scores.shape = torch.Size([8, 16])\n"
     ]
    },
    {
     "name": "stderr",
     "output_type": "stream",
     "text": [
      "Epoch 41:  18%|█▊        | 7/38 [00:00<00:00, 32.49batch/s, loss=87.5000]"
     ]
    },
    {
     "name": "stdout",
     "output_type": "stream",
     "text": [
      "DEBUG: scores.shape = torch.Size([8, 16])\n"
     ]
    },
    {
     "name": "stderr",
     "output_type": "stream",
     "text": [
      "Epoch 41:  18%|█▊        | 7/38 [00:00<00:00, 32.49batch/s, loss=50.0000]"
     ]
    },
    {
     "name": "stdout",
     "output_type": "stream",
     "text": [
      "DEBUG: scores.shape = torch.Size([8, 16])\n",
      "DEBUG: scores.shape = torch.Size([8, 16])\n",
      "DEBUG: scores.shape = torch.Size([8, 16])\n"
     ]
    },
    {
     "name": "stderr",
     "output_type": "stream",
     "text": [
      "Epoch 41:  29%|██▉       | 11/38 [00:00<00:00, 33.84batch/s, loss=50.0000]"
     ]
    },
    {
     "name": "stdout",
     "output_type": "stream",
     "text": [
      "DEBUG: scores.shape = torch.Size([8, 16])\n",
      "DEBUG: scores.shape = torch.Size([8, 16])\n",
      "DEBUG: scores.shape = torch.Size([8, 16])\n",
      "DEBUG: scores.shape = torch.Size([8, 16])\n"
     ]
    },
    {
     "name": "stderr",
     "output_type": "stream",
     "text": [
      "Epoch 41:  39%|███▉      | 15/38 [00:00<00:00, 35.44batch/s, loss=75.0000]"
     ]
    },
    {
     "name": "stdout",
     "output_type": "stream",
     "text": [
      "DEBUG: scores.shape = torch.Size([8, 16])\n"
     ]
    },
    {
     "name": "stderr",
     "output_type": "stream",
     "text": [
      "Epoch 41:  50%|█████     | 19/38 [00:00<00:00, 36.45batch/s, loss=50.0000]"
     ]
    },
    {
     "name": "stdout",
     "output_type": "stream",
     "text": [
      "DEBUG: scores.shape = torch.Size([8, 16])\n",
      "DEBUG: scores.shape = torch.Size([8, 16])\n",
      "DEBUG: scores.shape = torch.Size([8, 16])\n",
      "DEBUG: scores.shape = torch.Size([8, 16])\n"
     ]
    },
    {
     "name": "stderr",
     "output_type": "stream",
     "text": [
      "Epoch 41:  50%|█████     | 19/38 [00:00<00:00, 36.45batch/s, loss=62.5000]"
     ]
    },
    {
     "name": "stdout",
     "output_type": "stream",
     "text": [
      "DEBUG: scores.shape = torch.Size([8, 16])\n",
      "DEBUG: scores.shape = torch.Size([8, 16])\n",
      "DEBUG: scores.shape = torch.Size([8, 16])\n"
     ]
    },
    {
     "name": "stderr",
     "output_type": "stream",
     "text": [
      "Epoch 41:  61%|██████    | 23/38 [00:00<00:00, 36.05batch/s, loss=75.0000]"
     ]
    },
    {
     "name": "stdout",
     "output_type": "stream",
     "text": [
      "DEBUG: scores.shape = torch.Size([8, 16])\n",
      "DEBUG: scores.shape = torch.Size([8, 16])\n"
     ]
    },
    {
     "name": "stderr",
     "output_type": "stream",
     "text": [
      "Epoch 41:  61%|██████    | 23/38 [00:00<00:00, 36.05batch/s, loss=37.5000]"
     ]
    },
    {
     "name": "stdout",
     "output_type": "stream",
     "text": [
      "DEBUG: scores.shape = torch.Size([8, 16])\n",
      "DEBUG: scores.shape = torch.Size([8, 16])\n"
     ]
    },
    {
     "name": "stderr",
     "output_type": "stream",
     "text": [
      "Epoch 41:  71%|███████   | 27/38 [00:00<00:00, 35.10batch/s, loss=62.5000]"
     ]
    },
    {
     "name": "stdout",
     "output_type": "stream",
     "text": [
      "DEBUG: scores.shape = torch.Size([8, 16])\n",
      "DEBUG: scores.shape = torch.Size([8, 16])\n",
      "DEBUG: scores.shape = torch.Size([8, 16])\n"
     ]
    },
    {
     "name": "stderr",
     "output_type": "stream",
     "text": [
      "Epoch 41:  71%|███████   | 27/38 [00:00<00:00, 35.10batch/s, loss=37.5000]"
     ]
    },
    {
     "name": "stdout",
     "output_type": "stream",
     "text": [
      "DEBUG: scores.shape = torch.Size([8, 16])\n"
     ]
    },
    {
     "name": "stderr",
     "output_type": "stream",
     "text": [
      "Epoch 41:  82%|████████▏ | 31/38 [00:01<00:00, 32.99batch/s, loss=37.5000]"
     ]
    },
    {
     "name": "stdout",
     "output_type": "stream",
     "text": [
      "DEBUG: scores.shape = torch.Size([8, 16])\n",
      "DEBUG: scores.shape = torch.Size([8, 16])\n",
      "DEBUG: scores.shape = torch.Size([8, 16])\n"
     ]
    },
    {
     "name": "stderr",
     "output_type": "stream",
     "text": [
      "Epoch 41:  92%|█████████▏| 35/38 [00:01<00:00, 32.37batch/s, loss=62.5000]"
     ]
    },
    {
     "name": "stdout",
     "output_type": "stream",
     "text": [
      "DEBUG: scores.shape = torch.Size([8, 16])\n",
      "DEBUG: scores.shape = torch.Size([8, 16])\n",
      "DEBUG: scores.shape = torch.Size([8, 16])\n",
      "DEBUG: scores.shape = torch.Size([4, 16])\n"
     ]
    },
    {
     "name": "stderr",
     "output_type": "stream",
     "text": [
      "Epoch 41: 100%|██████████| 38/38 [00:01<00:00, 34.01batch/s, loss=100.0000]\n"
     ]
    },
    {
     "name": "stdout",
     "output_type": "stream",
     "text": [
      "Epoch 41, Loss: 50.6579\n"
     ]
    },
    {
     "name": "stderr",
     "output_type": "stream",
     "text": [
      "Epoch 42:   0%|          | 0/38 [00:00<?, ?batch/s, loss=50.0000]"
     ]
    },
    {
     "name": "stdout",
     "output_type": "stream",
     "text": [
      "DEBUG: scores.shape = torch.Size([8, 16])\n",
      "DEBUG: scores.shape = torch.Size([8, 16])\n",
      "DEBUG: scores.shape = torch.Size([8, 16])\n",
      "DEBUG: scores.shape = torch.Size([8, 16])\n"
     ]
    },
    {
     "name": "stderr",
     "output_type": "stream",
     "text": [
      "Epoch 42:  11%|█         | 4/38 [00:00<00:00, 34.88batch/s, loss=50.0000]"
     ]
    },
    {
     "name": "stdout",
     "output_type": "stream",
     "text": [
      "DEBUG: scores.shape = torch.Size([8, 16])\n",
      "DEBUG: scores.shape = torch.Size([8, 16])\n"
     ]
    },
    {
     "name": "stderr",
     "output_type": "stream",
     "text": [
      "Epoch 42:  11%|█         | 4/38 [00:00<00:00, 34.88batch/s, loss=25.0000]"
     ]
    },
    {
     "name": "stdout",
     "output_type": "stream",
     "text": [
      "DEBUG: scores.shape = torch.Size([8, 16])\n"
     ]
    },
    {
     "name": "stderr",
     "output_type": "stream",
     "text": [
      "Epoch 42:  21%|██        | 8/38 [00:00<00:00, 32.90batch/s, loss=62.5000]"
     ]
    },
    {
     "name": "stdout",
     "output_type": "stream",
     "text": [
      "DEBUG: scores.shape = torch.Size([8, 16])\n",
      "DEBUG: scores.shape = torch.Size([8, 16])\n",
      "DEBUG: scores.shape = torch.Size([8, 16])\n",
      "DEBUG: scores.shape = torch.Size([8, 16])\n"
     ]
    },
    {
     "name": "stderr",
     "output_type": "stream",
     "text": [
      "Epoch 42:  32%|███▏      | 12/38 [00:00<00:00, 31.94batch/s, loss=50.0000]"
     ]
    },
    {
     "name": "stdout",
     "output_type": "stream",
     "text": [
      "DEBUG: scores.shape = torch.Size([8, 16])\n",
      "DEBUG: scores.shape = torch.Size([8, 16])\n"
     ]
    },
    {
     "name": "stderr",
     "output_type": "stream",
     "text": [
      "Epoch 42:  42%|████▏     | 16/38 [00:00<00:00, 32.74batch/s, loss=50.0000]"
     ]
    },
    {
     "name": "stdout",
     "output_type": "stream",
     "text": [
      "DEBUG: scores.shape = torch.Size([8, 16])\n",
      "DEBUG: scores.shape = torch.Size([8, 16])\n",
      "DEBUG: scores.shape = torch.Size([8, 16])\n",
      "DEBUG: scores.shape = torch.Size([8, 16])\n",
      "DEBUG: scores.shape = torch.Size([8, 16])\n"
     ]
    },
    {
     "name": "stderr",
     "output_type": "stream",
     "text": [
      "Epoch 42:  42%|████▏     | 16/38 [00:00<00:00, 32.74batch/s, loss=75.0000]"
     ]
    },
    {
     "name": "stdout",
     "output_type": "stream",
     "text": [
      "DEBUG: scores.shape = torch.Size([8, 16])\n",
      "DEBUG: scores.shape = torch.Size([8, 16])\n"
     ]
    },
    {
     "name": "stderr",
     "output_type": "stream",
     "text": [
      "Epoch 42:  63%|██████▎   | 24/38 [00:00<00:00, 33.66batch/s, loss=62.5000]"
     ]
    },
    {
     "name": "stdout",
     "output_type": "stream",
     "text": [
      "DEBUG: scores.shape = torch.Size([8, 16])\n",
      "DEBUG: scores.shape = torch.Size([8, 16])\n",
      "DEBUG: scores.shape = torch.Size([8, 16])\n",
      "DEBUG: scores.shape = torch.Size([8, 16])\n",
      "DEBUG: scores.shape = torch.Size([8, 16])\n"
     ]
    },
    {
     "name": "stderr",
     "output_type": "stream",
     "text": [
      "Epoch 42:  63%|██████▎   | 24/38 [00:00<00:00, 33.66batch/s, loss=25.0000]"
     ]
    },
    {
     "name": "stdout",
     "output_type": "stream",
     "text": [
      "DEBUG: scores.shape = torch.Size([8, 16])\n",
      "DEBUG: scores.shape = torch.Size([8, 16])\n",
      "DEBUG: scores.shape = torch.Size([8, 16])\n"
     ]
    },
    {
     "name": "stderr",
     "output_type": "stream",
     "text": [
      "Epoch 42:  74%|███████▎  | 28/38 [00:00<00:00, 33.81batch/s, loss=50.0000]"
     ]
    },
    {
     "name": "stdout",
     "output_type": "stream",
     "text": [
      "DEBUG: scores.shape = torch.Size([8, 16])\n",
      "DEBUG: scores.shape = torch.Size([8, 16])\n",
      "DEBUG: scores.shape = torch.Size([8, 16])\n",
      "DEBUG: scores.shape = torch.Size([8, 16])\n"
     ]
    },
    {
     "name": "stderr",
     "output_type": "stream",
     "text": [
      "Epoch 42:  84%|████████▍ | 32/38 [00:01<00:00, 34.59batch/s, loss=62.5000]"
     ]
    },
    {
     "name": "stdout",
     "output_type": "stream",
     "text": [
      "DEBUG: scores.shape = torch.Size([8, 16])\n",
      "DEBUG: scores.shape = torch.Size([8, 16])\n",
      "DEBUG: scores.shape = torch.Size([8, 16])\n",
      "DEBUG: scores.shape = torch.Size([8, 16])\n"
     ]
    },
    {
     "name": "stderr",
     "output_type": "stream",
     "text": [
      "Epoch 42: 100%|██████████| 38/38 [00:01<00:00, 33.83batch/s, loss=100.0000]\n"
     ]
    },
    {
     "name": "stdout",
     "output_type": "stream",
     "text": [
      "DEBUG: scores.shape = torch.Size([8, 16])\n",
      "DEBUG: scores.shape = torch.Size([4, 16])\n",
      "Epoch 42, Loss: 50.6579\n"
     ]
    },
    {
     "name": "stderr",
     "output_type": "stream",
     "text": [
      "Epoch 43:   0%|          | 0/38 [00:00<?, ?batch/s]"
     ]
    },
    {
     "name": "stdout",
     "output_type": "stream",
     "text": [
      "DEBUG: scores.shape = torch.Size([8, 16])\n"
     ]
    },
    {
     "name": "stderr",
     "output_type": "stream",
     "text": [
      "Epoch 43:   8%|▊         | 3/38 [00:00<00:01, 26.81batch/s, loss=25.0000]"
     ]
    },
    {
     "name": "stdout",
     "output_type": "stream",
     "text": [
      "DEBUG: scores.shape = torch.Size([8, 16])\n",
      "DEBUG: scores.shape = torch.Size([8, 16])\n",
      "DEBUG: scores.shape = torch.Size([8, 16])\n"
     ]
    },
    {
     "name": "stderr",
     "output_type": "stream",
     "text": [
      "Epoch 43:   8%|▊         | 3/38 [00:00<00:01, 26.81batch/s, loss=62.5000]"
     ]
    },
    {
     "name": "stdout",
     "output_type": "stream",
     "text": [
      "DEBUG: scores.shape = torch.Size([8, 16])\n",
      "DEBUG: scores.shape = torch.Size([8, 16])\n",
      "DEBUG: scores.shape = torch.Size([8, 16])\n"
     ]
    },
    {
     "name": "stderr",
     "output_type": "stream",
     "text": [
      "Epoch 43:  18%|█▊        | 7/38 [00:00<00:00, 32.99batch/s, loss=62.5000]"
     ]
    },
    {
     "name": "stdout",
     "output_type": "stream",
     "text": [
      "DEBUG: scores.shape = torch.Size([8, 16])\n"
     ]
    },
    {
     "name": "stderr",
     "output_type": "stream",
     "text": [
      "Epoch 43:  18%|█▊        | 7/38 [00:00<00:00, 32.99batch/s, loss=75.0000]"
     ]
    },
    {
     "name": "stdout",
     "output_type": "stream",
     "text": [
      "DEBUG: scores.shape = torch.Size([8, 16])\n",
      "DEBUG: scores.shape = torch.Size([8, 16])\n"
     ]
    },
    {
     "name": "stderr",
     "output_type": "stream",
     "text": [
      "Epoch 43:  29%|██▉       | 11/38 [00:00<00:00, 31.68batch/s, loss=25.0000]"
     ]
    },
    {
     "name": "stdout",
     "output_type": "stream",
     "text": [
      "DEBUG: scores.shape = torch.Size([8, 16])\n",
      "DEBUG: scores.shape = torch.Size([8, 16])\n",
      "DEBUG: scores.shape = torch.Size([8, 16])\n",
      "DEBUG: scores.shape = torch.Size([8, 16])\n",
      "DEBUG: scores.shape = torch.Size([8, 16])\n"
     ]
    },
    {
     "name": "stderr",
     "output_type": "stream",
     "text": [
      "Epoch 43:  39%|███▉      | 15/38 [00:00<00:00, 33.45batch/s, loss=87.5000]"
     ]
    },
    {
     "name": "stdout",
     "output_type": "stream",
     "text": [
      "DEBUG: scores.shape = torch.Size([8, 16])\n",
      "DEBUG: scores.shape = torch.Size([8, 16])\n",
      "DEBUG: scores.shape = torch.Size([8, 16])\n"
     ]
    },
    {
     "name": "stderr",
     "output_type": "stream",
     "text": [
      "Epoch 43:  50%|█████     | 19/38 [00:00<00:00, 34.21batch/s, loss=37.5000] "
     ]
    },
    {
     "name": "stdout",
     "output_type": "stream",
     "text": [
      "DEBUG: scores.shape = torch.Size([8, 16])\n",
      "DEBUG: scores.shape = torch.Size([8, 16])\n",
      "DEBUG: scores.shape = torch.Size([8, 16])\n",
      "DEBUG: scores.shape = torch.Size([8, 16])\n",
      "DEBUG: scores.shape = torch.Size([8, 16])\n"
     ]
    },
    {
     "name": "stderr",
     "output_type": "stream",
     "text": [
      "Epoch 43:  61%|██████    | 23/38 [00:00<00:00, 34.61batch/s, loss=37.5000]"
     ]
    },
    {
     "name": "stdout",
     "output_type": "stream",
     "text": [
      "DEBUG: scores.shape = torch.Size([8, 16])\n",
      "DEBUG: scores.shape = torch.Size([8, 16])\n"
     ]
    },
    {
     "name": "stderr",
     "output_type": "stream",
     "text": [
      "Epoch 43:  71%|███████   | 27/38 [00:00<00:00, 33.86batch/s, loss=50.0000]"
     ]
    },
    {
     "name": "stdout",
     "output_type": "stream",
     "text": [
      "DEBUG: scores.shape = torch.Size([8, 16])\n",
      "DEBUG: scores.shape = torch.Size([8, 16])\n",
      "DEBUG: scores.shape = torch.Size([8, 16])\n",
      "DEBUG: scores.shape = torch.Size([8, 16])\n"
     ]
    },
    {
     "name": "stderr",
     "output_type": "stream",
     "text": [
      "Epoch 43:  82%|████████▏ | 31/38 [00:00<00:00, 33.99batch/s, loss=62.5000]"
     ]
    },
    {
     "name": "stdout",
     "output_type": "stream",
     "text": [
      "DEBUG: scores.shape = torch.Size([8, 16])\n",
      "DEBUG: scores.shape = torch.Size([8, 16])\n"
     ]
    },
    {
     "name": "stderr",
     "output_type": "stream",
     "text": [
      "Epoch 43:  92%|█████████▏| 35/38 [00:01<00:00, 32.56batch/s, loss=62.5000]"
     ]
    },
    {
     "name": "stdout",
     "output_type": "stream",
     "text": [
      "DEBUG: scores.shape = torch.Size([8, 16])\n",
      "DEBUG: scores.shape = torch.Size([8, 16])\n",
      "DEBUG: scores.shape = torch.Size([8, 16])\n",
      "DEBUG: scores.shape = torch.Size([8, 16])\n",
      "DEBUG: scores.shape = torch.Size([8, 16])\n"
     ]
    },
    {
     "name": "stderr",
     "output_type": "stream",
     "text": [
      "Epoch 43: 100%|██████████| 38/38 [00:01<00:00, 33.36batch/s, loss=50.0000]\n"
     ]
    },
    {
     "name": "stdout",
     "output_type": "stream",
     "text": [
      "DEBUG: scores.shape = torch.Size([8, 16])\n",
      "DEBUG: scores.shape = torch.Size([4, 16])\n",
      "Epoch 43, Loss: 50.0000\n"
     ]
    },
    {
     "name": "stderr",
     "output_type": "stream",
     "text": [
      "Epoch 44:   0%|          | 0/38 [00:00<?, ?batch/s]"
     ]
    },
    {
     "name": "stdout",
     "output_type": "stream",
     "text": [
      "DEBUG: scores.shape = torch.Size([8, 16])\n"
     ]
    },
    {
     "name": "stderr",
     "output_type": "stream",
     "text": [
      "Epoch 44:  11%|█         | 4/38 [00:00<00:00, 36.54batch/s, loss=25.0000]"
     ]
    },
    {
     "name": "stdout",
     "output_type": "stream",
     "text": [
      "DEBUG: scores.shape = torch.Size([8, 16])\n",
      "DEBUG: scores.shape = torch.Size([8, 16])\n",
      "DEBUG: scores.shape = torch.Size([8, 16])\n",
      "DEBUG: scores.shape = torch.Size([8, 16])\n",
      "DEBUG: scores.shape = torch.Size([8, 16])\n"
     ]
    },
    {
     "name": "stderr",
     "output_type": "stream",
     "text": [
      "Epoch 44:  11%|█         | 4/38 [00:00<00:00, 36.54batch/s, loss=37.5000]"
     ]
    },
    {
     "name": "stdout",
     "output_type": "stream",
     "text": [
      "DEBUG: scores.shape = torch.Size([8, 16])\n"
     ]
    },
    {
     "name": "stderr",
     "output_type": "stream",
     "text": [
      "Epoch 44:  11%|█         | 4/38 [00:00<00:00, 36.54batch/s, loss=12.5000]"
     ]
    },
    {
     "name": "stdout",
     "output_type": "stream",
     "text": [
      "DEBUG: scores.shape = torch.Size([8, 16])\n"
     ]
    },
    {
     "name": "stderr",
     "output_type": "stream",
     "text": [
      "Epoch 44:  21%|██        | 8/38 [00:00<00:00, 34.57batch/s, loss=37.5000]"
     ]
    },
    {
     "name": "stdout",
     "output_type": "stream",
     "text": [
      "DEBUG: scores.shape = torch.Size([8, 16])\n",
      "DEBUG: scores.shape = torch.Size([8, 16])\n",
      "DEBUG: scores.shape = torch.Size([8, 16])\n",
      "DEBUG: scores.shape = torch.Size([8, 16])\n"
     ]
    },
    {
     "name": "stderr",
     "output_type": "stream",
     "text": [
      "Epoch 44:  32%|███▏      | 12/38 [00:00<00:00, 29.84batch/s, loss=37.5000]"
     ]
    },
    {
     "name": "stdout",
     "output_type": "stream",
     "text": [
      "DEBUG: scores.shape = torch.Size([8, 16])\n"
     ]
    },
    {
     "name": "stderr",
     "output_type": "stream",
     "text": [
      "Epoch 44:  32%|███▏      | 12/38 [00:00<00:00, 29.84batch/s, loss=12.5000]"
     ]
    },
    {
     "name": "stdout",
     "output_type": "stream",
     "text": [
      "DEBUG: scores.shape = torch.Size([8, 16])\n"
     ]
    },
    {
     "name": "stderr",
     "output_type": "stream",
     "text": [
      "Epoch 44:  42%|████▏     | 16/38 [00:00<00:00, 31.47batch/s, loss=50.0000]"
     ]
    },
    {
     "name": "stdout",
     "output_type": "stream",
     "text": [
      "DEBUG: scores.shape = torch.Size([8, 16])\n",
      "DEBUG: scores.shape = torch.Size([8, 16])\n",
      "DEBUG: scores.shape = torch.Size([8, 16])\n",
      "DEBUG: scores.shape = torch.Size([8, 16])\n",
      "DEBUG: scores.shape = torch.Size([8, 16])\n",
      "DEBUG: scores.shape = torch.Size([8, 16])\n"
     ]
    },
    {
     "name": "stderr",
     "output_type": "stream",
     "text": [
      "Epoch 44:  53%|█████▎    | 20/38 [00:00<00:00, 31.76batch/s, loss=50.0000]"
     ]
    },
    {
     "name": "stdout",
     "output_type": "stream",
     "text": [
      "DEBUG: scores.shape = torch.Size([8, 16])\n"
     ]
    },
    {
     "name": "stderr",
     "output_type": "stream",
     "text": [
      "Epoch 44:  63%|██████▎   | 24/38 [00:00<00:00, 31.21batch/s, loss=37.5000]"
     ]
    },
    {
     "name": "stdout",
     "output_type": "stream",
     "text": [
      "DEBUG: scores.shape = torch.Size([8, 16])\n",
      "DEBUG: scores.shape = torch.Size([8, 16])\n",
      "DEBUG: scores.shape = torch.Size([8, 16])\n",
      "DEBUG: scores.shape = torch.Size([8, 16])\n",
      "DEBUG: scores.shape = torch.Size([8, 16])\n"
     ]
    },
    {
     "name": "stderr",
     "output_type": "stream",
     "text": [
      "Epoch 44:  63%|██████▎   | 24/38 [00:00<00:00, 31.21batch/s, loss=62.5000]"
     ]
    },
    {
     "name": "stdout",
     "output_type": "stream",
     "text": [
      "DEBUG: scores.shape = torch.Size([8, 16])\n"
     ]
    },
    {
     "name": "stderr",
     "output_type": "stream",
     "text": [
      "Epoch 44:  63%|██████▎   | 24/38 [00:00<00:00, 31.21batch/s, loss=62.5000]"
     ]
    },
    {
     "name": "stdout",
     "output_type": "stream",
     "text": [
      "DEBUG: scores.shape = torch.Size([8, 16])\n"
     ]
    },
    {
     "name": "stderr",
     "output_type": "stream",
     "text": [
      "Epoch 44:  84%|████████▍ | 32/38 [00:01<00:00, 32.05batch/s, loss=62.5000]"
     ]
    },
    {
     "name": "stdout",
     "output_type": "stream",
     "text": [
      "DEBUG: scores.shape = torch.Size([8, 16])\n",
      "DEBUG: scores.shape = torch.Size([8, 16])\n",
      "DEBUG: scores.shape = torch.Size([8, 16])\n",
      "DEBUG: scores.shape = torch.Size([8, 16])\n",
      "DEBUG: scores.shape = torch.Size([8, 16])\n"
     ]
    },
    {
     "name": "stderr",
     "output_type": "stream",
     "text": [
      "Epoch 44:  84%|████████▍ | 32/38 [00:01<00:00, 32.05batch/s, loss=62.5000]"
     ]
    },
    {
     "name": "stdout",
     "output_type": "stream",
     "text": [
      "DEBUG: scores.shape = torch.Size([8, 16])\n",
      "DEBUG: scores.shape = torch.Size([8, 16])\n"
     ]
    },
    {
     "name": "stderr",
     "output_type": "stream",
     "text": [
      "Epoch 44: 100%|██████████| 38/38 [00:01<00:00, 31.64batch/s, loss=50.0000]\n"
     ]
    },
    {
     "name": "stdout",
     "output_type": "stream",
     "text": [
      "DEBUG: scores.shape = torch.Size([8, 16])\n",
      "DEBUG: scores.shape = torch.Size([8, 16])\n",
      "DEBUG: scores.shape = torch.Size([4, 16])\n",
      "Epoch 44, Loss: 50.0000\n"
     ]
    },
    {
     "name": "stderr",
     "output_type": "stream",
     "text": [
      "Epoch 45:   0%|          | 0/38 [00:00<?, ?batch/s, loss=25.0000]"
     ]
    },
    {
     "name": "stdout",
     "output_type": "stream",
     "text": [
      "DEBUG: scores.shape = torch.Size([8, 16])\n"
     ]
    },
    {
     "name": "stderr",
     "output_type": "stream",
     "text": [
      "Epoch 45:   0%|          | 0/38 [00:00<?, ?batch/s, loss=62.5000]"
     ]
    },
    {
     "name": "stdout",
     "output_type": "stream",
     "text": [
      "DEBUG: scores.shape = torch.Size([8, 16])\n",
      "DEBUG: scores.shape = torch.Size([8, 16])\n"
     ]
    },
    {
     "name": "stderr",
     "output_type": "stream",
     "text": [
      "Epoch 45:   0%|          | 0/38 [00:00<?, ?batch/s, loss=37.5000]"
     ]
    },
    {
     "name": "stdout",
     "output_type": "stream",
     "text": [
      "DEBUG: scores.shape = torch.Size([8, 16])\n"
     ]
    },
    {
     "name": "stderr",
     "output_type": "stream",
     "text": [
      "Epoch 45:  11%|█         | 4/38 [00:00<00:01, 33.58batch/s, loss=50.0000]"
     ]
    },
    {
     "name": "stdout",
     "output_type": "stream",
     "text": [
      "DEBUG: scores.shape = torch.Size([8, 16])\n",
      "DEBUG: scores.shape = torch.Size([8, 16])\n",
      "DEBUG: scores.shape = torch.Size([8, 16])\n"
     ]
    },
    {
     "name": "stderr",
     "output_type": "stream",
     "text": [
      "Epoch 45:  11%|█         | 4/38 [00:00<00:01, 33.58batch/s, loss=62.5000]"
     ]
    },
    {
     "name": "stdout",
     "output_type": "stream",
     "text": [
      "DEBUG: scores.shape = torch.Size([8, 16])\n"
     ]
    },
    {
     "name": "stderr",
     "output_type": "stream",
     "text": [
      "Epoch 45:  21%|██        | 8/38 [00:00<00:00, 30.61batch/s, loss=62.5000]"
     ]
    },
    {
     "name": "stdout",
     "output_type": "stream",
     "text": [
      "DEBUG: scores.shape = torch.Size([8, 16])\n"
     ]
    },
    {
     "name": "stderr",
     "output_type": "stream",
     "text": [
      "Epoch 45:  21%|██        | 8/38 [00:00<00:00, 30.61batch/s, loss=37.5000]"
     ]
    },
    {
     "name": "stdout",
     "output_type": "stream",
     "text": [
      "DEBUG: scores.shape = torch.Size([8, 16])\n"
     ]
    },
    {
     "name": "stderr",
     "output_type": "stream",
     "text": [
      "Epoch 45:  32%|███▏      | 12/38 [00:00<00:00, 30.14batch/s, loss=50.0000]"
     ]
    },
    {
     "name": "stdout",
     "output_type": "stream",
     "text": [
      "DEBUG: scores.shape = torch.Size([8, 16])\n",
      "DEBUG: scores.shape = torch.Size([8, 16])\n",
      "DEBUG: scores.shape = torch.Size([8, 16])\n"
     ]
    },
    {
     "name": "stderr",
     "output_type": "stream",
     "text": [
      "Epoch 45:  32%|███▏      | 12/38 [00:00<00:00, 30.14batch/s, loss=37.5000]"
     ]
    },
    {
     "name": "stdout",
     "output_type": "stream",
     "text": [
      "DEBUG: scores.shape = torch.Size([8, 16])\n"
     ]
    },
    {
     "name": "stderr",
     "output_type": "stream",
     "text": [
      "Epoch 45:  32%|███▏      | 12/38 [00:00<00:00, 30.14batch/s, loss=50.0000]"
     ]
    },
    {
     "name": "stdout",
     "output_type": "stream",
     "text": [
      "DEBUG: scores.shape = torch.Size([8, 16])\n"
     ]
    },
    {
     "name": "stderr",
     "output_type": "stream",
     "text": [
      "Epoch 45:  32%|███▏      | 12/38 [00:00<00:00, 30.14batch/s, loss=25.0000]"
     ]
    },
    {
     "name": "stdout",
     "output_type": "stream",
     "text": [
      "DEBUG: scores.shape = torch.Size([8, 16])\n"
     ]
    },
    {
     "name": "stderr",
     "output_type": "stream",
     "text": [
      "Epoch 45:  42%|████▏     | 16/38 [00:00<00:00, 29.69batch/s, loss=50.0000]"
     ]
    },
    {
     "name": "stdout",
     "output_type": "stream",
     "text": [
      "DEBUG: scores.shape = torch.Size([8, 16])\n",
      "DEBUG: scores.shape = torch.Size([8, 16])\n"
     ]
    },
    {
     "name": "stderr",
     "output_type": "stream",
     "text": [
      "Epoch 45:  50%|█████     | 19/38 [00:00<00:00, 29.05batch/s, loss=62.5000]"
     ]
    },
    {
     "name": "stdout",
     "output_type": "stream",
     "text": [
      "DEBUG: scores.shape = torch.Size([8, 16])\n",
      "DEBUG: scores.shape = torch.Size([8, 16])\n"
     ]
    },
    {
     "name": "stderr",
     "output_type": "stream",
     "text": [
      "Epoch 45:  50%|█████     | 19/38 [00:00<00:00, 29.05batch/s, loss=75.0000]"
     ]
    },
    {
     "name": "stdout",
     "output_type": "stream",
     "text": [
      "DEBUG: scores.shape = torch.Size([8, 16])\n"
     ]
    },
    {
     "name": "stderr",
     "output_type": "stream",
     "text": [
      "Epoch 45:  50%|█████     | 19/38 [00:00<00:00, 29.05batch/s, loss=37.5000]"
     ]
    },
    {
     "name": "stdout",
     "output_type": "stream",
     "text": [
      "DEBUG: scores.shape = torch.Size([8, 16])\n",
      "DEBUG: scores.shape = torch.Size([8, 16])\n"
     ]
    },
    {
     "name": "stderr",
     "output_type": "stream",
     "text": [
      "Epoch 45:  61%|██████    | 23/38 [00:00<00:00, 30.21batch/s, loss=75.0000]"
     ]
    },
    {
     "name": "stdout",
     "output_type": "stream",
     "text": [
      "DEBUG: scores.shape = torch.Size([8, 16])\n",
      "DEBUG: scores.shape = torch.Size([8, 16])\n"
     ]
    },
    {
     "name": "stderr",
     "output_type": "stream",
     "text": [
      "Epoch 45:  61%|██████    | 23/38 [00:00<00:00, 30.21batch/s, loss=37.5000]"
     ]
    },
    {
     "name": "stdout",
     "output_type": "stream",
     "text": [
      "DEBUG: scores.shape = torch.Size([8, 16])\n",
      "DEBUG: scores.shape = torch.Size([8, 16])\n"
     ]
    },
    {
     "name": "stderr",
     "output_type": "stream",
     "text": [
      "Epoch 45:  71%|███████   | 27/38 [00:00<00:00, 30.52batch/s, loss=50.0000]"
     ]
    },
    {
     "name": "stdout",
     "output_type": "stream",
     "text": [
      "DEBUG: scores.shape = torch.Size([8, 16])\n"
     ]
    },
    {
     "name": "stderr",
     "output_type": "stream",
     "text": [
      "Epoch 45:  71%|███████   | 27/38 [00:00<00:00, 30.52batch/s, loss=25.0000]"
     ]
    },
    {
     "name": "stdout",
     "output_type": "stream",
     "text": [
      "DEBUG: scores.shape = torch.Size([8, 16])\n",
      "DEBUG: scores.shape = torch.Size([8, 16])\n"
     ]
    },
    {
     "name": "stderr",
     "output_type": "stream",
     "text": [
      "Epoch 45:  71%|███████   | 27/38 [00:01<00:00, 30.52batch/s, loss=50.0000]"
     ]
    },
    {
     "name": "stdout",
     "output_type": "stream",
     "text": [
      "DEBUG: scores.shape = torch.Size([8, 16])\n"
     ]
    },
    {
     "name": "stderr",
     "output_type": "stream",
     "text": [
      "Epoch 45:  82%|████████▏ | 31/38 [00:01<00:00, 30.31batch/s, loss=62.5000]"
     ]
    },
    {
     "name": "stdout",
     "output_type": "stream",
     "text": [
      "DEBUG: scores.shape = torch.Size([8, 16])\n",
      "DEBUG: scores.shape = torch.Size([8, 16])\n",
      "DEBUG: scores.shape = torch.Size([8, 16])\n",
      "DEBUG: scores.shape = torch.Size([8, 16])\n"
     ]
    },
    {
     "name": "stderr",
     "output_type": "stream",
     "text": [
      "Epoch 45:  92%|█████████▏| 35/38 [00:01<00:00, 30.69batch/s, loss=37.5000]"
     ]
    },
    {
     "name": "stdout",
     "output_type": "stream",
     "text": [
      "DEBUG: scores.shape = torch.Size([8, 16])\n",
      "DEBUG: scores.shape = torch.Size([8, 16])\n"
     ]
    },
    {
     "name": "stderr",
     "output_type": "stream",
     "text": [
      "Epoch 45:  92%|█████████▏| 35/38 [00:01<00:00, 30.69batch/s, loss=25.0000]"
     ]
    },
    {
     "name": "stdout",
     "output_type": "stream",
     "text": [
      "DEBUG: scores.shape = torch.Size([4, 16])\n"
     ]
    },
    {
     "name": "stderr",
     "output_type": "stream",
     "text": [
      "Epoch 45: 100%|██████████| 38/38 [00:01<00:00, 30.81batch/s, loss=25.0000]\n"
     ]
    },
    {
     "name": "stdout",
     "output_type": "stream",
     "text": [
      "Epoch 45, Loss: 49.6711\n"
     ]
    },
    {
     "name": "stderr",
     "output_type": "stream",
     "text": [
      "Epoch 46:   0%|          | 0/38 [00:00<?, ?batch/s, loss=75.0000]"
     ]
    },
    {
     "name": "stdout",
     "output_type": "stream",
     "text": [
      "DEBUG: scores.shape = torch.Size([8, 16])\n",
      "DEBUG: scores.shape = torch.Size([8, 16])\n",
      "DEBUG: scores.shape = torch.Size([8, 16])\n"
     ]
    },
    {
     "name": "stderr",
     "output_type": "stream",
     "text": [
      "Epoch 46:   0%|          | 0/38 [00:00<?, ?batch/s, loss=37.5000]"
     ]
    },
    {
     "name": "stdout",
     "output_type": "stream",
     "text": [
      "DEBUG: scores.shape = torch.Size([8, 16])\n"
     ]
    },
    {
     "name": "stderr",
     "output_type": "stream",
     "text": [
      "Epoch 46:  11%|█         | 4/38 [00:00<00:00, 34.96batch/s, loss=50.0000]"
     ]
    },
    {
     "name": "stdout",
     "output_type": "stream",
     "text": [
      "DEBUG: scores.shape = torch.Size([8, 16])\n",
      "DEBUG: scores.shape = torch.Size([8, 16])\n",
      "DEBUG: scores.shape = torch.Size([8, 16])\n"
     ]
    },
    {
     "name": "stderr",
     "output_type": "stream",
     "text": [
      "Epoch 46:  21%|██        | 8/38 [00:00<00:01, 29.36batch/s, loss=50.0000]"
     ]
    },
    {
     "name": "stdout",
     "output_type": "stream",
     "text": [
      "DEBUG: scores.shape = torch.Size([8, 16])\n",
      "DEBUG: scores.shape = torch.Size([8, 16])\n"
     ]
    },
    {
     "name": "stderr",
     "output_type": "stream",
     "text": [
      "Epoch 46:  21%|██        | 8/38 [00:00<00:01, 29.36batch/s, loss=50.0000]"
     ]
    },
    {
     "name": "stdout",
     "output_type": "stream",
     "text": [
      "DEBUG: scores.shape = torch.Size([8, 16])\n"
     ]
    },
    {
     "name": "stderr",
     "output_type": "stream",
     "text": [
      "Epoch 46:  21%|██        | 8/38 [00:00<00:01, 29.36batch/s, loss=62.5000]"
     ]
    },
    {
     "name": "stdout",
     "output_type": "stream",
     "text": [
      "DEBUG: scores.shape = torch.Size([8, 16])\n",
      "DEBUG: scores.shape = torch.Size([8, 16])\n"
     ]
    },
    {
     "name": "stderr",
     "output_type": "stream",
     "text": [
      "Epoch 46:  32%|███▏      | 12/38 [00:00<00:00, 31.59batch/s, loss=87.5000]"
     ]
    },
    {
     "name": "stdout",
     "output_type": "stream",
     "text": [
      "DEBUG: scores.shape = torch.Size([8, 16])\n",
      "DEBUG: scores.shape = torch.Size([8, 16])\n"
     ]
    },
    {
     "name": "stderr",
     "output_type": "stream",
     "text": [
      "Epoch 46:  32%|███▏      | 12/38 [00:00<00:00, 31.59batch/s, loss=50.0000]"
     ]
    },
    {
     "name": "stdout",
     "output_type": "stream",
     "text": [
      "DEBUG: scores.shape = torch.Size([8, 16])\n",
      "DEBUG: scores.shape = torch.Size([8, 16])\n"
     ]
    },
    {
     "name": "stderr",
     "output_type": "stream",
     "text": [
      "Epoch 46:  42%|████▏     | 16/38 [00:00<00:00, 30.72batch/s, loss=50.0000]"
     ]
    },
    {
     "name": "stdout",
     "output_type": "stream",
     "text": [
      "DEBUG: scores.shape = torch.Size([8, 16])\n"
     ]
    },
    {
     "name": "stderr",
     "output_type": "stream",
     "text": [
      "Epoch 46:  42%|████▏     | 16/38 [00:00<00:00, 30.72batch/s, loss=62.5000]"
     ]
    },
    {
     "name": "stdout",
     "output_type": "stream",
     "text": [
      "DEBUG: scores.shape = torch.Size([8, 16])\n"
     ]
    },
    {
     "name": "stderr",
     "output_type": "stream",
     "text": [
      "Epoch 46:  42%|████▏     | 16/38 [00:00<00:00, 30.72batch/s, loss=62.5000]"
     ]
    },
    {
     "name": "stdout",
     "output_type": "stream",
     "text": [
      "DEBUG: scores.shape = torch.Size([8, 16])\n",
      "DEBUG: scores.shape = torch.Size([8, 16])\n"
     ]
    },
    {
     "name": "stderr",
     "output_type": "stream",
     "text": [
      "Epoch 46:  53%|█████▎    | 20/38 [00:00<00:00, 30.80batch/s, loss=25.0000]"
     ]
    },
    {
     "name": "stdout",
     "output_type": "stream",
     "text": [
      "DEBUG: scores.shape = torch.Size([8, 16])\n",
      "DEBUG: scores.shape = torch.Size([8, 16])\n",
      "DEBUG: scores.shape = torch.Size([8, 16])\n"
     ]
    },
    {
     "name": "stderr",
     "output_type": "stream",
     "text": [
      "Epoch 46:  53%|█████▎    | 20/38 [00:00<00:00, 30.80batch/s, loss=75.0000]"
     ]
    },
    {
     "name": "stdout",
     "output_type": "stream",
     "text": [
      "DEBUG: scores.shape = torch.Size([8, 16])\n"
     ]
    },
    {
     "name": "stderr",
     "output_type": "stream",
     "text": [
      "Epoch 46:  63%|██████▎   | 24/38 [00:00<00:00, 29.33batch/s, loss=50.0000]"
     ]
    },
    {
     "name": "stdout",
     "output_type": "stream",
     "text": [
      "DEBUG: scores.shape = torch.Size([8, 16])\n",
      "DEBUG: scores.shape = torch.Size([8, 16])\n"
     ]
    },
    {
     "name": "stderr",
     "output_type": "stream",
     "text": [
      "Epoch 46:  71%|███████   | 27/38 [00:00<00:00, 28.89batch/s, loss=50.0000]"
     ]
    },
    {
     "name": "stdout",
     "output_type": "stream",
     "text": [
      "DEBUG: scores.shape = torch.Size([8, 16])\n",
      "DEBUG: scores.shape = torch.Size([8, 16])\n",
      "DEBUG: scores.shape = torch.Size([8, 16])\n"
     ]
    },
    {
     "name": "stderr",
     "output_type": "stream",
     "text": [
      "Epoch 46:  71%|███████   | 27/38 [00:00<00:00, 28.89batch/s, loss=37.5000]"
     ]
    },
    {
     "name": "stdout",
     "output_type": "stream",
     "text": [
      "DEBUG: scores.shape = torch.Size([8, 16])\n",
      "DEBUG: scores.shape = torch.Size([8, 16])\n"
     ]
    },
    {
     "name": "stderr",
     "output_type": "stream",
     "text": [
      "Epoch 46:  82%|████████▏ | 31/38 [00:01<00:00, 29.89batch/s, loss=50.0000]"
     ]
    },
    {
     "name": "stdout",
     "output_type": "stream",
     "text": [
      "DEBUG: scores.shape = torch.Size([8, 16])\n",
      "DEBUG: scores.shape = torch.Size([8, 16])\n"
     ]
    },
    {
     "name": "stderr",
     "output_type": "stream",
     "text": [
      "Epoch 46:  89%|████████▉ | 34/38 [00:01<00:00, 29.88batch/s, loss=25.0000]"
     ]
    },
    {
     "name": "stdout",
     "output_type": "stream",
     "text": [
      "DEBUG: scores.shape = torch.Size([8, 16])\n",
      "DEBUG: scores.shape = torch.Size([8, 16])\n",
      "DEBUG: scores.shape = torch.Size([8, 16])\n"
     ]
    },
    {
     "name": "stderr",
     "output_type": "stream",
     "text": [
      "Epoch 46:  89%|████████▉ | 34/38 [00:01<00:00, 29.88batch/s, loss=50.0000]"
     ]
    },
    {
     "name": "stdout",
     "output_type": "stream",
     "text": [
      "DEBUG: scores.shape = torch.Size([8, 16])\n",
      "DEBUG: scores.shape = torch.Size([4, 16])\n"
     ]
    },
    {
     "name": "stderr",
     "output_type": "stream",
     "text": [
      "Epoch 46: 100%|██████████| 38/38 [00:01<00:00, 30.56batch/s, loss=50.0000]\n"
     ]
    },
    {
     "name": "stdout",
     "output_type": "stream",
     "text": [
      "Epoch 46, Loss: 50.0000\n"
     ]
    },
    {
     "name": "stderr",
     "output_type": "stream",
     "text": [
      "Epoch 47:   0%|          | 0/38 [00:00<?, ?batch/s, loss=75.0000]"
     ]
    },
    {
     "name": "stdout",
     "output_type": "stream",
     "text": [
      "DEBUG: scores.shape = torch.Size([8, 16])\n",
      "DEBUG: scores.shape = torch.Size([8, 16])\n"
     ]
    },
    {
     "name": "stderr",
     "output_type": "stream",
     "text": [
      "Epoch 47:   8%|▊         | 3/38 [00:00<00:01, 28.08batch/s, loss=62.5000]"
     ]
    },
    {
     "name": "stdout",
     "output_type": "stream",
     "text": [
      "DEBUG: scores.shape = torch.Size([8, 16])\n",
      "DEBUG: scores.shape = torch.Size([8, 16])\n"
     ]
    },
    {
     "name": "stderr",
     "output_type": "stream",
     "text": [
      "Epoch 47:   8%|▊         | 3/38 [00:00<00:01, 28.08batch/s, loss=50.0000]"
     ]
    },
    {
     "name": "stdout",
     "output_type": "stream",
     "text": [
      "DEBUG: scores.shape = torch.Size([8, 16])\n",
      "DEBUG: scores.shape = torch.Size([8, 16])\n"
     ]
    },
    {
     "name": "stderr",
     "output_type": "stream",
     "text": [
      "Epoch 47:  16%|█▌        | 6/38 [00:00<00:01, 28.89batch/s, loss=25.0000]"
     ]
    },
    {
     "name": "stdout",
     "output_type": "stream",
     "text": [
      "DEBUG: scores.shape = torch.Size([8, 16])\n",
      "DEBUG: scores.shape = torch.Size([8, 16])\n"
     ]
    },
    {
     "name": "stderr",
     "output_type": "stream",
     "text": [
      "Epoch 47:  24%|██▎       | 9/38 [00:00<00:00, 29.29batch/s, loss=37.5000]"
     ]
    },
    {
     "name": "stdout",
     "output_type": "stream",
     "text": [
      "DEBUG: scores.shape = torch.Size([8, 16])\n",
      "DEBUG: scores.shape = torch.Size([8, 16])\n",
      "DEBUG: scores.shape = torch.Size([8, 16])\n"
     ]
    },
    {
     "name": "stderr",
     "output_type": "stream",
     "text": [
      "Epoch 47:  24%|██▎       | 9/38 [00:00<00:00, 29.29batch/s, loss=37.5000]"
     ]
    },
    {
     "name": "stdout",
     "output_type": "stream",
     "text": [
      "DEBUG: scores.shape = torch.Size([8, 16])\n",
      "DEBUG: scores.shape = torch.Size([8, 16])\n"
     ]
    },
    {
     "name": "stderr",
     "output_type": "stream",
     "text": [
      "Epoch 47:  34%|███▍      | 13/38 [00:00<00:00, 30.65batch/s, loss=25.0000]"
     ]
    },
    {
     "name": "stdout",
     "output_type": "stream",
     "text": [
      "DEBUG: scores.shape = torch.Size([8, 16])\n"
     ]
    },
    {
     "name": "stderr",
     "output_type": "stream",
     "text": [
      "Epoch 47:  34%|███▍      | 13/38 [00:00<00:00, 30.65batch/s, loss=50.0000]"
     ]
    },
    {
     "name": "stdout",
     "output_type": "stream",
     "text": [
      "DEBUG: scores.shape = torch.Size([8, 16])\n",
      "DEBUG: scores.shape = torch.Size([8, 16])\n",
      "DEBUG: scores.shape = torch.Size([8, 16])\n"
     ]
    },
    {
     "name": "stderr",
     "output_type": "stream",
     "text": [
      "Epoch 47:  45%|████▍     | 17/38 [00:00<00:00, 27.67batch/s, loss=62.5000]"
     ]
    },
    {
     "name": "stdout",
     "output_type": "stream",
     "text": [
      "DEBUG: scores.shape = torch.Size([8, 16])\n",
      "DEBUG: scores.shape = torch.Size([8, 16])\n"
     ]
    },
    {
     "name": "stderr",
     "output_type": "stream",
     "text": [
      "Epoch 47:  45%|████▍     | 17/38 [00:00<00:00, 27.67batch/s, loss=62.5000]"
     ]
    },
    {
     "name": "stdout",
     "output_type": "stream",
     "text": [
      "DEBUG: scores.shape = torch.Size([8, 16])\n"
     ]
    },
    {
     "name": "stderr",
     "output_type": "stream",
     "text": [
      "Epoch 47:  55%|█████▌    | 21/38 [00:00<00:00, 29.82batch/s, loss=62.5000]"
     ]
    },
    {
     "name": "stdout",
     "output_type": "stream",
     "text": [
      "DEBUG: scores.shape = torch.Size([8, 16])\n",
      "DEBUG: scores.shape = torch.Size([8, 16])\n",
      "DEBUG: scores.shape = torch.Size([8, 16])\n",
      "DEBUG: scores.shape = torch.Size([8, 16])\n",
      "DEBUG: scores.shape = torch.Size([8, 16])\n"
     ]
    },
    {
     "name": "stderr",
     "output_type": "stream",
     "text": [
      "Epoch 47:  66%|██████▌   | 25/38 [00:00<00:00, 31.73batch/s, loss=62.5000]"
     ]
    },
    {
     "name": "stdout",
     "output_type": "stream",
     "text": [
      "DEBUG: scores.shape = torch.Size([8, 16])\n"
     ]
    },
    {
     "name": "stderr",
     "output_type": "stream",
     "text": [
      "Epoch 47:  66%|██████▌   | 25/38 [00:00<00:00, 31.73batch/s, loss=62.5000]"
     ]
    },
    {
     "name": "stdout",
     "output_type": "stream",
     "text": [
      "DEBUG: scores.shape = torch.Size([8, 16])\n"
     ]
    },
    {
     "name": "stderr",
     "output_type": "stream",
     "text": [
      "Epoch 47:  76%|███████▋  | 29/38 [00:00<00:00, 32.27batch/s, loss=62.5000]"
     ]
    },
    {
     "name": "stdout",
     "output_type": "stream",
     "text": [
      "DEBUG: scores.shape = torch.Size([8, 16])\n",
      "DEBUG: scores.shape = torch.Size([8, 16])\n",
      "DEBUG: scores.shape = torch.Size([8, 16])\n",
      "DEBUG: scores.shape = torch.Size([8, 16])\n",
      "DEBUG: scores.shape = torch.Size([8, 16])\n"
     ]
    },
    {
     "name": "stderr",
     "output_type": "stream",
     "text": [
      "Epoch 47:  76%|███████▋  | 29/38 [00:01<00:00, 32.27batch/s, loss=25.0000]"
     ]
    },
    {
     "name": "stdout",
     "output_type": "stream",
     "text": [
      "DEBUG: scores.shape = torch.Size([8, 16])\n"
     ]
    },
    {
     "name": "stderr",
     "output_type": "stream",
     "text": [
      "Epoch 47:  87%|████████▋ | 33/38 [00:01<00:00, 33.11batch/s, loss=50.0000]"
     ]
    },
    {
     "name": "stdout",
     "output_type": "stream",
     "text": [
      "DEBUG: scores.shape = torch.Size([8, 16])\n"
     ]
    },
    {
     "name": "stderr",
     "output_type": "stream",
     "text": [
      "Epoch 47: 100%|██████████| 38/38 [00:01<00:00, 31.71batch/s, loss=50.0000]\n"
     ]
    },
    {
     "name": "stdout",
     "output_type": "stream",
     "text": [
      "DEBUG: scores.shape = torch.Size([8, 16])\n",
      "DEBUG: scores.shape = torch.Size([8, 16])\n",
      "DEBUG: scores.shape = torch.Size([8, 16])\n",
      "DEBUG: scores.shape = torch.Size([4, 16])\n",
      "Epoch 47, Loss: 50.0000\n"
     ]
    },
    {
     "name": "stderr",
     "output_type": "stream",
     "text": [
      "Epoch 48:   0%|          | 0/38 [00:00<?, ?batch/s]"
     ]
    },
    {
     "name": "stdout",
     "output_type": "stream",
     "text": [
      "DEBUG: scores.shape = torch.Size([8, 16])\n"
     ]
    },
    {
     "name": "stderr",
     "output_type": "stream",
     "text": [
      "Epoch 48:   0%|          | 0/38 [00:00<?, ?batch/s, loss=62.5000]"
     ]
    },
    {
     "name": "stdout",
     "output_type": "stream",
     "text": [
      "DEBUG: scores.shape = torch.Size([8, 16])\n"
     ]
    },
    {
     "name": "stderr",
     "output_type": "stream",
     "text": [
      "Epoch 48:   0%|          | 0/38 [00:00<?, ?batch/s, loss=50.0000]"
     ]
    },
    {
     "name": "stdout",
     "output_type": "stream",
     "text": [
      "DEBUG: scores.shape = torch.Size([8, 16])\n"
     ]
    },
    {
     "name": "stderr",
     "output_type": "stream",
     "text": [
      "Epoch 48:   8%|▊         | 3/38 [00:00<00:01, 29.48batch/s, loss=62.5000]"
     ]
    },
    {
     "name": "stdout",
     "output_type": "stream",
     "text": [
      "DEBUG: scores.shape = torch.Size([8, 16])\n",
      "DEBUG: scores.shape = torch.Size([8, 16])\n",
      "DEBUG: scores.shape = torch.Size([8, 16])\n"
     ]
    },
    {
     "name": "stderr",
     "output_type": "stream",
     "text": [
      "Epoch 48:  16%|█▌        | 6/38 [00:00<00:01, 29.50batch/s, loss=37.5000]"
     ]
    },
    {
     "name": "stdout",
     "output_type": "stream",
     "text": [
      "DEBUG: scores.shape = torch.Size([8, 16])\n",
      "DEBUG: scores.shape = torch.Size([8, 16])\n",
      "DEBUG: scores.shape = torch.Size([8, 16])\n"
     ]
    },
    {
     "name": "stderr",
     "output_type": "stream",
     "text": [
      "Epoch 48:  16%|█▌        | 6/38 [00:00<00:01, 29.50batch/s, loss=50.0000]"
     ]
    },
    {
     "name": "stdout",
     "output_type": "stream",
     "text": [
      "DEBUG: scores.shape = torch.Size([8, 16])\n"
     ]
    },
    {
     "name": "stderr",
     "output_type": "stream",
     "text": [
      "Epoch 48:  26%|██▋       | 10/38 [00:00<00:00, 31.01batch/s, loss=25.0000]"
     ]
    },
    {
     "name": "stdout",
     "output_type": "stream",
     "text": [
      "DEBUG: scores.shape = torch.Size([8, 16])\n",
      "DEBUG: scores.shape = torch.Size([8, 16])\n",
      "DEBUG: scores.shape = torch.Size([8, 16])\n"
     ]
    },
    {
     "name": "stderr",
     "output_type": "stream",
     "text": [
      "Epoch 48:  37%|███▋      | 14/38 [00:00<00:00, 31.78batch/s, loss=75.0000]"
     ]
    },
    {
     "name": "stdout",
     "output_type": "stream",
     "text": [
      "DEBUG: scores.shape = torch.Size([8, 16])\n",
      "DEBUG: scores.shape = torch.Size([8, 16])\n"
     ]
    },
    {
     "name": "stderr",
     "output_type": "stream",
     "text": [
      "Epoch 48:  37%|███▋      | 14/38 [00:00<00:00, 31.78batch/s, loss=50.0000]"
     ]
    },
    {
     "name": "stdout",
     "output_type": "stream",
     "text": [
      "DEBUG: scores.shape = torch.Size([8, 16])"
     ]
    },
    {
     "name": "stderr",
     "output_type": "stream",
     "text": [
      "Epoch 48:  37%|███▋      | 14/38 [00:00<00:00, 31.78batch/s, loss=37.5000]"
     ]
    },
    {
     "name": "stdout",
     "output_type": "stream",
     "text": [
      "\n"
     ]
    },
    {
     "name": "stderr",
     "output_type": "stream",
     "text": [
      "Epoch 48:  47%|████▋     | 18/38 [00:00<00:00, 28.68batch/s, loss=50.0000]"
     ]
    },
    {
     "name": "stdout",
     "output_type": "stream",
     "text": [
      "DEBUG: scores.shape = torch.Size([8, 16])\n",
      "DEBUG: scores.shape = torch.Size([8, 16])\n",
      "DEBUG: scores.shape = torch.Size([8, 16])\n"
     ]
    },
    {
     "name": "stderr",
     "output_type": "stream",
     "text": [
      "Epoch 48:  47%|████▋     | 18/38 [00:00<00:00, 28.68batch/s, loss=37.5000]"
     ]
    },
    {
     "name": "stdout",
     "output_type": "stream",
     "text": [
      "DEBUG: scores.shape = torch.Size([8, 16])\n",
      "DEBUG: scores.shape = torch.Size([8, 16])\n"
     ]
    },
    {
     "name": "stderr",
     "output_type": "stream",
     "text": [
      "Epoch 48:  58%|█████▊    | 22/38 [00:00<00:00, 29.58batch/s, loss=75.0000]"
     ]
    },
    {
     "name": "stdout",
     "output_type": "stream",
     "text": [
      "DEBUG: scores.shape = torch.Size([8, 16])\n",
      "DEBUG: scores.shape = torch.Size([8, 16])\n"
     ]
    },
    {
     "name": "stderr",
     "output_type": "stream",
     "text": [
      "Epoch 48:  58%|█████▊    | 22/38 [00:00<00:00, 29.58batch/s, loss=25.0000]"
     ]
    },
    {
     "name": "stdout",
     "output_type": "stream",
     "text": [
      "DEBUG: scores.shape = torch.Size([8, 16])\n",
      "DEBUG: scores.shape = torch.Size([8, 16])\n"
     ]
    },
    {
     "name": "stderr",
     "output_type": "stream",
     "text": [
      "Epoch 48:  66%|██████▌   | 25/38 [00:00<00:00, 29.57batch/s, loss=50.0000]"
     ]
    },
    {
     "name": "stdout",
     "output_type": "stream",
     "text": [
      "DEBUG: scores.shape = torch.Size([8, 16])\n",
      "DEBUG: scores.shape = torch.Size([8, 16])\n"
     ]
    },
    {
     "name": "stderr",
     "output_type": "stream",
     "text": [
      "Epoch 48:  76%|███████▋  | 29/38 [00:00<00:00, 31.27batch/s, loss=25.0000]"
     ]
    },
    {
     "name": "stdout",
     "output_type": "stream",
     "text": [
      "DEBUG: scores.shape = torch.Size([8, 16])\n",
      "DEBUG: scores.shape = torch.Size([8, 16])\n"
     ]
    },
    {
     "name": "stderr",
     "output_type": "stream",
     "text": [
      "Epoch 48:  76%|███████▋  | 29/38 [00:01<00:00, 31.27batch/s, loss=50.0000]"
     ]
    },
    {
     "name": "stdout",
     "output_type": "stream",
     "text": [
      "DEBUG: scores.shape = torch.Size([8, 16])\n",
      "DEBUG: scores.shape = torch.Size([8, 16])\n"
     ]
    },
    {
     "name": "stderr",
     "output_type": "stream",
     "text": [
      "Epoch 48:  76%|███████▋  | 29/38 [00:01<00:00, 31.27batch/s, loss=50.0000]"
     ]
    },
    {
     "name": "stdout",
     "output_type": "stream",
     "text": [
      "DEBUG: scores.shape = torch.Size([8, 16])\n",
      "DEBUG: scores.shape = torch.Size([8, 16])\n"
     ]
    },
    {
     "name": "stderr",
     "output_type": "stream",
     "text": [
      "Epoch 48:  87%|████████▋ | 33/38 [00:01<00:00, 28.56batch/s, loss=25.0000]"
     ]
    },
    {
     "name": "stdout",
     "output_type": "stream",
     "text": [
      "DEBUG: scores.shape = torch.Size([8, 16])\n",
      "DEBUG: scores.shape = torch.Size([8, 16])\n"
     ]
    },
    {
     "name": "stderr",
     "output_type": "stream",
     "text": [
      "Epoch 48:  97%|█████████▋| 37/38 [00:01<00:00, 30.03batch/s, loss=50.0000]"
     ]
    },
    {
     "name": "stdout",
     "output_type": "stream",
     "text": [
      "DEBUG: scores.shape = torch.Size([8, 16])\n",
      "DEBUG: scores.shape = torch.Size([8, 16])\n",
      "DEBUG: scores.shape = torch.Size([4, 16])\n"
     ]
    },
    {
     "name": "stderr",
     "output_type": "stream",
     "text": [
      "Epoch 48: 100%|██████████| 38/38 [00:01<00:00, 30.21batch/s, loss=50.0000]\n"
     ]
    },
    {
     "name": "stdout",
     "output_type": "stream",
     "text": [
      "Epoch 48, Loss: 50.0000\n"
     ]
    },
    {
     "name": "stderr",
     "output_type": "stream",
     "text": [
      "Epoch 49:   0%|          | 0/38 [00:00<?, ?batch/s, loss=37.5000]"
     ]
    },
    {
     "name": "stdout",
     "output_type": "stream",
     "text": [
      "DEBUG: scores.shape = torch.Size([8, 16])\n",
      "DEBUG: scores.shape = torch.Size([8, 16])\n",
      "DEBUG: scores.shape = torch.Size([8, 16])\n"
     ]
    },
    {
     "name": "stderr",
     "output_type": "stream",
     "text": [
      "Epoch 49:   0%|          | 0/38 [00:00<?, ?batch/s, loss=25.0000]"
     ]
    },
    {
     "name": "stdout",
     "output_type": "stream",
     "text": [
      "DEBUG: scores.shape = torch.Size([8, 16])\n"
     ]
    },
    {
     "name": "stderr",
     "output_type": "stream",
     "text": [
      "Epoch 49:  11%|█         | 4/38 [00:00<00:01, 32.17batch/s, loss=37.5000]"
     ]
    },
    {
     "name": "stdout",
     "output_type": "stream",
     "text": [
      "DEBUG: scores.shape = torch.Size([8, 16])\n",
      "DEBUG: scores.shape = torch.Size([8, 16])\n",
      "DEBUG: scores.shape = torch.Size([8, 16])\n"
     ]
    },
    {
     "name": "stderr",
     "output_type": "stream",
     "text": [
      "Epoch 49:  21%|██        | 8/38 [00:00<00:00, 31.44batch/s, loss=37.5000]"
     ]
    },
    {
     "name": "stdout",
     "output_type": "stream",
     "text": [
      "DEBUG: scores.shape = torch.Size([8, 16])\n",
      "DEBUG: scores.shape = torch.Size([8, 16])\n",
      "DEBUG: scores.shape = torch.Size([8, 16])\n"
     ]
    },
    {
     "name": "stderr",
     "output_type": "stream",
     "text": [
      "Epoch 49:  32%|███▏      | 12/38 [00:00<00:00, 31.10batch/s, loss=37.5000]"
     ]
    },
    {
     "name": "stdout",
     "output_type": "stream",
     "text": [
      "DEBUG: scores.shape = torch.Size([8, 16])\n",
      "DEBUG: scores.shape = torch.Size([8, 16])\n",
      "DEBUG: scores.shape = torch.Size([8, 16])\n"
     ]
    },
    {
     "name": "stderr",
     "output_type": "stream",
     "text": [
      "Epoch 49:  32%|███▏      | 12/38 [00:00<00:00, 31.10batch/s, loss=62.5000]"
     ]
    },
    {
     "name": "stdout",
     "output_type": "stream",
     "text": [
      "DEBUG: scores.shape = torch.Size([8, 16])\n"
     ]
    },
    {
     "name": "stderr",
     "output_type": "stream",
     "text": [
      "Epoch 49:  42%|████▏     | 16/38 [00:00<00:00, 32.08batch/s, loss=37.5000]"
     ]
    },
    {
     "name": "stdout",
     "output_type": "stream",
     "text": [
      "DEBUG: scores.shape = torch.Size([8, 16])\n",
      "DEBUG: scores.shape = torch.Size([8, 16])\n",
      "DEBUG: scores.shape = torch.Size([8, 16])\n"
     ]
    },
    {
     "name": "stderr",
     "output_type": "stream",
     "text": [
      "Epoch 49:  42%|████▏     | 16/38 [00:00<00:00, 32.08batch/s, loss=62.5000]"
     ]
    },
    {
     "name": "stdout",
     "output_type": "stream",
     "text": [
      "DEBUG: scores.shape = torch.Size([8, 16])\n",
      "DEBUG: scores.shape = torch.Size([8, 16])\n",
      "DEBUG: scores.shape = torch.Size([8, 16])\n"
     ]
    },
    {
     "name": "stderr",
     "output_type": "stream",
     "text": [
      "Epoch 49:  53%|█████▎    | 20/38 [00:00<00:00, 32.46batch/s, loss=62.5000]"
     ]
    },
    {
     "name": "stdout",
     "output_type": "stream",
     "text": [
      "DEBUG: scores.shape = torch.Size([8, 16])\n"
     ]
    },
    {
     "name": "stderr",
     "output_type": "stream",
     "text": [
      "Epoch 49:  53%|█████▎    | 20/38 [00:00<00:00, 32.46batch/s, loss=37.5000]"
     ]
    },
    {
     "name": "stdout",
     "output_type": "stream",
     "text": [
      "DEBUG: scores.shape = torch.Size([8, 16])\n",
      "DEBUG: scores.shape = torch.Size([8, 16])\n",
      "DEBUG: scores.shape = torch.Size([8, 16])\n"
     ]
    },
    {
     "name": "stderr",
     "output_type": "stream",
     "text": [
      "Epoch 49:  63%|██████▎   | 24/38 [00:00<00:00, 33.20batch/s, loss=50.0000]"
     ]
    },
    {
     "name": "stdout",
     "output_type": "stream",
     "text": [
      "DEBUG: scores.shape = torch.Size([8, 16])\n",
      "DEBUG: scores.shape = torch.Size([8, 16])\n",
      "DEBUG: scores.shape = torch.Size([8, 16])\n",
      "DEBUG: scores.shape = torch.Size([8, 16])\n"
     ]
    },
    {
     "name": "stderr",
     "output_type": "stream",
     "text": [
      "Epoch 49:  74%|███████▎  | 28/38 [00:00<00:00, 32.03batch/s, loss=62.5000]"
     ]
    },
    {
     "name": "stdout",
     "output_type": "stream",
     "text": [
      "DEBUG: scores.shape = torch.Size([8, 16])\n",
      "DEBUG: scores.shape = torch.Size([8, 16])\n"
     ]
    },
    {
     "name": "stderr",
     "output_type": "stream",
     "text": [
      "Epoch 49:  84%|████████▍ | 32/38 [00:01<00:00, 30.46batch/s, loss=37.5000]"
     ]
    },
    {
     "name": "stdout",
     "output_type": "stream",
     "text": [
      "DEBUG: scores.shape = torch.Size([8, 16])\n",
      "DEBUG: scores.shape = torch.Size([8, 16])\n",
      "DEBUG: scores.shape = torch.Size([8, 16])\n"
     ]
    },
    {
     "name": "stderr",
     "output_type": "stream",
     "text": [
      "Epoch 49:  84%|████████▍ | 32/38 [00:01<00:00, 30.46batch/s, loss=12.5000]"
     ]
    },
    {
     "name": "stdout",
     "output_type": "stream",
     "text": [
      "DEBUG: scores.shape = torch.Size([8, 16])\n"
     ]
    },
    {
     "name": "stderr",
     "output_type": "stream",
     "text": [
      "Epoch 49:  95%|█████████▍| 36/38 [00:01<00:00, 31.16batch/s, loss=50.0000]"
     ]
    },
    {
     "name": "stdout",
     "output_type": "stream",
     "text": [
      "DEBUG: scores.shape = torch.Size([8, 16])\n",
      "DEBUG: scores.shape = torch.Size([8, 16])\n",
      "DEBUG: scores.shape = torch.Size([8, 16])\n"
     ]
    },
    {
     "name": "stderr",
     "output_type": "stream",
     "text": [
      "Epoch 49: 100%|██████████| 38/38 [00:01<00:00, 32.46batch/s, loss=75.0000]\n"
     ]
    },
    {
     "name": "stdout",
     "output_type": "stream",
     "text": [
      "DEBUG: scores.shape = torch.Size([4, 16])\n",
      "Epoch 49, Loss: 50.3289\n"
     ]
    },
    {
     "name": "stderr",
     "output_type": "stream",
     "text": [
      "Epoch 50:   0%|          | 0/38 [00:00<?, ?batch/s, loss=62.5000]"
     ]
    },
    {
     "name": "stdout",
     "output_type": "stream",
     "text": [
      "DEBUG: scores.shape = torch.Size([8, 16])\n",
      "DEBUG: scores.shape = torch.Size([8, 16])\n",
      "DEBUG: scores.shape = torch.Size([8, 16])\n"
     ]
    },
    {
     "name": "stderr",
     "output_type": "stream",
     "text": [
      "Epoch 50:   0%|          | 0/38 [00:00<?, ?batch/s, loss=50.0000]"
     ]
    },
    {
     "name": "stdout",
     "output_type": "stream",
     "text": [
      "DEBUG: scores.shape = torch.Size([8, 16])\n"
     ]
    },
    {
     "name": "stderr",
     "output_type": "stream",
     "text": [
      "Epoch 50:  11%|█         | 4/38 [00:00<00:01, 33.25batch/s, loss=50.0000]"
     ]
    },
    {
     "name": "stdout",
     "output_type": "stream",
     "text": [
      "DEBUG: scores.shape = torch.Size([8, 16])\n",
      "DEBUG: scores.shape = torch.Size([8, 16])\n",
      "DEBUG: scores.shape = torch.Size([8, 16])\n"
     ]
    },
    {
     "name": "stderr",
     "output_type": "stream",
     "text": [
      "Epoch 50:  21%|██        | 8/38 [00:00<00:00, 32.87batch/s, loss=62.5000]"
     ]
    },
    {
     "name": "stdout",
     "output_type": "stream",
     "text": [
      "DEBUG: scores.shape = torch.Size([8, 16])\n",
      "DEBUG: scores.shape = torch.Size([8, 16])\n",
      "DEBUG: scores.shape = torch.Size([8, 16])\n"
     ]
    },
    {
     "name": "stderr",
     "output_type": "stream",
     "text": [
      "Epoch 50:  21%|██        | 8/38 [00:00<00:00, 32.87batch/s, loss=62.5000]"
     ]
    },
    {
     "name": "stdout",
     "output_type": "stream",
     "text": [
      "DEBUG: scores.shape = torch.Size([8, 16])\n"
     ]
    },
    {
     "name": "stderr",
     "output_type": "stream",
     "text": [
      "Epoch 50:  32%|███▏      | 12/38 [00:00<00:00, 32.42batch/s, loss=37.5000]"
     ]
    },
    {
     "name": "stdout",
     "output_type": "stream",
     "text": [
      "DEBUG: scores.shape = torch.Size([8, 16])\n",
      "DEBUG: scores.shape = torch.Size([8, 16])\n",
      "DEBUG: scores.shape = torch.Size([8, 16])\n"
     ]
    },
    {
     "name": "stderr",
     "output_type": "stream",
     "text": [
      "Epoch 50:  32%|███▏      | 12/38 [00:00<00:00, 32.42batch/s, loss=62.5000]"
     ]
    },
    {
     "name": "stdout",
     "output_type": "stream",
     "text": [
      "DEBUG: scores.shape = torch.Size([8, 16])\n",
      "DEBUG: scores.shape = torch.Size([8, 16])\n"
     ]
    },
    {
     "name": "stderr",
     "output_type": "stream",
     "text": [
      "Epoch 50:  42%|████▏     | 16/38 [00:00<00:00, 30.90batch/s, loss=75.0000]"
     ]
    },
    {
     "name": "stdout",
     "output_type": "stream",
     "text": [
      "DEBUG: scores.shape = torch.Size([8, 16])\n"
     ]
    },
    {
     "name": "stderr",
     "output_type": "stream",
     "text": [
      "Epoch 50:  42%|████▏     | 16/38 [00:00<00:00, 30.90batch/s, loss=50.0000]"
     ]
    },
    {
     "name": "stdout",
     "output_type": "stream",
     "text": [
      "DEBUG: scores.shape = torch.Size([8, 16])\n",
      "DEBUG: scores.shape = torch.Size([8, 16])\n"
     ]
    },
    {
     "name": "stderr",
     "output_type": "stream",
     "text": [
      "Epoch 50:  42%|████▏     | 16/38 [00:00<00:00, 30.90batch/s, loss=50.0000]"
     ]
    },
    {
     "name": "stdout",
     "output_type": "stream",
     "text": [
      "DEBUG: scores.shape = torch.Size([8, 16])\n"
     ]
    },
    {
     "name": "stderr",
     "output_type": "stream",
     "text": [
      "Epoch 50:  53%|█████▎    | 20/38 [00:00<00:00, 30.22batch/s, loss=50.0000]"
     ]
    },
    {
     "name": "stdout",
     "output_type": "stream",
     "text": [
      "DEBUG: scores.shape = torch.Size([8, 16])\n",
      "DEBUG: scores.shape = torch.Size([8, 16])\n",
      "DEBUG: scores.shape = torch.Size([8, 16])\n"
     ]
    },
    {
     "name": "stderr",
     "output_type": "stream",
     "text": [
      "Epoch 50:  63%|██████▎   | 24/38 [00:00<00:00, 29.92batch/s, loss=37.5000]"
     ]
    },
    {
     "name": "stdout",
     "output_type": "stream",
     "text": [
      "DEBUG: scores.shape = torch.Size([8, 16])\n",
      "DEBUG: scores.shape = torch.Size([8, 16])\n"
     ]
    },
    {
     "name": "stderr",
     "output_type": "stream",
     "text": [
      "Epoch 50:  63%|██████▎   | 24/38 [00:00<00:00, 29.92batch/s, loss=50.0000]"
     ]
    },
    {
     "name": "stdout",
     "output_type": "stream",
     "text": [
      "DEBUG: scores.shape = torch.Size([8, 16])\n"
     ]
    },
    {
     "name": "stderr",
     "output_type": "stream",
     "text": [
      "Epoch 50:  74%|███████▎  | 28/38 [00:00<00:00, 30.29batch/s, loss=50.0000]"
     ]
    },
    {
     "name": "stdout",
     "output_type": "stream",
     "text": [
      "DEBUG: scores.shape = torch.Size([8, 16])\n",
      "DEBUG: scores.shape = torch.Size([8, 16])\n",
      "DEBUG: scores.shape = torch.Size([8, 16])\n",
      "DEBUG: scores.shape = torch.Size([8, 16])\n"
     ]
    },
    {
     "name": "stderr",
     "output_type": "stream",
     "text": [
      "Epoch 50:  74%|███████▎  | 28/38 [00:01<00:00, 30.29batch/s, loss=25.0000]"
     ]
    },
    {
     "name": "stdout",
     "output_type": "stream",
     "text": [
      "DEBUG: scores.shape = torch.Size([8, 16])\n",
      "DEBUG: scores.shape = torch.Size([8, 16])\n"
     ]
    },
    {
     "name": "stderr",
     "output_type": "stream",
     "text": [
      "Epoch 50:  84%|████████▍ | 32/38 [00:01<00:00, 29.05batch/s, loss=75.0000]"
     ]
    },
    {
     "name": "stdout",
     "output_type": "stream",
     "text": [
      "DEBUG: scores.shape = torch.Size([8, 16])\n",
      "DEBUG: scores.shape = torch.Size([8, 16])\n",
      "DEBUG: scores.shape = torch.Size([8, 16])\n"
     ]
    },
    {
     "name": "stderr",
     "output_type": "stream",
     "text": [
      "Epoch 50:  95%|█████████▍| 36/38 [00:01<00:00, 30.57batch/s, loss=62.5000]"
     ]
    },
    {
     "name": "stdout",
     "output_type": "stream",
     "text": [
      "DEBUG: scores.shape = torch.Size([8, 16])\n",
      "DEBUG: scores.shape = torch.Size([8, 16])\n"
     ]
    },
    {
     "name": "stderr",
     "output_type": "stream",
     "text": [
      "Epoch 50: 100%|██████████| 38/38 [00:01<00:00, 30.91batch/s, loss=50.0000]\n"
     ]
    },
    {
     "name": "stdout",
     "output_type": "stream",
     "text": [
      "DEBUG: scores.shape = torch.Size([4, 16])\n",
      "Epoch 50, Loss: 50.0000\n"
     ]
    },
    {
     "name": "stderr",
     "output_type": "stream",
     "text": [
      "Epoch 51:   0%|          | 0/38 [00:00<?, ?batch/s, loss=62.5000]"
     ]
    },
    {
     "name": "stdout",
     "output_type": "stream",
     "text": [
      "DEBUG: scores.shape = torch.Size([8, 16])\n",
      "DEBUG: scores.shape = torch.Size([8, 16])\n"
     ]
    },
    {
     "name": "stderr",
     "output_type": "stream",
     "text": [
      "Epoch 51:   0%|          | 0/38 [00:00<?, ?batch/s, loss=50.0000]"
     ]
    },
    {
     "name": "stdout",
     "output_type": "stream",
     "text": [
      "DEBUG: scores.shape = torch.Size([8, 16])\n",
      "DEBUG: scores.shape = torch.Size([8, 16])\n"
     ]
    },
    {
     "name": "stderr",
     "output_type": "stream",
     "text": [
      "Epoch 51:  11%|█         | 4/38 [00:00<00:01, 33.84batch/s, loss=25.0000]"
     ]
    },
    {
     "name": "stdout",
     "output_type": "stream",
     "text": [
      "DEBUG: scores.shape = torch.Size([8, 16])\n",
      "DEBUG: scores.shape = torch.Size([8, 16])\n",
      "DEBUG: scores.shape = torch.Size([8, 16])\n"
     ]
    },
    {
     "name": "stderr",
     "output_type": "stream",
     "text": [
      "Epoch 51:  21%|██        | 8/38 [00:00<00:00, 34.01batch/s, loss=62.5000]"
     ]
    },
    {
     "name": "stdout",
     "output_type": "stream",
     "text": [
      "DEBUG: scores.shape = torch.Size([8, 16])\n",
      "DEBUG: scores.shape = torch.Size([8, 16])\n"
     ]
    },
    {
     "name": "stderr",
     "output_type": "stream",
     "text": [
      "Epoch 51:  21%|██        | 8/38 [00:00<00:00, 34.01batch/s, loss=87.5000]"
     ]
    },
    {
     "name": "stdout",
     "output_type": "stream",
     "text": [
      "DEBUG: scores.shape = torch.Size([8, 16])\n",
      "DEBUG: scores.shape = torch.Size([8, 16])\n"
     ]
    },
    {
     "name": "stderr",
     "output_type": "stream",
     "text": [
      "Epoch 51:  32%|███▏      | 12/38 [00:00<00:00, 31.25batch/s, loss=62.5000]"
     ]
    },
    {
     "name": "stdout",
     "output_type": "stream",
     "text": [
      "DEBUG: scores.shape = torch.Size([8, 16])\n",
      "DEBUG: scores.shape = torch.Size([8, 16])\n"
     ]
    },
    {
     "name": "stderr",
     "output_type": "stream",
     "text": [
      "Epoch 51:  32%|███▏      | 12/38 [00:00<00:00, 31.25batch/s, loss=50.0000]"
     ]
    },
    {
     "name": "stdout",
     "output_type": "stream",
     "text": [
      "DEBUG: scores.shape = torch.Size([8, 16])\n",
      "DEBUG: scores.shape = torch.Size([8, 16])\n"
     ]
    },
    {
     "name": "stderr",
     "output_type": "stream",
     "text": [
      "Epoch 51:  42%|████▏     | 16/38 [00:00<00:00, 30.12batch/s, loss=50.0000]"
     ]
    },
    {
     "name": "stdout",
     "output_type": "stream",
     "text": [
      "DEBUG: scores.shape = torch.Size([8, 16])\n",
      "DEBUG: scores.shape = torch.Size([8, 16])\n"
     ]
    },
    {
     "name": "stderr",
     "output_type": "stream",
     "text": [
      "Epoch 51:  42%|████▏     | 16/38 [00:00<00:00, 30.12batch/s, loss=37.5000]"
     ]
    },
    {
     "name": "stdout",
     "output_type": "stream",
     "text": [
      "DEBUG: scores.shape = torch.Size([8, 16])\n",
      "DEBUG: scores.shape = torch.Size([8, 16])\n",
      "DEBUG: scores.shape = torch.Size([8, 16])\n"
     ]
    },
    {
     "name": "stderr",
     "output_type": "stream",
     "text": [
      "Epoch 51:  53%|█████▎    | 20/38 [00:00<00:00, 30.56batch/s, loss=50.0000]"
     ]
    },
    {
     "name": "stdout",
     "output_type": "stream",
     "text": [
      "DEBUG: scores.shape = torch.Size([8, 16])\n",
      "DEBUG: scores.shape = torch.Size([8, 16])\n"
     ]
    },
    {
     "name": "stderr",
     "output_type": "stream",
     "text": [
      "Epoch 51:  53%|█████▎    | 20/38 [00:00<00:00, 30.56batch/s, loss=50.0000]"
     ]
    },
    {
     "name": "stdout",
     "output_type": "stream",
     "text": [
      "DEBUG: scores.shape = torch.Size([8, 16])\n",
      "DEBUG: scores.shape = torch.Size([8, 16])\n"
     ]
    },
    {
     "name": "stderr",
     "output_type": "stream",
     "text": [
      "Epoch 51:  63%|██████▎   | 24/38 [00:00<00:00, 32.33batch/s, loss=37.5000]"
     ]
    },
    {
     "name": "stdout",
     "output_type": "stream",
     "text": [
      "DEBUG: scores.shape = torch.Size([8, 16])\n",
      "DEBUG: scores.shape = torch.Size([8, 16])\n",
      "DEBUG: scores.shape = torch.Size([8, 16])\n"
     ]
    },
    {
     "name": "stderr",
     "output_type": "stream",
     "text": [
      "Epoch 51:  74%|███████▎  | 28/38 [00:00<00:00, 32.80batch/s, loss=50.0000]"
     ]
    },
    {
     "name": "stdout",
     "output_type": "stream",
     "text": [
      "DEBUG: scores.shape = torch.Size([8, 16])\n",
      "DEBUG: scores.shape = torch.Size([8, 16])\n"
     ]
    },
    {
     "name": "stderr",
     "output_type": "stream",
     "text": [
      "Epoch 51:  74%|███████▎  | 28/38 [00:00<00:00, 32.80batch/s, loss=50.0000]"
     ]
    },
    {
     "name": "stdout",
     "output_type": "stream",
     "text": [
      "DEBUG: scores.shape = torch.Size([8, 16])\n",
      "DEBUG: scores.shape = torch.Size([8, 16])\n"
     ]
    },
    {
     "name": "stderr",
     "output_type": "stream",
     "text": [
      "Epoch 51:  84%|████████▍ | 32/38 [00:01<00:00, 31.45batch/s, loss=75.0000]"
     ]
    },
    {
     "name": "stdout",
     "output_type": "stream",
     "text": [
      "DEBUG: scores.shape = torch.Size([8, 16])\n",
      "DEBUG: scores.shape = torch.Size([8, 16])\n",
      "DEBUG: scores.shape = torch.Size([8, 16])\n"
     ]
    },
    {
     "name": "stderr",
     "output_type": "stream",
     "text": [
      "Epoch 51:  84%|████████▍ | 32/38 [00:01<00:00, 31.45batch/s, loss=37.5000]"
     ]
    },
    {
     "name": "stdout",
     "output_type": "stream",
     "text": [
      "DEBUG: scores.shape = torch.Size([8, 16])\n"
     ]
    },
    {
     "name": "stderr",
     "output_type": "stream",
     "text": [
      "Epoch 51:  95%|█████████▍| 36/38 [00:01<00:00, 31.67batch/s, loss=75.0000]"
     ]
    },
    {
     "name": "stdout",
     "output_type": "stream",
     "text": [
      "DEBUG: scores.shape = torch.Size([8, 16])\n",
      "DEBUG: scores.shape = torch.Size([8, 16])\n",
      "DEBUG: scores.shape = torch.Size([4, 16])\n"
     ]
    },
    {
     "name": "stderr",
     "output_type": "stream",
     "text": [
      "Epoch 51: 100%|██████████| 38/38 [00:01<00:00, 31.89batch/s, loss=75.0000]\n"
     ]
    },
    {
     "name": "stdout",
     "output_type": "stream",
     "text": [
      "Epoch 51, Loss: 50.3289\n"
     ]
    },
    {
     "name": "stderr",
     "output_type": "stream",
     "text": [
      "Epoch 52:   0%|          | 0/38 [00:00<?, ?batch/s, loss=25.0000]"
     ]
    },
    {
     "name": "stdout",
     "output_type": "stream",
     "text": [
      "DEBUG: scores.shape = torch.Size([8, 16])\n",
      "DEBUG: scores.shape = torch.Size([8, 16])\n",
      "DEBUG: scores.shape = torch.Size([8, 16])\n",
      "DEBUG: scores.shape = torch.Size([8, 16])\n"
     ]
    },
    {
     "name": "stderr",
     "output_type": "stream",
     "text": [
      "Epoch 52:  11%|█         | 4/38 [00:00<00:01, 30.28batch/s, loss=50.0000]"
     ]
    },
    {
     "name": "stdout",
     "output_type": "stream",
     "text": [
      "DEBUG: scores.shape = torch.Size([8, 16])\n",
      "DEBUG: scores.shape = torch.Size([8, 16])\n"
     ]
    },
    {
     "name": "stderr",
     "output_type": "stream",
     "text": [
      "Epoch 52:  11%|█         | 4/38 [00:00<00:01, 30.28batch/s, loss=50.0000]"
     ]
    },
    {
     "name": "stdout",
     "output_type": "stream",
     "text": [
      "DEBUG: scores.shape = torch.Size([8, 16])\n"
     ]
    },
    {
     "name": "stderr",
     "output_type": "stream",
     "text": [
      "Epoch 52:  21%|██        | 8/38 [00:00<00:00, 31.38batch/s, loss=50.0000]"
     ]
    },
    {
     "name": "stdout",
     "output_type": "stream",
     "text": [
      "DEBUG: scores.shape = torch.Size([8, 16])\n",
      "DEBUG: scores.shape = torch.Size([8, 16])\n",
      "DEBUG: scores.shape = torch.Size([8, 16])\n"
     ]
    },
    {
     "name": "stderr",
     "output_type": "stream",
     "text": [
      "Epoch 52:  21%|██        | 8/38 [00:00<00:00, 31.38batch/s, loss=75.0000]"
     ]
    },
    {
     "name": "stdout",
     "output_type": "stream",
     "text": [
      "DEBUG: scores.shape = torch.Size([8, 16])\n"
     ]
    },
    {
     "name": "stderr",
     "output_type": "stream",
     "text": [
      "Epoch 52:  32%|███▏      | 12/38 [00:00<00:00, 32.71batch/s, loss=62.5000]"
     ]
    },
    {
     "name": "stdout",
     "output_type": "stream",
     "text": [
      "DEBUG: scores.shape = torch.Size([8, 16])\n",
      "DEBUG: scores.shape = torch.Size([8, 16])\n"
     ]
    },
    {
     "name": "stderr",
     "output_type": "stream",
     "text": [
      "Epoch 52:  32%|███▏      | 12/38 [00:00<00:00, 32.71batch/s, loss=50.0000]"
     ]
    },
    {
     "name": "stdout",
     "output_type": "stream",
     "text": [
      "DEBUG: scores.shape = torch.Size([8, 16])\n"
     ]
    },
    {
     "name": "stderr",
     "output_type": "stream",
     "text": [
      "Epoch 52:  42%|████▏     | 16/38 [00:00<00:00, 33.08batch/s, loss=50.0000]"
     ]
    },
    {
     "name": "stdout",
     "output_type": "stream",
     "text": [
      "DEBUG: scores.shape = torch.Size([8, 16])\n",
      "DEBUG: scores.shape = torch.Size([8, 16])\n",
      "DEBUG: scores.shape = torch.Size([8, 16])\n"
     ]
    },
    {
     "name": "stderr",
     "output_type": "stream",
     "text": [
      "Epoch 52:  42%|████▏     | 16/38 [00:00<00:00, 33.08batch/s, loss=75.0000]"
     ]
    },
    {
     "name": "stdout",
     "output_type": "stream",
     "text": [
      "DEBUG: scores.shape = torch.Size([8, 16])\n"
     ]
    },
    {
     "name": "stderr",
     "output_type": "stream",
     "text": [
      "Epoch 52:  42%|████▏     | 16/38 [00:00<00:00, 33.08batch/s, loss=50.0000]"
     ]
    },
    {
     "name": "stdout",
     "output_type": "stream",
     "text": [
      "DEBUG: scores.shape = torch.Size([8, 16])\n",
      "DEBUG: scores.shape = torch.Size([8, 16])\n"
     ]
    },
    {
     "name": "stderr",
     "output_type": "stream",
     "text": [
      "Epoch 52:  53%|█████▎    | 20/38 [00:00<00:00, 29.79batch/s, loss=12.5000]"
     ]
    },
    {
     "name": "stdout",
     "output_type": "stream",
     "text": [
      "DEBUG: scores.shape = torch.Size([8, 16])\n",
      "DEBUG: scores.shape = torch.Size([8, 16])\n",
      "DEBUG: scores.shape = torch.Size([8, 16])\n"
     ]
    },
    {
     "name": "stderr",
     "output_type": "stream",
     "text": [
      "Epoch 52:  53%|█████▎    | 20/38 [00:00<00:00, 29.79batch/s, loss=25.0000]"
     ]
    },
    {
     "name": "stdout",
     "output_type": "stream",
     "text": [
      "DEBUG: scores.shape = torch.Size([8, 16])\n"
     ]
    },
    {
     "name": "stderr",
     "output_type": "stream",
     "text": [
      "Epoch 52:  63%|██████▎   | 24/38 [00:00<00:00, 29.99batch/s, loss=37.5000]"
     ]
    },
    {
     "name": "stdout",
     "output_type": "stream",
     "text": [
      "DEBUG: scores.shape = torch.Size([8, 16])\n",
      "DEBUG: scores.shape = torch.Size([8, 16])\n"
     ]
    },
    {
     "name": "stderr",
     "output_type": "stream",
     "text": [
      "Epoch 52:  74%|███████▎  | 28/38 [00:00<00:00, 29.79batch/s, loss=62.5000]"
     ]
    },
    {
     "name": "stdout",
     "output_type": "stream",
     "text": [
      "DEBUG: scores.shape = torch.Size([8, 16])\n",
      "DEBUG: scores.shape = torch.Size([8, 16])\n",
      "DEBUG: scores.shape = torch.Size([8, 16])\n"
     ]
    },
    {
     "name": "stderr",
     "output_type": "stream",
     "text": [
      "Epoch 52:  74%|███████▎  | 28/38 [00:01<00:00, 29.79batch/s, loss=37.5000]"
     ]
    },
    {
     "name": "stdout",
     "output_type": "stream",
     "text": [
      "DEBUG: scores.shape = torch.Size([8, 16])\n",
      "DEBUG: scores.shape = torch.Size([8, 16])\n"
     ]
    },
    {
     "name": "stderr",
     "output_type": "stream",
     "text": [
      "Epoch 52:  84%|████████▍ | 32/38 [00:01<00:00, 29.92batch/s, loss=12.5000]"
     ]
    },
    {
     "name": "stdout",
     "output_type": "stream",
     "text": [
      "DEBUG: scores.shape = torch.Size([8, 16])\n",
      "DEBUG: scores.shape = torch.Size([8, 16])\n"
     ]
    },
    {
     "name": "stderr",
     "output_type": "stream",
     "text": [
      "Epoch 52:  84%|████████▍ | 32/38 [00:01<00:00, 29.92batch/s, loss=12.5000]"
     ]
    },
    {
     "name": "stdout",
     "output_type": "stream",
     "text": [
      "DEBUG: scores.shape = torch.Size([8, 16])\n",
      "DEBUG: scores.shape = torch.Size([8, 16])\n",
      "DEBUG: scores.shape = torch.Size([8, 16])\n"
     ]
    },
    {
     "name": "stderr",
     "output_type": "stream",
     "text": [
      "Epoch 52:  95%|█████████▍| 36/38 [00:01<00:00, 30.03batch/s, loss=62.5000]"
     ]
    },
    {
     "name": "stdout",
     "output_type": "stream",
     "text": [
      "DEBUG: scores.shape = torch.Size([8, 16])\n"
     ]
    },
    {
     "name": "stderr",
     "output_type": "stream",
     "text": [
      "Epoch 52: 100%|██████████| 38/38 [00:01<00:00, 30.64batch/s, loss=0.0000] \n"
     ]
    },
    {
     "name": "stdout",
     "output_type": "stream",
     "text": [
      "DEBUG: scores.shape = torch.Size([4, 16])\n",
      "Epoch 52, Loss: 49.3421\n"
     ]
    },
    {
     "name": "stderr",
     "output_type": "stream",
     "text": [
      "Epoch 53:   0%|          | 0/38 [00:00<?, ?batch/s, loss=75.0000]"
     ]
    },
    {
     "name": "stdout",
     "output_type": "stream",
     "text": [
      "DEBUG: scores.shape = torch.Size([8, 16])\n",
      "DEBUG: scores.shape = torch.Size([8, 16])\n"
     ]
    },
    {
     "name": "stderr",
     "output_type": "stream",
     "text": [
      "Epoch 53:  11%|█         | 4/38 [00:00<00:00, 36.19batch/s, loss=37.5000]"
     ]
    },
    {
     "name": "stdout",
     "output_type": "stream",
     "text": [
      "DEBUG: scores.shape = torch.Size([8, 16])\n",
      "DEBUG: scores.shape = torch.Size([8, 16])\n",
      "DEBUG: scores.shape = torch.Size([8, 16])\n",
      "DEBUG: scores.shape = torch.Size([8, 16])\n"
     ]
    },
    {
     "name": "stderr",
     "output_type": "stream",
     "text": [
      "Epoch 53:  11%|█         | 4/38 [00:00<00:00, 36.19batch/s, loss=50.0000]"
     ]
    },
    {
     "name": "stdout",
     "output_type": "stream",
     "text": [
      "DEBUG: scores.shape = torch.Size([8, 16])\n"
     ]
    },
    {
     "name": "stderr",
     "output_type": "stream",
     "text": [
      "Epoch 53:  11%|█         | 4/38 [00:00<00:00, 36.19batch/s, loss=62.5000]"
     ]
    },
    {
     "name": "stdout",
     "output_type": "stream",
     "text": [
      "DEBUG: scores.shape = torch.Size([8, 16])\n"
     ]
    },
    {
     "name": "stderr",
     "output_type": "stream",
     "text": [
      "Epoch 53:  21%|██        | 8/38 [00:00<00:00, 30.37batch/s, loss=37.5000]"
     ]
    },
    {
     "name": "stdout",
     "output_type": "stream",
     "text": [
      "DEBUG: scores.shape = torch.Size([8, 16])\n",
      "DEBUG: scores.shape = torch.Size([8, 16])\n",
      "DEBUG: scores.shape = torch.Size([8, 16])\n",
      "DEBUG: scores.shape = torch.Size([8, 16])\n"
     ]
    },
    {
     "name": "stderr",
     "output_type": "stream",
     "text": [
      "Epoch 53:  32%|███▏      | 12/38 [00:00<00:00, 31.67batch/s, loss=50.0000]"
     ]
    },
    {
     "name": "stdout",
     "output_type": "stream",
     "text": [
      "DEBUG: scores.shape = torch.Size([8, 16])\n",
      "DEBUG: scores.shape = torch.Size([8, 16])\n"
     ]
    },
    {
     "name": "stderr",
     "output_type": "stream",
     "text": [
      "Epoch 53:  32%|███▏      | 12/38 [00:00<00:00, 31.67batch/s, loss=37.5000]"
     ]
    },
    {
     "name": "stdout",
     "output_type": "stream",
     "text": [
      "DEBUG: scores.shape = torch.Size([8, 16])\n"
     ]
    },
    {
     "name": "stderr",
     "output_type": "stream",
     "text": [
      "Epoch 53:  42%|████▏     | 16/38 [00:00<00:00, 30.81batch/s, loss=50.0000]"
     ]
    },
    {
     "name": "stdout",
     "output_type": "stream",
     "text": [
      "DEBUG: scores.shape = torch.Size([8, 16])\n",
      "DEBUG: scores.shape = torch.Size([8, 16])\n",
      "DEBUG: scores.shape = torch.Size([8, 16])\n"
     ]
    },
    {
     "name": "stderr",
     "output_type": "stream",
     "text": [
      "Epoch 53:  42%|████▏     | 16/38 [00:00<00:00, 30.81batch/s, loss=50.0000]"
     ]
    },
    {
     "name": "stdout",
     "output_type": "stream",
     "text": [
      "DEBUG: scores.shape = torch.Size([8, 16])\n",
      "DEBUG: scores.shape = torch.Size([8, 16])\n"
     ]
    },
    {
     "name": "stderr",
     "output_type": "stream",
     "text": [
      "Epoch 53:  53%|█████▎    | 20/38 [00:00<00:00, 31.54batch/s, loss=62.5000]"
     ]
    },
    {
     "name": "stdout",
     "output_type": "stream",
     "text": [
      "DEBUG: scores.shape = torch.Size([8, 16])\n",
      "DEBUG: scores.shape = torch.Size([8, 16])\n"
     ]
    },
    {
     "name": "stderr",
     "output_type": "stream",
     "text": [
      "Epoch 53:  63%|██████▎   | 24/38 [00:00<00:00, 31.39batch/s, loss=62.5000]"
     ]
    },
    {
     "name": "stdout",
     "output_type": "stream",
     "text": [
      "DEBUG: scores.shape = torch.Size([8, 16])\n",
      "DEBUG: scores.shape = torch.Size([8, 16])\n",
      "DEBUG: scores.shape = torch.Size([8, 16])\n"
     ]
    },
    {
     "name": "stderr",
     "output_type": "stream",
     "text": [
      "Epoch 53:  63%|██████▎   | 24/38 [00:00<00:00, 31.39batch/s, loss=50.0000]"
     ]
    },
    {
     "name": "stdout",
     "output_type": "stream",
     "text": [
      "DEBUG: scores.shape = torch.Size([8, 16])\n",
      "DEBUG: scores.shape = torch.Size([8, 16])\n"
     ]
    },
    {
     "name": "stderr",
     "output_type": "stream",
     "text": [
      "Epoch 53:  63%|██████▎   | 24/38 [00:00<00:00, 31.39batch/s, loss=50.0000]"
     ]
    },
    {
     "name": "stdout",
     "output_type": "stream",
     "text": [
      "DEBUG: scores.shape = torch.Size([8, 16])\n"
     ]
    },
    {
     "name": "stderr",
     "output_type": "stream",
     "text": [
      "Epoch 53:  74%|███████▎  | 28/38 [00:00<00:00, 30.50batch/s, loss=37.5000]"
     ]
    },
    {
     "name": "stdout",
     "output_type": "stream",
     "text": [
      "DEBUG: scores.shape = torch.Size([8, 16])\n",
      "DEBUG: scores.shape = torch.Size([8, 16])\n",
      "DEBUG: scores.shape = torch.Size([8, 16])\n",
      "DEBUG: scores.shape = torch.Size([8, 16])\n"
     ]
    },
    {
     "name": "stderr",
     "output_type": "stream",
     "text": [
      "Epoch 53:  84%|████████▍ | 32/38 [00:01<00:00, 30.34batch/s, loss=25.0000]"
     ]
    },
    {
     "name": "stdout",
     "output_type": "stream",
     "text": [
      "DEBUG: scores.shape = torch.Size([8, 16])\n"
     ]
    },
    {
     "name": "stderr",
     "output_type": "stream",
     "text": [
      "Epoch 53:  84%|████████▍ | 32/38 [00:01<00:00, 30.34batch/s, loss=62.5000]"
     ]
    },
    {
     "name": "stdout",
     "output_type": "stream",
     "text": [
      "DEBUG: scores.shape = torch.Size([8, 16])\n",
      "DEBUG: scores.shape = torch.Size([8, 16])\n"
     ]
    },
    {
     "name": "stderr",
     "output_type": "stream",
     "text": [
      "Epoch 53:  95%|█████████▍| 36/38 [00:01<00:00, 28.94batch/s, loss=37.5000]"
     ]
    },
    {
     "name": "stdout",
     "output_type": "stream",
     "text": [
      "DEBUG: scores.shape = torch.Size([8, 16])\n",
      "DEBUG: scores.shape = torch.Size([8, 16])\n"
     ]
    },
    {
     "name": "stderr",
     "output_type": "stream",
     "text": [
      "Epoch 53: 100%|██████████| 38/38 [00:01<00:00, 30.58batch/s, loss=75.0000]\n"
     ]
    },
    {
     "name": "stdout",
     "output_type": "stream",
     "text": [
      "DEBUG: scores.shape = torch.Size([4, 16])\n",
      "Epoch 53, Loss: 50.3289\n"
     ]
    },
    {
     "name": "stderr",
     "output_type": "stream",
     "text": [
      "Epoch 54:   0%|          | 0/38 [00:00<?, ?batch/s, loss=62.5000]"
     ]
    },
    {
     "name": "stdout",
     "output_type": "stream",
     "text": [
      "DEBUG: scores.shape = torch.Size([8, 16])\n"
     ]
    },
    {
     "name": "stderr",
     "output_type": "stream",
     "text": [
      "Epoch 54:   0%|          | 0/38 [00:00<?, ?batch/s, loss=37.5000]"
     ]
    },
    {
     "name": "stdout",
     "output_type": "stream",
     "text": [
      "DEBUG: scores.shape = torch.Size([8, 16])\n",
      "DEBUG: scores.shape = torch.Size([8, 16])\n"
     ]
    },
    {
     "name": "stderr",
     "output_type": "stream",
     "text": [
      "Epoch 54:  11%|█         | 4/38 [00:00<00:01, 30.77batch/s, loss=75.0000]"
     ]
    },
    {
     "name": "stdout",
     "output_type": "stream",
     "text": [
      "DEBUG: scores.shape = torch.Size([8, 16])\n",
      "DEBUG: scores.shape = torch.Size([8, 16])\n"
     ]
    },
    {
     "name": "stderr",
     "output_type": "stream",
     "text": [
      "Epoch 54:  11%|█         | 4/38 [00:00<00:01, 30.77batch/s, loss=62.5000]"
     ]
    },
    {
     "name": "stdout",
     "output_type": "stream",
     "text": [
      "DEBUG: scores.shape = torch.Size([8, 16])\n",
      "DEBUG: scores.shape = torch.Size([8, 16])\n"
     ]
    },
    {
     "name": "stderr",
     "output_type": "stream",
     "text": [
      "Epoch 54:  11%|█         | 4/38 [00:00<00:01, 30.77batch/s, loss=62.5000]"
     ]
    },
    {
     "name": "stdout",
     "output_type": "stream",
     "text": [
      "DEBUG: scores.shape = torch.Size([8, 16])\n"
     ]
    },
    {
     "name": "stderr",
     "output_type": "stream",
     "text": [
      "Epoch 54:  21%|██        | 8/38 [00:00<00:00, 31.71batch/s, loss=37.5000]"
     ]
    },
    {
     "name": "stdout",
     "output_type": "stream",
     "text": [
      "DEBUG: scores.shape = torch.Size([8, 16])\n",
      "DEBUG: scores.shape = torch.Size([8, 16])\n"
     ]
    },
    {
     "name": "stderr",
     "output_type": "stream",
     "text": [
      "Epoch 54:  21%|██        | 8/38 [00:00<00:00, 31.71batch/s, loss=62.5000]"
     ]
    },
    {
     "name": "stdout",
     "output_type": "stream",
     "text": [
      "DEBUG: scores.shape = torch.Size([8, 16])\n",
      "DEBUG: scores.shape = torch.Size([8, 16])\n"
     ]
    },
    {
     "name": "stderr",
     "output_type": "stream",
     "text": [
      "Epoch 54:  32%|███▏      | 12/38 [00:00<00:00, 33.18batch/s, loss=50.0000]"
     ]
    },
    {
     "name": "stdout",
     "output_type": "stream",
     "text": [
      "DEBUG: scores.shape = torch.Size([8, 16])\n",
      "DEBUG: scores.shape = torch.Size([8, 16])\n",
      "DEBUG: scores.shape = torch.Size([8, 16])\n"
     ]
    },
    {
     "name": "stderr",
     "output_type": "stream",
     "text": [
      "Epoch 54:  42%|████▏     | 16/38 [00:00<00:00, 32.61batch/s, loss=37.5000]"
     ]
    },
    {
     "name": "stdout",
     "output_type": "stream",
     "text": [
      "DEBUG: scores.shape = torch.Size([8, 16])\n",
      "DEBUG: scores.shape = torch.Size([8, 16])\n"
     ]
    },
    {
     "name": "stderr",
     "output_type": "stream",
     "text": [
      "Epoch 54:  42%|████▏     | 16/38 [00:00<00:00, 32.61batch/s, loss=37.5000]"
     ]
    },
    {
     "name": "stdout",
     "output_type": "stream",
     "text": [
      "DEBUG: scores.shape = torch.Size([8, 16])\n",
      "DEBUG: scores.shape = torch.Size([8, 16])\n"
     ]
    },
    {
     "name": "stderr",
     "output_type": "stream",
     "text": [
      "Epoch 54:  53%|█████▎    | 20/38 [00:00<00:00, 33.52batch/s, loss=50.0000]"
     ]
    },
    {
     "name": "stdout",
     "output_type": "stream",
     "text": [
      "DEBUG: scores.shape = torch.Size([8, 16])\n",
      "DEBUG: scores.shape = torch.Size([8, 16])\n"
     ]
    },
    {
     "name": "stderr",
     "output_type": "stream",
     "text": [
      "Epoch 54:  53%|█████▎    | 20/38 [00:00<00:00, 33.52batch/s, loss=37.5000]"
     ]
    },
    {
     "name": "stdout",
     "output_type": "stream",
     "text": [
      "DEBUG: scores.shape = torch.Size([8, 16])\n"
     ]
    },
    {
     "name": "stderr",
     "output_type": "stream",
     "text": [
      "Epoch 54:  63%|██████▎   | 24/38 [00:00<00:00, 33.92batch/s, loss=62.5000]"
     ]
    },
    {
     "name": "stdout",
     "output_type": "stream",
     "text": [
      "DEBUG: scores.shape = torch.Size([8, 16])\n",
      "DEBUG: scores.shape = torch.Size([8, 16])\n",
      "DEBUG: scores.shape = torch.Size([8, 16])\n"
     ]
    },
    {
     "name": "stderr",
     "output_type": "stream",
     "text": [
      "Epoch 54:  63%|██████▎   | 24/38 [00:00<00:00, 33.92batch/s, loss=50.0000]"
     ]
    },
    {
     "name": "stdout",
     "output_type": "stream",
     "text": [
      "DEBUG: scores.shape = torch.Size([8, 16])\n"
     ]
    },
    {
     "name": "stderr",
     "output_type": "stream",
     "text": [
      "Epoch 54:  63%|██████▎   | 24/38 [00:00<00:00, 33.92batch/s, loss=50.0000]"
     ]
    },
    {
     "name": "stdout",
     "output_type": "stream",
     "text": [
      "DEBUG: scores.shape = torch.Size([8, 16])\n",
      "DEBUG: scores.shape = torch.Size([8, 16])\n"
     ]
    },
    {
     "name": "stderr",
     "output_type": "stream",
     "text": [
      "Epoch 54:  74%|███████▎  | 28/38 [00:00<00:00, 34.16batch/s, loss=62.5000]"
     ]
    },
    {
     "name": "stdout",
     "output_type": "stream",
     "text": [
      "DEBUG: scores.shape = torch.Size([8, 16])\n"
     ]
    },
    {
     "name": "stderr",
     "output_type": "stream",
     "text": [
      "Epoch 54:  74%|███████▎  | 28/38 [00:00<00:00, 34.16batch/s, loss=37.5000] "
     ]
    },
    {
     "name": "stdout",
     "output_type": "stream",
     "text": [
      "DEBUG: scores.shape = torch.Size([8, 16])\n",
      "DEBUG: scores.shape = torch.Size([8, 16])\n",
      "DEBUG: scores.shape = torch.Size([8, 16])\n"
     ]
    },
    {
     "name": "stderr",
     "output_type": "stream",
     "text": [
      "Epoch 54:  84%|████████▍ | 32/38 [00:00<00:00, 34.05batch/s, loss=37.5000]"
     ]
    },
    {
     "name": "stdout",
     "output_type": "stream",
     "text": [
      "DEBUG: scores.shape = torch.Size([8, 16])\n"
     ]
    },
    {
     "name": "stderr",
     "output_type": "stream",
     "text": [
      "Epoch 54:  84%|████████▍ | 32/38 [00:01<00:00, 34.05batch/s, loss=50.0000]"
     ]
    },
    {
     "name": "stdout",
     "output_type": "stream",
     "text": [
      "DEBUG: scores.shape = torch.Size([8, 16])\n",
      "DEBUG: scores.shape = torch.Size([8, 16])\n"
     ]
    },
    {
     "name": "stderr",
     "output_type": "stream",
     "text": [
      "Epoch 54:  84%|████████▍ | 32/38 [00:01<00:00, 34.05batch/s, loss=37.5000]"
     ]
    },
    {
     "name": "stdout",
     "output_type": "stream",
     "text": [
      "DEBUG: scores.shape = torch.Size([8, 16])\n"
     ]
    },
    {
     "name": "stderr",
     "output_type": "stream",
     "text": [
      "Epoch 54: 100%|██████████| 38/38 [00:01<00:00, 33.36batch/s, loss=25.0000]\n"
     ]
    },
    {
     "name": "stdout",
     "output_type": "stream",
     "text": [
      "DEBUG: scores.shape = torch.Size([8, 16])\n",
      "DEBUG: scores.shape = torch.Size([4, 16])\n",
      "Epoch 54, Loss: 49.6711\n"
     ]
    },
    {
     "name": "stderr",
     "output_type": "stream",
     "text": [
      "Epoch 55:   0%|          | 0/38 [00:00<?, ?batch/s, loss=50.0000]"
     ]
    },
    {
     "name": "stdout",
     "output_type": "stream",
     "text": [
      "DEBUG: scores.shape = torch.Size([8, 16])\n"
     ]
    },
    {
     "name": "stderr",
     "output_type": "stream",
     "text": [
      "Epoch 55:   0%|          | 0/38 [00:00<?, ?batch/s, loss=50.0000]"
     ]
    },
    {
     "name": "stdout",
     "output_type": "stream",
     "text": [
      "DEBUG: scores.shape = torch.Size([8, 16])\n"
     ]
    },
    {
     "name": "stderr",
     "output_type": "stream",
     "text": [
      "Epoch 55:   0%|          | 0/38 [00:00<?, ?batch/s, loss=50.0000]"
     ]
    },
    {
     "name": "stdout",
     "output_type": "stream",
     "text": [
      "DEBUG: scores.shape = torch.Size([8, 16])\n",
      "DEBUG: scores.shape = torch.Size([8, 16])\n"
     ]
    },
    {
     "name": "stderr",
     "output_type": "stream",
     "text": [
      "Epoch 55:  11%|█         | 4/38 [00:00<00:01, 32.43batch/s, loss=62.5000]"
     ]
    },
    {
     "name": "stdout",
     "output_type": "stream",
     "text": [
      "DEBUG: scores.shape = torch.Size([8, 16])\n"
     ]
    },
    {
     "name": "stderr",
     "output_type": "stream",
     "text": [
      "Epoch 55:  11%|█         | 4/38 [00:00<00:01, 32.43batch/s, loss=25.0000]"
     ]
    },
    {
     "name": "stdout",
     "output_type": "stream",
     "text": [
      "DEBUG: scores.shape = torch.Size([8, 16])\n",
      "DEBUG: scores.shape = torch.Size([8, 16])\n"
     ]
    },
    {
     "name": "stderr",
     "output_type": "stream",
     "text": [
      "Epoch 55:  11%|█         | 4/38 [00:00<00:01, 32.43batch/s, loss=75.0000]"
     ]
    },
    {
     "name": "stdout",
     "output_type": "stream",
     "text": [
      "DEBUG: scores.shape = torch.Size([8, 16])\n"
     ]
    },
    {
     "name": "stderr",
     "output_type": "stream",
     "text": [
      "Epoch 55:  21%|██        | 8/38 [00:00<00:00, 32.39batch/s, loss=37.5000]"
     ]
    },
    {
     "name": "stdout",
     "output_type": "stream",
     "text": [
      "DEBUG: scores.shape = torch.Size([8, 16])\n"
     ]
    },
    {
     "name": "stderr",
     "output_type": "stream",
     "text": [
      "Epoch 55:  21%|██        | 8/38 [00:00<00:00, 32.39batch/s, loss=62.5000]"
     ]
    },
    {
     "name": "stdout",
     "output_type": "stream",
     "text": [
      "DEBUG: scores.shape = torch.Size([8, 16])\n",
      "DEBUG: scores.shape = torch.Size([8, 16])\n",
      "DEBUG: scores.shape = torch.Size([8, 16])\n"
     ]
    },
    {
     "name": "stderr",
     "output_type": "stream",
     "text": [
      "Epoch 55:  32%|███▏      | 12/38 [00:00<00:00, 33.01batch/s, loss=62.5000]"
     ]
    },
    {
     "name": "stdout",
     "output_type": "stream",
     "text": [
      "DEBUG: scores.shape = torch.Size([8, 16])\n",
      "DEBUG: scores.shape = torch.Size([8, 16])\n",
      "DEBUG: scores.shape = torch.Size([8, 16])\n"
     ]
    },
    {
     "name": "stderr",
     "output_type": "stream",
     "text": [
      "Epoch 55:  32%|███▏      | 12/38 [00:00<00:00, 33.01batch/s, loss=87.5000]"
     ]
    },
    {
     "name": "stdout",
     "output_type": "stream",
     "text": [
      "DEBUG: scores.shape = torch.Size([8, 16])\n"
     ]
    },
    {
     "name": "stderr",
     "output_type": "stream",
     "text": [
      "Epoch 55:  42%|████▏     | 16/38 [00:00<00:00, 31.54batch/s, loss=50.0000]"
     ]
    },
    {
     "name": "stdout",
     "output_type": "stream",
     "text": [
      "DEBUG: scores.shape = torch.Size([8, 16])\n",
      "DEBUG: scores.shape = torch.Size([8, 16])\n"
     ]
    },
    {
     "name": "stderr",
     "output_type": "stream",
     "text": [
      "Epoch 55:  53%|█████▎    | 20/38 [00:00<00:00, 32.60batch/s, loss=50.0000]"
     ]
    },
    {
     "name": "stdout",
     "output_type": "stream",
     "text": [
      "DEBUG: scores.shape = torch.Size([8, 16])\n",
      "DEBUG: scores.shape = torch.Size([8, 16])\n",
      "DEBUG: scores.shape = torch.Size([8, 16])\n",
      "DEBUG: scores.shape = torch.Size([8, 16])\n"
     ]
    },
    {
     "name": "stderr",
     "output_type": "stream",
     "text": [
      "Epoch 55:  53%|█████▎    | 20/38 [00:00<00:00, 32.60batch/s, loss=62.5000]"
     ]
    },
    {
     "name": "stdout",
     "output_type": "stream",
     "text": [
      "DEBUG: scores.shape = torch.Size([8, 16])\n"
     ]
    },
    {
     "name": "stderr",
     "output_type": "stream",
     "text": [
      "Epoch 55:  63%|██████▎   | 24/38 [00:00<00:00, 32.74batch/s, loss=50.0000]"
     ]
    },
    {
     "name": "stdout",
     "output_type": "stream",
     "text": [
      "DEBUG: scores.shape = torch.Size([8, 16])\n",
      "DEBUG: scores.shape = torch.Size([8, 16])\n"
     ]
    },
    {
     "name": "stderr",
     "output_type": "stream",
     "text": [
      "Epoch 55:  74%|███████▎  | 28/38 [00:00<00:00, 34.10batch/s, loss=25.0000]"
     ]
    },
    {
     "name": "stdout",
     "output_type": "stream",
     "text": [
      "DEBUG: scores.shape = torch.Size([8, 16])\n",
      "DEBUG: scores.shape = torch.Size([8, 16])\n",
      "DEBUG: scores.shape = torch.Size([8, 16])\n",
      "DEBUG: scores.shape = torch.Size([8, 16])\n"
     ]
    },
    {
     "name": "stderr",
     "output_type": "stream",
     "text": [
      "Epoch 55:  74%|███████▎  | 28/38 [00:00<00:00, 34.10batch/s, loss=87.5000]"
     ]
    },
    {
     "name": "stdout",
     "output_type": "stream",
     "text": [
      "DEBUG: scores.shape = torch.Size([8, 16])\n",
      "DEBUG: scores.shape = torch.Size([8, 16])\n"
     ]
    },
    {
     "name": "stderr",
     "output_type": "stream",
     "text": [
      "Epoch 55:  84%|████████▍ | 32/38 [00:00<00:00, 34.24batch/s, loss=62.5000]"
     ]
    },
    {
     "name": "stdout",
     "output_type": "stream",
     "text": [
      "DEBUG: scores.shape = torch.Size([8, 16])\n"
     ]
    },
    {
     "name": "stderr",
     "output_type": "stream",
     "text": [
      "Epoch 55:  84%|████████▍ | 32/38 [00:01<00:00, 34.24batch/s, loss=62.5000]"
     ]
    },
    {
     "name": "stdout",
     "output_type": "stream",
     "text": [
      "DEBUG: scores.shape = torch.Size([8, 16])\n",
      "DEBUG: scores.shape = torch.Size([8, 16])\n",
      "DEBUG: scores.shape = torch.Size([8, 16])\n"
     ]
    },
    {
     "name": "stderr",
     "output_type": "stream",
     "text": [
      "Epoch 55:  95%|█████████▍| 36/38 [00:01<00:00, 32.71batch/s, loss=50.0000]"
     ]
    },
    {
     "name": "stdout",
     "output_type": "stream",
     "text": [
      "DEBUG: scores.shape = torch.Size([8, 16])\n",
      "DEBUG: scores.shape = torch.Size([8, 16])\n",
      "DEBUG: scores.shape = torch.Size([4, 16])\n"
     ]
    },
    {
     "name": "stderr",
     "output_type": "stream",
     "text": [
      "Epoch 55: 100%|██████████| 38/38 [00:01<00:00, 33.11batch/s, loss=50.0000]\n"
     ]
    },
    {
     "name": "stdout",
     "output_type": "stream",
     "text": [
      "Epoch 55, Loss: 50.0000\n"
     ]
    },
    {
     "name": "stderr",
     "output_type": "stream",
     "text": [
      "Epoch 56:   0%|          | 0/38 [00:00<?, ?batch/s]"
     ]
    },
    {
     "name": "stdout",
     "output_type": "stream",
     "text": [
      "DEBUG: scores.shape = torch.Size([8, 16])\n"
     ]
    },
    {
     "name": "stderr",
     "output_type": "stream",
     "text": [
      "Epoch 56:   0%|          | 0/38 [00:00<?, ?batch/s, loss=37.5000]"
     ]
    },
    {
     "name": "stdout",
     "output_type": "stream",
     "text": [
      "DEBUG: scores.shape = torch.Size([8, 16])\n",
      "DEBUG: scores.shape = torch.Size([8, 16])\n",
      "DEBUG: scores.shape = torch.Size([8, 16])\n"
     ]
    },
    {
     "name": "stderr",
     "output_type": "stream",
     "text": [
      "Epoch 56:  11%|█         | 4/38 [00:00<00:00, 34.95batch/s, loss=25.0000]"
     ]
    },
    {
     "name": "stdout",
     "output_type": "stream",
     "text": [
      "DEBUG: scores.shape = torch.Size([8, 16])\n",
      "DEBUG: scores.shape = torch.Size([8, 16])\n",
      "DEBUG: scores.shape = torch.Size([8, 16])\n"
     ]
    },
    {
     "name": "stderr",
     "output_type": "stream",
     "text": [
      "Epoch 56:  11%|█         | 4/38 [00:00<00:00, 34.95batch/s, loss=62.5000]"
     ]
    },
    {
     "name": "stdout",
     "output_type": "stream",
     "text": [
      "DEBUG: scores.shape = torch.Size([8, 16])\n"
     ]
    },
    {
     "name": "stderr",
     "output_type": "stream",
     "text": [
      "Epoch 56:  21%|██        | 8/38 [00:00<00:00, 33.47batch/s, loss=25.0000]"
     ]
    },
    {
     "name": "stdout",
     "output_type": "stream",
     "text": [
      "DEBUG: scores.shape = torch.Size([8, 16])\n",
      "DEBUG: scores.shape = torch.Size([8, 16])\n",
      "DEBUG: scores.shape = torch.Size([8, 16])\n"
     ]
    },
    {
     "name": "stderr",
     "output_type": "stream",
     "text": [
      "Epoch 56:  32%|███▏      | 12/38 [00:00<00:00, 35.19batch/s, loss=25.0000]"
     ]
    },
    {
     "name": "stdout",
     "output_type": "stream",
     "text": [
      "DEBUG: scores.shape = torch.Size([8, 16])\n",
      "DEBUG: scores.shape = torch.Size([8, 16])\n",
      "DEBUG: scores.shape = torch.Size([8, 16])\n"
     ]
    },
    {
     "name": "stderr",
     "output_type": "stream",
     "text": [
      "Epoch 56:  32%|███▏      | 12/38 [00:00<00:00, 35.19batch/s, loss=37.5000]"
     ]
    },
    {
     "name": "stdout",
     "output_type": "stream",
     "text": [
      "DEBUG: scores.shape = torch.Size([8, 16])\n"
     ]
    },
    {
     "name": "stderr",
     "output_type": "stream",
     "text": [
      "Epoch 56:  42%|████▏     | 16/38 [00:00<00:00, 33.23batch/s, loss=25.0000]"
     ]
    },
    {
     "name": "stdout",
     "output_type": "stream",
     "text": [
      "DEBUG: scores.shape = torch.Size([8, 16])\n",
      "DEBUG: scores.shape = torch.Size([8, 16])\n"
     ]
    },
    {
     "name": "stderr",
     "output_type": "stream",
     "text": [
      "Epoch 56:  42%|████▏     | 16/38 [00:00<00:00, 33.23batch/s, loss=87.5000]"
     ]
    },
    {
     "name": "stdout",
     "output_type": "stream",
     "text": [
      "DEBUG: scores.shape = torch.Size([8, 16])\n",
      "DEBUG: scores.shape = torch.Size([8, 16])\n",
      "DEBUG: scores.shape = torch.Size([8, 16])\n"
     ]
    },
    {
     "name": "stderr",
     "output_type": "stream",
     "text": [
      "Epoch 56:  53%|█████▎    | 20/38 [00:00<00:00, 31.91batch/s, loss=12.5000]"
     ]
    },
    {
     "name": "stdout",
     "output_type": "stream",
     "text": [
      "DEBUG: scores.shape = torch.Size([8, 16])\n"
     ]
    },
    {
     "name": "stderr",
     "output_type": "stream",
     "text": [
      "Epoch 56:  53%|█████▎    | 20/38 [00:00<00:00, 31.91batch/s, loss=50.0000]"
     ]
    },
    {
     "name": "stdout",
     "output_type": "stream",
     "text": [
      "DEBUG: scores.shape = torch.Size([8, 16])\n",
      "DEBUG: scores.shape = torch.Size([8, 16])\n"
     ]
    },
    {
     "name": "stderr",
     "output_type": "stream",
     "text": [
      "Epoch 56:  63%|██████▎   | 24/38 [00:00<00:00, 32.14batch/s, loss=37.5000]"
     ]
    },
    {
     "name": "stdout",
     "output_type": "stream",
     "text": [
      "DEBUG: scores.shape = torch.Size([8, 16])\n",
      "DEBUG: scores.shape = torch.Size([8, 16])\n",
      "DEBUG: scores.shape = torch.Size([8, 16])\n",
      "DEBUG: scores.shape = torch.Size([8, 16])\n"
     ]
    },
    {
     "name": "stderr",
     "output_type": "stream",
     "text": [
      "Epoch 56:  63%|██████▎   | 24/38 [00:00<00:00, 32.14batch/s, loss=62.5000]"
     ]
    },
    {
     "name": "stdout",
     "output_type": "stream",
     "text": [
      "DEBUG: scores.shape = torch.Size([8, 16])\n"
     ]
    },
    {
     "name": "stderr",
     "output_type": "stream",
     "text": [
      "Epoch 56:  74%|███████▎  | 28/38 [00:00<00:00, 32.73batch/s, loss=62.5000]"
     ]
    },
    {
     "name": "stdout",
     "output_type": "stream",
     "text": [
      "DEBUG: scores.shape = torch.Size([8, 16])\n",
      "DEBUG: scores.shape = torch.Size([8, 16])\n",
      "DEBUG: scores.shape = torch.Size([8, 16])\n"
     ]
    },
    {
     "name": "stderr",
     "output_type": "stream",
     "text": [
      "Epoch 56:  84%|████████▍ | 32/38 [00:01<00:00, 33.91batch/s, loss=62.5000]"
     ]
    },
    {
     "name": "stdout",
     "output_type": "stream",
     "text": [
      "DEBUG: scores.shape = torch.Size([8, 16])\n",
      "DEBUG: scores.shape = torch.Size([8, 16])\n",
      "DEBUG: scores.shape = torch.Size([8, 16])\n"
     ]
    },
    {
     "name": "stderr",
     "output_type": "stream",
     "text": [
      "Epoch 56:  84%|████████▍ | 32/38 [00:01<00:00, 33.91batch/s, loss=62.5000]"
     ]
    },
    {
     "name": "stdout",
     "output_type": "stream",
     "text": [
      "DEBUG: scores.shape = torch.Size([8, 16])\n",
      "DEBUG: scores.shape = torch.Size([8, 16])\n"
     ]
    },
    {
     "name": "stderr",
     "output_type": "stream",
     "text": [
      "Epoch 56: 100%|██████████| 38/38 [00:01<00:00, 33.98batch/s, loss=25.0000]\n"
     ]
    },
    {
     "name": "stdout",
     "output_type": "stream",
     "text": [
      "DEBUG: scores.shape = torch.Size([8, 16])\n",
      "DEBUG: scores.shape = torch.Size([4, 16])\n",
      "Epoch 56, Loss: 49.6711\n"
     ]
    },
    {
     "name": "stderr",
     "output_type": "stream",
     "text": [
      "Epoch 57:   0%|          | 0/38 [00:00<?, ?batch/s]"
     ]
    },
    {
     "name": "stdout",
     "output_type": "stream",
     "text": [
      "DEBUG: scores.shape = torch.Size([8, 16])\n"
     ]
    },
    {
     "name": "stderr",
     "output_type": "stream",
     "text": [
      "Epoch 57:   0%|          | 0/38 [00:00<?, ?batch/s, loss=50.0000]"
     ]
    },
    {
     "name": "stdout",
     "output_type": "stream",
     "text": [
      "DEBUG: scores.shape = torch.Size([8, 16])\n",
      "DEBUG: scores.shape = torch.Size([8, 16])\n",
      "DEBUG: scores.shape = torch.Size([8, 16])\n"
     ]
    },
    {
     "name": "stderr",
     "output_type": "stream",
     "text": [
      "Epoch 57:  11%|█         | 4/38 [00:00<00:01, 31.88batch/s, loss=50.0000]"
     ]
    },
    {
     "name": "stdout",
     "output_type": "stream",
     "text": [
      "DEBUG: scores.shape = torch.Size([8, 16])\n"
     ]
    },
    {
     "name": "stderr",
     "output_type": "stream",
     "text": [
      "Epoch 57:  11%|█         | 4/38 [00:00<00:01, 31.88batch/s, loss=37.5000]"
     ]
    },
    {
     "name": "stdout",
     "output_type": "stream",
     "text": [
      "DEBUG: scores.shape = torch.Size([8, 16])\n",
      "DEBUG: scores.shape = torch.Size([8, 16])\n"
     ]
    },
    {
     "name": "stderr",
     "output_type": "stream",
     "text": [
      "Epoch 57:  11%|█         | 4/38 [00:00<00:01, 31.88batch/s, loss=25.0000]"
     ]
    },
    {
     "name": "stdout",
     "output_type": "stream",
     "text": [
      "DEBUG: scores.shape = torch.Size([8, 16])\n"
     ]
    },
    {
     "name": "stderr",
     "output_type": "stream",
     "text": [
      "Epoch 57:  21%|██        | 8/38 [00:00<00:00, 30.28batch/s, loss=62.5000]"
     ]
    },
    {
     "name": "stdout",
     "output_type": "stream",
     "text": [
      "DEBUG: scores.shape = torch.Size([8, 16])\n"
     ]
    },
    {
     "name": "stderr",
     "output_type": "stream",
     "text": [
      "Epoch 57:  21%|██        | 8/38 [00:00<00:00, 30.28batch/s, loss=25.0000]"
     ]
    },
    {
     "name": "stdout",
     "output_type": "stream",
     "text": [
      "DEBUG: scores.shape = torch.Size([8, 16])\n",
      "DEBUG: scores.shape = torch.Size([8, 16])\n"
     ]
    },
    {
     "name": "stderr",
     "output_type": "stream",
     "text": [
      "Epoch 57:  32%|███▏      | 12/38 [00:00<00:00, 28.07batch/s, loss=37.5000]"
     ]
    },
    {
     "name": "stdout",
     "output_type": "stream",
     "text": [
      "DEBUG: scores.shape = torch.Size([8, 16])\n",
      "DEBUG: scores.shape = torch.Size([8, 16])\n"
     ]
    },
    {
     "name": "stderr",
     "output_type": "stream",
     "text": [
      "Epoch 57:  32%|███▏      | 12/38 [00:00<00:00, 28.07batch/s, loss=50.0000]"
     ]
    },
    {
     "name": "stdout",
     "output_type": "stream",
     "text": [
      "DEBUG: scores.shape = torch.Size([8, 16])\n"
     ]
    },
    {
     "name": "stderr",
     "output_type": "stream",
     "text": [
      "Epoch 57:  32%|███▏      | 12/38 [00:00<00:00, 28.07batch/s, loss=25.0000]"
     ]
    },
    {
     "name": "stdout",
     "output_type": "stream",
     "text": [
      "DEBUG: scores.shape = torch.Size([8, 16])\n",
      "DEBUG: scores.shape = torch.Size([8, 16])\n"
     ]
    },
    {
     "name": "stderr",
     "output_type": "stream",
     "text": [
      "Epoch 57:  42%|████▏     | 16/38 [00:00<00:00, 29.82batch/s, loss=25.0000]"
     ]
    },
    {
     "name": "stdout",
     "output_type": "stream",
     "text": [
      "DEBUG: scores.shape = torch.Size([8, 16])\n",
      "DEBUG: scores.shape = torch.Size([8, 16])\n"
     ]
    },
    {
     "name": "stderr",
     "output_type": "stream",
     "text": [
      "Epoch 57:  42%|████▏     | 16/38 [00:00<00:00, 29.82batch/s, loss=50.0000]"
     ]
    },
    {
     "name": "stdout",
     "output_type": "stream",
     "text": [
      "DEBUG: scores.shape = torch.Size([8, 16])\n",
      "DEBUG: scores.shape = torch.Size([8, 16])\n"
     ]
    },
    {
     "name": "stderr",
     "output_type": "stream",
     "text": [
      "Epoch 57:  53%|█████▎    | 20/38 [00:00<00:00, 31.61batch/s, loss=37.5000]"
     ]
    },
    {
     "name": "stdout",
     "output_type": "stream",
     "text": [
      "DEBUG: scores.shape = torch.Size([8, 16])\n"
     ]
    },
    {
     "name": "stderr",
     "output_type": "stream",
     "text": [
      "Epoch 57:  53%|█████▎    | 20/38 [00:00<00:00, 31.61batch/s, loss=25.0000]"
     ]
    },
    {
     "name": "stdout",
     "output_type": "stream",
     "text": [
      "DEBUG: scores.shape = torch.Size([8, 16])\n",
      "DEBUG: scores.shape = torch.Size([8, 16])\n"
     ]
    },
    {
     "name": "stderr",
     "output_type": "stream",
     "text": [
      "Epoch 57:  63%|██████▎   | 24/38 [00:00<00:00, 31.71batch/s, loss=37.5000]"
     ]
    },
    {
     "name": "stdout",
     "output_type": "stream",
     "text": [
      "DEBUG: scores.shape = torch.Size([8, 16])\n",
      "DEBUG: scores.shape = torch.Size([8, 16])\n"
     ]
    },
    {
     "name": "stderr",
     "output_type": "stream",
     "text": [
      "Epoch 57:  63%|██████▎   | 24/38 [00:00<00:00, 31.71batch/s, loss=50.0000]"
     ]
    },
    {
     "name": "stdout",
     "output_type": "stream",
     "text": [
      "DEBUG: scores.shape = torch.Size([8, 16])\n",
      "DEBUG: scores.shape = torch.Size([8, 16])\n"
     ]
    },
    {
     "name": "stderr",
     "output_type": "stream",
     "text": [
      "Epoch 57:  63%|██████▎   | 24/38 [00:00<00:00, 31.71batch/s, loss=62.5000]"
     ]
    },
    {
     "name": "stdout",
     "output_type": "stream",
     "text": [
      "DEBUG: scores.shape = torch.Size([8, 16])\n"
     ]
    },
    {
     "name": "stderr",
     "output_type": "stream",
     "text": [
      "Epoch 57:  74%|███████▎  | 28/38 [00:00<00:00, 31.46batch/s, loss=50.0000]"
     ]
    },
    {
     "name": "stdout",
     "output_type": "stream",
     "text": [
      "DEBUG: scores.shape = torch.Size([8, 16])\n",
      "DEBUG: scores.shape = torch.Size([8, 16])\n",
      "DEBUG: scores.shape = torch.Size([8, 16])\n"
     ]
    },
    {
     "name": "stderr",
     "output_type": "stream",
     "text": [
      "Epoch 57:  84%|████████▍ | 32/38 [00:01<00:00, 30.61batch/s, loss=50.0000]"
     ]
    },
    {
     "name": "stdout",
     "output_type": "stream",
     "text": [
      "DEBUG: scores.shape = torch.Size([8, 16])\n",
      "DEBUG: scores.shape = torch.Size([8, 16])\n",
      "DEBUG: scores.shape = torch.Size([8, 16])\n"
     ]
    },
    {
     "name": "stderr",
     "output_type": "stream",
     "text": [
      "Epoch 57:  84%|████████▍ | 32/38 [00:01<00:00, 30.61batch/s, loss=37.5000]"
     ]
    },
    {
     "name": "stdout",
     "output_type": "stream",
     "text": [
      "DEBUG: scores.shape = torch.Size([8, 16])\n"
     ]
    },
    {
     "name": "stderr",
     "output_type": "stream",
     "text": [
      "Epoch 57:  95%|█████████▍| 36/38 [00:01<00:00, 31.89batch/s, loss=25.0000]"
     ]
    },
    {
     "name": "stdout",
     "output_type": "stream",
     "text": [
      "DEBUG: scores.shape = torch.Size([8, 16])\n",
      "DEBUG: scores.shape = torch.Size([8, 16])\n",
      "DEBUG: scores.shape = torch.Size([4, 16])\n"
     ]
    },
    {
     "name": "stderr",
     "output_type": "stream",
     "text": [
      "Epoch 57: 100%|██████████| 38/38 [00:01<00:00, 31.84batch/s, loss=25.0000]\n"
     ]
    },
    {
     "name": "stdout",
     "output_type": "stream",
     "text": [
      "Epoch 57, Loss: 49.6711\n"
     ]
    },
    {
     "name": "stderr",
     "output_type": "stream",
     "text": [
      "Epoch 58:   0%|          | 0/38 [00:00<?, ?batch/s]"
     ]
    },
    {
     "name": "stdout",
     "output_type": "stream",
     "text": [
      "DEBUG: scores.shape = torch.Size([8, 16])\n"
     ]
    },
    {
     "name": "stderr",
     "output_type": "stream",
     "text": [
      "Epoch 58:   0%|          | 0/38 [00:00<?, ?batch/s, loss=37.5000]"
     ]
    },
    {
     "name": "stdout",
     "output_type": "stream",
     "text": [
      "DEBUG: scores.shape = torch.Size([8, 16])\n",
      "DEBUG: scores.shape = torch.Size([8, 16])\n",
      "DEBUG: scores.shape = torch.Size([8, 16])\n"
     ]
    },
    {
     "name": "stderr",
     "output_type": "stream",
     "text": [
      "Epoch 58:  11%|█         | 4/38 [00:00<00:01, 33.53batch/s, loss=37.5000]"
     ]
    },
    {
     "name": "stdout",
     "output_type": "stream",
     "text": [
      "DEBUG: scores.shape = torch.Size([8, 16])\n"
     ]
    },
    {
     "name": "stderr",
     "output_type": "stream",
     "text": [
      "Epoch 58:  11%|█         | 4/38 [00:00<00:01, 33.53batch/s, loss=37.5000]"
     ]
    },
    {
     "name": "stdout",
     "output_type": "stream",
     "text": [
      "DEBUG: scores.shape = torch.Size([8, 16])\n"
     ]
    },
    {
     "name": "stderr",
     "output_type": "stream",
     "text": [
      "Epoch 58:  11%|█         | 4/38 [00:00<00:01, 33.53batch/s, loss=25.0000]"
     ]
    },
    {
     "name": "stdout",
     "output_type": "stream",
     "text": [
      "DEBUG: scores.shape = torch.Size([8, 16])\n"
     ]
    },
    {
     "name": "stderr",
     "output_type": "stream",
     "text": [
      "Epoch 58:  11%|█         | 4/38 [00:00<00:01, 33.53batch/s, loss=50.0000]"
     ]
    },
    {
     "name": "stdout",
     "output_type": "stream",
     "text": [
      "DEBUG: scores.shape = torch.Size([8, 16])\n"
     ]
    },
    {
     "name": "stderr",
     "output_type": "stream",
     "text": [
      "Epoch 58:  21%|██        | 8/38 [00:00<00:00, 33.88batch/s, loss=50.0000]"
     ]
    },
    {
     "name": "stdout",
     "output_type": "stream",
     "text": [
      "DEBUG: scores.shape = torch.Size([8, 16])\n",
      "DEBUG: scores.shape = torch.Size([8, 16])\n",
      "DEBUG: scores.shape = torch.Size([8, 16])\n"
     ]
    },
    {
     "name": "stderr",
     "output_type": "stream",
     "text": [
      "Epoch 58:  21%|██        | 8/38 [00:00<00:00, 33.88batch/s, loss=50.0000]"
     ]
    },
    {
     "name": "stdout",
     "output_type": "stream",
     "text": [
      "DEBUG: scores.shape = torch.Size([8, 16])\n"
     ]
    },
    {
     "name": "stderr",
     "output_type": "stream",
     "text": [
      "Epoch 58:  32%|███▏      | 12/38 [00:00<00:00, 35.37batch/s, loss=25.0000]"
     ]
    },
    {
     "name": "stdout",
     "output_type": "stream",
     "text": [
      "DEBUG: scores.shape = torch.Size([8, 16])\n"
     ]
    },
    {
     "name": "stderr",
     "output_type": "stream",
     "text": [
      "Epoch 58:  32%|███▏      | 12/38 [00:00<00:00, 35.37batch/s, loss=87.5000]"
     ]
    },
    {
     "name": "stdout",
     "output_type": "stream",
     "text": [
      "DEBUG: scores.shape = torch.Size([8, 16])\n"
     ]
    },
    {
     "name": "stderr",
     "output_type": "stream",
     "text": [
      "Epoch 58:  32%|███▏      | 12/38 [00:00<00:00, 35.37batch/s, loss=37.5000]"
     ]
    },
    {
     "name": "stdout",
     "output_type": "stream",
     "text": [
      "DEBUG: scores.shape = torch.Size([8, 16])\n"
     ]
    },
    {
     "name": "stderr",
     "output_type": "stream",
     "text": [
      "Epoch 58:  42%|████▏     | 16/38 [00:00<00:00, 32.86batch/s, loss=50.0000]"
     ]
    },
    {
     "name": "stdout",
     "output_type": "stream",
     "text": [
      "DEBUG: scores.shape = torch.Size([8, 16])\n",
      "DEBUG: scores.shape = torch.Size([8, 16])\n"
     ]
    },
    {
     "name": "stderr",
     "output_type": "stream",
     "text": [
      "Epoch 58:  42%|████▏     | 16/38 [00:00<00:00, 32.86batch/s, loss=62.5000]"
     ]
    },
    {
     "name": "stdout",
     "output_type": "stream",
     "text": [
      "DEBUG: scores.shape = torch.Size([8, 16])\n",
      "DEBUG: scores.shape = torch.Size([8, 16])\n"
     ]
    },
    {
     "name": "stderr",
     "output_type": "stream",
     "text": [
      "Epoch 58:  42%|████▏     | 16/38 [00:00<00:00, 32.86batch/s, loss=37.5000]"
     ]
    },
    {
     "name": "stdout",
     "output_type": "stream",
     "text": [
      "DEBUG: scores.shape = torch.Size([8, 16])\n"
     ]
    },
    {
     "name": "stderr",
     "output_type": "stream",
     "text": [
      "Epoch 58:  53%|█████▎    | 20/38 [00:00<00:00, 31.19batch/s, loss=37.5000]"
     ]
    },
    {
     "name": "stdout",
     "output_type": "stream",
     "text": [
      "DEBUG: scores.shape = torch.Size([8, 16])\n"
     ]
    },
    {
     "name": "stderr",
     "output_type": "stream",
     "text": [
      "Epoch 58:  53%|█████▎    | 20/38 [00:00<00:00, 31.19batch/s, loss=37.5000]"
     ]
    },
    {
     "name": "stdout",
     "output_type": "stream",
     "text": [
      "DEBUG: scores.shape = torch.Size([8, 16])\n",
      "DEBUG: scores.shape = torch.Size([8, 16])\n"
     ]
    },
    {
     "name": "stderr",
     "output_type": "stream",
     "text": [
      "Epoch 58:  63%|██████▎   | 24/38 [00:00<00:00, 30.55batch/s, loss=62.5000]"
     ]
    },
    {
     "name": "stdout",
     "output_type": "stream",
     "text": [
      "DEBUG: scores.shape = torch.Size([8, 16])\n",
      "DEBUG: scores.shape = torch.Size([8, 16])\n"
     ]
    },
    {
     "name": "stderr",
     "output_type": "stream",
     "text": [
      "Epoch 58:  63%|██████▎   | 24/38 [00:00<00:00, 30.55batch/s, loss=75.0000]"
     ]
    },
    {
     "name": "stdout",
     "output_type": "stream",
     "text": [
      "DEBUG: scores.shape = torch.Size([8, 16])\n",
      "DEBUG: scores.shape = torch.Size([8, 16])\n",
      "DEBUG: scores.shape = torch.Size([8, 16])\n"
     ]
    },
    {
     "name": "stderr",
     "output_type": "stream",
     "text": [
      "Epoch 58:  74%|███████▎  | 28/38 [00:00<00:00, 32.09batch/s, loss=50.0000]"
     ]
    },
    {
     "name": "stdout",
     "output_type": "stream",
     "text": [
      "DEBUG: scores.shape = torch.Size([8, 16])\n",
      "DEBUG: scores.shape = torch.Size([8, 16])\n"
     ]
    },
    {
     "name": "stderr",
     "output_type": "stream",
     "text": [
      "Epoch 58:  74%|███████▎  | 28/38 [00:00<00:00, 32.09batch/s, loss=50.0000]"
     ]
    },
    {
     "name": "stdout",
     "output_type": "stream",
     "text": [
      "DEBUG: scores.shape = torch.Size([8, 16])\n",
      "DEBUG: scores.shape = torch.Size([8, 16])\n"
     ]
    },
    {
     "name": "stderr",
     "output_type": "stream",
     "text": [
      "Epoch 58:  84%|████████▍ | 32/38 [00:01<00:00, 31.89batch/s, loss=37.5000]"
     ]
    },
    {
     "name": "stdout",
     "output_type": "stream",
     "text": [
      "DEBUG: scores.shape = torch.Size([8, 16])\n",
      "DEBUG: scores.shape = torch.Size([8, 16])\n",
      "DEBUG: scores.shape = torch.Size([8, 16])\n"
     ]
    },
    {
     "name": "stderr",
     "output_type": "stream",
     "text": [
      "Epoch 58:  95%|█████████▍| 36/38 [00:01<00:00, 31.86batch/s, loss=62.5000]"
     ]
    },
    {
     "name": "stdout",
     "output_type": "stream",
     "text": [
      "DEBUG: scores.shape = torch.Size([8, 16])\n",
      "DEBUG: scores.shape = torch.Size([8, 16])\n"
     ]
    },
    {
     "name": "stderr",
     "output_type": "stream",
     "text": [
      "Epoch 58: 100%|██████████| 38/38 [00:01<00:00, 32.53batch/s, loss=50.0000]\n"
     ]
    },
    {
     "name": "stdout",
     "output_type": "stream",
     "text": [
      "DEBUG: scores.shape = torch.Size([4, 16])\n",
      "Epoch 58, Loss: 50.0000\n"
     ]
    },
    {
     "name": "stderr",
     "output_type": "stream",
     "text": [
      "Epoch 59:   0%|          | 0/38 [00:00<?, ?batch/s, loss=12.5000]"
     ]
    },
    {
     "name": "stdout",
     "output_type": "stream",
     "text": [
      "DEBUG: scores.shape = torch.Size([8, 16])\n"
     ]
    },
    {
     "name": "stderr",
     "output_type": "stream",
     "text": [
      "Epoch 59:   0%|          | 0/38 [00:00<?, ?batch/s, loss=75.0000]"
     ]
    },
    {
     "name": "stdout",
     "output_type": "stream",
     "text": [
      "DEBUG: scores.shape = torch.Size([8, 16])\n",
      "DEBUG: scores.shape = torch.Size([8, 16])\n",
      "DEBUG: scores.shape = torch.Size([8, 16])\n"
     ]
    },
    {
     "name": "stderr",
     "output_type": "stream",
     "text": [
      "Epoch 59:  11%|█         | 4/38 [00:00<00:00, 35.14batch/s, loss=75.0000]"
     ]
    },
    {
     "name": "stdout",
     "output_type": "stream",
     "text": [
      "DEBUG: scores.shape = torch.Size([8, 16])\n"
     ]
    },
    {
     "name": "stderr",
     "output_type": "stream",
     "text": [
      "Epoch 59:  11%|█         | 4/38 [00:00<00:00, 35.14batch/s, loss=37.5000]"
     ]
    },
    {
     "name": "stdout",
     "output_type": "stream",
     "text": [
      "DEBUG: scores.shape = torch.Size([8, 16])\n",
      "DEBUG: scores.shape = torch.Size([8, 16])\n"
     ]
    },
    {
     "name": "stderr",
     "output_type": "stream",
     "text": [
      "Epoch 59:  11%|█         | 4/38 [00:00<00:00, 35.14batch/s, loss=25.0000]"
     ]
    },
    {
     "name": "stdout",
     "output_type": "stream",
     "text": [
      "DEBUG: scores.shape = torch.Size([8, 16])\n"
     ]
    },
    {
     "name": "stderr",
     "output_type": "stream",
     "text": [
      "Epoch 59:  21%|██        | 8/38 [00:00<00:00, 35.36batch/s, loss=37.5000]"
     ]
    },
    {
     "name": "stdout",
     "output_type": "stream",
     "text": [
      "DEBUG: scores.shape = torch.Size([8, 16])\n"
     ]
    },
    {
     "name": "stderr",
     "output_type": "stream",
     "text": [
      "Epoch 59:  21%|██        | 8/38 [00:00<00:00, 35.36batch/s, loss=25.0000]"
     ]
    },
    {
     "name": "stdout",
     "output_type": "stream",
     "text": [
      "DEBUG: scores.shape = torch.Size([8, 16])\n",
      "DEBUG: scores.shape = torch.Size([8, 16])\n"
     ]
    },
    {
     "name": "stderr",
     "output_type": "stream",
     "text": [
      "Epoch 59:  21%|██        | 8/38 [00:00<00:00, 35.36batch/s, loss=62.5000]"
     ]
    },
    {
     "name": "stdout",
     "output_type": "stream",
     "text": [
      "DEBUG: scores.shape = torch.Size([8, 16])\n"
     ]
    },
    {
     "name": "stderr",
     "output_type": "stream",
     "text": [
      "Epoch 59:  32%|███▏      | 12/38 [00:00<00:00, 33.88batch/s, loss=37.5000]"
     ]
    },
    {
     "name": "stdout",
     "output_type": "stream",
     "text": [
      "DEBUG: scores.shape = torch.Size([8, 16])\n"
     ]
    },
    {
     "name": "stderr",
     "output_type": "stream",
     "text": [
      "Epoch 59:  32%|███▏      | 12/38 [00:00<00:00, 33.88batch/s, loss=37.5000]"
     ]
    },
    {
     "name": "stdout",
     "output_type": "stream",
     "text": [
      "DEBUG: scores.shape = torch.Size([8, 16])\n"
     ]
    },
    {
     "name": "stderr",
     "output_type": "stream",
     "text": [
      "Epoch 59:  32%|███▏      | 12/38 [00:00<00:00, 33.88batch/s, loss=62.5000]"
     ]
    },
    {
     "name": "stdout",
     "output_type": "stream",
     "text": [
      "DEBUG: scores.shape = torch.Size([8, 16])\n"
     ]
    },
    {
     "name": "stderr",
     "output_type": "stream",
     "text": [
      "Epoch 59:  42%|████▏     | 16/38 [00:00<00:00, 31.90batch/s, loss=75.0000]"
     ]
    },
    {
     "name": "stdout",
     "output_type": "stream",
     "text": [
      "DEBUG: scores.shape = torch.Size([8, 16])\n",
      "DEBUG: scores.shape = torch.Size([8, 16])\n"
     ]
    },
    {
     "name": "stderr",
     "output_type": "stream",
     "text": [
      "Epoch 59:  42%|████▏     | 16/38 [00:00<00:00, 31.90batch/s, loss=37.5000]"
     ]
    },
    {
     "name": "stdout",
     "output_type": "stream",
     "text": [
      "DEBUG: scores.shape = torch.Size([8, 16])\n",
      "DEBUG: scores.shape = torch.Size([8, 16])\n",
      "DEBUG: scores.shape = torch.Size([8, 16])\n"
     ]
    },
    {
     "name": "stderr",
     "output_type": "stream",
     "text": [
      "Epoch 59:  53%|█████▎    | 20/38 [00:00<00:00, 32.15batch/s, loss=50.0000]"
     ]
    },
    {
     "name": "stdout",
     "output_type": "stream",
     "text": [
      "DEBUG: scores.shape = torch.Size([8, 16])\n"
     ]
    },
    {
     "name": "stderr",
     "output_type": "stream",
     "text": [
      "Epoch 59:  53%|█████▎    | 20/38 [00:00<00:00, 32.15batch/s, loss=75.0000]"
     ]
    },
    {
     "name": "stdout",
     "output_type": "stream",
     "text": [
      "DEBUG: scores.shape = torch.Size([8, 16])\n"
     ]
    },
    {
     "name": "stderr",
     "output_type": "stream",
     "text": [
      "Epoch 59:  53%|█████▎    | 20/38 [00:00<00:00, 32.15batch/s, loss=37.5000]"
     ]
    },
    {
     "name": "stdout",
     "output_type": "stream",
     "text": [
      "DEBUG: scores.shape = torch.Size([8, 16])\n",
      "DEBUG: scores.shape = torch.Size([8, 16])\n"
     ]
    },
    {
     "name": "stderr",
     "output_type": "stream",
     "text": [
      "Epoch 59:  63%|██████▎   | 24/38 [00:00<00:00, 33.63batch/s, loss=50.0000]"
     ]
    },
    {
     "name": "stdout",
     "output_type": "stream",
     "text": [
      "DEBUG: scores.shape = torch.Size([8, 16])\n",
      "DEBUG: scores.shape = torch.Size([8, 16])\n"
     ]
    },
    {
     "name": "stderr",
     "output_type": "stream",
     "text": [
      "Epoch 59:  63%|██████▎   | 24/38 [00:00<00:00, 33.63batch/s, loss=75.0000]"
     ]
    },
    {
     "name": "stdout",
     "output_type": "stream",
     "text": [
      "DEBUG: scores.shape = torch.Size([8, 16])\n",
      "DEBUG: scores.shape = torch.Size([8, 16])\n"
     ]
    },
    {
     "name": "stderr",
     "output_type": "stream",
     "text": [
      "Epoch 59:  74%|███████▎  | 28/38 [00:00<00:00, 32.53batch/s, loss=50.0000]"
     ]
    },
    {
     "name": "stdout",
     "output_type": "stream",
     "text": [
      "DEBUG: scores.shape = torch.Size([8, 16])\n"
     ]
    },
    {
     "name": "stderr",
     "output_type": "stream",
     "text": [
      "Epoch 59:  74%|███████▎  | 28/38 [00:00<00:00, 32.53batch/s, loss=62.5000]"
     ]
    },
    {
     "name": "stdout",
     "output_type": "stream",
     "text": [
      "DEBUG: scores.shape = torch.Size([8, 16])\n",
      "DEBUG: scores.shape = torch.Size([8, 16])\n"
     ]
    },
    {
     "name": "stderr",
     "output_type": "stream",
     "text": [
      "Epoch 59:  74%|███████▎  | 28/38 [00:00<00:00, 32.53batch/s, loss=75.0000]"
     ]
    },
    {
     "name": "stdout",
     "output_type": "stream",
     "text": [
      "DEBUG: scores.shape = torch.Size([8, 16])\n"
     ]
    },
    {
     "name": "stderr",
     "output_type": "stream",
     "text": [
      "Epoch 59:  84%|████████▍ | 32/38 [00:00<00:00, 30.43batch/s, loss=25.0000]"
     ]
    },
    {
     "name": "stdout",
     "output_type": "stream",
     "text": [
      "DEBUG: scores.shape = torch.Size([8, 16])\n"
     ]
    },
    {
     "name": "stderr",
     "output_type": "stream",
     "text": [
      "Epoch 59:  84%|████████▍ | 32/38 [00:01<00:00, 30.43batch/s, loss=50.0000]"
     ]
    },
    {
     "name": "stdout",
     "output_type": "stream",
     "text": [
      "DEBUG: scores.shape = torch.Size([8, 16])\n"
     ]
    },
    {
     "name": "stderr",
     "output_type": "stream",
     "text": [
      "Epoch 59:  84%|████████▍ | 32/38 [00:01<00:00, 30.43batch/s, loss=25.0000]"
     ]
    },
    {
     "name": "stdout",
     "output_type": "stream",
     "text": [
      "DEBUG: scores.shape = torch.Size([8, 16])\n"
     ]
    },
    {
     "name": "stderr",
     "output_type": "stream",
     "text": [
      "Epoch 59:  95%|█████████▍| 36/38 [00:01<00:00, 30.93batch/s, loss=50.0000]"
     ]
    },
    {
     "name": "stdout",
     "output_type": "stream",
     "text": [
      "DEBUG: scores.shape = torch.Size([8, 16])\n",
      "DEBUG: scores.shape = torch.Size([8, 16])\n",
      "DEBUG: scores.shape = torch.Size([4, 16])\n"
     ]
    },
    {
     "name": "stderr",
     "output_type": "stream",
     "text": [
      "Epoch 59: 100%|██████████| 38/38 [00:01<00:00, 32.32batch/s, loss=50.0000]\n"
     ]
    },
    {
     "name": "stdout",
     "output_type": "stream",
     "text": [
      "Epoch 59, Loss: 50.0000\n"
     ]
    },
    {
     "name": "stderr",
     "output_type": "stream",
     "text": [
      "Epoch 60:   0%|          | 0/38 [00:00<?, ?batch/s]"
     ]
    },
    {
     "name": "stdout",
     "output_type": "stream",
     "text": [
      "DEBUG: scores.shape = torch.Size([8, 16])\n"
     ]
    },
    {
     "name": "stderr",
     "output_type": "stream",
     "text": [
      "Epoch 60:   0%|          | 0/38 [00:00<?, ?batch/s, loss=62.5000]"
     ]
    },
    {
     "name": "stdout",
     "output_type": "stream",
     "text": [
      "DEBUG: scores.shape = torch.Size([8, 16])\n"
     ]
    },
    {
     "name": "stderr",
     "output_type": "stream",
     "text": [
      "Epoch 60:   0%|          | 0/38 [00:00<?, ?batch/s, loss=62.5000]"
     ]
    },
    {
     "name": "stdout",
     "output_type": "stream",
     "text": [
      "DEBUG: scores.shape = torch.Size([8, 16])\n"
     ]
    },
    {
     "name": "stderr",
     "output_type": "stream",
     "text": [
      "Epoch 60:   0%|          | 0/38 [00:00<?, ?batch/s, loss=25.0000]"
     ]
    },
    {
     "name": "stdout",
     "output_type": "stream",
     "text": [
      "DEBUG: scores.shape = torch.Size([8, 16])\n"
     ]
    },
    {
     "name": "stderr",
     "output_type": "stream",
     "text": [
      "Epoch 60:  11%|█         | 4/38 [00:00<00:01, 31.32batch/s, loss=50.0000]"
     ]
    },
    {
     "name": "stdout",
     "output_type": "stream",
     "text": [
      "DEBUG: scores.shape = torch.Size([8, 16])\n",
      "DEBUG: scores.shape = torch.Size([8, 16])\n"
     ]
    },
    {
     "name": "stderr",
     "output_type": "stream",
     "text": [
      "Epoch 60:  11%|█         | 4/38 [00:00<00:01, 31.32batch/s, loss=50.0000]"
     ]
    },
    {
     "name": "stdout",
     "output_type": "stream",
     "text": [
      "DEBUG: scores.shape = torch.Size([8, 16])\n"
     ]
    },
    {
     "name": "stderr",
     "output_type": "stream",
     "text": [
      "Epoch 60:  11%|█         | 4/38 [00:00<00:01, 31.32batch/s, loss=62.5000]"
     ]
    },
    {
     "name": "stdout",
     "output_type": "stream",
     "text": [
      "DEBUG: scores.shape = torch.Size([8, 16])\n"
     ]
    },
    {
     "name": "stderr",
     "output_type": "stream",
     "text": [
      "Epoch 60:  21%|██        | 8/38 [00:00<00:00, 32.64batch/s, loss=37.5000]"
     ]
    },
    {
     "name": "stdout",
     "output_type": "stream",
     "text": [
      "DEBUG: scores.shape = torch.Size([8, 16])\n",
      "DEBUG: scores.shape = torch.Size([8, 16])\n"
     ]
    },
    {
     "name": "stderr",
     "output_type": "stream",
     "text": [
      "Epoch 60:  21%|██        | 8/38 [00:00<00:00, 32.64batch/s, loss=62.5000]"
     ]
    },
    {
     "name": "stdout",
     "output_type": "stream",
     "text": [
      "DEBUG: scores.shape = torch.Size([8, 16])\n"
     ]
    },
    {
     "name": "stderr",
     "output_type": "stream",
     "text": [
      "Epoch 60:  32%|███▏      | 12/38 [00:00<00:00, 33.68batch/s, loss=62.5000]"
     ]
    },
    {
     "name": "stdout",
     "output_type": "stream",
     "text": [
      "DEBUG: scores.shape = torch.Size([8, 16])\n",
      "DEBUG: scores.shape = torch.Size([8, 16])\n",
      "DEBUG: scores.shape = torch.Size([8, 16])\n"
     ]
    },
    {
     "name": "stderr",
     "output_type": "stream",
     "text": [
      "Epoch 60:  32%|███▏      | 12/38 [00:00<00:00, 33.68batch/s, loss=75.0000]"
     ]
    },
    {
     "name": "stdout",
     "output_type": "stream",
     "text": [
      "DEBUG: scores.shape = torch.Size([8, 16])\n"
     ]
    },
    {
     "name": "stderr",
     "output_type": "stream",
     "text": [
      "Epoch 60:  42%|████▏     | 16/38 [00:00<00:00, 34.68batch/s, loss=50.0000]"
     ]
    },
    {
     "name": "stdout",
     "output_type": "stream",
     "text": [
      "DEBUG: scores.shape = torch.Size([8, 16])\n"
     ]
    },
    {
     "name": "stderr",
     "output_type": "stream",
     "text": [
      "Epoch 60:  42%|████▏     | 16/38 [00:00<00:00, 34.68batch/s, loss=75.0000]"
     ]
    },
    {
     "name": "stdout",
     "output_type": "stream",
     "text": [
      "DEBUG: scores.shape = torch.Size([8, 16])\n"
     ]
    },
    {
     "name": "stderr",
     "output_type": "stream",
     "text": [
      "Epoch 60:  42%|████▏     | 16/38 [00:00<00:00, 34.68batch/s, loss=75.0000]"
     ]
    },
    {
     "name": "stdout",
     "output_type": "stream",
     "text": [
      "DEBUG: scores.shape = torch.Size([8, 16])\n",
      "DEBUG: scores.shape = torch.Size([8, 16])\n"
     ]
    },
    {
     "name": "stderr",
     "output_type": "stream",
     "text": [
      "Epoch 60:  53%|█████▎    | 20/38 [00:00<00:00, 35.12batch/s, loss=37.5000]"
     ]
    },
    {
     "name": "stdout",
     "output_type": "stream",
     "text": [
      "DEBUG: scores.shape = torch.Size([8, 16])\n",
      "DEBUG: scores.shape = torch.Size([8, 16])\n",
      "DEBUG: scores.shape = torch.Size([8, 16])\n"
     ]
    },
    {
     "name": "stderr",
     "output_type": "stream",
     "text": [
      "Epoch 60:  53%|█████▎    | 20/38 [00:00<00:00, 35.12batch/s, loss=50.0000]"
     ]
    },
    {
     "name": "stdout",
     "output_type": "stream",
     "text": [
      "DEBUG: scores.shape = torch.Size([8, 16])\n",
      "DEBUG: scores.shape = torch.Size([8, 16])\n"
     ]
    },
    {
     "name": "stderr",
     "output_type": "stream",
     "text": [
      "Epoch 60:  63%|██████▎   | 24/38 [00:00<00:00, 33.64batch/s, loss=50.0000]"
     ]
    },
    {
     "name": "stdout",
     "output_type": "stream",
     "text": [
      "DEBUG: scores.shape = torch.Size([8, 16])\n",
      "DEBUG: scores.shape = torch.Size([8, 16])\n"
     ]
    },
    {
     "name": "stderr",
     "output_type": "stream",
     "text": [
      "Epoch 60:  74%|███████▎  | 28/38 [00:00<00:00, 33.24batch/s, loss=75.0000]"
     ]
    },
    {
     "name": "stdout",
     "output_type": "stream",
     "text": [
      "DEBUG: scores.shape = torch.Size([8, 16])\n",
      "DEBUG: scores.shape = torch.Size([8, 16])\n",
      "DEBUG: scores.shape = torch.Size([8, 16])\n"
     ]
    },
    {
     "name": "stderr",
     "output_type": "stream",
     "text": [
      "Epoch 60:  74%|███████▎  | 28/38 [00:00<00:00, 33.24batch/s, loss=75.0000]"
     ]
    },
    {
     "name": "stdout",
     "output_type": "stream",
     "text": [
      "DEBUG: scores.shape = torch.Size([8, 16])\n",
      "DEBUG: scores.shape = torch.Size([8, 16])\n"
     ]
    },
    {
     "name": "stderr",
     "output_type": "stream",
     "text": [
      "Epoch 60:  84%|████████▍ | 32/38 [00:01<00:00, 33.98batch/s, loss=37.5000]"
     ]
    },
    {
     "name": "stdout",
     "output_type": "stream",
     "text": [
      "DEBUG: scores.shape = torch.Size([8, 16])\n",
      "DEBUG: scores.shape = torch.Size([8, 16])\n",
      "DEBUG: scores.shape = torch.Size([8, 16])\n"
     ]
    },
    {
     "name": "stderr",
     "output_type": "stream",
     "text": [
      "Epoch 60:  84%|████████▍ | 32/38 [00:01<00:00, 33.98batch/s, loss=62.5000]"
     ]
    },
    {
     "name": "stdout",
     "output_type": "stream",
     "text": [
      "DEBUG: scores.shape = torch.Size([8, 16])\n",
      "DEBUG: scores.shape = torch.Size([8, 16])\n"
     ]
    },
    {
     "name": "stderr",
     "output_type": "stream",
     "text": [
      "Epoch 60:  95%|█████████▍| 36/38 [00:01<00:00, 33.01batch/s, loss=75.0000]"
     ]
    },
    {
     "name": "stdout",
     "output_type": "stream",
     "text": [
      "DEBUG: scores.shape = torch.Size([8, 16])\n",
      "DEBUG: scores.shape = torch.Size([4, 16])\n"
     ]
    },
    {
     "name": "stderr",
     "output_type": "stream",
     "text": [
      "Epoch 60: 100%|██████████| 38/38 [00:01<00:00, 33.68batch/s, loss=75.0000]\n"
     ]
    },
    {
     "name": "stdout",
     "output_type": "stream",
     "text": [
      "Epoch 60, Loss: 50.3289\n"
     ]
    },
    {
     "name": "stderr",
     "output_type": "stream",
     "text": [
      "Epoch 61:   0%|          | 0/38 [00:00<?, ?batch/s, loss=37.5000]"
     ]
    },
    {
     "name": "stdout",
     "output_type": "stream",
     "text": [
      "DEBUG: scores.shape = torch.Size([8, 16])\n",
      "DEBUG: scores.shape = torch.Size([8, 16])\n",
      "DEBUG: scores.shape = torch.Size([8, 16])\n"
     ]
    },
    {
     "name": "stderr",
     "output_type": "stream",
     "text": [
      "Epoch 61:  11%|█         | 4/38 [00:00<00:00, 34.46batch/s, loss=87.5000]"
     ]
    },
    {
     "name": "stdout",
     "output_type": "stream",
     "text": [
      "DEBUG: scores.shape = torch.Size([8, 16])\n",
      "DEBUG: scores.shape = torch.Size([8, 16])\n"
     ]
    },
    {
     "name": "stderr",
     "output_type": "stream",
     "text": [
      "Epoch 61:  11%|█         | 4/38 [00:00<00:00, 34.46batch/s, loss=62.5000]"
     ]
    },
    {
     "name": "stdout",
     "output_type": "stream",
     "text": [
      "DEBUG: scores.shape = torch.Size([8, 16])\n",
      "DEBUG: scores.shape = torch.Size([8, 16])\n"
     ]
    },
    {
     "name": "stderr",
     "output_type": "stream",
     "text": [
      "Epoch 61:  21%|██        | 8/38 [00:00<00:00, 32.77batch/s, loss=37.5000]"
     ]
    },
    {
     "name": "stdout",
     "output_type": "stream",
     "text": [
      "DEBUG: scores.shape = torch.Size([8, 16])\n",
      "DEBUG: scores.shape = torch.Size([8, 16])\n",
      "DEBUG: scores.shape = torch.Size([8, 16])\n"
     ]
    },
    {
     "name": "stderr",
     "output_type": "stream",
     "text": [
      "Epoch 61:  21%|██        | 8/38 [00:00<00:00, 32.77batch/s, loss=75.0000]"
     ]
    },
    {
     "name": "stdout",
     "output_type": "stream",
     "text": [
      "DEBUG: scores.shape = torch.Size([8, 16])\n",
      "DEBUG: scores.shape = torch.Size([8, 16])\n"
     ]
    },
    {
     "name": "stderr",
     "output_type": "stream",
     "text": [
      "Epoch 61:  32%|███▏      | 12/38 [00:00<00:00, 33.36batch/s, loss=25.0000]"
     ]
    },
    {
     "name": "stdout",
     "output_type": "stream",
     "text": [
      "DEBUG: scores.shape = torch.Size([8, 16])\n",
      "DEBUG: scores.shape = torch.Size([8, 16])\n"
     ]
    },
    {
     "name": "stderr",
     "output_type": "stream",
     "text": [
      "Epoch 61:  42%|████▏     | 16/38 [00:00<00:00, 33.00batch/s, loss=37.5000]"
     ]
    },
    {
     "name": "stdout",
     "output_type": "stream",
     "text": [
      "DEBUG: scores.shape = torch.Size([8, 16])\n",
      "DEBUG: scores.shape = torch.Size([8, 16])\n",
      "DEBUG: scores.shape = torch.Size([8, 16])\n"
     ]
    },
    {
     "name": "stderr",
     "output_type": "stream",
     "text": [
      "Epoch 61:  42%|████▏     | 16/38 [00:00<00:00, 33.00batch/s, loss=50.0000]"
     ]
    },
    {
     "name": "stdout",
     "output_type": "stream",
     "text": [
      "DEBUG: scores.shape = torch.Size([8, 16])\n",
      "DEBUG: scores.shape = torch.Size([8, 16])\n"
     ]
    },
    {
     "name": "stderr",
     "output_type": "stream",
     "text": [
      "Epoch 61:  53%|█████▎    | 20/38 [00:00<00:00, 32.83batch/s, loss=75.0000]"
     ]
    },
    {
     "name": "stdout",
     "output_type": "stream",
     "text": [
      "DEBUG: scores.shape = torch.Size([8, 16])\n",
      "DEBUG: scores.shape = torch.Size([8, 16])\n"
     ]
    },
    {
     "name": "stderr",
     "output_type": "stream",
     "text": [
      "Epoch 61:  53%|█████▎    | 20/38 [00:00<00:00, 32.83batch/s, loss=50.0000]"
     ]
    },
    {
     "name": "stdout",
     "output_type": "stream",
     "text": [
      "DEBUG: scores.shape = torch.Size([8, 16])\n",
      "DEBUG: scores.shape = torch.Size([8, 16])\n",
      "DEBUG: scores.shape = torch.Size([8, 16])\n"
     ]
    },
    {
     "name": "stderr",
     "output_type": "stream",
     "text": [
      "Epoch 61:  63%|██████▎   | 24/38 [00:00<00:00, 32.83batch/s, loss=62.5000]"
     ]
    },
    {
     "name": "stdout",
     "output_type": "stream",
     "text": [
      "DEBUG: scores.shape = torch.Size([8, 16])\n",
      "DEBUG: scores.shape = torch.Size([8, 16])\n"
     ]
    },
    {
     "name": "stderr",
     "output_type": "stream",
     "text": [
      "Epoch 61:  63%|██████▎   | 24/38 [00:00<00:00, 32.83batch/s, loss=37.5000]"
     ]
    },
    {
     "name": "stdout",
     "output_type": "stream",
     "text": [
      "DEBUG: scores.shape = torch.Size([8, 16])\n",
      "DEBUG: scores.shape = torch.Size([8, 16])\n"
     ]
    },
    {
     "name": "stderr",
     "output_type": "stream",
     "text": [
      "Epoch 61:  74%|███████▎  | 28/38 [00:00<00:00, 32.97batch/s, loss=75.0000]"
     ]
    },
    {
     "name": "stdout",
     "output_type": "stream",
     "text": [
      "DEBUG: scores.shape = torch.Size([8, 16])\n",
      "DEBUG: scores.shape = torch.Size([8, 16])\n",
      "DEBUG: scores.shape = torch.Size([8, 16])\n"
     ]
    },
    {
     "name": "stderr",
     "output_type": "stream",
     "text": [
      "Epoch 61:  84%|████████▍ | 32/38 [00:00<00:00, 32.87batch/s, loss=25.0000]"
     ]
    },
    {
     "name": "stdout",
     "output_type": "stream",
     "text": [
      "DEBUG: scores.shape = torch.Size([8, 16])\n",
      "DEBUG: scores.shape = torch.Size([8, 16])\n"
     ]
    },
    {
     "name": "stderr",
     "output_type": "stream",
     "text": [
      "Epoch 61:  84%|████████▍ | 32/38 [00:01<00:00, 32.87batch/s, loss=50.0000]"
     ]
    },
    {
     "name": "stdout",
     "output_type": "stream",
     "text": [
      "DEBUG: scores.shape = torch.Size([8, 16])\n",
      "DEBUG: scores.shape = torch.Size([8, 16])\n"
     ]
    },
    {
     "name": "stderr",
     "output_type": "stream",
     "text": [
      "Epoch 61:  95%|█████████▍| 36/38 [00:01<00:00, 32.71batch/s, loss=25.0000]"
     ]
    },
    {
     "name": "stdout",
     "output_type": "stream",
     "text": [
      "DEBUG: scores.shape = torch.Size([8, 16])\n",
      "DEBUG: scores.shape = torch.Size([8, 16])\n"
     ]
    },
    {
     "name": "stderr",
     "output_type": "stream",
     "text": [
      "Epoch 61: 100%|██████████| 38/38 [00:01<00:00, 33.17batch/s, loss=75.0000]\n"
     ]
    },
    {
     "name": "stdout",
     "output_type": "stream",
     "text": [
      "DEBUG: scores.shape = torch.Size([4, 16])\n",
      "Epoch 61, Loss: 50.3289\n"
     ]
    },
    {
     "name": "stderr",
     "output_type": "stream",
     "text": [
      "Epoch 62:   0%|          | 0/38 [00:00<?, ?batch/s, loss=62.5000]"
     ]
    },
    {
     "name": "stdout",
     "output_type": "stream",
     "text": [
      "DEBUG: scores.shape = torch.Size([8, 16])\n",
      "DEBUG: scores.shape = torch.Size([8, 16])\n"
     ]
    },
    {
     "name": "stderr",
     "output_type": "stream",
     "text": [
      "Epoch 62:   8%|▊         | 3/38 [00:00<00:01, 29.42batch/s, loss=62.5000]"
     ]
    },
    {
     "name": "stdout",
     "output_type": "stream",
     "text": [
      "DEBUG: scores.shape = torch.Size([8, 16])\n",
      "DEBUG: scores.shape = torch.Size([8, 16])\n"
     ]
    },
    {
     "name": "stderr",
     "output_type": "stream",
     "text": [
      "Epoch 62:   8%|▊         | 3/38 [00:00<00:01, 29.42batch/s, loss=75.0000]"
     ]
    },
    {
     "name": "stdout",
     "output_type": "stream",
     "text": [
      "DEBUG: scores.shape = torch.Size([8, 16])\n"
     ]
    },
    {
     "name": "stderr",
     "output_type": "stream",
     "text": [
      "Epoch 62:  16%|█▌        | 6/38 [00:00<00:01, 29.43batch/s, loss=37.5000]"
     ]
    },
    {
     "name": "stdout",
     "output_type": "stream",
     "text": [
      "DEBUG: scores.shape = torch.Size([8, 16])\n",
      "DEBUG: scores.shape = torch.Size([8, 16])\n"
     ]
    },
    {
     "name": "stderr",
     "output_type": "stream",
     "text": [
      "Epoch 62:  16%|█▌        | 6/38 [00:00<00:01, 29.43batch/s, loss=87.5000]"
     ]
    },
    {
     "name": "stdout",
     "output_type": "stream",
     "text": [
      "DEBUG: scores.shape = torch.Size([8, 16])\n",
      "DEBUG: scores.shape = torch.Size([8, 16])\n",
      "DEBUG: scores.shape = torch.Size([8, 16])\n"
     ]
    },
    {
     "name": "stderr",
     "output_type": "stream",
     "text": [
      "Epoch 62:  29%|██▉       | 11/38 [00:00<00:00, 33.71batch/s, loss=25.0000]"
     ]
    },
    {
     "name": "stdout",
     "output_type": "stream",
     "text": [
      "DEBUG: scores.shape = torch.Size([8, 16])\n",
      "DEBUG: scores.shape = torch.Size([8, 16])\n"
     ]
    },
    {
     "name": "stderr",
     "output_type": "stream",
     "text": [
      "Epoch 62:  29%|██▉       | 11/38 [00:00<00:00, 33.71batch/s, loss=62.5000]"
     ]
    },
    {
     "name": "stdout",
     "output_type": "stream",
     "text": [
      "DEBUG: scores.shape = torch.Size([8, 16])\n",
      "DEBUG: scores.shape = torch.Size([8, 16])\n"
     ]
    },
    {
     "name": "stderr",
     "output_type": "stream",
     "text": [
      "Epoch 62:  39%|███▉      | 15/38 [00:00<00:00, 33.11batch/s, loss=62.5000]"
     ]
    },
    {
     "name": "stdout",
     "output_type": "stream",
     "text": [
      "DEBUG: scores.shape = torch.Size([8, 16])\n",
      "DEBUG: scores.shape = torch.Size([8, 16])\n",
      "DEBUG: scores.shape = torch.Size([8, 16])\n"
     ]
    },
    {
     "name": "stderr",
     "output_type": "stream",
     "text": [
      "Epoch 62:  39%|███▉      | 15/38 [00:00<00:00, 33.11batch/s, loss=87.5000]"
     ]
    },
    {
     "name": "stdout",
     "output_type": "stream",
     "text": [
      "DEBUG: scores.shape = torch.Size([8, 16])\n",
      "DEBUG: scores.shape = torch.Size([8, 16])\n"
     ]
    },
    {
     "name": "stderr",
     "output_type": "stream",
     "text": [
      "Epoch 62:  50%|█████     | 19/38 [00:00<00:00, 33.08batch/s, loss=25.0000]"
     ]
    },
    {
     "name": "stdout",
     "output_type": "stream",
     "text": [
      "DEBUG: scores.shape = torch.Size([8, 16])\n",
      "DEBUG: scores.shape = torch.Size([8, 16])\n"
     ]
    },
    {
     "name": "stderr",
     "output_type": "stream",
     "text": [
      "Epoch 62:  61%|██████    | 23/38 [00:00<00:00, 32.92batch/s, loss=62.5000]"
     ]
    },
    {
     "name": "stdout",
     "output_type": "stream",
     "text": [
      "DEBUG: scores.shape = torch.Size([8, 16])\n",
      "DEBUG: scores.shape = torch.Size([8, 16])\n",
      "DEBUG: scores.shape = torch.Size([8, 16])\n"
     ]
    },
    {
     "name": "stderr",
     "output_type": "stream",
     "text": [
      "Epoch 62:  61%|██████    | 23/38 [00:00<00:00, 32.92batch/s, loss=25.0000]"
     ]
    },
    {
     "name": "stdout",
     "output_type": "stream",
     "text": [
      "DEBUG: scores.shape = torch.Size([8, 16])\n",
      "DEBUG: scores.shape = torch.Size([8, 16])\n",
      "DEBUG: scores.shape = torch.Size([8, 16])\n"
     ]
    },
    {
     "name": "stderr",
     "output_type": "stream",
     "text": [
      "Epoch 62:  71%|███████   | 27/38 [00:00<00:00, 34.88batch/s, loss=50.0000]"
     ]
    },
    {
     "name": "stdout",
     "output_type": "stream",
     "text": [
      "DEBUG: scores.shape = torch.Size([8, 16])\n",
      "DEBUG: scores.shape = torch.Size([8, 16])\n"
     ]
    },
    {
     "name": "stderr",
     "output_type": "stream",
     "text": [
      "Epoch 62:  82%|████████▏ | 31/38 [00:00<00:00, 34.85batch/s, loss=50.0000]"
     ]
    },
    {
     "name": "stdout",
     "output_type": "stream",
     "text": [
      "DEBUG: scores.shape = torch.Size([8, 16])\n",
      "DEBUG: scores.shape = torch.Size([8, 16])\n",
      "DEBUG: scores.shape = torch.Size([8, 16])\n"
     ]
    },
    {
     "name": "stderr",
     "output_type": "stream",
     "text": [
      "Epoch 62:  82%|████████▏ | 31/38 [00:01<00:00, 34.85batch/s, loss=50.0000]"
     ]
    },
    {
     "name": "stdout",
     "output_type": "stream",
     "text": [
      "DEBUG: scores.shape = torch.Size([8, 16])\n",
      "DEBUG: scores.shape = torch.Size([8, 16])\n"
     ]
    },
    {
     "name": "stderr",
     "output_type": "stream",
     "text": [
      "Epoch 62:  92%|█████████▏| 35/38 [00:01<00:00, 34.63batch/s, loss=50.0000]"
     ]
    },
    {
     "name": "stdout",
     "output_type": "stream",
     "text": [
      "DEBUG: scores.shape = torch.Size([8, 16])\n",
      "DEBUG: scores.shape = torch.Size([8, 16])\n"
     ]
    },
    {
     "name": "stderr",
     "output_type": "stream",
     "text": [
      "Epoch 62: 100%|██████████| 38/38 [00:01<00:00, 34.30batch/s, loss=50.0000]\n"
     ]
    },
    {
     "name": "stdout",
     "output_type": "stream",
     "text": [
      "DEBUG: scores.shape = torch.Size([8, 16])\n",
      "DEBUG: scores.shape = torch.Size([4, 16])\n",
      "Epoch 62, Loss: 50.0000\n"
     ]
    },
    {
     "name": "stderr",
     "output_type": "stream",
     "text": [
      "Epoch 63:   0%|          | 0/38 [00:00<?, ?batch/s, loss=62.5000]"
     ]
    },
    {
     "name": "stdout",
     "output_type": "stream",
     "text": [
      "DEBUG: scores.shape = torch.Size([8, 16])\n",
      "DEBUG: scores.shape = torch.Size([8, 16])\n"
     ]
    },
    {
     "name": "stderr",
     "output_type": "stream",
     "text": [
      "Epoch 63:   0%|          | 0/38 [00:00<?, ?batch/s, loss=37.5000]"
     ]
    },
    {
     "name": "stdout",
     "output_type": "stream",
     "text": [
      "DEBUG: scores.shape = torch.Size([8, 16])\n"
     ]
    },
    {
     "name": "stderr",
     "output_type": "stream",
     "text": [
      "Epoch 63:   8%|▊         | 3/38 [00:00<00:01, 27.63batch/s, loss=75.0000]"
     ]
    },
    {
     "name": "stdout",
     "output_type": "stream",
     "text": [
      "DEBUG: scores.shape = torch.Size([8, 16])\n",
      "DEBUG: scores.shape = torch.Size([8, 16])\n"
     ]
    },
    {
     "name": "stderr",
     "output_type": "stream",
     "text": [
      "Epoch 63:   8%|▊         | 3/38 [00:00<00:01, 27.63batch/s, loss=37.5000]"
     ]
    },
    {
     "name": "stdout",
     "output_type": "stream",
     "text": [
      "DEBUG: scores.shape = torch.Size([8, 16])\n",
      "DEBUG: scores.shape = torch.Size([8, 16])\n"
     ]
    },
    {
     "name": "stderr",
     "output_type": "stream",
     "text": [
      "Epoch 63:  18%|█▊        | 7/38 [00:00<00:00, 32.08batch/s, loss=62.5000]"
     ]
    },
    {
     "name": "stdout",
     "output_type": "stream",
     "text": [
      "DEBUG: scores.shape = torch.Size([8, 16])\n",
      "DEBUG: scores.shape = torch.Size([8, 16])\n"
     ]
    },
    {
     "name": "stderr",
     "output_type": "stream",
     "text": [
      "Epoch 63:  18%|█▊        | 7/38 [00:00<00:00, 32.08batch/s, loss=75.0000]"
     ]
    },
    {
     "name": "stdout",
     "output_type": "stream",
     "text": [
      "DEBUG: scores.shape = torch.Size([8, 16])\n"
     ]
    },
    {
     "name": "stderr",
     "output_type": "stream",
     "text": [
      "Epoch 63:  29%|██▉       | 11/38 [00:00<00:00, 33.42batch/s, loss=25.0000]"
     ]
    },
    {
     "name": "stdout",
     "output_type": "stream",
     "text": [
      "DEBUG: scores.shape = torch.Size([8, 16])\n",
      "DEBUG: scores.shape = torch.Size([8, 16])\n",
      "DEBUG: scores.shape = torch.Size([8, 16])\n"
     ]
    },
    {
     "name": "stderr",
     "output_type": "stream",
     "text": [
      "Epoch 63:  29%|██▉       | 11/38 [00:00<00:00, 33.42batch/s, loss=75.0000]"
     ]
    },
    {
     "name": "stdout",
     "output_type": "stream",
     "text": [
      "DEBUG: scores.shape = torch.Size([8, 16])\n",
      "DEBUG: scores.shape = torch.Size([8, 16])\n"
     ]
    },
    {
     "name": "stderr",
     "output_type": "stream",
     "text": [
      "Epoch 63:  39%|███▉      | 15/38 [00:00<00:00, 34.71batch/s, loss=37.5000]"
     ]
    },
    {
     "name": "stdout",
     "output_type": "stream",
     "text": [
      "DEBUG: scores.shape = torch.Size([8, 16])\n"
     ]
    },
    {
     "name": "stderr",
     "output_type": "stream",
     "text": [
      "Epoch 63:  39%|███▉      | 15/38 [00:00<00:00, 34.71batch/s, loss=37.5000]"
     ]
    },
    {
     "name": "stdout",
     "output_type": "stream",
     "text": [
      "DEBUG: scores.shape = torch.Size([8, 16])\n"
     ]
    },
    {
     "name": "stderr",
     "output_type": "stream",
     "text": [
      "Epoch 63:  39%|███▉      | 15/38 [00:00<00:00, 34.71batch/s, loss=62.5000]"
     ]
    },
    {
     "name": "stdout",
     "output_type": "stream",
     "text": [
      "DEBUG: scores.shape = torch.Size([8, 16])\n",
      "DEBUG: scores.shape = torch.Size([8, 16])\n"
     ]
    },
    {
     "name": "stderr",
     "output_type": "stream",
     "text": [
      "Epoch 63:  50%|█████     | 19/38 [00:00<00:00, 33.42batch/s, loss=75.0000]"
     ]
    },
    {
     "name": "stdout",
     "output_type": "stream",
     "text": [
      "DEBUG: scores.shape = torch.Size([8, 16])\n",
      "DEBUG: scores.shape = torch.Size([8, 16])\n"
     ]
    },
    {
     "name": "stderr",
     "output_type": "stream",
     "text": [
      "Epoch 63:  50%|█████     | 19/38 [00:00<00:00, 33.42batch/s, loss=50.0000]"
     ]
    },
    {
     "name": "stdout",
     "output_type": "stream",
     "text": [
      "DEBUG: scores.shape = torch.Size([8, 16])\n",
      "DEBUG: scores.shape = torch.Size([8, 16])\n"
     ]
    },
    {
     "name": "stderr",
     "output_type": "stream",
     "text": [
      "Epoch 63:  61%|██████    | 23/38 [00:00<00:00, 30.88batch/s, loss=62.5000]"
     ]
    },
    {
     "name": "stdout",
     "output_type": "stream",
     "text": [
      "DEBUG: scores.shape = torch.Size([8, 16])\n"
     ]
    },
    {
     "name": "stderr",
     "output_type": "stream",
     "text": [
      "Epoch 63:  61%|██████    | 23/38 [00:00<00:00, 30.88batch/s, loss=50.0000]"
     ]
    },
    {
     "name": "stdout",
     "output_type": "stream",
     "text": [
      "DEBUG: scores.shape = torch.Size([8, 16])\n",
      "DEBUG: scores.shape = torch.Size([8, 16])\n"
     ]
    },
    {
     "name": "stderr",
     "output_type": "stream",
     "text": [
      "Epoch 63:  71%|███████   | 27/38 [00:00<00:00, 31.17batch/s, loss=37.5000]"
     ]
    },
    {
     "name": "stdout",
     "output_type": "stream",
     "text": [
      "DEBUG: scores.shape = torch.Size([8, 16])\n",
      "DEBUG: scores.shape = torch.Size([8, 16])\n"
     ]
    },
    {
     "name": "stderr",
     "output_type": "stream",
     "text": [
      "Epoch 63:  71%|███████   | 27/38 [00:00<00:00, 31.17batch/s, loss=37.5000]"
     ]
    },
    {
     "name": "stdout",
     "output_type": "stream",
     "text": [
      "DEBUG: scores.shape = torch.Size([8, 16])\n"
     ]
    },
    {
     "name": "stderr",
     "output_type": "stream",
     "text": [
      "Epoch 63:  71%|███████   | 27/38 [00:00<00:00, 31.17batch/s, loss=50.0000]"
     ]
    },
    {
     "name": "stdout",
     "output_type": "stream",
     "text": [
      "DEBUG: scores.shape = torch.Size([8, 16])\n"
     ]
    },
    {
     "name": "stderr",
     "output_type": "stream",
     "text": [
      "Epoch 63:  82%|████████▏ | 31/38 [00:01<00:00, 28.40batch/s, loss=75.0000]"
     ]
    },
    {
     "name": "stdout",
     "output_type": "stream",
     "text": [
      "DEBUG: scores.shape = torch.Size([8, 16])\n",
      "DEBUG: scores.shape = torch.Size([8, 16])\n"
     ]
    },
    {
     "name": "stderr",
     "output_type": "stream",
     "text": [
      "Epoch 63:  82%|████████▏ | 31/38 [00:01<00:00, 28.40batch/s, loss=37.5000]"
     ]
    },
    {
     "name": "stdout",
     "output_type": "stream",
     "text": [
      "DEBUG: scores.shape = torch.Size([8, 16])\n"
     ]
    },
    {
     "name": "stderr",
     "output_type": "stream",
     "text": [
      "Epoch 63:  82%|████████▏ | 31/38 [00:01<00:00, 28.40batch/s, loss=50.0000]"
     ]
    },
    {
     "name": "stdout",
     "output_type": "stream",
     "text": [
      "DEBUG: scores.shape = torch.Size([8, 16])\n"
     ]
    },
    {
     "name": "stderr",
     "output_type": "stream",
     "text": [
      "Epoch 63:  89%|████████▉ | 34/38 [00:01<00:00, 28.41batch/s, loss=50.0000]"
     ]
    },
    {
     "name": "stdout",
     "output_type": "stream",
     "text": [
      "DEBUG: scores.shape = torch.Size([8, 16])\n"
     ]
    },
    {
     "name": "stderr",
     "output_type": "stream",
     "text": [
      "Epoch 63: 100%|██████████| 38/38 [00:01<00:00, 30.57batch/s, loss=100.0000]\n"
     ]
    },
    {
     "name": "stdout",
     "output_type": "stream",
     "text": [
      "DEBUG: scores.shape = torch.Size([8, 16])\n",
      "DEBUG: scores.shape = torch.Size([8, 16])\n",
      "DEBUG: scores.shape = torch.Size([4, 16])\n",
      "Epoch 63, Loss: 50.6579\n"
     ]
    },
    {
     "name": "stderr",
     "output_type": "stream",
     "text": [
      "Epoch 64:   0%|          | 0/38 [00:00<?, ?batch/s]"
     ]
    },
    {
     "name": "stdout",
     "output_type": "stream",
     "text": [
      "DEBUG: scores.shape = torch.Size([8, 16])\n"
     ]
    },
    {
     "name": "stderr",
     "output_type": "stream",
     "text": [
      "Epoch 64:   0%|          | 0/38 [00:00<?, ?batch/s, loss=12.5000]"
     ]
    },
    {
     "name": "stdout",
     "output_type": "stream",
     "text": [
      "DEBUG: scores.shape = torch.Size([8, 16])\n",
      "DEBUG: scores.shape = torch.Size([8, 16])\n",
      "DEBUG: scores.shape = torch.Size([8, 16])\n"
     ]
    },
    {
     "name": "stderr",
     "output_type": "stream",
     "text": [
      "Epoch 64:  11%|█         | 4/38 [00:00<00:01, 31.76batch/s, loss=37.5000]"
     ]
    },
    {
     "name": "stdout",
     "output_type": "stream",
     "text": [
      "DEBUG: scores.shape = torch.Size([8, 16])\n",
      "DEBUG: scores.shape = torch.Size([8, 16])\n"
     ]
    },
    {
     "name": "stderr",
     "output_type": "stream",
     "text": [
      "Epoch 64:  11%|█         | 4/38 [00:00<00:01, 31.76batch/s, loss=75.0000]"
     ]
    },
    {
     "name": "stdout",
     "output_type": "stream",
     "text": [
      "DEBUG: scores.shape = torch.Size([8, 16])\n"
     ]
    },
    {
     "name": "stderr",
     "output_type": "stream",
     "text": [
      "Epoch 64:  21%|██        | 8/38 [00:00<00:00, 30.97batch/s, loss=25.0000]"
     ]
    },
    {
     "name": "stdout",
     "output_type": "stream",
     "text": [
      "DEBUG: scores.shape = torch.Size([8, 16])\n",
      "DEBUG: scores.shape = torch.Size([8, 16])\n",
      "DEBUG: scores.shape = torch.Size([8, 16])\n"
     ]
    },
    {
     "name": "stderr",
     "output_type": "stream",
     "text": [
      "Epoch 64:  32%|███▏      | 12/38 [00:00<00:00, 31.75batch/s, loss=50.0000]"
     ]
    },
    {
     "name": "stdout",
     "output_type": "stream",
     "text": [
      "DEBUG: scores.shape = torch.Size([8, 16])\n",
      "DEBUG: scores.shape = torch.Size([8, 16])\n",
      "DEBUG: scores.shape = torch.Size([8, 16])\n"
     ]
    },
    {
     "name": "stderr",
     "output_type": "stream",
     "text": [
      "Epoch 64:  32%|███▏      | 12/38 [00:00<00:00, 31.75batch/s, loss=62.5000]"
     ]
    },
    {
     "name": "stdout",
     "output_type": "stream",
     "text": [
      "DEBUG: scores.shape = torch.Size([8, 16])\n"
     ]
    },
    {
     "name": "stderr",
     "output_type": "stream",
     "text": [
      "Epoch 64:  42%|████▏     | 16/38 [00:00<00:00, 33.84batch/s, loss=50.0000]"
     ]
    },
    {
     "name": "stdout",
     "output_type": "stream",
     "text": [
      "DEBUG: scores.shape = torch.Size([8, 16])\n",
      "DEBUG: scores.shape = torch.Size([8, 16])\n",
      "DEBUG: scores.shape = torch.Size([8, 16])\n",
      "DEBUG: scores.shape = torch.Size([8, 16])\n"
     ]
    },
    {
     "name": "stderr",
     "output_type": "stream",
     "text": [
      "Epoch 64:  42%|████▏     | 16/38 [00:00<00:00, 33.84batch/s, loss=12.5000]"
     ]
    },
    {
     "name": "stdout",
     "output_type": "stream",
     "text": [
      "DEBUG: scores.shape = torch.Size([8, 16])\n",
      "DEBUG: scores.shape = torch.Size([8, 16])\n"
     ]
    },
    {
     "name": "stderr",
     "output_type": "stream",
     "text": [
      "Epoch 64:  53%|█████▎    | 20/38 [00:00<00:00, 33.17batch/s, loss=37.5000]"
     ]
    },
    {
     "name": "stdout",
     "output_type": "stream",
     "text": [
      "DEBUG: scores.shape = torch.Size([8, 16])\n",
      "DEBUG: scores.shape = torch.Size([8, 16])\n"
     ]
    },
    {
     "name": "stderr",
     "output_type": "stream",
     "text": [
      "Epoch 64:  63%|██████▎   | 24/38 [00:00<00:00, 32.68batch/s, loss=62.5000]"
     ]
    },
    {
     "name": "stdout",
     "output_type": "stream",
     "text": [
      "DEBUG: scores.shape = torch.Size([8, 16])\n",
      "DEBUG: scores.shape = torch.Size([8, 16])\n",
      "DEBUG: scores.shape = torch.Size([8, 16])\n"
     ]
    },
    {
     "name": "stderr",
     "output_type": "stream",
     "text": [
      "Epoch 64:  63%|██████▎   | 24/38 [00:00<00:00, 32.68batch/s, loss=50.0000]"
     ]
    },
    {
     "name": "stdout",
     "output_type": "stream",
     "text": [
      "DEBUG: scores.shape = torch.Size([8, 16])\n",
      "DEBUG: scores.shape = torch.Size([8, 16])\n"
     ]
    },
    {
     "name": "stderr",
     "output_type": "stream",
     "text": [
      "Epoch 64:  76%|███████▋  | 29/38 [00:00<00:00, 34.41batch/s, loss=62.5000]"
     ]
    },
    {
     "name": "stdout",
     "output_type": "stream",
     "text": [
      "DEBUG: scores.shape = torch.Size([8, 16])\n",
      "DEBUG: scores.shape = torch.Size([8, 16])\n",
      "DEBUG: scores.shape = torch.Size([8, 16])\n"
     ]
    },
    {
     "name": "stderr",
     "output_type": "stream",
     "text": [
      "Epoch 64:  76%|███████▋  | 29/38 [00:00<00:00, 34.41batch/s, loss=37.5000]"
     ]
    },
    {
     "name": "stdout",
     "output_type": "stream",
     "text": [
      "DEBUG: scores.shape = torch.Size([8, 16])\n",
      "DEBUG: scores.shape = torch.Size([8, 16])\n"
     ]
    },
    {
     "name": "stderr",
     "output_type": "stream",
     "text": [
      "Epoch 64:  87%|████████▋ | 33/38 [00:00<00:00, 34.48batch/s, loss=25.0000]"
     ]
    },
    {
     "name": "stdout",
     "output_type": "stream",
     "text": [
      "DEBUG: scores.shape = torch.Size([8, 16])\n",
      "DEBUG: scores.shape = torch.Size([8, 16])\n"
     ]
    },
    {
     "name": "stderr",
     "output_type": "stream",
     "text": [
      "Epoch 64:  87%|████████▋ | 33/38 [00:01<00:00, 34.48batch/s, loss=75.0000]"
     ]
    },
    {
     "name": "stdout",
     "output_type": "stream",
     "text": [
      "DEBUG: scores.shape = torch.Size([8, 16])\n",
      "DEBUG: scores.shape = torch.Size([8, 16])\n",
      "DEBUG: scores.shape = torch.Size([8, 16])\n"
     ]
    },
    {
     "name": "stderr",
     "output_type": "stream",
     "text": [
      "Epoch 64: 100%|██████████| 38/38 [00:01<00:00, 34.09batch/s, loss=25.0000]\n"
     ]
    },
    {
     "name": "stdout",
     "output_type": "stream",
     "text": [
      "DEBUG: scores.shape = torch.Size([4, 16])\n",
      "Epoch 64, Loss: 49.6711\n"
     ]
    },
    {
     "name": "stderr",
     "output_type": "stream",
     "text": [
      "Epoch 65:   0%|          | 0/38 [00:00<?, ?batch/s, loss=50.0000]"
     ]
    },
    {
     "name": "stdout",
     "output_type": "stream",
     "text": [
      "DEBUG: scores.shape = torch.Size([8, 16])\n",
      "DEBUG: scores.shape = torch.Size([8, 16])\n"
     ]
    },
    {
     "name": "stderr",
     "output_type": "stream",
     "text": [
      "Epoch 65:   0%|          | 0/38 [00:00<?, ?batch/s, loss=50.0000]"
     ]
    },
    {
     "name": "stdout",
     "output_type": "stream",
     "text": [
      "DEBUG: scores.shape = torch.Size([8, 16])\n"
     ]
    },
    {
     "name": "stderr",
     "output_type": "stream",
     "text": [
      "Epoch 65:   8%|▊         | 3/38 [00:00<00:01, 29.60batch/s, loss=50.0000]"
     ]
    },
    {
     "name": "stdout",
     "output_type": "stream",
     "text": [
      "DEBUG: scores.shape = torch.Size([8, 16])\n",
      "DEBUG: scores.shape = torch.Size([8, 16])\n",
      "DEBUG: scores.shape = torch.Size([8, 16])\n",
      "DEBUG: scores.shape = torch.Size([8, 16])\n"
     ]
    },
    {
     "name": "stderr",
     "output_type": "stream",
     "text": [
      "Epoch 65:  18%|█▊        | 7/38 [00:00<00:00, 32.13batch/s, loss=87.5000]"
     ]
    },
    {
     "name": "stdout",
     "output_type": "stream",
     "text": [
      "DEBUG: scores.shape = torch.Size([8, 16])\n",
      "DEBUG: scores.shape = torch.Size([8, 16])\n"
     ]
    },
    {
     "name": "stderr",
     "output_type": "stream",
     "text": [
      "Epoch 65:  18%|█▊        | 7/38 [00:00<00:00, 32.13batch/s, loss=62.5000]"
     ]
    },
    {
     "name": "stdout",
     "output_type": "stream",
     "text": [
      "DEBUG: scores.shape = torch.Size([8, 16])\n",
      "DEBUG: scores.shape = torch.Size([8, 16])\n"
     ]
    },
    {
     "name": "stderr",
     "output_type": "stream",
     "text": [
      "Epoch 65:  29%|██▉       | 11/38 [00:00<00:00, 33.41batch/s, loss=87.5000]"
     ]
    },
    {
     "name": "stdout",
     "output_type": "stream",
     "text": [
      "DEBUG: scores.shape = torch.Size([8, 16])\n",
      "DEBUG: scores.shape = torch.Size([8, 16])\n",
      "DEBUG: scores.shape = torch.Size([8, 16])\n"
     ]
    },
    {
     "name": "stderr",
     "output_type": "stream",
     "text": [
      "Epoch 65:  39%|███▉      | 15/38 [00:00<00:00, 33.18batch/s, loss=12.5000]"
     ]
    },
    {
     "name": "stdout",
     "output_type": "stream",
     "text": [
      "DEBUG: scores.shape = torch.Size([8, 16])\n",
      "DEBUG: scores.shape = torch.Size([8, 16])\n"
     ]
    },
    {
     "name": "stderr",
     "output_type": "stream",
     "text": [
      "Epoch 65:  39%|███▉      | 15/38 [00:00<00:00, 33.18batch/s, loss=62.5000]"
     ]
    },
    {
     "name": "stdout",
     "output_type": "stream",
     "text": [
      "DEBUG: scores.shape = torch.Size([8, 16])\n",
      "DEBUG: scores.shape = torch.Size([8, 16])\n"
     ]
    },
    {
     "name": "stderr",
     "output_type": "stream",
     "text": [
      "Epoch 65:  50%|█████     | 19/38 [00:00<00:00, 33.16batch/s, loss=87.5000]"
     ]
    },
    {
     "name": "stdout",
     "output_type": "stream",
     "text": [
      "DEBUG: scores.shape = torch.Size([8, 16])\n",
      "DEBUG: scores.shape = torch.Size([8, 16])\n"
     ]
    },
    {
     "name": "stderr",
     "output_type": "stream",
     "text": [
      "Epoch 65:  50%|█████     | 19/38 [00:00<00:00, 33.16batch/s, loss=50.0000]"
     ]
    },
    {
     "name": "stdout",
     "output_type": "stream",
     "text": [
      "DEBUG: scores.shape = torch.Size([8, 16])\n"
     ]
    },
    {
     "name": "stderr",
     "output_type": "stream",
     "text": [
      "Epoch 65:  50%|█████     | 19/38 [00:00<00:00, 33.16batch/s, loss=75.0000]"
     ]
    },
    {
     "name": "stdout",
     "output_type": "stream",
     "text": [
      "DEBUG: scores.shape = torch.Size([8, 16])\n",
      "DEBUG: scores.shape = torch.Size([8, 16])\n"
     ]
    },
    {
     "name": "stderr",
     "output_type": "stream",
     "text": [
      "Epoch 65:  61%|██████    | 23/38 [00:00<00:00, 31.01batch/s, loss=75.0000]"
     ]
    },
    {
     "name": "stdout",
     "output_type": "stream",
     "text": [
      "DEBUG: scores.shape = torch.Size([8, 16])\n"
     ]
    },
    {
     "name": "stderr",
     "output_type": "stream",
     "text": [
      "Epoch 65:  61%|██████    | 23/38 [00:00<00:00, 31.01batch/s, loss=25.0000]"
     ]
    },
    {
     "name": "stdout",
     "output_type": "stream",
     "text": [
      "DEBUG: scores.shape = torch.Size([8, 16])\n",
      "DEBUG: scores.shape = torch.Size([8, 16])\n",
      "DEBUG: scores.shape = torch.Size([8, 16])\n"
     ]
    },
    {
     "name": "stderr",
     "output_type": "stream",
     "text": [
      "Epoch 65:  71%|███████   | 27/38 [00:00<00:00, 30.22batch/s, loss=50.0000]"
     ]
    },
    {
     "name": "stdout",
     "output_type": "stream",
     "text": [
      "DEBUG: scores.shape = torch.Size([8, 16])\n",
      "DEBUG: scores.shape = torch.Size([8, 16])\n",
      "DEBUG: scores.shape = torch.Size([8, 16])\n"
     ]
    },
    {
     "name": "stderr",
     "output_type": "stream",
     "text": [
      "Epoch 65:  82%|████████▏ | 31/38 [00:01<00:00, 30.09batch/s, loss=37.5000]"
     ]
    },
    {
     "name": "stdout",
     "output_type": "stream",
     "text": [
      "DEBUG: scores.shape = torch.Size([8, 16])\n",
      "DEBUG: scores.shape = torch.Size([8, 16])\n",
      "DEBUG: scores.shape = torch.Size([8, 16])\n"
     ]
    },
    {
     "name": "stderr",
     "output_type": "stream",
     "text": [
      "Epoch 65:  82%|████████▏ | 31/38 [00:01<00:00, 30.09batch/s, loss=37.5000]"
     ]
    },
    {
     "name": "stdout",
     "output_type": "stream",
     "text": [
      "DEBUG: scores.shape = torch.Size([8, 16])\n"
     ]
    },
    {
     "name": "stderr",
     "output_type": "stream",
     "text": [
      "Epoch 65:  92%|█████████▏| 35/38 [00:01<00:00, 31.07batch/s, loss=37.5000]"
     ]
    },
    {
     "name": "stdout",
     "output_type": "stream",
     "text": [
      "DEBUG: scores.shape = torch.Size([8, 16])\n",
      "DEBUG: scores.shape = torch.Size([8, 16])\n"
     ]
    },
    {
     "name": "stderr",
     "output_type": "stream",
     "text": [
      "Epoch 65: 100%|██████████| 38/38 [00:01<00:00, 32.02batch/s, loss=75.0000]\n"
     ]
    },
    {
     "name": "stdout",
     "output_type": "stream",
     "text": [
      "DEBUG: scores.shape = torch.Size([8, 16])\n",
      "DEBUG: scores.shape = torch.Size([4, 16])\n",
      "Epoch 65, Loss: 50.3289\n"
     ]
    },
    {
     "name": "stderr",
     "output_type": "stream",
     "text": [
      "Epoch 66:   0%|          | 0/38 [00:00<?, ?batch/s, loss=50.0000]"
     ]
    },
    {
     "name": "stdout",
     "output_type": "stream",
     "text": [
      "DEBUG: scores.shape = torch.Size([8, 16])\n",
      "DEBUG: scores.shape = torch.Size([8, 16])\n"
     ]
    },
    {
     "name": "stderr",
     "output_type": "stream",
     "text": [
      "Epoch 66:   0%|          | 0/38 [00:00<?, ?batch/s, loss=37.5000]"
     ]
    },
    {
     "name": "stdout",
     "output_type": "stream",
     "text": [
      "DEBUG: scores.shape = torch.Size([8, 16])\n",
      "DEBUG: scores.shape = torch.Size([8, 16])\n"
     ]
    },
    {
     "name": "stderr",
     "output_type": "stream",
     "text": [
      "Epoch 66:  11%|█         | 4/38 [00:00<00:01, 32.58batch/s, loss=62.5000]"
     ]
    },
    {
     "name": "stdout",
     "output_type": "stream",
     "text": [
      "DEBUG: scores.shape = torch.Size([8, 16])\n"
     ]
    },
    {
     "name": "stderr",
     "output_type": "stream",
     "text": [
      "Epoch 66:  11%|█         | 4/38 [00:00<00:01, 32.58batch/s, loss=25.0000]"
     ]
    },
    {
     "name": "stdout",
     "output_type": "stream",
     "text": [
      "DEBUG: scores.shape = torch.Size([8, 16])\n",
      "DEBUG: scores.shape = torch.Size([8, 16])\n"
     ]
    },
    {
     "name": "stderr",
     "output_type": "stream",
     "text": [
      "Epoch 66:  21%|██        | 8/38 [00:00<00:00, 31.31batch/s, loss=37.5000]"
     ]
    },
    {
     "name": "stdout",
     "output_type": "stream",
     "text": [
      "DEBUG: scores.shape = torch.Size([8, 16])\n",
      "DEBUG: scores.shape = torch.Size([8, 16])\n"
     ]
    },
    {
     "name": "stderr",
     "output_type": "stream",
     "text": [
      "Epoch 66:  21%|██        | 8/38 [00:00<00:00, 31.31batch/s, loss=37.5000]"
     ]
    },
    {
     "name": "stdout",
     "output_type": "stream",
     "text": [
      "DEBUG: scores.shape = torch.Size([8, 16])\n",
      "DEBUG: scores.shape = torch.Size([8, 16])\n"
     ]
    },
    {
     "name": "stderr",
     "output_type": "stream",
     "text": [
      "Epoch 66:  21%|██        | 8/38 [00:00<00:00, 31.31batch/s, loss=37.5000]"
     ]
    },
    {
     "name": "stdout",
     "output_type": "stream",
     "text": [
      "DEBUG: scores.shape = torch.Size([8, 16])\n"
     ]
    },
    {
     "name": "stderr",
     "output_type": "stream",
     "text": [
      "Epoch 66:  32%|███▏      | 12/38 [00:00<00:00, 31.57batch/s, loss=50.0000]"
     ]
    },
    {
     "name": "stdout",
     "output_type": "stream",
     "text": [
      "DEBUG: scores.shape = torch.Size([8, 16])\n",
      "DEBUG: scores.shape = torch.Size([8, 16])\n"
     ]
    },
    {
     "name": "stderr",
     "output_type": "stream",
     "text": [
      "Epoch 66:  32%|███▏      | 12/38 [00:00<00:00, 31.57batch/s, loss=62.5000]"
     ]
    },
    {
     "name": "stdout",
     "output_type": "stream",
     "text": [
      "DEBUG: scores.shape = torch.Size([8, 16])\n"
     ]
    },
    {
     "name": "stderr",
     "output_type": "stream",
     "text": [
      "Epoch 66:  42%|████▏     | 16/38 [00:00<00:00, 31.00batch/s, loss=50.0000]"
     ]
    },
    {
     "name": "stdout",
     "output_type": "stream",
     "text": [
      "DEBUG: scores.shape = torch.Size([8, 16])\n",
      "DEBUG: scores.shape = torch.Size([8, 16])\n",
      "DEBUG: scores.shape = torch.Size([8, 16])\n"
     ]
    },
    {
     "name": "stderr",
     "output_type": "stream",
     "text": [
      "Epoch 66:  42%|████▏     | 16/38 [00:00<00:00, 31.00batch/s, loss=37.5000]"
     ]
    },
    {
     "name": "stdout",
     "output_type": "stream",
     "text": [
      "DEBUG: scores.shape = torch.Size([8, 16])\n"
     ]
    },
    {
     "name": "stderr",
     "output_type": "stream",
     "text": [
      "Epoch 66:  53%|█████▎    | 20/38 [00:00<00:00, 30.26batch/s, loss=62.5000]"
     ]
    },
    {
     "name": "stdout",
     "output_type": "stream",
     "text": [
      "DEBUG: scores.shape = torch.Size([8, 16])\n",
      "DEBUG: scores.shape = torch.Size([8, 16])\n",
      "DEBUG: scores.shape = torch.Size([8, 16])\n"
     ]
    },
    {
     "name": "stderr",
     "output_type": "stream",
     "text": [
      "Epoch 66:  63%|██████▎   | 24/38 [00:00<00:00, 31.02batch/s, loss=50.0000]"
     ]
    },
    {
     "name": "stdout",
     "output_type": "stream",
     "text": [
      "DEBUG: scores.shape = torch.Size([8, 16])\n",
      "DEBUG: scores.shape = torch.Size([8, 16])\n",
      "DEBUG: scores.shape = torch.Size([8, 16])\n"
     ]
    },
    {
     "name": "stderr",
     "output_type": "stream",
     "text": [
      "Epoch 66:  63%|██████▎   | 24/38 [00:00<00:00, 31.02batch/s, loss=37.5000]"
     ]
    },
    {
     "name": "stdout",
     "output_type": "stream",
     "text": [
      "DEBUG: scores.shape = torch.Size([8, 16])\n"
     ]
    },
    {
     "name": "stderr",
     "output_type": "stream",
     "text": [
      "Epoch 66:  63%|██████▎   | 24/38 [00:00<00:00, 31.02batch/s, loss=62.5000]"
     ]
    },
    {
     "name": "stdout",
     "output_type": "stream",
     "text": [
      "DEBUG: scores.shape = torch.Size([8, 16])\n",
      "DEBUG: scores.shape = torch.Size([8, 16])\n"
     ]
    },
    {
     "name": "stderr",
     "output_type": "stream",
     "text": [
      "Epoch 66:  74%|███████▎  | 28/38 [00:00<00:00, 31.29batch/s, loss=75.0000]"
     ]
    },
    {
     "name": "stdout",
     "output_type": "stream",
     "text": [
      "DEBUG: scores.shape = torch.Size([8, 16])\n"
     ]
    },
    {
     "name": "stderr",
     "output_type": "stream",
     "text": [
      "Epoch 66:  84%|████████▍ | 32/38 [00:01<00:00, 32.90batch/s, loss=50.0000]"
     ]
    },
    {
     "name": "stdout",
     "output_type": "stream",
     "text": [
      "DEBUG: scores.shape = torch.Size([8, 16])\n",
      "DEBUG: scores.shape = torch.Size([8, 16])\n",
      "DEBUG: scores.shape = torch.Size([8, 16])\n",
      "DEBUG: scores.shape = torch.Size([8, 16])\n"
     ]
    },
    {
     "name": "stderr",
     "output_type": "stream",
     "text": [
      "Epoch 66:  84%|████████▍ | 32/38 [00:01<00:00, 32.90batch/s, loss=50.0000]"
     ]
    },
    {
     "name": "stdout",
     "output_type": "stream",
     "text": [
      "DEBUG: scores.shape = torch.Size([8, 16])\n",
      "DEBUG: scores.shape = torch.Size([8, 16])\n",
      "DEBUG: scores.shape = torch.Size([8, 16])\n"
     ]
    },
    {
     "name": "stderr",
     "output_type": "stream",
     "text": [
      "Epoch 66: 100%|██████████| 38/38 [00:01<00:00, 32.29batch/s, loss=25.0000]\n"
     ]
    },
    {
     "name": "stdout",
     "output_type": "stream",
     "text": [
      "DEBUG: scores.shape = torch.Size([8, 16])\n",
      "DEBUG: scores.shape = torch.Size([4, 16])\n",
      "Epoch 66, Loss: 49.6711\n"
     ]
    },
    {
     "name": "stderr",
     "output_type": "stream",
     "text": [
      "Epoch 67:   0%|          | 0/38 [00:00<?, ?batch/s, loss=37.5000]"
     ]
    },
    {
     "name": "stdout",
     "output_type": "stream",
     "text": [
      "DEBUG: scores.shape = torch.Size([8, 16])\n",
      "DEBUG: scores.shape = torch.Size([8, 16])\n"
     ]
    },
    {
     "name": "stderr",
     "output_type": "stream",
     "text": [
      "Epoch 67:  11%|█         | 4/38 [00:00<00:01, 32.81batch/s, loss=50.0000]"
     ]
    },
    {
     "name": "stdout",
     "output_type": "stream",
     "text": [
      "DEBUG: scores.shape = torch.Size([8, 16])\n",
      "DEBUG: scores.shape = torch.Size([8, 16])\n",
      "DEBUG: scores.shape = torch.Size([8, 16])\n",
      "DEBUG: scores.shape = torch.Size([8, 16])\n"
     ]
    },
    {
     "name": "stderr",
     "output_type": "stream",
     "text": [
      "Epoch 67:  11%|█         | 4/38 [00:00<00:01, 32.81batch/s, loss=37.5000]"
     ]
    },
    {
     "name": "stdout",
     "output_type": "stream",
     "text": [
      "DEBUG: scores.shape = torch.Size([8, 16])\n",
      "DEBUG: scores.shape = torch.Size([8, 16])\n"
     ]
    },
    {
     "name": "stderr",
     "output_type": "stream",
     "text": [
      "Epoch 67:  21%|██        | 8/38 [00:00<00:00, 36.68batch/s, loss=50.0000]"
     ]
    },
    {
     "name": "stdout",
     "output_type": "stream",
     "text": [
      "DEBUG: scores.shape = torch.Size([8, 16])\n",
      "DEBUG: scores.shape = torch.Size([8, 16])\n"
     ]
    },
    {
     "name": "stderr",
     "output_type": "stream",
     "text": [
      "Epoch 67:  32%|███▏      | 12/38 [00:00<00:00, 36.87batch/s, loss=75.0000]"
     ]
    },
    {
     "name": "stdout",
     "output_type": "stream",
     "text": [
      "DEBUG: scores.shape = torch.Size([8, 16])\n",
      "DEBUG: scores.shape = torch.Size([8, 16])\n",
      "DEBUG: scores.shape = torch.Size([8, 16])\n",
      "DEBUG: scores.shape = torch.Size([8, 16])\n"
     ]
    },
    {
     "name": "stderr",
     "output_type": "stream",
     "text": [
      "Epoch 67:  32%|███▏      | 12/38 [00:00<00:00, 36.87batch/s, loss=62.5000]"
     ]
    },
    {
     "name": "stdout",
     "output_type": "stream",
     "text": [
      "DEBUG: scores.shape = torch.Size([8, 16])\n",
      "DEBUG: scores.shape = torch.Size([8, 16])\n"
     ]
    },
    {
     "name": "stderr",
     "output_type": "stream",
     "text": [
      "Epoch 67:  42%|████▏     | 16/38 [00:00<00:00, 37.68batch/s, loss=75.0000]"
     ]
    },
    {
     "name": "stdout",
     "output_type": "stream",
     "text": [
      "DEBUG: scores.shape = torch.Size([8, 16])\n",
      "DEBUG: scores.shape = torch.Size([8, 16])\n"
     ]
    },
    {
     "name": "stderr",
     "output_type": "stream",
     "text": [
      "Epoch 67:  53%|█████▎    | 20/38 [00:00<00:00, 35.38batch/s, loss=50.0000]"
     ]
    },
    {
     "name": "stdout",
     "output_type": "stream",
     "text": [
      "DEBUG: scores.shape = torch.Size([8, 16])\n",
      "DEBUG: scores.shape = torch.Size([8, 16])\n",
      "DEBUG: scores.shape = torch.Size([8, 16])\n"
     ]
    },
    {
     "name": "stderr",
     "output_type": "stream",
     "text": [
      "Epoch 67:  53%|█████▎    | 20/38 [00:00<00:00, 35.38batch/s, loss=37.5000]"
     ]
    },
    {
     "name": "stdout",
     "output_type": "stream",
     "text": [
      "DEBUG: scores.shape = torch.Size([8, 16])\n",
      "DEBUG: scores.shape = torch.Size([8, 16])\n"
     ]
    },
    {
     "name": "stderr",
     "output_type": "stream",
     "text": [
      "Epoch 67:  63%|██████▎   | 24/38 [00:00<00:00, 33.77batch/s, loss=62.5000]"
     ]
    },
    {
     "name": "stdout",
     "output_type": "stream",
     "text": [
      "DEBUG: scores.shape = torch.Size([8, 16])\n",
      "DEBUG: scores.shape = torch.Size([8, 16])\n"
     ]
    },
    {
     "name": "stderr",
     "output_type": "stream",
     "text": [
      "Epoch 67:  63%|██████▎   | 24/38 [00:00<00:00, 33.77batch/s, loss=87.5000]"
     ]
    },
    {
     "name": "stdout",
     "output_type": "stream",
     "text": [
      "DEBUG: scores.shape = torch.Size([8, 16])\n",
      "DEBUG: scores.shape = torch.Size([8, 16])\n",
      "DEBUG: scores.shape = torch.Size([8, 16])\n"
     ]
    },
    {
     "name": "stderr",
     "output_type": "stream",
     "text": [
      "Epoch 67:  74%|███████▎  | 28/38 [00:00<00:00, 33.60batch/s, loss=12.5000]"
     ]
    },
    {
     "name": "stdout",
     "output_type": "stream",
     "text": [
      "DEBUG: scores.shape = torch.Size([8, 16])\n",
      "DEBUG: scores.shape = torch.Size([8, 16])\n"
     ]
    },
    {
     "name": "stderr",
     "output_type": "stream",
     "text": [
      "Epoch 67:  84%|████████▍ | 32/38 [00:00<00:00, 33.98batch/s, loss=50.0000]"
     ]
    },
    {
     "name": "stdout",
     "output_type": "stream",
     "text": [
      "DEBUG: scores.shape = torch.Size([8, 16])\n",
      "DEBUG: scores.shape = torch.Size([8, 16])\n",
      "DEBUG: scores.shape = torch.Size([8, 16])\n"
     ]
    },
    {
     "name": "stderr",
     "output_type": "stream",
     "text": [
      "Epoch 67:  84%|████████▍ | 32/38 [00:01<00:00, 33.98batch/s, loss=25.0000]"
     ]
    },
    {
     "name": "stdout",
     "output_type": "stream",
     "text": [
      "DEBUG: scores.shape = torch.Size([8, 16])\n",
      "DEBUG: scores.shape = torch.Size([8, 16])\n"
     ]
    },
    {
     "name": "stderr",
     "output_type": "stream",
     "text": [
      "Epoch 67:  84%|████████▍ | 32/38 [00:01<00:00, 33.98batch/s, loss=75.0000]"
     ]
    },
    {
     "name": "stdout",
     "output_type": "stream",
     "text": [
      "DEBUG: scores.shape = torch.Size([8, 16])\n"
     ]
    },
    {
     "name": "stderr",
     "output_type": "stream",
     "text": [
      "Epoch 67: 100%|██████████| 38/38 [00:01<00:00, 34.35batch/s, loss=50.0000]\n"
     ]
    },
    {
     "name": "stdout",
     "output_type": "stream",
     "text": [
      "DEBUG: scores.shape = torch.Size([8, 16])\n",
      "DEBUG: scores.shape = torch.Size([4, 16])\n",
      "Epoch 67, Loss: 50.0000\n"
     ]
    },
    {
     "name": "stderr",
     "output_type": "stream",
     "text": [
      "Epoch 68:   0%|          | 0/38 [00:00<?, ?batch/s, loss=50.0000]"
     ]
    },
    {
     "name": "stdout",
     "output_type": "stream",
     "text": [
      "DEBUG: scores.shape = torch.Size([8, 16])\n",
      "DEBUG: scores.shape = torch.Size([8, 16])\n"
     ]
    },
    {
     "name": "stderr",
     "output_type": "stream",
     "text": [
      "Epoch 68:   0%|          | 0/38 [00:00<?, ?batch/s, loss=12.5000]"
     ]
    },
    {
     "name": "stdout",
     "output_type": "stream",
     "text": [
      "DEBUG: scores.shape = torch.Size([8, 16])\n",
      "DEBUG: scores.shape = torch.Size([8, 16])\n"
     ]
    },
    {
     "name": "stderr",
     "output_type": "stream",
     "text": [
      "Epoch 68:  11%|█         | 4/38 [00:00<00:01, 32.37batch/s, loss=75.0000]"
     ]
    },
    {
     "name": "stdout",
     "output_type": "stream",
     "text": [
      "DEBUG: scores.shape = torch.Size([8, 16])\n"
     ]
    },
    {
     "name": "stderr",
     "output_type": "stream",
     "text": [
      "Epoch 68:  11%|█         | 4/38 [00:00<00:01, 32.37batch/s, loss=12.5000]"
     ]
    },
    {
     "name": "stdout",
     "output_type": "stream",
     "text": [
      "DEBUG: scores.shape = torch.Size([8, 16])\n",
      "DEBUG: scores.shape = torch.Size([8, 16])\n"
     ]
    },
    {
     "name": "stderr",
     "output_type": "stream",
     "text": [
      "Epoch 68:  11%|█         | 4/38 [00:00<00:01, 32.37batch/s, loss=50.0000]"
     ]
    },
    {
     "name": "stdout",
     "output_type": "stream",
     "text": [
      "DEBUG: scores.shape = torch.Size([8, 16])\n"
     ]
    },
    {
     "name": "stderr",
     "output_type": "stream",
     "text": [
      "Epoch 68:  21%|██        | 8/38 [00:00<00:00, 31.06batch/s, loss=37.5000]"
     ]
    },
    {
     "name": "stdout",
     "output_type": "stream",
     "text": [
      "DEBUG: scores.shape = torch.Size([8, 16])\n",
      "DEBUG: scores.shape = torch.Size([8, 16])\n",
      "DEBUG: scores.shape = torch.Size([8, 16])\n"
     ]
    },
    {
     "name": "stderr",
     "output_type": "stream",
     "text": [
      "Epoch 68:  32%|███▏      | 12/38 [00:00<00:00, 33.87batch/s, loss=50.0000]"
     ]
    },
    {
     "name": "stdout",
     "output_type": "stream",
     "text": [
      "DEBUG: scores.shape = torch.Size([8, 16])\n"
     ]
    },
    {
     "name": "stderr",
     "output_type": "stream",
     "text": [
      "Epoch 68:  32%|███▏      | 12/38 [00:00<00:00, 33.87batch/s, loss=37.5000]"
     ]
    },
    {
     "name": "stdout",
     "output_type": "stream",
     "text": [
      "DEBUG: scores.shape = torch.Size([8, 16])\n",
      "DEBUG: scores.shape = torch.Size([8, 16])\n"
     ]
    },
    {
     "name": "stderr",
     "output_type": "stream",
     "text": [
      "Epoch 68:  32%|███▏      | 12/38 [00:00<00:00, 33.87batch/s, loss=87.5000]"
     ]
    },
    {
     "name": "stdout",
     "output_type": "stream",
     "text": [
      "DEBUG: scores.shape = torch.Size([8, 16])\n"
     ]
    },
    {
     "name": "stderr",
     "output_type": "stream",
     "text": [
      "Epoch 68:  42%|████▏     | 16/38 [00:00<00:00, 29.42batch/s, loss=62.5000]"
     ]
    },
    {
     "name": "stdout",
     "output_type": "stream",
     "text": [
      "DEBUG: scores.shape = torch.Size([8, 16])\n",
      "DEBUG: scores.shape = torch.Size([8, 16])\n"
     ]
    },
    {
     "name": "stderr",
     "output_type": "stream",
     "text": [
      "Epoch 68:  42%|████▏     | 16/38 [00:00<00:00, 29.42batch/s, loss=75.0000]"
     ]
    },
    {
     "name": "stdout",
     "output_type": "stream",
     "text": [
      "DEBUG: scores.shape = torch.Size([8, 16])\n"
     ]
    },
    {
     "name": "stderr",
     "output_type": "stream",
     "text": [
      "Epoch 68:  53%|█████▎    | 20/38 [00:00<00:00, 30.72batch/s, loss=50.0000]"
     ]
    },
    {
     "name": "stdout",
     "output_type": "stream",
     "text": [
      "DEBUG: scores.shape = torch.Size([8, 16])\n",
      "DEBUG: scores.shape = torch.Size([8, 16])\n",
      "DEBUG: scores.shape = torch.Size([8, 16])\n"
     ]
    },
    {
     "name": "stderr",
     "output_type": "stream",
     "text": [
      "Epoch 68:  53%|█████▎    | 20/38 [00:00<00:00, 30.72batch/s, loss=37.5000]"
     ]
    },
    {
     "name": "stdout",
     "output_type": "stream",
     "text": [
      "DEBUG: scores.shape = torch.Size([8, 16])\n"
     ]
    },
    {
     "name": "stderr",
     "output_type": "stream",
     "text": [
      "Epoch 68:  53%|█████▎    | 20/38 [00:00<00:00, 30.72batch/s, loss=25.0000]"
     ]
    },
    {
     "name": "stdout",
     "output_type": "stream",
     "text": [
      "DEBUG: scores.shape = torch.Size([8, 16])\n",
      "DEBUG: scores.shape = torch.Size([8, 16])\n"
     ]
    },
    {
     "name": "stderr",
     "output_type": "stream",
     "text": [
      "Epoch 68:  63%|██████▎   | 24/38 [00:00<00:00, 31.70batch/s, loss=37.5000]"
     ]
    },
    {
     "name": "stdout",
     "output_type": "stream",
     "text": [
      "DEBUG: scores.shape = torch.Size([8, 16])\n"
     ]
    },
    {
     "name": "stderr",
     "output_type": "stream",
     "text": [
      "Epoch 68:  63%|██████▎   | 24/38 [00:00<00:00, 31.70batch/s, loss=50.0000] "
     ]
    },
    {
     "name": "stdout",
     "output_type": "stream",
     "text": [
      "DEBUG: scores.shape = torch.Size([8, 16])\n",
      "DEBUG: scores.shape = torch.Size([8, 16])\n"
     ]
    },
    {
     "name": "stderr",
     "output_type": "stream",
     "text": [
      "Epoch 68:  63%|██████▎   | 24/38 [00:00<00:00, 31.70batch/s, loss=75.0000]"
     ]
    },
    {
     "name": "stdout",
     "output_type": "stream",
     "text": [
      "DEBUG: scores.shape = torch.Size([8, 16])\n"
     ]
    },
    {
     "name": "stderr",
     "output_type": "stream",
     "text": [
      "Epoch 68:  74%|███████▎  | 28/38 [00:00<00:00, 31.16batch/s, loss=37.5000]"
     ]
    },
    {
     "name": "stdout",
     "output_type": "stream",
     "text": [
      "DEBUG: scores.shape = torch.Size([8, 16])\n",
      "DEBUG: scores.shape = torch.Size([8, 16])\n",
      "DEBUG: scores.shape = torch.Size([8, 16])\n",
      "DEBUG: scores.shape = torch.Size([8, 16])\n"
     ]
    },
    {
     "name": "stderr",
     "output_type": "stream",
     "text": [
      "Epoch 68:  84%|████████▍ | 32/38 [00:01<00:00, 32.11batch/s, loss=37.5000] "
     ]
    },
    {
     "name": "stdout",
     "output_type": "stream",
     "text": [
      "DEBUG: scores.shape = torch.Size([8, 16])\n",
      "DEBUG: scores.shape = torch.Size([8, 16])\n",
      "DEBUG: scores.shape = torch.Size([8, 16])\n"
     ]
    },
    {
     "name": "stderr",
     "output_type": "stream",
     "text": [
      "Epoch 68: 100%|██████████| 38/38 [00:01<00:00, 32.14batch/s, loss=75.0000]\n"
     ]
    },
    {
     "name": "stdout",
     "output_type": "stream",
     "text": [
      "DEBUG: scores.shape = torch.Size([8, 16])\n",
      "DEBUG: scores.shape = torch.Size([8, 16])\n",
      "DEBUG: scores.shape = torch.Size([4, 16])\n",
      "Epoch 68, Loss: 50.3289\n"
     ]
    },
    {
     "name": "stderr",
     "output_type": "stream",
     "text": [
      "Epoch 69:   0%|          | 0/38 [00:00<?, ?batch/s]"
     ]
    },
    {
     "name": "stdout",
     "output_type": "stream",
     "text": [
      "DEBUG: scores.shape = torch.Size([8, 16])\n"
     ]
    },
    {
     "name": "stderr",
     "output_type": "stream",
     "text": [
      "Epoch 69:   0%|          | 0/38 [00:00<?, ?batch/s, loss=62.5000]"
     ]
    },
    {
     "name": "stdout",
     "output_type": "stream",
     "text": [
      "DEBUG: scores.shape = torch.Size([8, 16])\n",
      "DEBUG: scores.shape = torch.Size([8, 16])\n",
      "DEBUG: scores.shape = torch.Size([8, 16])\n"
     ]
    },
    {
     "name": "stderr",
     "output_type": "stream",
     "text": [
      "Epoch 69:  11%|█         | 4/38 [00:00<00:01, 31.78batch/s, loss=75.0000]"
     ]
    },
    {
     "name": "stdout",
     "output_type": "stream",
     "text": [
      "DEBUG: scores.shape = torch.Size([8, 16])\n"
     ]
    },
    {
     "name": "stderr",
     "output_type": "stream",
     "text": [
      "Epoch 69:  11%|█         | 4/38 [00:00<00:01, 31.78batch/s, loss=50.0000]"
     ]
    },
    {
     "name": "stdout",
     "output_type": "stream",
     "text": [
      "DEBUG: scores.shape = torch.Size([8, 16])\n",
      "DEBUG: scores.shape = torch.Size([8, 16])\n",
      "DEBUG: scores.shape = torch.Size([8, 16])\n"
     ]
    },
    {
     "name": "stderr",
     "output_type": "stream",
     "text": [
      "Epoch 69:  21%|██        | 8/38 [00:00<00:00, 31.82batch/s, loss=87.5000]"
     ]
    },
    {
     "name": "stdout",
     "output_type": "stream",
     "text": [
      "DEBUG: scores.shape = torch.Size([8, 16])\n",
      "DEBUG: scores.shape = torch.Size([8, 16])\n",
      "DEBUG: scores.shape = torch.Size([8, 16])\n",
      "DEBUG: scores.shape = torch.Size([8, 16])\n"
     ]
    },
    {
     "name": "stderr",
     "output_type": "stream",
     "text": [
      "Epoch 69:  32%|███▏      | 12/38 [00:00<00:00, 31.93batch/s, loss=50.0000]"
     ]
    },
    {
     "name": "stdout",
     "output_type": "stream",
     "text": [
      "DEBUG: scores.shape = torch.Size([8, 16])\n",
      "DEBUG: scores.shape = torch.Size([8, 16])\n"
     ]
    },
    {
     "name": "stderr",
     "output_type": "stream",
     "text": [
      "Epoch 69:  32%|███▏      | 12/38 [00:00<00:00, 31.93batch/s, loss=37.5000]"
     ]
    },
    {
     "name": "stdout",
     "output_type": "stream",
     "text": [
      "DEBUG: scores.shape = torch.Size([8, 16])\n"
     ]
    },
    {
     "name": "stderr",
     "output_type": "stream",
     "text": [
      "Epoch 69:  42%|████▏     | 16/38 [00:00<00:00, 32.11batch/s, loss=75.0000]"
     ]
    },
    {
     "name": "stdout",
     "output_type": "stream",
     "text": [
      "DEBUG: scores.shape = torch.Size([8, 16])\n",
      "DEBUG: scores.shape = torch.Size([8, 16])\n",
      "DEBUG: scores.shape = torch.Size([8, 16])\n"
     ]
    },
    {
     "name": "stderr",
     "output_type": "stream",
     "text": [
      "Epoch 69:  42%|████▏     | 16/38 [00:00<00:00, 32.11batch/s, loss=75.0000]"
     ]
    },
    {
     "name": "stdout",
     "output_type": "stream",
     "text": [
      "DEBUG: scores.shape = torch.Size([8, 16])\n"
     ]
    },
    {
     "name": "stderr",
     "output_type": "stream",
     "text": [
      "Epoch 69:  53%|█████▎    | 20/38 [00:00<00:00, 31.94batch/s, loss=62.5000]"
     ]
    },
    {
     "name": "stdout",
     "output_type": "stream",
     "text": [
      "DEBUG: scores.shape = torch.Size([8, 16])\n",
      "DEBUG: scores.shape = torch.Size([8, 16])\n",
      "DEBUG: scores.shape = torch.Size([8, 16])\n"
     ]
    },
    {
     "name": "stderr",
     "output_type": "stream",
     "text": [
      "Epoch 69:  63%|██████▎   | 24/38 [00:00<00:00, 31.88batch/s, loss=50.0000]"
     ]
    },
    {
     "name": "stdout",
     "output_type": "stream",
     "text": [
      "DEBUG: scores.shape = torch.Size([8, 16])\n",
      "DEBUG: scores.shape = torch.Size([8, 16])\n"
     ]
    },
    {
     "name": "stderr",
     "output_type": "stream",
     "text": [
      "Epoch 69:  63%|██████▎   | 24/38 [00:00<00:00, 31.88batch/s, loss=25.0000]"
     ]
    },
    {
     "name": "stdout",
     "output_type": "stream",
     "text": [
      "DEBUG: scores.shape = torch.Size([8, 16])\n",
      "DEBUG: scores.shape = torch.Size([8, 16])\n"
     ]
    },
    {
     "name": "stderr",
     "output_type": "stream",
     "text": [
      "Epoch 69:  63%|██████▎   | 24/38 [00:00<00:00, 31.88batch/s, loss=37.5000]"
     ]
    },
    {
     "name": "stdout",
     "output_type": "stream",
     "text": [
      "DEBUG: scores.shape = torch.Size([8, 16])\n",
      "DEBUG: scores.shape = torch.Size([8, 16])\n"
     ]
    },
    {
     "name": "stderr",
     "output_type": "stream",
     "text": [
      "Epoch 69:  74%|███████▎  | 28/38 [00:00<00:00, 29.56batch/s, loss=37.5000]"
     ]
    },
    {
     "name": "stdout",
     "output_type": "stream",
     "text": [
      "DEBUG: scores.shape = torch.Size([8, 16])\n",
      "DEBUG: scores.shape = torch.Size([8, 16])\n"
     ]
    },
    {
     "name": "stderr",
     "output_type": "stream",
     "text": [
      "Epoch 69:  82%|████████▏ | 31/38 [00:01<00:00, 29.39batch/s, loss=25.0000]"
     ]
    },
    {
     "name": "stdout",
     "output_type": "stream",
     "text": [
      "DEBUG: scores.shape = torch.Size([8, 16])\n",
      "DEBUG: scores.shape = torch.Size([8, 16])\n"
     ]
    },
    {
     "name": "stderr",
     "output_type": "stream",
     "text": [
      "Epoch 69:  82%|████████▏ | 31/38 [00:01<00:00, 29.39batch/s, loss=50.0000]"
     ]
    },
    {
     "name": "stdout",
     "output_type": "stream",
     "text": [
      "DEBUG: scores.shape = torch.Size([8, 16])\n"
     ]
    },
    {
     "name": "stderr",
     "output_type": "stream",
     "text": [
      "Epoch 69:  89%|████████▉ | 34/38 [00:01<00:00, 29.50batch/s, loss=75.0000]"
     ]
    },
    {
     "name": "stdout",
     "output_type": "stream",
     "text": [
      "DEBUG: scores.shape = torch.Size([8, 16])\n",
      "DEBUG: scores.shape = torch.Size([8, 16])\n"
     ]
    },
    {
     "name": "stderr",
     "output_type": "stream",
     "text": [
      "Epoch 69:  89%|████████▉ | 34/38 [00:01<00:00, 29.50batch/s, loss=12.5000]"
     ]
    },
    {
     "name": "stdout",
     "output_type": "stream",
     "text": [
      "DEBUG: scores.shape = torch.Size([8, 16])\n",
      "DEBUG: scores.shape = torch.Size([8, 16])\n"
     ]
    },
    {
     "name": "stderr",
     "output_type": "stream",
     "text": [
      "Epoch 69: 100%|██████████| 38/38 [00:01<00:00, 30.96batch/s, loss=25.0000]\n"
     ]
    },
    {
     "name": "stdout",
     "output_type": "stream",
     "text": [
      "DEBUG: scores.shape = torch.Size([4, 16])\n",
      "Epoch 69, Loss: 49.6711\n"
     ]
    },
    {
     "name": "stderr",
     "output_type": "stream",
     "text": [
      "Epoch 70:   0%|          | 0/38 [00:00<?, ?batch/s, loss=37.5000]"
     ]
    },
    {
     "name": "stdout",
     "output_type": "stream",
     "text": [
      "DEBUG: scores.shape = torch.Size([8, 16])\n",
      "DEBUG: scores.shape = torch.Size([8, 16])\n"
     ]
    },
    {
     "name": "stderr",
     "output_type": "stream",
     "text": [
      "Epoch 70:   8%|▊         | 3/38 [00:00<00:01, 28.02batch/s, loss=37.5000]"
     ]
    },
    {
     "name": "stdout",
     "output_type": "stream",
     "text": [
      "DEBUG: scores.shape = torch.Size([8, 16])\n",
      "DEBUG: scores.shape = torch.Size([8, 16])\n"
     ]
    },
    {
     "name": "stderr",
     "output_type": "stream",
     "text": [
      "Epoch 70:   8%|▊         | 3/38 [00:00<00:01, 28.02batch/s, loss=0.0000] "
     ]
    },
    {
     "name": "stdout",
     "output_type": "stream",
     "text": [
      "DEBUG: scores.shape = torch.Size([8, 16])\n",
      "DEBUG: scores.shape = torch.Size([8, 16])\n"
     ]
    },
    {
     "name": "stderr",
     "output_type": "stream",
     "text": [
      "Epoch 70:  18%|█▊        | 7/38 [00:00<00:01, 29.61batch/s, loss=50.0000]"
     ]
    },
    {
     "name": "stdout",
     "output_type": "stream",
     "text": [
      "DEBUG: scores.shape = torch.Size([8, 16])\n",
      "DEBUG: scores.shape = torch.Size([8, 16])\n"
     ]
    },
    {
     "name": "stderr",
     "output_type": "stream",
     "text": [
      "Epoch 70:  18%|█▊        | 7/38 [00:00<00:01, 29.61batch/s, loss=75.0000]"
     ]
    },
    {
     "name": "stdout",
     "output_type": "stream",
     "text": [
      "DEBUG: scores.shape = torch.Size([8, 16])\n",
      "DEBUG: scores.shape = torch.Size([8, 16])\n"
     ]
    },
    {
     "name": "stderr",
     "output_type": "stream",
     "text": [
      "Epoch 70:  26%|██▋       | 10/38 [00:00<00:00, 28.86batch/s, loss=25.0000]"
     ]
    },
    {
     "name": "stdout",
     "output_type": "stream",
     "text": [
      "DEBUG: scores.shape = torch.Size([8, 16])\n",
      "DEBUG: scores.shape = torch.Size([8, 16])\n",
      "DEBUG: scores.shape = torch.Size([8, 16])\n"
     ]
    },
    {
     "name": "stderr",
     "output_type": "stream",
     "text": [
      "Epoch 70:  37%|███▋      | 14/38 [00:00<00:00, 30.03batch/s, loss=62.5000]"
     ]
    },
    {
     "name": "stdout",
     "output_type": "stream",
     "text": [
      "DEBUG: scores.shape = torch.Size([8, 16])\n",
      "DEBUG: scores.shape = torch.Size([8, 16])\n"
     ]
    },
    {
     "name": "stderr",
     "output_type": "stream",
     "text": [
      "Epoch 70:  37%|███▋      | 14/38 [00:00<00:00, 30.03batch/s, loss=50.0000]"
     ]
    },
    {
     "name": "stdout",
     "output_type": "stream",
     "text": [
      "DEBUG: scores.shape = torch.Size([8, 16])\n",
      "DEBUG: scores.shape = torch.Size([8, 16])\n"
     ]
    },
    {
     "name": "stderr",
     "output_type": "stream",
     "text": [
      "Epoch 70:  47%|████▋     | 18/38 [00:00<00:00, 29.68batch/s, loss=62.5000]"
     ]
    },
    {
     "name": "stdout",
     "output_type": "stream",
     "text": [
      "DEBUG: scores.shape = torch.Size([8, 16])\n",
      "DEBUG: scores.shape = torch.Size([8, 16])\n"
     ]
    },
    {
     "name": "stderr",
     "output_type": "stream",
     "text": [
      "Epoch 70:  47%|████▋     | 18/38 [00:00<00:00, 29.68batch/s, loss=75.0000]"
     ]
    },
    {
     "name": "stdout",
     "output_type": "stream",
     "text": [
      "DEBUG: scores.shape = torch.Size([8, 16])\n",
      "DEBUG: scores.shape = torch.Size([8, 16])\n"
     ]
    },
    {
     "name": "stderr",
     "output_type": "stream",
     "text": [
      "Epoch 70:  55%|█████▌    | 21/38 [00:00<00:00, 28.62batch/s, loss=62.5000]"
     ]
    },
    {
     "name": "stdout",
     "output_type": "stream",
     "text": [
      "DEBUG: scores.shape = torch.Size([8, 16])\n",
      "DEBUG: scores.shape = torch.Size([8, 16])\n"
     ]
    },
    {
     "name": "stderr",
     "output_type": "stream",
     "text": [
      "Epoch 70:  66%|██████▌   | 25/38 [00:00<00:00, 30.03batch/s, loss=37.5000]"
     ]
    },
    {
     "name": "stdout",
     "output_type": "stream",
     "text": [
      "DEBUG: scores.shape = torch.Size([8, 16])\n",
      "DEBUG: scores.shape = torch.Size([8, 16])\n",
      "DEBUG: scores.shape = torch.Size([8, 16])\n"
     ]
    },
    {
     "name": "stderr",
     "output_type": "stream",
     "text": [
      "Epoch 70:  66%|██████▌   | 25/38 [00:00<00:00, 30.03batch/s, loss=62.5000]"
     ]
    },
    {
     "name": "stdout",
     "output_type": "stream",
     "text": [
      "DEBUG: scores.shape = torch.Size([8, 16])\n",
      "DEBUG: scores.shape = torch.Size([8, 16])\n"
     ]
    },
    {
     "name": "stderr",
     "output_type": "stream",
     "text": [
      "Epoch 70:  76%|███████▋  | 29/38 [00:00<00:00, 31.43batch/s, loss=37.5000]"
     ]
    },
    {
     "name": "stdout",
     "output_type": "stream",
     "text": [
      "DEBUG: scores.shape = torch.Size([8, 16])\n",
      "DEBUG: scores.shape = torch.Size([8, 16])\n",
      "DEBUG: scores.shape = torch.Size([8, 16])\n"
     ]
    },
    {
     "name": "stderr",
     "output_type": "stream",
     "text": [
      "Epoch 70:  76%|███████▋  | 29/38 [00:01<00:00, 31.43batch/s, loss=50.0000]"
     ]
    },
    {
     "name": "stdout",
     "output_type": "stream",
     "text": [
      "DEBUG: scores.shape = torch.Size([8, 16])\n",
      "DEBUG: scores.shape = torch.Size([8, 16])\n"
     ]
    },
    {
     "name": "stderr",
     "output_type": "stream",
     "text": [
      "Epoch 70:  87%|████████▋ | 33/38 [00:01<00:00, 31.37batch/s, loss=37.5000]"
     ]
    },
    {
     "name": "stdout",
     "output_type": "stream",
     "text": [
      "DEBUG: scores.shape = torch.Size([8, 16])\n",
      "DEBUG: scores.shape = torch.Size([8, 16])\n"
     ]
    },
    {
     "name": "stderr",
     "output_type": "stream",
     "text": [
      "Epoch 70:  97%|█████████▋| 37/38 [00:01<00:00, 31.37batch/s, loss=0.0000] "
     ]
    },
    {
     "name": "stdout",
     "output_type": "stream",
     "text": [
      "DEBUG: scores.shape = torch.Size([8, 16])\n",
      "DEBUG: scores.shape = torch.Size([8, 16])\n",
      "DEBUG: scores.shape = torch.Size([4, 16])\n"
     ]
    },
    {
     "name": "stderr",
     "output_type": "stream",
     "text": [
      "Epoch 70: 100%|██████████| 38/38 [00:01<00:00, 30.89batch/s, loss=0.0000]\n"
     ]
    },
    {
     "name": "stdout",
     "output_type": "stream",
     "text": [
      "Epoch 70, Loss: 49.3421\n"
     ]
    },
    {
     "name": "stderr",
     "output_type": "stream",
     "text": [
      "Epoch 71:   0%|          | 0/38 [00:00<?, ?batch/s, loss=37.5000]"
     ]
    },
    {
     "name": "stdout",
     "output_type": "stream",
     "text": [
      "DEBUG: scores.shape = torch.Size([8, 16])\n"
     ]
    },
    {
     "name": "stderr",
     "output_type": "stream",
     "text": [
      "Epoch 71:   8%|▊         | 3/38 [00:00<00:01, 28.15batch/s, loss=37.5000]"
     ]
    },
    {
     "name": "stdout",
     "output_type": "stream",
     "text": [
      "DEBUG: scores.shape = torch.Size([8, 16])\n",
      "DEBUG: scores.shape = torch.Size([8, 16])\n",
      "DEBUG: scores.shape = torch.Size([8, 16])\n"
     ]
    },
    {
     "name": "stderr",
     "output_type": "stream",
     "text": [
      "Epoch 71:   8%|▊         | 3/38 [00:00<00:01, 28.15batch/s, loss=37.5000]"
     ]
    },
    {
     "name": "stdout",
     "output_type": "stream",
     "text": [
      "DEBUG: scores.shape = torch.Size([8, 16])\n",
      "DEBUG: scores.shape = torch.Size([8, 16])\n"
     ]
    },
    {
     "name": "stderr",
     "output_type": "stream",
     "text": [
      "Epoch 71:   8%|▊         | 3/38 [00:00<00:01, 28.15batch/s, loss=50.0000]"
     ]
    },
    {
     "name": "stdout",
     "output_type": "stream",
     "text": [
      "DEBUG: scores.shape = torch.Size([8, 16])\n"
     ]
    },
    {
     "name": "stderr",
     "output_type": "stream",
     "text": [
      "Epoch 71:  18%|█▊        | 7/38 [00:00<00:01, 30.17batch/s, loss=50.0000]"
     ]
    },
    {
     "name": "stdout",
     "output_type": "stream",
     "text": [
      "DEBUG: scores.shape = torch.Size([8, 16])\n"
     ]
    },
    {
     "name": "stderr",
     "output_type": "stream",
     "text": [
      "Epoch 71:  18%|█▊        | 7/38 [00:00<00:01, 30.17batch/s, loss=50.0000]"
     ]
    },
    {
     "name": "stdout",
     "output_type": "stream",
     "text": [
      "DEBUG: scores.shape = torch.Size([8, 16])\n",
      "DEBUG: scores.shape = torch.Size([8, 16])\n"
     ]
    },
    {
     "name": "stderr",
     "output_type": "stream",
     "text": [
      "Epoch 71:  29%|██▉       | 11/38 [00:00<00:00, 30.65batch/s, loss=50.0000]"
     ]
    },
    {
     "name": "stdout",
     "output_type": "stream",
     "text": [
      "DEBUG: scores.shape = torch.Size([8, 16])\n",
      "DEBUG: scores.shape = torch.Size([8, 16])\n"
     ]
    },
    {
     "name": "stderr",
     "output_type": "stream",
     "text": [
      "Epoch 71:  29%|██▉       | 11/38 [00:00<00:00, 30.65batch/s, loss=50.0000]"
     ]
    },
    {
     "name": "stdout",
     "output_type": "stream",
     "text": [
      "DEBUG: scores.shape = torch.Size([8, 16])\n",
      "DEBUG: scores.shape = torch.Size([8, 16])\n"
     ]
    },
    {
     "name": "stderr",
     "output_type": "stream",
     "text": [
      "Epoch 71:  29%|██▉       | 11/38 [00:00<00:00, 30.65batch/s, loss=25.0000]"
     ]
    },
    {
     "name": "stdout",
     "output_type": "stream",
     "text": [
      "DEBUG: scores.shape = torch.Size([8, 16])\n"
     ]
    },
    {
     "name": "stderr",
     "output_type": "stream",
     "text": [
      "Epoch 71:  39%|███▉      | 15/38 [00:00<00:00, 30.00batch/s, loss=50.0000]"
     ]
    },
    {
     "name": "stdout",
     "output_type": "stream",
     "text": [
      "DEBUG: scores.shape = torch.Size([8, 16])\n",
      "DEBUG: scores.shape = torch.Size([8, 16])\n",
      "DEBUG: scores.shape = torch.Size([8, 16])\n"
     ]
    },
    {
     "name": "stderr",
     "output_type": "stream",
     "text": [
      "Epoch 71:  47%|████▋     | 18/38 [00:00<00:00, 29.38batch/s, loss=62.5000]"
     ]
    },
    {
     "name": "stdout",
     "output_type": "stream",
     "text": [
      "DEBUG: scores.shape = torch.Size([8, 16])\n",
      "DEBUG: scores.shape = torch.Size([8, 16])\n"
     ]
    },
    {
     "name": "stderr",
     "output_type": "stream",
     "text": [
      "Epoch 71:  47%|████▋     | 18/38 [00:00<00:00, 29.38batch/s, loss=62.5000]"
     ]
    },
    {
     "name": "stdout",
     "output_type": "stream",
     "text": [
      "DEBUG: scores.shape = torch.Size([8, 16])\n"
     ]
    },
    {
     "name": "stderr",
     "output_type": "stream",
     "text": [
      "Epoch 71:  58%|█████▊    | 22/38 [00:00<00:00, 30.07batch/s, loss=50.0000]"
     ]
    },
    {
     "name": "stdout",
     "output_type": "stream",
     "text": [
      "DEBUG: scores.shape = torch.Size([8, 16])\n",
      "DEBUG: scores.shape = torch.Size([8, 16])\n",
      "DEBUG: scores.shape = torch.Size([8, 16])\n",
      "DEBUG: scores.shape = torch.Size([8, 16])\n"
     ]
    },
    {
     "name": "stderr",
     "output_type": "stream",
     "text": [
      "Epoch 71:  66%|██████▌   | 25/38 [00:00<00:00, 29.48batch/s, loss=62.5000]"
     ]
    },
    {
     "name": "stdout",
     "output_type": "stream",
     "text": [
      "DEBUG: scores.shape = torch.Size([8, 16])\n"
     ]
    },
    {
     "name": "stderr",
     "output_type": "stream",
     "text": [
      "Epoch 71:  66%|██████▌   | 25/38 [00:00<00:00, 29.48batch/s, loss=37.5000]"
     ]
    },
    {
     "name": "stdout",
     "output_type": "stream",
     "text": [
      "DEBUG: scores.shape = torch.Size([8, 16])\n"
     ]
    },
    {
     "name": "stderr",
     "output_type": "stream",
     "text": [
      "Epoch 71:  76%|███████▋  | 29/38 [00:00<00:00, 30.27batch/s, loss=62.5000]"
     ]
    },
    {
     "name": "stdout",
     "output_type": "stream",
     "text": [
      "DEBUG: scores.shape = torch.Size([8, 16])\n",
      "DEBUG: scores.shape = torch.Size([8, 16])\n",
      "DEBUG: scores.shape = torch.Size([8, 16])\n"
     ]
    },
    {
     "name": "stderr",
     "output_type": "stream",
     "text": [
      "Epoch 71:  76%|███████▋  | 29/38 [00:01<00:00, 30.27batch/s, loss=50.0000]"
     ]
    },
    {
     "name": "stdout",
     "output_type": "stream",
     "text": [
      "DEBUG: scores.shape = torch.Size([8, 16])\n",
      "DEBUG: scores.shape = torch.Size([8, 16])\n",
      "DEBUG: scores.shape = torch.Size([8, 16])\n"
     ]
    },
    {
     "name": "stderr",
     "output_type": "stream",
     "text": [
      "Epoch 71:  87%|████████▋ | 33/38 [00:01<00:00, 30.71batch/s, loss=62.5000]"
     ]
    },
    {
     "name": "stdout",
     "output_type": "stream",
     "text": [
      "DEBUG: scores.shape = torch.Size([8, 16])\n"
     ]
    },
    {
     "name": "stderr",
     "output_type": "stream",
     "text": [
      "Epoch 71:  87%|████████▋ | 33/38 [00:01<00:00, 30.71batch/s, loss=50.0000] "
     ]
    },
    {
     "name": "stdout",
     "output_type": "stream",
     "text": [
      "DEBUG: scores.shape = torch.Size([8, 16])\n",
      "DEBUG: scores.shape = torch.Size([8, 16])\n",
      "DEBUG: scores.shape = torch.Size([8, 16])\n"
     ]
    },
    {
     "name": "stderr",
     "output_type": "stream",
     "text": [
      "Epoch 71: 100%|██████████| 38/38 [00:01<00:00, 30.84batch/s, loss=50.0000]\n"
     ]
    },
    {
     "name": "stdout",
     "output_type": "stream",
     "text": [
      "DEBUG: scores.shape = torch.Size([4, 16])\n",
      "Epoch 71, Loss: 50.0000\n"
     ]
    },
    {
     "name": "stderr",
     "output_type": "stream",
     "text": [
      "Epoch 72:   0%|          | 0/38 [00:00<?, ?batch/s, loss=75.0000]"
     ]
    },
    {
     "name": "stdout",
     "output_type": "stream",
     "text": [
      "DEBUG: scores.shape = torch.Size([8, 16])\n"
     ]
    },
    {
     "name": "stderr",
     "output_type": "stream",
     "text": [
      "Epoch 72:   0%|          | 0/38 [00:00<?, ?batch/s, loss=75.0000]"
     ]
    },
    {
     "name": "stdout",
     "output_type": "stream",
     "text": [
      "DEBUG: scores.shape = torch.Size([8, 16])\n"
     ]
    },
    {
     "name": "stderr",
     "output_type": "stream",
     "text": [
      "Epoch 72:   0%|          | 0/38 [00:00<?, ?batch/s, loss=37.5000]"
     ]
    },
    {
     "name": "stdout",
     "output_type": "stream",
     "text": [
      "DEBUG: scores.shape = torch.Size([8, 16])\n"
     ]
    },
    {
     "name": "stderr",
     "output_type": "stream",
     "text": [
      "Epoch 72:  11%|█         | 4/38 [00:00<00:01, 30.93batch/s, loss=50.0000]"
     ]
    },
    {
     "name": "stdout",
     "output_type": "stream",
     "text": [
      "DEBUG: scores.shape = torch.Size([8, 16])\n",
      "DEBUG: scores.shape = torch.Size([8, 16])\n",
      "DEBUG: scores.shape = torch.Size([8, 16])\n",
      "DEBUG: scores.shape = torch.Size([8, 16])\n"
     ]
    },
    {
     "name": "stderr",
     "output_type": "stream",
     "text": [
      "Epoch 72:  11%|█         | 4/38 [00:00<00:01, 30.93batch/s, loss=50.0000]"
     ]
    },
    {
     "name": "stdout",
     "output_type": "stream",
     "text": [
      "DEBUG: scores.shape = torch.Size([8, 16])\n"
     ]
    },
    {
     "name": "stderr",
     "output_type": "stream",
     "text": [
      "Epoch 72:  21%|██        | 8/38 [00:00<00:00, 31.02batch/s, loss=25.0000]"
     ]
    },
    {
     "name": "stdout",
     "output_type": "stream",
     "text": [
      "DEBUG: scores.shape = torch.Size([8, 16])\n"
     ]
    },
    {
     "name": "stderr",
     "output_type": "stream",
     "text": [
      "Epoch 72:  21%|██        | 8/38 [00:00<00:00, 31.02batch/s, loss=50.0000]"
     ]
    },
    {
     "name": "stdout",
     "output_type": "stream",
     "text": [
      "DEBUG: scores.shape = torch.Size([8, 16])\n"
     ]
    },
    {
     "name": "stderr",
     "output_type": "stream",
     "text": [
      "Epoch 72:  32%|███▏      | 12/38 [00:00<00:00, 31.77batch/s, loss=62.5000]"
     ]
    },
    {
     "name": "stdout",
     "output_type": "stream",
     "text": [
      "DEBUG: scores.shape = torch.Size([8, 16])\n",
      "DEBUG: scores.shape = torch.Size([8, 16])\n",
      "DEBUG: scores.shape = torch.Size([8, 16])\n",
      "DEBUG: scores.shape = torch.Size([8, 16])\n"
     ]
    },
    {
     "name": "stderr",
     "output_type": "stream",
     "text": [
      "Epoch 72:  32%|███▏      | 12/38 [00:00<00:00, 31.77batch/s, loss=75.0000]"
     ]
    },
    {
     "name": "stdout",
     "output_type": "stream",
     "text": [
      "DEBUG: scores.shape = torch.Size([8, 16])\n"
     ]
    },
    {
     "name": "stderr",
     "output_type": "stream",
     "text": [
      "Epoch 72:  32%|███▏      | 12/38 [00:00<00:00, 31.77batch/s, loss=25.0000]"
     ]
    },
    {
     "name": "stdout",
     "output_type": "stream",
     "text": [
      "DEBUG: scores.shape = torch.Size([8, 16])\n"
     ]
    },
    {
     "name": "stderr",
     "output_type": "stream",
     "text": [
      "Epoch 72:  42%|████▏     | 16/38 [00:00<00:00, 31.99batch/s, loss=50.0000]"
     ]
    },
    {
     "name": "stdout",
     "output_type": "stream",
     "text": [
      "DEBUG: scores.shape = torch.Size([8, 16])\n"
     ]
    },
    {
     "name": "stderr",
     "output_type": "stream",
     "text": [
      "Epoch 72:  42%|████▏     | 16/38 [00:00<00:00, 31.99batch/s, loss=62.5000]"
     ]
    },
    {
     "name": "stdout",
     "output_type": "stream",
     "text": [
      "DEBUG: scores.shape = torch.Size([8, 16])\n"
     ]
    },
    {
     "name": "stderr",
     "output_type": "stream",
     "text": [
      "Epoch 72:  42%|████▏     | 16/38 [00:00<00:00, 31.99batch/s, loss=25.0000]"
     ]
    },
    {
     "name": "stdout",
     "output_type": "stream",
     "text": [
      "DEBUG: scores.shape = torch.Size([8, 16])\n",
      "DEBUG: scores.shape = torch.Size([8, 16])\n"
     ]
    },
    {
     "name": "stderr",
     "output_type": "stream",
     "text": [
      "Epoch 72:  53%|█████▎    | 20/38 [00:00<00:00, 29.66batch/s, loss=25.0000]"
     ]
    },
    {
     "name": "stdout",
     "output_type": "stream",
     "text": [
      "DEBUG: scores.shape = torch.Size([8, 16])\n"
     ]
    },
    {
     "name": "stderr",
     "output_type": "stream",
     "text": [
      "Epoch 72:  53%|█████▎    | 20/38 [00:00<00:00, 29.66batch/s, loss=87.5000]"
     ]
    },
    {
     "name": "stdout",
     "output_type": "stream",
     "text": [
      "DEBUG: scores.shape = torch.Size([8, 16])\n"
     ]
    },
    {
     "name": "stderr",
     "output_type": "stream",
     "text": [
      "Epoch 72:  53%|█████▎    | 20/38 [00:00<00:00, 29.66batch/s, loss=37.5000]"
     ]
    },
    {
     "name": "stdout",
     "output_type": "stream",
     "text": [
      "DEBUG: scores.shape = torch.Size([8, 16])\n"
     ]
    },
    {
     "name": "stderr",
     "output_type": "stream",
     "text": [
      "Epoch 72:  63%|██████▎   | 24/38 [00:00<00:00, 30.32batch/s, loss=50.0000]"
     ]
    },
    {
     "name": "stdout",
     "output_type": "stream",
     "text": [
      "DEBUG: scores.shape = torch.Size([8, 16])\n",
      "DEBUG: scores.shape = torch.Size([8, 16])\n"
     ]
    },
    {
     "name": "stderr",
     "output_type": "stream",
     "text": [
      "Epoch 72:  63%|██████▎   | 24/38 [00:00<00:00, 30.32batch/s, loss=75.0000]"
     ]
    },
    {
     "name": "stdout",
     "output_type": "stream",
     "text": [
      "DEBUG: scores.shape = torch.Size([8, 16])\n",
      "DEBUG: scores.shape = torch.Size([8, 16])\n",
      "DEBUG: scores.shape = torch.Size([8, 16])"
     ]
    },
    {
     "name": "stderr",
     "output_type": "stream",
     "text": [
      "Epoch 72:  74%|███████▎  | 28/38 [00:00<00:00, 30.96batch/s, loss=75.0000]"
     ]
    },
    {
     "name": "stdout",
     "output_type": "stream",
     "text": [
      "\n",
      "DEBUG: scores.shape = torch.Size([8, 16])\n",
      "DEBUG: scores.shape = torch.Size([8, 16])\n"
     ]
    },
    {
     "name": "stderr",
     "output_type": "stream",
     "text": [
      "Epoch 72:  74%|███████▎  | 28/38 [00:01<00:00, 30.96batch/s, loss=12.5000]"
     ]
    },
    {
     "name": "stdout",
     "output_type": "stream",
     "text": [
      "DEBUG: scores.shape = torch.Size([8, 16])\n",
      "DEBUG: scores.shape = torch.Size([8, 16])\n"
     ]
    },
    {
     "name": "stderr",
     "output_type": "stream",
     "text": [
      "Epoch 72:  84%|████████▍ | 32/38 [00:01<00:00, 32.44batch/s, loss=50.0000]"
     ]
    },
    {
     "name": "stdout",
     "output_type": "stream",
     "text": [
      "DEBUG: scores.shape = torch.Size([8, 16])\n",
      "DEBUG: scores.shape = torch.Size([8, 16])\n"
     ]
    },
    {
     "name": "stderr",
     "output_type": "stream",
     "text": [
      "Epoch 72:  84%|████████▍ | 32/38 [00:01<00:00, 32.44batch/s, loss=37.5000]"
     ]
    },
    {
     "name": "stdout",
     "output_type": "stream",
     "text": [
      "DEBUG: scores.shape = torch.Size([8, 16])\n",
      "DEBUG: scores.shape = torch.Size([8, 16])\n"
     ]
    },
    {
     "name": "stderr",
     "output_type": "stream",
     "text": [
      "Epoch 72:  95%|█████████▍| 36/38 [00:01<00:00, 30.47batch/s, loss=37.5000]"
     ]
    },
    {
     "name": "stdout",
     "output_type": "stream",
     "text": [
      "DEBUG: scores.shape = torch.Size([8, 16])\n"
     ]
    },
    {
     "name": "stderr",
     "output_type": "stream",
     "text": [
      "Epoch 72: 100%|██████████| 38/38 [00:01<00:00, 31.32batch/s, loss=50.0000]\n"
     ]
    },
    {
     "name": "stdout",
     "output_type": "stream",
     "text": [
      "DEBUG: scores.shape = torch.Size([4, 16])\n",
      "Epoch 72, Loss: 50.0000\n"
     ]
    },
    {
     "name": "stderr",
     "output_type": "stream",
     "text": [
      "Epoch 73:   0%|          | 0/38 [00:00<?, ?batch/s]"
     ]
    },
    {
     "name": "stdout",
     "output_type": "stream",
     "text": [
      "DEBUG: scores.shape = torch.Size([8, 16])\n"
     ]
    },
    {
     "name": "stderr",
     "output_type": "stream",
     "text": [
      "Epoch 73:   0%|          | 0/38 [00:00<?, ?batch/s, loss=50.0000]"
     ]
    },
    {
     "name": "stdout",
     "output_type": "stream",
     "text": [
      "DEBUG: scores.shape = torch.Size([8, 16])\n",
      "DEBUG: scores.shape = torch.Size([8, 16])\n"
     ]
    },
    {
     "name": "stderr",
     "output_type": "stream",
     "text": [
      "Epoch 73:  11%|█         | 4/38 [00:00<00:01, 31.20batch/s, loss=75.0000]"
     ]
    },
    {
     "name": "stdout",
     "output_type": "stream",
     "text": [
      "DEBUG: scores.shape = torch.Size([8, 16])\n",
      "DEBUG: scores.shape = torch.Size([8, 16])\n",
      "DEBUG: scores.shape = torch.Size([8, 16])\n"
     ]
    },
    {
     "name": "stderr",
     "output_type": "stream",
     "text": [
      "Epoch 73:  11%|█         | 4/38 [00:00<00:01, 31.20batch/s, loss=50.0000]"
     ]
    },
    {
     "name": "stdout",
     "output_type": "stream",
     "text": [
      "DEBUG: scores.shape = torch.Size([8, 16])\n"
     ]
    },
    {
     "name": "stderr",
     "output_type": "stream",
     "text": [
      "Epoch 73:  11%|█         | 4/38 [00:00<00:01, 31.20batch/s, loss=50.0000]"
     ]
    },
    {
     "name": "stdout",
     "output_type": "stream",
     "text": [
      "DEBUG: scores.shape = torch.Size([8, 16])\n"
     ]
    },
    {
     "name": "stderr",
     "output_type": "stream",
     "text": [
      "Epoch 73:  21%|██        | 8/38 [00:00<00:01, 29.47batch/s, loss=50.0000]"
     ]
    },
    {
     "name": "stdout",
     "output_type": "stream",
     "text": [
      "DEBUG: scores.shape = torch.Size([8, 16])\n"
     ]
    },
    {
     "name": "stderr",
     "output_type": "stream",
     "text": [
      "Epoch 73:  21%|██        | 8/38 [00:00<00:01, 29.47batch/s, loss=50.0000]"
     ]
    },
    {
     "name": "stdout",
     "output_type": "stream",
     "text": [
      "DEBUG: scores.shape = torch.Size([8, 16])\n",
      "DEBUG: scores.shape = torch.Size([8, 16])\n"
     ]
    },
    {
     "name": "stderr",
     "output_type": "stream",
     "text": [
      "Epoch 73:  29%|██▉       | 11/38 [00:00<00:00, 28.70batch/s, loss=37.5000]"
     ]
    },
    {
     "name": "stdout",
     "output_type": "stream",
     "text": [
      "DEBUG: scores.shape = torch.Size([8, 16])\n"
     ]
    },
    {
     "name": "stderr",
     "output_type": "stream",
     "text": [
      "Epoch 73:  29%|██▉       | 11/38 [00:00<00:00, 28.70batch/s, loss=62.5000]"
     ]
    },
    {
     "name": "stdout",
     "output_type": "stream",
     "text": [
      "DEBUG: scores.shape = torch.Size([8, 16])\n",
      "DEBUG: scores.shape = torch.Size([8, 16])\n"
     ]
    },
    {
     "name": "stderr",
     "output_type": "stream",
     "text": [
      "Epoch 73:  37%|███▋      | 14/38 [00:00<00:00, 29.04batch/s, loss=37.5000]"
     ]
    },
    {
     "name": "stdout",
     "output_type": "stream",
     "text": [
      "DEBUG: scores.shape = torch.Size([8, 16])\n",
      "DEBUG: scores.shape = torch.Size([8, 16])\n"
     ]
    },
    {
     "name": "stderr",
     "output_type": "stream",
     "text": [
      "Epoch 73:  37%|███▋      | 14/38 [00:00<00:00, 29.04batch/s, loss=50.0000]"
     ]
    },
    {
     "name": "stdout",
     "output_type": "stream",
     "text": [
      "DEBUG: scores.shape = torch.Size([8, 16])\n",
      "DEBUG: scores.shape = torch.Size([8, 16])\n"
     ]
    },
    {
     "name": "stderr",
     "output_type": "stream",
     "text": [
      "Epoch 73:  47%|████▋     | 18/38 [00:00<00:00, 30.20batch/s, loss=50.0000]"
     ]
    },
    {
     "name": "stdout",
     "output_type": "stream",
     "text": [
      "DEBUG: scores.shape = torch.Size([8, 16])\n"
     ]
    },
    {
     "name": "stderr",
     "output_type": "stream",
     "text": [
      "Epoch 73:  47%|████▋     | 18/38 [00:00<00:00, 30.20batch/s, loss=37.5000]"
     ]
    },
    {
     "name": "stdout",
     "output_type": "stream",
     "text": [
      "DEBUG: scores.shape = torch.Size([8, 16])\n",
      "DEBUG: scores.shape = torch.Size([8, 16])\n"
     ]
    },
    {
     "name": "stderr",
     "output_type": "stream",
     "text": [
      "Epoch 73:  47%|████▋     | 18/38 [00:00<00:00, 30.20batch/s, loss=25.0000]"
     ]
    },
    {
     "name": "stdout",
     "output_type": "stream",
     "text": [
      "DEBUG: scores.shape = torch.Size([8, 16])\n"
     ]
    },
    {
     "name": "stderr",
     "output_type": "stream",
     "text": [
      "Epoch 73:  58%|█████▊    | 22/38 [00:00<00:00, 29.74batch/s, loss=50.0000]"
     ]
    },
    {
     "name": "stdout",
     "output_type": "stream",
     "text": [
      "DEBUG: scores.shape = torch.Size([8, 16])\n",
      "DEBUG: scores.shape = torch.Size([8, 16])\n",
      "DEBUG: scores.shape = torch.Size([8, 16])\n"
     ]
    },
    {
     "name": "stderr",
     "output_type": "stream",
     "text": [
      "Epoch 73:  66%|██████▌   | 25/38 [00:00<00:00, 29.57batch/s, loss=62.5000]"
     ]
    },
    {
     "name": "stdout",
     "output_type": "stream",
     "text": [
      "DEBUG: scores.shape = torch.Size([8, 16])\n"
     ]
    },
    {
     "name": "stderr",
     "output_type": "stream",
     "text": [
      "Epoch 73:  66%|██████▌   | 25/38 [00:00<00:00, 29.57batch/s, loss=50.0000]"
     ]
    },
    {
     "name": "stdout",
     "output_type": "stream",
     "text": [
      "DEBUG: scores.shape = torch.Size([8, 16])\n"
     ]
    },
    {
     "name": "stderr",
     "output_type": "stream",
     "text": [
      "Epoch 73:  66%|██████▌   | 25/38 [00:00<00:00, 29.57batch/s, loss=37.5000]"
     ]
    },
    {
     "name": "stdout",
     "output_type": "stream",
     "text": [
      "DEBUG: scores.shape = torch.Size([8, 16])\n",
      "DEBUG: scores.shape = torch.Size([8, 16])\n"
     ]
    },
    {
     "name": "stderr",
     "output_type": "stream",
     "text": [
      "Epoch 73:  76%|███████▋  | 29/38 [00:01<00:00, 30.52batch/s, loss=37.5000]"
     ]
    },
    {
     "name": "stdout",
     "output_type": "stream",
     "text": [
      "DEBUG: scores.shape = torch.Size([8, 16])\n",
      "DEBUG: scores.shape = torch.Size([8, 16])\n",
      "DEBUG: scores.shape = torch.Size([8, 16])\n",
      "DEBUG: scores.shape = torch.Size([8, 16])\n"
     ]
    },
    {
     "name": "stderr",
     "output_type": "stream",
     "text": [
      "Epoch 73:  87%|████████▋ | 33/38 [00:01<00:00, 30.19batch/s, loss=50.0000]"
     ]
    },
    {
     "name": "stdout",
     "output_type": "stream",
     "text": [
      "DEBUG: scores.shape = torch.Size([8, 16])\n"
     ]
    },
    {
     "name": "stderr",
     "output_type": "stream",
     "text": [
      "Epoch 73:  87%|████████▋ | 33/38 [00:01<00:00, 30.19batch/s, loss=62.5000]"
     ]
    },
    {
     "name": "stdout",
     "output_type": "stream",
     "text": [
      "DEBUG: scores.shape = torch.Size([8, 16])\n"
     ]
    },
    {
     "name": "stderr",
     "output_type": "stream",
     "text": [
      "Epoch 73:  97%|█████████▋| 37/38 [00:01<00:00, 29.66batch/s, loss=0.0000]  "
     ]
    },
    {
     "name": "stdout",
     "output_type": "stream",
     "text": [
      "DEBUG: scores.shape = torch.Size([8, 16])\n",
      "DEBUG: scores.shape = torch.Size([8, 16])\n",
      "DEBUG: scores.shape = torch.Size([4, 16])\n"
     ]
    },
    {
     "name": "stderr",
     "output_type": "stream",
     "text": [
      "Epoch 73: 100%|██████████| 38/38 [00:01<00:00, 29.94batch/s, loss=0.0000]\n"
     ]
    },
    {
     "name": "stdout",
     "output_type": "stream",
     "text": [
      "Epoch 73, Loss: 49.3421\n"
     ]
    },
    {
     "name": "stderr",
     "output_type": "stream",
     "text": [
      "Epoch 74:   0%|          | 0/38 [00:00<?, ?batch/s, loss=50.0000]"
     ]
    },
    {
     "name": "stdout",
     "output_type": "stream",
     "text": [
      "DEBUG: scores.shape = torch.Size([8, 16])\n"
     ]
    },
    {
     "name": "stderr",
     "output_type": "stream",
     "text": [
      "Epoch 74:   0%|          | 0/38 [00:00<?, ?batch/s, loss=50.0000]"
     ]
    },
    {
     "name": "stdout",
     "output_type": "stream",
     "text": [
      "DEBUG: scores.shape = torch.Size([8, 16])\n",
      "DEBUG: scores.shape = torch.Size([8, 16])\n"
     ]
    },
    {
     "name": "stderr",
     "output_type": "stream",
     "text": [
      "Epoch 74:   0%|          | 0/38 [00:00<?, ?batch/s, loss=50.0000]"
     ]
    },
    {
     "name": "stdout",
     "output_type": "stream",
     "text": [
      "DEBUG: scores.shape = torch.Size([8, 16])\n"
     ]
    },
    {
     "name": "stderr",
     "output_type": "stream",
     "text": [
      "Epoch 74:  11%|█         | 4/38 [00:00<00:01, 30.19batch/s, loss=50.0000]"
     ]
    },
    {
     "name": "stdout",
     "output_type": "stream",
     "text": [
      "DEBUG: scores.shape = torch.Size([8, 16])\n",
      "DEBUG: scores.shape = torch.Size([8, 16])\n"
     ]
    },
    {
     "name": "stderr",
     "output_type": "stream",
     "text": [
      "Epoch 74:  11%|█         | 4/38 [00:00<00:01, 30.19batch/s, loss=37.5000]"
     ]
    },
    {
     "name": "stdout",
     "output_type": "stream",
     "text": [
      "DEBUG: scores.shape = torch.Size([8, 16])\n"
     ]
    },
    {
     "name": "stderr",
     "output_type": "stream",
     "text": [
      "Epoch 74:  21%|██        | 8/38 [00:00<00:01, 29.32batch/s, loss=50.0000]"
     ]
    },
    {
     "name": "stdout",
     "output_type": "stream",
     "text": [
      "DEBUG: scores.shape = torch.Size([8, 16])\n",
      "DEBUG: scores.shape = torch.Size([8, 16])\n",
      "DEBUG: scores.shape = torch.Size([8, 16])\n"
     ]
    },
    {
     "name": "stderr",
     "output_type": "stream",
     "text": [
      "Epoch 74:  29%|██▉       | 11/38 [00:00<00:00, 29.27batch/s, loss=37.5000]"
     ]
    },
    {
     "name": "stdout",
     "output_type": "stream",
     "text": [
      "DEBUG: scores.shape = torch.Size([8, 16])\n",
      "DEBUG: scores.shape = torch.Size([8, 16])\n"
     ]
    },
    {
     "name": "stderr",
     "output_type": "stream",
     "text": [
      "Epoch 74:  29%|██▉       | 11/38 [00:00<00:00, 29.27batch/s, loss=62.5000]"
     ]
    },
    {
     "name": "stdout",
     "output_type": "stream",
     "text": [
      "DEBUG: scores.shape = torch.Size([8, 16])\n"
     ]
    },
    {
     "name": "stderr",
     "output_type": "stream",
     "text": [
      "Epoch 74:  39%|███▉      | 15/38 [00:00<00:00, 31.20batch/s, loss=37.5000]"
     ]
    },
    {
     "name": "stdout",
     "output_type": "stream",
     "text": [
      "DEBUG: scores.shape = torch.Size([8, 16])\n",
      "DEBUG: scores.shape = torch.Size([8, 16])\n",
      "DEBUG: scores.shape = torch.Size([8, 16])\n",
      "DEBUG: scores.shape = torch.Size([8, 16])\n"
     ]
    },
    {
     "name": "stderr",
     "output_type": "stream",
     "text": [
      "Epoch 74:  39%|███▉      | 15/38 [00:00<00:00, 31.20batch/s, loss=75.0000]"
     ]
    },
    {
     "name": "stdout",
     "output_type": "stream",
     "text": [
      "DEBUG: scores.shape = torch.Size([8, 16])\n"
     ]
    },
    {
     "name": "stderr",
     "output_type": "stream",
     "text": [
      "Epoch 74:  50%|█████     | 19/38 [00:00<00:00, 31.04batch/s, loss=62.5000]"
     ]
    },
    {
     "name": "stdout",
     "output_type": "stream",
     "text": [
      "DEBUG: scores.shape = torch.Size([8, 16])\n",
      "DEBUG: scores.shape = torch.Size([8, 16])\n"
     ]
    },
    {
     "name": "stderr",
     "output_type": "stream",
     "text": [
      "Epoch 74:  61%|██████    | 23/38 [00:00<00:00, 31.29batch/s, loss=62.5000]"
     ]
    },
    {
     "name": "stdout",
     "output_type": "stream",
     "text": [
      "DEBUG: scores.shape = torch.Size([8, 16])\n",
      "DEBUG: scores.shape = torch.Size([8, 16])\n",
      "DEBUG: scores.shape = torch.Size([8, 16])\n",
      "DEBUG: scores.shape = torch.Size([8, 16])\n"
     ]
    },
    {
     "name": "stderr",
     "output_type": "stream",
     "text": [
      "Epoch 74:  61%|██████    | 23/38 [00:00<00:00, 31.29batch/s, loss=62.5000]"
     ]
    },
    {
     "name": "stdout",
     "output_type": "stream",
     "text": [
      "DEBUG: scores.shape = torch.Size([8, 16])\n"
     ]
    },
    {
     "name": "stderr",
     "output_type": "stream",
     "text": [
      "Epoch 74:  61%|██████    | 23/38 [00:00<00:00, 31.29batch/s, loss=50.0000]"
     ]
    },
    {
     "name": "stdout",
     "output_type": "stream",
     "text": [
      "DEBUG: scores.shape = torch.Size([8, 16])\n",
      "DEBUG: scores.shape = torch.Size([8, 16])\n"
     ]
    },
    {
     "name": "stderr",
     "output_type": "stream",
     "text": [
      "Epoch 74:  71%|███████   | 27/38 [00:00<00:00, 32.28batch/s, loss=50.0000]"
     ]
    },
    {
     "name": "stdout",
     "output_type": "stream",
     "text": [
      "DEBUG: scores.shape = torch.Size([8, 16])\n",
      "DEBUG: scores.shape = torch.Size([8, 16])\n",
      "DEBUG: scores.shape = torch.Size([8, 16])\n",
      "DEBUG: scores.shape = torch.Size([8, 16])\n"
     ]
    },
    {
     "name": "stderr",
     "output_type": "stream",
     "text": [
      "Epoch 74:  82%|████████▏ | 31/38 [00:00<00:00, 32.82batch/s, loss=50.0000]"
     ]
    },
    {
     "name": "stdout",
     "output_type": "stream",
     "text": [
      "DEBUG: scores.shape = torch.Size([8, 16])\n"
     ]
    },
    {
     "name": "stderr",
     "output_type": "stream",
     "text": [
      "Epoch 74:  82%|████████▏ | 31/38 [00:01<00:00, 32.82batch/s, loss=50.0000]"
     ]
    },
    {
     "name": "stdout",
     "output_type": "stream",
     "text": [
      "DEBUG: scores.shape = torch.Size([8, 16])\n",
      "DEBUG: scores.shape = torch.Size([8, 16])\n"
     ]
    },
    {
     "name": "stderr",
     "output_type": "stream",
     "text": [
      "Epoch 74: 100%|██████████| 38/38 [00:01<00:00, 32.69batch/s, loss=25.0000] \n"
     ]
    },
    {
     "name": "stdout",
     "output_type": "stream",
     "text": [
      "DEBUG: scores.shape = torch.Size([8, 16])\n",
      "DEBUG: scores.shape = torch.Size([8, 16])\n",
      "DEBUG: scores.shape = torch.Size([8, 16])\n",
      "DEBUG: scores.shape = torch.Size([4, 16])\n",
      "Epoch 74, Loss: 49.6711\n"
     ]
    },
    {
     "name": "stderr",
     "output_type": "stream",
     "text": [
      "Epoch 75:   0%|          | 0/38 [00:00<?, ?batch/s, loss=25.0000]"
     ]
    },
    {
     "name": "stdout",
     "output_type": "stream",
     "text": [
      "DEBUG: scores.shape = torch.Size([8, 16])\n",
      "DEBUG: scores.shape = torch.Size([8, 16])\n"
     ]
    },
    {
     "name": "stderr",
     "output_type": "stream",
     "text": [
      "Epoch 75:   8%|▊         | 3/38 [00:00<00:01, 29.73batch/s, loss=75.0000]"
     ]
    },
    {
     "name": "stdout",
     "output_type": "stream",
     "text": [
      "DEBUG: scores.shape = torch.Size([8, 16])\n",
      "DEBUG: scores.shape = torch.Size([8, 16])\n"
     ]
    },
    {
     "name": "stderr",
     "output_type": "stream",
     "text": [
      "Epoch 75:   8%|▊         | 3/38 [00:00<00:01, 29.73batch/s, loss=62.5000]"
     ]
    },
    {
     "name": "stdout",
     "output_type": "stream",
     "text": [
      "DEBUG: scores.shape = torch.Size([8, 16])\n",
      "DEBUG: scores.shape = torch.Size([8, 16])\n"
     ]
    },
    {
     "name": "stderr",
     "output_type": "stream",
     "text": [
      "Epoch 75:  16%|█▌        | 6/38 [00:00<00:01, 28.44batch/s, loss=37.5000]"
     ]
    },
    {
     "name": "stdout",
     "output_type": "stream",
     "text": [
      "DEBUG: scores.shape = torch.Size([8, 16])\n"
     ]
    },
    {
     "name": "stderr",
     "output_type": "stream",
     "text": [
      "Epoch 75:  16%|█▌        | 6/38 [00:00<00:01, 28.44batch/s, loss=87.5000]"
     ]
    },
    {
     "name": "stdout",
     "output_type": "stream",
     "text": [
      "DEBUG: scores.shape = torch.Size([8, 16])\n"
     ]
    },
    {
     "name": "stderr",
     "output_type": "stream",
     "text": [
      "Epoch 75:  26%|██▋       | 10/38 [00:00<00:00, 30.18batch/s, loss=62.5000]"
     ]
    },
    {
     "name": "stdout",
     "output_type": "stream",
     "text": [
      "DEBUG: scores.shape = torch.Size([8, 16])\n",
      "DEBUG: scores.shape = torch.Size([8, 16])\n",
      "DEBUG: scores.shape = torch.Size([8, 16])\n"
     ]
    },
    {
     "name": "stderr",
     "output_type": "stream",
     "text": [
      "Epoch 75:  26%|██▋       | 10/38 [00:00<00:00, 30.18batch/s, loss=75.0000]"
     ]
    },
    {
     "name": "stdout",
     "output_type": "stream",
     "text": [
      "DEBUG: scores.shape = torch.Size([8, 16])\n",
      "DEBUG: scores.shape = torch.Size([8, 16])\n"
     ]
    },
    {
     "name": "stderr",
     "output_type": "stream",
     "text": [
      "Epoch 75:  26%|██▋       | 10/38 [00:00<00:00, 30.18batch/s, loss=50.0000]"
     ]
    },
    {
     "name": "stdout",
     "output_type": "stream",
     "text": [
      "DEBUG: scores.shape = torch.Size([8, 16])\n"
     ]
    },
    {
     "name": "stderr",
     "output_type": "stream",
     "text": [
      "Epoch 75:  37%|███▋      | 14/38 [00:00<00:00, 30.13batch/s, loss=75.0000]"
     ]
    },
    {
     "name": "stdout",
     "output_type": "stream",
     "text": [
      "DEBUG: scores.shape = torch.Size([8, 16])\n"
     ]
    },
    {
     "name": "stderr",
     "output_type": "stream",
     "text": [
      "Epoch 75:  37%|███▋      | 14/38 [00:00<00:00, 30.13batch/s, loss=25.0000]"
     ]
    },
    {
     "name": "stdout",
     "output_type": "stream",
     "text": [
      "DEBUG: scores.shape = torch.Size([8, 16])\n",
      "DEBUG: scores.shape = torch.Size([8, 16])\n"
     ]
    },
    {
     "name": "stderr",
     "output_type": "stream",
     "text": [
      "Epoch 75:  47%|████▋     | 18/38 [00:00<00:00, 27.82batch/s, loss=50.0000]"
     ]
    },
    {
     "name": "stdout",
     "output_type": "stream",
     "text": [
      "DEBUG: scores.shape = torch.Size([8, 16])\n",
      "DEBUG: scores.shape = torch.Size([8, 16])\n"
     ]
    },
    {
     "name": "stderr",
     "output_type": "stream",
     "text": [
      "Epoch 75:  47%|████▋     | 18/38 [00:00<00:00, 27.82batch/s, loss=62.5000]"
     ]
    },
    {
     "name": "stdout",
     "output_type": "stream",
     "text": [
      "DEBUG: scores.shape = torch.Size([8, 16])\n"
     ]
    },
    {
     "name": "stderr",
     "output_type": "stream",
     "text": [
      "Epoch 75:  47%|████▋     | 18/38 [00:00<00:00, 27.82batch/s, loss=25.0000]"
     ]
    },
    {
     "name": "stdout",
     "output_type": "stream",
     "text": [
      "DEBUG: scores.shape = torch.Size([8, 16])\n"
     ]
    },
    {
     "name": "stderr",
     "output_type": "stream",
     "text": [
      "Epoch 75:  55%|█████▌    | 21/38 [00:00<00:00, 27.88batch/s, loss=50.0000]"
     ]
    },
    {
     "name": "stdout",
     "output_type": "stream",
     "text": [
      "DEBUG: scores.shape = torch.Size([8, 16])\n",
      "DEBUG: scores.shape = torch.Size([8, 16])\n"
     ]
    },
    {
     "name": "stderr",
     "output_type": "stream",
     "text": [
      "Epoch 75:  63%|██████▎   | 24/38 [00:00<00:00, 27.84batch/s, loss=75.0000]"
     ]
    },
    {
     "name": "stdout",
     "output_type": "stream",
     "text": [
      "DEBUG: scores.shape = torch.Size([8, 16])\n",
      "DEBUG: scores.shape = torch.Size([8, 16])\n"
     ]
    },
    {
     "name": "stderr",
     "output_type": "stream",
     "text": [
      "Epoch 75:  63%|██████▎   | 24/38 [00:00<00:00, 27.84batch/s, loss=50.0000]"
     ]
    },
    {
     "name": "stdout",
     "output_type": "stream",
     "text": [
      "DEBUG: scores.shape = torch.Size([8, 16])\n"
     ]
    },
    {
     "name": "stderr",
     "output_type": "stream",
     "text": [
      "Epoch 75:  63%|██████▎   | 24/38 [00:00<00:00, 27.84batch/s, loss=50.0000]"
     ]
    },
    {
     "name": "stdout",
     "output_type": "stream",
     "text": [
      "DEBUG: scores.shape = torch.Size([8, 16])\n"
     ]
    },
    {
     "name": "stderr",
     "output_type": "stream",
     "text": [
      "Epoch 75:  74%|███████▎  | 28/38 [00:01<00:00, 28.55batch/s, loss=37.5000]"
     ]
    },
    {
     "name": "stdout",
     "output_type": "stream",
     "text": [
      "DEBUG: scores.shape = torch.Size([8, 16])\n",
      "DEBUG: scores.shape = torch.Size([8, 16])\n"
     ]
    },
    {
     "name": "stderr",
     "output_type": "stream",
     "text": [
      "Epoch 75:  74%|███████▎  | 28/38 [00:01<00:00, 28.55batch/s, loss=12.5000]"
     ]
    },
    {
     "name": "stdout",
     "output_type": "stream",
     "text": [
      "DEBUG: scores.shape = torch.Size([8, 16])\n",
      "DEBUG: scores.shape = torch.Size([8, 16])\n"
     ]
    },
    {
     "name": "stderr",
     "output_type": "stream",
     "text": [
      "Epoch 75:  82%|████████▏ | 31/38 [00:01<00:00, 27.74batch/s, loss=25.0000]"
     ]
    },
    {
     "name": "stdout",
     "output_type": "stream",
     "text": [
      "DEBUG: scores.shape = torch.Size([8, 16])\n"
     ]
    },
    {
     "name": "stderr",
     "output_type": "stream",
     "text": [
      "Epoch 75:  82%|████████▏ | 31/38 [00:01<00:00, 27.74batch/s, loss=50.0000]"
     ]
    },
    {
     "name": "stdout",
     "output_type": "stream",
     "text": [
      "DEBUG: scores.shape = torch.Size([8, 16])\n",
      "DEBUG: scores.shape = torch.Size([8, 16])\n",
      "DEBUG: scores.shape = torch.Size([8, 16])\n"
     ]
    },
    {
     "name": "stderr",
     "output_type": "stream",
     "text": [
      "Epoch 75:  92%|█████████▏| 35/38 [00:01<00:00, 28.72batch/s, loss=0.0000] "
     ]
    },
    {
     "name": "stdout",
     "output_type": "stream",
     "text": [
      "DEBUG: scores.shape = torch.Size([8, 16])\n",
      "DEBUG: scores.shape = torch.Size([8, 16])\n",
      "DEBUG: scores.shape = torch.Size([4, 16])\n"
     ]
    },
    {
     "name": "stderr",
     "output_type": "stream",
     "text": [
      "Epoch 75: 100%|██████████| 38/38 [00:01<00:00, 29.22batch/s, loss=0.0000]\n"
     ]
    },
    {
     "name": "stdout",
     "output_type": "stream",
     "text": [
      "Epoch 75, Loss: 49.3421\n"
     ]
    },
    {
     "name": "stderr",
     "output_type": "stream",
     "text": [
      "Epoch 76:   0%|          | 0/38 [00:00<?, ?batch/s, loss=62.5000]"
     ]
    },
    {
     "name": "stdout",
     "output_type": "stream",
     "text": [
      "DEBUG: scores.shape = torch.Size([8, 16])\n"
     ]
    },
    {
     "name": "stderr",
     "output_type": "stream",
     "text": [
      "Epoch 76:   8%|▊         | 3/38 [00:00<00:01, 27.58batch/s, loss=75.0000]"
     ]
    },
    {
     "name": "stdout",
     "output_type": "stream",
     "text": [
      "DEBUG: scores.shape = torch.Size([8, 16])\n",
      "DEBUG: scores.shape = torch.Size([8, 16])\n",
      "DEBUG: scores.shape = torch.Size([8, 16])\n"
     ]
    },
    {
     "name": "stderr",
     "output_type": "stream",
     "text": [
      "Epoch 76:   8%|▊         | 3/38 [00:00<00:01, 27.58batch/s, loss=37.5000]"
     ]
    },
    {
     "name": "stdout",
     "output_type": "stream",
     "text": [
      "DEBUG: scores.shape = torch.Size([8, 16])\n",
      "DEBUG: scores.shape = torch.Size([8, 16])\n",
      "DEBUG: scores.shape = torch.Size([8, 16])\n"
     ]
    },
    {
     "name": "stderr",
     "output_type": "stream",
     "text": [
      "Epoch 76:  18%|█▊        | 7/38 [00:00<00:01, 30.62batch/s, loss=62.5000]"
     ]
    },
    {
     "name": "stdout",
     "output_type": "stream",
     "text": [
      "DEBUG: scores.shape = torch.Size([8, 16])\n"
     ]
    },
    {
     "name": "stderr",
     "output_type": "stream",
     "text": [
      "Epoch 76:  18%|█▊        | 7/38 [00:00<00:01, 30.62batch/s, loss=12.5000]"
     ]
    },
    {
     "name": "stdout",
     "output_type": "stream",
     "text": [
      "DEBUG: scores.shape = torch.Size([8, 16])\n",
      "DEBUG: scores.shape = torch.Size([8, 16])\n",
      "DEBUG: scores.shape = torch.Size([8, 16])\n"
     ]
    },
    {
     "name": "stderr",
     "output_type": "stream",
     "text": [
      "Epoch 76:  29%|██▉       | 11/38 [00:00<00:00, 31.40batch/s, loss=50.0000]"
     ]
    },
    {
     "name": "stdout",
     "output_type": "stream",
     "text": [
      "DEBUG: scores.shape = torch.Size([8, 16])\n",
      "DEBUG: scores.shape = torch.Size([8, 16])\n"
     ]
    },
    {
     "name": "stderr",
     "output_type": "stream",
     "text": [
      "Epoch 76:  29%|██▉       | 11/38 [00:00<00:00, 31.40batch/s, loss=25.0000]"
     ]
    },
    {
     "name": "stdout",
     "output_type": "stream",
     "text": [
      "DEBUG: scores.shape = torch.Size([8, 16])\n"
     ]
    },
    {
     "name": "stderr",
     "output_type": "stream",
     "text": [
      "Epoch 76:  39%|███▉      | 15/38 [00:00<00:00, 29.39batch/s, loss=37.5000]"
     ]
    },
    {
     "name": "stdout",
     "output_type": "stream",
     "text": [
      "DEBUG: scores.shape = torch.Size([8, 16])\n",
      "DEBUG: scores.shape = torch.Size([8, 16])\n",
      "DEBUG: scores.shape = torch.Size([8, 16])\n"
     ]
    },
    {
     "name": "stderr",
     "output_type": "stream",
     "text": [
      "Epoch 76:  50%|█████     | 19/38 [00:00<00:00, 29.87batch/s, loss=50.0000]"
     ]
    },
    {
     "name": "stdout",
     "output_type": "stream",
     "text": [
      "DEBUG: scores.shape = torch.Size([8, 16])\n",
      "DEBUG: scores.shape = torch.Size([8, 16])\n",
      "DEBUG: scores.shape = torch.Size([8, 16])\n"
     ]
    },
    {
     "name": "stderr",
     "output_type": "stream",
     "text": [
      "Epoch 76:  58%|█████▊    | 22/38 [00:00<00:00, 28.63batch/s, loss=50.0000]"
     ]
    },
    {
     "name": "stdout",
     "output_type": "stream",
     "text": [
      "DEBUG: scores.shape = torch.Size([8, 16])\n",
      "DEBUG: scores.shape = torch.Size([8, 16])\n",
      "DEBUG: scores.shape = torch.Size([8, 16])\n"
     ]
    },
    {
     "name": "stderr",
     "output_type": "stream",
     "text": [
      "Epoch 76:  68%|██████▊   | 26/38 [00:00<00:00, 29.82batch/s, loss=37.5000]"
     ]
    },
    {
     "name": "stdout",
     "output_type": "stream",
     "text": [
      "DEBUG: scores.shape = torch.Size([8, 16])\n",
      "DEBUG: scores.shape = torch.Size([8, 16])\n",
      "DEBUG: scores.shape = torch.Size([8, 16])\n",
      "DEBUG: scores.shape = torch.Size([8, 16])\n"
     ]
    },
    {
     "name": "stderr",
     "output_type": "stream",
     "text": [
      "Epoch 76:  68%|██████▊   | 26/38 [00:00<00:00, 29.82batch/s, loss=37.5000]"
     ]
    },
    {
     "name": "stdout",
     "output_type": "stream",
     "text": [
      "DEBUG: scores.shape = torch.Size([8, 16])\n",
      "DEBUG: scores.shape = torch.Size([8, 16])\n"
     ]
    },
    {
     "name": "stderr",
     "output_type": "stream",
     "text": [
      "Epoch 76:  79%|███████▉  | 30/38 [00:01<00:00, 29.65batch/s, loss=25.0000]"
     ]
    },
    {
     "name": "stdout",
     "output_type": "stream",
     "text": [
      "DEBUG: scores.shape = torch.Size([8, 16])\n",
      "DEBUG: scores.shape = torch.Size([8, 16])\n",
      "DEBUG: scores.shape = torch.Size([8, 16])\n",
      "DEBUG: scores.shape = torch.Size([8, 16])\n"
     ]
    },
    {
     "name": "stderr",
     "output_type": "stream",
     "text": [
      "Epoch 76:  87%|████████▋ | 33/38 [00:01<00:00, 29.23batch/s, loss=50.0000]"
     ]
    },
    {
     "name": "stdout",
     "output_type": "stream",
     "text": [
      "DEBUG: scores.shape = torch.Size([8, 16])\n",
      "DEBUG: scores.shape = torch.Size([8, 16])\n"
     ]
    },
    {
     "name": "stderr",
     "output_type": "stream",
     "text": [
      "Epoch 76: 100%|██████████| 38/38 [00:01<00:00, 29.51batch/s, loss=50.0000]\n"
     ]
    },
    {
     "name": "stdout",
     "output_type": "stream",
     "text": [
      "DEBUG: scores.shape = torch.Size([8, 16])\n",
      "DEBUG: scores.shape = torch.Size([8, 16])\n",
      "DEBUG: scores.shape = torch.Size([4, 16])\n",
      "Epoch 76, Loss: 50.0000\n"
     ]
    },
    {
     "name": "stderr",
     "output_type": "stream",
     "text": [
      "Epoch 77:   0%|          | 0/38 [00:00<?, ?batch/s, loss=75.0000]"
     ]
    },
    {
     "name": "stdout",
     "output_type": "stream",
     "text": [
      "DEBUG: scores.shape = torch.Size([8, 16])\n"
     ]
    },
    {
     "name": "stderr",
     "output_type": "stream",
     "text": [
      "Epoch 77:   0%|          | 0/38 [00:00<?, ?batch/s, loss=62.5000]"
     ]
    },
    {
     "name": "stdout",
     "output_type": "stream",
     "text": [
      "DEBUG: scores.shape = torch.Size([8, 16])\n",
      "DEBUG: scores.shape = torch.Size([8, 16])\n"
     ]
    },
    {
     "name": "stderr",
     "output_type": "stream",
     "text": [
      "Epoch 77:   8%|▊         | 3/38 [00:00<00:01, 27.03batch/s, loss=37.5000]"
     ]
    },
    {
     "name": "stdout",
     "output_type": "stream",
     "text": [
      "DEBUG: scores.shape = torch.Size([8, 16])\n",
      "DEBUG: scores.shape = torch.Size([8, 16])\n",
      "DEBUG: scores.shape = torch.Size([8, 16])\n"
     ]
    },
    {
     "name": "stderr",
     "output_type": "stream",
     "text": [
      "Epoch 77:  16%|█▌        | 6/38 [00:00<00:01, 23.19batch/s, loss=62.5000]"
     ]
    },
    {
     "name": "stdout",
     "output_type": "stream",
     "text": [
      "DEBUG: scores.shape = torch.Size([8, 16])\n",
      "DEBUG: scores.shape = torch.Size([8, 16])\n"
     ]
    },
    {
     "name": "stderr",
     "output_type": "stream",
     "text": [
      "Epoch 77:  26%|██▋       | 10/38 [00:00<00:01, 26.40batch/s, loss=62.5000]"
     ]
    },
    {
     "name": "stdout",
     "output_type": "stream",
     "text": [
      "DEBUG: scores.shape = torch.Size([8, 16])\n",
      "DEBUG: scores.shape = torch.Size([8, 16])\n",
      "DEBUG: scores.shape = torch.Size([8, 16])\n",
      "DEBUG: scores.shape = torch.Size([8, 16])\n",
      "DEBUG: scores.shape = torch.Size([8, 16])\n"
     ]
    },
    {
     "name": "stderr",
     "output_type": "stream",
     "text": [
      "Epoch 77:  37%|███▋      | 14/38 [00:00<00:00, 28.76batch/s, loss=75.0000]"
     ]
    },
    {
     "name": "stdout",
     "output_type": "stream",
     "text": [
      "DEBUG: scores.shape = torch.Size([8, 16])\n",
      "DEBUG: scores.shape = torch.Size([8, 16])\n"
     ]
    },
    {
     "name": "stderr",
     "output_type": "stream",
     "text": [
      "Epoch 77:  47%|████▋     | 18/38 [00:00<00:00, 28.26batch/s, loss=37.5000]"
     ]
    },
    {
     "name": "stdout",
     "output_type": "stream",
     "text": [
      "DEBUG: scores.shape = torch.Size([8, 16])\n",
      "DEBUG: scores.shape = torch.Size([8, 16])\n",
      "DEBUG: scores.shape = torch.Size([8, 16])\n",
      "DEBUG: scores.shape = torch.Size([8, 16])\n"
     ]
    },
    {
     "name": "stderr",
     "output_type": "stream",
     "text": [
      "Epoch 77:  47%|████▋     | 18/38 [00:00<00:00, 28.26batch/s, loss=62.5000]"
     ]
    },
    {
     "name": "stdout",
     "output_type": "stream",
     "text": [
      "DEBUG: scores.shape = torch.Size([8, 16])\n",
      "DEBUG: scores.shape = torch.Size([8, 16])\n"
     ]
    },
    {
     "name": "stderr",
     "output_type": "stream",
     "text": [
      "Epoch 77:  66%|██████▌   | 25/38 [00:00<00:00, 30.35batch/s, loss=50.0000]"
     ]
    },
    {
     "name": "stdout",
     "output_type": "stream",
     "text": [
      "DEBUG: scores.shape = torch.Size([8, 16])\n",
      "DEBUG: scores.shape = torch.Size([8, 16])\n",
      "DEBUG: scores.shape = torch.Size([8, 16])\n",
      "DEBUG: scores.shape = torch.Size([8, 16])\n",
      "DEBUG: scores.shape = torch.Size([8, 16])\n"
     ]
    },
    {
     "name": "stderr",
     "output_type": "stream",
     "text": [
      "Epoch 77:  66%|██████▌   | 25/38 [00:00<00:00, 30.35batch/s, loss=37.5000]"
     ]
    },
    {
     "name": "stdout",
     "output_type": "stream",
     "text": [
      "DEBUG: scores.shape = torch.Size([8, 16])\n",
      "DEBUG: scores.shape = torch.Size([8, 16])\n"
     ]
    },
    {
     "name": "stderr",
     "output_type": "stream",
     "text": [
      "Epoch 77:  76%|███████▋  | 29/38 [00:01<00:00, 30.39batch/s, loss=62.5000]"
     ]
    },
    {
     "name": "stdout",
     "output_type": "stream",
     "text": [
      "DEBUG: scores.shape = torch.Size([8, 16])\n",
      "DEBUG: scores.shape = torch.Size([8, 16])\n",
      "DEBUG: scores.shape = torch.Size([8, 16])\n",
      "DEBUG: scores.shape = torch.Size([8, 16])\n",
      "DEBUG: scores.shape = torch.Size([8, 16])\n"
     ]
    },
    {
     "name": "stderr",
     "output_type": "stream",
     "text": [
      "Epoch 77:  87%|████████▋ | 33/38 [00:01<00:00, 31.29batch/s, loss=37.5000]"
     ]
    },
    {
     "name": "stdout",
     "output_type": "stream",
     "text": [
      "DEBUG: scores.shape = torch.Size([8, 16])\n",
      "DEBUG: scores.shape = torch.Size([8, 16])\n"
     ]
    },
    {
     "name": "stderr",
     "output_type": "stream",
     "text": [
      "Epoch 77: 100%|██████████| 38/38 [00:01<00:00, 30.02batch/s, loss=50.0000]\n"
     ]
    },
    {
     "name": "stdout",
     "output_type": "stream",
     "text": [
      "DEBUG: scores.shape = torch.Size([8, 16])\n",
      "DEBUG: scores.shape = torch.Size([8, 16])\n",
      "DEBUG: scores.shape = torch.Size([4, 16])\n",
      "Epoch 77, Loss: 50.0000\n"
     ]
    },
    {
     "name": "stderr",
     "output_type": "stream",
     "text": [
      "Epoch 78:   0%|          | 0/38 [00:00<?, ?batch/s, loss=37.5000]"
     ]
    },
    {
     "name": "stdout",
     "output_type": "stream",
     "text": [
      "DEBUG: scores.shape = torch.Size([8, 16])\n",
      "DEBUG: scores.shape = torch.Size([8, 16])\n"
     ]
    },
    {
     "name": "stderr",
     "output_type": "stream",
     "text": [
      "Epoch 78:   8%|▊         | 3/38 [00:00<00:01, 28.94batch/s, loss=37.5000]"
     ]
    },
    {
     "name": "stdout",
     "output_type": "stream",
     "text": [
      "DEBUG: scores.shape = torch.Size([8, 16])\n",
      "DEBUG: scores.shape = torch.Size([8, 16])\n"
     ]
    },
    {
     "name": "stderr",
     "output_type": "stream",
     "text": [
      "Epoch 78:   8%|▊         | 3/38 [00:00<00:01, 28.94batch/s, loss=62.5000]"
     ]
    },
    {
     "name": "stdout",
     "output_type": "stream",
     "text": [
      "DEBUG: scores.shape = torch.Size([8, 16])\n",
      "DEBUG: scores.shape = torch.Size([8, 16])\n"
     ]
    },
    {
     "name": "stderr",
     "output_type": "stream",
     "text": [
      "Epoch 78:  18%|█▊        | 7/38 [00:00<00:01, 29.59batch/s, loss=25.0000]"
     ]
    },
    {
     "name": "stdout",
     "output_type": "stream",
     "text": [
      "DEBUG: scores.shape = torch.Size([8, 16])\n",
      "DEBUG: scores.shape = torch.Size([8, 16])\n",
      "DEBUG: scores.shape = torch.Size([8, 16])\n"
     ]
    },
    {
     "name": "stderr",
     "output_type": "stream",
     "text": [
      "Epoch 78:  18%|█▊        | 7/38 [00:00<00:01, 29.59batch/s, loss=37.5000]"
     ]
    },
    {
     "name": "stdout",
     "output_type": "stream",
     "text": [
      "DEBUG: scores.shape = torch.Size([8, 16])\n"
     ]
    },
    {
     "name": "stderr",
     "output_type": "stream",
     "text": [
      "Epoch 78:  29%|██▉       | 11/38 [00:00<00:00, 29.40batch/s, loss=50.0000]"
     ]
    },
    {
     "name": "stdout",
     "output_type": "stream",
     "text": [
      "DEBUG: scores.shape = torch.Size([8, 16])\n",
      "DEBUG: scores.shape = torch.Size([8, 16])\n",
      "DEBUG: scores.shape = torch.Size([8, 16])\n"
     ]
    },
    {
     "name": "stderr",
     "output_type": "stream",
     "text": [
      "Epoch 78:  37%|███▋      | 14/38 [00:00<00:00, 28.13batch/s, loss=75.0000]"
     ]
    },
    {
     "name": "stdout",
     "output_type": "stream",
     "text": [
      "DEBUG: scores.shape = torch.Size([8, 16])\n",
      "DEBUG: scores.shape = torch.Size([8, 16])\n"
     ]
    },
    {
     "name": "stderr",
     "output_type": "stream",
     "text": [
      "Epoch 78:  37%|███▋      | 14/38 [00:00<00:00, 28.13batch/s, loss=37.5000]"
     ]
    },
    {
     "name": "stdout",
     "output_type": "stream",
     "text": [
      "DEBUG: scores.shape = torch.Size([8, 16])\n"
     ]
    },
    {
     "name": "stderr",
     "output_type": "stream",
     "text": [
      "Epoch 78:  47%|████▋     | 18/38 [00:00<00:00, 30.29batch/s, loss=50.0000]"
     ]
    },
    {
     "name": "stdout",
     "output_type": "stream",
     "text": [
      "DEBUG: scores.shape = torch.Size([8, 16])\n",
      "DEBUG: scores.shape = torch.Size([8, 16])\n",
      "DEBUG: scores.shape = torch.Size([8, 16])\n",
      "DEBUG: scores.shape = torch.Size([8, 16])\n"
     ]
    },
    {
     "name": "stderr",
     "output_type": "stream",
     "text": [
      "Epoch 78:  47%|████▋     | 18/38 [00:00<00:00, 30.29batch/s, loss=62.5000]"
     ]
    },
    {
     "name": "stdout",
     "output_type": "stream",
     "text": [
      "DEBUG: scores.shape = torch.Size([8, 16])\n",
      "DEBUG: scores.shape = torch.Size([8, 16])\n"
     ]
    },
    {
     "name": "stderr",
     "output_type": "stream",
     "text": [
      "Epoch 78:  58%|█████▊    | 22/38 [00:00<00:00, 29.29batch/s, loss=62.5000]"
     ]
    },
    {
     "name": "stdout",
     "output_type": "stream",
     "text": [
      "DEBUG: scores.shape = torch.Size([8, 16])\n"
     ]
    },
    {
     "name": "stderr",
     "output_type": "stream",
     "text": [
      "Epoch 78:  68%|██████▊   | 26/38 [00:00<00:00, 31.73batch/s, loss=37.5000]"
     ]
    },
    {
     "name": "stdout",
     "output_type": "stream",
     "text": [
      "DEBUG: scores.shape = torch.Size([8, 16])\n",
      "DEBUG: scores.shape = torch.Size([8, 16])\n",
      "DEBUG: scores.shape = torch.Size([8, 16])\n"
     ]
    },
    {
     "name": "stderr",
     "output_type": "stream",
     "text": [
      "Epoch 78:  68%|██████▊   | 26/38 [00:00<00:00, 31.73batch/s, loss=62.5000]"
     ]
    },
    {
     "name": "stdout",
     "output_type": "stream",
     "text": [
      "DEBUG: scores.shape = torch.Size([8, 16])\n",
      "DEBUG: scores.shape = torch.Size([8, 16])\n",
      "DEBUG: scores.shape = torch.Size([8, 16])\n"
     ]
    },
    {
     "name": "stderr",
     "output_type": "stream",
     "text": [
      "Epoch 78:  79%|███████▉  | 30/38 [00:01<00:00, 30.29batch/s, loss=75.0000]"
     ]
    },
    {
     "name": "stdout",
     "output_type": "stream",
     "text": [
      "DEBUG: scores.shape = torch.Size([8, 16])\n",
      "DEBUG: scores.shape = torch.Size([8, 16])\n",
      "DEBUG: scores.shape = torch.Size([8, 16])\n"
     ]
    },
    {
     "name": "stderr",
     "output_type": "stream",
     "text": [
      "Epoch 78:  89%|████████▉ | 34/38 [00:01<00:00, 29.45batch/s, loss=62.5000]"
     ]
    },
    {
     "name": "stdout",
     "output_type": "stream",
     "text": [
      "DEBUG: scores.shape = torch.Size([8, 16])\n",
      "DEBUG: scores.shape = torch.Size([8, 16])\n",
      "DEBUG: scores.shape = torch.Size([8, 16])\n"
     ]
    },
    {
     "name": "stderr",
     "output_type": "stream",
     "text": [
      "Epoch 78: 100%|██████████| 38/38 [00:01<00:00, 29.96batch/s, loss=50.0000]\n"
     ]
    },
    {
     "name": "stdout",
     "output_type": "stream",
     "text": [
      "DEBUG: scores.shape = torch.Size([8, 16])\n",
      "DEBUG: scores.shape = torch.Size([8, 16])\n",
      "DEBUG: scores.shape = torch.Size([4, 16])\n",
      "Epoch 78, Loss: 50.0000\n"
     ]
    },
    {
     "name": "stderr",
     "output_type": "stream",
     "text": [
      "Epoch 79:   0%|          | 0/38 [00:00<?, ?batch/s, loss=37.5000]"
     ]
    },
    {
     "name": "stdout",
     "output_type": "stream",
     "text": [
      "DEBUG: scores.shape = torch.Size([8, 16])\n",
      "DEBUG: scores.shape = torch.Size([8, 16])\n",
      "DEBUG: scores.shape = torch.Size([8, 16])\n",
      "DEBUG: scores.shape = torch.Size([8, 16])\n"
     ]
    },
    {
     "name": "stderr",
     "output_type": "stream",
     "text": [
      "Epoch 79:  11%|█         | 4/38 [00:00<00:01, 32.83batch/s, loss=50.0000]"
     ]
    },
    {
     "name": "stdout",
     "output_type": "stream",
     "text": [
      "DEBUG: scores.shape = torch.Size([8, 16])\n",
      "DEBUG: scores.shape = torch.Size([8, 16])\n",
      "DEBUG: scores.shape = torch.Size([8, 16])\n"
     ]
    },
    {
     "name": "stderr",
     "output_type": "stream",
     "text": [
      "Epoch 79:  24%|██▎       | 9/38 [00:00<00:00, 35.17batch/s, loss=25.0000]"
     ]
    },
    {
     "name": "stdout",
     "output_type": "stream",
     "text": [
      "DEBUG: scores.shape = torch.Size([8, 16])\n",
      "DEBUG: scores.shape = torch.Size([8, 16])\n",
      "DEBUG: scores.shape = torch.Size([8, 16])\n",
      "DEBUG: scores.shape = torch.Size([8, 16])\n"
     ]
    },
    {
     "name": "stderr",
     "output_type": "stream",
     "text": [
      "Epoch 79:  34%|███▍      | 13/38 [00:00<00:00, 35.29batch/s, loss=50.0000]"
     ]
    },
    {
     "name": "stdout",
     "output_type": "stream",
     "text": [
      "DEBUG: scores.shape = torch.Size([8, 16])\n",
      "DEBUG: scores.shape = torch.Size([8, 16])\n",
      "DEBUG: scores.shape = torch.Size([8, 16])\n"
     ]
    },
    {
     "name": "stderr",
     "output_type": "stream",
     "text": [
      "Epoch 79:  45%|████▍     | 17/38 [00:00<00:00, 33.80batch/s, loss=62.5000]"
     ]
    },
    {
     "name": "stdout",
     "output_type": "stream",
     "text": [
      "DEBUG: scores.shape = torch.Size([8, 16])\n",
      "DEBUG: scores.shape = torch.Size([8, 16])\n",
      "DEBUG: scores.shape = torch.Size([8, 16])\n",
      "DEBUG: scores.shape = torch.Size([8, 16])\n"
     ]
    },
    {
     "name": "stderr",
     "output_type": "stream",
     "text": [
      "Epoch 79:  45%|████▍     | 17/38 [00:00<00:00, 33.80batch/s, loss=62.5000]"
     ]
    },
    {
     "name": "stdout",
     "output_type": "stream",
     "text": [
      "DEBUG: scores.shape = torch.Size([8, 16])\n",
      "DEBUG: scores.shape = torch.Size([8, 16])\n",
      "DEBUG: scores.shape = torch.Size([8, 16])\n"
     ]
    },
    {
     "name": "stderr",
     "output_type": "stream",
     "text": [
      "Epoch 79:  66%|██████▌   | 25/38 [00:00<00:00, 34.99batch/s, loss=50.0000]"
     ]
    },
    {
     "name": "stdout",
     "output_type": "stream",
     "text": [
      "DEBUG: scores.shape = torch.Size([8, 16])\n",
      "DEBUG: scores.shape = torch.Size([8, 16])\n",
      "DEBUG: scores.shape = torch.Size([8, 16])\n",
      "DEBUG: scores.shape = torch.Size([8, 16])\n",
      "DEBUG: scores.shape = torch.Size([8, 16])\n"
     ]
    },
    {
     "name": "stderr",
     "output_type": "stream",
     "text": [
      "Epoch 79:  66%|██████▌   | 25/38 [00:00<00:00, 34.99batch/s, loss=25.0000]"
     ]
    },
    {
     "name": "stdout",
     "output_type": "stream",
     "text": [
      "DEBUG: scores.shape = torch.Size([8, 16])\n",
      "DEBUG: scores.shape = torch.Size([8, 16])\n"
     ]
    },
    {
     "name": "stderr",
     "output_type": "stream",
     "text": [
      "Epoch 79:  76%|███████▋  | 29/38 [00:00<00:00, 34.32batch/s, loss=37.5000]"
     ]
    },
    {
     "name": "stdout",
     "output_type": "stream",
     "text": [
      "DEBUG: scores.shape = torch.Size([8, 16])\n",
      "DEBUG: scores.shape = torch.Size([8, 16])\n",
      "DEBUG: scores.shape = torch.Size([8, 16])\n",
      "DEBUG: scores.shape = torch.Size([8, 16])\n",
      "DEBUG: scores.shape = torch.Size([8, 16])\n"
     ]
    },
    {
     "name": "stderr",
     "output_type": "stream",
     "text": [
      "Epoch 79:  87%|████████▋ | 33/38 [00:01<00:00, 33.41batch/s, loss=37.5000]"
     ]
    },
    {
     "name": "stdout",
     "output_type": "stream",
     "text": [
      "DEBUG: scores.shape = torch.Size([8, 16])\n"
     ]
    },
    {
     "name": "stderr",
     "output_type": "stream",
     "text": [
      "Epoch 79: 100%|██████████| 38/38 [00:01<00:00, 33.91batch/s, loss=50.0000]\n"
     ]
    },
    {
     "name": "stdout",
     "output_type": "stream",
     "text": [
      "DEBUG: scores.shape = torch.Size([8, 16])\n",
      "DEBUG: scores.shape = torch.Size([8, 16])\n",
      "DEBUG: scores.shape = torch.Size([8, 16])\n",
      "DEBUG: scores.shape = torch.Size([4, 16])\n",
      "Epoch 79, Loss: 50.0000\n"
     ]
    },
    {
     "name": "stderr",
     "output_type": "stream",
     "text": [
      "Epoch 80:   0%|          | 0/38 [00:00<?, ?batch/s, loss=12.5000]"
     ]
    },
    {
     "name": "stdout",
     "output_type": "stream",
     "text": [
      "DEBUG: scores.shape = torch.Size([8, 16])\n",
      "DEBUG: scores.shape = torch.Size([8, 16])\n",
      "DEBUG: scores.shape = torch.Size([8, 16])\n"
     ]
    },
    {
     "name": "stderr",
     "output_type": "stream",
     "text": [
      "Epoch 80:  11%|█         | 4/38 [00:00<00:01, 29.52batch/s, loss=75.0000]"
     ]
    },
    {
     "name": "stdout",
     "output_type": "stream",
     "text": [
      "DEBUG: scores.shape = torch.Size([8, 16])\n",
      "DEBUG: scores.shape = torch.Size([8, 16])\n",
      "DEBUG: scores.shape = torch.Size([8, 16])\n",
      "DEBUG: scores.shape = torch.Size([8, 16])\n"
     ]
    },
    {
     "name": "stderr",
     "output_type": "stream",
     "text": [
      "Epoch 80:  21%|██        | 8/38 [00:00<00:00, 31.02batch/s, loss=50.0000]"
     ]
    },
    {
     "name": "stdout",
     "output_type": "stream",
     "text": [
      "DEBUG: scores.shape = torch.Size([8, 16])\n",
      "DEBUG: scores.shape = torch.Size([8, 16])\n",
      "DEBUG: scores.shape = torch.Size([8, 16])\n"
     ]
    },
    {
     "name": "stderr",
     "output_type": "stream",
     "text": [
      "Epoch 80:  32%|███▏      | 12/38 [00:00<00:00, 30.59batch/s, loss=50.0000]"
     ]
    },
    {
     "name": "stdout",
     "output_type": "stream",
     "text": [
      "DEBUG: scores.shape = torch.Size([8, 16])\n",
      "DEBUG: scores.shape = torch.Size([8, 16])\n",
      "DEBUG: scores.shape = torch.Size([8, 16])\n",
      "DEBUG: scores.shape = torch.Size([8, 16])\n"
     ]
    },
    {
     "name": "stderr",
     "output_type": "stream",
     "text": [
      "Epoch 80:  32%|███▏      | 12/38 [00:00<00:00, 30.59batch/s, loss=37.5000]"
     ]
    },
    {
     "name": "stdout",
     "output_type": "stream",
     "text": [
      "DEBUG: scores.shape = torch.Size([8, 16])\n",
      "DEBUG: scores.shape = torch.Size([8, 16])\n"
     ]
    },
    {
     "name": "stderr",
     "output_type": "stream",
     "text": [
      "Epoch 80:  42%|████▏     | 16/38 [00:00<00:00, 31.44batch/s, loss=37.5000]"
     ]
    },
    {
     "name": "stdout",
     "output_type": "stream",
     "text": [
      "DEBUG: scores.shape = torch.Size([8, 16])\n"
     ]
    },
    {
     "name": "stderr",
     "output_type": "stream",
     "text": [
      "Epoch 80:  53%|█████▎    | 20/38 [00:00<00:00, 32.05batch/s, loss=62.5000]"
     ]
    },
    {
     "name": "stdout",
     "output_type": "stream",
     "text": [
      "DEBUG: scores.shape = torch.Size([8, 16])\n",
      "DEBUG: scores.shape = torch.Size([8, 16])\n",
      "DEBUG: scores.shape = torch.Size([8, 16])\n",
      "DEBUG: scores.shape = torch.Size([8, 16])\n"
     ]
    },
    {
     "name": "stderr",
     "output_type": "stream",
     "text": [
      "Epoch 80:  53%|█████▎    | 20/38 [00:00<00:00, 32.05batch/s, loss=50.0000]"
     ]
    },
    {
     "name": "stdout",
     "output_type": "stream",
     "text": [
      "DEBUG: scores.shape = torch.Size([8, 16])\n",
      "DEBUG: scores.shape = torch.Size([8, 16])\n",
      "DEBUG: scores.shape = torch.Size([8, 16])\n"
     ]
    },
    {
     "name": "stderr",
     "output_type": "stream",
     "text": [
      "Epoch 80:  63%|██████▎   | 24/38 [00:00<00:00, 31.95batch/s, loss=37.5000]"
     ]
    },
    {
     "name": "stdout",
     "output_type": "stream",
     "text": [
      "DEBUG: scores.shape = torch.Size([8, 16])\n",
      "DEBUG: scores.shape = torch.Size([8, 16])\n",
      "DEBUG: scores.shape = torch.Size([8, 16])\n",
      "DEBUG: scores.shape = torch.Size([8, 16])\n"
     ]
    },
    {
     "name": "stderr",
     "output_type": "stream",
     "text": [
      "Epoch 80:  74%|███████▎  | 28/38 [00:00<00:00, 32.52batch/s, loss=50.0000]"
     ]
    },
    {
     "name": "stdout",
     "output_type": "stream",
     "text": [
      "DEBUG: scores.shape = torch.Size([8, 16])\n",
      "DEBUG: scores.shape = torch.Size([8, 16])\n"
     ]
    },
    {
     "name": "stderr",
     "output_type": "stream",
     "text": [
      "Epoch 80:  74%|███████▎  | 28/38 [00:00<00:00, 32.52batch/s, loss=62.5000]"
     ]
    },
    {
     "name": "stdout",
     "output_type": "stream",
     "text": [
      "DEBUG: scores.shape = torch.Size([8, 16])\n",
      "DEBUG: scores.shape = torch.Size([8, 16])\n"
     ]
    },
    {
     "name": "stderr",
     "output_type": "stream",
     "text": [
      "Epoch 80:  84%|████████▍ | 32/38 [00:01<00:00, 33.47batch/s, loss=50.0000]"
     ]
    },
    {
     "name": "stdout",
     "output_type": "stream",
     "text": [
      "DEBUG: scores.shape = torch.Size([8, 16])\n",
      "DEBUG: scores.shape = torch.Size([8, 16])\n",
      "DEBUG: scores.shape = torch.Size([8, 16])\n"
     ]
    },
    {
     "name": "stderr",
     "output_type": "stream",
     "text": [
      "Epoch 80:  95%|█████████▍| 36/38 [00:01<00:00, 33.85batch/s, loss=25.0000]"
     ]
    },
    {
     "name": "stdout",
     "output_type": "stream",
     "text": [
      "DEBUG: scores.shape = torch.Size([8, 16])\n",
      "DEBUG: scores.shape = torch.Size([8, 16])\n",
      "DEBUG: scores.shape = torch.Size([4, 16])\n"
     ]
    },
    {
     "name": "stderr",
     "output_type": "stream",
     "text": [
      "Epoch 80: 100%|██████████| 38/38 [00:01<00:00, 33.10batch/s, loss=25.0000]\n"
     ]
    },
    {
     "name": "stdout",
     "output_type": "stream",
     "text": [
      "Epoch 80, Loss: 49.6711\n"
     ]
    },
    {
     "name": "stderr",
     "output_type": "stream",
     "text": [
      "Epoch 81:   0%|          | 0/38 [00:00<?, ?batch/s, loss=37.5000]"
     ]
    },
    {
     "name": "stdout",
     "output_type": "stream",
     "text": [
      "DEBUG: scores.shape = torch.Size([8, 16])\n",
      "DEBUG: scores.shape = torch.Size([8, 16])\n"
     ]
    },
    {
     "name": "stderr",
     "output_type": "stream",
     "text": [
      "Epoch 81:  11%|█         | 4/38 [00:00<00:00, 35.41batch/s, loss=62.5000]"
     ]
    },
    {
     "name": "stdout",
     "output_type": "stream",
     "text": [
      "DEBUG: scores.shape = torch.Size([8, 16])\n",
      "DEBUG: scores.shape = torch.Size([8, 16])\n",
      "DEBUG: scores.shape = torch.Size([8, 16])\n"
     ]
    },
    {
     "name": "stderr",
     "output_type": "stream",
     "text": [
      "Epoch 81:  11%|█         | 4/38 [00:00<00:00, 35.41batch/s, loss=50.0000]"
     ]
    },
    {
     "name": "stdout",
     "output_type": "stream",
     "text": [
      "DEBUG: scores.shape = torch.Size([8, 16])\n"
     ]
    },
    {
     "name": "stderr",
     "output_type": "stream",
     "text": [
      "Epoch 81:  11%|█         | 4/38 [00:00<00:00, 35.41batch/s, loss=50.0000]"
     ]
    },
    {
     "name": "stdout",
     "output_type": "stream",
     "text": [
      "DEBUG: scores.shape = torch.Size([8, 16])\n"
     ]
    },
    {
     "name": "stderr",
     "output_type": "stream",
     "text": [
      "Epoch 81:  21%|██        | 8/38 [00:00<00:00, 31.27batch/s, loss=50.0000]"
     ]
    },
    {
     "name": "stdout",
     "output_type": "stream",
     "text": [
      "DEBUG: scores.shape = torch.Size([8, 16])\n",
      "DEBUG: scores.shape = torch.Size([8, 16])\n"
     ]
    },
    {
     "name": "stderr",
     "output_type": "stream",
     "text": [
      "Epoch 81:  21%|██        | 8/38 [00:00<00:00, 31.27batch/s, loss=37.5000]"
     ]
    },
    {
     "name": "stdout",
     "output_type": "stream",
     "text": [
      "DEBUG: scores.shape = torch.Size([8, 16])\n",
      "DEBUG: scores.shape = torch.Size([8, 16])\n",
      "DEBUG: scores.shape = torch.Size([8, 16])\n"
     ]
    },
    {
     "name": "stderr",
     "output_type": "stream",
     "text": [
      "Epoch 81:  32%|███▏      | 12/38 [00:00<00:00, 31.34batch/s, loss=37.5000]"
     ]
    },
    {
     "name": "stdout",
     "output_type": "stream",
     "text": [
      "DEBUG: scores.shape = torch.Size([8, 16])\n"
     ]
    },
    {
     "name": "stderr",
     "output_type": "stream",
     "text": [
      "Epoch 81:  32%|███▏      | 12/38 [00:00<00:00, 31.34batch/s, loss=37.5000]"
     ]
    },
    {
     "name": "stdout",
     "output_type": "stream",
     "text": [
      "DEBUG: scores.shape = torch.Size([8, 16])\n"
     ]
    },
    {
     "name": "stderr",
     "output_type": "stream",
     "text": [
      "Epoch 81:  32%|███▏      | 12/38 [00:00<00:00, 31.34batch/s, loss=37.5000]"
     ]
    },
    {
     "name": "stdout",
     "output_type": "stream",
     "text": [
      "DEBUG: scores.shape = torch.Size([8, 16])\n",
      "DEBUG: scores.shape = torch.Size([8, 16])\n"
     ]
    },
    {
     "name": "stderr",
     "output_type": "stream",
     "text": [
      "Epoch 81:  42%|████▏     | 16/38 [00:00<00:00, 31.73batch/s, loss=75.0000]"
     ]
    },
    {
     "name": "stdout",
     "output_type": "stream",
     "text": [
      "DEBUG: scores.shape = torch.Size([8, 16])\n",
      "DEBUG: scores.shape = torch.Size([8, 16])\n",
      "DEBUG: scores.shape = torch.Size([8, 16])\n"
     ]
    },
    {
     "name": "stderr",
     "output_type": "stream",
     "text": [
      "Epoch 81:  42%|████▏     | 16/38 [00:00<00:00, 31.73batch/s, loss=37.5000]"
     ]
    },
    {
     "name": "stdout",
     "output_type": "stream",
     "text": [
      "DEBUG: scores.shape = torch.Size([8, 16])\n"
     ]
    },
    {
     "name": "stderr",
     "output_type": "stream",
     "text": [
      "Epoch 81:  53%|█████▎    | 20/38 [00:00<00:00, 31.53batch/s, loss=37.5000]"
     ]
    },
    {
     "name": "stdout",
     "output_type": "stream",
     "text": [
      "DEBUG: scores.shape = torch.Size([8, 16])\n"
     ]
    },
    {
     "name": "stderr",
     "output_type": "stream",
     "text": [
      "Epoch 81:  53%|█████▎    | 20/38 [00:00<00:00, 31.53batch/s, loss=37.5000]"
     ]
    },
    {
     "name": "stdout",
     "output_type": "stream",
     "text": [
      "DEBUG: scores.shape = torch.Size([8, 16])\n",
      "DEBUG: scores.shape = torch.Size([8, 16])\n"
     ]
    },
    {
     "name": "stderr",
     "output_type": "stream",
     "text": [
      "Epoch 81:  63%|██████▎   | 24/38 [00:00<00:00, 31.39batch/s, loss=50.0000]"
     ]
    },
    {
     "name": "stdout",
     "output_type": "stream",
     "text": [
      "DEBUG: scores.shape = torch.Size([8, 16])\n",
      "DEBUG: scores.shape = torch.Size([8, 16])\n"
     ]
    },
    {
     "name": "stderr",
     "output_type": "stream",
     "text": [
      "Epoch 81:  63%|██████▎   | 24/38 [00:00<00:00, 31.39batch/s, loss=12.5000]"
     ]
    },
    {
     "name": "stdout",
     "output_type": "stream",
     "text": [
      "DEBUG: scores.shape = torch.Size([8, 16])\n",
      "DEBUG: scores.shape = torch.Size([8, 16])\n",
      "DEBUG: scores.shape = torch.Size([8, 16])\n"
     ]
    },
    {
     "name": "stderr",
     "output_type": "stream",
     "text": [
      "Epoch 81:  74%|███████▎  | 28/38 [00:00<00:00, 31.57batch/s, loss=87.5000]"
     ]
    },
    {
     "name": "stdout",
     "output_type": "stream",
     "text": [
      "DEBUG: scores.shape = torch.Size([8, 16])\n",
      "DEBUG: scores.shape = torch.Size([8, 16])\n"
     ]
    },
    {
     "name": "stderr",
     "output_type": "stream",
     "text": [
      "Epoch 81:  74%|███████▎  | 28/38 [00:00<00:00, 31.57batch/s, loss=62.5000]"
     ]
    },
    {
     "name": "stdout",
     "output_type": "stream",
     "text": [
      "DEBUG: scores.shape = torch.Size([8, 16])\n",
      "DEBUG: scores.shape = torch.Size([8, 16])\n"
     ]
    },
    {
     "name": "stderr",
     "output_type": "stream",
     "text": [
      "Epoch 81:  84%|████████▍ | 32/38 [00:01<00:00, 31.24batch/s, loss=62.5000]"
     ]
    },
    {
     "name": "stdout",
     "output_type": "stream",
     "text": [
      "DEBUG: scores.shape = torch.Size([8, 16])\n",
      "DEBUG: scores.shape = torch.Size([8, 16])\n",
      "DEBUG: scores.shape = torch.Size([8, 16])\n"
     ]
    },
    {
     "name": "stderr",
     "output_type": "stream",
     "text": [
      "Epoch 81:  95%|█████████▍| 36/38 [00:01<00:00, 31.29batch/s, loss=50.0000]"
     ]
    },
    {
     "name": "stdout",
     "output_type": "stream",
     "text": [
      "DEBUG: scores.shape = torch.Size([8, 16])\n",
      "DEBUG: scores.shape = torch.Size([8, 16])\n"
     ]
    },
    {
     "name": "stderr",
     "output_type": "stream",
     "text": [
      "Epoch 81: 100%|██████████| 38/38 [00:01<00:00, 31.91batch/s, loss=50.0000]\n"
     ]
    },
    {
     "name": "stdout",
     "output_type": "stream",
     "text": [
      "DEBUG: scores.shape = torch.Size([4, 16])\n",
      "Epoch 81, Loss: 50.0000\n"
     ]
    },
    {
     "name": "stderr",
     "output_type": "stream",
     "text": [
      "Epoch 82:   0%|          | 0/38 [00:00<?, ?batch/s, loss=50.0000]"
     ]
    },
    {
     "name": "stdout",
     "output_type": "stream",
     "text": [
      "DEBUG: scores.shape = torch.Size([8, 16])\n"
     ]
    },
    {
     "name": "stderr",
     "output_type": "stream",
     "text": [
      "Epoch 82:   0%|          | 0/38 [00:00<?, ?batch/s, loss=37.5000]"
     ]
    },
    {
     "name": "stdout",
     "output_type": "stream",
     "text": [
      "DEBUG: scores.shape = torch.Size([8, 16])\n",
      "DEBUG: scores.shape = torch.Size([8, 16])\n"
     ]
    },
    {
     "name": "stderr",
     "output_type": "stream",
     "text": [
      "Epoch 82:  11%|█         | 4/38 [00:00<00:00, 37.60batch/s, loss=75.0000]"
     ]
    },
    {
     "name": "stdout",
     "output_type": "stream",
     "text": [
      "DEBUG: scores.shape = torch.Size([8, 16])\n"
     ]
    },
    {
     "name": "stderr",
     "output_type": "stream",
     "text": [
      "Epoch 82:  11%|█         | 4/38 [00:00<00:00, 37.60batch/s, loss=50.0000]"
     ]
    },
    {
     "name": "stdout",
     "output_type": "stream",
     "text": [
      "DEBUG: scores.shape = torch.Size([8, 16])\n",
      "DEBUG: scores.shape = torch.Size([8, 16])\n",
      "DEBUG: scores.shape = torch.Size([8, 16])\n"
     ]
    },
    {
     "name": "stderr",
     "output_type": "stream",
     "text": [
      "Epoch 82:  11%|█         | 4/38 [00:00<00:00, 37.60batch/s, loss=37.5000]"
     ]
    },
    {
     "name": "stdout",
     "output_type": "stream",
     "text": [
      "DEBUG: scores.shape = torch.Size([8, 16])\n"
     ]
    },
    {
     "name": "stderr",
     "output_type": "stream",
     "text": [
      "Epoch 82:  21%|██        | 8/38 [00:00<00:00, 30.84batch/s, loss=25.0000]"
     ]
    },
    {
     "name": "stdout",
     "output_type": "stream",
     "text": [
      "DEBUG: scores.shape = torch.Size([8, 16])\n"
     ]
    },
    {
     "name": "stderr",
     "output_type": "stream",
     "text": [
      "Epoch 82:  21%|██        | 8/38 [00:00<00:00, 30.84batch/s, loss=25.0000]"
     ]
    },
    {
     "name": "stdout",
     "output_type": "stream",
     "text": [
      "DEBUG: scores.shape = torch.Size([8, 16])\n",
      "DEBUG: scores.shape = torch.Size([8, 16])\n"
     ]
    },
    {
     "name": "stderr",
     "output_type": "stream",
     "text": [
      "Epoch 82:  21%|██        | 8/38 [00:00<00:00, 30.84batch/s, loss=62.5000]"
     ]
    },
    {
     "name": "stdout",
     "output_type": "stream",
     "text": [
      "DEBUG: scores.shape = torch.Size([8, 16])\n"
     ]
    },
    {
     "name": "stderr",
     "output_type": "stream",
     "text": [
      "Epoch 82:  32%|███▏      | 12/38 [00:00<00:00, 30.71batch/s, loss=62.5000]"
     ]
    },
    {
     "name": "stdout",
     "output_type": "stream",
     "text": [
      "DEBUG: scores.shape = torch.Size([8, 16])\n"
     ]
    },
    {
     "name": "stderr",
     "output_type": "stream",
     "text": [
      "Epoch 82:  32%|███▏      | 12/38 [00:00<00:00, 30.71batch/s, loss=37.5000]"
     ]
    },
    {
     "name": "stdout",
     "output_type": "stream",
     "text": [
      "DEBUG: scores.shape = torch.Size([8, 16])\n",
      "DEBUG: scores.shape = torch.Size([8, 16])\n"
     ]
    },
    {
     "name": "stderr",
     "output_type": "stream",
     "text": [
      "Epoch 82:  32%|███▏      | 12/38 [00:00<00:00, 30.71batch/s, loss=87.5000]"
     ]
    },
    {
     "name": "stdout",
     "output_type": "stream",
     "text": [
      "DEBUG: scores.shape = torch.Size([8, 16])\n"
     ]
    },
    {
     "name": "stderr",
     "output_type": "stream",
     "text": [
      "Epoch 82:  42%|████▏     | 16/38 [00:00<00:00, 31.93batch/s, loss=37.5000]"
     ]
    },
    {
     "name": "stdout",
     "output_type": "stream",
     "text": [
      "DEBUG: scores.shape = torch.Size([8, 16])\n",
      "DEBUG: scores.shape = torch.Size([8, 16])\n",
      "DEBUG: scores.shape = torch.Size([8, 16])\n"
     ]
    },
    {
     "name": "stderr",
     "output_type": "stream",
     "text": [
      "Epoch 82:  42%|████▏     | 16/38 [00:00<00:00, 31.93batch/s, loss=62.5000]"
     ]
    },
    {
     "name": "stdout",
     "output_type": "stream",
     "text": [
      "DEBUG: scores.shape = torch.Size([8, 16])\n"
     ]
    },
    {
     "name": "stderr",
     "output_type": "stream",
     "text": [
      "Epoch 82:  53%|█████▎    | 20/38 [00:00<00:00, 32.04batch/s, loss=50.0000]"
     ]
    },
    {
     "name": "stdout",
     "output_type": "stream",
     "text": [
      "DEBUG: scores.shape = torch.Size([8, 16])\n",
      "DEBUG: scores.shape = torch.Size([8, 16])\n",
      "DEBUG: scores.shape = torch.Size([8, 16])\n"
     ]
    },
    {
     "name": "stderr",
     "output_type": "stream",
     "text": [
      "Epoch 82:  63%|██████▎   | 24/38 [00:00<00:00, 30.81batch/s, loss=100.0000]"
     ]
    },
    {
     "name": "stdout",
     "output_type": "stream",
     "text": [
      "DEBUG: scores.shape = torch.Size([8, 16])\n",
      "DEBUG: scores.shape = torch.Size([8, 16])\n"
     ]
    },
    {
     "name": "stderr",
     "output_type": "stream",
     "text": [
      "Epoch 82:  63%|██████▎   | 24/38 [00:00<00:00, 30.81batch/s, loss=25.0000] "
     ]
    },
    {
     "name": "stdout",
     "output_type": "stream",
     "text": [
      "DEBUG: scores.shape = torch.Size([8, 16])\n",
      "DEBUG: scores.shape = torch.Size([8, 16])\n"
     ]
    },
    {
     "name": "stderr",
     "output_type": "stream",
     "text": [
      "Epoch 82:  74%|███████▎  | 28/38 [00:00<00:00, 30.95batch/s, loss=75.0000]"
     ]
    },
    {
     "name": "stdout",
     "output_type": "stream",
     "text": [
      "DEBUG: scores.shape = torch.Size([8, 16])\n"
     ]
    },
    {
     "name": "stderr",
     "output_type": "stream",
     "text": [
      "Epoch 82:  74%|███████▎  | 28/38 [00:00<00:00, 30.95batch/s, loss=50.0000]"
     ]
    },
    {
     "name": "stdout",
     "output_type": "stream",
     "text": [
      "DEBUG: scores.shape = torch.Size([8, 16])\n"
     ]
    },
    {
     "name": "stderr",
     "output_type": "stream",
     "text": [
      "Epoch 82:  74%|███████▎  | 28/38 [00:01<00:00, 30.95batch/s, loss=25.0000]"
     ]
    },
    {
     "name": "stdout",
     "output_type": "stream",
     "text": [
      "DEBUG: scores.shape = torch.Size([8, 16])\n",
      "DEBUG: scores.shape = torch.Size([8, 16])\n",
      "DEBUG: scores.shape = torch.Size([8, 16])\n"
     ]
    },
    {
     "name": "stderr",
     "output_type": "stream",
     "text": [
      "Epoch 82:  84%|████████▍ | 32/38 [00:01<00:00, 30.64batch/s, loss=37.5000]"
     ]
    },
    {
     "name": "stdout",
     "output_type": "stream",
     "text": [
      "DEBUG: scores.shape = torch.Size([8, 16])\n",
      "DEBUG: scores.shape = torch.Size([8, 16])\n",
      "DEBUG: scores.shape = torch.Size([8, 16])\n"
     ]
    },
    {
     "name": "stderr",
     "output_type": "stream",
     "text": [
      "Epoch 82:  95%|█████████▍| 36/38 [00:01<00:00, 29.54batch/s, loss=50.0000]"
     ]
    },
    {
     "name": "stdout",
     "output_type": "stream",
     "text": [
      "DEBUG: scores.shape = torch.Size([8, 16])\n",
      "DEBUG: scores.shape = torch.Size([8, 16])\n",
      "DEBUG: scores.shape = torch.Size([4, 16])\n"
     ]
    },
    {
     "name": "stderr",
     "output_type": "stream",
     "text": [
      "Epoch 82: 100%|██████████| 38/38 [00:01<00:00, 31.03batch/s, loss=50.0000]\n"
     ]
    },
    {
     "name": "stdout",
     "output_type": "stream",
     "text": [
      "Epoch 82, Loss: 50.0000\n"
     ]
    },
    {
     "name": "stderr",
     "output_type": "stream",
     "text": [
      "Epoch 83:   0%|          | 0/38 [00:00<?, ?batch/s, loss=37.5000]"
     ]
    },
    {
     "name": "stdout",
     "output_type": "stream",
     "text": [
      "DEBUG: scores.shape = torch.Size([8, 16])\n",
      "DEBUG: scores.shape = torch.Size([8, 16])\n",
      "DEBUG: scores.shape = torch.Size([8, 16])\n",
      "DEBUG: scores.shape = torch.Size([8, 16])\n"
     ]
    },
    {
     "name": "stderr",
     "output_type": "stream",
     "text": [
      "Epoch 83:  11%|█         | 4/38 [00:00<00:01, 29.93batch/s, loss=62.5000]"
     ]
    },
    {
     "name": "stdout",
     "output_type": "stream",
     "text": [
      "DEBUG: scores.shape = torch.Size([8, 16])\n",
      "DEBUG: scores.shape = torch.Size([8, 16])\n"
     ]
    },
    {
     "name": "stderr",
     "output_type": "stream",
     "text": [
      "Epoch 83:  18%|█▊        | 7/38 [00:00<00:01, 29.13batch/s, loss=50.0000]"
     ]
    },
    {
     "name": "stdout",
     "output_type": "stream",
     "text": [
      "DEBUG: scores.shape = torch.Size([8, 16])\n",
      "DEBUG: scores.shape = torch.Size([8, 16])\n",
      "DEBUG: scores.shape = torch.Size([8, 16])\n",
      "DEBUG: scores.shape = torch.Size([8, 16])\n"
     ]
    },
    {
     "name": "stderr",
     "output_type": "stream",
     "text": [
      "Epoch 83:  18%|█▊        | 7/38 [00:00<00:01, 29.13batch/s, loss=12.5000]"
     ]
    },
    {
     "name": "stdout",
     "output_type": "stream",
     "text": [
      "DEBUG: scores.shape = torch.Size([8, 16])\n"
     ]
    },
    {
     "name": "stderr",
     "output_type": "stream",
     "text": [
      "Epoch 83:  29%|██▉       | 11/38 [00:00<00:00, 30.88batch/s, loss=62.5000]"
     ]
    },
    {
     "name": "stdout",
     "output_type": "stream",
     "text": [
      "DEBUG: scores.shape = torch.Size([8, 16])\n",
      "DEBUG: scores.shape = torch.Size([8, 16])\n"
     ]
    },
    {
     "name": "stderr",
     "output_type": "stream",
     "text": [
      "Epoch 83:  39%|███▉      | 15/38 [00:00<00:00, 31.56batch/s, loss=50.0000]"
     ]
    },
    {
     "name": "stdout",
     "output_type": "stream",
     "text": [
      "DEBUG: scores.shape = torch.Size([8, 16])\n",
      "DEBUG: scores.shape = torch.Size([8, 16])\n",
      "DEBUG: scores.shape = torch.Size([8, 16])\n",
      "DEBUG: scores.shape = torch.Size([8, 16])\n"
     ]
    },
    {
     "name": "stderr",
     "output_type": "stream",
     "text": [
      "Epoch 83:  39%|███▉      | 15/38 [00:00<00:00, 31.56batch/s, loss=75.0000]"
     ]
    },
    {
     "name": "stdout",
     "output_type": "stream",
     "text": [
      "DEBUG: scores.shape = torch.Size([8, 16])\n"
     ]
    },
    {
     "name": "stderr",
     "output_type": "stream",
     "text": [
      "Epoch 83:  50%|█████     | 19/38 [00:00<00:00, 32.98batch/s, loss=50.0000]"
     ]
    },
    {
     "name": "stdout",
     "output_type": "stream",
     "text": [
      "DEBUG: scores.shape = torch.Size([8, 16])\n",
      "DEBUG: scores.shape = torch.Size([8, 16])\n"
     ]
    },
    {
     "name": "stderr",
     "output_type": "stream",
     "text": [
      "Epoch 83:  61%|██████    | 23/38 [00:00<00:00, 33.48batch/s, loss=87.5000]"
     ]
    },
    {
     "name": "stdout",
     "output_type": "stream",
     "text": [
      "DEBUG: scores.shape = torch.Size([8, 16])\n",
      "DEBUG: scores.shape = torch.Size([8, 16])\n",
      "DEBUG: scores.shape = torch.Size([8, 16])\n",
      "DEBUG: scores.shape = torch.Size([8, 16])\n",
      "DEBUG: scores.shape = torch.Size([8, 16])\n"
     ]
    },
    {
     "name": "stderr",
     "output_type": "stream",
     "text": [
      "Epoch 83:  61%|██████    | 23/38 [00:00<00:00, 33.48batch/s, loss=37.5000]"
     ]
    },
    {
     "name": "stdout",
     "output_type": "stream",
     "text": [
      "DEBUG: scores.shape = torch.Size([8, 16])\n",
      "DEBUG: scores.shape = torch.Size([8, 16])\n"
     ]
    },
    {
     "name": "stderr",
     "output_type": "stream",
     "text": [
      "Epoch 83:  82%|████████▏ | 31/38 [00:00<00:00, 34.09batch/s, loss=25.0000]"
     ]
    },
    {
     "name": "stdout",
     "output_type": "stream",
     "text": [
      "DEBUG: scores.shape = torch.Size([8, 16])\n",
      "DEBUG: scores.shape = torch.Size([8, 16])\n",
      "DEBUG: scores.shape = torch.Size([8, 16])\n",
      "DEBUG: scores.shape = torch.Size([8, 16])\n",
      "DEBUG: scores.shape = torch.Size([8, 16])\n",
      "DEBUG: scores.shape = torch.Size([8, 16])\n"
     ]
    },
    {
     "name": "stderr",
     "output_type": "stream",
     "text": [
      "Epoch 83:  82%|████████▏ | 31/38 [00:01<00:00, 34.09batch/s, loss=12.5000]"
     ]
    },
    {
     "name": "stdout",
     "output_type": "stream",
     "text": [
      "DEBUG: scores.shape = torch.Size([8, 16])\n",
      "DEBUG: scores.shape = torch.Size([8, 16])\n"
     ]
    },
    {
     "name": "stderr",
     "output_type": "stream",
     "text": [
      "Epoch 83: 100%|██████████| 38/38 [00:01<00:00, 33.34batch/s, loss=50.0000]\n"
     ]
    },
    {
     "name": "stdout",
     "output_type": "stream",
     "text": [
      "DEBUG: scores.shape = torch.Size([8, 16])\n",
      "DEBUG: scores.shape = torch.Size([8, 16])\n",
      "DEBUG: scores.shape = torch.Size([4, 16])\n",
      "Epoch 83, Loss: 50.0000\n"
     ]
    },
    {
     "name": "stderr",
     "output_type": "stream",
     "text": [
      "Epoch 84:   0%|          | 0/38 [00:00<?, ?batch/s, loss=62.5000]"
     ]
    },
    {
     "name": "stdout",
     "output_type": "stream",
     "text": [
      "DEBUG: scores.shape = torch.Size([8, 16])\n",
      "DEBUG: scores.shape = torch.Size([8, 16])\n"
     ]
    },
    {
     "name": "stderr",
     "output_type": "stream",
     "text": [
      "Epoch 84:   0%|          | 0/38 [00:00<?, ?batch/s, loss=37.5000]"
     ]
    },
    {
     "name": "stdout",
     "output_type": "stream",
     "text": [
      "DEBUG: scores.shape = torch.Size([8, 16])\n",
      "DEBUG: scores.shape = torch.Size([8, 16])\n"
     ]
    },
    {
     "name": "stderr",
     "output_type": "stream",
     "text": [
      "Epoch 84:  11%|█         | 4/38 [00:00<00:01, 31.45batch/s, loss=62.5000]"
     ]
    },
    {
     "name": "stdout",
     "output_type": "stream",
     "text": [
      "DEBUG: scores.shape = torch.Size([8, 16])\n",
      "DEBUG: scores.shape = torch.Size([8, 16])\n",
      "DEBUG: scores.shape = torch.Size([8, 16])\n"
     ]
    },
    {
     "name": "stderr",
     "output_type": "stream",
     "text": [
      "Epoch 84:  21%|██        | 8/38 [00:00<00:00, 31.16batch/s, loss=50.0000]"
     ]
    },
    {
     "name": "stdout",
     "output_type": "stream",
     "text": [
      "DEBUG: scores.shape = torch.Size([8, 16])\n"
     ]
    },
    {
     "name": "stderr",
     "output_type": "stream",
     "text": [
      "Epoch 84:  21%|██        | 8/38 [00:00<00:00, 31.16batch/s, loss=37.5000]"
     ]
    },
    {
     "name": "stdout",
     "output_type": "stream",
     "text": [
      "DEBUG: scores.shape = torch.Size([8, 16])\n",
      "DEBUG: scores.shape = torch.Size([8, 16])\n"
     ]
    },
    {
     "name": "stderr",
     "output_type": "stream",
     "text": [
      "Epoch 84:  32%|███▏      | 12/38 [00:00<00:00, 32.53batch/s, loss=37.5000]"
     ]
    },
    {
     "name": "stdout",
     "output_type": "stream",
     "text": [
      "DEBUG: scores.shape = torch.Size([8, 16])\n",
      "DEBUG: scores.shape = torch.Size([8, 16])\n",
      "DEBUG: scores.shape = torch.Size([8, 16])\n",
      "DEBUG: scores.shape = torch.Size([8, 16])\n",
      "DEBUG: scores.shape = torch.Size([8, 16])\n"
     ]
    },
    {
     "name": "stderr",
     "output_type": "stream",
     "text": [
      "Epoch 84:  42%|████▏     | 16/38 [00:00<00:00, 30.28batch/s, loss=62.5000]"
     ]
    },
    {
     "name": "stdout",
     "output_type": "stream",
     "text": [
      "DEBUG: scores.shape = torch.Size([8, 16])\n",
      "DEBUG: scores.shape = torch.Size([8, 16])\n"
     ]
    },
    {
     "name": "stderr",
     "output_type": "stream",
     "text": [
      "Epoch 84:  42%|████▏     | 16/38 [00:00<00:00, 30.28batch/s, loss=37.5000]"
     ]
    },
    {
     "name": "stdout",
     "output_type": "stream",
     "text": [
      "DEBUG: scores.shape = torch.Size([8, 16])\n",
      "DEBUG: scores.shape = torch.Size([8, 16])\n",
      "DEBUG: scores.shape = torch.Size([8, 16])\n"
     ]
    },
    {
     "name": "stderr",
     "output_type": "stream",
     "text": [
      "Epoch 84:  53%|█████▎    | 20/38 [00:00<00:00, 30.02batch/s, loss=25.0000]"
     ]
    },
    {
     "name": "stdout",
     "output_type": "stream",
     "text": [
      "DEBUG: scores.shape = torch.Size([8, 16])\n"
     ]
    },
    {
     "name": "stderr",
     "output_type": "stream",
     "text": [
      "Epoch 84:  53%|█████▎    | 20/38 [00:00<00:00, 30.02batch/s, loss=25.0000]"
     ]
    },
    {
     "name": "stdout",
     "output_type": "stream",
     "text": [
      "DEBUG: scores.shape = torch.Size([8, 16])\n",
      "DEBUG: scores.shape = torch.Size([8, 16])\n"
     ]
    },
    {
     "name": "stderr",
     "output_type": "stream",
     "text": [
      "Epoch 84:  63%|██████▎   | 24/38 [00:00<00:00, 28.78batch/s, loss=50.0000]"
     ]
    },
    {
     "name": "stdout",
     "output_type": "stream",
     "text": [
      "DEBUG: scores.shape = torch.Size([8, 16])\n",
      "DEBUG: scores.shape = torch.Size([8, 16])\n",
      "DEBUG: scores.shape = torch.Size([8, 16])\n"
     ]
    },
    {
     "name": "stderr",
     "output_type": "stream",
     "text": [
      "Epoch 84:  63%|██████▎   | 24/38 [00:00<00:00, 28.78batch/s, loss=62.5000]"
     ]
    },
    {
     "name": "stdout",
     "output_type": "stream",
     "text": [
      "DEBUG: scores.shape = torch.Size([8, 16])\n"
     ]
    },
    {
     "name": "stderr",
     "output_type": "stream",
     "text": [
      "Epoch 84:  71%|███████   | 27/38 [00:00<00:00, 28.49batch/s, loss=62.5000]"
     ]
    },
    {
     "name": "stdout",
     "output_type": "stream",
     "text": [
      "DEBUG: scores.shape = torch.Size([8, 16])\n",
      "DEBUG: scores.shape = torch.Size([8, 16])\n",
      "DEBUG: scores.shape = torch.Size([8, 16])\n"
     ]
    },
    {
     "name": "stderr",
     "output_type": "stream",
     "text": [
      "Epoch 84:  79%|███████▉  | 30/38 [00:01<00:00, 28.85batch/s, loss=37.5000]"
     ]
    },
    {
     "name": "stdout",
     "output_type": "stream",
     "text": [
      "DEBUG: scores.shape = torch.Size([8, 16])\n",
      "DEBUG: scores.shape = torch.Size([8, 16])\n",
      "DEBUG: scores.shape = torch.Size([8, 16])\n"
     ]
    },
    {
     "name": "stderr",
     "output_type": "stream",
     "text": [
      "Epoch 84:  95%|█████████▍| 36/38 [00:01<00:00, 28.71batch/s, loss=75.0000]"
     ]
    },
    {
     "name": "stdout",
     "output_type": "stream",
     "text": [
      "DEBUG: scores.shape = torch.Size([8, 16])\n",
      "DEBUG: scores.shape = torch.Size([8, 16])\n",
      "DEBUG: scores.shape = torch.Size([8, 16])\n",
      "DEBUG: scores.shape = torch.Size([8, 16])\n"
     ]
    },
    {
     "name": "stderr",
     "output_type": "stream",
     "text": [
      "Epoch 84: 100%|██████████| 38/38 [00:01<00:00, 29.60batch/s, loss=25.0000]\n"
     ]
    },
    {
     "name": "stdout",
     "output_type": "stream",
     "text": [
      "DEBUG: scores.shape = torch.Size([4, 16])\n",
      "Epoch 84, Loss: 49.6711\n"
     ]
    },
    {
     "name": "stderr",
     "output_type": "stream",
     "text": [
      "Epoch 85:   0%|          | 0/38 [00:00<?, ?batch/s, loss=75.0000]"
     ]
    },
    {
     "name": "stdout",
     "output_type": "stream",
     "text": [
      "DEBUG: scores.shape = torch.Size([8, 16])\n"
     ]
    },
    {
     "name": "stderr",
     "output_type": "stream",
     "text": [
      "Epoch 85:  11%|█         | 4/38 [00:00<00:01, 31.75batch/s, loss=75.0000]"
     ]
    },
    {
     "name": "stdout",
     "output_type": "stream",
     "text": [
      "DEBUG: scores.shape = torch.Size([8, 16])\n",
      "DEBUG: scores.shape = torch.Size([8, 16])\n",
      "DEBUG: scores.shape = torch.Size([8, 16])\n",
      "DEBUG: scores.shape = torch.Size([8, 16])\n"
     ]
    },
    {
     "name": "stderr",
     "output_type": "stream",
     "text": [
      "Epoch 85:  11%|█         | 4/38 [00:00<00:01, 31.75batch/s, loss=37.5000]"
     ]
    },
    {
     "name": "stdout",
     "output_type": "stream",
     "text": [
      "DEBUG: scores.shape = torch.Size([8, 16])\n"
     ]
    },
    {
     "name": "stderr",
     "output_type": "stream",
     "text": [
      "Epoch 85:  11%|█         | 4/38 [00:00<00:01, 31.75batch/s, loss=87.5000]"
     ]
    },
    {
     "name": "stdout",
     "output_type": "stream",
     "text": [
      "DEBUG: scores.shape = torch.Size([8, 16])\n",
      "DEBUG: scores.shape = torch.Size([8, 16])\n"
     ]
    },
    {
     "name": "stderr",
     "output_type": "stream",
     "text": [
      "Epoch 85:  21%|██        | 8/38 [00:00<00:00, 30.98batch/s, loss=50.0000]"
     ]
    },
    {
     "name": "stdout",
     "output_type": "stream",
     "text": [
      "DEBUG: scores.shape = torch.Size([8, 16])\n",
      "DEBUG: scores.shape = torch.Size([8, 16])\n",
      "DEBUG: scores.shape = torch.Size([8, 16])\n"
     ]
    },
    {
     "name": "stderr",
     "output_type": "stream",
     "text": [
      "Epoch 85:  32%|███▏      | 12/38 [00:00<00:00, 30.56batch/s, loss=25.0000]"
     ]
    },
    {
     "name": "stdout",
     "output_type": "stream",
     "text": [
      "DEBUG: scores.shape = torch.Size([8, 16])\n",
      "DEBUG: scores.shape = torch.Size([8, 16])\n"
     ]
    },
    {
     "name": "stderr",
     "output_type": "stream",
     "text": [
      "Epoch 85:  32%|███▏      | 12/38 [00:00<00:00, 30.56batch/s, loss=25.0000]"
     ]
    },
    {
     "name": "stdout",
     "output_type": "stream",
     "text": [
      "DEBUG: scores.shape = torch.Size([8, 16])\n"
     ]
    },
    {
     "name": "stderr",
     "output_type": "stream",
     "text": [
      "Epoch 85:  42%|████▏     | 16/38 [00:00<00:00, 29.54batch/s, loss=25.0000]"
     ]
    },
    {
     "name": "stdout",
     "output_type": "stream",
     "text": [
      "DEBUG: scores.shape = torch.Size([8, 16])\n",
      "DEBUG: scores.shape = torch.Size([8, 16])\n",
      "DEBUG: scores.shape = torch.Size([8, 16])\n"
     ]
    },
    {
     "name": "stderr",
     "output_type": "stream",
     "text": [
      "Epoch 85:  42%|████▏     | 16/38 [00:00<00:00, 29.54batch/s, loss=50.0000]"
     ]
    },
    {
     "name": "stdout",
     "output_type": "stream",
     "text": [
      "DEBUG: scores.shape = torch.Size([8, 16])\n",
      "DEBUG: scores.shape = torch.Size([8, 16])\n"
     ]
    },
    {
     "name": "stderr",
     "output_type": "stream",
     "text": [
      "Epoch 85:  42%|████▏     | 16/38 [00:00<00:00, 29.54batch/s, loss=37.5000]"
     ]
    },
    {
     "name": "stdout",
     "output_type": "stream",
     "text": [
      "DEBUG: scores.shape = torch.Size([8, 16])\n"
     ]
    },
    {
     "name": "stderr",
     "output_type": "stream",
     "text": [
      "Epoch 85:  53%|█████▎    | 20/38 [00:00<00:00, 30.29batch/s, loss=62.5000]"
     ]
    },
    {
     "name": "stdout",
     "output_type": "stream",
     "text": [
      "DEBUG: scores.shape = torch.Size([8, 16])\n",
      "DEBUG: scores.shape = torch.Size([8, 16])\n",
      "DEBUG: scores.shape = torch.Size([8, 16])\n",
      "DEBUG: scores.shape = torch.Size([8, 16])\n"
     ]
    },
    {
     "name": "stderr",
     "output_type": "stream",
     "text": [
      "Epoch 85:  63%|██████▎   | 24/38 [00:00<00:00, 31.43batch/s, loss=50.0000]"
     ]
    },
    {
     "name": "stdout",
     "output_type": "stream",
     "text": [
      "DEBUG: scores.shape = torch.Size([8, 16])\n",
      "DEBUG: scores.shape = torch.Size([8, 16])\n"
     ]
    },
    {
     "name": "stderr",
     "output_type": "stream",
     "text": [
      "Epoch 85:  63%|██████▎   | 24/38 [00:00<00:00, 31.43batch/s, loss=62.5000]"
     ]
    },
    {
     "name": "stdout",
     "output_type": "stream",
     "text": [
      "DEBUG: scores.shape = torch.Size([8, 16])\n"
     ]
    },
    {
     "name": "stderr",
     "output_type": "stream",
     "text": [
      "Epoch 85:  74%|███████▎  | 28/38 [00:00<00:00, 32.61batch/s, loss=62.5000]"
     ]
    },
    {
     "name": "stdout",
     "output_type": "stream",
     "text": [
      "DEBUG: scores.shape = torch.Size([8, 16])\n",
      "DEBUG: scores.shape = torch.Size([8, 16])\n",
      "DEBUG: scores.shape = torch.Size([8, 16])\n",
      "DEBUG: scores.shape = torch.Size([8, 16])\n"
     ]
    },
    {
     "name": "stderr",
     "output_type": "stream",
     "text": [
      "Epoch 85:  84%|████████▍ | 32/38 [00:01<00:00, 32.44batch/s, loss=12.5000]"
     ]
    },
    {
     "name": "stdout",
     "output_type": "stream",
     "text": [
      "DEBUG: scores.shape = torch.Size([8, 16])\n"
     ]
    },
    {
     "name": "stderr",
     "output_type": "stream",
     "text": [
      "Epoch 85:  84%|████████▍ | 32/38 [00:01<00:00, 32.44batch/s, loss=62.5000]"
     ]
    },
    {
     "name": "stdout",
     "output_type": "stream",
     "text": [
      "DEBUG: scores.shape = torch.Size([8, 16])\n",
      "DEBUG: scores.shape = torch.Size([8, 16])\n"
     ]
    },
    {
     "name": "stderr",
     "output_type": "stream",
     "text": [
      "Epoch 85:  95%|█████████▍| 36/38 [00:01<00:00, 31.36batch/s, loss=50.0000]"
     ]
    },
    {
     "name": "stdout",
     "output_type": "stream",
     "text": [
      "DEBUG: scores.shape = torch.Size([8, 16])\n",
      "DEBUG: scores.shape = torch.Size([8, 16])\n",
      "DEBUG: scores.shape = torch.Size([8, 16])\n"
     ]
    },
    {
     "name": "stderr",
     "output_type": "stream",
     "text": [
      "Epoch 85: 100%|██████████| 38/38 [00:01<00:00, 31.41batch/s, loss=75.0000]\n"
     ]
    },
    {
     "name": "stdout",
     "output_type": "stream",
     "text": [
      "DEBUG: scores.shape = torch.Size([4, 16])\n",
      "Epoch 85, Loss: 50.3289\n"
     ]
    },
    {
     "name": "stderr",
     "output_type": "stream",
     "text": [
      "Epoch 86:   0%|          | 0/38 [00:00<?, ?batch/s]"
     ]
    },
    {
     "name": "stdout",
     "output_type": "stream",
     "text": [
      "DEBUG: scores.shape = torch.Size([8, 16])\n"
     ]
    },
    {
     "name": "stderr",
     "output_type": "stream",
     "text": [
      "Epoch 86:   0%|          | 0/38 [00:00<?, ?batch/s, loss=12.5000]"
     ]
    },
    {
     "name": "stdout",
     "output_type": "stream",
     "text": [
      "DEBUG: scores.shape = torch.Size([8, 16])\n",
      "DEBUG: scores.shape = torch.Size([8, 16])\n"
     ]
    },
    {
     "name": "stderr",
     "output_type": "stream",
     "text": [
      "Epoch 86:  11%|█         | 4/38 [00:00<00:01, 33.02batch/s, loss=50.0000]"
     ]
    },
    {
     "name": "stdout",
     "output_type": "stream",
     "text": [
      "DEBUG: scores.shape = torch.Size([8, 16])\n",
      "DEBUG: scores.shape = torch.Size([8, 16])\n",
      "DEBUG: scores.shape = torch.Size([8, 16])\n",
      "DEBUG: scores.shape = torch.Size([8, 16])\n"
     ]
    },
    {
     "name": "stderr",
     "output_type": "stream",
     "text": [
      "Epoch 86:  11%|█         | 4/38 [00:00<00:01, 33.02batch/s, loss=50.0000]"
     ]
    },
    {
     "name": "stdout",
     "output_type": "stream",
     "text": [
      "DEBUG: scores.shape = torch.Size([8, 16])\n"
     ]
    },
    {
     "name": "stderr",
     "output_type": "stream",
     "text": [
      "Epoch 86:  21%|██        | 8/38 [00:00<00:01, 28.95batch/s, loss=37.5000]"
     ]
    },
    {
     "name": "stdout",
     "output_type": "stream",
     "text": [
      "DEBUG: scores.shape = torch.Size([8, 16])\n"
     ]
    },
    {
     "name": "stderr",
     "output_type": "stream",
     "text": [
      "Epoch 86:  29%|██▉       | 11/38 [00:00<00:00, 28.41batch/s, loss=50.0000]"
     ]
    },
    {
     "name": "stdout",
     "output_type": "stream",
     "text": [
      "DEBUG: scores.shape = torch.Size([8, 16])\n",
      "DEBUG: scores.shape = torch.Size([8, 16])\n",
      "DEBUG: scores.shape = torch.Size([8, 16])\n",
      "DEBUG: scores.shape = torch.Size([8, 16])\n"
     ]
    },
    {
     "name": "stderr",
     "output_type": "stream",
     "text": [
      "Epoch 86:  29%|██▉       | 11/38 [00:00<00:00, 28.41batch/s, loss=25.0000]"
     ]
    },
    {
     "name": "stdout",
     "output_type": "stream",
     "text": [
      "DEBUG: scores.shape = torch.Size([8, 16])\n"
     ]
    },
    {
     "name": "stderr",
     "output_type": "stream",
     "text": [
      "Epoch 86:  37%|███▋      | 14/38 [00:00<00:00, 28.94batch/s, loss=75.0000]"
     ]
    },
    {
     "name": "stdout",
     "output_type": "stream",
     "text": [
      "DEBUG: scores.shape = torch.Size([8, 16])\n"
     ]
    },
    {
     "name": "stderr",
     "output_type": "stream",
     "text": [
      "Epoch 86:  45%|████▍     | 17/38 [00:00<00:00, 29.21batch/s, loss=50.0000]"
     ]
    },
    {
     "name": "stdout",
     "output_type": "stream",
     "text": [
      "DEBUG: scores.shape = torch.Size([8, 16])\n",
      "DEBUG: scores.shape = torch.Size([8, 16])\n",
      "DEBUG: scores.shape = torch.Size([8, 16])\n"
     ]
    },
    {
     "name": "stderr",
     "output_type": "stream",
     "text": [
      "Epoch 86:  45%|████▍     | 17/38 [00:00<00:00, 29.21batch/s, loss=62.5000]"
     ]
    },
    {
     "name": "stdout",
     "output_type": "stream",
     "text": [
      "DEBUG: scores.shape = torch.Size([8, 16])\n"
     ]
    },
    {
     "name": "stderr",
     "output_type": "stream",
     "text": [
      "Epoch 86:  45%|████▍     | 17/38 [00:00<00:00, 29.21batch/s, loss=62.5000]"
     ]
    },
    {
     "name": "stdout",
     "output_type": "stream",
     "text": [
      "DEBUG: scores.shape = torch.Size([8, 16])\n",
      "DEBUG: scores.shape = torch.Size([8, 16])\n"
     ]
    },
    {
     "name": "stderr",
     "output_type": "stream",
     "text": [
      "Epoch 86:  55%|█████▌    | 21/38 [00:00<00:00, 30.88batch/s, loss=62.5000]"
     ]
    },
    {
     "name": "stdout",
     "output_type": "stream",
     "text": [
      "DEBUG: scores.shape = torch.Size([8, 16])\n"
     ]
    },
    {
     "name": "stderr",
     "output_type": "stream",
     "text": [
      "Epoch 86:  55%|█████▌    | 21/38 [00:00<00:00, 30.88batch/s, loss=50.0000]"
     ]
    },
    {
     "name": "stdout",
     "output_type": "stream",
     "text": [
      "DEBUG: scores.shape = torch.Size([8, 16])\n",
      "DEBUG: scores.shape = torch.Size([8, 16])\n",
      "DEBUG: scores.shape = torch.Size([8, 16])\n"
     ]
    },
    {
     "name": "stderr",
     "output_type": "stream",
     "text": [
      "Epoch 86:  66%|██████▌   | 25/38 [00:00<00:00, 29.55batch/s, loss=50.0000]"
     ]
    },
    {
     "name": "stdout",
     "output_type": "stream",
     "text": [
      "DEBUG: scores.shape = torch.Size([8, 16])\n"
     ]
    },
    {
     "name": "stderr",
     "output_type": "stream",
     "text": [
      "Epoch 86:  66%|██████▌   | 25/38 [00:00<00:00, 29.55batch/s, loss=75.0000]"
     ]
    },
    {
     "name": "stdout",
     "output_type": "stream",
     "text": [
      "DEBUG: scores.shape = torch.Size([8, 16])\n",
      "DEBUG: scores.shape = torch.Size([8, 16])\n",
      "DEBUG: scores.shape = torch.Size([8, 16])\n"
     ]
    },
    {
     "name": "stderr",
     "output_type": "stream",
     "text": [
      "Epoch 86:  76%|███████▋  | 29/38 [00:01<00:00, 29.84batch/s, loss=62.5000]"
     ]
    },
    {
     "name": "stdout",
     "output_type": "stream",
     "text": [
      "DEBUG: scores.shape = torch.Size([8, 16])\n",
      "DEBUG: scores.shape = torch.Size([8, 16])\n",
      "DEBUG: scores.shape = torch.Size([8, 16])\n"
     ]
    },
    {
     "name": "stderr",
     "output_type": "stream",
     "text": [
      "Epoch 86:  76%|███████▋  | 29/38 [00:01<00:00, 29.84batch/s, loss=62.5000]"
     ]
    },
    {
     "name": "stdout",
     "output_type": "stream",
     "text": [
      "DEBUG: scores.shape = torch.Size([8, 16])\n"
     ]
    },
    {
     "name": "stderr",
     "output_type": "stream",
     "text": [
      "Epoch 86:  87%|████████▋ | 33/38 [00:01<00:00, 31.09batch/s, loss=50.0000]"
     ]
    },
    {
     "name": "stdout",
     "output_type": "stream",
     "text": [
      "DEBUG: scores.shape = torch.Size([8, 16])\n",
      "DEBUG: scores.shape = torch.Size([8, 16])\n"
     ]
    },
    {
     "name": "stderr",
     "output_type": "stream",
     "text": [
      "Epoch 86:  87%|████████▋ | 33/38 [00:01<00:00, 31.09batch/s, loss=50.0000]"
     ]
    },
    {
     "name": "stdout",
     "output_type": "stream",
     "text": [
      "DEBUG: scores.shape = torch.Size([8, 16])\n"
     ]
    },
    {
     "name": "stderr",
     "output_type": "stream",
     "text": [
      "Epoch 86: 100%|██████████| 38/38 [00:01<00:00, 30.75batch/s, loss=25.0000]\n"
     ]
    },
    {
     "name": "stdout",
     "output_type": "stream",
     "text": [
      "DEBUG: scores.shape = torch.Size([8, 16])\n",
      "DEBUG: scores.shape = torch.Size([4, 16])\n",
      "Epoch 86, Loss: 49.6711\n"
     ]
    },
    {
     "name": "stderr",
     "output_type": "stream",
     "text": [
      "Epoch 87:   0%|          | 0/38 [00:00<?, ?batch/s]"
     ]
    },
    {
     "name": "stdout",
     "output_type": "stream",
     "text": [
      "DEBUG: scores.shape = torch.Size([8, 16])\n"
     ]
    },
    {
     "name": "stderr",
     "output_type": "stream",
     "text": [
      "Epoch 87:   0%|          | 0/38 [00:00<?, ?batch/s, loss=75.0000]"
     ]
    },
    {
     "name": "stdout",
     "output_type": "stream",
     "text": [
      "DEBUG: scores.shape = torch.Size([8, 16])\n"
     ]
    },
    {
     "name": "stderr",
     "output_type": "stream",
     "text": [
      "Epoch 87:   8%|▊         | 3/38 [00:00<00:01, 28.31batch/s, loss=75.0000]"
     ]
    },
    {
     "name": "stdout",
     "output_type": "stream",
     "text": [
      "DEBUG: scores.shape = torch.Size([8, 16])\n",
      "DEBUG: scores.shape = torch.Size([8, 16])\n",
      "DEBUG: scores.shape = torch.Size([8, 16])\n"
     ]
    },
    {
     "name": "stderr",
     "output_type": "stream",
     "text": [
      "Epoch 87:   8%|▊         | 3/38 [00:00<00:01, 28.31batch/s, loss=25.0000]"
     ]
    },
    {
     "name": "stdout",
     "output_type": "stream",
     "text": [
      "DEBUG: scores.shape = torch.Size([8, 16])\n",
      "DEBUG: scores.shape = torch.Size([8, 16])\n"
     ]
    },
    {
     "name": "stderr",
     "output_type": "stream",
     "text": [
      "Epoch 87:  18%|█▊        | 7/38 [00:00<00:00, 34.39batch/s, loss=25.0000]"
     ]
    },
    {
     "name": "stdout",
     "output_type": "stream",
     "text": [
      "DEBUG: scores.shape = torch.Size([8, 16])\n"
     ]
    },
    {
     "name": "stderr",
     "output_type": "stream",
     "text": [
      "Epoch 87:  18%|█▊        | 7/38 [00:00<00:00, 34.39batch/s, loss=50.0000]"
     ]
    },
    {
     "name": "stdout",
     "output_type": "stream",
     "text": [
      "DEBUG: scores.shape = torch.Size([8, 16])\n"
     ]
    },
    {
     "name": "stderr",
     "output_type": "stream",
     "text": [
      "Epoch 87:  18%|█▊        | 7/38 [00:00<00:00, 34.39batch/s, loss=62.5000]"
     ]
    },
    {
     "name": "stdout",
     "output_type": "stream",
     "text": [
      "DEBUG: scores.shape = torch.Size([8, 16])\n",
      "DEBUG: scores.shape = torch.Size([8, 16])\n"
     ]
    },
    {
     "name": "stderr",
     "output_type": "stream",
     "text": [
      "Epoch 87:  29%|██▉       | 11/38 [00:00<00:00, 30.62batch/s, loss=62.5000]"
     ]
    },
    {
     "name": "stdout",
     "output_type": "stream",
     "text": [
      "DEBUG: scores.shape = torch.Size([8, 16])\n"
     ]
    },
    {
     "name": "stderr",
     "output_type": "stream",
     "text": [
      "Epoch 87:  29%|██▉       | 11/38 [00:00<00:00, 30.62batch/s, loss=12.5000]"
     ]
    },
    {
     "name": "stdout",
     "output_type": "stream",
     "text": [
      "DEBUG: scores.shape = torch.Size([8, 16])\n",
      "DEBUG: scores.shape = torch.Size([8, 16])\n"
     ]
    },
    {
     "name": "stderr",
     "output_type": "stream",
     "text": [
      "Epoch 87:  39%|███▉      | 15/38 [00:00<00:00, 30.56batch/s, loss=37.5000]"
     ]
    },
    {
     "name": "stdout",
     "output_type": "stream",
     "text": [
      "DEBUG: scores.shape = torch.Size([8, 16])\n"
     ]
    },
    {
     "name": "stderr",
     "output_type": "stream",
     "text": [
      "Epoch 87:  39%|███▉      | 15/38 [00:00<00:00, 30.56batch/s, loss=50.0000]"
     ]
    },
    {
     "name": "stdout",
     "output_type": "stream",
     "text": [
      "DEBUG: scores.shape = torch.Size([8, 16])\n",
      "DEBUG: scores.shape = torch.Size([8, 16])\n",
      "DEBUG: scores.shape = torch.Size([8, 16])\n",
      "DEBUG: scores.shape = torch.Size([8, 16])\n"
     ]
    },
    {
     "name": "stderr",
     "output_type": "stream",
     "text": [
      "Epoch 87:  50%|█████     | 19/38 [00:00<00:00, 30.61batch/s, loss=50.0000]"
     ]
    },
    {
     "name": "stdout",
     "output_type": "stream",
     "text": [
      "DEBUG: scores.shape = torch.Size([8, 16])\n",
      "DEBUG: scores.shape = torch.Size([8, 16])\n"
     ]
    },
    {
     "name": "stderr",
     "output_type": "stream",
     "text": [
      "Epoch 87:  61%|██████    | 23/38 [00:00<00:00, 29.66batch/s, loss=50.0000]"
     ]
    },
    {
     "name": "stdout",
     "output_type": "stream",
     "text": [
      "DEBUG: scores.shape = torch.Size([8, 16])\n",
      "DEBUG: scores.shape = torch.Size([8, 16])\n",
      "DEBUG: scores.shape = torch.Size([8, 16])\n",
      "DEBUG: scores.shape = torch.Size([8, 16])\n"
     ]
    },
    {
     "name": "stderr",
     "output_type": "stream",
     "text": [
      "Epoch 87:  71%|███████   | 27/38 [00:00<00:00, 29.84batch/s, loss=50.0000]"
     ]
    },
    {
     "name": "stdout",
     "output_type": "stream",
     "text": [
      "DEBUG: scores.shape = torch.Size([8, 16])\n",
      "DEBUG: scores.shape = torch.Size([8, 16])\n",
      "DEBUG: scores.shape = torch.Size([8, 16])\n"
     ]
    },
    {
     "name": "stderr",
     "output_type": "stream",
     "text": [
      "Epoch 87:  82%|████████▏ | 31/38 [00:01<00:00, 31.65batch/s, loss=25.0000]"
     ]
    },
    {
     "name": "stdout",
     "output_type": "stream",
     "text": [
      "DEBUG: scores.shape = torch.Size([8, 16])\n",
      "DEBUG: scores.shape = torch.Size([8, 16])\n",
      "DEBUG: scores.shape = torch.Size([8, 16])\n"
     ]
    },
    {
     "name": "stderr",
     "output_type": "stream",
     "text": [
      "Epoch 87:  82%|████████▏ | 31/38 [00:01<00:00, 31.65batch/s, loss=50.0000]"
     ]
    },
    {
     "name": "stdout",
     "output_type": "stream",
     "text": [
      "DEBUG: scores.shape = torch.Size([8, 16])\n"
     ]
    },
    {
     "name": "stderr",
     "output_type": "stream",
     "text": [
      "Epoch 87:  82%|████████▏ | 31/38 [00:01<00:00, 31.65batch/s, loss=50.0000]"
     ]
    },
    {
     "name": "stdout",
     "output_type": "stream",
     "text": [
      "DEBUG: scores.shape = torch.Size([8, 16])\n",
      "DEBUG: scores.shape = torch.Size([8, 16])\n"
     ]
    },
    {
     "name": "stderr",
     "output_type": "stream",
     "text": [
      "Epoch 87:  92%|█████████▏| 35/38 [00:01<00:00, 30.24batch/s, loss=50.0000]"
     ]
    },
    {
     "name": "stdout",
     "output_type": "stream",
     "text": [
      "DEBUG: scores.shape = torch.Size([8, 16])\n",
      "DEBUG: scores.shape = torch.Size([8, 16])\n",
      "DEBUG: scores.shape = torch.Size([8, 16])\n"
     ]
    },
    {
     "name": "stderr",
     "output_type": "stream",
     "text": [
      "Epoch 87: 100%|██████████| 38/38 [00:01<00:00, 30.84batch/s, loss=75.0000]\n"
     ]
    },
    {
     "name": "stdout",
     "output_type": "stream",
     "text": [
      "DEBUG: scores.shape = torch.Size([4, 16])\n",
      "Epoch 87, Loss: 50.3289\n"
     ]
    },
    {
     "name": "stderr",
     "output_type": "stream",
     "text": [
      "Epoch 88:   0%|          | 0/38 [00:00<?, ?batch/s]"
     ]
    },
    {
     "name": "stdout",
     "output_type": "stream",
     "text": [
      "DEBUG: scores.shape = torch.Size([8, 16])\n"
     ]
    },
    {
     "name": "stderr",
     "output_type": "stream",
     "text": [
      "Epoch 88:   0%|          | 0/38 [00:00<?, ?batch/s, loss=25.0000]"
     ]
    },
    {
     "name": "stdout",
     "output_type": "stream",
     "text": [
      "DEBUG: scores.shape = torch.Size([8, 16])\n",
      "DEBUG: scores.shape = torch.Size([8, 16])\n"
     ]
    },
    {
     "name": "stderr",
     "output_type": "stream",
     "text": [
      "Epoch 88:  11%|█         | 4/38 [00:00<00:01, 32.85batch/s, loss=62.5000]"
     ]
    },
    {
     "name": "stdout",
     "output_type": "stream",
     "text": [
      "DEBUG: scores.shape = torch.Size([8, 16])\n",
      "DEBUG: scores.shape = torch.Size([8, 16])\n",
      "DEBUG: scores.shape = torch.Size([8, 16])\n"
     ]
    },
    {
     "name": "stderr",
     "output_type": "stream",
     "text": [
      "Epoch 88:  11%|█         | 4/38 [00:00<00:01, 32.85batch/s, loss=37.5000]"
     ]
    },
    {
     "name": "stdout",
     "output_type": "stream",
     "text": [
      "DEBUG: scores.shape = torch.Size([8, 16])\n"
     ]
    },
    {
     "name": "stderr",
     "output_type": "stream",
     "text": [
      "Epoch 88:  11%|█         | 4/38 [00:00<00:01, 32.85batch/s, loss=37.5000]"
     ]
    },
    {
     "name": "stdout",
     "output_type": "stream",
     "text": [
      "DEBUG: scores.shape = torch.Size([8, 16])\n"
     ]
    },
    {
     "name": "stderr",
     "output_type": "stream",
     "text": [
      "Epoch 88:  21%|██        | 8/38 [00:00<00:00, 32.59batch/s, loss=25.0000]"
     ]
    },
    {
     "name": "stdout",
     "output_type": "stream",
     "text": [
      "DEBUG: scores.shape = torch.Size([8, 16])\n",
      "DEBUG: scores.shape = torch.Size([8, 16])\n"
     ]
    },
    {
     "name": "stderr",
     "output_type": "stream",
     "text": [
      "Epoch 88:  32%|███▏      | 12/38 [00:00<00:00, 32.48batch/s, loss=62.5000]"
     ]
    },
    {
     "name": "stdout",
     "output_type": "stream",
     "text": [
      "DEBUG: scores.shape = torch.Size([8, 16])\n",
      "DEBUG: scores.shape = torch.Size([8, 16])\n",
      "DEBUG: scores.shape = torch.Size([8, 16])\n",
      "DEBUG: scores.shape = torch.Size([8, 16])\n"
     ]
    },
    {
     "name": "stderr",
     "output_type": "stream",
     "text": [
      "Epoch 88:  32%|███▏      | 12/38 [00:00<00:00, 32.48batch/s, loss=50.0000]"
     ]
    },
    {
     "name": "stdout",
     "output_type": "stream",
     "text": [
      "DEBUG: scores.shape = torch.Size([8, 16])\n"
     ]
    },
    {
     "name": "stderr",
     "output_type": "stream",
     "text": [
      "Epoch 88:  42%|████▏     | 16/38 [00:00<00:00, 31.99batch/s, loss=50.0000]"
     ]
    },
    {
     "name": "stdout",
     "output_type": "stream",
     "text": [
      "DEBUG: scores.shape = torch.Size([8, 16])\n",
      "DEBUG: scores.shape = torch.Size([8, 16])\n"
     ]
    },
    {
     "name": "stderr",
     "output_type": "stream",
     "text": [
      "Epoch 88:  42%|████▏     | 16/38 [00:00<00:00, 31.99batch/s, loss=50.0000]"
     ]
    },
    {
     "name": "stdout",
     "output_type": "stream",
     "text": [
      "DEBUG: scores.shape = torch.Size([8, 16])\n",
      "DEBUG: scores.shape = torch.Size([8, 16])\n",
      "DEBUG: scores.shape = torch.Size([8, 16])\n"
     ]
    },
    {
     "name": "stderr",
     "output_type": "stream",
     "text": [
      "Epoch 88:  53%|█████▎    | 20/38 [00:00<00:00, 31.79batch/s, loss=50.0000]"
     ]
    },
    {
     "name": "stdout",
     "output_type": "stream",
     "text": [
      "DEBUG: scores.shape = torch.Size([8, 16])\n"
     ]
    },
    {
     "name": "stderr",
     "output_type": "stream",
     "text": [
      "Epoch 88:  53%|█████▎    | 20/38 [00:00<00:00, 31.79batch/s, loss=50.0000]"
     ]
    },
    {
     "name": "stdout",
     "output_type": "stream",
     "text": [
      "DEBUG: scores.shape = torch.Size([8, 16])\n"
     ]
    },
    {
     "name": "stderr",
     "output_type": "stream",
     "text": [
      "Epoch 88:  53%|█████▎    | 20/38 [00:00<00:00, 31.79batch/s, loss=62.5000]"
     ]
    },
    {
     "name": "stdout",
     "output_type": "stream",
     "text": [
      "DEBUG: scores.shape = torch.Size([8, 16])\n",
      "DEBUG: scores.shape = torch.Size([8, 16])\n"
     ]
    },
    {
     "name": "stderr",
     "output_type": "stream",
     "text": [
      "Epoch 88:  63%|██████▎   | 24/38 [00:00<00:00, 30.71batch/s, loss=37.5000]"
     ]
    },
    {
     "name": "stdout",
     "output_type": "stream",
     "text": [
      "DEBUG: scores.shape = torch.Size([8, 16])\n",
      "DEBUG: scores.shape = torch.Size([8, 16])\n",
      "DEBUG: scores.shape = torch.Size([8, 16])\n"
     ]
    },
    {
     "name": "stderr",
     "output_type": "stream",
     "text": [
      "Epoch 88:  74%|███████▎  | 28/38 [00:00<00:00, 31.07batch/s, loss=37.5000]"
     ]
    },
    {
     "name": "stdout",
     "output_type": "stream",
     "text": [
      "DEBUG: scores.shape = torch.Size([8, 16])\n",
      "DEBUG: scores.shape = torch.Size([8, 16])\n"
     ]
    },
    {
     "name": "stderr",
     "output_type": "stream",
     "text": [
      "Epoch 88:  74%|███████▎  | 28/38 [00:00<00:00, 31.07batch/s, loss=50.0000]"
     ]
    },
    {
     "name": "stdout",
     "output_type": "stream",
     "text": [
      "DEBUG: scores.shape = torch.Size([8, 16])\n",
      "DEBUG: scores.shape = torch.Size([8, 16])\n"
     ]
    },
    {
     "name": "stderr",
     "output_type": "stream",
     "text": [
      "Epoch 88:  84%|████████▍ | 32/38 [00:01<00:00, 30.29batch/s, loss=75.0000]"
     ]
    },
    {
     "name": "stdout",
     "output_type": "stream",
     "text": [
      "DEBUG: scores.shape = torch.Size([8, 16])\n",
      "DEBUG: scores.shape = torch.Size([8, 16])\n",
      "DEBUG: scores.shape = torch.Size([8, 16])\n"
     ]
    },
    {
     "name": "stderr",
     "output_type": "stream",
     "text": [
      "Epoch 88:  84%|████████▍ | 32/38 [00:01<00:00, 30.29batch/s, loss=62.5000]"
     ]
    },
    {
     "name": "stdout",
     "output_type": "stream",
     "text": [
      "DEBUG: scores.shape = torch.Size([8, 16])\n",
      "DEBUG: scores.shape = torch.Size([8, 16])\n"
     ]
    },
    {
     "name": "stderr",
     "output_type": "stream",
     "text": [
      "Epoch 88:  95%|█████████▍| 36/38 [00:01<00:00, 30.60batch/s, loss=50.0000]"
     ]
    },
    {
     "name": "stdout",
     "output_type": "stream",
     "text": [
      "DEBUG: scores.shape = torch.Size([8, 16])\n",
      "DEBUG: scores.shape = torch.Size([4, 16])\n"
     ]
    },
    {
     "name": "stderr",
     "output_type": "stream",
     "text": [
      "Epoch 88: 100%|██████████| 38/38 [00:01<00:00, 31.51batch/s, loss=50.0000]\n"
     ]
    },
    {
     "name": "stdout",
     "output_type": "stream",
     "text": [
      "Epoch 88, Loss: 50.0000\n"
     ]
    },
    {
     "name": "stderr",
     "output_type": "stream",
     "text": [
      "Epoch 89:   0%|          | 0/38 [00:00<?, ?batch/s, loss=62.5000]"
     ]
    },
    {
     "name": "stdout",
     "output_type": "stream",
     "text": [
      "DEBUG: scores.shape = torch.Size([8, 16])\n",
      "DEBUG: scores.shape = torch.Size([8, 16])\n",
      "DEBUG: scores.shape = torch.Size([8, 16])\n",
      "DEBUG: scores.shape = torch.Size([8, 16])\n"
     ]
    },
    {
     "name": "stderr",
     "output_type": "stream",
     "text": [
      "Epoch 89:  11%|█         | 4/38 [00:00<00:00, 36.27batch/s, loss=37.5000]"
     ]
    },
    {
     "name": "stdout",
     "output_type": "stream",
     "text": [
      "DEBUG: scores.shape = torch.Size([8, 16])\n"
     ]
    },
    {
     "name": "stderr",
     "output_type": "stream",
     "text": [
      "Epoch 89:  11%|█         | 4/38 [00:00<00:00, 36.27batch/s, loss=62.5000]"
     ]
    },
    {
     "name": "stdout",
     "output_type": "stream",
     "text": [
      "DEBUG: scores.shape = torch.Size([8, 16])\n",
      "DEBUG: scores.shape = torch.Size([8, 16])\n"
     ]
    },
    {
     "name": "stderr",
     "output_type": "stream",
     "text": [
      "Epoch 89:  21%|██        | 8/38 [00:00<00:00, 33.31batch/s, loss=62.5000]"
     ]
    },
    {
     "name": "stdout",
     "output_type": "stream",
     "text": [
      "DEBUG: scores.shape = torch.Size([8, 16])\n",
      "DEBUG: scores.shape = torch.Size([8, 16])\n",
      "DEBUG: scores.shape = torch.Size([8, 16])\n",
      "DEBUG: scores.shape = torch.Size([8, 16])\n"
     ]
    },
    {
     "name": "stderr",
     "output_type": "stream",
     "text": [
      "Epoch 89:  21%|██        | 8/38 [00:00<00:00, 33.31batch/s, loss=50.0000]"
     ]
    },
    {
     "name": "stdout",
     "output_type": "stream",
     "text": [
      "DEBUG: scores.shape = torch.Size([8, 16])\n"
     ]
    },
    {
     "name": "stderr",
     "output_type": "stream",
     "text": [
      "Epoch 89:  32%|███▏      | 12/38 [00:00<00:00, 31.83batch/s, loss=75.0000]"
     ]
    },
    {
     "name": "stdout",
     "output_type": "stream",
     "text": [
      "DEBUG: scores.shape = torch.Size([8, 16])\n"
     ]
    },
    {
     "name": "stderr",
     "output_type": "stream",
     "text": [
      "Epoch 89:  42%|████▏     | 16/38 [00:00<00:00, 32.23batch/s, loss=12.5000]"
     ]
    },
    {
     "name": "stdout",
     "output_type": "stream",
     "text": [
      "DEBUG: scores.shape = torch.Size([8, 16])\n",
      "DEBUG: scores.shape = torch.Size([8, 16])\n",
      "DEBUG: scores.shape = torch.Size([8, 16])\n",
      "DEBUG: scores.shape = torch.Size([8, 16])\n",
      "DEBUG: scores.shape = torch.Size([8, 16])\n",
      "DEBUG: scores.shape = torch.Size([8, 16])\n"
     ]
    },
    {
     "name": "stderr",
     "output_type": "stream",
     "text": [
      "Epoch 89:  42%|████▏     | 16/38 [00:00<00:00, 32.23batch/s, loss=37.5000]"
     ]
    },
    {
     "name": "stdout",
     "output_type": "stream",
     "text": [
      "DEBUG: scores.shape = torch.Size([8, 16])\n"
     ]
    },
    {
     "name": "stderr",
     "output_type": "stream",
     "text": [
      "Epoch 89:  63%|██████▎   | 24/38 [00:00<00:00, 31.74batch/s, loss=50.0000]"
     ]
    },
    {
     "name": "stdout",
     "output_type": "stream",
     "text": [
      "DEBUG: scores.shape = torch.Size([8, 16])\n",
      "DEBUG: scores.shape = torch.Size([8, 16])\n",
      "DEBUG: scores.shape = torch.Size([8, 16])\n",
      "DEBUG: scores.shape = torch.Size([8, 16])\n",
      "DEBUG: scores.shape = torch.Size([8, 16])\n",
      "DEBUG: scores.shape = torch.Size([8, 16])\n"
     ]
    },
    {
     "name": "stderr",
     "output_type": "stream",
     "text": [
      "Epoch 89:  63%|██████▎   | 24/38 [00:00<00:00, 31.74batch/s, loss=37.5000]"
     ]
    },
    {
     "name": "stdout",
     "output_type": "stream",
     "text": [
      "DEBUG: scores.shape = torch.Size([8, 16])\n"
     ]
    },
    {
     "name": "stderr",
     "output_type": "stream",
     "text": [
      "Epoch 89:  74%|███████▎  | 28/38 [00:00<00:00, 32.72batch/s, loss=62.5000]"
     ]
    },
    {
     "name": "stdout",
     "output_type": "stream",
     "text": [
      "DEBUG: scores.shape = torch.Size([8, 16])\n",
      "DEBUG: scores.shape = torch.Size([8, 16])\n",
      "DEBUG: scores.shape = torch.Size([8, 16])\n",
      "DEBUG: scores.shape = torch.Size([8, 16])\n",
      "DEBUG: scores.shape = torch.Size([8, 16])\n"
     ]
    },
    {
     "name": "stderr",
     "output_type": "stream",
     "text": [
      "Epoch 89:  84%|████████▍ | 32/38 [00:01<00:00, 34.17batch/s, loss=37.5000]"
     ]
    },
    {
     "name": "stdout",
     "output_type": "stream",
     "text": [
      "DEBUG: scores.shape = torch.Size([8, 16])\n"
     ]
    },
    {
     "name": "stderr",
     "output_type": "stream",
     "text": [
      "Epoch 89:  84%|████████▍ | 32/38 [00:01<00:00, 34.17batch/s, loss=50.0000]"
     ]
    },
    {
     "name": "stdout",
     "output_type": "stream",
     "text": [
      "DEBUG: scores.shape = torch.Size([8, 16])\n"
     ]
    },
    {
     "name": "stderr",
     "output_type": "stream",
     "text": [
      "Epoch 89: 100%|██████████| 38/38 [00:01<00:00, 33.26batch/s, loss=100.0000]\n"
     ]
    },
    {
     "name": "stdout",
     "output_type": "stream",
     "text": [
      "DEBUG: scores.shape = torch.Size([8, 16])\n",
      "DEBUG: scores.shape = torch.Size([8, 16])\n",
      "DEBUG: scores.shape = torch.Size([8, 16])\n",
      "DEBUG: scores.shape = torch.Size([4, 16])\n",
      "Epoch 89, Loss: 50.6579\n"
     ]
    },
    {
     "name": "stderr",
     "output_type": "stream",
     "text": [
      "Epoch 90:   0%|          | 0/38 [00:00<?, ?batch/s, loss=62.5000]"
     ]
    },
    {
     "name": "stdout",
     "output_type": "stream",
     "text": [
      "DEBUG: scores.shape = torch.Size([8, 16])\n",
      "DEBUG: scores.shape = torch.Size([8, 16])\n"
     ]
    },
    {
     "name": "stderr",
     "output_type": "stream",
     "text": [
      "Epoch 90:   0%|          | 0/38 [00:00<?, ?batch/s, loss=12.5000]"
     ]
    },
    {
     "name": "stdout",
     "output_type": "stream",
     "text": [
      "DEBUG: scores.shape = torch.Size([8, 16])\n"
     ]
    },
    {
     "name": "stderr",
     "output_type": "stream",
     "text": [
      "Epoch 90:  11%|█         | 4/38 [00:00<00:01, 29.77batch/s, loss=25.0000]"
     ]
    },
    {
     "name": "stdout",
     "output_type": "stream",
     "text": [
      "DEBUG: scores.shape = torch.Size([8, 16])\n",
      "DEBUG: scores.shape = torch.Size([8, 16])\n",
      "DEBUG: scores.shape = torch.Size([8, 16])\n"
     ]
    },
    {
     "name": "stderr",
     "output_type": "stream",
     "text": [
      "Epoch 90:  18%|█▊        | 7/38 [00:00<00:01, 29.39batch/s, loss=25.0000]"
     ]
    },
    {
     "name": "stdout",
     "output_type": "stream",
     "text": [
      "DEBUG: scores.shape = torch.Size([8, 16])\n"
     ]
    },
    {
     "name": "stderr",
     "output_type": "stream",
     "text": [
      "Epoch 90:  18%|█▊        | 7/38 [00:00<00:01, 29.39batch/s, loss=62.5000]"
     ]
    },
    {
     "name": "stdout",
     "output_type": "stream",
     "text": [
      "DEBUG: scores.shape = torch.Size([8, 16])\n"
     ]
    },
    {
     "name": "stderr",
     "output_type": "stream",
     "text": [
      "Epoch 90:  18%|█▊        | 7/38 [00:00<00:01, 29.39batch/s, loss=50.0000]"
     ]
    },
    {
     "name": "stdout",
     "output_type": "stream",
     "text": [
      "DEBUG: scores.shape = torch.Size([8, 16])\n",
      "DEBUG: scores.shape = torch.Size([8, 16])\n"
     ]
    },
    {
     "name": "stderr",
     "output_type": "stream",
     "text": [
      "Epoch 90:  29%|██▉       | 11/38 [00:00<00:00, 31.76batch/s, loss=75.0000]"
     ]
    },
    {
     "name": "stdout",
     "output_type": "stream",
     "text": [
      "DEBUG: scores.shape = torch.Size([8, 16])\n",
      "DEBUG: scores.shape = torch.Size([8, 16])\n",
      "DEBUG: scores.shape = torch.Size([8, 16])\n"
     ]
    },
    {
     "name": "stderr",
     "output_type": "stream",
     "text": [
      "Epoch 90:  29%|██▉       | 11/38 [00:00<00:00, 31.76batch/s, loss=62.5000]"
     ]
    },
    {
     "name": "stdout",
     "output_type": "stream",
     "text": [
      "DEBUG: scores.shape = torch.Size([8, 16])\n",
      "DEBUG: scores.shape = torch.Size([8, 16])\n"
     ]
    },
    {
     "name": "stderr",
     "output_type": "stream",
     "text": [
      "Epoch 90:  39%|███▉      | 15/38 [00:00<00:00, 33.45batch/s, loss=62.5000]"
     ]
    },
    {
     "name": "stdout",
     "output_type": "stream",
     "text": [
      "DEBUG: scores.shape = torch.Size([8, 16])\n"
     ]
    },
    {
     "name": "stderr",
     "output_type": "stream",
     "text": [
      "Epoch 90:  39%|███▉      | 15/38 [00:00<00:00, 33.45batch/s, loss=37.5000]"
     ]
    },
    {
     "name": "stdout",
     "output_type": "stream",
     "text": [
      "DEBUG: scores.shape = torch.Size([8, 16])\n"
     ]
    },
    {
     "name": "stderr",
     "output_type": "stream",
     "text": [
      "Epoch 90:  50%|█████     | 19/38 [00:00<00:00, 34.18batch/s, loss=62.5000]"
     ]
    },
    {
     "name": "stdout",
     "output_type": "stream",
     "text": [
      "DEBUG: scores.shape = torch.Size([8, 16])\n",
      "DEBUG: scores.shape = torch.Size([8, 16])\n",
      "DEBUG: scores.shape = torch.Size([8, 16])\n",
      "DEBUG: scores.shape = torch.Size([8, 16])\n"
     ]
    },
    {
     "name": "stderr",
     "output_type": "stream",
     "text": [
      "Epoch 90:  50%|█████     | 19/38 [00:00<00:00, 34.18batch/s, loss=87.5000]"
     ]
    },
    {
     "name": "stdout",
     "output_type": "stream",
     "text": [
      "DEBUG: scores.shape = torch.Size([8, 16])\n"
     ]
    },
    {
     "name": "stderr",
     "output_type": "stream",
     "text": [
      "Epoch 90:  50%|█████     | 19/38 [00:00<00:00, 34.18batch/s, loss=62.5000]"
     ]
    },
    {
     "name": "stdout",
     "output_type": "stream",
     "text": [
      "DEBUG: scores.shape = torch.Size([8, 16])\n"
     ]
    },
    {
     "name": "stderr",
     "output_type": "stream",
     "text": [
      "Epoch 90:  61%|██████    | 23/38 [00:00<00:00, 33.99batch/s, loss=75.0000]"
     ]
    },
    {
     "name": "stdout",
     "output_type": "stream",
     "text": [
      "DEBUG: scores.shape = torch.Size([8, 16])\n"
     ]
    },
    {
     "name": "stderr",
     "output_type": "stream",
     "text": [
      "Epoch 90:  71%|███████   | 27/38 [00:00<00:00, 32.65batch/s, loss=25.0000]"
     ]
    },
    {
     "name": "stdout",
     "output_type": "stream",
     "text": [
      "DEBUG: scores.shape = torch.Size([8, 16])\n",
      "DEBUG: scores.shape = torch.Size([8, 16])\n",
      "DEBUG: scores.shape = torch.Size([8, 16])\n",
      "DEBUG: scores.shape = torch.Size([8, 16])\n"
     ]
    },
    {
     "name": "stderr",
     "output_type": "stream",
     "text": [
      "Epoch 90:  71%|███████   | 27/38 [00:00<00:00, 32.65batch/s, loss=75.0000]"
     ]
    },
    {
     "name": "stdout",
     "output_type": "stream",
     "text": [
      "DEBUG: scores.shape = torch.Size([8, 16])\n"
     ]
    },
    {
     "name": "stderr",
     "output_type": "stream",
     "text": [
      "Epoch 90:  71%|███████   | 27/38 [00:00<00:00, 32.65batch/s, loss=37.5000]"
     ]
    },
    {
     "name": "stdout",
     "output_type": "stream",
     "text": [
      "DEBUG: scores.shape = torch.Size([8, 16])\n"
     ]
    },
    {
     "name": "stderr",
     "output_type": "stream",
     "text": [
      "Epoch 90:  82%|████████▏ | 31/38 [00:01<00:00, 31.53batch/s, loss=75.0000]"
     ]
    },
    {
     "name": "stdout",
     "output_type": "stream",
     "text": [
      "DEBUG: scores.shape = torch.Size([8, 16])\n",
      "DEBUG: scores.shape = torch.Size([8, 16])\n",
      "DEBUG: scores.shape = torch.Size([8, 16])\n",
      "DEBUG: scores.shape = torch.Size([8, 16])\n"
     ]
    },
    {
     "name": "stderr",
     "output_type": "stream",
     "text": [
      "Epoch 90:  82%|████████▏ | 31/38 [00:01<00:00, 31.53batch/s, loss=50.0000]"
     ]
    },
    {
     "name": "stdout",
     "output_type": "stream",
     "text": [
      "DEBUG: scores.shape = torch.Size([8, 16])\n"
     ]
    },
    {
     "name": "stderr",
     "output_type": "stream",
     "text": [
      "Epoch 90:  92%|█████████▏| 35/38 [00:01<00:00, 30.43batch/s, loss=50.0000]"
     ]
    },
    {
     "name": "stdout",
     "output_type": "stream",
     "text": [
      "DEBUG: scores.shape = torch.Size([8, 16])\n"
     ]
    },
    {
     "name": "stderr",
     "output_type": "stream",
     "text": [
      "Epoch 90: 100%|██████████| 38/38 [00:01<00:00, 31.54batch/s, loss=50.0000]\n"
     ]
    },
    {
     "name": "stdout",
     "output_type": "stream",
     "text": [
      "DEBUG: scores.shape = torch.Size([8, 16])\n",
      "DEBUG: scores.shape = torch.Size([4, 16])\n",
      "Epoch 90, Loss: 50.0000\n"
     ]
    },
    {
     "name": "stderr",
     "output_type": "stream",
     "text": [
      "Epoch 91:   0%|          | 0/38 [00:00<?, ?batch/s, loss=50.0000]"
     ]
    },
    {
     "name": "stdout",
     "output_type": "stream",
     "text": [
      "DEBUG: scores.shape = torch.Size([8, 16])\n",
      "DEBUG: scores.shape = torch.Size([8, 16])\n"
     ]
    },
    {
     "name": "stderr",
     "output_type": "stream",
     "text": [
      "Epoch 91:   8%|▊         | 3/38 [00:00<00:01, 28.36batch/s, loss=75.0000]"
     ]
    },
    {
     "name": "stdout",
     "output_type": "stream",
     "text": [
      "DEBUG: scores.shape = torch.Size([8, 16])\n"
     ]
    },
    {
     "name": "stderr",
     "output_type": "stream",
     "text": [
      "Epoch 91:   8%|▊         | 3/38 [00:00<00:01, 28.36batch/s, loss=50.0000]"
     ]
    },
    {
     "name": "stdout",
     "output_type": "stream",
     "text": [
      "DEBUG: scores.shape = torch.Size([8, 16])\n"
     ]
    },
    {
     "name": "stderr",
     "output_type": "stream",
     "text": [
      "Epoch 91:  16%|█▌        | 6/38 [00:00<00:01, 28.97batch/s, loss=62.5000]"
     ]
    },
    {
     "name": "stdout",
     "output_type": "stream",
     "text": [
      "DEBUG: scores.shape = torch.Size([8, 16])\n",
      "DEBUG: scores.shape = torch.Size([8, 16])\n",
      "DEBUG: scores.shape = torch.Size([8, 16])\n"
     ]
    },
    {
     "name": "stderr",
     "output_type": "stream",
     "text": [
      "Epoch 91:  16%|█▌        | 6/38 [00:00<00:01, 28.97batch/s, loss=62.5000]"
     ]
    },
    {
     "name": "stdout",
     "output_type": "stream",
     "text": [
      "DEBUG: scores.shape = torch.Size([8, 16])\n",
      "DEBUG: scores.shape = torch.Size([8, 16])\n",
      "DEBUG: scores.shape = torch.Size([8, 16])\n"
     ]
    },
    {
     "name": "stderr",
     "output_type": "stream",
     "text": [
      "Epoch 91:  26%|██▋       | 10/38 [00:00<00:00, 30.65batch/s, loss=25.0000]"
     ]
    },
    {
     "name": "stdout",
     "output_type": "stream",
     "text": [
      "DEBUG: scores.shape = torch.Size([8, 16])\n"
     ]
    },
    {
     "name": "stderr",
     "output_type": "stream",
     "text": [
      "Epoch 91:  26%|██▋       | 10/38 [00:00<00:00, 30.65batch/s, loss=62.5000]"
     ]
    },
    {
     "name": "stdout",
     "output_type": "stream",
     "text": [
      "DEBUG: scores.shape = torch.Size([8, 16])\n",
      "DEBUG: scores.shape = torch.Size([8, 16])\n",
      "DEBUG: scores.shape = torch.Size([8, 16])\n"
     ]
    },
    {
     "name": "stderr",
     "output_type": "stream",
     "text": [
      "Epoch 91:  37%|███▋      | 14/38 [00:00<00:00, 31.34batch/s, loss=62.5000]"
     ]
    },
    {
     "name": "stdout",
     "output_type": "stream",
     "text": [
      "DEBUG: scores.shape = torch.Size([8, 16])\n",
      "DEBUG: scores.shape = torch.Size([8, 16])\n",
      "DEBUG: scores.shape = torch.Size([8, 16])\n"
     ]
    },
    {
     "name": "stderr",
     "output_type": "stream",
     "text": [
      "Epoch 91:  37%|███▋      | 14/38 [00:00<00:00, 31.34batch/s, loss=37.5000]"
     ]
    },
    {
     "name": "stdout",
     "output_type": "stream",
     "text": [
      "DEBUG: scores.shape = torch.Size([8, 16])\n"
     ]
    },
    {
     "name": "stderr",
     "output_type": "stream",
     "text": [
      "Epoch 91:  47%|████▋     | 18/38 [00:00<00:00, 30.84batch/s, loss=75.0000]"
     ]
    },
    {
     "name": "stdout",
     "output_type": "stream",
     "text": [
      "DEBUG: scores.shape = torch.Size([8, 16])\n",
      "DEBUG: scores.shape = torch.Size([8, 16])\n"
     ]
    },
    {
     "name": "stderr",
     "output_type": "stream",
     "text": [
      "Epoch 91:  47%|████▋     | 18/38 [00:00<00:00, 30.84batch/s, loss=25.0000]"
     ]
    },
    {
     "name": "stdout",
     "output_type": "stream",
     "text": [
      "DEBUG: scores.shape = torch.Size([8, 16])\n"
     ]
    },
    {
     "name": "stderr",
     "output_type": "stream",
     "text": [
      "Epoch 91:  58%|█████▊    | 22/38 [00:00<00:00, 29.10batch/s, loss=12.5000]"
     ]
    },
    {
     "name": "stdout",
     "output_type": "stream",
     "text": [
      "DEBUG: scores.shape = torch.Size([8, 16])\n",
      "DEBUG: scores.shape = torch.Size([8, 16])\n",
      "DEBUG: scores.shape = torch.Size([8, 16])\n"
     ]
    },
    {
     "name": "stderr",
     "output_type": "stream",
     "text": [
      "Epoch 91:  66%|██████▌   | 25/38 [00:00<00:00, 28.94batch/s, loss=25.0000]"
     ]
    },
    {
     "name": "stdout",
     "output_type": "stream",
     "text": [
      "DEBUG: scores.shape = torch.Size([8, 16])\n",
      "DEBUG: scores.shape = torch.Size([8, 16])\n"
     ]
    },
    {
     "name": "stderr",
     "output_type": "stream",
     "text": [
      "Epoch 91:  66%|██████▌   | 25/38 [00:00<00:00, 28.94batch/s, loss=37.5000]"
     ]
    },
    {
     "name": "stdout",
     "output_type": "stream",
     "text": [
      "DEBUG: scores.shape = torch.Size([8, 16])\n"
     ]
    },
    {
     "name": "stderr",
     "output_type": "stream",
     "text": [
      "Epoch 91:  76%|███████▋  | 29/38 [00:00<00:00, 30.51batch/s, loss=50.0000]"
     ]
    },
    {
     "name": "stdout",
     "output_type": "stream",
     "text": [
      "DEBUG: scores.shape = torch.Size([8, 16])\n",
      "DEBUG: scores.shape = torch.Size([8, 16])\n",
      "DEBUG: scores.shape = torch.Size([8, 16])\n"
     ]
    },
    {
     "name": "stderr",
     "output_type": "stream",
     "text": [
      "Epoch 91:  76%|███████▋  | 29/38 [00:01<00:00, 30.51batch/s, loss=75.0000]"
     ]
    },
    {
     "name": "stdout",
     "output_type": "stream",
     "text": [
      "DEBUG: scores.shape = torch.Size([8, 16])\n"
     ]
    },
    {
     "name": "stderr",
     "output_type": "stream",
     "text": [
      "Epoch 91:  76%|███████▋  | 29/38 [00:01<00:00, 30.51batch/s, loss=50.0000]"
     ]
    },
    {
     "name": "stdout",
     "output_type": "stream",
     "text": [
      "DEBUG: scores.shape = torch.Size([8, 16])\n",
      "DEBUG: scores.shape = torch.Size([8, 16])\n"
     ]
    },
    {
     "name": "stderr",
     "output_type": "stream",
     "text": [
      "Epoch 91:  87%|████████▋ | 33/38 [00:01<00:00, 31.42batch/s, loss=50.0000]"
     ]
    },
    {
     "name": "stdout",
     "output_type": "stream",
     "text": [
      "DEBUG: scores.shape = torch.Size([8, 16])\n"
     ]
    },
    {
     "name": "stderr",
     "output_type": "stream",
     "text": [
      "Epoch 91:  87%|████████▋ | 33/38 [00:01<00:00, 31.42batch/s, loss=62.5000]"
     ]
    },
    {
     "name": "stdout",
     "output_type": "stream",
     "text": [
      "DEBUG: scores.shape = torch.Size([8, 16])\n",
      "DEBUG: scores.shape = torch.Size([8, 16])\n"
     ]
    },
    {
     "name": "stderr",
     "output_type": "stream",
     "text": [
      "Epoch 91:  87%|████████▋ | 33/38 [00:01<00:00, 31.42batch/s, loss=50.0000]"
     ]
    },
    {
     "name": "stdout",
     "output_type": "stream",
     "text": [
      "DEBUG: scores.shape = torch.Size([8, 16])\n"
     ]
    },
    {
     "name": "stderr",
     "output_type": "stream",
     "text": [
      "Epoch 91: 100%|██████████| 38/38 [00:01<00:00, 29.95batch/s, loss=0.0000] \n"
     ]
    },
    {
     "name": "stdout",
     "output_type": "stream",
     "text": [
      "DEBUG: scores.shape = torch.Size([4, 16])\n",
      "Epoch 91, Loss: 49.3421\n"
     ]
    },
    {
     "name": "stderr",
     "output_type": "stream",
     "text": [
      "Epoch 92:   0%|          | 0/38 [00:00<?, ?batch/s]"
     ]
    },
    {
     "name": "stdout",
     "output_type": "stream",
     "text": [
      "DEBUG: scores.shape = torch.Size([8, 16])\n"
     ]
    },
    {
     "name": "stderr",
     "output_type": "stream",
     "text": [
      "Epoch 92:   0%|          | 0/38 [00:00<?, ?batch/s, loss=37.5000]"
     ]
    },
    {
     "name": "stdout",
     "output_type": "stream",
     "text": [
      "DEBUG: scores.shape = torch.Size([8, 16])\n"
     ]
    },
    {
     "name": "stderr",
     "output_type": "stream",
     "text": [
      "Epoch 92:   8%|▊         | 3/38 [00:00<00:01, 28.41batch/s, loss=37.5000]"
     ]
    },
    {
     "name": "stdout",
     "output_type": "stream",
     "text": [
      "DEBUG: scores.shape = torch.Size([8, 16])\n",
      "DEBUG: scores.shape = torch.Size([8, 16])\n"
     ]
    },
    {
     "name": "stderr",
     "output_type": "stream",
     "text": [
      "Epoch 92:   8%|▊         | 3/38 [00:00<00:01, 28.41batch/s, loss=50.0000]"
     ]
    },
    {
     "name": "stdout",
     "output_type": "stream",
     "text": [
      "DEBUG: scores.shape = torch.Size([8, 16])\n"
     ]
    },
    {
     "name": "stderr",
     "output_type": "stream",
     "text": [
      "Epoch 92:  16%|█▌        | 6/38 [00:00<00:01, 28.99batch/s, loss=75.0000]"
     ]
    },
    {
     "name": "stdout",
     "output_type": "stream",
     "text": [
      "DEBUG: scores.shape = torch.Size([8, 16])\n",
      "DEBUG: scores.shape = torch.Size([8, 16])\n",
      "DEBUG: scores.shape = torch.Size([8, 16])\n"
     ]
    },
    {
     "name": "stderr",
     "output_type": "stream",
     "text": [
      "Epoch 92:  16%|█▌        | 6/38 [00:00<00:01, 28.99batch/s, loss=50.0000]"
     ]
    },
    {
     "name": "stdout",
     "output_type": "stream",
     "text": [
      "DEBUG: scores.shape = torch.Size([8, 16])\n"
     ]
    },
    {
     "name": "stderr",
     "output_type": "stream",
     "text": [
      "Epoch 92:  26%|██▋       | 10/38 [00:00<00:00, 30.68batch/s, loss=75.0000]"
     ]
    },
    {
     "name": "stdout",
     "output_type": "stream",
     "text": [
      "DEBUG: scores.shape = torch.Size([8, 16])\n",
      "DEBUG: scores.shape = torch.Size([8, 16])\n",
      "DEBUG: scores.shape = torch.Size([8, 16])\n"
     ]
    },
    {
     "name": "stderr",
     "output_type": "stream",
     "text": [
      "Epoch 92:  26%|██▋       | 10/38 [00:00<00:00, 30.68batch/s, loss=62.5000]"
     ]
    },
    {
     "name": "stdout",
     "output_type": "stream",
     "text": [
      "DEBUG: scores.shape = torch.Size([8, 16])\n",
      "DEBUG: scores.shape = torch.Size([8, 16])\n"
     ]
    },
    {
     "name": "stderr",
     "output_type": "stream",
     "text": [
      "Epoch 92:  37%|███▋      | 14/38 [00:00<00:00, 31.91batch/s, loss=62.5000]"
     ]
    },
    {
     "name": "stdout",
     "output_type": "stream",
     "text": [
      "DEBUG: scores.shape = torch.Size([8, 16])\n"
     ]
    },
    {
     "name": "stderr",
     "output_type": "stream",
     "text": [
      "Epoch 92:  37%|███▋      | 14/38 [00:00<00:00, 31.91batch/s, loss=25.0000]"
     ]
    },
    {
     "name": "stdout",
     "output_type": "stream",
     "text": [
      "DEBUG: scores.shape = torch.Size([8, 16])\n",
      "DEBUG: scores.shape = torch.Size([8, 16])\n"
     ]
    },
    {
     "name": "stderr",
     "output_type": "stream",
     "text": [
      "Epoch 92:  37%|███▋      | 14/38 [00:00<00:00, 31.91batch/s, loss=37.5000]"
     ]
    },
    {
     "name": "stdout",
     "output_type": "stream",
     "text": [
      "DEBUG: scores.shape = torch.Size([8, 16])\n"
     ]
    },
    {
     "name": "stderr",
     "output_type": "stream",
     "text": [
      "Epoch 92:  47%|████▋     | 18/38 [00:00<00:00, 32.11batch/s, loss=62.5000]"
     ]
    },
    {
     "name": "stdout",
     "output_type": "stream",
     "text": [
      "DEBUG: scores.shape = torch.Size([8, 16])\n"
     ]
    },
    {
     "name": "stderr",
     "output_type": "stream",
     "text": [
      "Epoch 92:  47%|████▋     | 18/38 [00:00<00:00, 32.11batch/s, loss=50.0000]"
     ]
    },
    {
     "name": "stdout",
     "output_type": "stream",
     "text": [
      "DEBUG: scores.shape = torch.Size([8, 16])\n",
      "DEBUG: scores.shape = torch.Size([8, 16])\n"
     ]
    },
    {
     "name": "stderr",
     "output_type": "stream",
     "text": [
      "Epoch 92:  58%|█████▊    | 22/38 [00:00<00:00, 29.33batch/s, loss=50.0000]"
     ]
    },
    {
     "name": "stdout",
     "output_type": "stream",
     "text": [
      "DEBUG: scores.shape = torch.Size([8, 16])\n",
      "DEBUG: scores.shape = torch.Size([8, 16])\n",
      "DEBUG: scores.shape = torch.Size([8, 16])\n"
     ]
    },
    {
     "name": "stderr",
     "output_type": "stream",
     "text": [
      "Epoch 92:  58%|█████▊    | 22/38 [00:00<00:00, 29.33batch/s, loss=50.0000]"
     ]
    },
    {
     "name": "stdout",
     "output_type": "stream",
     "text": [
      "DEBUG: scores.shape = torch.Size([8, 16])\n"
     ]
    },
    {
     "name": "stderr",
     "output_type": "stream",
     "text": [
      "Epoch 92:  68%|██████▊   | 26/38 [00:00<00:00, 29.55batch/s, loss=37.5000]"
     ]
    },
    {
     "name": "stdout",
     "output_type": "stream",
     "text": [
      "DEBUG: scores.shape = torch.Size([8, 16])\n",
      "DEBUG: scores.shape = torch.Size([8, 16])\n"
     ]
    },
    {
     "name": "stderr",
     "output_type": "stream",
     "text": [
      "Epoch 92:  68%|██████▊   | 26/38 [00:00<00:00, 29.55batch/s, loss=50.0000]"
     ]
    },
    {
     "name": "stdout",
     "output_type": "stream",
     "text": [
      "DEBUG: scores.shape = torch.Size([8, 16])\n",
      "DEBUG: scores.shape = torch.Size([8, 16])\n"
     ]
    },
    {
     "name": "stderr",
     "output_type": "stream",
     "text": [
      "Epoch 92:  76%|███████▋  | 29/38 [00:01<00:00, 29.41batch/s, loss=37.5000]"
     ]
    },
    {
     "name": "stdout",
     "output_type": "stream",
     "text": [
      "DEBUG: scores.shape = torch.Size([8, 16])\n",
      "DEBUG: scores.shape = torch.Size([8, 16])\n",
      "DEBUG: scores.shape = torch.Size([8, 16])\n"
     ]
    },
    {
     "name": "stderr",
     "output_type": "stream",
     "text": [
      "Epoch 92:  87%|████████▋ | 33/38 [00:01<00:00, 29.86batch/s, loss=50.0000]"
     ]
    },
    {
     "name": "stdout",
     "output_type": "stream",
     "text": [
      "DEBUG: scores.shape = torch.Size([8, 16])\n",
      "DEBUG: scores.shape = torch.Size([8, 16])\n"
     ]
    },
    {
     "name": "stderr",
     "output_type": "stream",
     "text": [
      "Epoch 92:  87%|████████▋ | 33/38 [00:01<00:00, 29.86batch/s, loss=50.0000]"
     ]
    },
    {
     "name": "stdout",
     "output_type": "stream",
     "text": [
      "DEBUG: scores.shape = torch.Size([8, 16])\n"
     ]
    },
    {
     "name": "stderr",
     "output_type": "stream",
     "text": [
      "Epoch 92:  95%|█████████▍| 36/38 [00:01<00:00, 28.33batch/s, loss=50.0000]"
     ]
    },
    {
     "name": "stdout",
     "output_type": "stream",
     "text": [
      "DEBUG: scores.shape = torch.Size([8, 16])\n",
      "DEBUG: scores.shape = torch.Size([8, 16])\n"
     ]
    },
    {
     "name": "stderr",
     "output_type": "stream",
     "text": [
      "Epoch 92: 100%|██████████| 38/38 [00:01<00:00, 29.75batch/s, loss=50.0000]\n"
     ]
    },
    {
     "name": "stdout",
     "output_type": "stream",
     "text": [
      "DEBUG: scores.shape = torch.Size([4, 16])\n",
      "Epoch 92, Loss: 50.0000\n"
     ]
    },
    {
     "name": "stderr",
     "output_type": "stream",
     "text": [
      "Epoch 93:   0%|          | 0/38 [00:00<?, ?batch/s, loss=50.0000]"
     ]
    },
    {
     "name": "stdout",
     "output_type": "stream",
     "text": [
      "DEBUG: scores.shape = torch.Size([8, 16])\n",
      "DEBUG: scores.shape = torch.Size([8, 16])\n",
      "DEBUG: scores.shape = torch.Size([8, 16])\n"
     ]
    },
    {
     "name": "stderr",
     "output_type": "stream",
     "text": [
      "Epoch 93:   8%|▊         | 3/38 [00:00<00:01, 28.74batch/s, loss=62.5000]"
     ]
    },
    {
     "name": "stdout",
     "output_type": "stream",
     "text": [
      "DEBUG: scores.shape = torch.Size([8, 16])\n",
      "DEBUG: scores.shape = torch.Size([8, 16])\n"
     ]
    },
    {
     "name": "stderr",
     "output_type": "stream",
     "text": [
      "Epoch 93:   8%|▊         | 3/38 [00:00<00:01, 28.74batch/s, loss=25.0000]"
     ]
    },
    {
     "name": "stdout",
     "output_type": "stream",
     "text": [
      "DEBUG: scores.shape = torch.Size([8, 16])\n"
     ]
    },
    {
     "name": "stderr",
     "output_type": "stream",
     "text": [
      "Epoch 93:  18%|█▊        | 7/38 [00:00<00:01, 30.85batch/s, loss=25.0000]"
     ]
    },
    {
     "name": "stdout",
     "output_type": "stream",
     "text": [
      "DEBUG: scores.shape = torch.Size([8, 16])\n",
      "DEBUG: scores.shape = torch.Size([8, 16])\n",
      "DEBUG: scores.shape = torch.Size([8, 16])\n",
      "DEBUG: scores.shape = torch.Size([8, 16])\n"
     ]
    },
    {
     "name": "stderr",
     "output_type": "stream",
     "text": [
      "Epoch 93:  29%|██▉       | 11/38 [00:00<00:00, 30.43batch/s, loss=75.0000]"
     ]
    },
    {
     "name": "stdout",
     "output_type": "stream",
     "text": [
      "DEBUG: scores.shape = torch.Size([8, 16])\n",
      "DEBUG: scores.shape = torch.Size([8, 16])\n"
     ]
    },
    {
     "name": "stderr",
     "output_type": "stream",
     "text": [
      "Epoch 93:  39%|███▉      | 15/38 [00:00<00:00, 29.28batch/s, loss=50.0000]"
     ]
    },
    {
     "name": "stdout",
     "output_type": "stream",
     "text": [
      "DEBUG: scores.shape = torch.Size([8, 16])\n",
      "DEBUG: scores.shape = torch.Size([8, 16])\n",
      "DEBUG: scores.shape = torch.Size([8, 16])\n",
      "DEBUG: scores.shape = torch.Size([8, 16])\n"
     ]
    },
    {
     "name": "stderr",
     "output_type": "stream",
     "text": [
      "Epoch 93:  39%|███▉      | 15/38 [00:00<00:00, 29.28batch/s, loss=87.5000]"
     ]
    },
    {
     "name": "stdout",
     "output_type": "stream",
     "text": [
      "DEBUG: scores.shape = torch.Size([8, 16])\n",
      "DEBUG: scores.shape = torch.Size([8, 16])\n"
     ]
    },
    {
     "name": "stderr",
     "output_type": "stream",
     "text": [
      "Epoch 93:  50%|█████     | 19/38 [00:00<00:00, 30.09batch/s, loss=50.0000]"
     ]
    },
    {
     "name": "stdout",
     "output_type": "stream",
     "text": [
      "DEBUG: scores.shape = torch.Size([8, 16])\n",
      "DEBUG: scores.shape = torch.Size([8, 16])\n",
      "DEBUG: scores.shape = torch.Size([8, 16])\n",
      "DEBUG: scores.shape = torch.Size([8, 16])\n",
      "DEBUG: scores.shape = torch.Size([8, 16])\n"
     ]
    },
    {
     "name": "stderr",
     "output_type": "stream",
     "text": [
      "Epoch 93:  61%|██████    | 23/38 [00:00<00:00, 30.90batch/s, loss=50.0000]"
     ]
    },
    {
     "name": "stdout",
     "output_type": "stream",
     "text": [
      "DEBUG: scores.shape = torch.Size([8, 16])\n",
      "DEBUG: scores.shape = torch.Size([8, 16])\n"
     ]
    },
    {
     "name": "stderr",
     "output_type": "stream",
     "text": [
      "Epoch 93:  71%|███████   | 27/38 [00:00<00:00, 30.76batch/s, loss=37.5000]"
     ]
    },
    {
     "name": "stdout",
     "output_type": "stream",
     "text": [
      "DEBUG: scores.shape = torch.Size([8, 16])\n",
      "DEBUG: scores.shape = torch.Size([8, 16])\n",
      "DEBUG: scores.shape = torch.Size([8, 16])\n",
      "DEBUG: scores.shape = torch.Size([8, 16])\n"
     ]
    },
    {
     "name": "stderr",
     "output_type": "stream",
     "text": [
      "Epoch 93:  71%|███████   | 27/38 [00:01<00:00, 30.76batch/s, loss=37.5000]"
     ]
    },
    {
     "name": "stdout",
     "output_type": "stream",
     "text": [
      "DEBUG: scores.shape = torch.Size([8, 16])\n",
      "DEBUG: scores.shape = torch.Size([8, 16])\n"
     ]
    },
    {
     "name": "stderr",
     "output_type": "stream",
     "text": [
      "Epoch 93:  92%|█████████▏| 35/38 [00:01<00:00, 31.50batch/s, loss=25.0000]"
     ]
    },
    {
     "name": "stdout",
     "output_type": "stream",
     "text": [
      "DEBUG: scores.shape = torch.Size([8, 16])\n",
      "DEBUG: scores.shape = torch.Size([8, 16])\n",
      "DEBUG: scores.shape = torch.Size([8, 16])\n",
      "DEBUG: scores.shape = torch.Size([8, 16])\n",
      "DEBUG: scores.shape = torch.Size([8, 16])\n"
     ]
    },
    {
     "name": "stderr",
     "output_type": "stream",
     "text": [
      "Epoch 93: 100%|██████████| 38/38 [00:01<00:00, 31.14batch/s, loss=50.0000]\n"
     ]
    },
    {
     "name": "stdout",
     "output_type": "stream",
     "text": [
      "DEBUG: scores.shape = torch.Size([8, 16])\n",
      "DEBUG: scores.shape = torch.Size([4, 16])\n",
      "Epoch 93, Loss: 50.0000\n"
     ]
    },
    {
     "name": "stderr",
     "output_type": "stream",
     "text": [
      "Epoch 94:   0%|          | 0/38 [00:00<?, ?batch/s]"
     ]
    },
    {
     "name": "stdout",
     "output_type": "stream",
     "text": [
      "DEBUG: scores.shape = torch.Size([8, 16])\n"
     ]
    },
    {
     "name": "stderr",
     "output_type": "stream",
     "text": [
      "Epoch 94:  11%|█         | 4/38 [00:00<00:01, 31.10batch/s, loss=25.0000]"
     ]
    },
    {
     "name": "stdout",
     "output_type": "stream",
     "text": [
      "DEBUG: scores.shape = torch.Size([8, 16])\n",
      "DEBUG: scores.shape = torch.Size([8, 16])\n",
      "DEBUG: scores.shape = torch.Size([8, 16])\n",
      "DEBUG: scores.shape = torch.Size([8, 16])\n"
     ]
    },
    {
     "name": "stderr",
     "output_type": "stream",
     "text": [
      "Epoch 94:  11%|█         | 4/38 [00:00<00:01, 31.10batch/s, loss=37.5000]"
     ]
    },
    {
     "name": "stdout",
     "output_type": "stream",
     "text": [
      "DEBUG: scores.shape = torch.Size([8, 16])\n",
      "DEBUG: scores.shape = torch.Size([8, 16])\n",
      "DEBUG: scores.shape = torch.Size([8, 16])\n"
     ]
    },
    {
     "name": "stderr",
     "output_type": "stream",
     "text": [
      "Epoch 94:  21%|██        | 8/38 [00:00<00:00, 31.54batch/s, loss=25.0000]"
     ]
    },
    {
     "name": "stdout",
     "output_type": "stream",
     "text": [
      "DEBUG: scores.shape = torch.Size([8, 16])\n",
      "DEBUG: scores.shape = torch.Size([8, 16])\n",
      "DEBUG: scores.shape = torch.Size([8, 16])\n",
      "DEBUG: scores.shape = torch.Size([8, 16])\n"
     ]
    },
    {
     "name": "stderr",
     "output_type": "stream",
     "text": [
      "Epoch 94:  32%|███▏      | 12/38 [00:00<00:00, 31.93batch/s, loss=37.5000]"
     ]
    },
    {
     "name": "stdout",
     "output_type": "stream",
     "text": [
      "DEBUG: scores.shape = torch.Size([8, 16])\n",
      "DEBUG: scores.shape = torch.Size([8, 16])\n",
      "DEBUG: scores.shape = torch.Size([8, 16])\n"
     ]
    },
    {
     "name": "stderr",
     "output_type": "stream",
     "text": [
      "Epoch 94:  42%|████▏     | 16/38 [00:00<00:00, 31.60batch/s, loss=37.5000] "
     ]
    },
    {
     "name": "stdout",
     "output_type": "stream",
     "text": [
      "DEBUG: scores.shape = torch.Size([8, 16])\n",
      "DEBUG: scores.shape = torch.Size([8, 16])\n",
      "DEBUG: scores.shape = torch.Size([8, 16])\n",
      "DEBUG: scores.shape = torch.Size([8, 16])\n"
     ]
    },
    {
     "name": "stderr",
     "output_type": "stream",
     "text": [
      "Epoch 94:  53%|█████▎    | 20/38 [00:00<00:00, 33.13batch/s, loss=62.5000]"
     ]
    },
    {
     "name": "stdout",
     "output_type": "stream",
     "text": [
      "DEBUG: scores.shape = torch.Size([8, 16])\n",
      "DEBUG: scores.shape = torch.Size([8, 16])\n"
     ]
    },
    {
     "name": "stderr",
     "output_type": "stream",
     "text": [
      "Epoch 94:  53%|█████▎    | 20/38 [00:00<00:00, 33.13batch/s, loss=62.5000]"
     ]
    },
    {
     "name": "stdout",
     "output_type": "stream",
     "text": [
      "DEBUG: scores.shape = torch.Size([8, 16])\n"
     ]
    },
    {
     "name": "stderr",
     "output_type": "stream",
     "text": [
      "Epoch 94:  63%|██████▎   | 24/38 [00:00<00:00, 32.41batch/s, loss=87.5000]"
     ]
    },
    {
     "name": "stdout",
     "output_type": "stream",
     "text": [
      "DEBUG: scores.shape = torch.Size([8, 16])\n",
      "DEBUG: scores.shape = torch.Size([8, 16])\n",
      "DEBUG: scores.shape = torch.Size([8, 16])\n",
      "DEBUG: scores.shape = torch.Size([8, 16])\n"
     ]
    },
    {
     "name": "stderr",
     "output_type": "stream",
     "text": [
      "Epoch 94:  63%|██████▎   | 24/38 [00:00<00:00, 32.41batch/s, loss=37.5000]"
     ]
    },
    {
     "name": "stdout",
     "output_type": "stream",
     "text": [
      "DEBUG: scores.shape = torch.Size([8, 16])\n"
     ]
    },
    {
     "name": "stderr",
     "output_type": "stream",
     "text": [
      "Epoch 94:  63%|██████▎   | 24/38 [00:00<00:00, 32.41batch/s, loss=50.0000]"
     ]
    },
    {
     "name": "stdout",
     "output_type": "stream",
     "text": [
      "DEBUG: scores.shape = torch.Size([8, 16])\n"
     ]
    },
    {
     "name": "stderr",
     "output_type": "stream",
     "text": [
      "Epoch 94:  84%|████████▍ | 32/38 [00:01<00:00, 30.42batch/s, loss=62.5000]"
     ]
    },
    {
     "name": "stdout",
     "output_type": "stream",
     "text": [
      "DEBUG: scores.shape = torch.Size([8, 16])\n",
      "DEBUG: scores.shape = torch.Size([8, 16])\n",
      "DEBUG: scores.shape = torch.Size([8, 16])\n",
      "DEBUG: scores.shape = torch.Size([8, 16])\n"
     ]
    },
    {
     "name": "stderr",
     "output_type": "stream",
     "text": [
      "Epoch 94:  84%|████████▍ | 32/38 [00:01<00:00, 30.42batch/s, loss=50.0000]"
     ]
    },
    {
     "name": "stdout",
     "output_type": "stream",
     "text": [
      "DEBUG: scores.shape = torch.Size([8, 16])\n",
      "DEBUG: scores.shape = torch.Size([8, 16])\n"
     ]
    },
    {
     "name": "stderr",
     "output_type": "stream",
     "text": [
      "Epoch 94:  84%|████████▍ | 32/38 [00:01<00:00, 30.42batch/s, loss=37.5000]"
     ]
    },
    {
     "name": "stdout",
     "output_type": "stream",
     "text": [
      "DEBUG: scores.shape = torch.Size([8, 16])\n"
     ]
    },
    {
     "name": "stderr",
     "output_type": "stream",
     "text": [
      "Epoch 94: 100%|██████████| 38/38 [00:01<00:00, 31.80batch/s, loss=25.0000]\n"
     ]
    },
    {
     "name": "stdout",
     "output_type": "stream",
     "text": [
      "DEBUG: scores.shape = torch.Size([8, 16])\n",
      "DEBUG: scores.shape = torch.Size([8, 16])\n",
      "DEBUG: scores.shape = torch.Size([4, 16])\n",
      "Epoch 94, Loss: 49.6711\n"
     ]
    },
    {
     "name": "stderr",
     "output_type": "stream",
     "text": [
      "Epoch 95:   0%|          | 0/38 [00:00<?, ?batch/s]"
     ]
    },
    {
     "name": "stdout",
     "output_type": "stream",
     "text": [
      "DEBUG: scores.shape = torch.Size([8, 16])\n"
     ]
    },
    {
     "name": "stderr",
     "output_type": "stream",
     "text": [
      "Epoch 95:   0%|          | 0/38 [00:00<?, ?batch/s, loss=62.5000]"
     ]
    },
    {
     "name": "stdout",
     "output_type": "stream",
     "text": [
      "DEBUG: scores.shape = torch.Size([8, 16])\n",
      "DEBUG: scores.shape = torch.Size([8, 16])\n",
      "DEBUG: scores.shape = torch.Size([8, 16])\n"
     ]
    },
    {
     "name": "stderr",
     "output_type": "stream",
     "text": [
      "Epoch 95:  11%|█         | 4/38 [00:00<00:00, 34.47batch/s, loss=75.0000]"
     ]
    },
    {
     "name": "stdout",
     "output_type": "stream",
     "text": [
      "DEBUG: scores.shape = torch.Size([8, 16])\n",
      "DEBUG: scores.shape = torch.Size([8, 16])\n",
      "DEBUG: scores.shape = torch.Size([8, 16])\n"
     ]
    },
    {
     "name": "stderr",
     "output_type": "stream",
     "text": [
      "Epoch 95:  21%|██        | 8/38 [00:00<00:01, 29.43batch/s, loss=75.0000]"
     ]
    },
    {
     "name": "stdout",
     "output_type": "stream",
     "text": [
      "DEBUG: scores.shape = torch.Size([8, 16])\n",
      "DEBUG: scores.shape = torch.Size([8, 16])\n",
      "DEBUG: scores.shape = torch.Size([8, 16])\n",
      "DEBUG: scores.shape = torch.Size([8, 16])\n"
     ]
    },
    {
     "name": "stderr",
     "output_type": "stream",
     "text": [
      "Epoch 95:  32%|███▏      | 12/38 [00:00<00:00, 29.98batch/s, loss=50.0000]"
     ]
    },
    {
     "name": "stdout",
     "output_type": "stream",
     "text": [
      "DEBUG: scores.shape = torch.Size([8, 16])\n",
      "DEBUG: scores.shape = torch.Size([8, 16])\n"
     ]
    },
    {
     "name": "stderr",
     "output_type": "stream",
     "text": [
      "Epoch 95:  42%|████▏     | 16/38 [00:00<00:00, 30.82batch/s, loss=62.5000]"
     ]
    },
    {
     "name": "stdout",
     "output_type": "stream",
     "text": [
      "DEBUG: scores.shape = torch.Size([8, 16])\n",
      "DEBUG: scores.shape = torch.Size([8, 16])\n",
      "DEBUG: scores.shape = torch.Size([8, 16])\n",
      "DEBUG: scores.shape = torch.Size([8, 16])\n",
      "DEBUG: scores.shape = torch.Size([8, 16])\n"
     ]
    },
    {
     "name": "stderr",
     "output_type": "stream",
     "text": [
      "Epoch 95:  42%|████▏     | 16/38 [00:00<00:00, 30.82batch/s, loss=50.0000]"
     ]
    },
    {
     "name": "stdout",
     "output_type": "stream",
     "text": [
      "DEBUG: scores.shape = torch.Size([8, 16])\n",
      "DEBUG: scores.shape = torch.Size([8, 16])\n"
     ]
    },
    {
     "name": "stderr",
     "output_type": "stream",
     "text": [
      "Epoch 95:  63%|██████▎   | 24/38 [00:00<00:00, 30.71batch/s, loss=25.0000]"
     ]
    },
    {
     "name": "stdout",
     "output_type": "stream",
     "text": [
      "DEBUG: scores.shape = torch.Size([8, 16])\n",
      "DEBUG: scores.shape = torch.Size([8, 16])\n",
      "DEBUG: scores.shape = torch.Size([8, 16])\n",
      "DEBUG: scores.shape = torch.Size([8, 16])\n",
      "DEBUG: scores.shape = torch.Size([8, 16])\n"
     ]
    },
    {
     "name": "stderr",
     "output_type": "stream",
     "text": [
      "Epoch 95:  63%|██████▎   | 24/38 [00:00<00:00, 30.71batch/s, loss=50.0000]"
     ]
    },
    {
     "name": "stdout",
     "output_type": "stream",
     "text": [
      "DEBUG: scores.shape = torch.Size([8, 16])\n",
      "DEBUG: scores.shape = torch.Size([8, 16])\n",
      "DEBUG: scores.shape = torch.Size([8, 16])\n"
     ]
    },
    {
     "name": "stderr",
     "output_type": "stream",
     "text": [
      "Epoch 95:  74%|███████▎  | 28/38 [00:01<00:00, 31.49batch/s, loss=37.5000]"
     ]
    },
    {
     "name": "stdout",
     "output_type": "stream",
     "text": [
      "DEBUG: scores.shape = torch.Size([8, 16])\n",
      "DEBUG: scores.shape = torch.Size([8, 16])\n",
      "DEBUG: scores.shape = torch.Size([8, 16])\n",
      "DEBUG: scores.shape = torch.Size([8, 16])\n"
     ]
    },
    {
     "name": "stderr",
     "output_type": "stream",
     "text": [
      "Epoch 95:  84%|████████▍ | 32/38 [00:01<00:00, 32.61batch/s, loss=50.0000]"
     ]
    },
    {
     "name": "stdout",
     "output_type": "stream",
     "text": [
      "DEBUG: scores.shape = torch.Size([8, 16])\n",
      "DEBUG: scores.shape = torch.Size([8, 16])\n",
      "DEBUG: scores.shape = torch.Size([8, 16])\n"
     ]
    },
    {
     "name": "stderr",
     "output_type": "stream",
     "text": [
      "Epoch 95: 100%|██████████| 38/38 [00:01<00:00, 32.45batch/s, loss=25.0000]\n"
     ]
    },
    {
     "name": "stdout",
     "output_type": "stream",
     "text": [
      "DEBUG: scores.shape = torch.Size([8, 16])\n",
      "DEBUG: scores.shape = torch.Size([8, 16])\n",
      "DEBUG: scores.shape = torch.Size([4, 16])\n",
      "Epoch 95, Loss: 49.6711\n"
     ]
    },
    {
     "name": "stderr",
     "output_type": "stream",
     "text": [
      "Epoch 96:   0%|          | 0/38 [00:00<?, ?batch/s, loss=37.5000]"
     ]
    },
    {
     "name": "stdout",
     "output_type": "stream",
     "text": [
      "DEBUG: scores.shape = torch.Size([8, 16])\n",
      "DEBUG: scores.shape = torch.Size([8, 16])\n"
     ]
    },
    {
     "name": "stderr",
     "output_type": "stream",
     "text": [
      "Epoch 96:   8%|▊         | 3/38 [00:00<00:01, 28.58batch/s, loss=37.5000]"
     ]
    },
    {
     "name": "stdout",
     "output_type": "stream",
     "text": [
      "DEBUG: scores.shape = torch.Size([8, 16])\n",
      "DEBUG: scores.shape = torch.Size([8, 16])\n"
     ]
    },
    {
     "name": "stderr",
     "output_type": "stream",
     "text": [
      "Epoch 96:  16%|█▌        | 6/38 [00:00<00:01, 29.17batch/s, loss=62.5000]"
     ]
    },
    {
     "name": "stdout",
     "output_type": "stream",
     "text": [
      "DEBUG: scores.shape = torch.Size([8, 16])\n",
      "DEBUG: scores.shape = torch.Size([8, 16])\n",
      "DEBUG: scores.shape = torch.Size([8, 16])\n"
     ]
    },
    {
     "name": "stderr",
     "output_type": "stream",
     "text": [
      "Epoch 96:  16%|█▌        | 6/38 [00:00<00:01, 29.17batch/s, loss=37.5000]"
     ]
    },
    {
     "name": "stdout",
     "output_type": "stream",
     "text": [
      "DEBUG: scores.shape = torch.Size([8, 16])\n",
      "DEBUG: scores.shape = torch.Size([8, 16])\n"
     ]
    },
    {
     "name": "stderr",
     "output_type": "stream",
     "text": [
      "Epoch 96:  26%|██▋       | 10/38 [00:00<00:00, 31.22batch/s, loss=25.0000]"
     ]
    },
    {
     "name": "stdout",
     "output_type": "stream",
     "text": [
      "DEBUG: scores.shape = torch.Size([8, 16])\n",
      "DEBUG: scores.shape = torch.Size([8, 16])\n"
     ]
    },
    {
     "name": "stderr",
     "output_type": "stream",
     "text": [
      "Epoch 96:  26%|██▋       | 10/38 [00:00<00:00, 31.22batch/s, loss=50.0000]"
     ]
    },
    {
     "name": "stdout",
     "output_type": "stream",
     "text": [
      "DEBUG: scores.shape = torch.Size([8, 16])\n",
      "DEBUG: scores.shape = torch.Size([8, 16])\n",
      "DEBUG: scores.shape = torch.Size([8, 16])\n"
     ]
    },
    {
     "name": "stderr",
     "output_type": "stream",
     "text": [
      "Epoch 96:  37%|███▋      | 14/38 [00:00<00:00, 31.65batch/s, loss=62.5000]"
     ]
    },
    {
     "name": "stdout",
     "output_type": "stream",
     "text": [
      "DEBUG: scores.shape = torch.Size([8, 16])\n",
      "DEBUG: scores.shape = torch.Size([8, 16])\n"
     ]
    },
    {
     "name": "stderr",
     "output_type": "stream",
     "text": [
      "Epoch 96:  37%|███▋      | 14/38 [00:00<00:00, 31.65batch/s, loss=75.0000]"
     ]
    },
    {
     "name": "stdout",
     "output_type": "stream",
     "text": [
      "DEBUG: scores.shape = torch.Size([8, 16])\n",
      "DEBUG: scores.shape = torch.Size([8, 16])\n"
     ]
    },
    {
     "name": "stderr",
     "output_type": "stream",
     "text": [
      "Epoch 96:  47%|████▋     | 18/38 [00:00<00:00, 31.58batch/s, loss=37.5000]"
     ]
    },
    {
     "name": "stdout",
     "output_type": "stream",
     "text": [
      "DEBUG: scores.shape = torch.Size([8, 16])\n",
      "DEBUG: scores.shape = torch.Size([8, 16])\n",
      "DEBUG: scores.shape = torch.Size([8, 16])\n"
     ]
    },
    {
     "name": "stderr",
     "output_type": "stream",
     "text": [
      "Epoch 96:  58%|█████▊    | 22/38 [00:00<00:00, 31.06batch/s, loss=37.5000]"
     ]
    },
    {
     "name": "stdout",
     "output_type": "stream",
     "text": [
      "DEBUG: scores.shape = torch.Size([8, 16])\n"
     ]
    },
    {
     "name": "stderr",
     "output_type": "stream",
     "text": [
      "Epoch 96:  58%|█████▊    | 22/38 [00:00<00:00, 31.06batch/s, loss=75.0000]"
     ]
    },
    {
     "name": "stdout",
     "output_type": "stream",
     "text": [
      "DEBUG: scores.shape = torch.Size([8, 16])\n",
      "DEBUG: scores.shape = torch.Size([8, 16])\n"
     ]
    },
    {
     "name": "stderr",
     "output_type": "stream",
     "text": [
      "Epoch 96:  68%|██████▊   | 26/38 [00:00<00:00, 30.87batch/s, loss=62.5000]"
     ]
    },
    {
     "name": "stdout",
     "output_type": "stream",
     "text": [
      "DEBUG: scores.shape = torch.Size([8, 16])\n",
      "DEBUG: scores.shape = torch.Size([8, 16])\n",
      "DEBUG: scores.shape = torch.Size([8, 16])\n"
     ]
    },
    {
     "name": "stderr",
     "output_type": "stream",
     "text": [
      "Epoch 96:  68%|██████▊   | 26/38 [00:00<00:00, 30.87batch/s, loss=37.5000]"
     ]
    },
    {
     "name": "stdout",
     "output_type": "stream",
     "text": [
      "DEBUG: scores.shape = torch.Size([8, 16])\n",
      "DEBUG: scores.shape = torch.Size([8, 16])\n"
     ]
    },
    {
     "name": "stderr",
     "output_type": "stream",
     "text": [
      "Epoch 96:  68%|██████▊   | 26/38 [00:00<00:00, 30.87batch/s, loss=62.5000]"
     ]
    },
    {
     "name": "stdout",
     "output_type": "stream",
     "text": [
      "DEBUG: scores.shape = torch.Size([8, 16])\n"
     ]
    },
    {
     "name": "stderr",
     "output_type": "stream",
     "text": [
      "Epoch 96:  79%|███████▉  | 30/38 [00:01<00:00, 29.85batch/s, loss=50.0000]"
     ]
    },
    {
     "name": "stdout",
     "output_type": "stream",
     "text": [
      "DEBUG: scores.shape = torch.Size([8, 16])\n",
      "DEBUG: scores.shape = torch.Size([8, 16])\n",
      "DEBUG: scores.shape = torch.Size([8, 16])\n"
     ]
    },
    {
     "name": "stderr",
     "output_type": "stream",
     "text": [
      "Epoch 96:  87%|████████▋ | 33/38 [00:01<00:00, 28.65batch/s, loss=50.0000]"
     ]
    },
    {
     "name": "stdout",
     "output_type": "stream",
     "text": [
      "DEBUG: scores.shape = torch.Size([8, 16])\n",
      "DEBUG: scores.shape = torch.Size([8, 16])\n",
      "DEBUG: scores.shape = torch.Size([8, 16])\n"
     ]
    },
    {
     "name": "stderr",
     "output_type": "stream",
     "text": [
      "Epoch 96: 100%|██████████| 38/38 [00:01<00:00, 30.49batch/s, loss=50.0000]\n"
     ]
    },
    {
     "name": "stdout",
     "output_type": "stream",
     "text": [
      "DEBUG: scores.shape = torch.Size([8, 16])\n",
      "DEBUG: scores.shape = torch.Size([4, 16])\n",
      "Epoch 96, Loss: 50.0000\n"
     ]
    },
    {
     "name": "stderr",
     "output_type": "stream",
     "text": [
      "Epoch 97:   0%|          | 0/38 [00:00<?, ?batch/s, loss=62.5000]"
     ]
    },
    {
     "name": "stdout",
     "output_type": "stream",
     "text": [
      "DEBUG: scores.shape = torch.Size([8, 16])\n",
      "DEBUG: scores.shape = torch.Size([8, 16])\n"
     ]
    },
    {
     "name": "stderr",
     "output_type": "stream",
     "text": [
      "Epoch 97:   8%|▊         | 3/38 [00:00<00:01, 29.92batch/s, loss=50.0000]"
     ]
    },
    {
     "name": "stdout",
     "output_type": "stream",
     "text": [
      "DEBUG: scores.shape = torch.Size([8, 16])\n",
      "DEBUG: scores.shape = torch.Size([8, 16])\n"
     ]
    },
    {
     "name": "stderr",
     "output_type": "stream",
     "text": [
      "Epoch 97:   8%|▊         | 3/38 [00:00<00:01, 29.92batch/s, loss=25.0000]"
     ]
    },
    {
     "name": "stdout",
     "output_type": "stream",
     "text": [
      "DEBUG: scores.shape = torch.Size([8, 16])\n"
     ]
    },
    {
     "name": "stderr",
     "output_type": "stream",
     "text": [
      "Epoch 97:   8%|▊         | 3/38 [00:00<00:01, 29.92batch/s, loss=50.0000]"
     ]
    },
    {
     "name": "stdout",
     "output_type": "stream",
     "text": [
      "DEBUG: scores.shape = torch.Size([8, 16])\n"
     ]
    },
    {
     "name": "stderr",
     "output_type": "stream",
     "text": [
      "Epoch 97:  16%|█▌        | 6/38 [00:00<00:01, 29.63batch/s, loss=62.5000]"
     ]
    },
    {
     "name": "stdout",
     "output_type": "stream",
     "text": [
      "DEBUG: scores.shape = torch.Size([8, 16])\n",
      "DEBUG: scores.shape = torch.Size([8, 16])\n",
      "DEBUG: scores.shape = torch.Size([8, 16])\n"
     ]
    },
    {
     "name": "stderr",
     "output_type": "stream",
     "text": [
      "Epoch 97:  16%|█▌        | 6/38 [00:00<00:01, 29.63batch/s, loss=50.0000]"
     ]
    },
    {
     "name": "stdout",
     "output_type": "stream",
     "text": [
      "DEBUG: scores.shape = torch.Size([8, 16])\n"
     ]
    },
    {
     "name": "stderr",
     "output_type": "stream",
     "text": [
      "Epoch 97:  26%|██▋       | 10/38 [00:00<00:00, 30.05batch/s, loss=75.0000]"
     ]
    },
    {
     "name": "stdout",
     "output_type": "stream",
     "text": [
      "DEBUG: scores.shape = torch.Size([8, 16])\n",
      "DEBUG: scores.shape = torch.Size([8, 16])\n"
     ]
    },
    {
     "name": "stderr",
     "output_type": "stream",
     "text": [
      "Epoch 97:  26%|██▋       | 10/38 [00:00<00:00, 30.05batch/s, loss=62.5000]"
     ]
    },
    {
     "name": "stdout",
     "output_type": "stream",
     "text": [
      "DEBUG: scores.shape = torch.Size([8, 16])\n"
     ]
    },
    {
     "name": "stderr",
     "output_type": "stream",
     "text": [
      "Epoch 97:  34%|███▍      | 13/38 [00:00<00:00, 29.64batch/s, loss=50.0000]"
     ]
    },
    {
     "name": "stdout",
     "output_type": "stream",
     "text": [
      "DEBUG: scores.shape = torch.Size([8, 16])\n",
      "DEBUG: scores.shape = torch.Size([8, 16])\n",
      "DEBUG: scores.shape = torch.Size([8, 16])\n",
      "DEBUG: scores.shape = torch.Size([8, 16])\n"
     ]
    },
    {
     "name": "stderr",
     "output_type": "stream",
     "text": [
      "Epoch 97:  45%|████▍     | 17/38 [00:00<00:00, 30.61batch/s, loss=37.5000]"
     ]
    },
    {
     "name": "stdout",
     "output_type": "stream",
     "text": [
      "DEBUG: scores.shape = torch.Size([8, 16])\n",
      "DEBUG: scores.shape = torch.Size([8, 16])\n"
     ]
    },
    {
     "name": "stderr",
     "output_type": "stream",
     "text": [
      "Epoch 97:  45%|████▍     | 17/38 [00:00<00:00, 30.61batch/s, loss=62.5000]"
     ]
    },
    {
     "name": "stdout",
     "output_type": "stream",
     "text": [
      "DEBUG: scores.shape = torch.Size([8, 16])\n"
     ]
    },
    {
     "name": "stderr",
     "output_type": "stream",
     "text": [
      "Epoch 97:  55%|█████▌    | 21/38 [00:00<00:00, 29.58batch/s, loss=12.5000]"
     ]
    },
    {
     "name": "stdout",
     "output_type": "stream",
     "text": [
      "DEBUG: scores.shape = torch.Size([8, 16])\n",
      "DEBUG: scores.shape = torch.Size([8, 16])\n",
      "DEBUG: scores.shape = torch.Size([8, 16])\n"
     ]
    },
    {
     "name": "stderr",
     "output_type": "stream",
     "text": [
      "Epoch 97:  63%|██████▎   | 24/38 [00:00<00:00, 28.46batch/s, loss=50.0000]"
     ]
    },
    {
     "name": "stdout",
     "output_type": "stream",
     "text": [
      "DEBUG: scores.shape = torch.Size([8, 16])\n",
      "DEBUG: scores.shape = torch.Size([8, 16])\n",
      "DEBUG: scores.shape = torch.Size([8, 16])\n"
     ]
    },
    {
     "name": "stderr",
     "output_type": "stream",
     "text": [
      "Epoch 97:  71%|███████   | 27/38 [00:00<00:00, 28.73batch/s, loss=37.5000]"
     ]
    },
    {
     "name": "stdout",
     "output_type": "stream",
     "text": [
      "DEBUG: scores.shape = torch.Size([8, 16])\n",
      "DEBUG: scores.shape = torch.Size([8, 16])\n",
      "DEBUG: scores.shape = torch.Size([8, 16])\n"
     ]
    },
    {
     "name": "stderr",
     "output_type": "stream",
     "text": [
      "Epoch 97:  79%|███████▉  | 30/38 [00:01<00:00, 27.19batch/s, loss=25.0000]"
     ]
    },
    {
     "name": "stdout",
     "output_type": "stream",
     "text": [
      "DEBUG: scores.shape = torch.Size([8, 16])\n",
      "DEBUG: scores.shape = torch.Size([8, 16])\n",
      "DEBUG: scores.shape = torch.Size([8, 16])\n"
     ]
    },
    {
     "name": "stderr",
     "output_type": "stream",
     "text": [
      "Epoch 97:  87%|████████▋ | 33/38 [00:01<00:00, 27.69batch/s, loss=62.5000]"
     ]
    },
    {
     "name": "stdout",
     "output_type": "stream",
     "text": [
      "DEBUG: scores.shape = torch.Size([8, 16])\n",
      "DEBUG: scores.shape = torch.Size([8, 16])\n"
     ]
    },
    {
     "name": "stderr",
     "output_type": "stream",
     "text": [
      "Epoch 97:  87%|████████▋ | 33/38 [00:01<00:00, 27.69batch/s, loss=75.0000]"
     ]
    },
    {
     "name": "stdout",
     "output_type": "stream",
     "text": [
      "DEBUG: scores.shape = torch.Size([8, 16])\n"
     ]
    },
    {
     "name": "stderr",
     "output_type": "stream",
     "text": [
      "Epoch 97:  97%|█████████▋| 37/38 [00:01<00:00, 28.93batch/s, loss=75.0000]"
     ]
    },
    {
     "name": "stdout",
     "output_type": "stream",
     "text": [
      "DEBUG: scores.shape = torch.Size([8, 16])\n",
      "DEBUG: scores.shape = torch.Size([8, 16])\n",
      "DEBUG: scores.shape = torch.Size([4, 16])\n"
     ]
    },
    {
     "name": "stderr",
     "output_type": "stream",
     "text": [
      "Epoch 97: 100%|██████████| 38/38 [00:01<00:00, 29.13batch/s, loss=75.0000]\n"
     ]
    },
    {
     "name": "stdout",
     "output_type": "stream",
     "text": [
      "Epoch 97, Loss: 50.3289\n"
     ]
    },
    {
     "name": "stderr",
     "output_type": "stream",
     "text": [
      "Epoch 98:   0%|          | 0/38 [00:00<?, ?batch/s]"
     ]
    },
    {
     "name": "stdout",
     "output_type": "stream",
     "text": [
      "DEBUG: scores.shape = torch.Size([8, 16])\n"
     ]
    },
    {
     "name": "stderr",
     "output_type": "stream",
     "text": [
      "Epoch 98:   0%|          | 0/38 [00:00<?, ?batch/s, loss=37.5000]"
     ]
    },
    {
     "name": "stdout",
     "output_type": "stream",
     "text": [
      "DEBUG: scores.shape = torch.Size([8, 16])\n",
      "DEBUG: scores.shape = torch.Size([8, 16])\n"
     ]
    },
    {
     "name": "stderr",
     "output_type": "stream",
     "text": [
      "Epoch 98:   8%|▊         | 3/38 [00:00<00:01, 29.31batch/s, loss=37.5000]"
     ]
    },
    {
     "name": "stdout",
     "output_type": "stream",
     "text": [
      "DEBUG: scores.shape = torch.Size([8, 16])\n"
     ]
    },
    {
     "name": "stderr",
     "output_type": "stream",
     "text": [
      "Epoch 98:   8%|▊         | 3/38 [00:00<00:01, 29.31batch/s, loss=37.5000]"
     ]
    },
    {
     "name": "stdout",
     "output_type": "stream",
     "text": [
      "DEBUG: scores.shape = torch.Size([8, 16])\n",
      "DEBUG: scores.shape = torch.Size([8, 16])\n"
     ]
    },
    {
     "name": "stderr",
     "output_type": "stream",
     "text": [
      "Epoch 98:  16%|█▌        | 6/38 [00:00<00:01, 28.89batch/s, loss=62.5000]"
     ]
    },
    {
     "name": "stdout",
     "output_type": "stream",
     "text": [
      "DEBUG: scores.shape = torch.Size([8, 16])\n"
     ]
    },
    {
     "name": "stderr",
     "output_type": "stream",
     "text": [
      "Epoch 98:  16%|█▌        | 6/38 [00:00<00:01, 28.89batch/s, loss=25.0000]"
     ]
    },
    {
     "name": "stdout",
     "output_type": "stream",
     "text": [
      "DEBUG: scores.shape = torch.Size([8, 16])\n",
      "DEBUG: scores.shape = torch.Size([8, 16])\n"
     ]
    },
    {
     "name": "stderr",
     "output_type": "stream",
     "text": [
      "Epoch 98:  24%|██▎       | 9/38 [00:00<00:01, 28.24batch/s, loss=25.0000]"
     ]
    },
    {
     "name": "stdout",
     "output_type": "stream",
     "text": [
      "DEBUG: scores.shape = torch.Size([8, 16])\n"
     ]
    },
    {
     "name": "stderr",
     "output_type": "stream",
     "text": [
      "Epoch 98:  24%|██▎       | 9/38 [00:00<00:01, 28.24batch/s, loss=37.5000]"
     ]
    },
    {
     "name": "stdout",
     "output_type": "stream",
     "text": [
      "DEBUG: scores.shape = torch.Size([8, 16])\n",
      "DEBUG: scores.shape = torch.Size([8, 16])\n"
     ]
    },
    {
     "name": "stderr",
     "output_type": "stream",
     "text": [
      "Epoch 98:  32%|███▏      | 12/38 [00:00<00:00, 27.53batch/s, loss=37.5000]"
     ]
    },
    {
     "name": "stdout",
     "output_type": "stream",
     "text": [
      "DEBUG: scores.shape = torch.Size([8, 16])\n"
     ]
    },
    {
     "name": "stderr",
     "output_type": "stream",
     "text": [
      "Epoch 98:  39%|███▉      | 15/38 [00:00<00:00, 28.36batch/s, loss=62.5000]"
     ]
    },
    {
     "name": "stdout",
     "output_type": "stream",
     "text": [
      "DEBUG: scores.shape = torch.Size([8, 16])\n",
      "DEBUG: scores.shape = torch.Size([8, 16])\n",
      "DEBUG: scores.shape = torch.Size([8, 16])\n"
     ]
    },
    {
     "name": "stderr",
     "output_type": "stream",
     "text": [
      "Epoch 98:  39%|███▉      | 15/38 [00:00<00:00, 28.36batch/s, loss=62.5000]"
     ]
    },
    {
     "name": "stdout",
     "output_type": "stream",
     "text": [
      "DEBUG: scores.shape = torch.Size([8, 16])\n"
     ]
    },
    {
     "name": "stderr",
     "output_type": "stream",
     "text": [
      "Epoch 98:  39%|███▉      | 15/38 [00:00<00:00, 28.36batch/s, loss=50.0000]"
     ]
    },
    {
     "name": "stdout",
     "output_type": "stream",
     "text": [
      "DEBUG: scores.shape = torch.Size([8, 16])\n"
     ]
    },
    {
     "name": "stderr",
     "output_type": "stream",
     "text": [
      "Epoch 98:  47%|████▋     | 18/38 [00:00<00:00, 28.89batch/s, loss=62.5000]"
     ]
    },
    {
     "name": "stdout",
     "output_type": "stream",
     "text": [
      "DEBUG: scores.shape = torch.Size([8, 16])\n"
     ]
    },
    {
     "name": "stderr",
     "output_type": "stream",
     "text": [
      "Epoch 98:  47%|████▋     | 18/38 [00:00<00:00, 28.89batch/s, loss=50.0000]"
     ]
    },
    {
     "name": "stdout",
     "output_type": "stream",
     "text": [
      "DEBUG: scores.shape = torch.Size([8, 16])\n",
      "DEBUG: scores.shape = torch.Size([8, 16])\n",
      "DEBUG: scores.shape = torch.Size([8, 16])\n"
     ]
    },
    {
     "name": "stderr",
     "output_type": "stream",
     "text": [
      "Epoch 98:  58%|█████▊    | 22/38 [00:00<00:00, 26.68batch/s, loss=62.5000]"
     ]
    },
    {
     "name": "stdout",
     "output_type": "stream",
     "text": [
      "DEBUG: scores.shape = torch.Size([8, 16])\n",
      "DEBUG: scores.shape = torch.Size([8, 16])\n"
     ]
    },
    {
     "name": "stderr",
     "output_type": "stream",
     "text": [
      "Epoch 98:  66%|██████▌   | 25/38 [00:01<00:00, 27.08batch/s, loss=75.0000]"
     ]
    },
    {
     "name": "stdout",
     "output_type": "stream",
     "text": [
      "DEBUG: scores.shape = torch.Size([8, 16])\n",
      "DEBUG: scores.shape = torch.Size([8, 16])\n",
      "DEBUG: scores.shape = torch.Size([8, 16])\n",
      "DEBUG: scores.shape = torch.Size([8, 16])\n"
     ]
    },
    {
     "name": "stderr",
     "output_type": "stream",
     "text": [
      "Epoch 98:  74%|███████▎  | 28/38 [00:01<00:00, 27.42batch/s, loss=50.0000]"
     ]
    },
    {
     "name": "stdout",
     "output_type": "stream",
     "text": [
      "DEBUG: scores.shape = torch.Size([8, 16])\n",
      "DEBUG: scores.shape = torch.Size([8, 16])\n"
     ]
    },
    {
     "name": "stderr",
     "output_type": "stream",
     "text": [
      "Epoch 98:  82%|████████▏ | 31/38 [00:01<00:00, 27.87batch/s, loss=62.5000]"
     ]
    },
    {
     "name": "stdout",
     "output_type": "stream",
     "text": [
      "DEBUG: scores.shape = torch.Size([8, 16])\n",
      "DEBUG: scores.shape = torch.Size([8, 16])\n",
      "DEBUG: scores.shape = torch.Size([8, 16])\n",
      "DEBUG: scores.shape = torch.Size([8, 16])\n"
     ]
    },
    {
     "name": "stderr",
     "output_type": "stream",
     "text": [
      "Epoch 98:  92%|█████████▏| 35/38 [00:01<00:00, 29.50batch/s, loss=50.0000]"
     ]
    },
    {
     "name": "stdout",
     "output_type": "stream",
     "text": [
      "DEBUG: scores.shape = torch.Size([8, 16])\n",
      "DEBUG: scores.shape = torch.Size([8, 16])\n",
      "DEBUG: scores.shape = torch.Size([8, 16])\n"
     ]
    },
    {
     "name": "stderr",
     "output_type": "stream",
     "text": [
      "Epoch 98: 100%|██████████| 38/38 [00:01<00:00, 28.36batch/s, loss=75.0000]\n"
     ]
    },
    {
     "name": "stdout",
     "output_type": "stream",
     "text": [
      "DEBUG: scores.shape = torch.Size([4, 16])\n",
      "Epoch 98, Loss: 50.3289\n"
     ]
    },
    {
     "name": "stderr",
     "output_type": "stream",
     "text": [
      "Epoch 99:   0%|          | 0/38 [00:00<?, ?batch/s, loss=50.0000]"
     ]
    },
    {
     "name": "stdout",
     "output_type": "stream",
     "text": [
      "DEBUG: scores.shape = torch.Size([8, 16])\n",
      "DEBUG: scores.shape = torch.Size([8, 16])\n"
     ]
    },
    {
     "name": "stderr",
     "output_type": "stream",
     "text": [
      "Epoch 99:   8%|▊         | 3/38 [00:00<00:01, 28.35batch/s, loss=37.5000]"
     ]
    },
    {
     "name": "stdout",
     "output_type": "stream",
     "text": [
      "DEBUG: scores.shape = torch.Size([8, 16])\n",
      "DEBUG: scores.shape = torch.Size([8, 16])\n",
      "DEBUG: scores.shape = torch.Size([8, 16])\n"
     ]
    },
    {
     "name": "stderr",
     "output_type": "stream",
     "text": [
      "Epoch 99:   8%|▊         | 3/38 [00:00<00:01, 28.35batch/s, loss=50.0000]"
     ]
    },
    {
     "name": "stdout",
     "output_type": "stream",
     "text": [
      "DEBUG: scores.shape = torch.Size([8, 16])\n"
     ]
    },
    {
     "name": "stderr",
     "output_type": "stream",
     "text": [
      "Epoch 99:  16%|█▌        | 6/38 [00:00<00:01, 27.43batch/s, loss=75.0000]"
     ]
    },
    {
     "name": "stdout",
     "output_type": "stream",
     "text": [
      "DEBUG: scores.shape = torch.Size([8, 16])\n",
      "DEBUG: scores.shape = torch.Size([8, 16])\n"
     ]
    },
    {
     "name": "stderr",
     "output_type": "stream",
     "text": [
      "Epoch 99:  24%|██▎       | 9/38 [00:00<00:01, 27.25batch/s, loss=62.5000]"
     ]
    },
    {
     "name": "stdout",
     "output_type": "stream",
     "text": [
      "DEBUG: scores.shape = torch.Size([8, 16])\n",
      "DEBUG: scores.shape = torch.Size([8, 16])\n",
      "DEBUG: scores.shape = torch.Size([8, 16])\n",
      "DEBUG: scores.shape = torch.Size([8, 16])\n"
     ]
    },
    {
     "name": "stderr",
     "output_type": "stream",
     "text": [
      "Epoch 99:  32%|███▏      | 12/38 [00:00<00:00, 27.54batch/s, loss=62.5000]"
     ]
    },
    {
     "name": "stdout",
     "output_type": "stream",
     "text": [
      "DEBUG: scores.shape = torch.Size([8, 16])\n",
      "DEBUG: scores.shape = torch.Size([8, 16])\n"
     ]
    },
    {
     "name": "stderr",
     "output_type": "stream",
     "text": [
      "Epoch 99:  42%|████▏     | 16/38 [00:00<00:00, 28.64batch/s, loss=75.0000]"
     ]
    },
    {
     "name": "stdout",
     "output_type": "stream",
     "text": [
      "DEBUG: scores.shape = torch.Size([8, 16])\n",
      "DEBUG: scores.shape = torch.Size([8, 16])\n",
      "DEBUG: scores.shape = torch.Size([8, 16])\n",
      "DEBUG: scores.shape = torch.Size([8, 16])\n",
      "DEBUG: scores.shape = torch.Size([8, 16])\n"
     ]
    },
    {
     "name": "stderr",
     "output_type": "stream",
     "text": [
      "Epoch 99:  42%|████▏     | 16/38 [00:00<00:00, 28.64batch/s, loss=62.5000]"
     ]
    },
    {
     "name": "stdout",
     "output_type": "stream",
     "text": [
      "DEBUG: scores.shape = torch.Size([8, 16])\n"
     ]
    },
    {
     "name": "stderr",
     "output_type": "stream",
     "text": [
      "Epoch 99:  61%|██████    | 23/38 [00:00<00:00, 29.49batch/s, loss=50.0000]"
     ]
    },
    {
     "name": "stdout",
     "output_type": "stream",
     "text": [
      "DEBUG: scores.shape = torch.Size([8, 16])\n",
      "DEBUG: scores.shape = torch.Size([8, 16])\n",
      "DEBUG: scores.shape = torch.Size([8, 16])\n",
      "DEBUG: scores.shape = torch.Size([8, 16])\n"
     ]
    },
    {
     "name": "stderr",
     "output_type": "stream",
     "text": [
      "Epoch 99:  61%|██████    | 23/38 [00:00<00:00, 29.49batch/s, loss=50.0000]"
     ]
    },
    {
     "name": "stdout",
     "output_type": "stream",
     "text": [
      "DEBUG: scores.shape = torch.Size([8, 16])\n",
      "DEBUG: scores.shape = torch.Size([8, 16])\n"
     ]
    },
    {
     "name": "stderr",
     "output_type": "stream",
     "text": [
      "Epoch 99:  61%|██████    | 23/38 [00:00<00:00, 29.49batch/s, loss=37.5000]"
     ]
    },
    {
     "name": "stdout",
     "output_type": "stream",
     "text": [
      "DEBUG: scores.shape = torch.Size([8, 16])\n"
     ]
    },
    {
     "name": "stderr",
     "output_type": "stream",
     "text": [
      "Epoch 99:  71%|███████   | 27/38 [00:01<00:00, 30.35batch/s, loss=37.5000]"
     ]
    },
    {
     "name": "stdout",
     "output_type": "stream",
     "text": [
      "DEBUG: scores.shape = torch.Size([8, 16])\n",
      "DEBUG: scores.shape = torch.Size([8, 16])\n",
      "DEBUG: scores.shape = torch.Size([8, 16])\n",
      "DEBUG: scores.shape = torch.Size([8, 16])\n"
     ]
    },
    {
     "name": "stderr",
     "output_type": "stream",
     "text": [
      "Epoch 99:  82%|████████▏ | 31/38 [00:01<00:00, 31.05batch/s, loss=50.0000]"
     ]
    },
    {
     "name": "stdout",
     "output_type": "stream",
     "text": [
      "DEBUG: scores.shape = torch.Size([8, 16])\n",
      "DEBUG: scores.shape = torch.Size([8, 16])\n"
     ]
    },
    {
     "name": "stderr",
     "output_type": "stream",
     "text": [
      "Epoch 99:  82%|████████▏ | 31/38 [00:01<00:00, 31.05batch/s, loss=62.5000]"
     ]
    },
    {
     "name": "stdout",
     "output_type": "stream",
     "text": [
      "DEBUG: scores.shape = torch.Size([8, 16])\n"
     ]
    },
    {
     "name": "stderr",
     "output_type": "stream",
     "text": [
      "Epoch 99: 100%|██████████| 38/38 [00:01<00:00, 30.52batch/s, loss=75.0000]\n"
     ]
    },
    {
     "name": "stdout",
     "output_type": "stream",
     "text": [
      "DEBUG: scores.shape = torch.Size([8, 16])\n",
      "DEBUG: scores.shape = torch.Size([8, 16])\n",
      "DEBUG: scores.shape = torch.Size([8, 16])\n",
      "DEBUG: scores.shape = torch.Size([4, 16])\n",
      "Epoch 99, Loss: 50.3289\n"
     ]
    },
    {
     "name": "stderr",
     "output_type": "stream",
     "text": [
      "Epoch 100:   0%|          | 0/38 [00:00<?, ?batch/s]"
     ]
    },
    {
     "name": "stdout",
     "output_type": "stream",
     "text": [
      "DEBUG: scores.shape = torch.Size([8, 16])\n"
     ]
    },
    {
     "name": "stderr",
     "output_type": "stream",
     "text": [
      "Epoch 100:   0%|          | 0/38 [00:00<?, ?batch/s, loss=62.5000]"
     ]
    },
    {
     "name": "stdout",
     "output_type": "stream",
     "text": [
      "DEBUG: scores.shape = torch.Size([8, 16])\n"
     ]
    },
    {
     "name": "stderr",
     "output_type": "stream",
     "text": [
      "Epoch 100:   0%|          | 0/38 [00:00<?, ?batch/s, loss=37.5000]"
     ]
    },
    {
     "name": "stdout",
     "output_type": "stream",
     "text": [
      "DEBUG: scores.shape = torch.Size([8, 16])\n"
     ]
    },
    {
     "name": "stderr",
     "output_type": "stream",
     "text": [
      "Epoch 100:  11%|█         | 4/38 [00:00<00:01, 29.70batch/s, loss=50.0000]"
     ]
    },
    {
     "name": "stdout",
     "output_type": "stream",
     "text": [
      "DEBUG: scores.shape = torch.Size([8, 16])\n",
      "DEBUG: scores.shape = torch.Size([8, 16])\n",
      "DEBUG: scores.shape = torch.Size([8, 16])\n",
      "DEBUG: scores.shape = torch.Size([8, 16])\n"
     ]
    },
    {
     "name": "stderr",
     "output_type": "stream",
     "text": [
      "Epoch 100:  11%|█         | 4/38 [00:00<00:01, 29.70batch/s, loss=62.5000]"
     ]
    },
    {
     "name": "stdout",
     "output_type": "stream",
     "text": [
      "DEBUG: scores.shape = torch.Size([8, 16])\n"
     ]
    },
    {
     "name": "stderr",
     "output_type": "stream",
     "text": [
      "Epoch 100:  21%|██        | 8/38 [00:00<00:00, 32.16batch/s, loss=37.5000]"
     ]
    },
    {
     "name": "stdout",
     "output_type": "stream",
     "text": [
      "DEBUG: scores.shape = torch.Size([8, 16])\n"
     ]
    },
    {
     "name": "stderr",
     "output_type": "stream",
     "text": [
      "Epoch 100:  21%|██        | 8/38 [00:00<00:00, 32.16batch/s, loss=62.5000]"
     ]
    },
    {
     "name": "stdout",
     "output_type": "stream",
     "text": [
      "DEBUG: scores.shape = torch.Size([8, 16])\n"
     ]
    },
    {
     "name": "stderr",
     "output_type": "stream",
     "text": [
      "Epoch 100:  32%|███▏      | 12/38 [00:00<00:00, 30.44batch/s, loss=12.5000]"
     ]
    },
    {
     "name": "stdout",
     "output_type": "stream",
     "text": [
      "DEBUG: scores.shape = torch.Size([8, 16])\n",
      "DEBUG: scores.shape = torch.Size([8, 16])\n",
      "DEBUG: scores.shape = torch.Size([8, 16])\n",
      "DEBUG: scores.shape = torch.Size([8, 16])\n"
     ]
    },
    {
     "name": "stderr",
     "output_type": "stream",
     "text": [
      "Epoch 100:  32%|███▏      | 12/38 [00:00<00:00, 30.44batch/s, loss=50.0000]"
     ]
    },
    {
     "name": "stdout",
     "output_type": "stream",
     "text": [
      "DEBUG: scores.shape = torch.Size([8, 16])\n",
      "DEBUG: scores.shape = torch.Size([8, 16])\n"
     ]
    },
    {
     "name": "stderr",
     "output_type": "stream",
     "text": [
      "Epoch 100:  50%|█████     | 19/38 [00:00<00:00, 29.48batch/s, loss=50.0000]"
     ]
    },
    {
     "name": "stdout",
     "output_type": "stream",
     "text": [
      "DEBUG: scores.shape = torch.Size([8, 16])\n",
      "DEBUG: scores.shape = torch.Size([8, 16])\n",
      "DEBUG: scores.shape = torch.Size([8, 16])\n",
      "DEBUG: scores.shape = torch.Size([8, 16])\n"
     ]
    },
    {
     "name": "stderr",
     "output_type": "stream",
     "text": [
      "Epoch 100:  50%|█████     | 19/38 [00:00<00:00, 29.48batch/s, loss=50.0000]"
     ]
    },
    {
     "name": "stdout",
     "output_type": "stream",
     "text": [
      "DEBUG: scores.shape = torch.Size([8, 16])\n",
      "DEBUG: scores.shape = torch.Size([8, 16])\n"
     ]
    },
    {
     "name": "stderr",
     "output_type": "stream",
     "text": [
      "Epoch 100:  50%|█████     | 19/38 [00:00<00:00, 29.48batch/s, loss=12.5000]"
     ]
    },
    {
     "name": "stdout",
     "output_type": "stream",
     "text": [
      "DEBUG: scores.shape = torch.Size([8, 16])\n"
     ]
    },
    {
     "name": "stderr",
     "output_type": "stream",
     "text": [
      "Epoch 100:  61%|██████    | 23/38 [00:00<00:00, 30.69batch/s, loss=75.0000]"
     ]
    },
    {
     "name": "stdout",
     "output_type": "stream",
     "text": [
      "DEBUG: scores.shape = torch.Size([8, 16])\n",
      "DEBUG: scores.shape = torch.Size([8, 16])\n",
      "DEBUG: scores.shape = torch.Size([8, 16])\n"
     ]
    },
    {
     "name": "stderr",
     "output_type": "stream",
     "text": [
      "Epoch 100:  71%|███████   | 27/38 [00:00<00:00, 29.05batch/s, loss=75.0000]"
     ]
    },
    {
     "name": "stdout",
     "output_type": "stream",
     "text": [
      "DEBUG: scores.shape = torch.Size([8, 16])\n",
      "DEBUG: scores.shape = torch.Size([8, 16])\n"
     ]
    },
    {
     "name": "stderr",
     "output_type": "stream",
     "text": [
      "Epoch 100:  71%|███████   | 27/38 [00:00<00:00, 29.05batch/s, loss=50.0000]"
     ]
    },
    {
     "name": "stdout",
     "output_type": "stream",
     "text": [
      "DEBUG: scores.shape = torch.Size([8, 16])\n"
     ]
    },
    {
     "name": "stderr",
     "output_type": "stream",
     "text": [
      "Epoch 100:  82%|████████▏ | 31/38 [00:01<00:00, 29.87batch/s, loss=37.5000]"
     ]
    },
    {
     "name": "stdout",
     "output_type": "stream",
     "text": [
      "DEBUG: scores.shape = torch.Size([8, 16])\n",
      "DEBUG: scores.shape = torch.Size([8, 16])\n",
      "DEBUG: scores.shape = torch.Size([8, 16])\n"
     ]
    },
    {
     "name": "stderr",
     "output_type": "stream",
     "text": [
      "Epoch 100:  82%|████████▏ | 31/38 [00:01<00:00, 29.87batch/s, loss=62.5000]"
     ]
    },
    {
     "name": "stdout",
     "output_type": "stream",
     "text": [
      "DEBUG: scores.shape = torch.Size([8, 16])\n",
      "DEBUG: scores.shape = torch.Size([8, 16])\n"
     ]
    },
    {
     "name": "stderr",
     "output_type": "stream",
     "text": [
      "Epoch 100:  92%|█████████▏| 35/38 [00:01<00:00, 29.97batch/s, loss=50.0000]"
     ]
    },
    {
     "name": "stdout",
     "output_type": "stream",
     "text": [
      "DEBUG: scores.shape = torch.Size([8, 16])\n",
      "DEBUG: scores.shape = torch.Size([8, 16])\n"
     ]
    },
    {
     "name": "stderr",
     "output_type": "stream",
     "text": [
      "Epoch 100: 100%|██████████| 38/38 [00:01<00:00, 30.37batch/s, loss=0.0000] "
     ]
    },
    {
     "name": "stdout",
     "output_type": "stream",
     "text": [
      "DEBUG: scores.shape = torch.Size([8, 16])\n",
      "DEBUG: scores.shape = torch.Size([4, 16])\n",
      "Epoch 100, Loss: 49.3421\n"
     ]
    },
    {
     "name": "stderr",
     "output_type": "stream",
     "text": [
      "\n"
     ]
    }
   ],
   "source": [
    "# Phase 2: Supervised Training with Progress Bar\n",
    "print(\"Fine-tuning...\")\n",
    "model.train()\n",
    "criterion = nn.BCELoss()\n",
    "\n",
    "for epoch in range(100):\n",
    "    total_loss = 0\n",
    "    progress_bar = tqdm(train_loader, desc=f\"Epoch {epoch+1}\", unit=\"batch\")\n",
    "    \n",
    "    for images, labels in progress_bar:\n",
    "        images, labels = images.to(DEVICE), labels.float().to(DEVICE)\n",
    "        \n",
    "        optimizer.zero_grad()\n",
    "        outputs = model(images)\n",
    "        loss = criterion(outputs, labels)\n",
    "        \n",
    "        # Simplified Hebbian-inspired update\n",
    "        loss.backward()\n",
    "        \n",
    "        # Apply sparsity mask to gradients\n",
    "        with torch.no_grad():\n",
    "            for name, param in model.named_parameters():\n",
    "                if \"conv1.weight\" in name and param.grad is not None:  # ✅ Check if grad exists\n",
    "                    grad_mask = (param != 0).float()\n",
    "                    param.grad *= grad_mask  # Only apply mask if grad is not None\n",
    "        \n",
    "        optimizer.step()\n",
    "        total_loss += loss.item()\n",
    "        \n",
    "        # Update progress bar with current loss\n",
    "        progress_bar.set_postfix(loss=f\"{loss.item():.4f}\")\n",
    "    \n",
    "    print(f\"Epoch {epoch+1}, Loss: {total_loss/len(train_loader):.4f}\")"
   ]
  },
  {
   "cell_type": "code",
   "execution_count": 30,
   "metadata": {},
   "outputs": [
    {
     "name": "stdout",
     "output_type": "stream",
     "text": [
      "DEBUG: scores.shape = torch.Size([16])\n",
      "Cat\n"
     ]
    }
   ],
   "source": [
    "def predict_cat(image_path):\n",
    "    img = Image.open(image_path).convert(\"RGB\")\n",
    "    img_tensor = transform(img).unsqueeze(0).to(DEVICE)  # Ensure batch dimension (1, C, H, W)\n",
    "    \n",
    "    model.eval()\n",
    "    with torch.no_grad():\n",
    "        prob = model(img_tensor).item()\n",
    "    \n",
    "    return \"Cat\" if prob > 0.5 else \"Non-Cat\"\n",
    "\n",
    "# Example Prediction\n",
    "print(predict_cat(\"./tmp/ct1.jpg\"))"
   ]
  }
 ],
 "metadata": {
  "kernelspec": {
   "display_name": "DeepLearn",
   "language": "python",
   "name": "python3"
  },
  "language_info": {
   "codemirror_mode": {
    "name": "ipython",
    "version": 3
   },
   "file_extension": ".py",
   "mimetype": "text/x-python",
   "name": "python",
   "nbconvert_exporter": "python",
   "pygments_lexer": "ipython3",
   "version": "3.9.20"
  }
 },
 "nbformat": 4,
 "nbformat_minor": 2
}
